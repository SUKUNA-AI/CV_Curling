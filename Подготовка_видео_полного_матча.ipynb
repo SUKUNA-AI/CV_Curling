{
  "nbformat": 4,
  "nbformat_minor": 0,
  "metadata": {
    "colab": {
      "provenance": [],
      "gpuType": "V28"
    },
    "kernelspec": {
      "name": "python3",
      "display_name": "Python 3"
    },
    "language_info": {
      "name": "python"
    },
    "accelerator": "TPU"
  },
  "cells": [
    {
      "cell_type": "code",
      "source": [
        "!pip install ffmpeg-python tqdm"
      ],
      "metadata": {
        "colab": {
          "base_uri": "https://localhost:8080/"
        },
        "id": "f9NounclupJ9",
        "outputId": "8f9ccc23-89a4-48ff-f683-896aecec8304"
      },
      "execution_count": null,
      "outputs": [
        {
          "output_type": "stream",
          "name": "stdout",
          "text": [
            "Collecting ffmpeg-python\n",
            "  Downloading ffmpeg_python-0.2.0-py3-none-any.whl.metadata (1.7 kB)\n",
            "Requirement already satisfied: tqdm in /usr/local/lib/python3.11/dist-packages (4.67.1)\n",
            "Collecting future (from ffmpeg-python)\n",
            "  Downloading future-1.0.0-py3-none-any.whl.metadata (4.0 kB)\n",
            "Downloading ffmpeg_python-0.2.0-py3-none-any.whl (25 kB)\n",
            "Downloading future-1.0.0-py3-none-any.whl (491 kB)\n",
            "\u001b[2K   \u001b[90m━━━━━━━━━━━━━━━━━━━━━━━━━━━━━━━━━━━━━━━━\u001b[0m \u001b[32m491.3/491.3 kB\u001b[0m \u001b[31m9.4 MB/s\u001b[0m eta \u001b[36m0:00:00\u001b[0m\n",
            "\u001b[?25hInstalling collected packages: future, ffmpeg-python\n",
            "Successfully installed ffmpeg-python-0.2.0 future-1.0.0\n"
          ]
        }
      ]
    },
    {
      "cell_type": "code",
      "source": [
        "# Вывод информации о входном видео\n",
        "!ffprobe -v error -show_streams /content/drive/MyDrive/CV_SBER/curling_video.mp4"
      ],
      "metadata": {
        "colab": {
          "base_uri": "https://localhost:8080/"
        },
        "id": "AOBZKjRP6XR-",
        "outputId": "4d698900-ebf3-46bd-f574-76b540f21ec6"
      },
      "execution_count": null,
      "outputs": [
        {
          "output_type": "stream",
          "name": "stdout",
          "text": [
            "[STREAM]\n",
            "index=0\n",
            "codec_name=h264\n",
            "codec_long_name=H.264 / AVC / MPEG-4 AVC / MPEG-4 part 10\n",
            "profile=High\n",
            "codec_type=video\n",
            "codec_tag_string=avc1\n",
            "codec_tag=0x31637661\n",
            "width=1920\n",
            "height=1080\n",
            "coded_width=1920\n",
            "coded_height=1080\n",
            "closed_captions=0\n",
            "has_b_frames=1\n",
            "sample_aspect_ratio=1:1\n",
            "display_aspect_ratio=16:9\n",
            "pix_fmt=yuv420p\n",
            "level=40\n",
            "color_range=tv\n",
            "color_space=bt709\n",
            "color_transfer=bt709\n",
            "color_primaries=bt709\n",
            "chroma_location=left\n",
            "field_order=unknown\n",
            "refs=1\n",
            "is_avc=true\n",
            "nal_length_size=4\n",
            "id=N/A\n",
            "r_frame_rate=30/1\n",
            "avg_frame_rate=706093349/23536480\n",
            "time_base=1/90000\n",
            "start_pts=5999\n",
            "start_time=0.066656\n",
            "duration_ts=1114567659\n",
            "duration=12384.085100\n",
            "bit_rate=3647432\n",
            "max_bit_rate=N/A\n",
            "bits_per_raw_sample=8\n",
            "nb_frames=371522\n",
            "nb_read_frames=N/A\n",
            "nb_read_packets=N/A\n",
            "DISPOSITION:default=1\n",
            "DISPOSITION:dub=0\n",
            "DISPOSITION:original=0\n",
            "DISPOSITION:comment=0\n",
            "DISPOSITION:lyrics=0\n",
            "DISPOSITION:karaoke=0\n",
            "DISPOSITION:forced=0\n",
            "DISPOSITION:hearing_impaired=0\n",
            "DISPOSITION:visual_impaired=0\n",
            "DISPOSITION:clean_effects=0\n",
            "DISPOSITION:attached_pic=0\n",
            "DISPOSITION:timed_thumbnails=0\n",
            "TAG:language=und\n",
            "TAG:handler_name=VideoHandler\n",
            "TAG:vendor_id=[0][0][0][0]\n",
            "[/STREAM]\n",
            "[STREAM]\n",
            "index=1\n",
            "codec_name=aac\n",
            "codec_long_name=AAC (Advanced Audio Coding)\n",
            "profile=LC\n",
            "codec_type=audio\n",
            "codec_tag_string=mp4a\n",
            "codec_tag=0x6134706d\n",
            "sample_fmt=fltp\n",
            "sample_rate=48000\n",
            "channels=2\n",
            "channel_layout=stereo\n",
            "bits_per_sample=0\n",
            "id=N/A\n",
            "r_frame_rate=0/0\n",
            "avg_frame_rate=0/0\n",
            "time_base=1/48000\n",
            "start_pts=0\n",
            "start_time=0.000000\n",
            "duration_ts=594435072\n",
            "duration=12384.064000\n",
            "bit_rate=262144\n",
            "max_bit_rate=N/A\n",
            "bits_per_raw_sample=N/A\n",
            "nb_frames=580503\n",
            "nb_read_frames=N/A\n",
            "nb_read_packets=N/A\n",
            "DISPOSITION:default=1\n",
            "DISPOSITION:dub=0\n",
            "DISPOSITION:original=0\n",
            "DISPOSITION:comment=0\n",
            "DISPOSITION:lyrics=0\n",
            "DISPOSITION:karaoke=0\n",
            "DISPOSITION:forced=0\n",
            "DISPOSITION:hearing_impaired=0\n",
            "DISPOSITION:visual_impaired=0\n",
            "DISPOSITION:clean_effects=0\n",
            "DISPOSITION:attached_pic=0\n",
            "DISPOSITION:timed_thumbnails=0\n",
            "TAG:language=und\n",
            "TAG:handler_name=SoundHandler\n",
            "TAG:vendor_id=[0][0][0][0]\n",
            "[/STREAM]\n"
          ]
        }
      ]
    },
    {
      "cell_type": "code",
      "source": [
        "!pip install uv -q"
      ],
      "metadata": {
        "colab": {
          "base_uri": "https://localhost:8080/"
        },
        "id": "uJP3saymBaDj",
        "outputId": "d53cf2d4-be92-44f1-c037-d0e793b193ea"
      },
      "execution_count": null,
      "outputs": [
        {
          "output_type": "stream",
          "name": "stdout",
          "text": [
            "\u001b[?25l   \u001b[90m━━━━━━━━━━━━━━━━━━━━━━━━━━━━━━━━━━━━━━━━\u001b[0m \u001b[32m0.0/17.4 MB\u001b[0m \u001b[31m?\u001b[0m eta \u001b[36m-:--:--\u001b[0m\r\u001b[2K   \u001b[90m━━━━━━━━━━━━━━━━━━━━━━━━━━━━━━━━━━━━━━━━\u001b[0m \u001b[32m0.2/17.4 MB\u001b[0m \u001b[31m6.3 MB/s\u001b[0m eta \u001b[36m0:00:03\u001b[0m\r\u001b[2K   \u001b[91m━━━━\u001b[0m\u001b[91m╸\u001b[0m\u001b[90m━━━━━━━━━━━━━━━━━━━━━━━━━━━━━━━━━━━\u001b[0m \u001b[32m2.1/17.4 MB\u001b[0m \u001b[31m31.3 MB/s\u001b[0m eta \u001b[36m0:00:01\u001b[0m\r\u001b[2K   \u001b[91m━━━━━━━━━━━━━━━━━━━\u001b[0m\u001b[90m╺\u001b[0m\u001b[90m━━━━━━━━━━━━━━━━━━━━\u001b[0m \u001b[32m8.5/17.4 MB\u001b[0m \u001b[31m81.9 MB/s\u001b[0m eta \u001b[36m0:00:01\u001b[0m\r\u001b[2K   \u001b[91m━━━━━━━━━━━━━━━━━━━━━━━━━━━━━━━━━━━━\u001b[0m\u001b[91m╸\u001b[0m\u001b[90m━━━\u001b[0m \u001b[32m16.0/17.4 MB\u001b[0m \u001b[31m214.3 MB/s\u001b[0m eta \u001b[36m0:00:01\u001b[0m\r\u001b[2K   \u001b[91m━━━━━━━━━━━━━━━━━━━━━━━━━━━━━━━━━━━━━━━\u001b[0m\u001b[91m╸\u001b[0m \u001b[32m17.4/17.4 MB\u001b[0m \u001b[31m213.1 MB/s\u001b[0m eta \u001b[36m0:00:01\u001b[0m\r\u001b[2K   \u001b[91m━━━━━━━━━━━━━━━━━━━━━━━━━━━━━━━━━━━━━━━\u001b[0m\u001b[91m╸\u001b[0m \u001b[32m17.4/17.4 MB\u001b[0m \u001b[31m213.1 MB/s\u001b[0m eta \u001b[36m0:00:01\u001b[0m\r\u001b[2K   \u001b[91m━━━━━━━━━━━━━━━━━━━━━━━━━━━━━━━━━━━━━━━\u001b[0m\u001b[91m╸\u001b[0m \u001b[32m17.4/17.4 MB\u001b[0m \u001b[31m213.1 MB/s\u001b[0m eta \u001b[36m0:00:01\u001b[0m\r\u001b[2K   \u001b[90m━━━━━━━━━━━━━━━━━━━━━━━━━━━━━━━━━━━━━━━━\u001b[0m \u001b[32m17.4/17.4 MB\u001b[0m \u001b[31m68.6 MB/s\u001b[0m eta \u001b[36m0:00:00\u001b[0m\n",
            "\u001b[?25h"
          ]
        }
      ]
    },
    {
      "cell_type": "code",
      "source": [
        "!uv pip install opencv-python torch torchvision scikit-image -q"
      ],
      "metadata": {
        "id": "xThSYV1zLH4u"
      },
      "execution_count": null,
      "outputs": []
    },
    {
      "cell_type": "code",
      "source": [
        "import cv2\n",
        "import numpy as np\n",
        "from skimage.metrics import structural_similarity as ssim\n",
        "import os\n",
        "import math"
      ],
      "metadata": {
        "id": "6bmZIdkbLPYd"
      },
      "execution_count": null,
      "outputs": []
    },
    {
      "cell_type": "code",
      "source": [
        "import subprocess\n",
        "import re\n",
        "from google.colab import files\n",
        "from tqdm import tqdm\n",
        "import os\n",
        "\n",
        "# Подключаем Google Drive\n",
        "from google.colab import drive\n",
        "drive.mount('/content/drive', force_remount=True)\n",
        "\n",
        "# Параметры\n",
        "input_video = \"/content/drive/MyDrive/CV_SBER/curling_video.mp4\"  # Имя входного видеофайла\n",
        "start_time = 1880  # Начало вырезки (в секундах)\n",
        "end_time = 5480    # ТЕСТ: 10 секунд для проверки\n",
        "output_resolution = (1094, 540)  # Новое разрешение (ширина, высота)\n",
        "temp_video = \"/content/drive/MyDrive/CV_SBER/temp_cut_video.mp4\"  # Временный файл на Google Drive\n",
        "final_output = \"/content/drive/MyDrive/CV_SBER/Участок_с_полного_матча.mp4\"  # Финальный файл на Google Drive\n",
        "\n",
        "# Проверка существования файла\n",
        "if not os.path.exists(input_video):\n",
        "    print(f\"Ошибка: файл {input_video} не найден\")\n",
        "    exit()\n",
        "\n",
        "# Длительность вырезаемого участка (в секундах)\n",
        "duration = end_time - start_time\n",
        "\n",
        "# Этап 1: Вырезаем участок с копированием потоков\n",
        "cut_command = [\n",
        "    \"ffmpeg\", \"-i\", input_video,\n",
        "    \"-ss\", str(start_time), \"-to\", str(end_time),\n",
        "    \"-c:v\", \"copy\", \"-c:a\", \"copy\", temp_video, \"-y\",\n",
        "    \"-loglevel\", \"error\"  # Минимизируем вывод\n",
        "]\n",
        "print(\"Вырезаем участок видео...\")\n",
        "result = subprocess.run(cut_command, capture_output=True, text=True)\n",
        "if result.returncode != 0:\n",
        "    print(f\"Ошибка вырезки: {result.stderr}\")\n",
        "    exit()\n",
        "\n",
        "# Проверка, создан ли временный файл\n",
        "if not os.path.exists(temp_video):\n",
        "    print(f\"Ошибка: временный файл {temp_video} не создан\")\n",
        "    exit()\n",
        "\n",
        "# Этап 2: Обработка (crop, scale, pad)\n",
        "ffmpeg_command = [\n",
        "    \"ffmpeg\", \"-i\", temp_video,\n",
        "    \"-vf\", f\"crop=1920:980:0:0,scale=1094:540:force_original_aspect_ratio=decrease,pad=1094:540:(ow-iw)/2:(oh-ih)/2\",\n",
        "    \"-pix_fmt\", \"yuv420p\",  # Формат пикселей\n",
        "    \"-c:v\", \"libx264\", \"-profile:v\", \"main\", \"-preset\", \"fast\",\n",
        "    \"-c:a\", \"copy\",  # Копируем аудио\n",
        "    \"-threads\", \"0\", final_output, \"-y\",\n",
        "    \"-loglevel\", \"verbose\"\n",
        "]\n",
        "\n",
        "# Запускаем ffmpeg с прогресс-баром\n",
        "process = subprocess.Popen(ffmpeg_command, stderr=subprocess.PIPE, universal_newlines=True)\n",
        "pbar = tqdm(total=duration, desc=\"Processing video\", unit=\"s\")\n",
        "time_pattern = re.compile(r\"time=(\\d+):(\\d+):(\\d+\\.\\d+)\")\n",
        "\n",
        "for line in process.stderr:\n",
        "    print(line.strip())  # Выводим логи для отладки\n",
        "    match = time_pattern.search(line)\n",
        "    if match:\n",
        "        hours, minutes, seconds = map(float, match.groups())\n",
        "        current_time = hours * 3600 + minutes * 60 + seconds\n",
        "        pbar.n = min(current_time, duration)\n",
        "        pbar.refresh()\n",
        "\n",
        "pbar.close()\n",
        "process.wait()\n",
        "\n",
        "# Проверка результата\n",
        "if process.returncode == 0:\n",
        "    print(\"Обработка завершена успешно!\")\n",
        "    # Проверка разрешения\n",
        "    import cv2\n",
        "    cap = cv2.VideoCapture(final_output)\n",
        "    width = int(cap.get(cv2.CAP_PROP_FRAME_WIDTH))\n",
        "    height = int(cap.get(cv2.CAP_PROP_FRAME_HEIGHT))\n",
        "    print(f\"Выходное разрешение: {width}x{height}\")\n",
        "    cap.release()\n",
        "    files.download(final_output)\n",
        "else:\n",
        "    print(\"Ошибка при выполнении ffmpeg\")\n",
        "\n",
        "# Очистка временных файлов\n",
        "if os.path.exists(temp_video):\n",
        "    os.remove(temp_video)\n",
        "\n",
        "# Проверка ресурсов\n",
        "print(\"\\nПроверка ресурсов:\")\n",
        "!df -h /content/drive\n",
        "!free -h"
      ],
      "metadata": {
        "colab": {
          "base_uri": "https://localhost:8080/",
          "height": 1000
        },
        "id": "orAGhBCS0mrD",
        "outputId": "fc7d9eaa-7674-4986-f56f-1f04430b1088"
      },
      "execution_count": null,
      "outputs": [
        {
          "output_type": "stream",
          "name": "stdout",
          "text": [
            "Mounted at /content/drive\n",
            "Вырезаем участок видео...\n"
          ]
        },
        {
          "output_type": "stream",
          "name": "stderr",
          "text": [
            "\rProcessing video:   0%|          | 0/3600 [00:00<?, ?s/s]"
          ]
        },
        {
          "output_type": "stream",
          "name": "stdout",
          "text": [
            "ffmpeg version 4.4.2-0ubuntu0.22.04.1 Copyright (c) 2000-2021 the FFmpeg developers\n",
            "built with gcc 11 (Ubuntu 11.2.0-19ubuntu1)\n",
            "configuration: --prefix=/usr --extra-version=0ubuntu0.22.04.1 --toolchain=hardened --libdir=/usr/lib/x86_64-linux-gnu --incdir=/usr/include/x86_64-linux-gnu --arch=amd64 --enable-gpl --disable-stripping --enable-gnutls --enable-ladspa --enable-libaom --enable-libass --enable-libbluray --enable-libbs2b --enable-libcaca --enable-libcdio --enable-libcodec2 --enable-libdav1d --enable-libflite --enable-libfontconfig --enable-libfreetype --enable-libfribidi --enable-libgme --enable-libgsm --enable-libjack --enable-libmp3lame --enable-libmysofa --enable-libopenjpeg --enable-libopenmpt --enable-libopus --enable-libpulse --enable-librabbitmq --enable-librubberband --enable-libshine --enable-libsnappy --enable-libsoxr --enable-libspeex --enable-libsrt --enable-libssh --enable-libtheora --enable-libtwolame --enable-libvidstab --enable-libvorbis --enable-libvpx --enable-libwebp --enable-libx265 --enable-libxml2 --enable-libxvid --enable-libzimg --enable-libzmq --enable-libzvbi --enable-lv2 --enable-omx --enable-openal --enable-opencl --enable-opengl --enable-sdl2 --enable-pocketsphinx --enable-librsvg --enable-libmfx --enable-libdc1394 --enable-libdrm --enable-libiec61883 --enable-chromaprint --enable-frei0r --enable-libx264 --enable-shared\n",
            "libavutil      56. 70.100 / 56. 70.100\n",
            "libavcodec     58.134.100 / 58.134.100\n",
            "libavformat    58. 76.100 / 58. 76.100\n",
            "libavdevice    58. 13.100 / 58. 13.100\n",
            "libavfilter     7.110.100 /  7.110.100\n",
            "libswscale      5.  9.100 /  5.  9.100\n",
            "libswresample   3.  9.100 /  3.  9.100\n",
            "libpostproc    55.  9.100 / 55.  9.100\n",
            "[h264 @ 0x59bb3862f380] Reinit context to 1920x1088, pix_fmt: yuv420p\n",
            "Input #0, mov,mp4,m4a,3gp,3g2,mj2, from '/content/drive/MyDrive/CV_SBER/temp_cut_video.mp4':\n",
            "Metadata:\n",
            "major_brand     : isom\n",
            "minor_version   : 512\n",
            "compatible_brands: isomiso2avc1mp41\n",
            "encoder         : Lavf58.76.100\n",
            "Duration: 01:00:00.08, start: 0.021000, bitrate: 5265 kb/s\n",
            "Stream #0:0(und): Video: h264 (High), 1 reference frame (avc1 / 0x31637661), yuv420p(tv, bt709, left), 1920x1080 (1920x1088) [SAR 1:1 DAR 16:9], 4991 kb/s, 30 fps, 30 tbr, 90k tbn, 60 tbc (default)\n",
            "Metadata:\n",
            "handler_name    : VideoHandler\n",
            "vendor_id       : [0][0][0][0]\n",
            "Stream #0:1(und): Audio: aac (LC) (mp4a / 0x6134706D), 48000 Hz, stereo, fltp, 262 kb/s (default)\n",
            "Metadata:\n",
            "handler_name    : SoundHandler\n",
            "vendor_id       : [0][0][0][0]\n",
            "Stream mapping:\n",
            "Stream #0:0 -> #0:0 (h264 (native) -> h264 (libx264))\n",
            "Stream #0:1 -> #0:1 (copy)\n",
            "Press [q] to stop, [?] for help\n",
            "[h264 @ 0x59bb38783e80] Reinit context to 1920x1088, pix_fmt: yuv420p\n",
            "[Parsed_scale_1 @ 0x59bb38880e80] w:1094 h:540 flags:'bicubic' interl:0\n",
            "[graph 0 input from stream 0:0 @ 0x59bb38882b00] w:1920 h:1080 pixfmt:yuv420p tb:1/90000 fr:30/1 sar:1/1\n",
            "[Parsed_crop_0 @ 0x59bb3976a900] w:1920 h:1080 sar:1/1 -> w:1920 h:980 sar:1/1\n",
            "[Parsed_scale_1 @ 0x59bb38880e80] w:1920 h:980 fmt:yuv420p sar:1/1 -> w:1058 h:540 fmt:yuv420p sar:25920/25921 flags:0x4\n",
            "[Parsed_pad_2 @ 0x59bb38882000] w:1058 h:540 -> w:1094 h:540 x:18 y:0 color:0x000000FF\n",
            "[swscaler @ 0x59bb39774580] Warning: data is not aligned! This can lead to a speed loss\n",
            "[libx264 @ 0x59bb38633d40] using SAR=1/1\n",
            "[libx264 @ 0x59bb38633d40] using cpu capabilities: MMX2 SSE2Fast SSSE3 SSE4.2 AVX FMA3 BMI2 AVX2 AVX512\n",
            "[libx264 @ 0x59bb38633d40] profile Main, level 3.1, 4:2:0, 8-bit\n",
            "[libx264 @ 0x59bb38633d40] 264 - core 163 r3060 5db6aa6 - H.264/MPEG-4 AVC codec - Copyleft 2003-2021 - http://www.videolan.org/x264.html - options: cabac=1 ref=2 deblock=1:0:0 analyse=0x1:0x111 me=hex subme=6 psy=1 psy_rd=1.00:0.00 mixed_ref=1 me_range=16 chroma_me=1 trellis=1 8x8dct=0 cqm=0 deadzone=21,11 fast_pskip=1 chroma_qp_offset=-2 threads=17 lookahead_threads=2 sliced_threads=0 nr=0 decimate=1 interlaced=0 bluray_compat=0 constrained_intra=0 bframes=3 b_pyramid=2 b_adapt=1 b_bias=0 direct=1 weightb=1 open_gop=0 weightp=1 keyint=250 keyint_min=25 scenecut=40 intra_refresh=0 rc_lookahead=30 rc=crf mbtree=1 crf=23.0 qcomp=0.60 qpmin=0 qpmax=69 qpstep=4 ip_ratio=1.40 aq=1:1.00\n",
            "Output #0, mp4, to '/content/drive/MyDrive/CV_SBER/Участок_с_полного_матча.mp4':\n",
            "Metadata:\n",
            "major_brand     : isom\n",
            "minor_version   : 512\n",
            "compatible_brands: isomiso2avc1mp41\n",
            "encoder         : Lavf58.76.100\n",
            "Stream #0:0(und): Video: h264, 1 reference frame (avc1 / 0x31637661), yuv420p(tv, bt709, progressive, left), 1094x540 (0x0) [SAR 25920:25921 DAR 52512:25921], q=2-31, 30 fps, 15360 tbn (default)\n",
            "Metadata:\n",
            "handler_name    : VideoHandler\n",
            "vendor_id       : [0][0][0][0]\n",
            "encoder         : Lavc58.134.100 libx264\n",
            "Side data:\n",
            "cpb: bitrate max/min/avg: 0/0/0 buffer size: 0 vbv_delay: N/A\n",
            "Stream #0:1(und): Audio: aac (LC) (mp4a / 0x6134706D), 48000 Hz, stereo, fltp, 262 kb/s (default)\n",
            "Metadata:\n",
            "handler_name    : SoundHandler\n",
            "vendor_id       : [0][0][0][0]\n",
            "*** 34 dup!\n"
          ]
        },
        {
          "output_type": "stream",
          "name": "stderr",
          "text": [
            "\rProcessing video:   0%|          | 1.57/3600 [00:00<35:08,  1.71s/s]"
          ]
        },
        {
          "output_type": "stream",
          "name": "stdout",
          "text": [
            "frame=   35 fps=0.0 q=0.0 size=       0kB time=00:00:01.57 bitrate=   0.2kbits/s dup=34 drop=0 speed=32.5x\n"
          ]
        },
        {
          "output_type": "stream",
          "name": "stderr",
          "text": [
            "\rProcessing video:   0%|          | 3.52/3600 [00:01<24:11,  2.48s/s]"
          ]
        },
        {
          "output_type": "stream",
          "name": "stdout",
          "text": [
            "frame=   93 fps=0.0 q=29.0 size=       0kB time=00:00:03.52 bitrate=   0.1kbits/s dup=34 drop=0 speed=6.41x\n"
          ]
        },
        {
          "output_type": "stream",
          "name": "stderr",
          "text": [
            "\rProcessing video:   0%|          | 4.8/3600 [00:01<24:56,  2.40s/s] "
          ]
        },
        {
          "output_type": "stream",
          "name": "stdout",
          "text": [
            "frame=  131 fps=125 q=29.0 size=     256kB time=00:00:04.80 bitrate= 437.0kbits/s dup=34 drop=0 speed=4.57x\n"
          ]
        },
        {
          "output_type": "stream",
          "name": "stderr",
          "text": [
            "\rProcessing video:   0%|          | 6.16/3600 [00:02<24:18,  2.46s/s]"
          ]
        },
        {
          "output_type": "stream",
          "name": "stdout",
          "text": [
            "frame=  172 fps=106 q=29.0 size=     256kB time=00:00:06.16 bitrate= 340.2kbits/s dup=34 drop=0 speed=3.79x\n"
          ]
        },
        {
          "output_type": "stream",
          "name": "stderr",
          "text": [
            "\rProcessing video:   0%|          | 7.53/3600 [00:03<23:51,  2.51s/s]"
          ]
        },
        {
          "output_type": "stream",
          "name": "stdout",
          "text": [
            "frame=  213 fps=100 q=29.0 size=     512kB time=00:00:07.53 bitrate= 557.0kbits/s dup=34 drop=0 speed=3.53x\n"
          ]
        },
        {
          "output_type": "stream",
          "name": "stderr",
          "text": [
            "\rProcessing video:   0%|          | 9.06/3600 [00:03<23:09,  2.59s/s]"
          ]
        },
        {
          "output_type": "stream",
          "name": "stdout",
          "text": [
            "frame=  259 fps= 98 q=29.0 size=     768kB time=00:00:09.06 bitrate= 694.0kbits/s dup=34 drop=0 speed=3.45x\n"
          ]
        },
        {
          "output_type": "stream",
          "name": "stderr",
          "text": [
            "\rProcessing video:   0%|          | 10.43/3600 [00:04<22:58,  2.60s/s]"
          ]
        },
        {
          "output_type": "stream",
          "name": "stdout",
          "text": [
            "frame=  300 fps= 96 q=29.0 size=    1024kB time=00:00:10.43 bitrate= 804.2kbits/s dup=34 drop=0 speed=3.33x\n"
          ]
        },
        {
          "output_type": "stream",
          "name": "stderr",
          "text": [
            "\rProcessing video:   0%|          | 11.43/3600 [00:04<23:35,  2.54s/s]"
          ]
        },
        {
          "output_type": "stream",
          "name": "stdout",
          "text": [
            "frame=  330 fps= 91 q=29.0 size=    1280kB time=00:00:11.43 bitrate= 917.1kbits/s dup=34 drop=0 speed=3.15x\n"
          ]
        },
        {
          "output_type": "stream",
          "name": "stderr",
          "text": [
            "\rProcessing video:   0%|          | 12.5/3600 [00:05<23:58,  2.49s/s] "
          ]
        },
        {
          "output_type": "stream",
          "name": "stdout",
          "text": [
            "frame=  362 fps= 88 q=29.0 size=    1536kB time=00:00:12.50 bitrate=1006.6kbits/s dup=34 drop=0 speed=3.02x\n"
          ]
        },
        {
          "output_type": "stream",
          "name": "stderr",
          "text": [
            "\rProcessing video:   0%|          | 13.46/3600 [00:05<24:28,  2.44s/s]"
          ]
        },
        {
          "output_type": "stream",
          "name": "stdout",
          "text": [
            "frame=  391 fps= 84 q=29.0 size=    1792kB time=00:00:13.46 bitrate=1090.6kbits/s dup=34 drop=0 speed= 2.9x\n"
          ]
        },
        {
          "output_type": "stream",
          "name": "stderr",
          "text": [
            "\rProcessing video:   0%|          | 14.57/3600 [00:06<24:40,  2.42s/s]"
          ]
        },
        {
          "output_type": "stream",
          "name": "stdout",
          "text": [
            "frame=  424 fps= 82 q=29.0 size=    2048kB time=00:00:14.57 bitrate=1151.5kbits/s dup=34 drop=0 speed=2.83x\n"
          ]
        },
        {
          "output_type": "stream",
          "name": "stderr",
          "text": [
            "\rProcessing video:   0%|          | 15.76/3600 [00:06<24:42,  2.42s/s]"
          ]
        },
        {
          "output_type": "stream",
          "name": "stdout",
          "text": [
            "frame=  460 fps= 81 q=29.0 size=    2304kB time=00:00:15.76 bitrate=1197.2kbits/s dup=34 drop=0 speed=2.79x\n"
          ]
        },
        {
          "output_type": "stream",
          "name": "stderr",
          "text": [
            "\rProcessing video:   0%|          | 16.85/3600 [00:07<24:52,  2.40s/s]"
          ]
        },
        {
          "output_type": "stream",
          "name": "stdout",
          "text": [
            "frame=  493 fps= 80 q=29.0 size=    2816kB time=00:00:16.85 bitrate=1368.8kbits/s dup=34 drop=0 speed=2.74x\n"
          ]
        },
        {
          "output_type": "stream",
          "name": "stderr",
          "text": [
            "\rProcessing video:   0%|          | 18.0/3600 [00:07<24:56,  2.39s/s] "
          ]
        },
        {
          "output_type": "stream",
          "name": "stdout",
          "text": [
            "frame=  527 fps= 79 q=29.0 size=    2816kB time=00:00:18.00 bitrate=1281.2kbits/s dup=34 drop=0 speed=2.71x\n"
          ]
        },
        {
          "output_type": "stream",
          "name": "stderr",
          "text": [
            "\rProcessing video:   1%|          | 19.3/3600 [00:08<24:48,  2.41s/s]"
          ]
        },
        {
          "output_type": "stream",
          "name": "stdout",
          "text": [
            "frame=  566 fps= 79 q=29.0 size=    3328kB time=00:00:19.30 bitrate=1412.1kbits/s dup=34 drop=0 speed= 2.7x\n"
          ]
        },
        {
          "output_type": "stream",
          "name": "stderr",
          "text": [
            "\rProcessing video:   1%|          | 20.5/3600 [00:08<24:48,  2.40s/s]"
          ]
        },
        {
          "output_type": "stream",
          "name": "stdout",
          "text": [
            "frame=  602 fps= 79 q=29.0 size=    3584kB time=00:00:20.50 bitrate=1432.1kbits/s dup=34 drop=0 speed=2.68x\n"
          ]
        },
        {
          "output_type": "stream",
          "name": "stderr",
          "text": [
            "\rProcessing video:   1%|          | 21.56/3600 [00:09<24:58,  2.39s/s]"
          ]
        },
        {
          "output_type": "stream",
          "name": "stdout",
          "text": [
            "frame=  634 fps= 78 q=29.0 size=    3840kB time=00:00:21.56 bitrate=1458.5kbits/s dup=34 drop=0 speed=2.64x\n"
          ]
        },
        {
          "output_type": "stream",
          "name": "stderr",
          "text": [
            "\rProcessing video:   1%|          | 22.8/3600 [00:09<24:54,  2.39s/s] "
          ]
        },
        {
          "output_type": "stream",
          "name": "stdout",
          "text": [
            "frame=  671 fps= 78 q=29.0 size=    4096kB time=00:00:22.80 bitrate=1471.4kbits/s dup=34 drop=0 speed=2.63x\n"
          ]
        },
        {
          "output_type": "stream",
          "name": "stderr",
          "text": [
            "\rProcessing video:   1%|          | 24.02/3600 [00:10<24:53,  2.39s/s]"
          ]
        },
        {
          "output_type": "stream",
          "name": "stdout",
          "text": [
            "frame=  708 fps= 77 q=29.0 size=    4352kB time=00:00:24.02 bitrate=1484.2kbits/s dup=34 drop=0 speed=2.62x\n"
          ]
        },
        {
          "output_type": "stream",
          "name": "stderr",
          "text": [
            "\rProcessing video:   1%|          | 25.42/3600 [00:10<24:40,  2.41s/s]"
          ]
        },
        {
          "output_type": "stream",
          "name": "stdout",
          "text": [
            "frame=  750 fps= 78 q=29.0 size=    4608kB time=00:00:25.42 bitrate=1484.5kbits/s dup=34 drop=0 speed=2.63x\n"
          ]
        },
        {
          "output_type": "stream",
          "name": "stderr",
          "text": [
            "\rProcessing video:   1%|          | 26.9/3600 [00:11<24:25,  2.44s/s] "
          ]
        },
        {
          "output_type": "stream",
          "name": "stdout",
          "text": [
            "frame=  794 fps= 78 q=29.0 size=    4864kB time=00:00:26.90 bitrate=1481.2kbits/s dup=34 drop=0 speed=2.65x\n"
          ]
        },
        {
          "output_type": "stream",
          "name": "stderr",
          "text": [
            "\rProcessing video:   1%|          | 28.28/3600 [00:11<24:16,  2.45s/s]"
          ]
        },
        {
          "output_type": "stream",
          "name": "stdout",
          "text": [
            "frame=  836 fps= 78 q=29.0 size=    4864kB time=00:00:28.28 bitrate=1408.6kbits/s dup=34 drop=0 speed=2.65x\n"
          ]
        },
        {
          "output_type": "stream",
          "name": "stderr",
          "text": [
            "\rProcessing video:   1%|          | 29.58/3600 [00:12<24:12,  2.46s/s]"
          ]
        },
        {
          "output_type": "stream",
          "name": "stdout",
          "text": [
            "frame=  875 fps= 78 q=29.0 size=    5376kB time=00:00:29.58 bitrate=1488.4kbits/s dup=34 drop=0 speed=2.65x\n"
          ]
        },
        {
          "output_type": "stream",
          "name": "stderr",
          "text": [
            "\rProcessing video:   1%|          | 31.46/3600 [00:12<23:42,  2.51s/s]"
          ]
        },
        {
          "output_type": "stream",
          "name": "stdout",
          "text": [
            "frame=  931 fps= 80 q=29.0 size=    5632kB time=00:00:31.46 bitrate=1466.2kbits/s dup=34 drop=0 speed= 2.7x\n"
          ]
        },
        {
          "output_type": "stream",
          "name": "stderr",
          "text": [
            "\rProcessing video:   1%|          | 33.55/3600 [00:13<23:06,  2.57s/s]"
          ]
        },
        {
          "output_type": "stream",
          "name": "stdout",
          "text": [
            "frame=  994 fps= 82 q=29.0 size=    5888kB time=00:00:33.55 bitrate=1437.4kbits/s dup=34 drop=0 speed=2.76x\n"
          ]
        },
        {
          "output_type": "stream",
          "name": "stderr",
          "text": [
            "\rProcessing video:   1%|          | 35.75/3600 [00:13<22:30,  2.64s/s]"
          ]
        },
        {
          "output_type": "stream",
          "name": "stdout",
          "text": [
            "frame= 1060 fps= 84 q=29.0 size=    6144kB time=00:00:35.75 bitrate=1407.7kbits/s dup=34 drop=0 speed=2.82x\n"
          ]
        },
        {
          "output_type": "stream",
          "name": "stderr",
          "text": [
            "\rProcessing video:   1%|          | 37.99/3600 [00:14<21:56,  2.71s/s]"
          ]
        },
        {
          "output_type": "stream",
          "name": "stdout",
          "text": [
            "frame= 1127 fps= 86 q=29.0 size=    6400kB time=00:00:37.99 bitrate=1379.9kbits/s dup=34 drop=0 speed=2.88x\n"
          ]
        },
        {
          "output_type": "stream",
          "name": "stderr",
          "text": [
            "\rProcessing video:   1%|          | 40.17/3600 [00:14<21:28,  2.76s/s]"
          ]
        },
        {
          "output_type": "stream",
          "name": "stdout",
          "text": [
            "frame= 1192 fps= 87 q=29.0 size=    6400kB time=00:00:40.17 bitrate=1305.2kbits/s dup=34 drop=0 speed=2.94x\n"
          ]
        },
        {
          "output_type": "stream",
          "name": "stderr",
          "text": [
            "\rProcessing video:   1%|          | 42.38/3600 [00:15<21:02,  2.82s/s]"
          ]
        },
        {
          "output_type": "stream",
          "name": "stdout",
          "text": [
            "frame= 1259 fps= 89 q=29.0 size=    6656kB time=00:00:42.38 bitrate=1286.3kbits/s dup=34 drop=0 speed=2.99x\n"
          ]
        },
        {
          "output_type": "stream",
          "name": "stderr",
          "text": [
            "\rProcessing video:   1%|          | 44.56/3600 [00:15<20:44,  2.86s/s]"
          ]
        },
        {
          "output_type": "stream",
          "name": "stdout",
          "text": [
            "frame= 1324 fps= 90 q=29.0 size=    6912kB time=00:00:44.56 bitrate=1270.6kbits/s dup=34 drop=0 speed=3.04x\n"
          ]
        },
        {
          "output_type": "stream",
          "name": "stderr",
          "text": [
            "\rProcessing video:   1%|▏         | 46.8/3600 [00:16<20:22,  2.91s/s] "
          ]
        },
        {
          "output_type": "stream",
          "name": "stdout",
          "text": [
            "frame= 1391 fps= 91 q=29.0 size=    7168kB time=00:00:46.80 bitrate=1254.6kbits/s dup=34 drop=0 speed=3.07x\n"
          ]
        },
        {
          "output_type": "stream",
          "name": "stderr",
          "text": [
            "\rProcessing video:   1%|▏         | 48.96/3600 [00:16<20:04,  2.95s/s]"
          ]
        },
        {
          "output_type": "stream",
          "name": "stdout",
          "text": [
            "frame= 1456 fps= 93 q=29.0 size=    7424kB time=00:00:48.96 bitrate=1242.2kbits/s dup=34 drop=0 speed=3.11x\n"
          ]
        },
        {
          "output_type": "stream",
          "name": "stderr",
          "text": [
            "\rProcessing video:   1%|▏         | 51.09/3600 [00:17<19:48,  2.99s/s]"
          ]
        },
        {
          "output_type": "stream",
          "name": "stdout",
          "text": [
            "frame= 1520 fps= 94 q=29.0 size=    7680kB time=00:00:51.09 bitrate=1231.4kbits/s dup=34 drop=0 speed=3.15x\n"
          ]
        },
        {
          "output_type": "stream",
          "name": "stderr",
          "text": [
            "\rProcessing video:   1%|▏         | 53.35/3600 [00:17<19:30,  3.03s/s]"
          ]
        },
        {
          "output_type": "stream",
          "name": "stdout",
          "text": [
            "frame= 1588 fps= 95 q=29.0 size=    7936kB time=00:00:53.35 bitrate=1218.5kbits/s dup=34 drop=0 speed=3.19x\n"
          ]
        },
        {
          "output_type": "stream",
          "name": "stderr",
          "text": [
            "\rProcessing video:   2%|▏         | 55.72/3600 [00:18<19:11,  3.08s/s]"
          ]
        },
        {
          "output_type": "stream",
          "name": "stdout",
          "text": [
            "frame= 1659 fps= 96 q=29.0 size=    8192kB time=00:00:55.72 bitrate=1204.3kbits/s dup=34 drop=0 speed=3.23x\n"
          ]
        },
        {
          "output_type": "stream",
          "name": "stderr",
          "text": [
            "\rProcessing video:   2%|▏         | 58.0/3600 [00:18<18:56,  3.12s/s] "
          ]
        },
        {
          "output_type": "stream",
          "name": "stdout",
          "text": [
            "frame= 1728 fps= 97 q=29.0 size=    8192kB time=00:00:58.00 bitrate=1156.9kbits/s dup=34 drop=0 speed=3.27x\n"
          ]
        },
        {
          "output_type": "stream",
          "name": "stderr",
          "text": [
            "\rProcessing video:   2%|▏         | 60.28/3600 [00:19<18:42,  3.15s/s]"
          ]
        },
        {
          "output_type": "stream",
          "name": "stdout",
          "text": [
            "frame= 1796 fps= 98 q=29.0 size=    8448kB time=00:01:00.28 bitrate=1147.9kbits/s dup=34 drop=0 speed=3.31x\n"
          ]
        },
        {
          "output_type": "stream",
          "name": "stderr",
          "text": [
            "\rProcessing video:   2%|▏         | 62.52/3600 [00:19<18:29,  3.19s/s]"
          ]
        },
        {
          "output_type": "stream",
          "name": "stdout",
          "text": [
            "frame= 1863 fps= 99 q=29.0 size=    8704kB time=00:01:02.52 bitrate=1140.3kbits/s dup=34 drop=0 speed=3.34x\n"
          ]
        },
        {
          "output_type": "stream",
          "name": "stderr",
          "text": [
            "\rProcessing video:   2%|▏         | 64.83/3600 [00:20<18:16,  3.22s/s]"
          ]
        },
        {
          "output_type": "stream",
          "name": "stdout",
          "text": [
            "frame= 1932 fps=100 q=29.0 size=    8960kB time=00:01:04.83 bitrate=1132.2kbits/s dup=34 drop=0 speed=3.37x\n"
          ]
        },
        {
          "output_type": "stream",
          "name": "stderr",
          "text": [
            "\rProcessing video:   2%|▏         | 67.32/3600 [00:20<18:02,  3.26s/s]"
          ]
        },
        {
          "output_type": "stream",
          "name": "stdout",
          "text": [
            "frame= 2007 fps=102 q=29.0 size=    8960kB time=00:01:07.32 bitrate=1090.2kbits/s dup=34 drop=0 speed=3.41x\n"
          ]
        },
        {
          "output_type": "stream",
          "name": "stderr",
          "text": [
            "\rProcessing video:   2%|▏         | 69.63/3600 [00:21<17:50,  3.30s/s]"
          ]
        },
        {
          "output_type": "stream",
          "name": "stdout",
          "text": [
            "frame= 2076 fps=103 q=29.0 size=    9472kB time=00:01:09.63 bitrate=1114.4kbits/s dup=34 drop=0 speed=3.44x\n"
          ]
        },
        {
          "output_type": "stream",
          "name": "stderr",
          "text": [
            "\rProcessing video:   2%|▏         | 71.82/3600 [00:21<17:42,  3.32s/s]"
          ]
        },
        {
          "output_type": "stream",
          "name": "stdout",
          "text": [
            "frame= 2142 fps=103 q=29.0 size=    9472kB time=00:01:11.82 bitrate=1080.3kbits/s dup=34 drop=0 speed=3.46x\n"
          ]
        },
        {
          "output_type": "stream",
          "name": "stderr",
          "text": [
            "\rProcessing video:   2%|▏         | 74.09/3600 [00:22<17:32,  3.35s/s]"
          ]
        },
        {
          "output_type": "stream",
          "name": "stdout",
          "text": [
            "frame= 2210 fps=104 q=29.0 size=    9728kB time=00:01:14.09 bitrate=1075.6kbits/s dup=34 drop=0 speed=3.49x\n"
          ]
        },
        {
          "output_type": "stream",
          "name": "stderr",
          "text": [
            "\rProcessing video:   2%|▏         | 76.5/3600 [00:22<17:22,  3.38s/s] "
          ]
        },
        {
          "output_type": "stream",
          "name": "stdout",
          "text": [
            "frame= 2282 fps=105 q=29.0 size=    9984kB time=00:01:16.50 bitrate=1069.1kbits/s dup=34 drop=0 speed=3.52x\n"
          ]
        },
        {
          "output_type": "stream",
          "name": "stderr",
          "text": [
            "\rProcessing video:   2%|▏         | 78.93/3600 [00:23<17:11,  3.41s/s]"
          ]
        },
        {
          "output_type": "stream",
          "name": "stdout",
          "text": [
            "frame= 2355 fps=106 q=29.0 size=   10240kB time=00:01:18.93 bitrate=1062.8kbits/s dup=34 drop=0 speed=3.55x\n"
          ]
        },
        {
          "output_type": "stream",
          "name": "stderr",
          "text": [
            "\rProcessing video:   2%|▏         | 81.06/3600 [00:23<17:08,  3.42s/s]"
          ]
        },
        {
          "output_type": "stream",
          "name": "stdout",
          "text": [
            "frame= 2419 fps=106 q=29.0 size=   10240kB time=00:01:21.06 bitrate=1034.8kbits/s dup=34 drop=0 speed=3.56x\n"
          ]
        },
        {
          "output_type": "stream",
          "name": "stderr",
          "text": [
            "\rProcessing video:   2%|▏         | 82.56/3600 [00:24<17:11,  3.41s/s]"
          ]
        },
        {
          "output_type": "stream",
          "name": "stdout",
          "text": [
            "frame= 2464 fps=106 q=29.0 size=   10496kB time=00:01:22.56 bitrate=1041.5kbits/s dup=34 drop=0 speed=3.54x\n"
          ]
        },
        {
          "output_type": "stream",
          "name": "stderr",
          "text": [
            "\rProcessing video:   2%|▏         | 83.84/3600 [00:24<17:15,  3.39s/s]"
          ]
        },
        {
          "output_type": "stream",
          "name": "stdout",
          "text": [
            "frame= 2502 fps=105 q=29.0 size=   10752kB time=00:01:23.84 bitrate=1050.6kbits/s dup=34 drop=0 speed=3.52x\n"
          ]
        },
        {
          "output_type": "stream",
          "name": "stderr",
          "text": [
            "\rProcessing video:   2%|▏         | 84.99/3600 [00:25<17:22,  3.37s/s]"
          ]
        },
        {
          "output_type": "stream",
          "name": "stdout",
          "text": [
            "frame= 2537 fps=104 q=29.0 size=   11008kB time=00:01:24.99 bitrate=1061.0kbits/s dup=34 drop=0 speed=3.49x\n"
          ]
        },
        {
          "output_type": "stream",
          "name": "stderr",
          "text": [
            "\rProcessing video:   2%|▏         | 86.2/3600 [00:25<17:27,  3.35s/s] "
          ]
        },
        {
          "output_type": "stream",
          "name": "stdout",
          "text": [
            "frame= 2573 fps=104 q=29.0 size=   11264kB time=00:01:26.20 bitrate=1070.4kbits/s dup=34 drop=0 speed=3.47x\n"
          ]
        },
        {
          "output_type": "stream",
          "name": "stderr",
          "text": [
            "\rProcessing video:   2%|▏         | 87.42/3600 [00:26<17:33,  3.34s/s]"
          ]
        },
        {
          "output_type": "stream",
          "name": "stdout",
          "text": [
            "frame= 2610 fps=103 q=29.0 size=   11520kB time=00:01:27.42 bitrate=1079.5kbits/s dup=34 drop=0 speed=3.45x\n"
          ]
        },
        {
          "output_type": "stream",
          "name": "stderr",
          "text": [
            "\rProcessing video:   2%|▏         | 88.64/3600 [00:26<17:38,  3.32s/s]"
          ]
        },
        {
          "output_type": "stream",
          "name": "stdout",
          "text": [
            "frame= 2646 fps=102 q=29.0 size=   11776kB time=00:01:28.64 bitrate=1088.3kbits/s dup=34 drop=0 speed=3.43x\n"
          ]
        },
        {
          "output_type": "stream",
          "name": "stderr",
          "text": [
            "\rProcessing video:   2%|▏         | 89.85/3600 [00:27<17:43,  3.30s/s]"
          ]
        },
        {
          "output_type": "stream",
          "name": "stdout",
          "text": [
            "frame= 2683 fps=102 q=29.0 size=   12032kB time=00:01:29.85 bitrate=1096.9kbits/s dup=34 drop=0 speed=3.41x\n"
          ]
        },
        {
          "output_type": "stream",
          "name": "stderr",
          "text": [
            "\rProcessing video:   3%|▎         | 91.22/3600 [00:27<17:46,  3.29s/s]"
          ]
        },
        {
          "output_type": "stream",
          "name": "stdout",
          "text": [
            "frame= 2724 fps=101 q=29.0 size=   12544kB time=00:01:31.22 bitrate=1126.5kbits/s dup=34 drop=0 speed= 3.4x\n"
          ]
        },
        {
          "output_type": "stream",
          "name": "stderr",
          "text": [
            "\rProcessing video:   3%|▎         | 92.45/3600 [00:28<17:50,  3.28s/s]"
          ]
        },
        {
          "output_type": "stream",
          "name": "stdout",
          "text": [
            "frame= 2761 fps=101 q=29.0 size=   12800kB time=00:01:32.45 bitrate=1134.1kbits/s dup=34 drop=0 speed=3.38x\n"
          ]
        },
        {
          "output_type": "stream",
          "name": "stderr",
          "text": [
            "\rProcessing video:   3%|▎         | 93.82/3600 [00:28<17:53,  3.27s/s]"
          ]
        },
        {
          "output_type": "stream",
          "name": "stdout",
          "text": [
            "frame= 2802 fps=101 q=29.0 size=   13056kB time=00:01:33.82 bitrate=1140.0kbits/s dup=34 drop=0 speed=3.37x\n"
          ]
        },
        {
          "output_type": "stream",
          "name": "stderr",
          "text": [
            "\rProcessing video:   3%|▎         | 95.22999999999999/3600 [00:29<17:55,  3.26s/s]"
          ]
        },
        {
          "output_type": "stream",
          "name": "stdout",
          "text": [
            "frame= 2844 fps=100 q=29.0 size=   13056kB time=00:01:35.23 bitrate=1123.1kbits/s dup=34 drop=0 speed=3.36x\n"
          ]
        },
        {
          "output_type": "stream",
          "name": "stderr",
          "text": [
            "\rProcessing video:   3%|▎         | 96.59/3600 [00:29<17:58,  3.25s/s]            "
          ]
        },
        {
          "output_type": "stream",
          "name": "stdout",
          "text": [
            "frame= 2885 fps=100 q=29.0 size=   13312kB time=00:01:36.59 bitrate=1128.9kbits/s dup=34 drop=0 speed=3.35x\n"
          ]
        },
        {
          "output_type": "stream",
          "name": "stderr",
          "text": [
            "\rProcessing video:   3%|▎         | 97.96000000000001/3600 [00:30<18:03,  3.23s/s]"
          ]
        },
        {
          "output_type": "stream",
          "name": "stdout",
          "text": [
            "frame= 2926 fps=100 q=29.0 size=   13568kB time=00:01:37.96 bitrate=1134.6kbits/s dup=34 drop=0 speed=3.34x\n"
          ]
        },
        {
          "output_type": "stream",
          "name": "stderr",
          "text": [
            "\rProcessing video:   3%|▎         | 99.32/3600 [00:30<18:05,  3.22s/s]            "
          ]
        },
        {
          "output_type": "stream",
          "name": "stdout",
          "text": [
            "frame= 2967 fps= 99 q=29.0 size=   13824kB time=00:01:39.32 bitrate=1140.1kbits/s dup=34 drop=0 speed=3.32x\n"
          ]
        },
        {
          "output_type": "stream",
          "name": "stderr",
          "text": [
            "\rProcessing video:   3%|▎         | 100.72999999999999/3600 [00:31<18:07,  3.22s/s]"
          ]
        },
        {
          "output_type": "stream",
          "name": "stdout",
          "text": [
            "frame= 3009 fps= 99 q=29.0 size=   13824kB time=00:01:40.73 bitrate=1124.2kbits/s dup=34 drop=0 speed=3.31x\n"
          ]
        },
        {
          "output_type": "stream",
          "name": "stderr",
          "text": [
            "\rProcessing video:   3%|▎         | 102.05/3600 [00:31<18:10,  3.21s/s]            "
          ]
        },
        {
          "output_type": "stream",
          "name": "stdout",
          "text": [
            "frame= 3049 fps= 99 q=29.0 size=   14080kB time=00:01:42.05 bitrate=1130.2kbits/s dup=34 drop=0 speed= 3.3x\n"
          ]
        },
        {
          "output_type": "stream",
          "name": "stderr",
          "text": [
            "\rProcessing video:   3%|▎         | 103.4/3600 [00:32<18:12,  3.20s/s] "
          ]
        },
        {
          "output_type": "stream",
          "name": "stdout",
          "text": [
            "frame= 3089 fps= 98 q=29.0 size=   14336kB time=00:01:43.40 bitrate=1135.8kbits/s dup=34 drop=0 speed=3.29x\n"
          ]
        },
        {
          "output_type": "stream",
          "name": "stderr",
          "text": [
            "\rProcessing video:   3%|▎         | 104.72/3600 [00:32<18:15,  3.19s/s]"
          ]
        },
        {
          "output_type": "stream",
          "name": "stdout",
          "text": [
            "frame= 3129 fps= 98 q=29.0 size=   14592kB time=00:01:44.72 bitrate=1141.4kbits/s dup=34 drop=0 speed=3.28x\n"
          ]
        },
        {
          "output_type": "stream",
          "name": "stderr",
          "text": [
            "\rProcessing video:   3%|▎         | 106.19/3600 [00:33<18:15,  3.19s/s]"
          ]
        },
        {
          "output_type": "stream",
          "name": "stdout",
          "text": [
            "frame= 3173 fps= 98 q=29.0 size=   14848kB time=00:01:46.19 bitrate=1145.4kbits/s dup=34 drop=0 speed=3.27x\n"
          ]
        },
        {
          "output_type": "stream",
          "name": "stderr",
          "text": [
            "\rProcessing video:   3%|▎         | 107.97999999999999/3600 [00:33<18:13,  3.19s/s]"
          ]
        },
        {
          "output_type": "stream",
          "name": "stdout",
          "text": [
            "frame= 3227 fps= 98 q=29.0 size=   14848kB time=00:01:47.98 bitrate=1126.4kbits/s dup=34 drop=0 speed=3.28x\n"
          ]
        },
        {
          "output_type": "stream",
          "name": "stderr",
          "text": [
            "\rProcessing video:   3%|▎         | 109.88/3600 [00:34<18:09,  3.20s/s]            "
          ]
        },
        {
          "output_type": "stream",
          "name": "stdout",
          "text": [
            "frame= 3284 fps= 98 q=29.0 size=   15104kB time=00:01:49.88 bitrate=1126.0kbits/s dup=34 drop=0 speed=3.29x\n"
          ]
        },
        {
          "output_type": "stream",
          "name": "stderr",
          "text": [
            "\rProcessing video:   3%|▎         | 111.93/3600 [00:34<18:04,  3.22s/s]"
          ]
        },
        {
          "output_type": "stream",
          "name": "stdout",
          "text": [
            "frame= 3345 fps= 99 q=29.0 size=   15360kB time=00:01:51.93 bitrate=1124.1kbits/s dup=34 drop=0 speed= 3.3x\n"
          ]
        },
        {
          "output_type": "stream",
          "name": "stderr",
          "text": [
            "\rProcessing video:   3%|▎         | 114.0/3600 [00:35<17:59,  3.23s/s] "
          ]
        },
        {
          "output_type": "stream",
          "name": "stdout",
          "text": [
            "frame= 3407 fps= 99 q=29.0 size=   15616kB time=00:01:54.00 bitrate=1122.1kbits/s dup=34 drop=0 speed=3.31x\n"
          ]
        },
        {
          "output_type": "stream",
          "name": "stderr",
          "text": [
            "\rProcessing video:   3%|▎         | 116.09/3600 [00:35<17:54,  3.24s/s]"
          ]
        },
        {
          "output_type": "stream",
          "name": "stdout",
          "text": [
            "frame= 3470 fps= 99 q=29.0 size=   15872kB time=00:01:56.09 bitrate=1120.0kbits/s dup=34 drop=0 speed=3.32x\n"
          ]
        },
        {
          "output_type": "stream",
          "name": "stderr",
          "text": [
            "\rProcessing video:   3%|▎         | 118.28999999999999/3600 [00:36<17:48,  3.26s/s]"
          ]
        },
        {
          "output_type": "stream",
          "name": "stdout",
          "text": [
            "frame= 3536 fps=100 q=29.0 size=   16128kB time=00:01:58.29 bitrate=1116.9kbits/s dup=34 drop=0 speed=3.34x\n"
          ]
        },
        {
          "output_type": "stream",
          "name": "stderr",
          "text": [
            "\rProcessing video:   3%|▎         | 120.23/3600 [00:36<17:45,  3.27s/s]            "
          ]
        },
        {
          "output_type": "stream",
          "name": "stdout",
          "text": [
            "frame= 3594 fps=100 q=26.0 size=   16128kB time=00:02:00.23 bitrate=1098.9kbits/s dup=34 drop=0 speed=3.34x\n"
          ]
        },
        {
          "output_type": "stream",
          "name": "stderr",
          "text": [
            "\rProcessing video:   3%|▎         | 121.83/3600 [00:37<17:45,  3.26s/s]"
          ]
        },
        {
          "output_type": "stream",
          "name": "stdout",
          "text": [
            "frame= 3642 fps=100 q=29.0 size=   16384kB time=00:02:01.83 bitrate=1101.6kbits/s dup=34 drop=0 speed=3.34x\n"
          ]
        },
        {
          "output_type": "stream",
          "name": "stderr",
          "text": [
            "\rProcessing video:   3%|▎         | 123.09/3600 [00:37<17:48,  3.25s/s]"
          ]
        },
        {
          "output_type": "stream",
          "name": "stdout",
          "text": [
            "frame= 3680 fps=100 q=29.0 size=   16640kB time=00:02:03.09 bitrate=1107.4kbits/s dup=34 drop=0 speed=3.33x\n"
          ]
        },
        {
          "output_type": "stream",
          "name": "stderr",
          "text": [
            "\rProcessing video:   3%|▎         | 124.37/3600 [00:38<17:53,  3.24s/s]"
          ]
        },
        {
          "output_type": "stream",
          "name": "stdout",
          "text": [
            "frame= 3718 fps= 99 q=29.0 size=   16896kB time=00:02:04.37 bitrate=1112.9kbits/s dup=34 drop=0 speed=3.32x\n"
          ]
        },
        {
          "output_type": "stream",
          "name": "stderr",
          "text": [
            "\rProcessing video:   3%|▎         | 125.56/3600 [00:38<17:56,  3.23s/s]"
          ]
        },
        {
          "output_type": "stream",
          "name": "stdout",
          "text": [
            "frame= 3754 fps= 99 q=29.0 size=   17152kB time=00:02:05.56 bitrate=1119.0kbits/s dup=34 drop=0 speed= 3.3x\n"
          ]
        },
        {
          "output_type": "stream",
          "name": "stderr",
          "text": [
            "\rProcessing video:   4%|▎         | 126.76/3600 [00:39<17:59,  3.22s/s]"
          ]
        },
        {
          "output_type": "stream",
          "name": "stdout",
          "text": [
            "frame= 3790 fps= 98 q=29.0 size=   17408kB time=00:02:06.76 bitrate=1125.0kbits/s dup=34 drop=0 speed=3.29x\n"
          ]
        },
        {
          "output_type": "stream",
          "name": "stderr",
          "text": [
            "\rProcessing video:   4%|▎         | 127.95/3600 [00:39<18:03,  3.21s/s]"
          ]
        },
        {
          "output_type": "stream",
          "name": "stdout",
          "text": [
            "frame= 3826 fps= 98 q=29.0 size=   17664kB time=00:02:07.95 bitrate=1130.9kbits/s dup=34 drop=0 speed=3.28x\n"
          ]
        },
        {
          "output_type": "stream",
          "name": "stderr",
          "text": [
            "\rProcessing video:   4%|▎         | 129.06/3600 [00:40<18:06,  3.19s/s]"
          ]
        },
        {
          "output_type": "stream",
          "name": "stdout",
          "text": [
            "frame= 3859 fps= 98 q=29.0 size=   17920kB time=00:02:09.06 bitrate=1137.4kbits/s dup=34 drop=0 speed=3.26x\n"
          ]
        },
        {
          "output_type": "stream",
          "name": "stderr",
          "text": [
            "\rProcessing video:   4%|▎         | 130.19/3600 [00:40<18:10,  3.18s/s]"
          ]
        },
        {
          "output_type": "stream",
          "name": "stdout",
          "text": [
            "frame= 3893 fps= 97 q=29.0 size=   18176kB time=00:02:10.19 bitrate=1143.6kbits/s dup=34 drop=0 speed=3.25x\n"
          ]
        },
        {
          "output_type": "stream",
          "name": "stderr",
          "text": [
            "\rProcessing video:   4%|▎         | 131.45/3600 [00:41<18:13,  3.17s/s]"
          ]
        },
        {
          "output_type": "stream",
          "name": "stdout",
          "text": [
            "frame= 3931 fps= 97 q=29.0 size=   18432kB time=00:02:11.45 bitrate=1148.6kbits/s dup=34 drop=0 speed=3.24x\n"
          ]
        },
        {
          "output_type": "stream",
          "name": "stderr",
          "text": [
            "\rProcessing video:   4%|▎         | 132.73/3600 [00:41<18:15,  3.17s/s]"
          ]
        },
        {
          "output_type": "stream",
          "name": "stdout",
          "text": [
            "frame= 3969 fps= 97 q=29.0 size=   18688kB time=00:02:12.73 bitrate=1153.4kbits/s dup=34 drop=0 speed=3.23x\n"
          ]
        },
        {
          "output_type": "stream",
          "name": "stderr",
          "text": [
            "\rProcessing video:   4%|▎         | 134.16/3600 [00:42<18:16,  3.16s/s]"
          ]
        },
        {
          "output_type": "stream",
          "name": "stdout",
          "text": [
            "frame= 4012 fps= 97 q=29.0 size=   19200kB time=00:02:14.16 bitrate=1172.3kbits/s dup=34 drop=0 speed=3.23x\n"
          ]
        },
        {
          "output_type": "stream",
          "name": "stderr",
          "text": [
            "\rProcessing video:   4%|▍         | 135.72/3600 [00:42<18:15,  3.16s/s]"
          ]
        },
        {
          "output_type": "stream",
          "name": "stdout",
          "text": [
            "frame= 4059 fps= 97 q=29.0 size=   19200kB time=00:02:15.72 bitrate=1158.9kbits/s dup=34 drop=0 speed=3.23x\n"
          ]
        },
        {
          "output_type": "stream",
          "name": "stderr",
          "text": [
            "\rProcessing video:   4%|▍         | 137.42000000000002/3600 [00:43<18:14,  3.16s/s]"
          ]
        },
        {
          "output_type": "stream",
          "name": "stdout",
          "text": [
            "frame= 4110 fps= 97 q=29.0 size=   19456kB time=00:02:17.42 bitrate=1159.8kbits/s dup=34 drop=0 speed=3.23x\n"
          ]
        },
        {
          "output_type": "stream",
          "name": "stderr",
          "text": [
            "\rProcessing video:   4%|▍         | 139.02/3600 [00:43<18:15,  3.16s/s]            "
          ]
        },
        {
          "output_type": "stream",
          "name": "stdout",
          "text": [
            "frame= 4158 fps= 97 q=29.0 size=   19712kB time=00:02:19.02 bitrate=1161.5kbits/s dup=34 drop=0 speed=3.23x\n"
          ]
        },
        {
          "output_type": "stream",
          "name": "stderr",
          "text": [
            "\rProcessing video:   4%|▍         | 140.75/3600 [00:44<18:13,  3.16s/s]"
          ]
        },
        {
          "output_type": "stream",
          "name": "stdout",
          "text": [
            "frame= 4210 fps= 97 q=29.0 size=   19968kB time=00:02:20.75 bitrate=1162.1kbits/s dup=34 drop=0 speed=3.23x\n"
          ]
        },
        {
          "output_type": "stream",
          "name": "stderr",
          "text": [
            "\rProcessing video:   4%|▍         | 142.42000000000002/3600 [00:44<18:12,  3.16s/s]"
          ]
        },
        {
          "output_type": "stream",
          "name": "stdout",
          "text": [
            "frame= 4260 fps= 97 q=29.0 size=   20224kB time=00:02:22.42 bitrate=1163.3kbits/s dup=34 drop=0 speed=3.23x\n"
          ]
        },
        {
          "output_type": "stream",
          "name": "stderr",
          "text": [
            "\rProcessing video:   4%|▍         | 144.0/3600 [00:45<18:12,  3.16s/s]             "
          ]
        },
        {
          "output_type": "stream",
          "name": "stdout",
          "text": [
            "frame= 4307 fps= 97 q=29.0 size=   20480kB time=00:02:24.00 bitrate=1165.1kbits/s dup=34 drop=0 speed=3.23x\n"
          ]
        },
        {
          "output_type": "stream",
          "name": "stderr",
          "text": [
            "\rProcessing video:   4%|▍         | 145.7/3600 [00:46<18:10,  3.17s/s]"
          ]
        },
        {
          "output_type": "stream",
          "name": "stdout",
          "text": [
            "frame= 4358 fps= 97 q=29.0 size=   20736kB time=00:02:25.70 bitrate=1165.8kbits/s dup=34 drop=0 speed=3.23x\n"
          ]
        },
        {
          "output_type": "stream",
          "name": "stderr",
          "text": [
            "\rProcessing video:   4%|▍         | 147.26/3600 [00:46<18:10,  3.17s/s]"
          ]
        },
        {
          "output_type": "stream",
          "name": "stdout",
          "text": [
            "frame= 4405 fps= 97 q=29.0 size=   20736kB time=00:02:27.26 bitrate=1153.5kbits/s dup=34 drop=0 speed=3.23x\n"
          ]
        },
        {
          "output_type": "stream",
          "name": "stderr",
          "text": [
            "\rProcessing video:   4%|▍         | 148.9/3600 [00:47<18:09,  3.17s/s] "
          ]
        },
        {
          "output_type": "stream",
          "name": "stdout",
          "text": [
            "frame= 4454 fps= 97 q=29.0 size=   20992kB time=00:02:28.90 bitrate=1154.9kbits/s dup=34 drop=0 speed=3.23x\n"
          ]
        },
        {
          "output_type": "stream",
          "name": "stderr",
          "text": [
            "\rProcessing video:   4%|▍         | 150.57/3600 [00:47<18:08,  3.17s/s]"
          ]
        },
        {
          "output_type": "stream",
          "name": "stdout",
          "text": [
            "frame= 4504 fps= 97 q=29.0 size=   21248kB time=00:02:30.57 bitrate=1156.0kbits/s dup=34 drop=0 speed=3.23x\n"
          ]
        },
        {
          "output_type": "stream",
          "name": "stderr",
          "text": [
            "\rProcessing video:   4%|▍         | 152.64/3600 [00:48<18:04,  3.18s/s]"
          ]
        },
        {
          "output_type": "stream",
          "name": "stdout",
          "text": [
            "frame= 4566 fps= 97 q=29.0 size=   21504kB time=00:02:32.64 bitrate=1154.1kbits/s dup=34 drop=0 speed=3.24x\n"
          ]
        },
        {
          "output_type": "stream",
          "name": "stderr",
          "text": [
            "\rProcessing video:   4%|▍         | 155.26/3600 [00:48<17:56,  3.20s/s]"
          ]
        },
        {
          "output_type": "stream",
          "name": "stdout",
          "text": [
            "frame= 4645 fps= 98 q=29.0 size=   21760kB time=00:02:35.26 bitrate=1148.1kbits/s dup=34 drop=0 speed=3.26x\n"
          ]
        },
        {
          "output_type": "stream",
          "name": "stderr",
          "text": [
            "\rProcessing video:   4%|▍         | 158.03/3600 [00:49<17:47,  3.22s/s]"
          ]
        },
        {
          "output_type": "stream",
          "name": "stdout",
          "text": [
            "frame= 4728 fps= 98 q=29.0 size=   21760kB time=00:02:38.03 bitrate=1128.0kbits/s dup=34 drop=0 speed=3.28x\n"
          ]
        },
        {
          "output_type": "stream",
          "name": "stderr",
          "text": [
            "\rProcessing video:   4%|▍         | 160.7/3600 [00:49<17:39,  3.25s/s] "
          ]
        },
        {
          "output_type": "stream",
          "name": "stdout",
          "text": [
            "frame= 4808 fps= 99 q=29.0 size=   22016kB time=00:02:40.70 bitrate=1122.3kbits/s dup=34 drop=0 speed= 3.3x\n"
          ]
        },
        {
          "output_type": "stream",
          "name": "stderr",
          "text": [
            "\rProcessing video:   5%|▍         | 163.22/3600 [00:50<17:33,  3.26s/s]"
          ]
        },
        {
          "output_type": "stream",
          "name": "stdout",
          "text": [
            "frame= 4884 fps= 99 q=29.0 size=   22272kB time=00:02:43.22 bitrate=1117.8kbits/s dup=34 drop=0 speed=3.32x\n"
          ]
        },
        {
          "output_type": "stream",
          "name": "stderr",
          "text": [
            "\rProcessing video:   5%|▍         | 164.86/3600 [00:50<17:32,  3.26s/s]"
          ]
        },
        {
          "output_type": "stream",
          "name": "stdout",
          "text": [
            "frame= 4933 fps= 99 q=29.0 size=   22528kB time=00:02:44.86 bitrate=1119.4kbits/s dup=34 drop=0 speed=3.32x\n"
          ]
        },
        {
          "output_type": "stream",
          "name": "stderr",
          "text": [
            "\rProcessing video:   5%|▍         | 166.2/3600 [00:51<17:34,  3.26s/s] "
          ]
        },
        {
          "output_type": "stream",
          "name": "stdout",
          "text": [
            "frame= 4973 fps= 99 q=29.0 size=   22784kB time=00:02:46.20 bitrate=1123.0kbits/s dup=34 drop=0 speed=3.31x\n"
          ]
        },
        {
          "output_type": "stream",
          "name": "stderr",
          "text": [
            "\rProcessing video:   5%|▍         | 167.46/3600 [00:51<17:36,  3.25s/s]"
          ]
        },
        {
          "output_type": "stream",
          "name": "stdout",
          "text": [
            "frame= 5011 fps= 99 q=29.0 size=   23040kB time=00:02:47.46 bitrate=1127.1kbits/s dup=34 drop=0 speed=3.31x\n"
          ]
        },
        {
          "output_type": "stream",
          "name": "stderr",
          "text": [
            "\rProcessing video:   5%|▍         | 168.7/3600 [00:52<17:39,  3.24s/s] "
          ]
        },
        {
          "output_type": "stream",
          "name": "stdout",
          "text": [
            "frame= 5048 fps= 99 q=29.0 size=   23296kB time=00:02:48.70 bitrate=1131.2kbits/s dup=34 drop=0 speed= 3.3x\n"
          ]
        },
        {
          "output_type": "stream",
          "name": "stderr",
          "text": [
            "\rProcessing video:   5%|▍         | 169.89/3600 [00:52<17:41,  3.23s/s]"
          ]
        },
        {
          "output_type": "stream",
          "name": "stdout",
          "text": [
            "frame= 5084 fps= 98 q=29.0 size=   23552kB time=00:02:49.89 bitrate=1135.6kbits/s dup=34 drop=0 speed=3.28x\n"
          ]
        },
        {
          "output_type": "stream",
          "name": "stderr",
          "text": [
            "\rProcessing video:   5%|▍         | 171.13/3600 [00:53<17:43,  3.22s/s]"
          ]
        },
        {
          "output_type": "stream",
          "name": "stdout",
          "text": [
            "frame= 5121 fps= 98 q=29.0 size=   23808kB time=00:02:51.13 bitrate=1139.7kbits/s dup=34 drop=0 speed=3.28x\n"
          ]
        },
        {
          "output_type": "stream",
          "name": "stderr",
          "text": [
            "\rProcessing video:   5%|▍         | 172.39/3600 [00:53<17:45,  3.22s/s]"
          ]
        },
        {
          "output_type": "stream",
          "name": "stdout",
          "text": [
            "frame= 5159 fps= 98 q=29.0 size=   24320kB time=00:02:52.39 bitrate=1155.7kbits/s dup=34 drop=0 speed=3.27x\n"
          ]
        },
        {
          "output_type": "stream",
          "name": "stderr",
          "text": [
            "\rProcessing video:   5%|▍         | 173.86/3600 [00:54<17:46,  3.21s/s]"
          ]
        },
        {
          "output_type": "stream",
          "name": "stdout",
          "text": [
            "frame= 5203 fps= 98 q=29.0 size=   24576kB time=00:02:53.86 bitrate=1157.9kbits/s dup=34 drop=0 speed=3.27x\n"
          ]
        },
        {
          "output_type": "stream",
          "name": "stderr",
          "text": [
            "\rProcessing video:   5%|▍         | 175.36/3600 [00:54<17:46,  3.21s/s]"
          ]
        },
        {
          "output_type": "stream",
          "name": "stdout",
          "text": [
            "frame= 5248 fps= 98 q=29.0 size=   24832kB time=00:02:55.36 bitrate=1160.0kbits/s dup=34 drop=0 speed=3.26x\n"
          ]
        },
        {
          "output_type": "stream",
          "name": "stderr",
          "text": [
            "\rProcessing video:   5%|▍         | 176.72/3600 [00:55<17:47,  3.21s/s]"
          ]
        },
        {
          "output_type": "stream",
          "name": "stdout",
          "text": [
            "frame= 5289 fps= 98 q=29.0 size=   25088kB time=00:02:56.72 bitrate=1162.9kbits/s dup=34 drop=0 speed=3.26x\n"
          ]
        },
        {
          "output_type": "stream",
          "name": "stderr",
          "text": [
            "\rProcessing video:   5%|▍         | 178.62/3600 [00:55<17:45,  3.21s/s]"
          ]
        },
        {
          "output_type": "stream",
          "name": "stdout",
          "text": [
            "frame= 5346 fps= 98 q=29.0 size=   25344kB time=00:02:58.62 bitrate=1162.3kbits/s dup=34 drop=0 speed=3.26x\n"
          ]
        },
        {
          "output_type": "stream",
          "name": "stderr",
          "text": [
            "\rProcessing video:   5%|▌         | 180.28/3600 [00:56<17:44,  3.21s/s]"
          ]
        },
        {
          "output_type": "stream",
          "name": "stdout",
          "text": [
            "frame= 5396 fps= 98 q=29.0 size=   25344kB time=00:03:00.28 bitrate=1151.6kbits/s dup=34 drop=0 speed=3.26x\n"
          ]
        },
        {
          "output_type": "stream",
          "name": "stderr",
          "text": [
            "\rProcessing video:   5%|▌         | 181.86/3600 [00:56<17:44,  3.21s/s]"
          ]
        },
        {
          "output_type": "stream",
          "name": "stdout",
          "text": [
            "frame= 5443 fps= 98 q=29.0 size=   25600kB time=00:03:01.86 bitrate=1153.1kbits/s dup=34 drop=0 speed=3.26x\n"
          ]
        },
        {
          "output_type": "stream",
          "name": "stderr",
          "text": [
            "\rProcessing video:   5%|▌         | 183.36/3600 [00:57<17:44,  3.21s/s]"
          ]
        },
        {
          "output_type": "stream",
          "name": "stdout",
          "text": [
            "frame= 5488 fps= 98 q=29.0 size=   25856kB time=00:03:03.36 bitrate=1155.2kbits/s dup=34 drop=0 speed=3.26x\n"
          ]
        },
        {
          "output_type": "stream",
          "name": "stderr",
          "text": [
            "\rProcessing video:   5%|▌         | 184.85/3600 [00:57<17:44,  3.21s/s]"
          ]
        },
        {
          "output_type": "stream",
          "name": "stdout",
          "text": [
            "frame= 5533 fps= 97 q=29.0 size=   26112kB time=00:03:04.85 bitrate=1157.2kbits/s dup=34 drop=0 speed=3.26x\n"
          ]
        },
        {
          "output_type": "stream",
          "name": "stderr",
          "text": [
            "\rProcessing video:   5%|▌         | 186.38/3600 [00:58<17:44,  3.21s/s]"
          ]
        },
        {
          "output_type": "stream",
          "name": "stdout",
          "text": [
            "frame= 5579 fps= 97 q=29.0 size=   26368kB time=00:03:06.38 bitrate=1158.9kbits/s dup=34 drop=0 speed=3.26x\n"
          ]
        },
        {
          "output_type": "stream",
          "name": "stderr",
          "text": [
            "\rProcessing video:   5%|▌         | 188.03/3600 [00:58<17:43,  3.21s/s]"
          ]
        },
        {
          "output_type": "stream",
          "name": "stdout",
          "text": [
            "frame= 5628 fps= 97 q=29.0 size=   26624kB time=00:03:08.03 bitrate=1159.9kbits/s dup=34 drop=0 speed=3.26x\n"
          ]
        },
        {
          "output_type": "stream",
          "name": "stderr",
          "text": [
            "\rProcessing video:   5%|▌         | 190.2/3600 [00:59<17:40,  3.22s/s] "
          ]
        },
        {
          "output_type": "stream",
          "name": "stdout",
          "text": [
            "frame= 5693 fps= 98 q=29.0 size=   26624kB time=00:03:10.20 bitrate=1146.7kbits/s dup=34 drop=0 speed=3.26x\n"
          ]
        },
        {
          "output_type": "stream",
          "name": "stderr",
          "text": [
            "\rProcessing video:   5%|▌         | 192.53/3600 [00:59<17:35,  3.23s/s]"
          ]
        },
        {
          "output_type": "stream",
          "name": "stdout",
          "text": [
            "frame= 5763 fps= 98 q=29.0 size=   26880kB time=00:03:12.53 bitrate=1143.7kbits/s dup=34 drop=0 speed=3.28x\n"
          ]
        },
        {
          "output_type": "stream",
          "name": "stderr",
          "text": [
            "\rProcessing video:   5%|▌         | 194.83/3600 [01:00<17:31,  3.24s/s]"
          ]
        },
        {
          "output_type": "stream",
          "name": "stdout",
          "text": [
            "frame= 5832 fps= 98 q=29.0 size=   27136kB time=00:03:14.83 bitrate=1140.9kbits/s dup=34 drop=0 speed=3.29x\n"
          ]
        },
        {
          "output_type": "stream",
          "name": "stderr",
          "text": [
            "\rProcessing video:   5%|▌         | 197.05/3600 [01:00<17:27,  3.25s/s]"
          ]
        },
        {
          "output_type": "stream",
          "name": "stdout",
          "text": [
            "frame= 5899 fps= 99 q=29.0 size=   27392kB time=00:03:17.05 bitrate=1138.7kbits/s dup=34 drop=0 speed= 3.3x\n"
          ]
        },
        {
          "output_type": "stream",
          "name": "stderr",
          "text": [
            "\rProcessing video:   6%|▌         | 199.46/3600 [01:01<17:22,  3.26s/s]"
          ]
        },
        {
          "output_type": "stream",
          "name": "stdout",
          "text": [
            "frame= 5971 fps= 99 q=29.0 size=   27392kB time=00:03:19.46 bitrate=1125.0kbits/s dup=34 drop=0 speed=3.31x\n"
          ]
        },
        {
          "output_type": "stream",
          "name": "stderr",
          "text": [
            "\rProcessing video:   6%|▌         | 201.77/3600 [01:01<17:18,  3.27s/s]"
          ]
        },
        {
          "output_type": "stream",
          "name": "stdout",
          "text": [
            "frame= 6040 fps= 99 q=29.0 size=   27648kB time=00:03:21.77 bitrate=1122.5kbits/s dup=34 drop=0 speed=3.32x\n"
          ]
        },
        {
          "output_type": "stream",
          "name": "stderr",
          "text": [
            "\rProcessing video:   6%|▌         | 204.2/3600 [01:02<17:13,  3.29s/s] "
          ]
        },
        {
          "output_type": "stream",
          "name": "stdout",
          "text": [
            "frame= 6113 fps=100 q=29.0 size=   27904kB time=00:03:24.20 bitrate=1119.4kbits/s dup=34 drop=0 speed=3.33x\n"
          ]
        },
        {
          "output_type": "stream",
          "name": "stderr",
          "text": [
            "\rProcessing video:   6%|▌         | 206.8/3600 [01:02<17:08,  3.30s/s]"
          ]
        },
        {
          "output_type": "stream",
          "name": "stdout",
          "text": [
            "frame= 6191 fps=100 q=29.0 size=   27904kB time=00:03:26.80 bitrate=1105.3kbits/s dup=34 drop=0 speed=3.35x\n"
          ]
        },
        {
          "output_type": "stream",
          "name": "stderr",
          "text": [
            "\rProcessing video:   6%|▌         | 208.93/3600 [01:03<17:05,  3.31s/s]"
          ]
        },
        {
          "output_type": "stream",
          "name": "stdout",
          "text": [
            "frame= 6255 fps=100 q=29.0 size=   28160kB time=00:03:28.93 bitrate=1104.1kbits/s dup=34 drop=0 speed=3.35x\n"
          ]
        },
        {
          "output_type": "stream",
          "name": "stderr",
          "text": [
            "\rProcessing video:   6%|▌         | 210.19/3600 [01:03<17:07,  3.30s/s]"
          ]
        },
        {
          "output_type": "stream",
          "name": "stdout",
          "text": [
            "frame= 6293 fps=100 q=29.0 size=   28416kB time=00:03:30.19 bitrate=1107.5kbits/s dup=34 drop=0 speed=3.35x\n"
          ]
        },
        {
          "output_type": "stream",
          "name": "stderr",
          "text": [
            "\rProcessing video:   6%|▌         | 211.6/3600 [01:04<17:08,  3.30s/s] "
          ]
        },
        {
          "output_type": "stream",
          "name": "stdout",
          "text": [
            "frame= 6335 fps=100 q=29.0 size=   28672kB time=00:03:31.60 bitrate=1110.0kbits/s dup=34 drop=0 speed=3.34x\n"
          ]
        },
        {
          "output_type": "stream",
          "name": "stderr",
          "text": [
            "\rProcessing video:   6%|▌         | 212.86/3600 [01:04<17:09,  3.29s/s]"
          ]
        },
        {
          "output_type": "stream",
          "name": "stdout",
          "text": [
            "frame= 6373 fps=100 q=29.0 size=   28928kB time=00:03:32.86 bitrate=1113.3kbits/s dup=34 drop=0 speed=3.33x\n"
          ]
        },
        {
          "output_type": "stream",
          "name": "stderr",
          "text": [
            "\rProcessing video:   6%|▌         | 214.2/3600 [01:05<17:10,  3.29s/s] "
          ]
        },
        {
          "output_type": "stream",
          "name": "stdout",
          "text": [
            "frame= 6413 fps=100 q=29.0 size=   29184kB time=00:03:34.20 bitrate=1116.1kbits/s dup=34 drop=0 speed=3.33x\n"
          ]
        },
        {
          "output_type": "stream",
          "name": "stderr",
          "text": [
            "\rProcessing video:   6%|▌         | 215.42000000000002/3600 [01:05<17:12,  3.28s/s]"
          ]
        },
        {
          "output_type": "stream",
          "name": "stdout",
          "text": [
            "frame= 6450 fps= 99 q=29.0 size=   29696kB time=00:03:35.42 bitrate=1129.3kbits/s dup=34 drop=0 speed=3.32x\n"
          ]
        },
        {
          "output_type": "stream",
          "name": "stderr",
          "text": [
            "\rProcessing video:   6%|▌         | 216.82999999999998/3600 [01:06<17:13,  3.27s/s]"
          ]
        },
        {
          "output_type": "stream",
          "name": "stdout",
          "text": [
            "frame= 6492 fps= 99 q=29.0 size=   29952kB time=00:03:36.83 bitrate=1131.6kbits/s dup=34 drop=0 speed=3.32x\n"
          ]
        },
        {
          "output_type": "stream",
          "name": "stderr",
          "text": [
            "\rProcessing video:   6%|▌         | 218.38/3600 [01:06<17:13,  3.27s/s]            "
          ]
        },
        {
          "output_type": "stream",
          "name": "stdout",
          "text": [
            "frame= 6539 fps= 99 q=29.0 size=   30208kB time=00:03:38.38 bitrate=1133.1kbits/s dup=34 drop=0 speed=3.32x\n"
          ]
        },
        {
          "output_type": "stream",
          "name": "stderr",
          "text": [
            "\rProcessing video:   6%|▌         | 220.09/3600 [01:07<17:12,  3.27s/s]"
          ]
        },
        {
          "output_type": "stream",
          "name": "stdout",
          "text": [
            "frame= 6590 fps= 99 q=29.0 size=   30464kB time=00:03:40.09 bitrate=1133.9kbits/s dup=34 drop=0 speed=3.32x\n"
          ]
        },
        {
          "output_type": "stream",
          "name": "stderr",
          "text": [
            "\rProcessing video:   6%|▌         | 221.86/3600 [01:07<17:11,  3.28s/s]"
          ]
        },
        {
          "output_type": "stream",
          "name": "stdout",
          "text": [
            "frame= 6643 fps= 99 q=29.0 size=   30720kB time=00:03:41.86 bitrate=1134.3kbits/s dup=34 drop=0 speed=3.32x\n"
          ]
        },
        {
          "output_type": "stream",
          "name": "stderr",
          "text": [
            "\rProcessing video:   6%|▌         | 223.7/3600 [01:08<17:09,  3.28s/s] "
          ]
        },
        {
          "output_type": "stream",
          "name": "stdout",
          "text": [
            "frame= 6698 fps= 99 q=29.0 size=   30720kB time=00:03:43.70 bitrate=1125.0kbits/s dup=34 drop=0 speed=3.32x\n"
          ]
        },
        {
          "output_type": "stream",
          "name": "stderr",
          "text": [
            "\rProcessing video:   6%|▋         | 225.17000000000002/3600 [01:08<17:09,  3.28s/s]"
          ]
        },
        {
          "output_type": "stream",
          "name": "stdout",
          "text": [
            "frame= 6742 fps= 99 q=29.0 size=   30976kB time=00:03:45.17 bitrate=1126.9kbits/s dup=34 drop=0 speed=3.32x\n"
          ]
        },
        {
          "output_type": "stream",
          "name": "stderr",
          "text": [
            "\rProcessing video:   6%|▋         | 226.73/3600 [01:09<17:09,  3.28s/s]            "
          ]
        },
        {
          "output_type": "stream",
          "name": "stdout",
          "text": [
            "frame= 6789 fps= 99 q=29.0 size=   31232kB time=00:03:46.73 bitrate=1128.4kbits/s dup=34 drop=0 speed=3.32x\n"
          ]
        },
        {
          "output_type": "stream",
          "name": "stderr",
          "text": [
            "\rProcessing video:   6%|▋         | 228.2/3600 [01:09<17:10,  3.27s/s] "
          ]
        },
        {
          "output_type": "stream",
          "name": "stdout",
          "text": [
            "frame= 6833 fps= 99 q=29.0 size=   31488kB time=00:03:48.20 bitrate=1130.4kbits/s dup=34 drop=0 speed=3.31x\n"
          ]
        },
        {
          "output_type": "stream",
          "name": "stderr",
          "text": [
            "\rProcessing video:   6%|▋         | 229.93/3600 [01:10<17:09,  3.27s/s]"
          ]
        },
        {
          "output_type": "stream",
          "name": "stdout",
          "text": [
            "frame= 6885 fps= 99 q=29.0 size=   31744kB time=00:03:49.93 bitrate=1131.0kbits/s dup=34 drop=0 speed=3.32x\n"
          ]
        },
        {
          "output_type": "stream",
          "name": "stderr",
          "text": [
            "\rProcessing video:   6%|▋         | 232.06/3600 [01:10<17:06,  3.28s/s]"
          ]
        },
        {
          "output_type": "stream",
          "name": "stdout",
          "text": [
            "frame= 6949 fps= 99 q=29.0 size=   32000kB time=00:03:52.06 bitrate=1129.6kbits/s dup=34 drop=0 speed=3.32x\n"
          ]
        },
        {
          "output_type": "stream",
          "name": "stderr",
          "text": [
            "\rProcessing video:   7%|▋         | 234.36/3600 [01:11<17:02,  3.29s/s]"
          ]
        },
        {
          "output_type": "stream",
          "name": "stdout",
          "text": [
            "frame= 7018 fps=100 q=29.0 size=   32256kB time=00:03:54.36 bitrate=1127.5kbits/s dup=34 drop=0 speed=3.33x\n"
          ]
        },
        {
          "output_type": "stream",
          "name": "stderr",
          "text": [
            "\rProcessing video:   7%|▋         | 236.8/3600 [01:11<16:58,  3.30s/s] "
          ]
        },
        {
          "output_type": "stream",
          "name": "stdout",
          "text": [
            "frame= 7091 fps=100 q=29.0 size=   32256kB time=00:03:56.80 bitrate=1115.9kbits/s dup=34 drop=0 speed=3.34x\n"
          ]
        },
        {
          "output_type": "stream",
          "name": "stderr",
          "text": [
            "\rProcessing video:   7%|▋         | 239.16/3600 [01:12<16:55,  3.31s/s]"
          ]
        },
        {
          "output_type": "stream",
          "name": "stdout",
          "text": [
            "frame= 7162 fps=100 q=29.0 size=   32512kB time=00:03:59.16 bitrate=1113.6kbits/s dup=34 drop=0 speed=3.35x\n"
          ]
        },
        {
          "output_type": "stream",
          "name": "stderr",
          "text": [
            "\rProcessing video:   7%|▋         | 241.4/3600 [01:12<16:51,  3.32s/s] "
          ]
        },
        {
          "output_type": "stream",
          "name": "stdout",
          "text": [
            "frame= 7229 fps=101 q=29.0 size=   32768kB time=00:04:01.40 bitrate=1112.0kbits/s dup=34 drop=0 speed=3.36x\n"
          ]
        },
        {
          "output_type": "stream",
          "name": "stderr",
          "text": [
            "\rProcessing video:   7%|▋         | 243.96/3600 [01:13<16:47,  3.33s/s]"
          ]
        },
        {
          "output_type": "stream",
          "name": "stdout",
          "text": [
            "frame= 7306 fps=101 q=29.0 size=   33024kB time=00:04:03.96 bitrate=1108.9kbits/s dup=34 drop=0 speed=3.37x\n"
          ]
        },
        {
          "output_type": "stream",
          "name": "stderr",
          "text": [
            "\rProcessing video:   7%|▋         | 246.46/3600 [01:13<16:43,  3.34s/s]"
          ]
        },
        {
          "output_type": "stream",
          "name": "stdout",
          "text": [
            "frame= 7381 fps=101 q=29.0 size=   33280kB time=00:04:06.46 bitrate=1106.2kbits/s dup=34 drop=0 speed=3.38x\n"
          ]
        },
        {
          "output_type": "stream",
          "name": "stderr",
          "text": [
            "\rProcessing video:   7%|▋         | 249.02/3600 [01:14<16:39,  3.35s/s]"
          ]
        },
        {
          "output_type": "stream",
          "name": "stdout",
          "text": [
            "frame= 7458 fps=102 q=29.0 size=   33280kB time=00:04:09.02 bitrate=1094.8kbits/s dup=34 drop=0 speed=3.39x\n"
          ]
        },
        {
          "output_type": "stream",
          "name": "stderr",
          "text": [
            "\rProcessing video:   7%|▋         | 251.13/3600 [01:14<16:37,  3.36s/s]"
          ]
        },
        {
          "output_type": "stream",
          "name": "stdout",
          "text": [
            "frame= 7521 fps=102 q=29.0 size=   33536kB time=00:04:11.13 bitrate=1093.9kbits/s dup=34 drop=0 speed= 3.4x\n"
          ]
        },
        {
          "output_type": "stream",
          "name": "stderr",
          "text": [
            "\rProcessing video:   7%|▋         | 252.62/3600 [01:15<16:37,  3.35s/s]"
          ]
        },
        {
          "output_type": "stream",
          "name": "stdout",
          "text": [
            "frame= 7566 fps=102 q=29.0 size=   33792kB time=00:04:12.62 bitrate=1095.8kbits/s dup=34 drop=0 speed=3.39x\n"
          ]
        },
        {
          "output_type": "stream",
          "name": "stderr",
          "text": [
            "\rProcessing video:   7%|▋         | 254.12/3600 [01:15<16:38,  3.35s/s]"
          ]
        },
        {
          "output_type": "stream",
          "name": "stdout",
          "text": [
            "frame= 7611 fps=102 q=29.0 size=   34048kB time=00:04:14.12 bitrate=1097.6kbits/s dup=34 drop=0 speed=3.39x\n"
          ]
        },
        {
          "output_type": "stream",
          "name": "stderr",
          "text": [
            "\rProcessing video:   7%|▋         | 255.7/3600 [01:16<16:38,  3.35s/s] "
          ]
        },
        {
          "output_type": "stream",
          "name": "stdout",
          "text": [
            "frame= 7658 fps=102 q=29.0 size=   34304kB time=00:04:15.70 bitrate=1099.0kbits/s dup=34 drop=0 speed=3.39x\n"
          ]
        },
        {
          "output_type": "stream",
          "name": "stderr",
          "text": [
            "\rProcessing video:   7%|▋         | 257.02/3600 [01:16<16:39,  3.35s/s]"
          ]
        },
        {
          "output_type": "stream",
          "name": "stdout",
          "text": [
            "frame= 7698 fps=101 q=29.0 size=   34560kB time=00:04:17.02 bitrate=1101.5kbits/s dup=34 drop=0 speed=3.38x\n"
          ]
        },
        {
          "output_type": "stream",
          "name": "stderr",
          "text": [
            "\rProcessing video:   7%|▋         | 258.32/3600 [01:17<16:40,  3.34s/s]"
          ]
        },
        {
          "output_type": "stream",
          "name": "stdout",
          "text": [
            "frame= 7737 fps=101 q=29.0 size=   34816kB time=00:04:18.32 bitrate=1104.1kbits/s dup=34 drop=0 speed=3.38x\n"
          ]
        },
        {
          "output_type": "stream",
          "name": "stderr",
          "text": [
            "\rProcessing video:   7%|▋         | 259.43/3600 [01:17<16:41,  3.33s/s]"
          ]
        },
        {
          "output_type": "stream",
          "name": "stdout",
          "text": [
            "frame= 7770 fps=101 q=29.0 size=   35072kB time=00:04:19.43 bitrate=1107.4kbits/s dup=34 drop=0 speed=3.37x\n"
          ]
        },
        {
          "output_type": "stream",
          "name": "stderr",
          "text": [
            "\rProcessing video:   7%|▋         | 260.86/3600 [01:18<16:42,  3.33s/s]"
          ]
        },
        {
          "output_type": "stream",
          "name": "stdout",
          "text": [
            "frame= 7813 fps=101 q=29.0 size=   35328kB time=00:04:20.86 bitrate=1109.4kbits/s dup=34 drop=0 speed=3.37x\n"
          ]
        },
        {
          "output_type": "stream",
          "name": "stderr",
          "text": [
            "\rProcessing video:   7%|▋         | 262.1/3600 [01:18<16:43,  3.33s/s] "
          ]
        },
        {
          "output_type": "stream",
          "name": "stdout",
          "text": [
            "frame= 7850 fps=101 q=29.0 size=   35584kB time=00:04:22.10 bitrate=1112.2kbits/s dup=34 drop=0 speed=3.36x\n"
          ]
        },
        {
          "output_type": "stream",
          "name": "stderr",
          "text": [
            "\rProcessing video:   7%|▋         | 263.33/3600 [01:19<16:45,  3.32s/s]"
          ]
        },
        {
          "output_type": "stream",
          "name": "stdout",
          "text": [
            "frame= 7887 fps=101 q=29.0 size=   35840kB time=00:04:23.33 bitrate=1114.9kbits/s dup=34 drop=0 speed=3.36x\n"
          ]
        },
        {
          "output_type": "stream",
          "name": "stderr",
          "text": [
            "\rProcessing video:   7%|▋         | 264.34/3600 [01:19<16:48,  3.31s/s]"
          ]
        },
        {
          "output_type": "stream",
          "name": "stdout",
          "text": [
            "frame= 7917 fps=100 q=29.0 size=   36096kB time=00:04:24.34 bitrate=1118.6kbits/s dup=34 drop=0 speed=3.35x\n"
          ]
        },
        {
          "output_type": "stream",
          "name": "stderr",
          "text": [
            "\rProcessing video:   7%|▋         | 265.25/3600 [01:20<16:50,  3.30s/s]"
          ]
        },
        {
          "output_type": "stream",
          "name": "stdout",
          "text": [
            "frame= 7945 fps=100 q=29.0 size=   36096kB time=00:04:25.25 bitrate=1114.8kbits/s dup=34 drop=0 speed=3.34x\n"
          ]
        },
        {
          "output_type": "stream",
          "name": "stderr",
          "text": [
            "\rProcessing video:   7%|▋         | 266.06/3600 [01:20<16:53,  3.29s/s]"
          ]
        },
        {
          "output_type": "stream",
          "name": "stdout",
          "text": [
            "frame= 7969 fps=100 q=29.0 size=   36352kB time=00:04:26.06 bitrate=1119.2kbits/s dup=34 drop=0 speed=3.32x\n"
          ]
        },
        {
          "output_type": "stream",
          "name": "stderr",
          "text": [
            "\rProcessing video:   7%|▋         | 267.09/3600 [01:21<16:55,  3.28s/s]"
          ]
        },
        {
          "output_type": "stream",
          "name": "stdout",
          "text": [
            "frame= 8000 fps= 99 q=29.0 size=   36608kB time=00:04:27.09 bitrate=1122.8kbits/s dup=34 drop=0 speed=3.32x\n"
          ]
        },
        {
          "output_type": "stream",
          "name": "stderr",
          "text": [
            "\rProcessing video:   7%|▋         | 268.2/3600 [01:21<16:57,  3.27s/s] "
          ]
        },
        {
          "output_type": "stream",
          "name": "stdout",
          "text": [
            "frame= 8033 fps= 99 q=29.0 size=   36864kB time=00:04:28.20 bitrate=1126.0kbits/s dup=34 drop=0 speed=3.31x\n"
          ]
        },
        {
          "output_type": "stream",
          "name": "stderr",
          "text": [
            "\rProcessing video:   7%|▋         | 269.46/3600 [01:22<16:58,  3.27s/s]"
          ]
        },
        {
          "output_type": "stream",
          "name": "stdout",
          "text": [
            "frame= 8071 fps= 99 q=29.0 size=   37120kB time=00:04:29.46 bitrate=1128.5kbits/s dup=34 drop=0 speed= 3.3x\n"
          ]
        },
        {
          "output_type": "stream",
          "name": "stderr",
          "text": [
            "\rProcessing video:   8%|▊         | 270.8/3600 [01:22<16:59,  3.27s/s] "
          ]
        },
        {
          "output_type": "stream",
          "name": "stdout",
          "text": [
            "frame= 8111 fps= 99 q=29.0 size=   37632kB time=00:04:30.80 bitrate=1138.4kbits/s dup=34 drop=0 speed= 3.3x\n"
          ]
        },
        {
          "output_type": "stream",
          "name": "stderr",
          "text": [
            "\rProcessing video:   8%|▊         | 272.25/3600 [01:23<16:59,  3.26s/s]"
          ]
        },
        {
          "output_type": "stream",
          "name": "stdout",
          "text": [
            "frame= 8155 fps= 99 q=29.0 size=   37632kB time=00:04:32.25 bitrate=1132.3kbits/s dup=34 drop=0 speed= 3.3x\n"
          ]
        },
        {
          "output_type": "stream",
          "name": "stderr",
          "text": [
            "\rProcessing video:   8%|▊         | 273.96/3600 [01:23<16:58,  3.26s/s]"
          ]
        },
        {
          "output_type": "stream",
          "name": "stdout",
          "text": [
            "frame= 8206 fps= 99 q=29.0 size=   37888kB time=00:04:33.96 bitrate=1132.9kbits/s dup=34 drop=0 speed= 3.3x\n"
          ]
        },
        {
          "output_type": "stream",
          "name": "stderr",
          "text": [
            "\rProcessing video:   8%|▊         | 275.43/3600 [01:24<16:58,  3.26s/s]"
          ]
        },
        {
          "output_type": "stream",
          "name": "stdout",
          "text": [
            "frame= 8250 fps= 99 q=29.0 size=   38144kB time=00:04:35.43 bitrate=1134.5kbits/s dup=34 drop=0 speed= 3.3x\n"
          ]
        },
        {
          "output_type": "stream",
          "name": "stderr",
          "text": [
            "\rProcessing video:   8%|▊         | 276.8/3600 [01:24<16:59,  3.26s/s] "
          ]
        },
        {
          "output_type": "stream",
          "name": "stdout",
          "text": [
            "frame= 8291 fps= 99 q=29.0 size=   38400kB time=00:04:36.80 bitrate=1136.5kbits/s dup=34 drop=0 speed=3.29x\n"
          ]
        },
        {
          "output_type": "stream",
          "name": "stderr",
          "text": [
            "\rProcessing video:   8%|▊         | 278.27/3600 [01:25<16:59,  3.26s/s]"
          ]
        },
        {
          "output_type": "stream",
          "name": "stdout",
          "text": [
            "frame= 8335 fps= 99 q=29.0 size=   38656kB time=00:04:38.27 bitrate=1138.0kbits/s dup=34 drop=0 speed=3.29x\n"
          ]
        },
        {
          "output_type": "stream",
          "name": "stderr",
          "text": [
            "\rProcessing video:   8%|▊         | 280.02/3600 [01:25<16:58,  3.26s/s]"
          ]
        },
        {
          "output_type": "stream",
          "name": "stdout",
          "text": [
            "frame= 8388 fps= 99 q=29.0 size=   38912kB time=00:04:40.02 bitrate=1138.4kbits/s dup=34 drop=0 speed=3.29x\n"
          ]
        },
        {
          "output_type": "stream",
          "name": "stderr",
          "text": [
            "\rProcessing video:   8%|▊         | 282.13/3600 [01:26<16:57,  3.26s/s]"
          ]
        },
        {
          "output_type": "stream",
          "name": "stdout",
          "text": [
            "frame= 8451 fps= 99 q=29.0 size=   39168kB time=00:04:42.13 bitrate=1137.3kbits/s dup=34 drop=0 speed= 3.3x\n"
          ]
        },
        {
          "output_type": "stream",
          "name": "stderr",
          "text": [
            "\rProcessing video:   8%|▊         | 283.98/3600 [01:26<16:55,  3.26s/s]"
          ]
        },
        {
          "output_type": "stream",
          "name": "stdout",
          "text": [
            "frame= 8507 fps= 99 q=29.0 size=   39168kB time=00:04:43.98 bitrate=1129.8kbits/s dup=34 drop=0 speed= 3.3x\n"
          ]
        },
        {
          "output_type": "stream",
          "name": "stderr",
          "text": [
            "\rProcessing video:   8%|▊         | 285.58/3600 [01:27<16:55,  3.26s/s]"
          ]
        },
        {
          "output_type": "stream",
          "name": "stdout",
          "text": [
            "frame= 8555 fps= 99 q=29.0 size=   39424kB time=00:04:45.58 bitrate=1130.9kbits/s dup=34 drop=0 speed= 3.3x\n"
          ]
        },
        {
          "output_type": "stream",
          "name": "stderr",
          "text": [
            "\rProcessing video:   8%|▊         | 286.76/3600 [01:28<16:56,  3.26s/s]"
          ]
        },
        {
          "output_type": "stream",
          "name": "stdout",
          "text": [
            "frame= 8590 fps= 99 q=29.0 size=   39680kB time=00:04:46.76 bitrate=1133.5kbits/s dup=34 drop=0 speed=3.29x\n"
          ]
        },
        {
          "output_type": "stream",
          "name": "stderr",
          "text": [
            "\rProcessing video:   8%|▊         | 288.06/3600 [01:28<16:57,  3.25s/s]"
          ]
        },
        {
          "output_type": "stream",
          "name": "stdout",
          "text": [
            "frame= 8629 fps= 98 q=29.0 size=   39936kB time=00:04:48.06 bitrate=1135.7kbits/s dup=34 drop=0 speed=3.29x\n"
          ]
        },
        {
          "output_type": "stream",
          "name": "stderr",
          "text": [
            "\rProcessing video:   8%|▊         | 289.47/3600 [01:29<16:57,  3.25s/s]"
          ]
        },
        {
          "output_type": "stream",
          "name": "stdout",
          "text": [
            "frame= 8671 fps= 98 q=29.0 size=   40192kB time=00:04:49.47 bitrate=1137.4kbits/s dup=34 drop=0 speed=3.28x\n"
          ]
        },
        {
          "output_type": "stream",
          "name": "stderr",
          "text": [
            "\rProcessing video:   8%|▊         | 291.13/3600 [01:29<16:57,  3.25s/s]"
          ]
        },
        {
          "output_type": "stream",
          "name": "stdout",
          "text": [
            "frame= 8721 fps= 98 q=29.0 size=   40448kB time=00:04:51.13 bitrate=1138.1kbits/s dup=34 drop=0 speed=3.28x\n"
          ]
        },
        {
          "output_type": "stream",
          "name": "stderr",
          "text": [
            "\rProcessing video:   8%|▊         | 293.46/3600 [01:30<16:54,  3.26s/s]"
          ]
        },
        {
          "output_type": "stream",
          "name": "stdout",
          "text": [
            "frame= 8791 fps= 99 q=29.0 size=   40704kB time=00:04:53.46 bitrate=1136.3kbits/s dup=34 drop=0 speed=3.29x\n"
          ]
        },
        {
          "output_type": "stream",
          "name": "stderr",
          "text": [
            "\rProcessing video:   8%|▊         | 296.0/3600 [01:30<16:50,  3.27s/s] "
          ]
        },
        {
          "output_type": "stream",
          "name": "stdout",
          "text": [
            "frame= 8867 fps= 99 q=29.0 size=   40704kB time=00:04:56.00 bitrate=1126.5kbits/s dup=34 drop=0 speed= 3.3x\n"
          ]
        },
        {
          "output_type": "stream",
          "name": "stderr",
          "text": [
            "\rProcessing video:   8%|▊         | 298.49/3600 [01:31<16:46,  3.28s/s]"
          ]
        },
        {
          "output_type": "stream",
          "name": "stdout",
          "text": [
            "frame= 8942 fps= 99 q=29.0 size=   40960kB time=00:04:58.49 bitrate=1124.1kbits/s dup=34 drop=0 speed=3.31x\n"
          ]
        },
        {
          "output_type": "stream",
          "name": "stderr",
          "text": [
            "\rProcessing video:   8%|▊         | 301.05/3600 [01:31<16:42,  3.29s/s]"
          ]
        },
        {
          "output_type": "stream",
          "name": "stdout",
          "text": [
            "frame= 9019 fps=100 q=29.0 size=   41216kB time=00:05:01.05 bitrate=1121.5kbits/s dup=34 drop=0 speed=3.32x\n"
          ]
        },
        {
          "output_type": "stream",
          "name": "stderr",
          "text": [
            "\rProcessing video:   8%|▊         | 303.63/3600 [01:32<16:38,  3.30s/s]"
          ]
        },
        {
          "output_type": "stream",
          "name": "stdout",
          "text": [
            "frame= 9096 fps=100 q=29.0 size=   41472kB time=00:05:03.63 bitrate=1118.9kbits/s dup=34 drop=0 speed=3.33x\n"
          ]
        },
        {
          "output_type": "stream",
          "name": "stderr",
          "text": [
            "\rProcessing video:   9%|▊         | 306.13/3600 [01:32<16:35,  3.31s/s]"
          ]
        },
        {
          "output_type": "stream",
          "name": "stdout",
          "text": [
            "frame= 9171 fps=100 q=29.0 size=   41472kB time=00:05:06.13 bitrate=1109.8kbits/s dup=34 drop=0 speed=3.34x\n"
          ]
        },
        {
          "output_type": "stream",
          "name": "stderr",
          "text": [
            "\rProcessing video:   9%|▊         | 308.69/3600 [01:33<16:31,  3.32s/s]"
          ]
        },
        {
          "output_type": "stream",
          "name": "stdout",
          "text": [
            "frame= 9248 fps=100 q=29.0 size=   41728kB time=00:05:08.69 bitrate=1107.4kbits/s dup=34 drop=0 speed=3.35x\n"
          ]
        },
        {
          "output_type": "stream",
          "name": "stderr",
          "text": [
            "\rProcessing video:   9%|▊         | 311.16/3600 [01:33<16:28,  3.33s/s]"
          ]
        },
        {
          "output_type": "stream",
          "name": "stdout",
          "text": [
            "frame= 9322 fps=101 q=29.0 size=   41984kB time=00:05:11.16 bitrate=1105.3kbits/s dup=34 drop=0 speed=3.36x\n"
          ]
        },
        {
          "output_type": "stream",
          "name": "stderr",
          "text": [
            "\rProcessing video:   9%|▊         | 313.55/3600 [01:34<16:25,  3.33s/s]"
          ]
        },
        {
          "output_type": "stream",
          "name": "stdout",
          "text": [
            "frame= 9394 fps=101 q=29.0 size=   42240kB time=00:05:13.55 bitrate=1103.6kbits/s dup=34 drop=0 speed=3.37x\n"
          ]
        },
        {
          "output_type": "stream",
          "name": "stderr",
          "text": [
            "\rProcessing video:   9%|▉         | 315.79/3600 [01:34<16:23,  3.34s/s]"
          ]
        },
        {
          "output_type": "stream",
          "name": "stdout",
          "text": [
            "frame= 9461 fps=101 q=29.0 size=   42240kB time=00:05:15.79 bitrate=1095.7kbits/s dup=34 drop=0 speed=3.37x\n"
          ]
        },
        {
          "output_type": "stream",
          "name": "stderr",
          "text": [
            "\rProcessing video:   9%|▉         | 317.65/3600 [01:35<16:21,  3.34s/s]"
          ]
        },
        {
          "output_type": "stream",
          "name": "stdout",
          "text": [
            "frame= 9517 fps=101 q=29.0 size=   42752kB time=00:05:17.65 bitrate=1102.5kbits/s dup=34 drop=0 speed=3.37x\n"
          ]
        },
        {
          "output_type": "stream",
          "name": "stderr",
          "text": [
            "\rProcessing video:   9%|▉         | 320.17/3600 [01:35<16:18,  3.35s/s]"
          ]
        },
        {
          "output_type": "stream",
          "name": "stdout",
          "text": [
            "frame= 9592 fps=101 q=29.0 size=   42752kB time=00:05:20.17 bitrate=1093.9kbits/s dup=34 drop=0 speed=3.38x\n"
          ]
        },
        {
          "output_type": "stream",
          "name": "stderr",
          "text": [
            "\rProcessing video:   9%|▉         | 322.73/3600 [01:36<16:15,  3.36s/s]"
          ]
        },
        {
          "output_type": "stream",
          "name": "stdout",
          "text": [
            "frame= 9669 fps=102 q=29.0 size=   43008kB time=00:05:22.73 bitrate=1091.7kbits/s dup=34 drop=0 speed=3.39x\n"
          ]
        },
        {
          "output_type": "stream",
          "name": "stderr",
          "text": [
            "\rProcessing video:   9%|▉         | 325.26/3600 [01:36<16:11,  3.37s/s]"
          ]
        },
        {
          "output_type": "stream",
          "name": "stdout",
          "text": [
            "frame= 9745 fps=102 q=29.0 size=   43264kB time=00:05:25.26 bitrate=1089.6kbits/s dup=34 drop=0 speed= 3.4x\n"
          ]
        },
        {
          "output_type": "stream",
          "name": "stderr",
          "text": [
            "\rProcessing video:   9%|▉         | 328.12/3600 [01:37<16:07,  3.38s/s]"
          ]
        },
        {
          "output_type": "stream",
          "name": "stdout",
          "text": [
            "frame= 9831 fps=102 q=29.0 size=   43520kB time=00:05:28.12 bitrate=1086.5kbits/s dup=34 drop=0 speed=3.41x\n"
          ]
        },
        {
          "output_type": "stream",
          "name": "stderr",
          "text": [
            "\rProcessing video:   9%|▉         | 330.77/3600 [01:37<16:04,  3.39s/s]"
          ]
        },
        {
          "output_type": "stream",
          "name": "stdout",
          "text": [
            "frame= 9910 fps=103 q=29.0 size=   43776kB time=00:05:30.77 bitrate=1084.2kbits/s dup=34 drop=0 speed=3.42x\n"
          ]
        },
        {
          "output_type": "stream",
          "name": "stderr",
          "text": [
            "\rProcessing video:   9%|▉         | 333.31/3600 [01:38<16:00,  3.40s/s]"
          ]
        },
        {
          "output_type": "stream",
          "name": "stdout",
          "text": [
            "frame= 9986 fps=103 q=29.0 size=   44032kB time=00:05:33.31 bitrate=1082.2kbits/s dup=34 drop=0 speed=3.43x\n"
          ]
        },
        {
          "output_type": "stream",
          "name": "stderr",
          "text": [
            "\rProcessing video:   9%|▉         | 335.8/3600 [01:38<15:57,  3.41s/s] "
          ]
        },
        {
          "output_type": "stream",
          "name": "stdout",
          "text": [
            "frame=10061 fps=103 q=29.0 size=   44288kB time=00:05:35.80 bitrate=1080.4kbits/s dup=34 drop=0 speed=3.44x\n"
          ]
        },
        {
          "output_type": "stream",
          "name": "stderr",
          "text": [
            "\rProcessing video:   9%|▉         | 337.85/3600 [01:39<15:56,  3.41s/s]"
          ]
        },
        {
          "output_type": "stream",
          "name": "stdout",
          "text": [
            "frame=10123 fps=103 q=29.0 size=   44544kB time=00:05:37.85 bitrate=1080.1kbits/s dup=34 drop=0 speed=3.44x\n"
          ]
        },
        {
          "output_type": "stream",
          "name": "stderr",
          "text": [
            "\rProcessing video:   9%|▉         | 340.37/3600 [01:39<15:53,  3.42s/s]"
          ]
        },
        {
          "output_type": "stream",
          "name": "stdout",
          "text": [
            "frame=10198 fps=103 q=29.0 size=   44800kB time=00:05:40.37 bitrate=1078.2kbits/s dup=34 drop=0 speed=3.45x\n"
          ]
        },
        {
          "output_type": "stream",
          "name": "stderr",
          "text": [
            "\rProcessing video:  10%|▉         | 342.86/3600 [01:40<15:50,  3.43s/s]"
          ]
        },
        {
          "output_type": "stream",
          "name": "stdout",
          "text": [
            "frame=10273 fps=104 q=29.0 size=   44800kB time=00:05:42.86 bitrate=1070.4kbits/s dup=34 drop=0 speed=3.46x\n"
          ]
        },
        {
          "output_type": "stream",
          "name": "stderr",
          "text": [
            "\rProcessing video:  10%|▉         | 345.55/3600 [01:40<15:46,  3.44s/s]"
          ]
        },
        {
          "output_type": "stream",
          "name": "stdout",
          "text": [
            "frame=10354 fps=104 q=29.0 size=   45056kB time=00:05:45.55 bitrate=1068.1kbits/s dup=34 drop=0 speed=3.47x\n"
          ]
        },
        {
          "output_type": "stream",
          "name": "stderr",
          "text": [
            "\rProcessing video:  10%|▉         | 348.28/3600 [01:41<15:43,  3.45s/s]"
          ]
        },
        {
          "output_type": "stream",
          "name": "stdout",
          "text": [
            "frame=10436 fps=104 q=29.0 size=   45312kB time=00:05:48.28 bitrate=1065.8kbits/s dup=34 drop=0 speed=3.48x\n"
          ]
        },
        {
          "output_type": "stream",
          "name": "stderr",
          "text": [
            "\rProcessing video:  10%|▉         | 351.1/3600 [01:41<15:40,  3.46s/s] "
          ]
        },
        {
          "output_type": "stream",
          "name": "stdout",
          "text": [
            "frame=10520 fps=104 q=29.0 size=   45312kB time=00:05:51.10 bitrate=1057.2kbits/s dup=34 drop=0 speed=3.49x\n"
          ]
        },
        {
          "output_type": "stream",
          "name": "stderr",
          "text": [
            "\rProcessing video:  10%|▉         | 353.42/3600 [01:42<15:37,  3.46s/s]"
          ]
        },
        {
          "output_type": "stream",
          "name": "stdout",
          "text": [
            "frame=10590 fps=105 q=29.0 size=   45568kB time=00:05:53.42 bitrate=1056.2kbits/s dup=34 drop=0 speed=3.49x\n"
          ]
        },
        {
          "output_type": "stream",
          "name": "stderr",
          "text": [
            "\rProcessing video:  10%|▉         | 354.79/3600 [01:42<15:38,  3.46s/s]"
          ]
        },
        {
          "output_type": "stream",
          "name": "stdout",
          "text": [
            "frame=10631 fps=105 q=29.0 size=   45824kB time=00:05:54.79 bitrate=1058.1kbits/s dup=34 drop=0 speed=3.49x\n"
          ]
        },
        {
          "output_type": "stream",
          "name": "stderr",
          "text": [
            "\rProcessing video:  10%|▉         | 355.98/3600 [01:43<15:39,  3.45s/s]"
          ]
        },
        {
          "output_type": "stream",
          "name": "stdout",
          "text": [
            "frame=10667 fps=104 q=29.0 size=   46080kB time=00:05:55.98 bitrate=1060.4kbits/s dup=34 drop=0 speed=3.48x\n"
          ]
        },
        {
          "output_type": "stream",
          "name": "stderr",
          "text": [
            "\rProcessing video:  10%|▉         | 357.22/3600 [01:43<15:40,  3.45s/s]"
          ]
        },
        {
          "output_type": "stream",
          "name": "stdout",
          "text": [
            "frame=10704 fps=104 q=29.0 size=   46336kB time=00:05:57.22 bitrate=1062.6kbits/s dup=34 drop=0 speed=3.48x\n"
          ]
        },
        {
          "output_type": "stream",
          "name": "stderr",
          "text": [
            "\rProcessing video:  10%|▉         | 358.42/3600 [01:44<15:41,  3.44s/s]"
          ]
        },
        {
          "output_type": "stream",
          "name": "stdout",
          "text": [
            "frame=10740 fps=104 q=29.0 size=   46592kB time=00:05:58.42 bitrate=1064.9kbits/s dup=34 drop=0 speed=3.47x\n"
          ]
        },
        {
          "output_type": "stream",
          "name": "stderr",
          "text": [
            "\rProcessing video:  10%|▉         | 359.63/3600 [01:44<15:42,  3.44s/s]"
          ]
        },
        {
          "output_type": "stream",
          "name": "stdout",
          "text": [
            "frame=10776 fps=104 q=29.0 size=   47104kB time=00:05:59.63 bitrate=1073.0kbits/s dup=34 drop=0 speed=3.47x\n"
          ]
        },
        {
          "output_type": "stream",
          "name": "stderr",
          "text": [
            "\rProcessing video:  10%|█         | 360.89/3600 [01:45<15:43,  3.43s/s]"
          ]
        },
        {
          "output_type": "stream",
          "name": "stdout",
          "text": [
            "frame=10814 fps=104 q=29.0 size=   47360kB time=00:06:00.89 bitrate=1075.0kbits/s dup=34 drop=0 speed=3.46x\n"
          ]
        },
        {
          "output_type": "stream",
          "name": "stderr",
          "text": [
            "\rProcessing video:  10%|█         | 362.32/3600 [01:45<15:43,  3.43s/s]"
          ]
        },
        {
          "output_type": "stream",
          "name": "stdout",
          "text": [
            "frame=10857 fps=104 q=29.0 size=   47616kB time=00:06:02.32 bitrate=1076.6kbits/s dup=34 drop=0 speed=3.46x\n"
          ]
        },
        {
          "output_type": "stream",
          "name": "stderr",
          "text": [
            "\rProcessing video:  10%|█         | 363.96/3600 [01:46<15:43,  3.43s/s]"
          ]
        },
        {
          "output_type": "stream",
          "name": "stdout",
          "text": [
            "frame=10906 fps=104 q=29.0 size=   47872kB time=00:06:03.96 bitrate=1077.5kbits/s dup=34 drop=0 speed=3.46x\n"
          ]
        },
        {
          "output_type": "stream",
          "name": "stderr",
          "text": [
            "\rProcessing video:  10%|█         | 365.76/3600 [01:46<15:42,  3.43s/s]"
          ]
        },
        {
          "output_type": "stream",
          "name": "stdout",
          "text": [
            "frame=10960 fps=104 q=29.0 size=   48128kB time=00:06:05.76 bitrate=1077.9kbits/s dup=34 drop=0 speed=3.46x\n"
          ]
        },
        {
          "output_type": "stream",
          "name": "stderr",
          "text": [
            "\rProcessing video:  10%|█         | 367.4/3600 [01:47<15:42,  3.43s/s] "
          ]
        },
        {
          "output_type": "stream",
          "name": "stdout",
          "text": [
            "frame=11009 fps=104 q=29.0 size=   48384kB time=00:06:07.40 bitrate=1078.8kbits/s dup=34 drop=0 speed=3.46x\n"
          ]
        },
        {
          "output_type": "stream",
          "name": "stderr",
          "text": [
            "\rProcessing video:  10%|█         | 369.06/3600 [01:47<15:42,  3.43s/s]"
          ]
        },
        {
          "output_type": "stream",
          "name": "stdout",
          "text": [
            "frame=11059 fps=104 q=29.0 size=   48384kB time=00:06:09.06 bitrate=1074.0kbits/s dup=34 drop=0 speed=3.46x\n"
          ]
        },
        {
          "output_type": "stream",
          "name": "stderr",
          "text": [
            "\rProcessing video:  10%|█         | 370.47/3600 [01:48<15:42,  3.43s/s]"
          ]
        },
        {
          "output_type": "stream",
          "name": "stdout",
          "text": [
            "frame=11101 fps=104 q=29.0 size=   48640kB time=00:06:10.47 bitrate=1075.5kbits/s dup=34 drop=0 speed=3.45x\n"
          ]
        },
        {
          "output_type": "stream",
          "name": "stderr",
          "text": [
            "\rProcessing video:  10%|█         | 372.05/3600 [01:48<15:42,  3.43s/s]"
          ]
        },
        {
          "output_type": "stream",
          "name": "stdout",
          "text": [
            "frame=11149 fps=103 q=29.0 size=   48896kB time=00:06:12.05 bitrate=1076.6kbits/s dup=34 drop=0 speed=3.45x\n"
          ]
        },
        {
          "output_type": "stream",
          "name": "stderr",
          "text": [
            "\rProcessing video:  10%|█         | 373.58/3600 [01:49<15:42,  3.42s/s]"
          ]
        },
        {
          "output_type": "stream",
          "name": "stdout",
          "text": [
            "frame=11195 fps=103 q=29.0 size=   49152kB time=00:06:13.58 bitrate=1077.8kbits/s dup=34 drop=0 speed=3.45x\n"
          ]
        },
        {
          "output_type": "stream",
          "name": "stderr",
          "text": [
            "\rProcessing video:  10%|█         | 375.27/3600 [01:49<15:42,  3.42s/s]"
          ]
        },
        {
          "output_type": "stream",
          "name": "stdout",
          "text": [
            "frame=11245 fps=103 q=29.0 size=   49408kB time=00:06:15.27 bitrate=1078.5kbits/s dup=34 drop=0 speed=3.45x\n"
          ]
        },
        {
          "output_type": "stream",
          "name": "stderr",
          "text": [
            "\rProcessing video:  10%|█         | 377.42/3600 [01:50<15:40,  3.43s/s]"
          ]
        },
        {
          "output_type": "stream",
          "name": "stdout",
          "text": [
            "frame=11310 fps=104 q=29.0 size=   49664kB time=00:06:17.42 bitrate=1077.9kbits/s dup=34 drop=0 speed=3.45x\n"
          ]
        },
        {
          "output_type": "stream",
          "name": "stderr",
          "text": [
            "\rProcessing video:  11%|█         | 379.75/3600 [01:50<15:38,  3.43s/s]"
          ]
        },
        {
          "output_type": "stream",
          "name": "stdout",
          "text": [
            "frame=11380 fps=104 q=29.0 size=   49664kB time=00:06:19.75 bitrate=1071.3kbits/s dup=34 drop=0 speed=3.46x\n"
          ]
        },
        {
          "output_type": "stream",
          "name": "stderr",
          "text": [
            "\rProcessing video:  11%|█         | 382.1/3600 [01:51<15:36,  3.44s/s] "
          ]
        },
        {
          "output_type": "stream",
          "name": "stdout",
          "text": [
            "frame=11450 fps=104 q=29.0 size=   49920kB time=00:06:22.10 bitrate=1070.3kbits/s dup=34 drop=0 speed=3.47x\n"
          ]
        },
        {
          "output_type": "stream",
          "name": "stderr",
          "text": [
            "\rProcessing video:  11%|█         | 383.8/3600 [01:51<15:36,  3.44s/s]"
          ]
        },
        {
          "output_type": "stream",
          "name": "stdout",
          "text": [
            "frame=11501 fps=104 q=29.0 size=   50176kB time=00:06:23.80 bitrate=1071.0kbits/s dup=34 drop=0 speed=3.46x\n"
          ]
        },
        {
          "output_type": "stream",
          "name": "stderr",
          "text": [
            "\rProcessing video:  11%|█         | 385.13/3600 [01:52<15:36,  3.43s/s]"
          ]
        },
        {
          "output_type": "stream",
          "name": "stdout",
          "text": [
            "frame=11541 fps=104 q=29.0 size=   50432kB time=00:06:25.13 bitrate=1072.7kbits/s dup=34 drop=0 speed=3.46x\n"
          ]
        },
        {
          "output_type": "stream",
          "name": "stderr",
          "text": [
            "\rProcessing video:  11%|█         | 386.47/3600 [01:52<15:37,  3.43s/s]"
          ]
        },
        {
          "output_type": "stream",
          "name": "stdout",
          "text": [
            "frame=11581 fps=104 q=29.0 size=   50688kB time=00:06:26.47 bitrate=1074.4kbits/s dup=34 drop=0 speed=3.46x\n"
          ]
        },
        {
          "output_type": "stream",
          "name": "stderr",
          "text": [
            "\rProcessing video:  11%|█         | 387.75/3600 [01:53<15:37,  3.43s/s]"
          ]
        },
        {
          "output_type": "stream",
          "name": "stdout",
          "text": [
            "frame=11620 fps=103 q=29.0 size=   50944kB time=00:06:27.75 bitrate=1076.3kbits/s dup=34 drop=0 speed=3.45x\n"
          ]
        },
        {
          "output_type": "stream",
          "name": "stderr",
          "text": [
            "\rProcessing video:  11%|█         | 389.09/3600 [01:53<15:38,  3.42s/s]"
          ]
        },
        {
          "output_type": "stream",
          "name": "stdout",
          "text": [
            "frame=11660 fps=103 q=29.0 size=   51200kB time=00:06:29.09 bitrate=1078.0kbits/s dup=34 drop=0 speed=3.45x\n"
          ]
        },
        {
          "output_type": "stream",
          "name": "stderr",
          "text": [
            "\rProcessing video:  11%|█         | 390.5/3600 [01:54<15:38,  3.42s/s] "
          ]
        },
        {
          "output_type": "stream",
          "name": "stdout",
          "text": [
            "frame=11702 fps=103 q=29.0 size=   51456kB time=00:06:30.50 bitrate=1079.4kbits/s dup=34 drop=0 speed=3.45x\n"
          ]
        },
        {
          "output_type": "stream",
          "name": "stderr",
          "text": [
            "\rProcessing video:  11%|█         | 392.7/3600 [01:54<15:36,  3.42s/s]"
          ]
        },
        {
          "output_type": "stream",
          "name": "stdout",
          "text": [
            "frame=11768 fps=103 q=29.0 size=   51712kB time=00:06:32.70 bitrate=1078.7kbits/s dup=34 drop=0 speed=3.45x\n"
          ]
        },
        {
          "output_type": "stream",
          "name": "stderr",
          "text": [
            "\rProcessing video:  11%|█         | 394.92/3600 [01:55<15:35,  3.43s/s]"
          ]
        },
        {
          "output_type": "stream",
          "name": "stdout",
          "text": [
            "frame=11835 fps=104 q=29.0 size=   51968kB time=00:06:34.92 bitrate=1078.0kbits/s dup=34 drop=0 speed=3.45x\n"
          ]
        },
        {
          "output_type": "stream",
          "name": "stderr",
          "text": [
            "\rProcessing video:  11%|█         | 397.33/3600 [01:55<15:32,  3.43s/s]"
          ]
        },
        {
          "output_type": "stream",
          "name": "stdout",
          "text": [
            "frame=11907 fps=104 q=29.0 size=   52224kB time=00:06:37.33 bitrate=1076.7kbits/s dup=34 drop=0 speed=3.46x\n"
          ]
        },
        {
          "output_type": "stream",
          "name": "stderr",
          "text": [
            "\rProcessing video:  11%|█         | 399.53/3600 [01:56<15:30,  3.44s/s]"
          ]
        },
        {
          "output_type": "stream",
          "name": "stdout",
          "text": [
            "frame=11973 fps=104 q=29.0 size=   52480kB time=00:06:39.53 bitrate=1076.1kbits/s dup=34 drop=0 speed=3.46x\n"
          ]
        },
        {
          "output_type": "stream",
          "name": "stderr",
          "text": [
            "\rProcessing video:  11%|█         | 401.32/3600 [01:56<15:30,  3.44s/s]"
          ]
        },
        {
          "output_type": "stream",
          "name": "stdout",
          "text": [
            "frame=12027 fps=104 q=29.0 size=   52736kB time=00:06:41.32 bitrate=1076.5kbits/s dup=34 drop=0 speed=3.46x\n"
          ]
        },
        {
          "output_type": "stream",
          "name": "stderr",
          "text": [
            "\rProcessing video:  11%|█         | 402.6/3600 [01:57<15:31,  3.43s/s] "
          ]
        },
        {
          "output_type": "stream",
          "name": "stdout",
          "text": [
            "frame=12065 fps=104 q=29.0 size=   52736kB time=00:06:42.60 bitrate=1073.1kbits/s dup=34 drop=0 speed=3.46x\n"
          ]
        },
        {
          "output_type": "stream",
          "name": "stderr",
          "text": [
            "\rProcessing video:  11%|█         | 403.79/3600 [01:57<15:32,  3.43s/s]"
          ]
        },
        {
          "output_type": "stream",
          "name": "stdout",
          "text": [
            "frame=12101 fps=104 q=29.0 size=   53248kB time=00:06:43.79 bitrate=1080.3kbits/s dup=34 drop=0 speed=3.46x\n"
          ]
        },
        {
          "output_type": "stream",
          "name": "stderr",
          "text": [
            "\rProcessing video:  11%|█         | 404.86/3600 [01:58<15:33,  3.42s/s]"
          ]
        },
        {
          "output_type": "stream",
          "name": "stdout",
          "text": [
            "frame=12133 fps=103 q=29.0 size=   53504kB time=00:06:44.86 bitrate=1082.6kbits/s dup=34 drop=0 speed=3.45x\n"
          ]
        },
        {
          "output_type": "stream",
          "name": "stderr",
          "text": [
            "\rProcessing video:  11%|█▏        | 405.97/3600 [01:58<15:34,  3.42s/s]"
          ]
        },
        {
          "output_type": "stream",
          "name": "stdout",
          "text": [
            "frame=12166 fps=103 q=29.0 size=   53760kB time=00:06:45.97 bitrate=1084.8kbits/s dup=34 drop=0 speed=3.44x\n"
          ]
        },
        {
          "output_type": "stream",
          "name": "stderr",
          "text": [
            "\rProcessing video:  11%|█▏        | 407.04/3600 [01:59<15:35,  3.41s/s]"
          ]
        },
        {
          "output_type": "stream",
          "name": "stdout",
          "text": [
            "frame=12198 fps=103 q=29.0 size=   54016kB time=00:06:47.04 bitrate=1087.1kbits/s dup=34 drop=0 speed=3.44x\n"
          ]
        },
        {
          "output_type": "stream",
          "name": "stderr",
          "text": [
            "\rProcessing video:  11%|█▏        | 408.1/3600 [01:59<15:37,  3.41s/s] "
          ]
        },
        {
          "output_type": "stream",
          "name": "stdout",
          "text": [
            "frame=12230 fps=103 q=29.0 size=   54272kB time=00:06:48.10 bitrate=1089.4kbits/s dup=34 drop=0 speed=3.43x\n"
          ]
        },
        {
          "output_type": "stream",
          "name": "stderr",
          "text": [
            "\rProcessing video:  11%|█▏        | 409.36/3600 [02:00<15:37,  3.40s/s]"
          ]
        },
        {
          "output_type": "stream",
          "name": "stdout",
          "text": [
            "frame=12268 fps=103 q=29.0 size=   54784kB time=00:06:49.36 bitrate=1096.3kbits/s dup=34 drop=0 speed=3.43x\n"
          ]
        },
        {
          "output_type": "stream",
          "name": "stderr",
          "text": [
            "\rProcessing video:  11%|█▏        | 410.77/3600 [02:00<15:37,  3.40s/s]"
          ]
        },
        {
          "output_type": "stream",
          "name": "stdout",
          "text": [
            "frame=12310 fps=103 q=29.0 size=   54784kB time=00:06:50.77 bitrate=1092.6kbits/s dup=34 drop=0 speed=3.42x\n"
          ]
        },
        {
          "output_type": "stream",
          "name": "stderr",
          "text": [
            "\rProcessing video:  11%|█▏        | 412.09000000000003/3600 [02:01<15:38,  3.40s/s]"
          ]
        },
        {
          "output_type": "stream",
          "name": "stdout",
          "text": [
            "frame=12350 fps=103 q=29.0 size=   55040kB time=00:06:52.09 bitrate=1094.1kbits/s dup=34 drop=0 speed=3.42x\n"
          ]
        },
        {
          "output_type": "stream",
          "name": "stderr",
          "text": [
            "\rProcessing video:  11%|█▏        | 413.76/3600 [02:01<15:38,  3.40s/s]            "
          ]
        },
        {
          "output_type": "stream",
          "name": "stdout",
          "text": [
            "frame=12400 fps=103 q=29.0 size=   55296kB time=00:06:53.76 bitrate=1094.8kbits/s dup=34 drop=0 speed=3.42x\n"
          ]
        },
        {
          "output_type": "stream",
          "name": "stderr",
          "text": [
            "\rProcessing video:  12%|█▏        | 415.29/3600 [02:02<15:37,  3.40s/s]"
          ]
        },
        {
          "output_type": "stream",
          "name": "stdout",
          "text": [
            "frame=12446 fps=102 q=29.0 size=   55552kB time=00:06:55.29 bitrate=1095.8kbits/s dup=34 drop=0 speed=3.42x\n"
          ]
        },
        {
          "output_type": "stream",
          "name": "stderr",
          "text": [
            "\rProcessing video:  12%|█▏        | 416.72/3600 [02:02<15:38,  3.39s/s]"
          ]
        },
        {
          "output_type": "stream",
          "name": "stdout",
          "text": [
            "frame=12489 fps=102 q=29.0 size=   55808kB time=00:06:56.72 bitrate=1097.1kbits/s dup=34 drop=0 speed=3.42x\n"
          ]
        },
        {
          "output_type": "stream",
          "name": "stderr",
          "text": [
            "\rProcessing video:  12%|█▏        | 418.38/3600 [02:03<15:37,  3.39s/s]"
          ]
        },
        {
          "output_type": "stream",
          "name": "stdout",
          "text": [
            "frame=12539 fps=102 q=29.0 size=   56064kB time=00:06:58.38 bitrate=1097.7kbits/s dup=34 drop=0 speed=3.42x\n"
          ]
        },
        {
          "output_type": "stream",
          "name": "stderr",
          "text": [
            "\rProcessing video:  12%|█▏        | 420.6/3600 [02:03<15:36,  3.40s/s] "
          ]
        },
        {
          "output_type": "stream",
          "name": "stdout",
          "text": [
            "frame=12605 fps=103 q=29.0 size=   56320kB time=00:07:00.60 bitrate=1096.9kbits/s dup=34 drop=0 speed=3.42x\n"
          ]
        },
        {
          "output_type": "stream",
          "name": "stderr",
          "text": [
            "\rProcessing video:  12%|█▏        | 422.42/3600 [02:04<15:35,  3.40s/s]"
          ]
        },
        {
          "output_type": "stream",
          "name": "stdout",
          "text": [
            "frame=12660 fps=103 q=29.0 size=   56576kB time=00:07:02.42 bitrate=1097.2kbits/s dup=34 drop=0 speed=3.42x\n"
          ]
        },
        {
          "output_type": "stream",
          "name": "stderr",
          "text": [
            "\rProcessing video:  12%|█▏        | 424.1/3600 [02:04<15:35,  3.40s/s] "
          ]
        },
        {
          "output_type": "stream",
          "name": "stdout",
          "text": [
            "frame=12710 fps=102 q=29.0 size=   56832kB time=00:07:04.10 bitrate=1097.8kbits/s dup=34 drop=0 speed=3.42x\n"
          ]
        },
        {
          "output_type": "stream",
          "name": "stderr",
          "text": [
            "\rProcessing video:  12%|█▏        | 425.4/3600 [02:05<15:35,  3.39s/s]"
          ]
        },
        {
          "output_type": "stream",
          "name": "stdout",
          "text": [
            "frame=12749 fps=102 q=29.0 size=   56832kB time=00:07:05.40 bitrate=1094.4kbits/s dup=34 drop=0 speed=3.42x\n"
          ]
        },
        {
          "output_type": "stream",
          "name": "stderr",
          "text": [
            "\rProcessing video:  12%|█▏        | 426.73/3600 [02:05<15:36,  3.39s/s]"
          ]
        },
        {
          "output_type": "stream",
          "name": "stdout",
          "text": [
            "frame=12789 fps=102 q=29.0 size=   57344kB time=00:07:06.73 bitrate=1100.8kbits/s dup=34 drop=0 speed=3.41x\n"
          ]
        },
        {
          "output_type": "stream",
          "name": "stderr",
          "text": [
            "\rProcessing video:  12%|█▏        | 427.98/3600 [02:06<15:36,  3.39s/s]"
          ]
        },
        {
          "output_type": "stream",
          "name": "stdout",
          "text": [
            "frame=12827 fps=102 q=29.0 size=   57344kB time=00:07:07.98 bitrate=1097.6kbits/s dup=34 drop=0 speed=3.41x\n"
          ]
        },
        {
          "output_type": "stream",
          "name": "stderr",
          "text": [
            "\rProcessing video:  12%|█▏        | 429.44/3600 [02:06<15:36,  3.38s/s]"
          ]
        },
        {
          "output_type": "stream",
          "name": "stdout",
          "text": [
            "frame=12870 fps=102 q=29.0 size=   57600kB time=00:07:09.44 bitrate=1098.8kbits/s dup=34 drop=0 speed=3.41x\n"
          ]
        },
        {
          "output_type": "stream",
          "name": "stderr",
          "text": [
            "\rProcessing video:  12%|█▏        | 431.36/3600 [02:07<15:35,  3.39s/s]"
          ]
        },
        {
          "output_type": "stream",
          "name": "stdout",
          "text": [
            "frame=12928 fps=102 q=29.0 size=   58112kB time=00:07:11.36 bitrate=1103.6kbits/s dup=34 drop=0 speed=3.41x\n"
          ]
        },
        {
          "output_type": "stream",
          "name": "stderr",
          "text": [
            "\rProcessing video:  12%|█▏        | 433.66/3600 [02:07<15:33,  3.39s/s]"
          ]
        },
        {
          "output_type": "stream",
          "name": "stdout",
          "text": [
            "frame=12997 fps=102 q=29.0 size=   58368kB time=00:07:13.66 bitrate=1102.6kbits/s dup=34 drop=0 speed=3.41x\n"
          ]
        },
        {
          "output_type": "stream",
          "name": "stderr",
          "text": [
            "\rProcessing video:  12%|█▏        | 436.03/3600 [02:08<15:31,  3.40s/s]"
          ]
        },
        {
          "output_type": "stream",
          "name": "stdout",
          "text": [
            "frame=13068 fps=102 q=29.0 size=   58368kB time=00:07:16.03 bitrate=1096.6kbits/s dup=34 drop=0 speed=3.42x\n"
          ]
        },
        {
          "output_type": "stream",
          "name": "stderr",
          "text": [
            "\rProcessing video:  12%|█▏        | 438.27/3600 [02:08<15:30,  3.40s/s]"
          ]
        },
        {
          "output_type": "stream",
          "name": "stdout",
          "text": [
            "frame=13135 fps=103 q=29.0 size=   58624kB time=00:07:18.27 bitrate=1095.8kbits/s dup=34 drop=0 speed=3.42x\n"
          ]
        },
        {
          "output_type": "stream",
          "name": "stderr",
          "text": [
            "\rProcessing video:  12%|█▏        | 440.17/3600 [02:09<15:29,  3.40s/s]"
          ]
        },
        {
          "output_type": "stream",
          "name": "stdout",
          "text": [
            "frame=13192 fps=103 q=29.0 size=   58880kB time=00:07:20.17 bitrate=1095.8kbits/s dup=34 drop=0 speed=3.42x\n"
          ]
        },
        {
          "output_type": "stream",
          "name": "stderr",
          "text": [
            "\rProcessing video:  12%|█▏        | 441.36/3600 [02:09<15:30,  3.40s/s]"
          ]
        },
        {
          "output_type": "stream",
          "name": "stdout",
          "text": [
            "frame=13228 fps=103 q=29.0 size=   59136kB time=00:07:21.36 bitrate=1097.6kbits/s dup=34 drop=0 speed=3.42x\n"
          ]
        },
        {
          "output_type": "stream",
          "name": "stderr",
          "text": [
            "\rProcessing video:  12%|█▏        | 442.6/3600 [02:10<15:30,  3.39s/s] "
          ]
        },
        {
          "output_type": "stream",
          "name": "stdout",
          "text": [
            "frame=13265 fps=102 q=29.0 size=   59392kB time=00:07:22.60 bitrate=1099.3kbits/s dup=34 drop=0 speed=3.41x\n"
          ]
        },
        {
          "output_type": "stream",
          "name": "stderr",
          "text": [
            "\rProcessing video:  12%|█▏        | 443.79/3600 [02:10<15:31,  3.39s/s]"
          ]
        },
        {
          "output_type": "stream",
          "name": "stdout",
          "text": [
            "frame=13301 fps=102 q=29.0 size=   59648kB time=00:07:23.79 bitrate=1101.0kbits/s dup=34 drop=0 speed=3.41x\n"
          ]
        },
        {
          "output_type": "stream",
          "name": "stderr",
          "text": [
            "\rProcessing video:  12%|█▏        | 444.97/3600 [02:11<15:32,  3.38s/s]"
          ]
        },
        {
          "output_type": "stream",
          "name": "stdout",
          "text": [
            "frame=13336 fps=102 q=29.0 size=   59904kB time=00:07:24.97 bitrate=1102.8kbits/s dup=34 drop=0 speed=3.41x\n"
          ]
        },
        {
          "output_type": "stream",
          "name": "stderr",
          "text": [
            "\rProcessing video:  12%|█▏        | 446.03/3600 [02:12<15:33,  3.38s/s]"
          ]
        },
        {
          "output_type": "stream",
          "name": "stdout",
          "text": [
            "frame=13368 fps=102 q=29.0 size=   60160kB time=00:07:26.03 bitrate=1104.9kbits/s dup=34 drop=0 speed= 3.4x\n"
          ]
        },
        {
          "output_type": "stream",
          "name": "stderr",
          "text": [
            "\rProcessing video:  12%|█▏        | 447.23/3600 [02:12<15:34,  3.38s/s]"
          ]
        },
        {
          "output_type": "stream",
          "name": "stdout",
          "text": [
            "frame=13404 fps=102 q=29.0 size=   60672kB time=00:07:27.23 bitrate=1111.3kbits/s dup=34 drop=0 speed= 3.4x\n"
          ]
        },
        {
          "output_type": "stream",
          "name": "stderr",
          "text": [
            "\rProcessing video:  12%|█▏        | 448.53/3600 [02:13<15:34,  3.37s/s]"
          ]
        },
        {
          "output_type": "stream",
          "name": "stdout",
          "text": [
            "frame=13443 fps=102 q=29.0 size=   60928kB time=00:07:28.53 bitrate=1112.8kbits/s dup=34 drop=0 speed=3.39x\n"
          ]
        },
        {
          "output_type": "stream",
          "name": "stderr",
          "text": [
            "\rProcessing video:  13%|█▎        | 450.06/3600 [02:13<15:34,  3.37s/s]"
          ]
        },
        {
          "output_type": "stream",
          "name": "stdout",
          "text": [
            "frame=13489 fps=102 q=29.0 size=   61184kB time=00:07:30.06 bitrate=1113.6kbits/s dup=34 drop=0 speed=3.39x\n"
          ]
        },
        {
          "output_type": "stream",
          "name": "stderr",
          "text": [
            "\rProcessing video:  13%|█▎        | 451.49/3600 [02:14<15:34,  3.37s/s]"
          ]
        },
        {
          "output_type": "stream",
          "name": "stdout",
          "text": [
            "frame=13532 fps=102 q=29.0 size=   61440kB time=00:07:31.49 bitrate=1114.8kbits/s dup=34 drop=0 speed=3.39x\n"
          ]
        },
        {
          "output_type": "stream",
          "name": "stderr",
          "text": [
            "\rProcessing video:  13%|█▎        | 452.67/3600 [02:14<15:35,  3.37s/s]"
          ]
        },
        {
          "output_type": "stream",
          "name": "stdout",
          "text": [
            "frame=13567 fps=102 q=29.0 size=   61696kB time=00:07:32.67 bitrate=1116.5kbits/s dup=34 drop=0 speed=3.39x\n"
          ]
        },
        {
          "output_type": "stream",
          "name": "stderr",
          "text": [
            "\rProcessing video:  13%|█▎        | 453.73/3600 [02:15<15:36,  3.36s/s]"
          ]
        },
        {
          "output_type": "stream",
          "name": "stdout",
          "text": [
            "frame=13599 fps=101 q=29.0 size=   61952kB time=00:07:33.73 bitrate=1118.5kbits/s dup=34 drop=0 speed=3.38x\n"
          ]
        },
        {
          "output_type": "stream",
          "name": "stderr",
          "text": [
            "\rProcessing video:  13%|█▎        | 455.7/3600 [02:15<15:35,  3.36s/s] "
          ]
        },
        {
          "output_type": "stream",
          "name": "stdout",
          "text": [
            "frame=13658 fps=101 q=29.0 size=   62208kB time=00:07:35.70 bitrate=1118.3kbits/s dup=34 drop=0 speed=3.38x\n"
          ]
        },
        {
          "output_type": "stream",
          "name": "stderr",
          "text": [
            "\rProcessing video:  13%|█▎        | 457.55/3600 [02:16<15:34,  3.36s/s]"
          ]
        },
        {
          "output_type": "stream",
          "name": "stdout",
          "text": [
            "frame=13714 fps=101 q=29.0 size=   62464kB time=00:07:37.55 bitrate=1118.3kbits/s dup=34 drop=0 speed=3.39x\n"
          ]
        },
        {
          "output_type": "stream",
          "name": "stderr",
          "text": [
            "\rProcessing video:  13%|█▎        | 459.22/3600 [02:16<15:33,  3.36s/s]"
          ]
        },
        {
          "output_type": "stream",
          "name": "stdout",
          "text": [
            "frame=13764 fps=101 q=29.0 size=   62720kB time=00:07:39.22 bitrate=1118.9kbits/s dup=34 drop=0 speed=3.39x\n"
          ]
        },
        {
          "output_type": "stream",
          "name": "stderr",
          "text": [
            "\rProcessing video:  13%|█▎        | 460.9/3600 [02:17<15:33,  3.36s/s] "
          ]
        },
        {
          "output_type": "stream",
          "name": "stdout",
          "text": [
            "frame=13814 fps=101 q=29.0 size=   62976kB time=00:07:40.90 bitrate=1119.3kbits/s dup=34 drop=0 speed=3.39x\n"
          ]
        },
        {
          "output_type": "stream",
          "name": "stderr",
          "text": [
            "\rProcessing video:  13%|█▎        | 462.1/3600 [02:17<15:34,  3.36s/s]"
          ]
        },
        {
          "output_type": "stream",
          "name": "stdout",
          "text": [
            "frame=13850 fps=101 q=29.0 size=   63232kB time=00:07:42.10 bitrate=1121.0kbits/s dup=34 drop=0 speed=3.38x\n"
          ]
        },
        {
          "output_type": "stream",
          "name": "stderr",
          "text": [
            "\rProcessing video:  13%|█▎        | 463.65/3600 [02:18<15:34,  3.36s/s]"
          ]
        },
        {
          "output_type": "stream",
          "name": "stdout",
          "text": [
            "frame=13897 fps=101 q=29.0 size=   63488kB time=00:07:43.65 bitrate=1121.7kbits/s dup=34 drop=0 speed=3.38x\n"
          ]
        },
        {
          "output_type": "stream",
          "name": "stderr",
          "text": [
            "\rProcessing video:  13%|█▎        | 465.3/3600 [02:18<15:33,  3.36s/s] "
          ]
        },
        {
          "output_type": "stream",
          "name": "stdout",
          "text": [
            "frame=13946 fps=101 q=29.0 size=   63488kB time=00:07:45.30 bitrate=1117.8kbits/s dup=34 drop=0 speed=3.38x\n"
          ]
        },
        {
          "output_type": "stream",
          "name": "stderr",
          "text": [
            "\rProcessing video:  13%|█▎        | 467.37/3600 [02:19<15:32,  3.36s/s]"
          ]
        },
        {
          "output_type": "stream",
          "name": "stdout",
          "text": [
            "frame=14008 fps=101 q=29.0 size=   63744kB time=00:07:47.37 bitrate=1117.3kbits/s dup=34 drop=0 speed=3.38x\n"
          ]
        },
        {
          "output_type": "stream",
          "name": "stderr",
          "text": [
            "\rProcessing video:  13%|█▎        | 469.69/3600 [02:19<15:30,  3.36s/s]"
          ]
        },
        {
          "output_type": "stream",
          "name": "stdout",
          "text": [
            "frame=14078 fps=101 q=29.0 size=   64000kB time=00:07:49.69 bitrate=1116.2kbits/s dup=34 drop=0 speed=3.39x\n"
          ]
        },
        {
          "output_type": "stream",
          "name": "stderr",
          "text": [
            "\rProcessing video:  13%|█▎        | 471.59000000000003/3600 [02:20<15:29,  3.37s/s]"
          ]
        },
        {
          "output_type": "stream",
          "name": "stdout",
          "text": [
            "frame=14135 fps=102 q=29.0 size=   64000kB time=00:07:51.59 bitrate=1111.7kbits/s dup=34 drop=0 speed=3.39x\n"
          ]
        },
        {
          "output_type": "stream",
          "name": "stderr",
          "text": [
            "\rProcessing video:  13%|█▎        | 472.93/3600 [02:20<15:29,  3.36s/s]            "
          ]
        },
        {
          "output_type": "stream",
          "name": "stdout",
          "text": [
            "frame=14175 fps=101 q=29.0 size=   64512kB time=00:07:52.93 bitrate=1117.4kbits/s dup=34 drop=0 speed=3.38x\n"
          ]
        },
        {
          "output_type": "stream",
          "name": "stderr",
          "text": [
            "\rProcessing video:  13%|█▎        | 474.26/3600 [02:21<15:30,  3.36s/s]"
          ]
        },
        {
          "output_type": "stream",
          "name": "stdout",
          "text": [
            "frame=14215 fps=101 q=29.0 size=   64768kB time=00:07:54.26 bitrate=1118.7kbits/s dup=34 drop=0 speed=3.38x\n"
          ]
        },
        {
          "output_type": "stream",
          "name": "stderr",
          "text": [
            "\rProcessing video:  13%|█▎        | 475.65999999999997/3600 [02:21<15:30,  3.36s/s]"
          ]
        },
        {
          "output_type": "stream",
          "name": "stdout",
          "text": [
            "frame=14257 fps=101 q=26.0 size=   65024kB time=00:07:55.66 bitrate=1119.8kbits/s dup=34 drop=0 speed=3.38x\n"
          ]
        },
        {
          "output_type": "stream",
          "name": "stderr",
          "text": [
            "\rProcessing video:  13%|█▎        | 477.76/3600 [02:22<15:28,  3.36s/s]            "
          ]
        },
        {
          "output_type": "stream",
          "name": "stdout",
          "text": [
            "frame=14320 fps=101 q=29.0 size=   65280kB time=00:07:57.76 bitrate=1119.3kbits/s dup=34 drop=0 speed=3.38x\n"
          ]
        },
        {
          "output_type": "stream",
          "name": "stderr",
          "text": [
            "\rProcessing video:  13%|█▎        | 480.42/3600 [02:22<15:26,  3.37s/s]"
          ]
        },
        {
          "output_type": "stream",
          "name": "stdout",
          "text": [
            "frame=14400 fps=102 q=29.0 size=   65536kB time=00:08:00.42 bitrate=1117.5kbits/s dup=34 drop=0 speed=3.39x\n"
          ]
        },
        {
          "output_type": "stream",
          "name": "stderr",
          "text": [
            "\rProcessing video:  13%|█▎        | 483.09/3600 [02:23<15:23,  3.38s/s]"
          ]
        },
        {
          "output_type": "stream",
          "name": "stdout",
          "text": [
            "frame=14480 fps=102 q=29.0 size=   65536kB time=00:08:03.09 bitrate=1111.3kbits/s dup=34 drop=0 speed= 3.4x\n"
          ]
        },
        {
          "output_type": "stream",
          "name": "stderr",
          "text": [
            "\rProcessing video:  13%|█▎        | 485.35/3600 [02:23<15:21,  3.38s/s]"
          ]
        },
        {
          "output_type": "stream",
          "name": "stdout",
          "text": [
            "frame=14548 fps=102 q=29.0 size=   65792kB time=00:08:05.35 bitrate=1110.5kbits/s dup=34 drop=0 speed= 3.4x\n"
          ]
        },
        {
          "output_type": "stream",
          "name": "stderr",
          "text": [
            "\rProcessing video:  14%|█▎        | 486.95/3600 [02:24<15:21,  3.38s/s]"
          ]
        },
        {
          "output_type": "stream",
          "name": "stdout",
          "text": [
            "frame=14596 fps=102 q=29.0 size=   66048kB time=00:08:06.95 bitrate=1111.1kbits/s dup=34 drop=0 speed= 3.4x\n"
          ]
        },
        {
          "output_type": "stream",
          "name": "stderr",
          "text": [
            "\rProcessing video:  14%|█▎        | 488.34/3600 [02:24<15:22,  3.37s/s]"
          ]
        },
        {
          "output_type": "stream",
          "name": "stdout",
          "text": [
            "frame=14637 fps=102 q=29.0 size=   66304kB time=00:08:08.34 bitrate=1112.3kbits/s dup=34 drop=0 speed= 3.4x\n"
          ]
        },
        {
          "output_type": "stream",
          "name": "stderr",
          "text": [
            "\rProcessing video:  14%|█▎        | 489.55/3600 [02:25<15:22,  3.37s/s]"
          ]
        },
        {
          "output_type": "stream",
          "name": "stdout",
          "text": [
            "frame=14674 fps=102 q=29.0 size=   66560kB time=00:08:09.55 bitrate=1113.8kbits/s dup=34 drop=0 speed=3.39x\n"
          ]
        },
        {
          "output_type": "stream",
          "name": "stderr",
          "text": [
            "\rProcessing video:  14%|█▎        | 490.79/3600 [02:25<15:23,  3.37s/s]"
          ]
        },
        {
          "output_type": "stream",
          "name": "stdout",
          "text": [
            "frame=14711 fps=102 q=29.0 size=   66816kB time=00:08:10.79 bitrate=1115.2kbits/s dup=34 drop=0 speed=3.39x\n"
          ]
        },
        {
          "output_type": "stream",
          "name": "stderr",
          "text": [
            "\rProcessing video:  14%|█▎        | 491.96/3600 [02:26<15:23,  3.36s/s]"
          ]
        },
        {
          "output_type": "stream",
          "name": "stdout",
          "text": [
            "frame=14746 fps=101 q=29.0 size=   67072kB time=00:08:11.96 bitrate=1116.8kbits/s dup=34 drop=0 speed=3.38x\n"
          ]
        },
        {
          "output_type": "stream",
          "name": "stderr",
          "text": [
            "\rProcessing video:  14%|█▎        | 493.14/3600 [02:26<15:24,  3.36s/s]"
          ]
        },
        {
          "output_type": "stream",
          "name": "stdout",
          "text": [
            "frame=14781 fps=101 q=29.0 size=   67328kB time=00:08:13.14 bitrate=1118.4kbits/s dup=34 drop=0 speed=3.38x\n"
          ]
        },
        {
          "output_type": "stream",
          "name": "stderr",
          "text": [
            "\rProcessing video:  14%|█▎        | 494.27/3600 [02:27<15:25,  3.36s/s]"
          ]
        },
        {
          "output_type": "stream",
          "name": "stdout",
          "text": [
            "frame=14815 fps=101 q=29.0 size=   67840kB time=00:08:14.27 bitrate=1124.4kbits/s dup=34 drop=0 speed=3.38x\n"
          ]
        },
        {
          "output_type": "stream",
          "name": "stderr",
          "text": [
            "\rProcessing video:  14%|█▍        | 495.59/3600 [02:27<15:25,  3.35s/s]"
          ]
        },
        {
          "output_type": "stream",
          "name": "stdout",
          "text": [
            "frame=14855 fps=101 q=29.0 size=   68096kB time=00:08:15.59 bitrate=1125.6kbits/s dup=34 drop=0 speed=3.37x\n"
          ]
        },
        {
          "output_type": "stream",
          "name": "stderr",
          "text": [
            "\rProcessing video:  14%|█▍        | 496.93/3600 [02:28<15:25,  3.35s/s]"
          ]
        },
        {
          "output_type": "stream",
          "name": "stdout",
          "text": [
            "frame=14895 fps=101 q=29.0 size=   68352kB time=00:08:16.93 bitrate=1126.8kbits/s dup=34 drop=0 speed=3.37x\n"
          ]
        },
        {
          "output_type": "stream",
          "name": "stderr",
          "text": [
            "\rProcessing video:  14%|█▍        | 498.38/3600 [02:28<15:25,  3.35s/s]"
          ]
        },
        {
          "output_type": "stream",
          "name": "stdout",
          "text": [
            "frame=14939 fps=101 q=29.0 size=   68608kB time=00:08:18.38 bitrate=1127.7kbits/s dup=34 drop=0 speed=3.37x\n"
          ]
        },
        {
          "output_type": "stream",
          "name": "stderr",
          "text": [
            "\rProcessing video:  14%|█▍        | 499.96/3600 [02:29<15:25,  3.35s/s]"
          ]
        },
        {
          "output_type": "stream",
          "name": "stdout",
          "text": [
            "frame=14986 fps=101 q=29.0 size=   68864kB time=00:08:19.96 bitrate=1128.3kbits/s dup=34 drop=0 speed=3.37x\n"
          ]
        },
        {
          "output_type": "stream",
          "name": "stderr",
          "text": [
            "\rProcessing video:  14%|█▍        | 501.73/3600 [02:29<15:24,  3.35s/s]"
          ]
        },
        {
          "output_type": "stream",
          "name": "stdout",
          "text": [
            "frame=15039 fps=101 q=29.0 size=   69120kB time=00:08:21.73 bitrate=1128.5kbits/s dup=34 drop=0 speed=3.37x\n"
          ]
        },
        {
          "output_type": "stream",
          "name": "stderr",
          "text": [
            "\rProcessing video:  14%|█▍        | 503.8/3600 [02:30<15:23,  3.35s/s] "
          ]
        },
        {
          "output_type": "stream",
          "name": "stdout",
          "text": [
            "frame=15101 fps=101 q=29.0 size=   69376kB time=00:08:23.80 bitrate=1128.1kbits/s dup=34 drop=0 speed=3.37x\n"
          ]
        },
        {
          "output_type": "stream",
          "name": "stderr",
          "text": [
            "\rProcessing video:  14%|█▍        | 505.49/3600 [02:30<15:23,  3.35s/s]"
          ]
        },
        {
          "output_type": "stream",
          "name": "stdout",
          "text": [
            "frame=15152 fps=101 q=29.0 size=   69376kB time=00:08:25.49 bitrate=1124.3kbits/s dup=34 drop=0 speed=3.37x\n"
          ]
        },
        {
          "output_type": "stream",
          "name": "stderr",
          "text": [
            "\rProcessing video:  14%|█▍        | 507.07/3600 [02:31<15:22,  3.35s/s]"
          ]
        },
        {
          "output_type": "stream",
          "name": "stdout",
          "text": [
            "frame=15199 fps=101 q=29.0 size=   69632kB time=00:08:27.07 bitrate=1124.9kbits/s dup=34 drop=0 speed=3.37x\n"
          ]
        },
        {
          "output_type": "stream",
          "name": "stderr",
          "text": [
            "\rProcessing video:  14%|█▍        | 508.37/3600 [02:31<15:23,  3.35s/s]"
          ]
        },
        {
          "output_type": "stream",
          "name": "stdout",
          "text": [
            "frame=15238 fps=101 q=29.0 size=   69888kB time=00:08:28.37 bitrate=1126.2kbits/s dup=34 drop=0 speed=3.37x\n"
          ]
        },
        {
          "output_type": "stream",
          "name": "stderr",
          "text": [
            "\rProcessing video:  14%|█▍        | 509.73/3600 [02:32<15:23,  3.35s/s]"
          ]
        },
        {
          "output_type": "stream",
          "name": "stdout",
          "text": [
            "frame=15279 fps=101 q=29.0 size=   70144kB time=00:08:29.73 bitrate=1127.3kbits/s dup=34 drop=0 speed=3.37x\n"
          ]
        },
        {
          "output_type": "stream",
          "name": "stderr",
          "text": [
            "\rProcessing video:  14%|█▍        | 511.46/3600 [02:32<15:22,  3.35s/s]"
          ]
        },
        {
          "output_type": "stream",
          "name": "stdout",
          "text": [
            "frame=15331 fps=101 q=29.0 size=   70400kB time=00:08:31.46 bitrate=1127.6kbits/s dup=34 drop=0 speed=3.37x\n"
          ]
        },
        {
          "output_type": "stream",
          "name": "stderr",
          "text": [
            "\rProcessing video:  14%|█▍        | 513.17/3600 [02:33<15:22,  3.35s/s]"
          ]
        },
        {
          "output_type": "stream",
          "name": "stdout",
          "text": [
            "frame=15382 fps=101 q=29.0 size=   70656kB time=00:08:33.17 bitrate=1127.9kbits/s dup=34 drop=0 speed=3.37x\n"
          ]
        },
        {
          "output_type": "stream",
          "name": "stderr",
          "text": [
            "\rProcessing video:  14%|█▍        | 514.79/3600 [02:33<15:21,  3.35s/s]"
          ]
        },
        {
          "output_type": "stream",
          "name": "stdout",
          "text": [
            "frame=15431 fps=101 q=29.0 size=   70912kB time=00:08:34.79 bitrate=1128.4kbits/s dup=34 drop=0 speed=3.37x\n"
          ]
        },
        {
          "output_type": "stream",
          "name": "stderr",
          "text": [
            "\rProcessing video:  14%|█▍        | 516.82/3600 [02:34<15:20,  3.35s/s]"
          ]
        },
        {
          "output_type": "stream",
          "name": "stdout",
          "text": [
            "frame=15492 fps=101 q=29.0 size=   71168kB time=00:08:36.82 bitrate=1128.1kbits/s dup=34 drop=0 speed=3.37x\n"
          ]
        },
        {
          "output_type": "stream",
          "name": "stderr",
          "text": [
            "\rProcessing video:  14%|█▍        | 519.33/3600 [02:34<15:18,  3.35s/s]"
          ]
        },
        {
          "output_type": "stream",
          "name": "stdout",
          "text": [
            "frame=15567 fps=101 q=29.0 size=   71424kB time=00:08:39.33 bitrate=1126.6kbits/s dup=34 drop=0 speed=3.37x\n"
          ]
        },
        {
          "output_type": "stream",
          "name": "stderr",
          "text": [
            "\rProcessing video:  14%|█▍        | 521.85/3600 [02:35<15:16,  3.36s/s]"
          ]
        },
        {
          "output_type": "stream",
          "name": "stdout",
          "text": [
            "frame=15643 fps=101 q=29.0 size=   71424kB time=00:08:41.85 bitrate=1121.2kbits/s dup=34 drop=0 speed=3.38x\n"
          ]
        },
        {
          "output_type": "stream",
          "name": "stderr",
          "text": [
            "\rProcessing video:  15%|█▍        | 524.28/3600 [02:35<15:14,  3.36s/s]"
          ]
        },
        {
          "output_type": "stream",
          "name": "stdout",
          "text": [
            "frame=15716 fps=101 q=29.0 size=   71680kB time=00:08:44.28 bitrate=1120.0kbits/s dup=34 drop=0 speed=3.38x\n"
          ]
        },
        {
          "output_type": "stream",
          "name": "stderr",
          "text": [
            "\rProcessing video:  15%|█▍        | 526.76/3600 [02:36<15:11,  3.37s/s]"
          ]
        },
        {
          "output_type": "stream",
          "name": "stdout",
          "text": [
            "frame=15790 fps=102 q=29.0 size=   71936kB time=00:08:46.76 bitrate=1118.7kbits/s dup=34 drop=0 speed=3.39x\n"
          ]
        },
        {
          "output_type": "stream",
          "name": "stderr",
          "text": [
            "\rProcessing video:  15%|█▍        | 529.25/3600 [02:36<15:09,  3.37s/s]"
          ]
        },
        {
          "output_type": "stream",
          "name": "stdout",
          "text": [
            "frame=15865 fps=102 q=29.0 size=   72192kB time=00:08:49.25 bitrate=1117.4kbits/s dup=34 drop=0 speed=3.39x\n"
          ]
        },
        {
          "output_type": "stream",
          "name": "stderr",
          "text": [
            "\rProcessing video:  15%|█▍        | 531.56/3600 [02:37<15:08,  3.38s/s]"
          ]
        },
        {
          "output_type": "stream",
          "name": "stdout",
          "text": [
            "frame=15934 fps=102 q=29.0 size=   72448kB time=00:08:51.56 bitrate=1116.5kbits/s dup=34 drop=0 speed= 3.4x\n"
          ]
        },
        {
          "output_type": "stream",
          "name": "stderr",
          "text": [
            "\rProcessing video:  15%|█▍        | 533.88/3600 [02:37<15:06,  3.38s/s]"
          ]
        },
        {
          "output_type": "stream",
          "name": "stdout",
          "text": [
            "frame=16004 fps=102 q=29.0 size=   72704kB time=00:08:53.88 bitrate=1115.6kbits/s dup=34 drop=0 speed= 3.4x\n"
          ]
        },
        {
          "output_type": "stream",
          "name": "stderr",
          "text": [
            "\rProcessing video:  15%|█▍        | 536.23/3600 [02:38<15:04,  3.39s/s]"
          ]
        },
        {
          "output_type": "stream",
          "name": "stdout",
          "text": [
            "frame=16074 fps=102 q=29.0 size=   72960kB time=00:08:56.23 bitrate=1114.6kbits/s dup=34 drop=0 speed=3.41x\n"
          ]
        },
        {
          "output_type": "stream",
          "name": "stderr",
          "text": [
            "\rProcessing video:  15%|█▍        | 538.83/3600 [02:38<15:02,  3.39s/s]"
          ]
        },
        {
          "output_type": "stream",
          "name": "stdout",
          "text": [
            "frame=16152 fps=102 q=29.0 size=   72960kB time=00:08:58.83 bitrate=1109.2kbits/s dup=34 drop=0 speed=3.41x\n"
          ]
        },
        {
          "output_type": "stream",
          "name": "stderr",
          "text": [
            "\rProcessing video:  15%|█▌        | 541.5/3600 [02:39<14:59,  3.40s/s] "
          ]
        },
        {
          "output_type": "stream",
          "name": "stdout",
          "text": [
            "frame=16232 fps=102 q=29.0 size=   73216kB time=00:09:01.50 bitrate=1107.6kbits/s dup=34 drop=0 speed=3.42x\n"
          ]
        },
        {
          "output_type": "stream",
          "name": "stderr",
          "text": [
            "\rProcessing video:  15%|█▌        | 543.46/3600 [02:39<14:59,  3.40s/s]"
          ]
        },
        {
          "output_type": "stream",
          "name": "stdout",
          "text": [
            "frame=16291 fps=102 q=29.0 size=   73472kB time=00:09:03.46 bitrate=1107.5kbits/s dup=34 drop=0 speed=3.42x\n"
          ]
        },
        {
          "output_type": "stream",
          "name": "stderr",
          "text": [
            "\rProcessing video:  15%|█▌        | 544.78/3600 [02:40<14:59,  3.40s/s]"
          ]
        },
        {
          "output_type": "stream",
          "name": "stdout",
          "text": [
            "frame=16331 fps=102 q=29.0 size=   73728kB time=00:09:04.78 bitrate=1108.6kbits/s dup=34 drop=0 speed=3.42x\n"
          ]
        },
        {
          "output_type": "stream",
          "name": "stderr",
          "text": [
            "\rProcessing video:  15%|█▌        | 546.15/3600 [02:40<14:59,  3.39s/s]"
          ]
        },
        {
          "output_type": "stream",
          "name": "stdout",
          "text": [
            "frame=16372 fps=102 q=29.0 size=   74240kB time=00:09:06.15 bitrate=1113.6kbits/s dup=34 drop=0 speed=3.41x\n"
          ]
        },
        {
          "output_type": "stream",
          "name": "stderr",
          "text": [
            "\rProcessing video:  15%|█▌        | 547.45/3600 [02:41<14:59,  3.39s/s]"
          ]
        },
        {
          "output_type": "stream",
          "name": "stdout",
          "text": [
            "frame=16411 fps=102 q=29.0 size=   74496kB time=00:09:07.45 bitrate=1114.7kbits/s dup=34 drop=0 speed=3.41x\n"
          ]
        },
        {
          "output_type": "stream",
          "name": "stderr",
          "text": [
            "\rProcessing video:  15%|█▌        | 548.5/3600 [02:41<15:00,  3.39s/s] "
          ]
        },
        {
          "output_type": "stream",
          "name": "stdout",
          "text": [
            "frame=16442 fps=102 q=29.0 size=   74752kB time=00:09:08.50 bitrate=1116.4kbits/s dup=34 drop=0 speed=3.41x\n"
          ]
        },
        {
          "output_type": "stream",
          "name": "stderr",
          "text": [
            "\rProcessing video:  15%|█▌        | 549.56/3600 [02:42<15:01,  3.38s/s]"
          ]
        },
        {
          "output_type": "stream",
          "name": "stdout",
          "text": [
            "frame=16474 fps=102 q=29.0 size=   75008kB time=00:09:09.56 bitrate=1118.1kbits/s dup=34 drop=0 speed= 3.4x\n"
          ]
        },
        {
          "output_type": "stream",
          "name": "stderr",
          "text": [
            "\rProcessing video:  15%|█▌        | 550.76/3600 [02:42<15:01,  3.38s/s]"
          ]
        },
        {
          "output_type": "stream",
          "name": "stdout",
          "text": [
            "frame=16510 fps=102 q=29.0 size=   75264kB time=00:09:10.76 bitrate=1119.5kbits/s dup=34 drop=0 speed= 3.4x\n"
          ]
        },
        {
          "output_type": "stream",
          "name": "stderr",
          "text": [
            "\rProcessing video:  15%|█▌        | 552.17/3600 [02:43<15:02,  3.38s/s]"
          ]
        },
        {
          "output_type": "stream",
          "name": "stdout",
          "text": [
            "frame=16552 fps=102 q=29.0 size=   75520kB time=00:09:12.17 bitrate=1120.4kbits/s dup=34 drop=0 speed= 3.4x\n"
          ]
        },
        {
          "output_type": "stream",
          "name": "stderr",
          "text": [
            "\rProcessing video:  15%|█▌        | 553.62/3600 [02:43<15:01,  3.38s/s]"
          ]
        },
        {
          "output_type": "stream",
          "name": "stdout",
          "text": [
            "frame=16596 fps=102 q=29.0 size=   75776kB time=00:09:13.62 bitrate=1121.3kbits/s dup=34 drop=0 speed= 3.4x\n"
          ]
        },
        {
          "output_type": "stream",
          "name": "stderr",
          "text": [
            "\rProcessing video:  15%|█▌        | 555.2/3600 [02:44<15:01,  3.38s/s] "
          ]
        },
        {
          "output_type": "stream",
          "name": "stdout",
          "text": [
            "frame=16643 fps=102 q=29.0 size=   76032kB time=00:09:15.20 bitrate=1121.9kbits/s dup=34 drop=0 speed=3.39x\n"
          ]
        },
        {
          "output_type": "stream",
          "name": "stderr",
          "text": [
            "\rProcessing video:  15%|█▌        | 556.73/3600 [02:44<15:01,  3.38s/s]"
          ]
        },
        {
          "output_type": "stream",
          "name": "stdout",
          "text": [
            "frame=16689 fps=102 q=29.0 size=   76288kB time=00:09:16.73 bitrate=1122.5kbits/s dup=34 drop=0 speed=3.39x\n"
          ]
        },
        {
          "output_type": "stream",
          "name": "stderr",
          "text": [
            "\rProcessing video:  16%|█▌        | 558.2/3600 [02:45<15:01,  3.37s/s] "
          ]
        },
        {
          "output_type": "stream",
          "name": "stdout",
          "text": [
            "frame=16733 fps=102 q=29.0 size=   76544kB time=00:09:18.20 bitrate=1123.3kbits/s dup=34 drop=0 speed=3.39x\n"
          ]
        },
        {
          "output_type": "stream",
          "name": "stderr",
          "text": [
            "\rProcessing video:  16%|█▌        | 559.87/3600 [02:45<15:00,  3.37s/s]"
          ]
        },
        {
          "output_type": "stream",
          "name": "stdout",
          "text": [
            "frame=16783 fps=102 q=29.0 size=   76800kB time=00:09:19.87 bitrate=1123.7kbits/s dup=34 drop=0 speed=3.39x\n"
          ]
        },
        {
          "output_type": "stream",
          "name": "stderr",
          "text": [
            "\rProcessing video:  16%|█▌        | 561.92/3600 [02:46<14:59,  3.38s/s]"
          ]
        },
        {
          "output_type": "stream",
          "name": "stdout",
          "text": [
            "frame=16845 fps=102 q=29.0 size=   76800kB time=00:09:21.92 bitrate=1119.6kbits/s dup=34 drop=0 speed=3.39x\n"
          ]
        },
        {
          "output_type": "stream",
          "name": "stderr",
          "text": [
            "\rProcessing video:  16%|█▌        | 564.05/3600 [02:46<14:58,  3.38s/s]"
          ]
        },
        {
          "output_type": "stream",
          "name": "stdout",
          "text": [
            "frame=16909 fps=102 q=29.0 size=   77056kB time=00:09:24.05 bitrate=1119.1kbits/s dup=34 drop=0 speed= 3.4x\n"
          ]
        },
        {
          "output_type": "stream",
          "name": "stderr",
          "text": [
            "\rProcessing video:  16%|█▌        | 566.05/3600 [02:47<14:57,  3.38s/s]"
          ]
        },
        {
          "output_type": "stream",
          "name": "stdout",
          "text": [
            "frame=16969 fps=102 q=29.0 size=   77312kB time=00:09:26.05 bitrate=1118.9kbits/s dup=34 drop=0 speed= 3.4x\n"
          ]
        },
        {
          "output_type": "stream",
          "name": "stderr",
          "text": [
            "\rProcessing video:  16%|█▌        | 567.53/3600 [02:47<14:57,  3.38s/s]"
          ]
        },
        {
          "output_type": "stream",
          "name": "stdout",
          "text": [
            "frame=17013 fps=102 q=29.0 size=   77568kB time=00:09:27.53 bitrate=1119.7kbits/s dup=34 drop=0 speed= 3.4x\n"
          ]
        },
        {
          "output_type": "stream",
          "name": "stderr",
          "text": [
            "\rProcessing video:  16%|█▌        | 568.76/3600 [02:48<14:58,  3.38s/s]"
          ]
        },
        {
          "output_type": "stream",
          "name": "stdout",
          "text": [
            "frame=17050 fps=102 q=29.0 size=   77824kB time=00:09:28.76 bitrate=1120.9kbits/s dup=34 drop=0 speed=3.39x\n"
          ]
        },
        {
          "output_type": "stream",
          "name": "stderr",
          "text": [
            "\rProcessing video:  16%|█▌        | 570.0/3600 [02:49<14:58,  3.37s/s] "
          ]
        },
        {
          "output_type": "stream",
          "name": "stdout",
          "text": [
            "frame=17087 fps=102 q=29.0 size=   78080kB time=00:09:30.00 bitrate=1122.2kbits/s dup=34 drop=0 speed=3.39x\n"
          ]
        },
        {
          "output_type": "stream",
          "name": "stderr",
          "text": [
            "\rProcessing video:  16%|█▌        | 571.39/3600 [02:49<14:58,  3.37s/s]"
          ]
        },
        {
          "output_type": "stream",
          "name": "stdout",
          "text": [
            "frame=17129 fps=102 q=29.0 size=   78336kB time=00:09:31.39 bitrate=1123.1kbits/s dup=34 drop=0 speed=3.39x\n"
          ]
        },
        {
          "output_type": "stream",
          "name": "stderr",
          "text": [
            "\rProcessing video:  16%|█▌        | 573.39/3600 [02:50<14:57,  3.37s/s]"
          ]
        },
        {
          "output_type": "stream",
          "name": "stdout",
          "text": [
            "frame=17189 fps=102 q=29.0 size=   78592kB time=00:09:33.39 bitrate=1122.8kbits/s dup=34 drop=0 speed=3.39x\n"
          ]
        },
        {
          "output_type": "stream",
          "name": "stderr",
          "text": [
            "\rProcessing video:  16%|█▌        | 575.87/3600 [02:50<14:55,  3.38s/s]"
          ]
        },
        {
          "output_type": "stream",
          "name": "stdout",
          "text": [
            "frame=17263 fps=102 q=29.0 size=   78848kB time=00:09:35.87 bitrate=1121.6kbits/s dup=34 drop=0 speed=3.39x\n"
          ]
        },
        {
          "output_type": "stream",
          "name": "stderr",
          "text": [
            "\rProcessing video:  16%|█▌        | 578.38/3600 [02:51<14:53,  3.38s/s]"
          ]
        },
        {
          "output_type": "stream",
          "name": "stdout",
          "text": [
            "frame=17339 fps=102 q=29.0 size=   79104kB time=00:09:38.38 bitrate=1120.4kbits/s dup=34 drop=0 speed= 3.4x\n"
          ]
        },
        {
          "output_type": "stream",
          "name": "stderr",
          "text": [
            "\rProcessing video:  16%|█▌        | 581.03/3600 [02:51<14:51,  3.39s/s]"
          ]
        },
        {
          "output_type": "stream",
          "name": "stdout",
          "text": [
            "frame=17418 fps=102 q=29.0 size=   79360kB time=00:09:41.03 bitrate=1118.9kbits/s dup=34 drop=0 speed=3.41x\n"
          ]
        },
        {
          "output_type": "stream",
          "name": "stderr",
          "text": [
            "\rProcessing video:  16%|█▌        | 583.25/3600 [02:52<14:49,  3.39s/s]"
          ]
        },
        {
          "output_type": "stream",
          "name": "stdout",
          "text": [
            "frame=17485 fps=102 q=29.0 size=   79360kB time=00:09:43.25 bitrate=1114.6kbits/s dup=34 drop=0 speed=3.41x\n"
          ]
        },
        {
          "output_type": "stream",
          "name": "stderr",
          "text": [
            "\rProcessing video:  16%|█▋        | 585.0/3600 [02:52<14:49,  3.39s/s] "
          ]
        },
        {
          "output_type": "stream",
          "name": "stdout",
          "text": [
            "frame=17537 fps=102 q=29.0 size=   79616kB time=00:09:45.00 bitrate=1114.9kbits/s dup=34 drop=0 speed=3.41x\n"
          ]
        },
        {
          "output_type": "stream",
          "name": "stderr",
          "text": [
            "\rProcessing video:  16%|█▋        | 586.24/3600 [02:53<14:49,  3.39s/s]"
          ]
        },
        {
          "output_type": "stream",
          "name": "stdout",
          "text": [
            "frame=17574 fps=102 q=29.0 size=   79872kB time=00:09:46.24 bitrate=1116.1kbits/s dup=34 drop=0 speed=3.41x\n"
          ]
        },
        {
          "output_type": "stream",
          "name": "stderr",
          "text": [
            "\rProcessing video:  16%|█▋        | 587.43/3600 [02:53<14:50,  3.38s/s]"
          ]
        },
        {
          "output_type": "stream",
          "name": "stdout",
          "text": [
            "frame=17610 fps=102 q=29.0 size=   80128kB time=00:09:47.43 bitrate=1117.4kbits/s dup=34 drop=0 speed= 3.4x\n"
          ]
        },
        {
          "output_type": "stream",
          "name": "stderr",
          "text": [
            "\rProcessing video:  16%|█▋        | 588.67/3600 [02:54<14:50,  3.38s/s]"
          ]
        },
        {
          "output_type": "stream",
          "name": "stdout",
          "text": [
            "frame=17647 fps=102 q=29.0 size=   80128kB time=00:09:48.67 bitrate=1115.1kbits/s dup=34 drop=0 speed= 3.4x\n"
          ]
        },
        {
          "output_type": "stream",
          "name": "stderr",
          "text": [
            "\rProcessing video:  16%|█▋        | 590.95/3600 [02:54<14:49,  3.38s/s]"
          ]
        },
        {
          "output_type": "stream",
          "name": "stdout",
          "text": [
            "frame=17716 fps=102 q=29.0 size=   80384kB time=00:09:50.95 bitrate=1114.3kbits/s dup=34 drop=0 speed= 3.4x\n"
          ]
        },
        {
          "output_type": "stream",
          "name": "stderr",
          "text": [
            "\rProcessing video:  16%|█▋        | 593.66/3600 [02:55<14:46,  3.39s/s]"
          ]
        },
        {
          "output_type": "stream",
          "name": "stdout",
          "text": [
            "frame=17797 fps=102 q=29.0 size=   80640kB time=00:09:53.66 bitrate=1112.8kbits/s dup=34 drop=0 speed=3.41x\n"
          ]
        },
        {
          "output_type": "stream",
          "name": "stderr",
          "text": [
            "\rProcessing video:  17%|█▋        | 596.39/3600 [02:55<14:44,  3.40s/s]"
          ]
        },
        {
          "output_type": "stream",
          "name": "stdout",
          "text": [
            "frame=17879 fps=102 q=29.0 size=   80640kB time=00:09:56.39 bitrate=1107.7kbits/s dup=34 drop=0 speed=3.41x\n"
          ]
        },
        {
          "output_type": "stream",
          "name": "stderr",
          "text": [
            "\rProcessing video:  17%|█▋        | 598.99/3600 [02:56<14:42,  3.40s/s]"
          ]
        },
        {
          "output_type": "stream",
          "name": "stdout",
          "text": [
            "frame=17957 fps=102 q=29.0 size=   80896kB time=00:09:58.99 bitrate=1106.3kbits/s dup=34 drop=0 speed=3.42x\n"
          ]
        },
        {
          "output_type": "stream",
          "name": "stderr",
          "text": [
            "\rProcessing video:  17%|█▋        | 600.89/3600 [02:56<14:41,  3.40s/s]"
          ]
        },
        {
          "output_type": "stream",
          "name": "stdout",
          "text": [
            "frame=18014 fps=103 q=29.0 size=   81152kB time=00:10:00.89 bitrate=1106.3kbits/s dup=34 drop=0 speed=3.42x\n"
          ]
        },
        {
          "output_type": "stream",
          "name": "stderr",
          "text": [
            "\rProcessing video:  17%|█▋        | 602.19/3600 [02:57<14:41,  3.40s/s]"
          ]
        },
        {
          "output_type": "stream",
          "name": "stdout",
          "text": [
            "frame=18053 fps=102 q=29.0 size=   81408kB time=00:10:02.19 bitrate=1107.4kbits/s dup=34 drop=0 speed=3.42x\n"
          ]
        },
        {
          "output_type": "stream",
          "name": "stderr",
          "text": [
            "\rProcessing video:  17%|█▋        | 603.37/3600 [02:57<14:42,  3.40s/s]"
          ]
        },
        {
          "output_type": "stream",
          "name": "stdout",
          "text": [
            "frame=18088 fps=102 q=29.0 size=   81664kB time=00:10:03.37 bitrate=1108.8kbits/s dup=34 drop=0 speed=3.41x\n"
          ]
        },
        {
          "output_type": "stream",
          "name": "stderr",
          "text": [
            "\rProcessing video:  17%|█▋        | 604.45/3600 [02:58<14:42,  3.39s/s]"
          ]
        },
        {
          "output_type": "stream",
          "name": "stdout",
          "text": [
            "frame=18121 fps=102 q=29.0 size=   81920kB time=00:10:04.45 bitrate=1110.2kbits/s dup=34 drop=0 speed=3.41x\n"
          ]
        },
        {
          "output_type": "stream",
          "name": "stderr",
          "text": [
            "\rProcessing video:  17%|█▋        | 605.58/3600 [02:58<14:43,  3.39s/s]"
          ]
        },
        {
          "output_type": "stream",
          "name": "stdout",
          "text": [
            "frame=18155 fps=102 q=29.0 size=   82176kB time=00:10:05.58 bitrate=1111.6kbits/s dup=34 drop=0 speed=3.41x\n"
          ]
        },
        {
          "output_type": "stream",
          "name": "stderr",
          "text": [
            "\rProcessing video:  17%|█▋        | 606.57/3600 [02:59<14:43,  3.39s/s]"
          ]
        },
        {
          "output_type": "stream",
          "name": "stdout",
          "text": [
            "frame=18184 fps=102 q=29.0 size=   82432kB time=00:10:06.57 bitrate=1113.3kbits/s dup=34 drop=0 speed= 3.4x\n"
          ]
        },
        {
          "output_type": "stream",
          "name": "stderr",
          "text": [
            "\rProcessing video:  17%|█▋        | 607.65/3600 [02:59<14:44,  3.38s/s]"
          ]
        },
        {
          "output_type": "stream",
          "name": "stdout",
          "text": [
            "frame=18217 fps=102 q=29.0 size=   82688kB time=00:10:07.65 bitrate=1114.7kbits/s dup=34 drop=0 speed= 3.4x\n"
          ]
        },
        {
          "output_type": "stream",
          "name": "stderr",
          "text": [
            "\rProcessing video:  17%|█▋        | 608.89/3600 [03:00<14:44,  3.38s/s]"
          ]
        },
        {
          "output_type": "stream",
          "name": "stdout",
          "text": [
            "frame=18254 fps=102 q=29.0 size=   82944kB time=00:10:08.89 bitrate=1115.9kbits/s dup=34 drop=0 speed= 3.4x\n"
          ]
        },
        {
          "output_type": "stream",
          "name": "stderr",
          "text": [
            "\rProcessing video:  17%|█▋        | 610.26/3600 [03:00<14:44,  3.38s/s]"
          ]
        },
        {
          "output_type": "stream",
          "name": "stdout",
          "text": [
            "frame=18295 fps=102 q=29.0 size=   83200kB time=00:10:10.26 bitrate=1116.9kbits/s dup=34 drop=0 speed= 3.4x\n"
          ]
        },
        {
          "output_type": "stream",
          "name": "stderr",
          "text": [
            "\rProcessing video:  17%|█▋        | 611.66/3600 [03:01<14:44,  3.38s/s]"
          ]
        },
        {
          "output_type": "stream",
          "name": "stdout",
          "text": [
            "frame=18337 fps=102 q=29.0 size=   83456kB time=00:10:11.66 bitrate=1117.7kbits/s dup=34 drop=0 speed=3.39x\n"
          ]
        },
        {
          "output_type": "stream",
          "name": "stderr",
          "text": [
            "\rProcessing video:  17%|█▋        | 613.12/3600 [03:01<14:44,  3.38s/s]"
          ]
        },
        {
          "output_type": "stream",
          "name": "stdout",
          "text": [
            "frame=18381 fps=102 q=29.0 size=   83712kB time=00:10:13.12 bitrate=1118.5kbits/s dup=34 drop=0 speed=3.39x\n"
          ]
        },
        {
          "output_type": "stream",
          "name": "stderr",
          "text": [
            "\rProcessing video:  17%|█▋        | 614.86/3600 [03:02<14:44,  3.38s/s]"
          ]
        },
        {
          "output_type": "stream",
          "name": "stdout",
          "text": [
            "frame=18433 fps=102 q=29.0 size=   83968kB time=00:10:14.86 bitrate=1118.7kbits/s dup=34 drop=0 speed=3.39x\n"
          ]
        },
        {
          "output_type": "stream",
          "name": "stderr",
          "text": [
            "\rProcessing video:  17%|█▋        | 617.0/3600 [03:02<14:42,  3.38s/s] "
          ]
        },
        {
          "output_type": "stream",
          "name": "stdout",
          "text": [
            "frame=18497 fps=102 q=29.0 size=   84224kB time=00:10:17.00 bitrate=1118.3kbits/s dup=34 drop=0 speed=3.39x\n"
          ]
        },
        {
          "output_type": "stream",
          "name": "stderr",
          "text": [
            "\rProcessing video:  17%|█▋        | 619.15/3600 [03:03<14:41,  3.38s/s]"
          ]
        },
        {
          "output_type": "stream",
          "name": "stdout",
          "text": [
            "frame=18562 fps=102 q=26.0 size=   84480kB time=00:10:19.15 bitrate=1117.7kbits/s dup=34 drop=0 speed= 3.4x\n"
          ]
        },
        {
          "output_type": "stream",
          "name": "stderr",
          "text": [
            "\rProcessing video:  17%|█▋        | 620.5/3600 [03:03<14:42,  3.38s/s] "
          ]
        },
        {
          "output_type": "stream",
          "name": "stdout",
          "text": [
            "frame=18602 fps=102 q=29.0 size=   84736kB time=00:10:20.50 bitrate=1118.7kbits/s dup=34 drop=0 speed=3.39x\n"
          ]
        },
        {
          "output_type": "stream",
          "name": "stderr",
          "text": [
            "\rProcessing video:  17%|█▋        | 621.76/3600 [03:04<14:42,  3.38s/s]"
          ]
        },
        {
          "output_type": "stream",
          "name": "stdout",
          "text": [
            "frame=18640 fps=102 q=29.0 size=   84992kB time=00:10:21.76 bitrate=1119.8kbits/s dup=34 drop=0 speed=3.39x\n"
          ]
        },
        {
          "output_type": "stream",
          "name": "stderr",
          "text": [
            "\rProcessing video:  17%|█▋        | 622.93/3600 [03:04<14:42,  3.37s/s]"
          ]
        },
        {
          "output_type": "stream",
          "name": "stdout",
          "text": [
            "frame=18675 fps=102 q=29.0 size=   85248kB time=00:10:22.93 bitrate=1121.1kbits/s dup=34 drop=0 speed=3.39x\n"
          ]
        },
        {
          "output_type": "stream",
          "name": "stderr",
          "text": [
            "\rProcessing video:  17%|█▋        | 624.02/3600 [03:05<14:43,  3.37s/s]"
          ]
        },
        {
          "output_type": "stream",
          "name": "stdout",
          "text": [
            "frame=18708 fps=101 q=29.0 size=   85504kB time=00:10:24.02 bitrate=1122.5kbits/s dup=34 drop=0 speed=3.39x\n"
          ]
        },
        {
          "output_type": "stream",
          "name": "stderr",
          "text": [
            "\rProcessing video:  17%|█▋        | 625.13/3600 [03:05<14:43,  3.37s/s]"
          ]
        },
        {
          "output_type": "stream",
          "name": "stdout",
          "text": [
            "frame=18741 fps=101 q=29.0 size=   85504kB time=00:10:25.13 bitrate=1120.5kbits/s dup=34 drop=0 speed=3.38x\n"
          ]
        },
        {
          "output_type": "stream",
          "name": "stderr",
          "text": [
            "\rProcessing video:  17%|█▋        | 626.26/3600 [03:06<14:44,  3.36s/s]"
          ]
        },
        {
          "output_type": "stream",
          "name": "stdout",
          "text": [
            "frame=18775 fps=101 q=29.0 size=   85760kB time=00:10:26.26 bitrate=1121.8kbits/s dup=34 drop=0 speed=3.38x\n"
          ]
        },
        {
          "output_type": "stream",
          "name": "stderr",
          "text": [
            "\rProcessing video:  17%|█▋        | 627.49/3600 [03:06<14:44,  3.36s/s]"
          ]
        },
        {
          "output_type": "stream",
          "name": "stdout",
          "text": [
            "frame=18812 fps=101 q=26.0 size=   86272kB time=00:10:27.49 bitrate=1126.3kbits/s dup=34 drop=0 speed=3.38x\n"
          ]
        },
        {
          "output_type": "stream",
          "name": "stderr",
          "text": [
            "\rProcessing video:  17%|█▋        | 629.05/3600 [03:07<14:44,  3.36s/s]"
          ]
        },
        {
          "output_type": "stream",
          "name": "stdout",
          "text": [
            "frame=18859 fps=101 q=29.0 size=   86528kB time=00:10:29.05 bitrate=1126.8kbits/s dup=34 drop=0 speed=3.38x\n"
          ]
        },
        {
          "output_type": "stream",
          "name": "stderr",
          "text": [
            "\rProcessing video:  18%|█▊        | 631.16/3600 [03:07<14:42,  3.36s/s]"
          ]
        },
        {
          "output_type": "stream",
          "name": "stdout",
          "text": [
            "frame=18922 fps=101 q=29.0 size=   86784kB time=00:10:31.16 bitrate=1126.4kbits/s dup=34 drop=0 speed=3.38x\n"
          ]
        },
        {
          "output_type": "stream",
          "name": "stderr",
          "text": [
            "\rProcessing video:  18%|█▊        | 633.23/3600 [03:08<14:41,  3.36s/s]"
          ]
        },
        {
          "output_type": "stream",
          "name": "stdout",
          "text": [
            "frame=18984 fps=101 q=29.0 size=   87040kB time=00:10:33.23 bitrate=1126.0kbits/s dup=34 drop=0 speed=3.38x\n"
          ]
        },
        {
          "output_type": "stream",
          "name": "stderr",
          "text": [
            "\rProcessing video:  18%|█▊        | 635.32/3600 [03:08<14:40,  3.37s/s]"
          ]
        },
        {
          "output_type": "stream",
          "name": "stdout",
          "text": [
            "frame=19047 fps=101 q=29.0 size=   87040kB time=00:10:35.32 bitrate=1122.3kbits/s dup=34 drop=0 speed=3.38x\n"
          ]
        },
        {
          "output_type": "stream",
          "name": "stderr",
          "text": [
            "\rProcessing video:  18%|█▊        | 637.33/3600 [03:09<14:39,  3.37s/s]"
          ]
        },
        {
          "output_type": "stream",
          "name": "stdout",
          "text": [
            "frame=19107 fps=101 q=29.0 size=   87296kB time=00:10:37.33 bitrate=1122.1kbits/s dup=34 drop=0 speed=3.38x\n"
          ]
        },
        {
          "output_type": "stream",
          "name": "stderr",
          "text": [
            "\rProcessing video:  18%|█▊        | 639.89/3600 [03:09<14:37,  3.37s/s]"
          ]
        },
        {
          "output_type": "stream",
          "name": "stdout",
          "text": [
            "frame=19184 fps=102 q=29.0 size=   87552kB time=00:10:39.89 bitrate=1120.9kbits/s dup=34 drop=0 speed=3.39x\n"
          ]
        },
        {
          "output_type": "stream",
          "name": "stderr",
          "text": [
            "\rProcessing video:  18%|█▊        | 642.19/3600 [03:10<14:36,  3.37s/s]"
          ]
        },
        {
          "output_type": "stream",
          "name": "stdout",
          "text": [
            "frame=19253 fps=102 q=29.0 size=   87808kB time=00:10:42.19 bitrate=1120.1kbits/s dup=34 drop=0 speed=3.39x\n"
          ]
        },
        {
          "output_type": "stream",
          "name": "stderr",
          "text": [
            "\rProcessing video:  18%|█▊        | 643.62/3600 [03:10<14:36,  3.37s/s]"
          ]
        },
        {
          "output_type": "stream",
          "name": "stdout",
          "text": [
            "frame=19296 fps=102 q=29.0 size=   88064kB time=00:10:43.62 bitrate=1120.9kbits/s dup=34 drop=0 speed=3.39x\n"
          ]
        },
        {
          "output_type": "stream",
          "name": "stderr",
          "text": [
            "\rProcessing video:  18%|█▊        | 644.86/3600 [03:11<14:36,  3.37s/s]"
          ]
        },
        {
          "output_type": "stream",
          "name": "stdout",
          "text": [
            "frame=19333 fps=102 q=29.0 size=   88320kB time=00:10:44.86 bitrate=1122.0kbits/s dup=34 drop=0 speed=3.39x\n"
          ]
        },
        {
          "output_type": "stream",
          "name": "stderr",
          "text": [
            "\rProcessing video:  18%|█▊        | 646.12/3600 [03:11<14:36,  3.37s/s]"
          ]
        },
        {
          "output_type": "stream",
          "name": "stdout",
          "text": [
            "frame=19371 fps=101 q=29.0 size=   88576kB time=00:10:46.12 bitrate=1123.0kbits/s dup=34 drop=0 speed=3.38x\n"
          ]
        },
        {
          "output_type": "stream",
          "name": "stderr",
          "text": [
            "\rProcessing video:  18%|█▊        | 647.57/3600 [03:12<14:36,  3.37s/s]"
          ]
        },
        {
          "output_type": "stream",
          "name": "stdout",
          "text": [
            "frame=19414 fps=101 q=29.0 size=   88832kB time=00:10:47.57 bitrate=1123.8kbits/s dup=34 drop=0 speed=3.38x\n"
          ]
        },
        {
          "output_type": "stream",
          "name": "stderr",
          "text": [
            "\rProcessing video:  18%|█▊        | 649.17/3600 [03:12<14:36,  3.37s/s]"
          ]
        },
        {
          "output_type": "stream",
          "name": "stdout",
          "text": [
            "frame=19462 fps=101 q=29.0 size=   89088kB time=00:10:49.17 bitrate=1124.2kbits/s dup=34 drop=0 speed=3.38x\n"
          ]
        },
        {
          "output_type": "stream",
          "name": "stderr",
          "text": [
            "\rProcessing video:  18%|█▊        | 650.6/3600 [03:13<14:36,  3.37s/s] "
          ]
        },
        {
          "output_type": "stream",
          "name": "stdout",
          "text": [
            "frame=19505 fps=101 q=29.0 size=   89344kB time=00:10:50.60 bitrate=1125.0kbits/s dup=34 drop=0 speed=3.38x\n"
          ]
        },
        {
          "output_type": "stream",
          "name": "stderr",
          "text": [
            "\rProcessing video:  18%|█▊        | 651.92/3600 [03:13<14:36,  3.36s/s]"
          ]
        },
        {
          "output_type": "stream",
          "name": "stdout",
          "text": [
            "frame=19545 fps=101 q=29.0 size=   89600kB time=00:10:51.92 bitrate=1125.9kbits/s dup=34 drop=0 speed=3.38x\n"
          ]
        },
        {
          "output_type": "stream",
          "name": "stderr",
          "text": [
            "\rProcessing video:  18%|█▊        | 653.82/3600 [03:14<14:35,  3.36s/s]"
          ]
        },
        {
          "output_type": "stream",
          "name": "stdout",
          "text": [
            "frame=19602 fps=101 q=29.0 size=   89856kB time=00:10:53.82 bitrate=1125.8kbits/s dup=34 drop=0 speed=3.38x\n"
          ]
        },
        {
          "output_type": "stream",
          "name": "stderr",
          "text": [
            "\rProcessing video:  18%|█▊        | 656.1/3600 [03:14<14:34,  3.37s/s] "
          ]
        },
        {
          "output_type": "stream",
          "name": "stdout",
          "text": [
            "frame=19670 fps=101 q=29.0 size=   90112kB time=00:10:56.10 bitrate=1125.1kbits/s dup=34 drop=0 speed=3.38x\n"
          ]
        },
        {
          "output_type": "stream",
          "name": "stderr",
          "text": [
            "\rProcessing video:  18%|█▊        | 658.3/3600 [03:15<14:33,  3.37s/s]"
          ]
        },
        {
          "output_type": "stream",
          "name": "stdout",
          "text": [
            "frame=19736 fps=101 q=29.0 size=   90112kB time=00:10:58.30 bitrate=1121.4kbits/s dup=34 drop=0 speed=3.39x\n"
          ]
        },
        {
          "output_type": "stream",
          "name": "stderr",
          "text": [
            "\rProcessing video:  18%|█▊        | 659.9/3600 [03:15<14:32,  3.37s/s]"
          ]
        },
        {
          "output_type": "stream",
          "name": "stdout",
          "text": [
            "frame=19784 fps=101 q=29.0 size=   90368kB time=00:10:59.90 bitrate=1121.8kbits/s dup=34 drop=0 speed=3.38x\n"
          ]
        },
        {
          "output_type": "stream",
          "name": "stderr",
          "text": [
            "\rProcessing video:  18%|█▊        | 661.05/3600 [03:16<14:33,  3.37s/s]"
          ]
        },
        {
          "output_type": "stream",
          "name": "stdout",
          "text": [
            "frame=19819 fps=101 q=29.0 size=   90624kB time=00:11:01.05 bitrate=1123.0kbits/s dup=34 drop=0 speed=3.38x\n"
          ]
        },
        {
          "output_type": "stream",
          "name": "stderr",
          "text": [
            "\rProcessing video:  18%|█▊        | 662.33/3600 [03:16<14:33,  3.36s/s]"
          ]
        },
        {
          "output_type": "stream",
          "name": "stdout",
          "text": [
            "frame=19857 fps=101 q=29.0 size=   90880kB time=00:11:02.33 bitrate=1124.0kbits/s dup=34 drop=0 speed=3.38x\n"
          ]
        },
        {
          "output_type": "stream",
          "name": "stderr",
          "text": [
            "\rProcessing video:  18%|█▊        | 663.46/3600 [03:17<14:33,  3.36s/s]"
          ]
        },
        {
          "output_type": "stream",
          "name": "stdout",
          "text": [
            "frame=19891 fps=101 q=29.0 size=   91136kB time=00:11:03.46 bitrate=1125.3kbits/s dup=34 drop=0 speed=3.38x\n"
          ]
        },
        {
          "output_type": "stream",
          "name": "stderr",
          "text": [
            "\rProcessing video:  18%|█▊        | 664.78/3600 [03:17<14:33,  3.36s/s]"
          ]
        },
        {
          "output_type": "stream",
          "name": "stdout",
          "text": [
            "frame=19931 fps=101 q=29.0 size=   91392kB time=00:11:04.78 bitrate=1126.2kbits/s dup=34 drop=0 speed=3.37x\n"
          ]
        },
        {
          "output_type": "stream",
          "name": "stderr",
          "text": [
            "\rProcessing video:  19%|█▊        | 666.68/3600 [03:18<14:32,  3.36s/s]"
          ]
        },
        {
          "output_type": "stream",
          "name": "stdout",
          "text": [
            "frame=19988 fps=101 q=29.0 size=   91648kB time=00:11:06.68 bitrate=1126.1kbits/s dup=34 drop=0 speed=3.38x\n"
          ]
        },
        {
          "output_type": "stream",
          "name": "stderr",
          "text": [
            "\rProcessing video:  19%|█▊        | 668.8/3600 [03:18<14:31,  3.36s/s] "
          ]
        },
        {
          "output_type": "stream",
          "name": "stdout",
          "text": [
            "frame=20051 fps=101 q=29.0 size=   91904kB time=00:11:08.80 bitrate=1125.7kbits/s dup=34 drop=0 speed=3.38x\n"
          ]
        },
        {
          "output_type": "stream",
          "name": "stderr",
          "text": [
            "\rProcessing video:  19%|█▊        | 670.46/3600 [03:19<14:31,  3.36s/s]"
          ]
        },
        {
          "output_type": "stream",
          "name": "stdout",
          "text": [
            "frame=20101 fps=101 q=29.0 size=   92160kB time=00:11:10.46 bitrate=1126.0kbits/s dup=34 drop=0 speed=3.38x\n"
          ]
        },
        {
          "output_type": "stream",
          "name": "stderr",
          "text": [
            "\rProcessing video:  19%|█▊        | 672.59/3600 [03:19<14:30,  3.36s/s]"
          ]
        },
        {
          "output_type": "stream",
          "name": "stdout",
          "text": [
            "frame=20165 fps=101 q=29.0 size=   92160kB time=00:11:12.59 bitrate=1122.5kbits/s dup=34 drop=0 speed=3.38x\n"
          ]
        },
        {
          "output_type": "stream",
          "name": "stderr",
          "text": [
            "\rProcessing video:  19%|█▊        | 674.9/3600 [03:20<14:28,  3.37s/s] "
          ]
        },
        {
          "output_type": "stream",
          "name": "stdout",
          "text": [
            "frame=20234 fps=101 q=29.0 size=   92416kB time=00:11:14.90 bitrate=1121.8kbits/s dup=34 drop=0 speed=3.38x\n"
          ]
        },
        {
          "output_type": "stream",
          "name": "stderr",
          "text": [
            "\rProcessing video:  19%|█▉        | 677.16/3600 [03:20<14:27,  3.37s/s]"
          ]
        },
        {
          "output_type": "stream",
          "name": "stdout",
          "text": [
            "frame=20302 fps=101 q=29.0 size=   92672kB time=00:11:17.16 bitrate=1121.1kbits/s dup=34 drop=0 speed=3.39x\n"
          ]
        },
        {
          "output_type": "stream",
          "name": "stderr",
          "text": [
            "\rProcessing video:  19%|█▉        | 679.57/3600 [03:21<14:25,  3.37s/s]"
          ]
        },
        {
          "output_type": "stream",
          "name": "stdout",
          "text": [
            "frame=20374 fps=102 q=29.0 size=   92928kB time=00:11:19.57 bitrate=1120.2kbits/s dup=34 drop=0 speed=3.39x\n"
          ]
        },
        {
          "output_type": "stream",
          "name": "stderr",
          "text": [
            "\rProcessing video:  19%|█▉        | 682.09/3600 [03:21<14:23,  3.38s/s]"
          ]
        },
        {
          "output_type": "stream",
          "name": "stdout",
          "text": [
            "frame=20450 fps=102 q=29.0 size=   93184kB time=00:11:22.09 bitrate=1119.2kbits/s dup=34 drop=0 speed=3.39x\n"
          ]
        },
        {
          "output_type": "stream",
          "name": "stderr",
          "text": [
            "\rProcessing video:  19%|█▉        | 684.5/3600 [03:22<14:22,  3.38s/s] "
          ]
        },
        {
          "output_type": "stream",
          "name": "stdout",
          "text": [
            "frame=20522 fps=102 q=29.0 size=   93184kB time=00:11:24.50 bitrate=1115.2kbits/s dup=34 drop=0 speed= 3.4x\n"
          ]
        },
        {
          "output_type": "stream",
          "name": "stderr",
          "text": [
            "\rProcessing video:  19%|█▉        | 686.95/3600 [03:22<14:20,  3.39s/s]"
          ]
        },
        {
          "output_type": "stream",
          "name": "stdout",
          "text": [
            "frame=20596 fps=102 q=29.0 size=   93440kB time=00:11:26.95 bitrate=1114.3kbits/s dup=34 drop=0 speed= 3.4x\n"
          ]
        },
        {
          "output_type": "stream",
          "name": "stderr",
          "text": [
            "\rProcessing video:  19%|█▉        | 689.62/3600 [03:23<14:18,  3.39s/s]"
          ]
        },
        {
          "output_type": "stream",
          "name": "stdout",
          "text": [
            "frame=20676 fps=102 q=29.0 size=   93696kB time=00:11:29.62 bitrate=1113.0kbits/s dup=34 drop=0 speed= 3.4x\n"
          ]
        },
        {
          "output_type": "stream",
          "name": "stderr",
          "text": [
            "\rProcessing video:  19%|█▉        | 692.28/3600 [03:23<14:16,  3.39s/s]"
          ]
        },
        {
          "output_type": "stream",
          "name": "stdout",
          "text": [
            "frame=20756 fps=102 q=29.0 size=   93696kB time=00:11:32.28 bitrate=1108.7kbits/s dup=34 drop=0 speed=3.41x\n"
          ]
        },
        {
          "output_type": "stream",
          "name": "stderr",
          "text": [
            "\rProcessing video:  19%|█▉        | 694.93/3600 [03:24<14:14,  3.40s/s]"
          ]
        },
        {
          "output_type": "stream",
          "name": "stdout",
          "text": [
            "frame=20835 fps=102 q=29.0 size=   93952kB time=00:11:34.93 bitrate=1107.5kbits/s dup=34 drop=0 speed=3.41x\n"
          ]
        },
        {
          "output_type": "stream",
          "name": "stderr",
          "text": [
            "\rProcessing video:  19%|█▉        | 697.42/3600 [03:24<14:13,  3.40s/s]"
          ]
        },
        {
          "output_type": "stream",
          "name": "stdout",
          "text": [
            "frame=20910 fps=102 q=29.0 size=   94208kB time=00:11:37.42 bitrate=1106.6kbits/s dup=34 drop=0 speed=3.42x\n"
          ]
        },
        {
          "output_type": "stream",
          "name": "stderr",
          "text": [
            "\rProcessing video:  19%|█▉        | 699.32/3600 [03:25<14:12,  3.40s/s]"
          ]
        },
        {
          "output_type": "stream",
          "name": "stdout",
          "text": [
            "frame=20967 fps=102 q=29.0 size=   94464kB time=00:11:39.32 bitrate=1106.6kbits/s dup=34 drop=0 speed=3.42x\n"
          ]
        },
        {
          "output_type": "stream",
          "name": "stderr",
          "text": [
            "\rProcessing video:  19%|█▉        | 700.75/3600 [03:26<14:12,  3.40s/s]"
          ]
        },
        {
          "output_type": "stream",
          "name": "stdout",
          "text": [
            "frame=21010 fps=102 q=29.0 size=   94464kB time=00:11:40.75 bitrate=1104.3kbits/s dup=34 drop=0 speed=3.42x\n"
          ]
        },
        {
          "output_type": "stream",
          "name": "stderr",
          "text": [
            "\rProcessing video:  20%|█▉        | 702.22/3600 [03:26<14:12,  3.40s/s]"
          ]
        },
        {
          "output_type": "stream",
          "name": "stdout",
          "text": [
            "frame=21054 fps=102 q=29.0 size=   94720kB time=00:11:42.22 bitrate=1105.0kbits/s dup=34 drop=0 speed=3.42x\n"
          ]
        },
        {
          "output_type": "stream",
          "name": "stderr",
          "text": [
            "\rProcessing video:  20%|█▉        | 703.87/3600 [03:27<14:11,  3.40s/s]"
          ]
        },
        {
          "output_type": "stream",
          "name": "stdout",
          "text": [
            "frame=21103 fps=102 q=29.0 size=   94976kB time=00:11:43.87 bitrate=1105.4kbits/s dup=34 drop=0 speed=3.41x\n"
          ]
        },
        {
          "output_type": "stream",
          "name": "stderr",
          "text": [
            "\rProcessing video:  20%|█▉        | 706.49/3600 [03:27<14:09,  3.40s/s]"
          ]
        },
        {
          "output_type": "stream",
          "name": "stdout",
          "text": [
            "frame=21182 fps=103 q=29.0 size=   95232kB time=00:11:46.49 bitrate=1104.2kbits/s dup=34 drop=0 speed=3.42x\n"
          ]
        },
        {
          "output_type": "stream",
          "name": "stderr",
          "text": [
            "\rProcessing video:  20%|█▉        | 709.35/3600 [03:28<14:07,  3.41s/s]"
          ]
        },
        {
          "output_type": "stream",
          "name": "stdout",
          "text": [
            "frame=21268 fps=103 q=29.0 size=   95488kB time=00:11:49.35 bitrate=1102.7kbits/s dup=34 drop=0 speed=3.42x\n"
          ]
        },
        {
          "output_type": "stream",
          "name": "stderr",
          "text": [
            "\rProcessing video:  20%|█▉        | 711.95/3600 [03:28<14:05,  3.41s/s]"
          ]
        },
        {
          "output_type": "stream",
          "name": "stdout",
          "text": [
            "frame=21346 fps=103 q=29.0 size=   95744kB time=00:11:51.95 bitrate=1101.7kbits/s dup=34 drop=0 speed=3.43x\n"
          ]
        },
        {
          "output_type": "stream",
          "name": "stderr",
          "text": [
            "\rProcessing video:  20%|█▉        | 713.77/3600 [03:29<14:05,  3.41s/s]"
          ]
        },
        {
          "output_type": "stream",
          "name": "stdout",
          "text": [
            "frame=21400 fps=103 q=29.0 size=   95744kB time=00:11:53.77 bitrate=1098.9kbits/s dup=34 drop=0 speed=3.43x\n"
          ]
        },
        {
          "output_type": "stream",
          "name": "stderr",
          "text": [
            "\rProcessing video:  20%|█▉        | 715.15/3600 [03:29<14:05,  3.41s/s]"
          ]
        },
        {
          "output_type": "stream",
          "name": "stdout",
          "text": [
            "frame=21442 fps=103 q=29.0 size=   96000kB time=00:11:55.15 bitrate=1099.7kbits/s dup=34 drop=0 speed=3.43x\n"
          ]
        },
        {
          "output_type": "stream",
          "name": "stderr",
          "text": [
            "\rProcessing video:  20%|█▉        | 716.5/3600 [03:30<14:05,  3.41s/s] "
          ]
        },
        {
          "output_type": "stream",
          "name": "stdout",
          "text": [
            "frame=21482 fps=103 q=29.0 size=   96256kB time=00:11:56.50 bitrate=1100.5kbits/s dup=34 drop=0 speed=3.43x\n"
          ]
        },
        {
          "output_type": "stream",
          "name": "stderr",
          "text": [
            "\rProcessing video:  20%|█▉        | 717.86/3600 [03:30<14:05,  3.41s/s]"
          ]
        },
        {
          "output_type": "stream",
          "name": "stdout",
          "text": [
            "frame=21523 fps=103 q=29.0 size=   96512kB time=00:11:57.86 bitrate=1101.4kbits/s dup=34 drop=0 speed=3.42x\n"
          ]
        },
        {
          "output_type": "stream",
          "name": "stderr",
          "text": [
            "\rProcessing video:  20%|█▉        | 719.1/3600 [03:31<14:05,  3.41s/s] "
          ]
        },
        {
          "output_type": "stream",
          "name": "stdout",
          "text": [
            "frame=21560 fps=103 q=29.0 size=   97024kB time=00:11:59.10 bitrate=1105.3kbits/s dup=34 drop=0 speed=3.42x\n"
          ]
        },
        {
          "output_type": "stream",
          "name": "stderr",
          "text": [
            "\rProcessing video:  20%|██        | 720.32/3600 [03:31<14:05,  3.40s/s]"
          ]
        },
        {
          "output_type": "stream",
          "name": "stdout",
          "text": [
            "frame=21597 fps=102 q=29.0 size=   97280kB time=00:12:00.32 bitrate=1106.3kbits/s dup=34 drop=0 speed=3.42x\n"
          ]
        },
        {
          "output_type": "stream",
          "name": "stderr",
          "text": [
            "\rProcessing video:  20%|██        | 721.47/3600 [03:32<14:06,  3.40s/s]"
          ]
        },
        {
          "output_type": "stream",
          "name": "stdout",
          "text": [
            "frame=21631 fps=102 q=29.0 size=   97536kB time=00:12:01.47 bitrate=1107.5kbits/s dup=34 drop=0 speed=3.42x\n"
          ]
        },
        {
          "output_type": "stream",
          "name": "stderr",
          "text": [
            "\rProcessing video:  20%|██        | 722.6/3600 [03:32<14:06,  3.40s/s] "
          ]
        },
        {
          "output_type": "stream",
          "name": "stdout",
          "text": [
            "frame=21665 fps=102 q=29.0 size=   97792kB time=00:12:02.60 bitrate=1108.6kbits/s dup=34 drop=0 speed=3.41x\n"
          ]
        },
        {
          "output_type": "stream",
          "name": "stderr",
          "text": [
            "\rProcessing video:  20%|██        | 723.86/3600 [03:33<14:06,  3.40s/s]"
          ]
        },
        {
          "output_type": "stream",
          "name": "stdout",
          "text": [
            "frame=21703 fps=102 q=29.0 size=   98048kB time=00:12:03.86 bitrate=1109.6kbits/s dup=34 drop=0 speed=3.41x\n"
          ]
        },
        {
          "output_type": "stream",
          "name": "stderr",
          "text": [
            "\rProcessing video:  20%|██        | 725.26/3600 [03:33<14:06,  3.40s/s]"
          ]
        },
        {
          "output_type": "stream",
          "name": "stdout",
          "text": [
            "frame=21745 fps=102 q=29.0 size=   98304kB time=00:12:05.26 bitrate=1110.4kbits/s dup=34 drop=0 speed=3.41x\n"
          ]
        },
        {
          "output_type": "stream",
          "name": "stderr",
          "text": [
            "\rProcessing video:  20%|██        | 726.76/3600 [03:34<14:06,  3.39s/s]"
          ]
        },
        {
          "output_type": "stream",
          "name": "stdout",
          "text": [
            "frame=21790 fps=102 q=29.0 size=   98560kB time=00:12:06.76 bitrate=1111.0kbits/s dup=34 drop=0 speed=3.41x\n"
          ]
        },
        {
          "output_type": "stream",
          "name": "stderr",
          "text": [
            "\rProcessing video:  20%|██        | 728.36/3600 [03:34<14:06,  3.39s/s]"
          ]
        },
        {
          "output_type": "stream",
          "name": "stdout",
          "text": [
            "frame=21838 fps=102 q=29.0 size=   98816kB time=00:12:08.36 bitrate=1111.4kbits/s dup=34 drop=0 speed=3.41x\n"
          ]
        },
        {
          "output_type": "stream",
          "name": "stderr",
          "text": [
            "\rProcessing video:  20%|██        | 729.96/3600 [03:35<14:05,  3.39s/s]"
          ]
        },
        {
          "output_type": "stream",
          "name": "stdout",
          "text": [
            "frame=21886 fps=102 q=29.0 size=   99072kB time=00:12:09.96 bitrate=1111.8kbits/s dup=34 drop=0 speed=3.41x\n"
          ]
        },
        {
          "output_type": "stream",
          "name": "stderr",
          "text": [
            "\rProcessing video:  20%|██        | 731.73/3600 [03:35<14:05,  3.39s/s]"
          ]
        },
        {
          "output_type": "stream",
          "name": "stdout",
          "text": [
            "frame=21939 fps=102 q=29.0 size=   99328kB time=00:12:11.73 bitrate=1112.0kbits/s dup=34 drop=0 speed=3.41x\n"
          ]
        },
        {
          "output_type": "stream",
          "name": "stderr",
          "text": [
            "\rProcessing video:  20%|██        | 733.46/3600 [03:36<14:04,  3.39s/s]"
          ]
        },
        {
          "output_type": "stream",
          "name": "stdout",
          "text": [
            "frame=21991 fps=102 q=29.0 size=   99584kB time=00:12:13.46 bitrate=1112.3kbits/s dup=34 drop=0 speed=3.41x\n"
          ]
        },
        {
          "output_type": "stream",
          "name": "stderr",
          "text": [
            "\rProcessing video:  20%|██        | 735.16/3600 [03:36<14:04,  3.39s/s]"
          ]
        },
        {
          "output_type": "stream",
          "name": "stdout",
          "text": [
            "frame=22042 fps=102 q=29.0 size=   99840kB time=00:12:15.16 bitrate=1112.5kbits/s dup=34 drop=0 speed=3.41x\n"
          ]
        },
        {
          "output_type": "stream",
          "name": "stderr",
          "text": [
            "\rProcessing video:  20%|██        | 736.78/3600 [03:37<14:03,  3.39s/s]"
          ]
        },
        {
          "output_type": "stream",
          "name": "stdout",
          "text": [
            "frame=22091 fps=102 q=29.0 size=  100096kB time=00:12:16.78 bitrate=1112.9kbits/s dup=34 drop=0 speed=3.41x\n"
          ]
        },
        {
          "output_type": "stream",
          "name": "stderr",
          "text": [
            "\rProcessing video:  21%|██        | 738.3/3600 [03:37<14:03,  3.39s/s] "
          ]
        },
        {
          "output_type": "stream",
          "name": "stdout",
          "text": [
            "frame=22136 fps=102 q=29.0 size=  100096kB time=00:12:18.30 bitrate=1110.6kbits/s dup=34 drop=0 speed=3.41x\n"
          ]
        },
        {
          "output_type": "stream",
          "name": "stderr",
          "text": [
            "\rProcessing video:  21%|██        | 739.75/3600 [03:38<14:03,  3.39s/s]"
          ]
        },
        {
          "output_type": "stream",
          "name": "stdout",
          "text": [
            "frame=22180 fps=102 q=29.0 size=  100352kB time=00:12:19.75 bitrate=1111.3kbits/s dup=34 drop=0 speed= 3.4x\n"
          ]
        },
        {
          "output_type": "stream",
          "name": "stderr",
          "text": [
            "\rProcessing video:  21%|██        | 741.39/3600 [03:38<14:03,  3.39s/s]"
          ]
        },
        {
          "output_type": "stream",
          "name": "stdout",
          "text": [
            "frame=22229 fps=102 q=29.0 size=  100608kB time=00:12:21.39 bitrate=1111.7kbits/s dup=34 drop=0 speed= 3.4x\n"
          ]
        },
        {
          "output_type": "stream",
          "name": "stderr",
          "text": [
            "\rProcessing video:  21%|██        | 743.57/3600 [03:39<14:02,  3.39s/s]"
          ]
        },
        {
          "output_type": "stream",
          "name": "stdout",
          "text": [
            "frame=22294 fps=102 q=29.0 size=  100608kB time=00:12:23.57 bitrate=1108.4kbits/s dup=34 drop=0 speed=3.41x\n"
          ]
        },
        {
          "output_type": "stream",
          "name": "stderr",
          "text": [
            "\rProcessing video:  21%|██        | 746.06/3600 [03:39<14:00,  3.40s/s]"
          ]
        },
        {
          "output_type": "stream",
          "name": "stdout",
          "text": [
            "frame=22369 fps=102 q=29.0 size=  100864kB time=00:12:26.06 bitrate=1107.5kbits/s dup=34 drop=0 speed=3.41x\n"
          ]
        },
        {
          "output_type": "stream",
          "name": "stderr",
          "text": [
            "\rProcessing video:  21%|██        | 748.75/3600 [03:40<13:58,  3.40s/s]"
          ]
        },
        {
          "output_type": "stream",
          "name": "stdout",
          "text": [
            "frame=22450 fps=102 q=29.0 size=  101120kB time=00:12:28.75 bitrate=1106.3kbits/s dup=34 drop=0 speed=3.41x\n"
          ]
        },
        {
          "output_type": "stream",
          "name": "stderr",
          "text": [
            "\rProcessing video:  21%|██        | 751.42/3600 [03:40<13:56,  3.40s/s]"
          ]
        },
        {
          "output_type": "stream",
          "name": "stdout",
          "text": [
            "frame=22530 fps=102 q=29.0 size=  101120kB time=00:12:31.42 bitrate=1102.4kbits/s dup=34 drop=0 speed=3.42x\n"
          ]
        },
        {
          "output_type": "stream",
          "name": "stderr",
          "text": [
            "\rProcessing video:  21%|██        | 754.02/3600 [03:41<13:54,  3.41s/s]"
          ]
        },
        {
          "output_type": "stream",
          "name": "stdout",
          "text": [
            "frame=22608 fps=103 q=29.0 size=  101376kB time=00:12:34.02 bitrate=1101.4kbits/s dup=34 drop=0 speed=3.42x\n"
          ]
        },
        {
          "output_type": "stream",
          "name": "stderr",
          "text": [
            "\rProcessing video:  21%|██        | 756.45/3600 [03:41<13:53,  3.41s/s]"
          ]
        },
        {
          "output_type": "stream",
          "name": "stdout",
          "text": [
            "frame=22681 fps=103 q=29.0 size=  101632kB time=00:12:36.45 bitrate=1100.6kbits/s dup=34 drop=0 speed=3.43x\n"
          ]
        },
        {
          "output_type": "stream",
          "name": "stderr",
          "text": [
            "\rProcessing video:  21%|██        | 759.18/3600 [03:42<13:51,  3.42s/s]"
          ]
        },
        {
          "output_type": "stream",
          "name": "stdout",
          "text": [
            "frame=22763 fps=103 q=29.0 size=  101888kB time=00:12:39.18 bitrate=1099.4kbits/s dup=34 drop=0 speed=3.43x\n"
          ]
        },
        {
          "output_type": "stream",
          "name": "stderr",
          "text": [
            "\rProcessing video:  21%|██        | 761.53/3600 [03:42<13:50,  3.42s/s]"
          ]
        },
        {
          "output_type": "stream",
          "name": "stdout",
          "text": [
            "frame=22833 fps=103 q=29.0 size=  101888kB time=00:12:41.53 bitrate=1096.0kbits/s dup=34 drop=0 speed=3.43x\n"
          ]
        },
        {
          "output_type": "stream",
          "name": "stderr",
          "text": [
            "\rProcessing video:  21%|██        | 763.02/3600 [03:43<13:49,  3.42s/s]"
          ]
        },
        {
          "output_type": "stream",
          "name": "stdout",
          "text": [
            "frame=22878 fps=103 q=29.0 size=  102144kB time=00:12:43.02 bitrate=1096.6kbits/s dup=34 drop=0 speed=3.43x\n"
          ]
        },
        {
          "output_type": "stream",
          "name": "stderr",
          "text": [
            "\rProcessing video:  21%|██        | 764.5/3600 [03:43<13:49,  3.42s/s] "
          ]
        },
        {
          "output_type": "stream",
          "name": "stdout",
          "text": [
            "frame=22922 fps=103 q=29.0 size=  102400kB time=00:12:44.50 bitrate=1097.3kbits/s dup=34 drop=0 speed=3.43x\n"
          ]
        },
        {
          "output_type": "stream",
          "name": "stderr",
          "text": [
            "\rProcessing video:  21%|██▏       | 765.97/3600 [03:44<13:49,  3.42s/s]"
          ]
        },
        {
          "output_type": "stream",
          "name": "stdout",
          "text": [
            "frame=22966 fps=103 q=29.0 size=  102656kB time=00:12:45.97 bitrate=1097.9kbits/s dup=34 drop=0 speed=3.43x\n"
          ]
        },
        {
          "output_type": "stream",
          "name": "stderr",
          "text": [
            "\rProcessing video:  21%|██▏       | 767.72/3600 [03:44<13:49,  3.42s/s]"
          ]
        },
        {
          "output_type": "stream",
          "name": "stdout",
          "text": [
            "frame=23019 fps=103 q=29.0 size=  102912kB time=00:12:47.72 bitrate=1098.1kbits/s dup=34 drop=0 speed=3.43x\n"
          ]
        },
        {
          "output_type": "stream",
          "name": "stderr",
          "text": [
            "\rProcessing video:  21%|██▏       | 770.26/3600 [03:45<13:47,  3.42s/s]"
          ]
        },
        {
          "output_type": "stream",
          "name": "stdout",
          "text": [
            "frame=23095 fps=103 q=29.0 size=  103168kB time=00:12:50.26 bitrate=1097.2kbits/s dup=34 drop=0 speed=3.43x\n"
          ]
        },
        {
          "output_type": "stream",
          "name": "stderr",
          "text": [
            "\rProcessing video:  21%|██▏       | 772.37/3600 [03:45<13:46,  3.42s/s]"
          ]
        },
        {
          "output_type": "stream",
          "name": "stdout",
          "text": [
            "frame=23158 fps=103 q=29.0 size=  103168kB time=00:12:52.37 bitrate=1094.2kbits/s dup=34 drop=0 speed=3.44x\n"
          ]
        },
        {
          "output_type": "stream",
          "name": "stderr",
          "text": [
            "\rProcessing video:  22%|██▏       | 774.5/3600 [03:46<13:45,  3.42s/s] "
          ]
        },
        {
          "output_type": "stream",
          "name": "stdout",
          "text": [
            "frame=23222 fps=103 q=29.0 size=  103424kB time=00:12:54.50 bitrate=1093.9kbits/s dup=34 drop=0 speed=3.44x\n"
          ]
        },
        {
          "output_type": "stream",
          "name": "stderr",
          "text": [
            "\rProcessing video:  22%|██▏       | 776.46/3600 [03:46<13:44,  3.42s/s]"
          ]
        },
        {
          "output_type": "stream",
          "name": "stdout",
          "text": [
            "frame=23281 fps=103 q=29.0 size=  103680kB time=00:12:56.46 bitrate=1093.9kbits/s dup=34 drop=0 speed=3.44x\n"
          ]
        },
        {
          "output_type": "stream",
          "name": "stderr",
          "text": [
            "\rProcessing video:  22%|██▏       | 778.06/3600 [03:47<13:44,  3.42s/s]"
          ]
        },
        {
          "output_type": "stream",
          "name": "stdout",
          "text": [
            "frame=23329 fps=103 q=29.0 size=  103936kB time=00:12:58.06 bitrate=1094.3kbits/s dup=34 drop=0 speed=3.44x\n"
          ]
        },
        {
          "output_type": "stream",
          "name": "stderr",
          "text": [
            "\rProcessing video:  22%|██▏       | 779.09/3600 [03:47<13:44,  3.42s/s]"
          ]
        },
        {
          "output_type": "stream",
          "name": "stdout",
          "text": [
            "frame=23360 fps=103 q=29.0 size=  104192kB time=00:12:59.09 bitrate=1095.6kbits/s dup=34 drop=0 speed=3.43x\n"
          ]
        },
        {
          "output_type": "stream",
          "name": "stderr",
          "text": [
            "\rProcessing video:  22%|██▏       | 780.22/3600 [03:48<13:45,  3.42s/s]"
          ]
        },
        {
          "output_type": "stream",
          "name": "stdout",
          "text": [
            "frame=23394 fps=103 q=29.0 size=  104448kB time=00:13:00.22 bitrate=1096.7kbits/s dup=34 drop=0 speed=3.43x\n"
          ]
        },
        {
          "output_type": "stream",
          "name": "stderr",
          "text": [
            "\rProcessing video:  22%|██▏       | 781.63/3600 [03:48<13:45,  3.42s/s]"
          ]
        },
        {
          "output_type": "stream",
          "name": "stdout",
          "text": [
            "frame=23436 fps=103 q=29.0 size=  104704kB time=00:13:01.63 bitrate=1097.4kbits/s dup=34 drop=0 speed=3.43x\n"
          ]
        },
        {
          "output_type": "stream",
          "name": "stderr",
          "text": [
            "\rProcessing video:  22%|██▏       | 783.53/3600 [03:49<13:44,  3.42s/s]"
          ]
        },
        {
          "output_type": "stream",
          "name": "stdout",
          "text": [
            "frame=23493 fps=103 q=29.0 size=  104960kB time=00:13:03.53 bitrate=1097.4kbits/s dup=34 drop=0 speed=3.43x\n"
          ]
        },
        {
          "output_type": "stream",
          "name": "stderr",
          "text": [
            "\rProcessing video:  22%|██▏       | 786.13/3600 [03:49<13:42,  3.42s/s]"
          ]
        },
        {
          "output_type": "stream",
          "name": "stdout",
          "text": [
            "frame=23571 fps=103 q=29.0 size=  105216kB time=00:13:06.13 bitrate=1096.4kbits/s dup=34 drop=0 speed=3.43x\n"
          ]
        },
        {
          "output_type": "stream",
          "name": "stderr",
          "text": [
            "\rProcessing video:  22%|██▏       | 788.8/3600 [03:50<13:40,  3.42s/s] "
          ]
        },
        {
          "output_type": "stream",
          "name": "stdout",
          "text": [
            "frame=23651 fps=103 q=29.0 size=  105472kB time=00:13:08.80 bitrate=1095.4kbits/s dup=34 drop=0 speed=3.44x\n"
          ]
        },
        {
          "output_type": "stream",
          "name": "stderr",
          "text": [
            "\rProcessing video:  22%|██▏       | 791.63/3600 [03:50<13:38,  3.43s/s]"
          ]
        },
        {
          "output_type": "stream",
          "name": "stdout",
          "text": [
            "frame=23736 fps=103 q=29.0 size=  105472kB time=00:13:11.63 bitrate=1091.4kbits/s dup=34 drop=0 speed=3.44x\n"
          ]
        },
        {
          "output_type": "stream",
          "name": "stderr",
          "text": [
            "\rProcessing video:  22%|██▏       | 794.3/3600 [03:51<13:37,  3.43s/s] "
          ]
        },
        {
          "output_type": "stream",
          "name": "stdout",
          "text": [
            "frame=23816 fps=103 q=29.0 size=  105728kB time=00:13:14.30 bitrate=1090.4kbits/s dup=34 drop=0 speed=3.45x\n"
          ]
        },
        {
          "output_type": "stream",
          "name": "stderr",
          "text": [
            "\rProcessing video:  22%|██▏       | 796.92/3600 [03:51<13:35,  3.44s/s]"
          ]
        },
        {
          "output_type": "stream",
          "name": "stdout",
          "text": [
            "frame=23895 fps=103 q=29.0 size=  105984kB time=00:13:16.92 bitrate=1089.5kbits/s dup=34 drop=0 speed=3.45x\n"
          ]
        },
        {
          "output_type": "stream",
          "name": "stderr",
          "text": [
            "\rProcessing video:  22%|██▏       | 799.53/3600 [03:52<13:33,  3.44s/s]"
          ]
        },
        {
          "output_type": "stream",
          "name": "stdout",
          "text": [
            "frame=23973 fps=104 q=29.0 size=  105984kB time=00:13:19.53 bitrate=1085.9kbits/s dup=34 drop=0 speed=3.45x\n"
          ]
        },
        {
          "output_type": "stream",
          "name": "stderr",
          "text": [
            "\rProcessing video:  22%|██▏       | 801.77/3600 [03:52<13:32,  3.44s/s]"
          ]
        },
        {
          "output_type": "stream",
          "name": "stdout",
          "text": [
            "frame=24040 fps=104 q=29.0 size=  106240kB time=00:13:21.77 bitrate=1085.5kbits/s dup=34 drop=0 speed=3.46x\n"
          ]
        },
        {
          "output_type": "stream",
          "name": "stderr",
          "text": [
            "\rProcessing video:  22%|██▏       | 803.49/3600 [03:53<13:32,  3.44s/s]"
          ]
        },
        {
          "output_type": "stream",
          "name": "stdout",
          "text": [
            "frame=24092 fps=104 q=29.0 size=  106496kB time=00:13:23.49 bitrate=1085.8kbits/s dup=34 drop=0 speed=3.46x\n"
          ]
        },
        {
          "output_type": "stream",
          "name": "stderr",
          "text": [
            "\rProcessing video:  22%|██▏       | 805.09/3600 [03:53<13:31,  3.44s/s]"
          ]
        },
        {
          "output_type": "stream",
          "name": "stdout",
          "text": [
            "frame=24140 fps=104 q=29.0 size=  106752kB time=00:13:25.09 bitrate=1086.2kbits/s dup=34 drop=0 speed=3.46x\n"
          ]
        },
        {
          "output_type": "stream",
          "name": "stderr",
          "text": [
            "\rProcessing video:  22%|██▏       | 806.86/3600 [03:54<13:31,  3.44s/s]"
          ]
        },
        {
          "output_type": "stream",
          "name": "stdout",
          "text": [
            "frame=24193 fps=104 q=29.0 size=  107008kB time=00:13:26.86 bitrate=1086.4kbits/s dup=34 drop=0 speed=3.46x\n"
          ]
        },
        {
          "output_type": "stream",
          "name": "stderr",
          "text": [
            "\rProcessing video:  22%|██▏       | 809.47/3600 [03:54<13:29,  3.45s/s]"
          ]
        },
        {
          "output_type": "stream",
          "name": "stdout",
          "text": [
            "frame=24271 fps=104 q=29.0 size=  107008kB time=00:13:29.47 bitrate=1082.9kbits/s dup=34 drop=0 speed=3.46x\n"
          ]
        },
        {
          "output_type": "stream",
          "name": "stderr",
          "text": [
            "\rProcessing video:  23%|██▎       | 812.09/3600 [03:55<13:27,  3.45s/s]"
          ]
        },
        {
          "output_type": "stream",
          "name": "stdout",
          "text": [
            "frame=24350 fps=104 q=29.0 size=  107264kB time=00:13:32.09 bitrate=1082.0kbits/s dup=34 drop=0 speed=3.46x\n"
          ]
        },
        {
          "output_type": "stream",
          "name": "stderr",
          "text": [
            "\rProcessing video:  23%|██▎       | 814.72/3600 [03:55<13:26,  3.45s/s]"
          ]
        },
        {
          "output_type": "stream",
          "name": "stdout",
          "text": [
            "frame=24429 fps=104 q=29.0 size=  107520kB time=00:13:34.72 bitrate=1081.1kbits/s dup=34 drop=0 speed=3.47x\n"
          ]
        },
        {
          "output_type": "stream",
          "name": "stderr",
          "text": [
            "\rProcessing video:  23%|██▎       | 817.4/3600 [03:56<13:24,  3.46s/s] "
          ]
        },
        {
          "output_type": "stream",
          "name": "stdout",
          "text": [
            "frame=24509 fps=104 q=29.0 size=  107520kB time=00:13:37.40 bitrate=1077.6kbits/s dup=34 drop=0 speed=3.47x\n"
          ]
        },
        {
          "output_type": "stream",
          "name": "stderr",
          "text": [
            "\rProcessing video:  23%|██▎       | 820.03/3600 [03:56<13:23,  3.46s/s]"
          ]
        },
        {
          "output_type": "stream",
          "name": "stdout",
          "text": [
            "frame=24588 fps=104 q=29.0 size=  107776kB time=00:13:40.03 bitrate=1076.7kbits/s dup=34 drop=0 speed=3.48x\n"
          ]
        },
        {
          "output_type": "stream",
          "name": "stderr",
          "text": [
            "\rProcessing video:  23%|██▎       | 822.16/3600 [03:57<13:22,  3.46s/s]"
          ]
        },
        {
          "output_type": "stream",
          "name": "stdout",
          "text": [
            "frame=24652 fps=104 q=29.0 size=  107776kB time=00:13:42.16 bitrate=1073.9kbits/s dup=34 drop=0 speed=3.48x\n"
          ]
        },
        {
          "output_type": "stream",
          "name": "stderr",
          "text": [
            "\rProcessing video:  23%|██▎       | 823.36/3600 [03:57<13:22,  3.46s/s]"
          ]
        },
        {
          "output_type": "stream",
          "name": "stdout",
          "text": [
            "frame=24688 fps=104 q=29.0 size=  108032kB time=00:13:43.36 bitrate=1074.9kbits/s dup=34 drop=0 speed=3.47x\n"
          ]
        },
        {
          "output_type": "stream",
          "name": "stderr",
          "text": [
            "\rProcessing video:  23%|██▎       | 824.59/3600 [03:58<13:22,  3.46s/s]"
          ]
        },
        {
          "output_type": "stream",
          "name": "stdout",
          "text": [
            "frame=24725 fps=104 q=29.0 size=  108544kB time=00:13:44.59 bitrate=1078.3kbits/s dup=34 drop=0 speed=3.47x\n"
          ]
        },
        {
          "output_type": "stream",
          "name": "stderr",
          "text": [
            "\rProcessing video:  23%|██▎       | 825.79/3600 [03:58<13:22,  3.46s/s]"
          ]
        },
        {
          "output_type": "stream",
          "name": "stdout",
          "text": [
            "frame=24761 fps=104 q=29.0 size=  108800kB time=00:13:45.79 bitrate=1079.3kbits/s dup=34 drop=0 speed=3.47x\n"
          ]
        },
        {
          "output_type": "stream",
          "name": "stderr",
          "text": [
            "\rProcessing video:  23%|██▎       | 827.02/3600 [03:59<13:22,  3.45s/s]"
          ]
        },
        {
          "output_type": "stream",
          "name": "stdout",
          "text": [
            "frame=24798 fps=104 q=29.0 size=  109056kB time=00:13:47.02 bitrate=1080.2kbits/s dup=34 drop=0 speed=3.47x\n"
          ]
        },
        {
          "output_type": "stream",
          "name": "stderr",
          "text": [
            "\rProcessing video:  23%|██▎       | 828.2/3600 [03:59<13:22,  3.45s/s] "
          ]
        },
        {
          "output_type": "stream",
          "name": "stdout",
          "text": [
            "frame=24833 fps=104 q=29.0 size=  109312kB time=00:13:48.20 bitrate=1081.2kbits/s dup=34 drop=0 speed=3.46x\n"
          ]
        },
        {
          "output_type": "stream",
          "name": "stderr",
          "text": [
            "\rProcessing video:  23%|██▎       | 829.39/3600 [04:00<13:23,  3.45s/s]"
          ]
        },
        {
          "output_type": "stream",
          "name": "stdout",
          "text": [
            "frame=24869 fps=104 q=29.0 size=  109568kB time=00:13:49.39 bitrate=1082.2kbits/s dup=34 drop=0 speed=3.46x\n"
          ]
        },
        {
          "output_type": "stream",
          "name": "stderr",
          "text": [
            "\rProcessing video:  23%|██▎       | 830.59/3600 [04:00<13:23,  3.45s/s]"
          ]
        },
        {
          "output_type": "stream",
          "name": "stdout",
          "text": [
            "frame=24905 fps=104 q=29.0 size=  109824kB time=00:13:50.59 bitrate=1083.2kbits/s dup=34 drop=0 speed=3.46x\n"
          ]
        },
        {
          "output_type": "stream",
          "name": "stderr",
          "text": [
            "\rProcessing video:  23%|██▎       | 831.87/3600 [04:01<13:23,  3.45s/s]"
          ]
        },
        {
          "output_type": "stream",
          "name": "stdout",
          "text": [
            "frame=24943 fps=104 q=29.0 size=  110080kB time=00:13:51.87 bitrate=1084.0kbits/s dup=34 drop=0 speed=3.46x\n"
          ]
        },
        {
          "output_type": "stream",
          "name": "stderr",
          "text": [
            "\rProcessing video:  23%|██▎       | 833.25/3600 [04:01<13:23,  3.44s/s]"
          ]
        },
        {
          "output_type": "stream",
          "name": "stdout",
          "text": [
            "frame=24985 fps=104 q=29.0 size=  110336kB time=00:13:53.25 bitrate=1084.7kbits/s dup=34 drop=0 speed=3.46x\n"
          ]
        },
        {
          "output_type": "stream",
          "name": "stderr",
          "text": [
            "\rProcessing video:  23%|██▎       | 835.07/3600 [04:02<13:22,  3.44s/s]"
          ]
        },
        {
          "output_type": "stream",
          "name": "stdout",
          "text": [
            "frame=25039 fps=104 q=29.0 size=  110592kB time=00:13:55.07 bitrate=1084.9kbits/s dup=34 drop=0 speed=3.46x\n"
          ]
        },
        {
          "output_type": "stream",
          "name": "stderr",
          "text": [
            "\rProcessing video:  23%|██▎       | 836.73/3600 [04:02<13:22,  3.44s/s]"
          ]
        },
        {
          "output_type": "stream",
          "name": "stdout",
          "text": [
            "frame=25089 fps=104 q=29.0 size=  110848kB time=00:13:56.73 bitrate=1085.2kbits/s dup=34 drop=0 speed=3.46x\n"
          ]
        },
        {
          "output_type": "stream",
          "name": "stderr",
          "text": [
            "\rProcessing video:  23%|██▎       | 838.35/3600 [04:03<13:21,  3.44s/s]"
          ]
        },
        {
          "output_type": "stream",
          "name": "stdout",
          "text": [
            "frame=25138 fps=104 q=29.0 size=  111104kB time=00:13:58.35 bitrate=1085.7kbits/s dup=34 drop=0 speed=3.46x\n"
          ]
        },
        {
          "output_type": "stream",
          "name": "stderr",
          "text": [
            "\rProcessing video:  23%|██▎       | 839.95/3600 [04:03<13:21,  3.44s/s]"
          ]
        },
        {
          "output_type": "stream",
          "name": "stdout",
          "text": [
            "frame=25186 fps=104 q=29.0 size=  111360kB time=00:13:59.95 bitrate=1086.1kbits/s dup=34 drop=0 speed=3.46x\n"
          ]
        },
        {
          "output_type": "stream",
          "name": "stderr",
          "text": [
            "\rProcessing video:  23%|██▎       | 841.6/3600 [04:04<13:21,  3.44s/s] "
          ]
        },
        {
          "output_type": "stream",
          "name": "stdout",
          "text": [
            "frame=25235 fps=104 q=29.0 size=  111360kB time=00:14:01.60 bitrate=1084.0kbits/s dup=34 drop=0 speed=3.46x\n"
          ]
        },
        {
          "output_type": "stream",
          "name": "stderr",
          "text": [
            "\rProcessing video:  23%|██▎       | 843.3/3600 [04:04<13:20,  3.44s/s]"
          ]
        },
        {
          "output_type": "stream",
          "name": "stdout",
          "text": [
            "frame=25286 fps=104 q=29.0 size=  111616kB time=00:14:03.30 bitrate=1084.3kbits/s dup=34 drop=0 speed=3.46x\n"
          ]
        },
        {
          "output_type": "stream",
          "name": "stderr",
          "text": [
            "\rProcessing video:  23%|██▎       | 845.29/3600 [04:05<13:19,  3.44s/s]"
          ]
        },
        {
          "output_type": "stream",
          "name": "stdout",
          "text": [
            "frame=25346 fps=104 q=29.0 size=  111872kB time=00:14:05.29 bitrate=1084.2kbits/s dup=34 drop=0 speed=3.46x\n"
          ]
        },
        {
          "output_type": "stream",
          "name": "stderr",
          "text": [
            "\rProcessing video:  24%|██▎       | 847.36/3600 [04:05<13:18,  3.45s/s]"
          ]
        },
        {
          "output_type": "stream",
          "name": "stdout",
          "text": [
            "frame=25408 fps=104 q=29.0 size=  112128kB time=00:14:07.36 bitrate=1084.0kbits/s dup=34 drop=0 speed=3.46x\n"
          ]
        },
        {
          "output_type": "stream",
          "name": "stderr",
          "text": [
            "\rProcessing video:  24%|██▎       | 849.42/3600 [04:06<13:17,  3.45s/s]"
          ]
        },
        {
          "output_type": "stream",
          "name": "stdout",
          "text": [
            "frame=25470 fps=104 q=29.0 size=  112384kB time=00:14:09.42 bitrate=1083.8kbits/s dup=34 drop=0 speed=3.46x\n"
          ]
        },
        {
          "output_type": "stream",
          "name": "stderr",
          "text": [
            "\rProcessing video:  24%|██▎       | 851.2/3600 [04:06<13:17,  3.45s/s] "
          ]
        },
        {
          "output_type": "stream",
          "name": "stdout",
          "text": [
            "frame=25523 fps=104 q=29.0 size=  112384kB time=00:14:11.20 bitrate=1081.6kbits/s dup=34 drop=0 speed=3.46x\n"
          ]
        },
        {
          "output_type": "stream",
          "name": "stderr",
          "text": [
            "\rProcessing video:  24%|██▎       | 852.67/3600 [04:07<13:17,  3.45s/s]"
          ]
        },
        {
          "output_type": "stream",
          "name": "stdout",
          "text": [
            "frame=25567 fps=104 q=29.0 size=  112640kB time=00:14:12.67 bitrate=1082.2kbits/s dup=34 drop=0 speed=3.46x\n"
          ]
        },
        {
          "output_type": "stream",
          "name": "stderr",
          "text": [
            "\rProcessing video:  24%|██▎       | 853.88/3600 [04:07<13:17,  3.44s/s]"
          ]
        },
        {
          "output_type": "stream",
          "name": "stdout",
          "text": [
            "frame=25604 fps=104 q=29.0 size=  112896kB time=00:14:13.88 bitrate=1083.1kbits/s dup=34 drop=0 speed=3.46x\n"
          ]
        },
        {
          "output_type": "stream",
          "name": "stderr",
          "text": [
            "\rProcessing video:  24%|██▍       | 855.12/3600 [04:08<13:17,  3.44s/s]"
          ]
        },
        {
          "output_type": "stream",
          "name": "stdout",
          "text": [
            "frame=25641 fps=104 q=29.0 size=  113152kB time=00:14:15.12 bitrate=1084.0kbits/s dup=34 drop=0 speed=3.45x\n"
          ]
        },
        {
          "output_type": "stream",
          "name": "stderr",
          "text": [
            "\rProcessing video:  24%|██▍       | 856.29/3600 [04:09<13:17,  3.44s/s]"
          ]
        },
        {
          "output_type": "stream",
          "name": "stdout",
          "text": [
            "frame=25676 fps=103 q=29.0 size=  113408kB time=00:14:16.29 bitrate=1084.9kbits/s dup=34 drop=0 speed=3.45x\n"
          ]
        },
        {
          "output_type": "stream",
          "name": "stderr",
          "text": [
            "\rProcessing video:  24%|██▍       | 857.77/3600 [04:09<13:17,  3.44s/s]"
          ]
        },
        {
          "output_type": "stream",
          "name": "stdout",
          "text": [
            "frame=25720 fps=103 q=29.0 size=  113920kB time=00:14:17.77 bitrate=1088.0kbits/s dup=34 drop=0 speed=3.45x\n"
          ]
        },
        {
          "output_type": "stream",
          "name": "stderr",
          "text": [
            "\rProcessing video:  24%|██▍       | 860.03/3600 [04:10<13:16,  3.44s/s]"
          ]
        },
        {
          "output_type": "stream",
          "name": "stdout",
          "text": [
            "frame=25788 fps=104 q=29.0 size=  114176kB time=00:14:20.03 bitrate=1087.6kbits/s dup=34 drop=0 speed=3.45x\n"
          ]
        },
        {
          "output_type": "stream",
          "name": "stderr",
          "text": [
            "\rProcessing video:  24%|██▍       | 862.46/3600 [04:10<13:15,  3.44s/s]"
          ]
        },
        {
          "output_type": "stream",
          "name": "stdout",
          "text": [
            "frame=25861 fps=104 q=29.0 size=  114176kB time=00:14:22.46 bitrate=1084.5kbits/s dup=34 drop=0 speed=3.45x\n"
          ]
        },
        {
          "output_type": "stream",
          "name": "stderr",
          "text": [
            "\rProcessing video:  24%|██▍       | 864.4/3600 [04:11<13:14,  3.44s/s] "
          ]
        },
        {
          "output_type": "stream",
          "name": "stdout",
          "text": [
            "frame=25919 fps=104 q=29.0 size=  114432kB time=00:14:24.40 bitrate=1084.5kbits/s dup=34 drop=0 speed=3.46x\n"
          ]
        },
        {
          "output_type": "stream",
          "name": "stderr",
          "text": [
            "\rProcessing video:  24%|██▍       | 865.49/3600 [04:11<13:14,  3.44s/s]"
          ]
        },
        {
          "output_type": "stream",
          "name": "stdout",
          "text": [
            "frame=25952 fps=104 q=29.0 size=  114688kB time=00:14:25.49 bitrate=1085.5kbits/s dup=34 drop=0 speed=3.45x\n"
          ]
        },
        {
          "output_type": "stream",
          "name": "stderr",
          "text": [
            "\rProcessing video:  24%|██▍       | 866.79/3600 [04:12<13:14,  3.44s/s]"
          ]
        },
        {
          "output_type": "stream",
          "name": "stdout",
          "text": [
            "frame=25991 fps=103 q=29.0 size=  114944kB time=00:14:26.79 bitrate=1086.3kbits/s dup=34 drop=0 speed=3.45x\n"
          ]
        },
        {
          "output_type": "stream",
          "name": "stderr",
          "text": [
            "\rProcessing video:  24%|██▍       | 868.52/3600 [04:12<13:14,  3.44s/s]"
          ]
        },
        {
          "output_type": "stream",
          "name": "stdout",
          "text": [
            "frame=26043 fps=103 q=29.0 size=  115456kB time=00:14:28.52 bitrate=1089.0kbits/s dup=34 drop=0 speed=3.45x\n"
          ]
        },
        {
          "output_type": "stream",
          "name": "stderr",
          "text": [
            "\rProcessing video:  24%|██▍       | 871.23/3600 [04:13<13:12,  3.44s/s]"
          ]
        },
        {
          "output_type": "stream",
          "name": "stdout",
          "text": [
            "frame=26124 fps=104 q=29.0 size=  115712kB time=00:14:31.23 bitrate=1088.0kbits/s dup=34 drop=0 speed=3.46x\n"
          ]
        },
        {
          "output_type": "stream",
          "name": "stderr",
          "text": [
            "\rProcessing video:  24%|██▍       | 874.09/3600 [04:13<13:10,  3.45s/s]"
          ]
        },
        {
          "output_type": "stream",
          "name": "stdout",
          "text": [
            "frame=26210 fps=104 q=29.0 size=  115712kB time=00:14:34.09 bitrate=1084.5kbits/s dup=34 drop=0 speed=3.46x\n"
          ]
        },
        {
          "output_type": "stream",
          "name": "stderr",
          "text": [
            "\rProcessing video:  24%|██▍       | 877.03/3600 [04:14<13:08,  3.45s/s]"
          ]
        },
        {
          "output_type": "stream",
          "name": "stdout",
          "text": [
            "frame=26298 fps=104 q=29.0 size=  115968kB time=00:14:37.03 bitrate=1083.2kbits/s dup=34 drop=0 speed=3.46x\n"
          ]
        },
        {
          "output_type": "stream",
          "name": "stderr",
          "text": [
            "\rProcessing video:  24%|██▍       | 880.1/3600 [04:14<13:06,  3.46s/s] "
          ]
        },
        {
          "output_type": "stream",
          "name": "stdout",
          "text": [
            "frame=26390 fps=104 q=29.0 size=  116224kB time=00:14:40.10 bitrate=1081.8kbits/s dup=34 drop=0 speed=3.47x\n"
          ]
        },
        {
          "output_type": "stream",
          "name": "stderr",
          "text": [
            "\rProcessing video:  25%|██▍       | 883.13/3600 [04:15<13:04,  3.46s/s]"
          ]
        },
        {
          "output_type": "stream",
          "name": "stdout",
          "text": [
            "frame=26481 fps=104 q=29.0 size=  116224kB time=00:14:43.13 bitrate=1078.1kbits/s dup=34 drop=0 speed=3.47x\n"
          ]
        },
        {
          "output_type": "stream",
          "name": "stderr",
          "text": [
            "\rProcessing video:  25%|██▍       | 885.73/3600 [04:15<13:03,  3.47s/s]"
          ]
        },
        {
          "output_type": "stream",
          "name": "stdout",
          "text": [
            "frame=26559 fps=104 q=29.0 size=  116480kB time=00:14:45.73 bitrate=1077.3kbits/s dup=34 drop=0 speed=3.48x\n"
          ]
        },
        {
          "output_type": "stream",
          "name": "stderr",
          "text": [
            "\rProcessing video:  25%|██▍       | 888.36/3600 [04:16<13:01,  3.47s/s]"
          ]
        },
        {
          "output_type": "stream",
          "name": "stdout",
          "text": [
            "frame=26638 fps=104 q=29.0 size=  116736kB time=00:14:48.36 bitrate=1076.5kbits/s dup=34 drop=0 speed=3.48x\n"
          ]
        },
        {
          "output_type": "stream",
          "name": "stderr",
          "text": [
            "\rProcessing video:  25%|██▍       | 890.9/3600 [04:16<13:00,  3.47s/s] "
          ]
        },
        {
          "output_type": "stream",
          "name": "stdout",
          "text": [
            "frame=26714 fps=104 q=29.0 size=  116736kB time=00:14:50.90 bitrate=1073.4kbits/s dup=34 drop=0 speed=3.48x\n"
          ]
        },
        {
          "output_type": "stream",
          "name": "stderr",
          "text": [
            "\rProcessing video:  25%|██▍       | 892.9/3600 [04:17<12:59,  3.47s/s]"
          ]
        },
        {
          "output_type": "stream",
          "name": "stdout",
          "text": [
            "frame=26774 fps=105 q=29.0 size=  116992kB time=00:14:52.90 bitrate=1073.3kbits/s dup=34 drop=0 speed=3.49x\n"
          ]
        },
        {
          "output_type": "stream",
          "name": "stderr",
          "text": [
            "\rProcessing video:  25%|██▍       | 894.27/3600 [04:17<12:59,  3.47s/s]"
          ]
        },
        {
          "output_type": "stream",
          "name": "stdout",
          "text": [
            "frame=26815 fps=104 q=29.0 size=  117248kB time=00:14:54.27 bitrate=1074.1kbits/s dup=34 drop=0 speed=3.48x\n"
          ]
        },
        {
          "output_type": "stream",
          "name": "stderr",
          "text": [
            "\rProcessing video:  25%|██▍       | 895.72/3600 [04:18<12:59,  3.47s/s]"
          ]
        },
        {
          "output_type": "stream",
          "name": "stdout",
          "text": [
            "frame=26859 fps=104 q=29.0 size=  117504kB time=00:14:55.72 bitrate=1074.7kbits/s dup=34 drop=0 speed=3.48x\n"
          ]
        },
        {
          "output_type": "stream",
          "name": "stderr",
          "text": [
            "\rProcessing video:  25%|██▍       | 896.93/3600 [04:18<12:59,  3.47s/s]"
          ]
        },
        {
          "output_type": "stream",
          "name": "stdout",
          "text": [
            "frame=26895 fps=104 q=29.0 size=  117760kB time=00:14:56.93 bitrate=1075.5kbits/s dup=34 drop=0 speed=3.48x\n"
          ]
        },
        {
          "output_type": "stream",
          "name": "stderr",
          "text": [
            "\rProcessing video:  25%|██▍       | 898.15/3600 [04:19<12:59,  3.47s/s]"
          ]
        },
        {
          "output_type": "stream",
          "name": "stdout",
          "text": [
            "frame=26932 fps=104 q=29.0 size=  118272kB time=00:14:58.15 bitrate=1078.8kbits/s dup=34 drop=0 speed=3.48x\n"
          ]
        },
        {
          "output_type": "stream",
          "name": "stderr",
          "text": [
            "\rProcessing video:  25%|██▍       | 899.45/3600 [04:19<12:59,  3.46s/s]"
          ]
        },
        {
          "output_type": "stream",
          "name": "stdout",
          "text": [
            "frame=26971 fps=104 q=29.0 size=  118528kB time=00:14:59.45 bitrate=1079.5kbits/s dup=34 drop=0 speed=3.48x\n"
          ]
        },
        {
          "output_type": "stream",
          "name": "stderr",
          "text": [
            "\rProcessing video:  25%|██▌       | 900.45/3600 [04:20<12:59,  3.46s/s]"
          ]
        },
        {
          "output_type": "stream",
          "name": "stdout",
          "text": [
            "frame=27001 fps=104 q=29.0 size=  118784kB time=00:15:00.45 bitrate=1080.6kbits/s dup=34 drop=0 speed=3.47x\n"
          ]
        },
        {
          "output_type": "stream",
          "name": "stderr",
          "text": [
            "\rProcessing video:  25%|██▌       | 901.88/3600 [04:20<12:59,  3.46s/s]"
          ]
        },
        {
          "output_type": "stream",
          "name": "stdout",
          "text": [
            "frame=27044 fps=104 q=29.0 size=  119296kB time=00:15:01.88 bitrate=1083.6kbits/s dup=34 drop=0 speed=3.47x\n"
          ]
        },
        {
          "output_type": "stream",
          "name": "stderr",
          "text": [
            "\rProcessing video:  25%|██▌       | 903.18/3600 [04:21<12:59,  3.46s/s]"
          ]
        },
        {
          "output_type": "stream",
          "name": "stdout",
          "text": [
            "frame=27083 fps=104 q=29.0 size=  119552kB time=00:15:03.18 bitrate=1084.3kbits/s dup=34 drop=0 speed=3.47x\n"
          ]
        },
        {
          "output_type": "stream",
          "name": "stderr",
          "text": [
            "\rProcessing video:  25%|██▌       | 904.49/3600 [04:21<12:59,  3.46s/s]"
          ]
        },
        {
          "output_type": "stream",
          "name": "stdout",
          "text": [
            "frame=27122 fps=104 q=29.0 size=  119552kB time=00:15:04.49 bitrate=1082.8kbits/s dup=34 drop=0 speed=3.47x\n"
          ]
        },
        {
          "output_type": "stream",
          "name": "stderr",
          "text": [
            "\rProcessing video:  25%|██▌       | 905.83/3600 [04:22<12:59,  3.46s/s]"
          ]
        },
        {
          "output_type": "stream",
          "name": "stdout",
          "text": [
            "frame=27162 fps=104 q=29.0 size=  120064kB time=00:15:05.83 bitrate=1085.8kbits/s dup=34 drop=0 speed=3.47x\n"
          ]
        },
        {
          "output_type": "stream",
          "name": "stderr",
          "text": [
            "\rProcessing video:  25%|██▌       | 907.49/3600 [04:22<12:59,  3.46s/s]"
          ]
        },
        {
          "output_type": "stream",
          "name": "stdout",
          "text": [
            "frame=27212 fps=104 q=29.0 size=  120064kB time=00:15:07.49 bitrate=1083.8kbits/s dup=34 drop=0 speed=3.47x\n"
          ]
        },
        {
          "output_type": "stream",
          "name": "stderr",
          "text": [
            "\rProcessing video:  25%|██▌       | 909.09/3600 [04:23<12:58,  3.46s/s]"
          ]
        },
        {
          "output_type": "stream",
          "name": "stdout",
          "text": [
            "frame=27260 fps=104 q=29.0 size=  120320kB time=00:15:09.09 bitrate=1084.2kbits/s dup=34 drop=0 speed=3.47x\n"
          ]
        },
        {
          "output_type": "stream",
          "name": "stderr",
          "text": [
            "\rProcessing video:  25%|██▌       | 910.52/3600 [04:23<12:58,  3.45s/s]"
          ]
        },
        {
          "output_type": "stream",
          "name": "stdout",
          "text": [
            "frame=27303 fps=104 q=29.0 size=  120576kB time=00:15:10.52 bitrate=1084.8kbits/s dup=34 drop=0 speed=3.47x\n"
          ]
        },
        {
          "output_type": "stream",
          "name": "stderr",
          "text": [
            "\rProcessing video:  25%|██▌       | 912.25/3600 [04:24<12:58,  3.45s/s]"
          ]
        },
        {
          "output_type": "stream",
          "name": "stdout",
          "text": [
            "frame=27355 fps=104 q=29.0 size=  120832kB time=00:15:12.25 bitrate=1085.1kbits/s dup=34 drop=0 speed=3.47x\n"
          ]
        },
        {
          "output_type": "stream",
          "name": "stderr",
          "text": [
            "\rProcessing video:  25%|██▌       | 914.38/3600 [04:24<12:57,  3.46s/s]"
          ]
        },
        {
          "output_type": "stream",
          "name": "stdout",
          "text": [
            "frame=27419 fps=104 q=29.0 size=  121088kB time=00:15:14.38 bitrate=1084.8kbits/s dup=34 drop=0 speed=3.47x\n"
          ]
        },
        {
          "output_type": "stream",
          "name": "stderr",
          "text": [
            "\rProcessing video:  25%|██▌       | 916.8/3600 [04:25<12:55,  3.46s/s] "
          ]
        },
        {
          "output_type": "stream",
          "name": "stdout",
          "text": [
            "frame=27491 fps=104 q=29.0 size=  121344kB time=00:15:16.80 bitrate=1084.3kbits/s dup=34 drop=0 speed=3.47x\n"
          ]
        },
        {
          "output_type": "stream",
          "name": "stderr",
          "text": [
            "\rProcessing video:  26%|██▌       | 918.76/3600 [04:25<12:55,  3.46s/s]"
          ]
        },
        {
          "output_type": "stream",
          "name": "stdout",
          "text": [
            "frame=27550 fps=104 q=29.0 size=  121600kB time=00:15:18.76 bitrate=1084.2kbits/s dup=34 drop=0 speed=3.47x\n"
          ]
        },
        {
          "output_type": "stream",
          "name": "stderr",
          "text": [
            "\rProcessing video:  26%|██▌       | 920.0/3600 [04:26<12:55,  3.46s/s] "
          ]
        },
        {
          "output_type": "stream",
          "name": "stdout",
          "text": [
            "frame=27587 fps=104 q=29.0 size=  121856kB time=00:15:20.00 bitrate=1085.0kbits/s dup=34 drop=0 speed=3.47x\n"
          ]
        },
        {
          "output_type": "stream",
          "name": "stderr",
          "text": [
            "\rProcessing video:  26%|██▌       | 921.08/3600 [04:26<12:55,  3.45s/s]"
          ]
        },
        {
          "output_type": "stream",
          "name": "stdout",
          "text": [
            "frame=27620 fps=104 q=29.0 size=  122112kB time=00:15:21.08 bitrate=1086.0kbits/s dup=34 drop=0 speed=3.46x\n"
          ]
        },
        {
          "output_type": "stream",
          "name": "stderr",
          "text": [
            "\rProcessing video:  26%|██▌       | 922.26/3600 [04:27<12:55,  3.45s/s]"
          ]
        },
        {
          "output_type": "stream",
          "name": "stdout",
          "text": [
            "frame=27655 fps=104 q=29.0 size=  122368kB time=00:15:22.26 bitrate=1086.9kbits/s dup=34 drop=0 speed=3.46x\n"
          ]
        },
        {
          "output_type": "stream",
          "name": "stderr",
          "text": [
            "\rProcessing video:  26%|██▌       | 923.37/3600 [04:27<12:56,  3.45s/s]"
          ]
        },
        {
          "output_type": "stream",
          "name": "stdout",
          "text": [
            "frame=27688 fps=104 q=29.0 size=  122624kB time=00:15:23.37 bitrate=1087.9kbits/s dup=34 drop=0 speed=3.46x\n"
          ]
        },
        {
          "output_type": "stream",
          "name": "stderr",
          "text": [
            "\rProcessing video:  26%|██▌       | 924.69/3600 [04:28<12:56,  3.45s/s]"
          ]
        },
        {
          "output_type": "stream",
          "name": "stdout",
          "text": [
            "frame=27728 fps=104 q=29.0 size=  122880kB time=00:15:24.69 bitrate=1088.6kbits/s dup=34 drop=0 speed=3.46x\n"
          ]
        },
        {
          "output_type": "stream",
          "name": "stderr",
          "text": [
            "\rProcessing video:  26%|██▌       | 927.16/3600 [04:28<12:54,  3.45s/s]"
          ]
        },
        {
          "output_type": "stream",
          "name": "stdout",
          "text": [
            "frame=27802 fps=104 q=29.0 size=  123136kB time=00:15:27.16 bitrate=1088.0kbits/s dup=34 drop=0 speed=3.46x\n"
          ]
        },
        {
          "output_type": "stream",
          "name": "stderr",
          "text": [
            "\rProcessing video:  26%|██▌       | 929.72/3600 [04:29<12:53,  3.45s/s]"
          ]
        },
        {
          "output_type": "stream",
          "name": "stdout",
          "text": [
            "frame=27879 fps=104 q=29.0 size=  123136kB time=00:15:29.72 bitrate=1085.0kbits/s dup=34 drop=0 speed=3.46x\n"
          ]
        },
        {
          "output_type": "stream",
          "name": "stderr",
          "text": [
            "\rProcessing video:  26%|██▌       | 932.43/3600 [04:29<12:51,  3.46s/s]"
          ]
        },
        {
          "output_type": "stream",
          "name": "stdout",
          "text": [
            "frame=27960 fps=104 q=29.0 size=  123392kB time=00:15:32.43 bitrate=1084.1kbits/s dup=34 drop=0 speed=3.47x\n"
          ]
        },
        {
          "output_type": "stream",
          "name": "stderr",
          "text": [
            "\rProcessing video:  26%|██▌       | 934.95/3600 [04:30<12:50,  3.46s/s]"
          ]
        },
        {
          "output_type": "stream",
          "name": "stdout",
          "text": [
            "frame=28036 fps=104 q=29.0 size=  123648kB time=00:15:34.95 bitrate=1083.4kbits/s dup=34 drop=0 speed=3.47x\n"
          ]
        },
        {
          "output_type": "stream",
          "name": "stderr",
          "text": [
            "\rProcessing video:  26%|██▌       | 936.66/3600 [04:30<12:50,  3.46s/s]"
          ]
        },
        {
          "output_type": "stream",
          "name": "stdout",
          "text": [
            "frame=28087 fps=104 q=29.0 size=  123904kB time=00:15:36.66 bitrate=1083.7kbits/s dup=34 drop=0 speed=3.47x\n"
          ]
        },
        {
          "output_type": "stream",
          "name": "stderr",
          "text": [
            "\rProcessing video:  26%|██▌       | 938.09/3600 [04:31<12:49,  3.46s/s]"
          ]
        },
        {
          "output_type": "stream",
          "name": "stdout",
          "text": [
            "frame=28130 fps=104 q=29.0 size=  123904kB time=00:15:38.09 bitrate=1082.0kbits/s dup=34 drop=0 speed=3.47x\n"
          ]
        },
        {
          "output_type": "stream",
          "name": "stderr",
          "text": [
            "\rProcessing video:  26%|██▌       | 939.43/3600 [04:31<12:49,  3.46s/s]"
          ]
        },
        {
          "output_type": "stream",
          "name": "stdout",
          "text": [
            "frame=28170 fps=104 q=29.0 size=  124160kB time=00:15:39.43 bitrate=1082.7kbits/s dup=34 drop=0 speed=3.47x\n"
          ]
        },
        {
          "output_type": "stream",
          "name": "stderr",
          "text": [
            "\rProcessing video:  26%|██▌       | 940.69/3600 [04:32<12:49,  3.45s/s]"
          ]
        },
        {
          "output_type": "stream",
          "name": "stdout",
          "text": [
            "frame=28208 fps=104 q=29.0 size=  124416kB time=00:15:40.69 bitrate=1083.5kbits/s dup=34 drop=0 speed=3.47x\n"
          ]
        },
        {
          "output_type": "stream",
          "name": "stderr",
          "text": [
            "\rProcessing video:  26%|██▌       | 942.03/3600 [04:32<12:49,  3.45s/s]"
          ]
        },
        {
          "output_type": "stream",
          "name": "stdout",
          "text": [
            "frame=28248 fps=104 q=29.0 size=  124672kB time=00:15:42.03 bitrate=1084.2kbits/s dup=34 drop=0 speed=3.46x\n"
          ]
        },
        {
          "output_type": "stream",
          "name": "stderr",
          "text": [
            "\rProcessing video:  26%|██▌       | 943.23/3600 [04:33<12:49,  3.45s/s]"
          ]
        },
        {
          "output_type": "stream",
          "name": "stdout",
          "text": [
            "frame=28284 fps=104 q=29.0 size=  125184kB time=00:15:43.23 bitrate=1087.2kbits/s dup=34 drop=0 speed=3.46x\n"
          ]
        },
        {
          "output_type": "stream",
          "name": "stderr",
          "text": [
            "\rProcessing video:  26%|██▌       | 944.46/3600 [04:33<12:49,  3.45s/s]"
          ]
        },
        {
          "output_type": "stream",
          "name": "stdout",
          "text": [
            "frame=28321 fps=104 q=29.0 size=  125440kB time=00:15:44.46 bitrate=1088.0kbits/s dup=34 drop=0 speed=3.46x\n"
          ]
        },
        {
          "output_type": "stream",
          "name": "stderr",
          "text": [
            "\rProcessing video:  26%|██▋       | 945.85/3600 [04:34<12:49,  3.45s/s]"
          ]
        },
        {
          "output_type": "stream",
          "name": "stdout",
          "text": [
            "frame=28363 fps=104 q=29.0 size=  125696kB time=00:15:45.85 bitrate=1088.6kbits/s dup=34 drop=0 speed=3.46x\n"
          ]
        },
        {
          "output_type": "stream",
          "name": "stderr",
          "text": [
            "\rProcessing video:  26%|██▋       | 948.09/3600 [04:34<12:48,  3.45s/s]"
          ]
        },
        {
          "output_type": "stream",
          "name": "stdout",
          "text": [
            "frame=28430 fps=104 q=29.0 size=  125952kB time=00:15:48.09 bitrate=1088.3kbits/s dup=34 drop=0 speed=3.46x\n"
          ]
        },
        {
          "output_type": "stream",
          "name": "stderr",
          "text": [
            "\rProcessing video:  26%|██▋       | 950.74/3600 [04:35<12:47,  3.45s/s]"
          ]
        },
        {
          "output_type": "stream",
          "name": "stdout",
          "text": [
            "frame=28509 fps=104 q=29.0 size=  126208kB time=00:15:50.74 bitrate=1087.5kbits/s dup=34 drop=0 speed=3.46x\n"
          ]
        },
        {
          "output_type": "stream",
          "name": "stderr",
          "text": [
            "\rProcessing video:  26%|██▋       | 953.42/3600 [04:35<12:45,  3.46s/s]"
          ]
        },
        {
          "output_type": "stream",
          "name": "stdout",
          "text": [
            "frame=28590 fps=104 q=29.0 size=  126208kB time=00:15:53.42 bitrate=1084.4kbits/s dup=34 drop=0 speed=3.47x\n"
          ]
        },
        {
          "output_type": "stream",
          "name": "stderr",
          "text": [
            "\rProcessing video:  27%|██▋       | 956.13/3600 [04:36<12:44,  3.46s/s]"
          ]
        },
        {
          "output_type": "stream",
          "name": "stdout",
          "text": [
            "frame=28671 fps=104 q=29.0 size=  126464kB time=00:15:56.13 bitrate=1083.5kbits/s dup=34 drop=0 speed=3.47x\n"
          ]
        },
        {
          "output_type": "stream",
          "name": "stderr",
          "text": [
            "\rProcessing video:  27%|██▋       | 958.72/3600 [04:36<12:42,  3.46s/s]"
          ]
        },
        {
          "output_type": "stream",
          "name": "stdout",
          "text": [
            "frame=28749 fps=104 q=29.0 size=  126720kB time=00:15:58.72 bitrate=1082.8kbits/s dup=34 drop=0 speed=3.47x\n"
          ]
        },
        {
          "output_type": "stream",
          "name": "stderr",
          "text": [
            "\rProcessing video:  27%|██▋       | 961.25/3600 [04:37<12:41,  3.47s/s]"
          ]
        },
        {
          "output_type": "stream",
          "name": "stdout",
          "text": [
            "frame=28825 fps=104 q=29.0 size=  126720kB time=00:16:01.25 bitrate=1079.9kbits/s dup=34 drop=0 speed=3.48x\n"
          ]
        },
        {
          "output_type": "stream",
          "name": "stderr",
          "text": [
            "\rProcessing video:  27%|██▋       | 963.73/3600 [04:37<12:40,  3.47s/s]"
          ]
        },
        {
          "output_type": "stream",
          "name": "stdout",
          "text": [
            "frame=28899 fps=104 q=29.0 size=  126976kB time=00:16:03.73 bitrate=1079.3kbits/s dup=34 drop=0 speed=3.48x\n"
          ]
        },
        {
          "output_type": "stream",
          "name": "stderr",
          "text": [
            "\rProcessing video:  27%|██▋       | 966.4/3600 [04:38<12:38,  3.47s/s] "
          ]
        },
        {
          "output_type": "stream",
          "name": "stdout",
          "text": [
            "frame=28979 fps=104 q=29.0 size=  127232kB time=00:16:06.40 bitrate=1078.5kbits/s dup=34 drop=0 speed=3.48x\n"
          ]
        },
        {
          "output_type": "stream",
          "name": "stderr",
          "text": [
            "\rProcessing video:  27%|██▋       | 969.02/3600 [04:38<12:37,  3.48s/s]"
          ]
        },
        {
          "output_type": "stream",
          "name": "stdout",
          "text": [
            "frame=29058 fps=105 q=29.0 size=  127232kB time=00:16:09.02 bitrate=1075.6kbits/s dup=34 drop=0 speed=3.49x\n"
          ]
        },
        {
          "output_type": "stream",
          "name": "stderr",
          "text": [
            "\rProcessing video:  27%|██▋       | 971.6/3600 [04:39<12:35,  3.48s/s] "
          ]
        },
        {
          "output_type": "stream",
          "name": "stdout",
          "text": [
            "frame=29135 fps=105 q=29.0 size=  127488kB time=00:16:11.60 bitrate=1074.9kbits/s dup=34 drop=0 speed=3.49x\n"
          ]
        },
        {
          "output_type": "stream",
          "name": "stderr",
          "text": [
            "\rProcessing video:  27%|██▋       | 974.03/3600 [04:39<12:34,  3.48s/s]"
          ]
        },
        {
          "output_type": "stream",
          "name": "stdout",
          "text": [
            "frame=29208 fps=105 q=29.0 size=  127488kB time=00:16:14.03 bitrate=1072.2kbits/s dup=34 drop=0 speed=3.49x\n"
          ]
        },
        {
          "output_type": "stream",
          "name": "stderr",
          "text": [
            "\rProcessing video:  27%|██▋       | 975.48/3600 [04:40<12:34,  3.48s/s]"
          ]
        },
        {
          "output_type": "stream",
          "name": "stdout",
          "text": [
            "frame=29252 fps=105 q=29.0 size=  127744kB time=00:16:15.48 bitrate=1072.8kbits/s dup=34 drop=0 speed=3.49x\n"
          ]
        },
        {
          "output_type": "stream",
          "name": "stderr",
          "text": [
            "\rProcessing video:  27%|██▋       | 976.66/3600 [04:40<12:34,  3.48s/s]"
          ]
        },
        {
          "output_type": "stream",
          "name": "stdout",
          "text": [
            "frame=29287 fps=105 q=29.0 size=  128000kB time=00:16:16.66 bitrate=1073.6kbits/s dup=34 drop=0 speed=3.49x\n"
          ]
        },
        {
          "output_type": "stream",
          "name": "stderr",
          "text": [
            "\rProcessing video:  27%|██▋       | 977.92/3600 [04:41<12:34,  3.48s/s]"
          ]
        },
        {
          "output_type": "stream",
          "name": "stdout",
          "text": [
            "frame=29325 fps=105 q=29.0 size=  128256kB time=00:16:17.92 bitrate=1074.4kbits/s dup=34 drop=0 speed=3.49x\n"
          ]
        },
        {
          "output_type": "stream",
          "name": "stderr",
          "text": [
            "\rProcessing video:  27%|██▋       | 979.07/3600 [04:41<12:34,  3.47s/s]"
          ]
        },
        {
          "output_type": "stream",
          "name": "stdout",
          "text": [
            "frame=29359 fps=104 q=29.0 size=  128512kB time=00:16:19.07 bitrate=1075.3kbits/s dup=34 drop=0 speed=3.48x\n"
          ]
        },
        {
          "output_type": "stream",
          "name": "stderr",
          "text": [
            "\rProcessing video:  27%|██▋       | 980.22/3600 [04:42<12:34,  3.47s/s]"
          ]
        },
        {
          "output_type": "stream",
          "name": "stdout",
          "text": [
            "frame=29394 fps=104 q=29.0 size=  129024kB time=00:16:20.22 bitrate=1078.3kbits/s dup=34 drop=0 speed=3.48x\n"
          ]
        },
        {
          "output_type": "stream",
          "name": "stderr",
          "text": [
            "\rProcessing video:  27%|██▋       | 981.44/3600 [04:42<12:34,  3.47s/s]"
          ]
        },
        {
          "output_type": "stream",
          "name": "stdout",
          "text": [
            "frame=29430 fps=104 q=29.0 size=  129280kB time=00:16:21.44 bitrate=1079.1kbits/s dup=34 drop=0 speed=3.48x\n"
          ]
        },
        {
          "output_type": "stream",
          "name": "stderr",
          "text": [
            "\rProcessing video:  27%|██▋       | 982.52/3600 [04:43<12:35,  3.47s/s]"
          ]
        },
        {
          "output_type": "stream",
          "name": "stdout",
          "text": [
            "frame=29463 fps=104 q=29.0 size=  129536kB time=00:16:22.52 bitrate=1080.0kbits/s dup=34 drop=0 speed=3.48x\n"
          ]
        },
        {
          "output_type": "stream",
          "name": "stderr",
          "text": [
            "\rProcessing video:  27%|██▋       | 984.36/3600 [04:43<12:34,  3.47s/s]"
          ]
        },
        {
          "output_type": "stream",
          "name": "stdout",
          "text": [
            "frame=29518 fps=104 q=29.0 size=  129792kB time=00:16:24.36 bitrate=1080.1kbits/s dup=34 drop=0 speed=3.48x\n"
          ]
        },
        {
          "output_type": "stream",
          "name": "stderr",
          "text": [
            "\rProcessing video:  27%|██▋       | 986.26/3600 [04:44<12:33,  3.47s/s]"
          ]
        },
        {
          "output_type": "stream",
          "name": "stdout",
          "text": [
            "frame=29575 fps=104 q=29.0 size=  130048kB time=00:16:26.26 bitrate=1080.2kbits/s dup=34 drop=0 speed=3.48x\n"
          ]
        },
        {
          "output_type": "stream",
          "name": "stderr",
          "text": [
            "\rProcessing video:  27%|██▋       | 988.2/3600 [04:44<12:33,  3.47s/s] "
          ]
        },
        {
          "output_type": "stream",
          "name": "stdout",
          "text": [
            "frame=29633 fps=104 q=29.0 size=  130304kB time=00:16:28.20 bitrate=1080.2kbits/s dup=34 drop=0 speed=3.48x\n"
          ]
        },
        {
          "output_type": "stream",
          "name": "stderr",
          "text": [
            "\rProcessing video:  27%|██▋       | 989.86/3600 [04:45<12:32,  3.47s/s]"
          ]
        },
        {
          "output_type": "stream",
          "name": "stdout",
          "text": [
            "frame=29683 fps=104 q=29.0 size=  130304kB time=00:16:29.86 bitrate=1078.4kbits/s dup=34 drop=0 speed=3.48x\n"
          ]
        },
        {
          "output_type": "stream",
          "name": "stderr",
          "text": [
            "\rProcessing video:  28%|██▊       | 991.42/3600 [04:45<12:32,  3.47s/s]"
          ]
        },
        {
          "output_type": "stream",
          "name": "stdout",
          "text": [
            "frame=29730 fps=104 q=29.0 size=  130560kB time=00:16:31.42 bitrate=1078.8kbits/s dup=34 drop=0 speed=3.48x\n"
          ]
        },
        {
          "output_type": "stream",
          "name": "stderr",
          "text": [
            "\rProcessing video:  28%|██▊       | 992.96/3600 [04:46<12:32,  3.47s/s]"
          ]
        },
        {
          "output_type": "stream",
          "name": "stdout",
          "text": [
            "frame=29776 fps=104 q=29.0 size=  130816kB time=00:16:32.96 bitrate=1079.2kbits/s dup=34 drop=0 speed=3.48x\n"
          ]
        },
        {
          "output_type": "stream",
          "name": "stderr",
          "text": [
            "\rProcessing video:  28%|██▊       | 994.49/3600 [04:46<12:31,  3.47s/s]"
          ]
        },
        {
          "output_type": "stream",
          "name": "stdout",
          "text": [
            "frame=29822 fps=104 q=29.0 size=  131072kB time=00:16:34.49 bitrate=1079.7kbits/s dup=34 drop=0 speed=3.48x\n"
          ]
        },
        {
          "output_type": "stream",
          "name": "stderr",
          "text": [
            "\rProcessing video:  28%|██▊       | 996.16/3600 [04:47<12:31,  3.47s/s]"
          ]
        },
        {
          "output_type": "stream",
          "name": "stdout",
          "text": [
            "frame=29872 fps=104 q=29.0 size=  131328kB time=00:16:36.16 bitrate=1080.0kbits/s dup=34 drop=0 speed=3.48x\n"
          ]
        },
        {
          "output_type": "stream",
          "name": "stderr",
          "text": [
            "\rProcessing video:  28%|██▊       | 997.76/3600 [04:47<12:31,  3.46s/s]"
          ]
        },
        {
          "output_type": "stream",
          "name": "stdout",
          "text": [
            "frame=29920 fps=104 q=29.0 size=  131584kB time=00:16:37.76 bitrate=1080.4kbits/s dup=34 drop=0 speed=3.48x\n"
          ]
        },
        {
          "output_type": "stream",
          "name": "stderr",
          "text": [
            "\rProcessing video:  28%|██▊       | 999.18/3600 [04:48<12:30,  3.46s/s]"
          ]
        },
        {
          "output_type": "stream",
          "name": "stdout",
          "text": [
            "frame=29963 fps=104 q=29.0 size=  131584kB time=00:16:39.18 bitrate=1078.8kbits/s dup=34 drop=0 speed=3.47x\n"
          ]
        },
        {
          "output_type": "stream",
          "name": "stderr",
          "text": [
            "\rProcessing video:  28%|██▊       | 1000.64/3600 [04:49<12:30,  3.46s/s]"
          ]
        },
        {
          "output_type": "stream",
          "name": "stdout",
          "text": [
            "frame=30006 fps=104 q=29.0 size=  131840kB time=00:16:40.64 bitrate=1079.3kbits/s dup=34 drop=0 speed=3.47x\n"
          ]
        },
        {
          "output_type": "stream",
          "name": "stderr",
          "text": [
            "\rProcessing video:  28%|██▊       | 1002.06/3600 [04:49<12:30,  3.46s/s]"
          ]
        },
        {
          "output_type": "stream",
          "name": "stdout",
          "text": [
            "frame=30049 fps=104 q=29.0 size=  132096kB time=00:16:42.06 bitrate=1079.9kbits/s dup=34 drop=0 speed=3.47x\n"
          ]
        },
        {
          "output_type": "stream",
          "name": "stderr",
          "text": [
            "\rProcessing video:  28%|██▊       | 1003.37/3600 [04:50<12:30,  3.46s/s]"
          ]
        },
        {
          "output_type": "stream",
          "name": "stdout",
          "text": [
            "frame=30088 fps=104 q=29.0 size=  132352kB time=00:16:43.37 bitrate=1080.6kbits/s dup=34 drop=0 speed=3.47x\n"
          ]
        },
        {
          "output_type": "stream",
          "name": "stderr",
          "text": [
            "\rProcessing video:  28%|██▊       | 1004.69/3600 [04:50<12:30,  3.46s/s]"
          ]
        },
        {
          "output_type": "stream",
          "name": "stdout",
          "text": [
            "frame=30128 fps=104 q=29.0 size=  132608kB time=00:16:44.69 bitrate=1081.3kbits/s dup=34 drop=0 speed=3.47x\n"
          ]
        },
        {
          "output_type": "stream",
          "name": "stderr",
          "text": [
            "\rProcessing video:  28%|██▊       | 1005.93/3600 [04:51<12:30,  3.46s/s]"
          ]
        },
        {
          "output_type": "stream",
          "name": "stdout",
          "text": [
            "frame=30165 fps=104 q=29.0 size=  132864kB time=00:16:45.93 bitrate=1082.0kbits/s dup=34 drop=0 speed=3.47x\n"
          ]
        },
        {
          "output_type": "stream",
          "name": "stderr",
          "text": [
            "\rProcessing video:  28%|██▊       | 1007.12/3600 [04:51<12:30,  3.45s/s]"
          ]
        },
        {
          "output_type": "stream",
          "name": "stdout",
          "text": [
            "frame=30201 fps=104 q=29.0 size=  133120kB time=00:16:47.12 bitrate=1082.8kbits/s dup=34 drop=0 speed=3.47x\n"
          ]
        },
        {
          "output_type": "stream",
          "name": "stderr",
          "text": [
            "\rProcessing video:  28%|██▊       | 1008.36/3600 [04:52<12:30,  3.45s/s]"
          ]
        },
        {
          "output_type": "stream",
          "name": "stdout",
          "text": [
            "frame=30238 fps=104 q=29.0 size=  133376kB time=00:16:48.36 bitrate=1083.6kbits/s dup=34 drop=0 speed=3.46x\n"
          ]
        },
        {
          "output_type": "stream",
          "name": "stderr",
          "text": [
            "\rProcessing video:  28%|██▊       | 1009.55/3600 [04:52<12:30,  3.45s/s]"
          ]
        },
        {
          "output_type": "stream",
          "name": "stdout",
          "text": [
            "frame=30274 fps=104 q=29.0 size=  133632kB time=00:16:49.55 bitrate=1084.4kbits/s dup=34 drop=0 speed=3.46x\n"
          ]
        },
        {
          "output_type": "stream",
          "name": "stderr",
          "text": [
            "\rProcessing video:  28%|██▊       | 1010.77/3600 [04:53<12:30,  3.45s/s]"
          ]
        },
        {
          "output_type": "stream",
          "name": "stdout",
          "text": [
            "frame=30310 fps=104 q=29.0 size=  133888kB time=00:16:50.77 bitrate=1085.1kbits/s dup=34 drop=0 speed=3.46x\n"
          ]
        },
        {
          "output_type": "stream",
          "name": "stderr",
          "text": [
            "\rProcessing video:  28%|██▊       | 1011.96/3600 [04:53<12:30,  3.45s/s]"
          ]
        },
        {
          "output_type": "stream",
          "name": "stdout",
          "text": [
            "frame=30346 fps=104 q=29.0 size=  134144kB time=00:16:51.96 bitrate=1085.9kbits/s dup=34 drop=0 speed=3.46x\n"
          ]
        },
        {
          "output_type": "stream",
          "name": "stderr",
          "text": [
            "\rProcessing video:  28%|██▊       | 1013.29/3600 [04:54<12:30,  3.45s/s]"
          ]
        },
        {
          "output_type": "stream",
          "name": "stdout",
          "text": [
            "frame=30386 fps=104 q=29.0 size=  134656kB time=00:16:53.29 bitrate=1088.6kbits/s dup=34 drop=0 speed=3.46x\n"
          ]
        },
        {
          "output_type": "stream",
          "name": "stderr",
          "text": [
            "\rProcessing video:  28%|██▊       | 1014.46/3600 [04:54<12:30,  3.44s/s]"
          ]
        },
        {
          "output_type": "stream",
          "name": "stdout",
          "text": [
            "frame=30421 fps=104 q=29.0 size=  134912kB time=00:16:54.46 bitrate=1089.4kbits/s dup=34 drop=0 speed=3.45x\n"
          ]
        },
        {
          "output_type": "stream",
          "name": "stderr",
          "text": [
            "\rProcessing video:  28%|██▊       | 1015.65/3600 [04:55<12:30,  3.44s/s]"
          ]
        },
        {
          "output_type": "stream",
          "name": "stdout",
          "text": [
            "frame=30457 fps=104 q=29.0 size=  135168kB time=00:16:55.65 bitrate=1090.2kbits/s dup=34 drop=0 speed=3.45x\n"
          ]
        },
        {
          "output_type": "stream",
          "name": "stderr",
          "text": [
            "\rProcessing video:  28%|██▊       | 1016.89/3600 [04:55<12:30,  3.44s/s]"
          ]
        },
        {
          "output_type": "stream",
          "name": "stdout",
          "text": [
            "frame=30494 fps=103 q=29.0 size=  135424kB time=00:16:56.89 bitrate=1091.0kbits/s dup=34 drop=0 speed=3.45x\n"
          ]
        },
        {
          "output_type": "stream",
          "name": "stderr",
          "text": [
            "\rProcessing video:  28%|██▊       | 1018.15/3600 [04:56<12:30,  3.44s/s]"
          ]
        },
        {
          "output_type": "stream",
          "name": "stdout",
          "text": [
            "frame=30532 fps=103 q=29.0 size=  135680kB time=00:16:58.15 bitrate=1091.7kbits/s dup=34 drop=0 speed=3.45x\n"
          ]
        },
        {
          "output_type": "stream",
          "name": "stderr",
          "text": [
            "\rProcessing video:  28%|██▊       | 1019.45/3600 [04:56<12:30,  3.44s/s]"
          ]
        },
        {
          "output_type": "stream",
          "name": "stdout",
          "text": [
            "frame=30571 fps=103 q=29.0 size=  135936kB time=00:16:59.45 bitrate=1092.3kbits/s dup=34 drop=0 speed=3.45x\n"
          ]
        },
        {
          "output_type": "stream",
          "name": "stderr",
          "text": [
            "\rProcessing video:  28%|██▊       | 1020.8/3600 [04:57<12:30,  3.44s/s] "
          ]
        },
        {
          "output_type": "stream",
          "name": "stdout",
          "text": [
            "frame=30611 fps=103 q=29.0 size=  136192kB time=00:17:00.80 bitrate=1093.0kbits/s dup=34 drop=0 speed=3.45x\n"
          ]
        },
        {
          "output_type": "stream",
          "name": "stderr",
          "text": [
            "\rProcessing video:  28%|██▊       | 1022.16/3600 [04:57<12:30,  3.43s/s]"
          ]
        },
        {
          "output_type": "stream",
          "name": "stdout",
          "text": [
            "frame=30652 fps=103 q=29.0 size=  136448kB time=00:17:02.16 bitrate=1093.5kbits/s dup=34 drop=0 speed=3.44x\n"
          ]
        },
        {
          "output_type": "stream",
          "name": "stderr",
          "text": [
            "\rProcessing video:  28%|██▊       | 1024.25/3600 [04:58<12:29,  3.44s/s]"
          ]
        },
        {
          "output_type": "stream",
          "name": "stdout",
          "text": [
            "frame=30715 fps=103 q=29.0 size=  136704kB time=00:17:04.25 bitrate=1093.4kbits/s dup=34 drop=0 speed=3.45x\n"
          ]
        },
        {
          "output_type": "stream",
          "name": "stderr",
          "text": [
            "\rProcessing video:  29%|██▊       | 1026.73/3600 [04:58<12:28,  3.44s/s]"
          ]
        },
        {
          "output_type": "stream",
          "name": "stdout",
          "text": [
            "frame=30789 fps=103 q=29.0 size=  136960kB time=00:17:06.73 bitrate=1092.8kbits/s dup=34 drop=0 speed=3.45x\n"
          ]
        },
        {
          "output_type": "stream",
          "name": "stderr",
          "text": [
            "\rProcessing video:  29%|██▊       | 1029.5/3600 [04:59<12:26,  3.44s/s] "
          ]
        },
        {
          "output_type": "stream",
          "name": "stdout",
          "text": [
            "frame=30872 fps=104 q=29.0 size=  137216kB time=00:17:09.50 bitrate=1091.9kbits/s dup=34 drop=0 speed=3.45x\n"
          ]
        },
        {
          "output_type": "stream",
          "name": "stderr",
          "text": [
            "\rProcessing video:  29%|██▊       | 1032.12/3600 [04:59<12:25,  3.44s/s]"
          ]
        },
        {
          "output_type": "stream",
          "name": "stdout",
          "text": [
            "frame=30951 fps=104 q=29.0 size=  137472kB time=00:17:12.12 bitrate=1091.1kbits/s dup=34 drop=0 speed=3.45x\n"
          ]
        },
        {
          "output_type": "stream",
          "name": "stderr",
          "text": [
            "\rProcessing video:  29%|██▊       | 1034.26/3600 [05:00<12:24,  3.45s/s]"
          ]
        },
        {
          "output_type": "stream",
          "name": "stdout",
          "text": [
            "frame=31015 fps=104 q=29.0 size=  137728kB time=00:17:14.26 bitrate=1090.9kbits/s dup=34 drop=0 speed=3.46x\n"
          ]
        },
        {
          "output_type": "stream",
          "name": "stderr",
          "text": [
            "\rProcessing video:  29%|██▉       | 1036.26/3600 [05:00<12:23,  3.45s/s]"
          ]
        },
        {
          "output_type": "stream",
          "name": "stdout",
          "text": [
            "frame=31075 fps=104 q=29.0 size=  137984kB time=00:17:16.26 bitrate=1090.8kbits/s dup=34 drop=0 speed=3.46x\n"
          ]
        },
        {
          "output_type": "stream",
          "name": "stderr",
          "text": [
            "\rProcessing video:  29%|██▉       | 1038.5/3600 [05:01<12:22,  3.45s/s] "
          ]
        },
        {
          "output_type": "stream",
          "name": "stdout",
          "text": [
            "frame=31142 fps=104 q=29.0 size=  138240kB time=00:17:18.50 bitrate=1090.5kbits/s dup=34 drop=0 speed=3.46x\n"
          ]
        },
        {
          "output_type": "stream",
          "name": "stderr",
          "text": [
            "\rProcessing video:  29%|██▉       | 1040.83/3600 [05:01<12:21,  3.45s/s]"
          ]
        },
        {
          "output_type": "stream",
          "name": "stdout",
          "text": [
            "frame=31212 fps=104 q=29.0 size=  138240kB time=00:17:20.83 bitrate=1088.0kbits/s dup=34 drop=0 speed=3.46x\n"
          ]
        },
        {
          "output_type": "stream",
          "name": "stderr",
          "text": [
            "\rProcessing video:  29%|██▉       | 1043.39/3600 [05:02<12:20,  3.45s/s]"
          ]
        },
        {
          "output_type": "stream",
          "name": "stdout",
          "text": [
            "frame=31289 fps=104 q=29.0 size=  138496kB time=00:17:23.39 bitrate=1087.4kbits/s dup=34 drop=0 speed=3.46x\n"
          ]
        },
        {
          "output_type": "stream",
          "name": "stderr",
          "text": [
            "\rProcessing video:  29%|██▉       | 1045.76/3600 [05:02<12:19,  3.46s/s]"
          ]
        },
        {
          "output_type": "stream",
          "name": "stdout",
          "text": [
            "frame=31360 fps=104 q=29.0 size=  138752kB time=00:17:25.76 bitrate=1086.9kbits/s dup=34 drop=0 speed=3.47x\n"
          ]
        },
        {
          "output_type": "stream",
          "name": "stderr",
          "text": [
            "\rProcessing video:  29%|██▉       | 1047.8/3600 [05:03<12:18,  3.46s/s] "
          ]
        },
        {
          "output_type": "stream",
          "name": "stdout",
          "text": [
            "frame=31421 fps=104 q=29.0 size=  139008kB time=00:17:27.80 bitrate=1086.8kbits/s dup=34 drop=0 speed=3.47x\n"
          ]
        },
        {
          "output_type": "stream",
          "name": "stderr",
          "text": [
            "\rProcessing video:  29%|██▉       | 1050.13/3600 [05:03<12:17,  3.46s/s]"
          ]
        },
        {
          "output_type": "stream",
          "name": "stdout",
          "text": [
            "frame=31491 fps=104 q=29.0 size=  139264kB time=00:17:30.13 bitrate=1086.4kbits/s dup=34 drop=0 speed=3.47x\n"
          ]
        },
        {
          "output_type": "stream",
          "name": "stderr",
          "text": [
            "\rProcessing video:  29%|██▉       | 1052.45/3600 [05:04<12:16,  3.46s/s]"
          ]
        },
        {
          "output_type": "stream",
          "name": "stdout",
          "text": [
            "frame=31561 fps=104 q=29.0 size=  139520kB time=00:17:32.45 bitrate=1086.0kbits/s dup=34 drop=0 speed=3.47x\n"
          ]
        },
        {
          "output_type": "stream",
          "name": "stderr",
          "text": [
            "\rProcessing video:  29%|██▉       | 1054.8/3600 [05:04<12:15,  3.46s/s] "
          ]
        },
        {
          "output_type": "stream",
          "name": "stdout",
          "text": [
            "frame=31631 fps=104 q=29.0 size=  139520kB time=00:17:34.80 bitrate=1083.6kbits/s dup=34 drop=0 speed=3.47x\n"
          ]
        },
        {
          "output_type": "stream",
          "name": "stderr",
          "text": [
            "\rProcessing video:  29%|██▉       | 1057.4/3600 [05:05<12:13,  3.47s/s]"
          ]
        },
        {
          "output_type": "stream",
          "name": "stdout",
          "text": [
            "frame=31709 fps=104 q=29.0 size=  139776kB time=00:17:37.40 bitrate=1082.9kbits/s dup=34 drop=0 speed=3.48x\n"
          ]
        },
        {
          "output_type": "stream",
          "name": "stderr",
          "text": [
            "\rProcessing video:  29%|██▉       | 1059.86/3600 [05:05<12:12,  3.47s/s]"
          ]
        },
        {
          "output_type": "stream",
          "name": "stdout",
          "text": [
            "frame=31783 fps=104 q=29.0 size=  140032kB time=00:17:39.86 bitrate=1082.4kbits/s dup=34 drop=0 speed=3.48x\n"
          ]
        },
        {
          "output_type": "stream",
          "name": "stderr",
          "text": [
            "\rProcessing video:  30%|██▉       | 1062.46/3600 [05:06<12:11,  3.47s/s]"
          ]
        },
        {
          "output_type": "stream",
          "name": "stdout",
          "text": [
            "frame=31861 fps=104 q=29.0 size=  140288kB time=00:17:42.46 bitrate=1081.7kbits/s dup=34 drop=0 speed=3.48x\n"
          ]
        },
        {
          "output_type": "stream",
          "name": "stderr",
          "text": [
            "\rProcessing video:  30%|██▉       | 1064.93/3600 [05:06<12:09,  3.47s/s]"
          ]
        },
        {
          "output_type": "stream",
          "name": "stdout",
          "text": [
            "frame=31935 fps=104 q=29.0 size=  140544kB time=00:17:44.93 bitrate=1081.1kbits/s dup=34 drop=0 speed=3.48x\n"
          ]
        },
        {
          "output_type": "stream",
          "name": "stderr",
          "text": [
            "\rProcessing video:  30%|██▉       | 1067.52/3600 [05:07<12:08,  3.48s/s]"
          ]
        },
        {
          "output_type": "stream",
          "name": "stdout",
          "text": [
            "frame=32013 fps=105 q=29.0 size=  140800kB time=00:17:47.52 bitrate=1080.5kbits/s dup=34 drop=0 speed=3.49x\n"
          ]
        },
        {
          "output_type": "stream",
          "name": "stderr",
          "text": [
            "\rProcessing video:  30%|██▉       | 1070.29/3600 [05:07<12:07,  3.48s/s]"
          ]
        },
        {
          "output_type": "stream",
          "name": "stdout",
          "text": [
            "frame=32096 fps=105 q=29.0 size=  141056kB time=00:17:50.29 bitrate=1079.6kbits/s dup=34 drop=0 speed=3.49x\n"
          ]
        },
        {
          "output_type": "stream",
          "name": "stderr",
          "text": [
            "\rProcessing video:  30%|██▉       | 1073.08/3600 [05:08<12:05,  3.48s/s]"
          ]
        },
        {
          "output_type": "stream",
          "name": "stdout",
          "text": [
            "frame=32180 fps=105 q=29.0 size=  141056kB time=00:17:53.08 bitrate=1076.8kbits/s dup=34 drop=0 speed=3.49x\n"
          ]
        },
        {
          "output_type": "stream",
          "name": "stderr",
          "text": [
            "\rProcessing video:  30%|██▉       | 1075.9/3600 [05:08<12:04,  3.49s/s] "
          ]
        },
        {
          "output_type": "stream",
          "name": "stdout",
          "text": [
            "frame=32264 fps=105 q=29.0 size=  141312kB time=00:17:55.90 bitrate=1076.0kbits/s dup=34 drop=0 speed= 3.5x\n"
          ]
        },
        {
          "output_type": "stream",
          "name": "stderr",
          "text": [
            "\rProcessing video:  30%|██▉       | 1078.57/3600 [05:09<12:02,  3.49s/s]"
          ]
        },
        {
          "output_type": "stream",
          "name": "stdout",
          "text": [
            "frame=32344 fps=105 q=29.0 size=  141568kB time=00:17:58.57 bitrate=1075.2kbits/s dup=34 drop=0 speed= 3.5x\n"
          ]
        },
        {
          "output_type": "stream",
          "name": "stderr",
          "text": [
            "\rProcessing video:  30%|███       | 1081.36/3600 [05:09<12:01,  3.49s/s]"
          ]
        },
        {
          "output_type": "stream",
          "name": "stdout",
          "text": [
            "frame=32428 fps=105 q=29.0 size=  141824kB time=00:18:01.36 bitrate=1074.4kbits/s dup=34 drop=0 speed= 3.5x\n"
          ]
        },
        {
          "output_type": "stream",
          "name": "stderr",
          "text": [
            "\rProcessing video:  30%|███       | 1084.07/3600 [05:10<11:59,  3.49s/s]"
          ]
        },
        {
          "output_type": "stream",
          "name": "stdout",
          "text": [
            "frame=32509 fps=105 q=29.0 size=  142080kB time=00:18:04.07 bitrate=1073.7kbits/s dup=34 drop=0 speed= 3.5x\n"
          ]
        },
        {
          "output_type": "stream",
          "name": "stderr",
          "text": [
            "\rProcessing video:  30%|███       | 1086.03/3600 [05:10<11:59,  3.50s/s]"
          ]
        },
        {
          "output_type": "stream",
          "name": "stdout",
          "text": [
            "frame=32568 fps=105 q=29.0 size=  142336kB time=00:18:06.03 bitrate=1073.6kbits/s dup=34 drop=0 speed=3.51x\n"
          ]
        },
        {
          "output_type": "stream",
          "name": "stderr",
          "text": [
            "\rProcessing video:  30%|███       | 1087.53/3600 [05:11<11:59,  3.49s/s]"
          ]
        },
        {
          "output_type": "stream",
          "name": "stdout",
          "text": [
            "frame=32613 fps=105 q=29.0 size=  142592kB time=00:18:07.53 bitrate=1074.1kbits/s dup=34 drop=0 speed= 3.5x\n"
          ]
        },
        {
          "output_type": "stream",
          "name": "stderr",
          "text": [
            "\rProcessing video:  30%|███       | 1089.02/3600 [05:11<11:58,  3.49s/s]"
          ]
        },
        {
          "output_type": "stream",
          "name": "stdout",
          "text": [
            "frame=32658 fps=105 q=29.0 size=  142848kB time=00:18:09.02 bitrate=1074.6kbits/s dup=34 drop=0 speed= 3.5x\n"
          ]
        },
        {
          "output_type": "stream",
          "name": "stderr",
          "text": [
            "\rProcessing video:  30%|███       | 1090.32/3600 [05:12<11:58,  3.49s/s]"
          ]
        },
        {
          "output_type": "stream",
          "name": "stdout",
          "text": [
            "frame=32697 fps=105 q=29.0 size=  143104kB time=00:18:10.32 bitrate=1075.2kbits/s dup=34 drop=0 speed= 3.5x\n"
          ]
        },
        {
          "output_type": "stream",
          "name": "stderr",
          "text": [
            "\rProcessing video:  30%|███       | 1091.52/3600 [05:12<11:58,  3.49s/s]"
          ]
        },
        {
          "output_type": "stream",
          "name": "stdout",
          "text": [
            "frame=32733 fps=105 q=29.0 size=  143360kB time=00:18:11.52 bitrate=1075.9kbits/s dup=34 drop=0 speed= 3.5x\n"
          ]
        },
        {
          "output_type": "stream",
          "name": "stderr",
          "text": [
            "\rProcessing video:  30%|███       | 1092.86/3600 [05:13<11:58,  3.49s/s]"
          ]
        },
        {
          "output_type": "stream",
          "name": "stdout",
          "text": [
            "frame=32773 fps=105 q=29.0 size=  143616kB time=00:18:12.86 bitrate=1076.5kbits/s dup=34 drop=0 speed= 3.5x\n"
          ]
        },
        {
          "output_type": "stream",
          "name": "stderr",
          "text": [
            "\rProcessing video:  30%|███       | 1094.16/3600 [05:13<11:58,  3.49s/s]"
          ]
        },
        {
          "output_type": "stream",
          "name": "stdout",
          "text": [
            "frame=32812 fps=105 q=29.0 size=  143872kB time=00:18:14.16 bitrate=1077.2kbits/s dup=34 drop=0 speed= 3.5x\n"
          ]
        },
        {
          "output_type": "stream",
          "name": "stderr",
          "text": [
            "\rProcessing video:  30%|███       | 1095.48/3600 [05:14<11:58,  3.49s/s]"
          ]
        },
        {
          "output_type": "stream",
          "name": "stdout",
          "text": [
            "frame=32852 fps=105 q=29.0 size=  144128kB time=00:18:15.48 bitrate=1077.8kbits/s dup=34 drop=0 speed= 3.5x\n"
          ]
        },
        {
          "output_type": "stream",
          "name": "stderr",
          "text": [
            "\rProcessing video:  30%|███       | 1096.78/3600 [05:14<11:58,  3.48s/s]"
          ]
        },
        {
          "output_type": "stream",
          "name": "stdout",
          "text": [
            "frame=32891 fps=105 q=29.0 size=  144384kB time=00:18:16.78 bitrate=1078.4kbits/s dup=34 drop=0 speed=3.49x\n"
          ]
        },
        {
          "output_type": "stream",
          "name": "stderr",
          "text": [
            "\rProcessing video:  30%|███       | 1097.89/3600 [05:15<11:58,  3.48s/s]"
          ]
        },
        {
          "output_type": "stream",
          "name": "stdout",
          "text": [
            "frame=32924 fps=105 q=26.0 size=  144640kB time=00:18:17.89 bitrate=1079.2kbits/s dup=34 drop=0 speed=3.49x\n"
          ]
        },
        {
          "output_type": "stream",
          "name": "stderr",
          "text": [
            "\rProcessing video:  31%|███       | 1099.66/3600 [05:15<11:58,  3.48s/s]"
          ]
        },
        {
          "output_type": "stream",
          "name": "stdout",
          "text": [
            "frame=32977 fps=105 q=29.0 size=  144896kB time=00:18:19.66 bitrate=1079.4kbits/s dup=34 drop=0 speed=3.49x\n"
          ]
        },
        {
          "output_type": "stream",
          "name": "stderr",
          "text": [
            "\rProcessing video:  31%|███       | 1101.26/3600 [05:16<11:57,  3.48s/s]"
          ]
        },
        {
          "output_type": "stream",
          "name": "stdout",
          "text": [
            "frame=33025 fps=105 q=29.0 size=  145152kB time=00:18:21.26 bitrate=1079.7kbits/s dup=34 drop=0 speed=3.49x\n"
          ]
        },
        {
          "output_type": "stream",
          "name": "stderr",
          "text": [
            "\rProcessing video:  31%|███       | 1102.8/3600 [05:16<11:57,  3.48s/s] "
          ]
        },
        {
          "output_type": "stream",
          "name": "stdout",
          "text": [
            "frame=33071 fps=105 q=29.0 size=  145408kB time=00:18:22.80 bitrate=1080.1kbits/s dup=34 drop=0 speed=3.49x\n"
          ]
        },
        {
          "output_type": "stream",
          "name": "stderr",
          "text": [
            "\rProcessing video:  31%|███       | 1104.36/3600 [05:17<11:57,  3.48s/s]"
          ]
        },
        {
          "output_type": "stream",
          "name": "stdout",
          "text": [
            "frame=33118 fps=105 q=29.0 size=  145664kB time=00:18:24.36 bitrate=1080.5kbits/s dup=34 drop=0 speed=3.49x\n"
          ]
        },
        {
          "output_type": "stream",
          "name": "stderr",
          "text": [
            "\rProcessing video:  31%|███       | 1105.89/3600 [05:17<11:56,  3.48s/s]"
          ]
        },
        {
          "output_type": "stream",
          "name": "stdout",
          "text": [
            "frame=33164 fps=105 q=29.0 size=  145920kB time=00:18:25.89 bitrate=1080.9kbits/s dup=34 drop=0 speed=3.49x\n"
          ]
        },
        {
          "output_type": "stream",
          "name": "stderr",
          "text": [
            "\rProcessing video:  31%|███       | 1107.49/3600 [05:18<11:56,  3.48s/s]"
          ]
        },
        {
          "output_type": "stream",
          "name": "stdout",
          "text": [
            "frame=33212 fps=105 q=29.0 size=  146176kB time=00:18:27.49 bitrate=1081.2kbits/s dup=34 drop=0 speed=3.49x\n"
          ]
        },
        {
          "output_type": "stream",
          "name": "stderr",
          "text": [
            "\rProcessing video:  31%|███       | 1109.2/3600 [05:18<11:55,  3.48s/s] "
          ]
        },
        {
          "output_type": "stream",
          "name": "stdout",
          "text": [
            "frame=33263 fps=105 q=29.0 size=  146176kB time=00:18:29.20 bitrate=1079.6kbits/s dup=34 drop=0 speed=3.49x\n"
          ]
        },
        {
          "output_type": "stream",
          "name": "stderr",
          "text": [
            "\rProcessing video:  31%|███       | 1110.99/3600 [05:19<11:55,  3.48s/s]"
          ]
        },
        {
          "output_type": "stream",
          "name": "stdout",
          "text": [
            "frame=33317 fps=105 q=29.0 size=  146432kB time=00:18:30.99 bitrate=1079.7kbits/s dup=34 drop=0 speed=3.49x\n"
          ]
        },
        {
          "output_type": "stream",
          "name": "stderr",
          "text": [
            "\rProcessing video:  31%|███       | 1112.85/3600 [05:19<11:54,  3.48s/s]"
          ]
        },
        {
          "output_type": "stream",
          "name": "stdout",
          "text": [
            "frame=33373 fps=105 q=29.0 size=  146688kB time=00:18:32.85 bitrate=1079.8kbits/s dup=34 drop=0 speed=3.49x\n"
          ]
        },
        {
          "output_type": "stream",
          "name": "stderr",
          "text": [
            "\rProcessing video:  31%|███       | 1114.9/3600 [05:20<11:53,  3.48s/s] "
          ]
        },
        {
          "output_type": "stream",
          "name": "stdout",
          "text": [
            "frame=33434 fps=105 q=29.0 size=  146944kB time=00:18:34.90 bitrate=1079.7kbits/s dup=34 drop=0 speed=3.49x\n"
          ]
        },
        {
          "output_type": "stream",
          "name": "stderr",
          "text": [
            "\rProcessing video:  31%|███       | 1117.03/3600 [05:20<11:53,  3.48s/s]"
          ]
        },
        {
          "output_type": "stream",
          "name": "stdout",
          "text": [
            "frame=33498 fps=105 q=29.0 size=  146944kB time=00:18:37.03 bitrate=1077.6kbits/s dup=34 drop=0 speed=3.49x\n"
          ]
        },
        {
          "output_type": "stream",
          "name": "stderr",
          "text": [
            "\rProcessing video:  31%|███       | 1119.63/3600 [05:21<11:51,  3.48s/s]"
          ]
        },
        {
          "output_type": "stream",
          "name": "stdout",
          "text": [
            "frame=33576 fps=105 q=29.0 size=  147200kB time=00:18:39.63 bitrate=1077.0kbits/s dup=34 drop=0 speed=3.49x\n"
          ]
        },
        {
          "output_type": "stream",
          "name": "stderr",
          "text": [
            "\rProcessing video:  31%|███       | 1121.96/3600 [05:21<11:50,  3.49s/s]"
          ]
        },
        {
          "output_type": "stream",
          "name": "stdout",
          "text": [
            "frame=33646 fps=105 q=29.0 size=  147456kB time=00:18:41.96 bitrate=1076.6kbits/s dup=34 drop=0 speed= 3.5x\n"
          ]
        },
        {
          "output_type": "stream",
          "name": "stderr",
          "text": [
            "\rProcessing video:  31%|███       | 1123.69/3600 [05:22<11:50,  3.49s/s]"
          ]
        },
        {
          "output_type": "stream",
          "name": "stdout",
          "text": [
            "frame=33698 fps=105 q=29.0 size=  147712kB time=00:18:43.69 bitrate=1076.9kbits/s dup=34 drop=0 speed=3.49x\n"
          ]
        },
        {
          "output_type": "stream",
          "name": "stderr",
          "text": [
            "\rProcessing video:  31%|███       | 1124.99/3600 [05:22<11:50,  3.48s/s]"
          ]
        },
        {
          "output_type": "stream",
          "name": "stdout",
          "text": [
            "frame=33737 fps=105 q=29.0 size=  147968kB time=00:18:44.99 bitrate=1077.5kbits/s dup=34 drop=0 speed=3.49x\n"
          ]
        },
        {
          "output_type": "stream",
          "name": "stderr",
          "text": [
            "\rProcessing video:  31%|███▏      | 1126.1/3600 [05:23<11:50,  3.48s/s] "
          ]
        },
        {
          "output_type": "stream",
          "name": "stdout",
          "text": [
            "frame=33770 fps=105 q=29.0 size=  148224kB time=00:18:46.10 bitrate=1078.3kbits/s dup=34 drop=0 speed=3.49x\n"
          ]
        },
        {
          "output_type": "stream",
          "name": "stderr",
          "text": [
            "\rProcessing video:  31%|███▏      | 1127.42/3600 [05:23<11:50,  3.48s/s]"
          ]
        },
        {
          "output_type": "stream",
          "name": "stdout",
          "text": [
            "frame=33810 fps=105 q=29.0 size=  148480kB time=00:18:47.42 bitrate=1078.9kbits/s dup=34 drop=0 speed=3.49x\n"
          ]
        },
        {
          "output_type": "stream",
          "name": "stderr",
          "text": [
            "\rProcessing video:  31%|███▏      | 1128.59/3600 [05:24<11:50,  3.48s/s]"
          ]
        },
        {
          "output_type": "stream",
          "name": "stdout",
          "text": [
            "frame=33845 fps=105 q=29.0 size=  148736kB time=00:18:48.59 bitrate=1079.6kbits/s dup=34 drop=0 speed=3.49x\n"
          ]
        },
        {
          "output_type": "stream",
          "name": "stderr",
          "text": [
            "\rProcessing video:  31%|███▏      | 1129.92/3600 [05:24<11:50,  3.48s/s]"
          ]
        },
        {
          "output_type": "stream",
          "name": "stdout",
          "text": [
            "frame=33885 fps=105 q=29.0 size=  148992kB time=00:18:49.92 bitrate=1080.2kbits/s dup=34 drop=0 speed=3.49x\n"
          ]
        },
        {
          "output_type": "stream",
          "name": "stderr",
          "text": [
            "\rProcessing video:  31%|███▏      | 1131.02/3600 [05:25<11:50,  3.48s/s]"
          ]
        },
        {
          "output_type": "stream",
          "name": "stdout",
          "text": [
            "frame=33918 fps=105 q=29.0 size=  149248kB time=00:18:51.02 bitrate=1081.0kbits/s dup=34 drop=0 speed=3.49x\n"
          ]
        },
        {
          "output_type": "stream",
          "name": "stderr",
          "text": [
            "\rProcessing video:  31%|███▏      | 1132.56/3600 [05:25<11:50,  3.48s/s]"
          ]
        },
        {
          "output_type": "stream",
          "name": "stdout",
          "text": [
            "frame=33964 fps=104 q=29.0 size=  149504kB time=00:18:52.56 bitrate=1081.4kbits/s dup=34 drop=0 speed=3.48x\n"
          ]
        },
        {
          "output_type": "stream",
          "name": "stderr",
          "text": [
            "\rProcessing video:  32%|███▏      | 1134.1/3600 [05:26<11:49,  3.47s/s] "
          ]
        },
        {
          "output_type": "stream",
          "name": "stdout",
          "text": [
            "frame=34010 fps=104 q=29.0 size=  149760kB time=00:18:54.10 bitrate=1081.8kbits/s dup=34 drop=0 speed=3.48x\n"
          ]
        },
        {
          "output_type": "stream",
          "name": "stderr",
          "text": [
            "\rProcessing video:  32%|███▏      | 1135.82/3600 [05:26<11:49,  3.47s/s]"
          ]
        },
        {
          "output_type": "stream",
          "name": "stdout",
          "text": [
            "frame=34062 fps=104 q=29.0 size=  150016kB time=00:18:55.82 bitrate=1082.0kbits/s dup=34 drop=0 speed=3.48x\n"
          ]
        },
        {
          "output_type": "stream",
          "name": "stderr",
          "text": [
            "\rProcessing video:  32%|███▏      | 1137.47/3600 [05:27<11:48,  3.47s/s]"
          ]
        },
        {
          "output_type": "stream",
          "name": "stdout",
          "text": [
            "frame=34111 fps=104 q=29.0 size=  150272kB time=00:18:57.47 bitrate=1082.2kbits/s dup=34 drop=0 speed=3.48x\n"
          ]
        },
        {
          "output_type": "stream",
          "name": "stderr",
          "text": [
            "\rProcessing video:  32%|███▏      | 1139.2/3600 [05:27<11:48,  3.47s/s] "
          ]
        },
        {
          "output_type": "stream",
          "name": "stdout",
          "text": [
            "frame=34163 fps=104 q=29.0 size=  150528kB time=00:18:59.20 bitrate=1082.4kbits/s dup=34 drop=0 speed=3.48x\n"
          ]
        },
        {
          "output_type": "stream",
          "name": "stderr",
          "text": [
            "\rProcessing video:  32%|███▏      | 1140.86/3600 [05:28<11:47,  3.47s/s]"
          ]
        },
        {
          "output_type": "stream",
          "name": "stdout",
          "text": [
            "frame=34213 fps=104 q=29.0 size=  150784kB time=00:19:00.86 bitrate=1082.7kbits/s dup=34 drop=0 speed=3.48x\n"
          ]
        },
        {
          "output_type": "stream",
          "name": "stderr",
          "text": [
            "\rProcessing video:  32%|███▏      | 1142.5/3600 [05:28<11:47,  3.47s/s] "
          ]
        },
        {
          "output_type": "stream",
          "name": "stdout",
          "text": [
            "frame=34262 fps=104 q=29.0 size=  151040kB time=00:19:02.50 bitrate=1083.0kbits/s dup=34 drop=0 speed=3.48x\n"
          ]
        },
        {
          "output_type": "stream",
          "name": "stderr",
          "text": [
            "\rProcessing video:  32%|███▏      | 1144.0/3600 [05:29<11:47,  3.47s/s]"
          ]
        },
        {
          "output_type": "stream",
          "name": "stdout",
          "text": [
            "frame=34307 fps=104 q=29.0 size=  151296kB time=00:19:04.00 bitrate=1083.4kbits/s dup=34 drop=0 speed=3.48x\n"
          ]
        },
        {
          "output_type": "stream",
          "name": "stderr",
          "text": [
            "\rProcessing video:  32%|███▏      | 1145.66/3600 [05:29<11:46,  3.47s/s]"
          ]
        },
        {
          "output_type": "stream",
          "name": "stdout",
          "text": [
            "frame=34357 fps=104 q=29.0 size=  151552kB time=00:19:05.66 bitrate=1083.7kbits/s dup=34 drop=0 speed=3.48x\n"
          ]
        },
        {
          "output_type": "stream",
          "name": "stderr",
          "text": [
            "\rProcessing video:  32%|███▏      | 1147.26/3600 [05:30<11:46,  3.47s/s]"
          ]
        },
        {
          "output_type": "stream",
          "name": "stdout",
          "text": [
            "frame=34405 fps=104 q=29.0 size=  151808kB time=00:19:07.26 bitrate=1084.0kbits/s dup=34 drop=0 speed=3.48x\n"
          ]
        },
        {
          "output_type": "stream",
          "name": "stderr",
          "text": [
            "\rProcessing video:  32%|███▏      | 1148.82/3600 [05:30<11:46,  3.47s/s]"
          ]
        },
        {
          "output_type": "stream",
          "name": "stdout",
          "text": [
            "frame=34452 fps=104 q=29.0 size=  152064kB time=00:19:08.82 bitrate=1084.3kbits/s dup=34 drop=0 speed=3.48x\n"
          ]
        },
        {
          "output_type": "stream",
          "name": "stderr",
          "text": [
            "\rProcessing video:  32%|███▏      | 1150.5/3600 [05:31<11:45,  3.47s/s] "
          ]
        },
        {
          "output_type": "stream",
          "name": "stdout",
          "text": [
            "frame=34502 fps=104 q=29.0 size=  152064kB time=00:19:10.50 bitrate=1082.7kbits/s dup=34 drop=0 speed=3.48x\n"
          ]
        },
        {
          "output_type": "stream",
          "name": "stderr",
          "text": [
            "\rProcessing video:  32%|███▏      | 1152.46/3600 [05:31<11:44,  3.47s/s]"
          ]
        },
        {
          "output_type": "stream",
          "name": "stdout",
          "text": [
            "frame=34561 fps=104 q=29.0 size=  152320kB time=00:19:12.46 bitrate=1082.7kbits/s dup=34 drop=0 speed=3.48x\n"
          ]
        },
        {
          "output_type": "stream",
          "name": "stderr",
          "text": [
            "\rProcessing video:  32%|███▏      | 1155.26/3600 [05:32<11:43,  3.48s/s]"
          ]
        },
        {
          "output_type": "stream",
          "name": "stdout",
          "text": [
            "frame=34645 fps=104 q=29.0 size=  152576kB time=00:19:15.26 bitrate=1081.9kbits/s dup=34 drop=0 speed=3.48x\n"
          ]
        },
        {
          "output_type": "stream",
          "name": "stderr",
          "text": [
            "\rProcessing video:  32%|███▏      | 1157.99/3600 [05:32<11:42,  3.48s/s]"
          ]
        },
        {
          "output_type": "stream",
          "name": "stdout",
          "text": [
            "frame=34727 fps=105 q=29.0 size=  152576kB time=00:19:17.99 bitrate=1079.4kbits/s dup=34 drop=0 speed=3.49x\n"
          ]
        },
        {
          "output_type": "stream",
          "name": "stderr",
          "text": [
            "\rProcessing video:  32%|███▏      | 1160.72/3600 [05:33<11:40,  3.48s/s]"
          ]
        },
        {
          "output_type": "stream",
          "name": "stdout",
          "text": [
            "frame=34809 fps=105 q=29.0 size=  152832kB time=00:19:20.72 bitrate=1078.6kbits/s dup=34 drop=0 speed=3.49x\n"
          ]
        },
        {
          "output_type": "stream",
          "name": "stderr",
          "text": [
            "\rProcessing video:  32%|███▏      | 1163.0/3600 [05:33<11:39,  3.48s/s] "
          ]
        },
        {
          "output_type": "stream",
          "name": "stdout",
          "text": [
            "frame=34877 fps=105 q=29.0 size=  153088kB time=00:19:23.00 bitrate=1078.3kbits/s dup=34 drop=0 speed=3.49x\n"
          ]
        },
        {
          "output_type": "stream",
          "name": "stderr",
          "text": [
            "\rProcessing video:  32%|███▏      | 1164.13/3600 [05:34<11:39,  3.48s/s]"
          ]
        },
        {
          "output_type": "stream",
          "name": "stdout",
          "text": [
            "frame=34911 fps=105 q=29.0 size=  153344kB time=00:19:24.13 bitrate=1079.1kbits/s dup=34 drop=0 speed=3.49x\n"
          ]
        },
        {
          "output_type": "stream",
          "name": "stderr",
          "text": [
            "\rProcessing video:  32%|███▏      | 1165.33/3600 [05:35<11:39,  3.48s/s]"
          ]
        },
        {
          "output_type": "stream",
          "name": "stdout",
          "text": [
            "frame=34947 fps=105 q=29.0 size=  153600kB time=00:19:25.33 bitrate=1079.8kbits/s dup=34 drop=0 speed=3.49x\n"
          ]
        },
        {
          "output_type": "stream",
          "name": "stderr",
          "text": [
            "\rProcessing video:  32%|███▏      | 1166.5/3600 [05:35<11:39,  3.48s/s] "
          ]
        },
        {
          "output_type": "stream",
          "name": "stdout",
          "text": [
            "frame=34982 fps=105 q=29.0 size=  153856kB time=00:19:26.50 bitrate=1080.5kbits/s dup=34 drop=0 speed=3.49x\n"
          ]
        },
        {
          "output_type": "stream",
          "name": "stderr",
          "text": [
            "\rProcessing video:  32%|███▏      | 1167.76/3600 [05:36<11:39,  3.48s/s]"
          ]
        },
        {
          "output_type": "stream",
          "name": "stdout",
          "text": [
            "frame=35020 fps=104 q=29.0 size=  154112kB time=00:19:27.76 bitrate=1081.1kbits/s dup=34 drop=0 speed=3.48x\n"
          ]
        },
        {
          "output_type": "stream",
          "name": "stderr",
          "text": [
            "\rProcessing video:  32%|███▏      | 1168.89/3600 [05:36<11:39,  3.47s/s]"
          ]
        },
        {
          "output_type": "stream",
          "name": "stdout",
          "text": [
            "frame=35054 fps=104 q=29.0 size=  154368kB time=00:19:28.89 bitrate=1081.9kbits/s dup=34 drop=0 speed=3.48x\n"
          ]
        },
        {
          "output_type": "stream",
          "name": "stderr",
          "text": [
            "\rProcessing video:  32%|███▏      | 1169.96/3600 [05:37<11:39,  3.47s/s]"
          ]
        },
        {
          "output_type": "stream",
          "name": "stdout",
          "text": [
            "frame=35086 fps=104 q=29.0 size=  154624kB time=00:19:29.96 bitrate=1082.7kbits/s dup=34 drop=0 speed=3.48x\n"
          ]
        },
        {
          "output_type": "stream",
          "name": "stderr",
          "text": [
            "\rProcessing video:  33%|███▎      | 1171.13/3600 [05:37<11:39,  3.47s/s]"
          ]
        },
        {
          "output_type": "stream",
          "name": "stdout",
          "text": [
            "frame=35121 fps=104 q=29.0 size=  154880kB time=00:19:31.13 bitrate=1083.4kbits/s dup=34 drop=0 speed=3.48x\n"
          ]
        },
        {
          "output_type": "stream",
          "name": "stderr",
          "text": [
            "\rProcessing video:  33%|███▎      | 1172.73/3600 [05:38<11:39,  3.47s/s]"
          ]
        },
        {
          "output_type": "stream",
          "name": "stdout",
          "text": [
            "frame=35169 fps=104 q=29.0 size=  155136kB time=00:19:32.73 bitrate=1083.7kbits/s dup=34 drop=0 speed=3.48x\n"
          ]
        },
        {
          "output_type": "stream",
          "name": "stderr",
          "text": [
            "\rProcessing video:  33%|███▎      | 1173.86/3600 [05:38<11:39,  3.47s/s]"
          ]
        },
        {
          "output_type": "stream",
          "name": "stdout",
          "text": [
            "frame=35203 fps=104 q=29.0 size=  155648kB time=00:19:33.86 bitrate=1086.2kbits/s dup=34 drop=0 speed=3.48x\n"
          ]
        },
        {
          "output_type": "stream",
          "name": "stderr",
          "text": [
            "\rProcessing video:  33%|███▎      | 1175.27/3600 [05:39<11:39,  3.47s/s]"
          ]
        },
        {
          "output_type": "stream",
          "name": "stdout",
          "text": [
            "frame=35245 fps=104 q=29.0 size=  155904kB time=00:19:35.27 bitrate=1086.7kbits/s dup=34 drop=0 speed=3.48x\n"
          ]
        },
        {
          "output_type": "stream",
          "name": "stderr",
          "text": [
            "\rProcessing video:  33%|███▎      | 1177.0/3600 [05:39<11:38,  3.47s/s] "
          ]
        },
        {
          "output_type": "stream",
          "name": "stdout",
          "text": [
            "frame=35297 fps=104 q=29.0 size=  155904kB time=00:19:37.00 bitrate=1085.1kbits/s dup=34 drop=0 speed=3.48x\n"
          ]
        },
        {
          "output_type": "stream",
          "name": "stderr",
          "text": [
            "\rProcessing video:  33%|███▎      | 1178.73/3600 [05:40<11:38,  3.47s/s]"
          ]
        },
        {
          "output_type": "stream",
          "name": "stdout",
          "text": [
            "frame=35349 fps=104 q=29.0 size=  156160kB time=00:19:38.73 bitrate=1085.3kbits/s dup=34 drop=0 speed=3.48x\n"
          ]
        },
        {
          "output_type": "stream",
          "name": "stderr",
          "text": [
            "\rProcessing video:  33%|███▎      | 1180.28/3600 [05:40<11:38,  3.47s/s]"
          ]
        },
        {
          "output_type": "stream",
          "name": "stdout",
          "text": [
            "frame=35396 fps=104 q=29.0 size=  156416kB time=00:19:40.28 bitrate=1085.6kbits/s dup=34 drop=0 speed=3.47x\n"
          ]
        },
        {
          "output_type": "stream",
          "name": "stderr",
          "text": [
            "\rProcessing video:  33%|███▎      | 1181.93/3600 [05:41<11:37,  3.47s/s]"
          ]
        },
        {
          "output_type": "stream",
          "name": "stdout",
          "text": [
            "frame=35445 fps=104 q=29.0 size=  156672kB time=00:19:41.93 bitrate=1085.9kbits/s dup=34 drop=0 speed=3.47x\n"
          ]
        },
        {
          "output_type": "stream",
          "name": "stderr",
          "text": [
            "\rProcessing video:  33%|███▎      | 1183.33/3600 [05:41<11:37,  3.46s/s]"
          ]
        },
        {
          "output_type": "stream",
          "name": "stdout",
          "text": [
            "frame=35487 fps=104 q=29.0 size=  156928kB time=00:19:43.33 bitrate=1086.4kbits/s dup=34 drop=0 speed=3.47x\n"
          ]
        },
        {
          "output_type": "stream",
          "name": "stderr",
          "text": [
            "\rProcessing video:  33%|███▎      | 1185.19/3600 [05:42<11:36,  3.47s/s]"
          ]
        },
        {
          "output_type": "stream",
          "name": "stdout",
          "text": [
            "frame=35543 fps=104 q=29.0 size=  157184kB time=00:19:45.19 bitrate=1086.4kbits/s dup=34 drop=0 speed=3.47x\n"
          ]
        },
        {
          "output_type": "stream",
          "name": "stderr",
          "text": [
            "\rProcessing video:  33%|███▎      | 1187.37/3600 [05:42<11:36,  3.47s/s]"
          ]
        },
        {
          "output_type": "stream",
          "name": "stdout",
          "text": [
            "frame=35608 fps=104 q=29.0 size=  157440kB time=00:19:47.37 bitrate=1086.2kbits/s dup=34 drop=0 speed=3.48x\n"
          ]
        },
        {
          "output_type": "stream",
          "name": "stderr",
          "text": [
            "\rProcessing video:  33%|███▎      | 1189.56/3600 [05:43<11:35,  3.47s/s]"
          ]
        },
        {
          "output_type": "stream",
          "name": "stdout",
          "text": [
            "frame=35674 fps=104 q=29.0 size=  157440kB time=00:19:49.56 bitrate=1084.2kbits/s dup=34 drop=0 speed=3.48x\n"
          ]
        },
        {
          "output_type": "stream",
          "name": "stderr",
          "text": [
            "\rProcessing video:  33%|███▎      | 1191.65/3600 [05:43<11:34,  3.47s/s]"
          ]
        },
        {
          "output_type": "stream",
          "name": "stdout",
          "text": [
            "frame=35737 fps=104 q=29.0 size=  157696kB time=00:19:51.65 bitrate=1084.1kbits/s dup=34 drop=0 speed=3.48x\n"
          ]
        },
        {
          "output_type": "stream",
          "name": "stderr",
          "text": [
            "\rProcessing video:  33%|███▎      | 1193.89/3600 [05:44<11:33,  3.47s/s]"
          ]
        },
        {
          "output_type": "stream",
          "name": "stdout",
          "text": [
            "frame=35804 fps=104 q=29.0 size=  157952kB time=00:19:53.89 bitrate=1083.8kbits/s dup=34 drop=0 speed=3.48x\n"
          ]
        },
        {
          "output_type": "stream",
          "name": "stderr",
          "text": [
            "\rProcessing video:  33%|███▎      | 1196.28/3600 [05:44<11:32,  3.47s/s]"
          ]
        },
        {
          "output_type": "stream",
          "name": "stdout",
          "text": [
            "frame=35876 fps=104 q=29.0 size=  158208kB time=00:19:56.28 bitrate=1083.4kbits/s dup=34 drop=0 speed=3.48x\n"
          ]
        },
        {
          "output_type": "stream",
          "name": "stderr",
          "text": [
            "\rProcessing video:  33%|███▎      | 1199.06/3600 [05:45<11:30,  3.48s/s]"
          ]
        },
        {
          "output_type": "stream",
          "name": "stdout",
          "text": [
            "frame=35959 fps=104 q=29.0 size=  158208kB time=00:19:59.06 bitrate=1080.9kbits/s dup=34 drop=0 speed=3.48x\n"
          ]
        },
        {
          "output_type": "stream",
          "name": "stderr",
          "text": [
            "\rProcessing video:  33%|███▎      | 1201.89/3600 [05:45<11:29,  3.48s/s]"
          ]
        },
        {
          "output_type": "stream",
          "name": "stdout",
          "text": [
            "frame=36044 fps=105 q=29.0 size=  158464kB time=00:20:01.89 bitrate=1080.1kbits/s dup=34 drop=0 speed=3.49x\n"
          ]
        },
        {
          "output_type": "stream",
          "name": "stderr",
          "text": [
            "\rProcessing video:  33%|███▎      | 1204.62/3600 [05:46<11:28,  3.48s/s]"
          ]
        },
        {
          "output_type": "stream",
          "name": "stdout",
          "text": [
            "frame=36126 fps=105 q=29.0 size=  158720kB time=00:20:04.62 bitrate=1079.4kbits/s dup=34 drop=0 speed=3.49x\n"
          ]
        },
        {
          "output_type": "stream",
          "name": "stderr",
          "text": [
            "\rProcessing video:  34%|███▎      | 1207.04/3600 [05:46<11:27,  3.48s/s]"
          ]
        },
        {
          "output_type": "stream",
          "name": "stdout",
          "text": [
            "frame=36198 fps=105 q=29.0 size=  158720kB time=00:20:07.04 bitrate=1077.2kbits/s dup=34 drop=0 speed=3.49x\n"
          ]
        },
        {
          "output_type": "stream",
          "name": "stderr",
          "text": [
            "\rProcessing video:  34%|███▎      | 1208.25/3600 [05:47<11:27,  3.48s/s]"
          ]
        },
        {
          "output_type": "stream",
          "name": "stdout",
          "text": [
            "frame=36235 fps=105 q=29.0 size=  158976kB time=00:20:08.25 bitrate=1077.9kbits/s dup=34 drop=0 speed=3.49x\n"
          ]
        },
        {
          "output_type": "stream",
          "name": "stderr",
          "text": [
            "\rProcessing video:  34%|███▎      | 1209.42/3600 [05:47<11:27,  3.48s/s]"
          ]
        },
        {
          "output_type": "stream",
          "name": "stdout",
          "text": [
            "frame=36270 fps=105 q=29.0 size=  159232kB time=00:20:09.42 bitrate=1078.5kbits/s dup=34 drop=0 speed=3.49x\n"
          ]
        },
        {
          "output_type": "stream",
          "name": "stderr",
          "text": [
            "\rProcessing video:  34%|███▎      | 1210.6/3600 [05:48<11:27,  3.48s/s] "
          ]
        },
        {
          "output_type": "stream",
          "name": "stdout",
          "text": [
            "frame=36305 fps=105 q=29.0 size=  159488kB time=00:20:10.60 bitrate=1079.2kbits/s dup=34 drop=0 speed=3.49x\n"
          ]
        },
        {
          "output_type": "stream",
          "name": "stderr",
          "text": [
            "\rProcessing video:  34%|███▎      | 1211.75/3600 [05:48<11:27,  3.48s/s]"
          ]
        },
        {
          "output_type": "stream",
          "name": "stdout",
          "text": [
            "frame=36340 fps=105 q=29.0 size=  159744kB time=00:20:11.75 bitrate=1079.9kbits/s dup=34 drop=0 speed=3.48x\n"
          ]
        },
        {
          "output_type": "stream",
          "name": "stderr",
          "text": [
            "\rProcessing video:  34%|███▎      | 1212.92/3600 [05:49<11:27,  3.47s/s]"
          ]
        },
        {
          "output_type": "stream",
          "name": "stdout",
          "text": [
            "frame=36375 fps=104 q=29.0 size=  160000kB time=00:20:12.92 bitrate=1080.6kbits/s dup=34 drop=0 speed=3.48x\n"
          ]
        },
        {
          "output_type": "stream",
          "name": "stderr",
          "text": [
            "\rProcessing video:  34%|███▎      | 1214.12/3600 [05:49<11:27,  3.47s/s]"
          ]
        },
        {
          "output_type": "stream",
          "name": "stdout",
          "text": [
            "frame=36411 fps=104 q=29.0 size=  160256kB time=00:20:14.12 bitrate=1081.3kbits/s dup=34 drop=0 speed=3.48x\n"
          ]
        },
        {
          "output_type": "stream",
          "name": "stderr",
          "text": [
            "\rProcessing video:  34%|███▍      | 1215.16/3600 [05:50<11:27,  3.47s/s]"
          ]
        },
        {
          "output_type": "stream",
          "name": "stdout",
          "text": [
            "frame=36442 fps=104 q=26.0 size=  160512kB time=00:20:15.16 bitrate=1082.1kbits/s dup=34 drop=0 speed=3.48x\n"
          ]
        },
        {
          "output_type": "stream",
          "name": "stderr",
          "text": [
            "\rProcessing video:  34%|███▍      | 1216.66/3600 [05:50<11:26,  3.47s/s]"
          ]
        },
        {
          "output_type": "stream",
          "name": "stdout",
          "text": [
            "frame=36487 fps=104 q=29.0 size=  161024kB time=00:20:16.66 bitrate=1084.2kbits/s dup=34 drop=0 speed=3.48x\n"
          ]
        },
        {
          "output_type": "stream",
          "name": "stderr",
          "text": [
            "\rProcessing video:  34%|███▍      | 1218.06/3600 [05:51<11:26,  3.47s/s]"
          ]
        },
        {
          "output_type": "stream",
          "name": "stdout",
          "text": [
            "frame=36529 fps=104 q=29.0 size=  161280kB time=00:20:18.06 bitrate=1084.7kbits/s dup=34 drop=0 speed=3.48x\n"
          ]
        },
        {
          "output_type": "stream",
          "name": "stderr",
          "text": [
            "\rProcessing video:  34%|███▍      | 1219.62/3600 [05:51<11:26,  3.47s/s]"
          ]
        },
        {
          "output_type": "stream",
          "name": "stdout",
          "text": [
            "frame=36576 fps=104 q=29.0 size=  161536kB time=00:20:19.62 bitrate=1085.0kbits/s dup=34 drop=0 speed=3.48x\n"
          ]
        },
        {
          "output_type": "stream",
          "name": "stderr",
          "text": [
            "\rProcessing video:  34%|███▍      | 1221.26/3600 [05:52<11:26,  3.47s/s]"
          ]
        },
        {
          "output_type": "stream",
          "name": "stdout",
          "text": [
            "frame=36625 fps=104 q=29.0 size=  161792kB time=00:20:21.26 bitrate=1085.3kbits/s dup=34 drop=0 speed=3.48x\n"
          ]
        },
        {
          "output_type": "stream",
          "name": "stderr",
          "text": [
            "\rProcessing video:  34%|███▍      | 1222.95/3600 [05:52<11:25,  3.47s/s]"
          ]
        },
        {
          "output_type": "stream",
          "name": "stdout",
          "text": [
            "frame=36676 fps=104 q=29.0 size=  162048kB time=00:20:22.95 bitrate=1085.5kbits/s dup=34 drop=0 speed=3.48x\n"
          ]
        },
        {
          "output_type": "stream",
          "name": "stderr",
          "text": [
            "\rProcessing video:  34%|███▍      | 1224.55/3600 [05:53<11:25,  3.47s/s]"
          ]
        },
        {
          "output_type": "stream",
          "name": "stdout",
          "text": [
            "frame=36724 fps=104 q=29.0 size=  162048kB time=00:20:24.55 bitrate=1084.1kbits/s dup=34 drop=0 speed=3.48x\n"
          ]
        },
        {
          "output_type": "stream",
          "name": "stderr",
          "text": [
            "\rProcessing video:  34%|███▍      | 1226.13/3600 [05:53<11:24,  3.47s/s]"
          ]
        },
        {
          "output_type": "stream",
          "name": "stdout",
          "text": [
            "frame=36771 fps=104 q=29.0 size=  162304kB time=00:20:26.13 bitrate=1084.4kbits/s dup=34 drop=0 speed=3.48x\n"
          ]
        },
        {
          "output_type": "stream",
          "name": "stderr",
          "text": [
            "\rProcessing video:  34%|███▍      | 1227.66/3600 [05:54<11:24,  3.47s/s]"
          ]
        },
        {
          "output_type": "stream",
          "name": "stdout",
          "text": [
            "frame=36817 fps=104 q=29.0 size=  162560kB time=00:20:27.66 bitrate=1084.7kbits/s dup=34 drop=0 speed=3.47x\n"
          ]
        },
        {
          "output_type": "stream",
          "name": "stderr",
          "text": [
            "\rProcessing video:  34%|███▍      | 1229.09/3600 [05:54<11:24,  3.47s/s]"
          ]
        },
        {
          "output_type": "stream",
          "name": "stdout",
          "text": [
            "frame=36860 fps=104 q=29.0 size=  162816kB time=00:20:29.09 bitrate=1085.2kbits/s dup=34 drop=0 speed=3.47x\n"
          ]
        },
        {
          "output_type": "stream",
          "name": "stderr",
          "text": [
            "\rProcessing video:  34%|███▍      | 1230.74/3600 [05:55<11:23,  3.46s/s]"
          ]
        },
        {
          "output_type": "stream",
          "name": "stdout",
          "text": [
            "frame=36909 fps=104 q=29.0 size=  163072kB time=00:20:30.74 bitrate=1085.4kbits/s dup=34 drop=0 speed=3.47x\n"
          ]
        },
        {
          "output_type": "stream",
          "name": "stderr",
          "text": [
            "\rProcessing video:  34%|███▍      | 1232.76/3600 [05:55<11:23,  3.47s/s]"
          ]
        },
        {
          "output_type": "stream",
          "name": "stdout",
          "text": [
            "frame=36970 fps=104 q=29.0 size=  163328kB time=00:20:32.76 bitrate=1085.3kbits/s dup=34 drop=0 speed=3.47x\n"
          ]
        },
        {
          "output_type": "stream",
          "name": "stderr",
          "text": [
            "\rProcessing video:  34%|███▍      | 1235.0/3600 [05:56<11:22,  3.47s/s] "
          ]
        },
        {
          "output_type": "stream",
          "name": "stdout",
          "text": [
            "frame=37037 fps=104 q=29.0 size=  163328kB time=00:20:35.00 bitrate=1083.4kbits/s dup=34 drop=0 speed=3.48x\n"
          ]
        },
        {
          "output_type": "stream",
          "name": "stderr",
          "text": [
            "\rProcessing video:  34%|███▍      | 1237.09/3600 [05:56<11:21,  3.47s/s]"
          ]
        },
        {
          "output_type": "stream",
          "name": "stdout",
          "text": [
            "frame=37100 fps=104 q=29.0 size=  163584kB time=00:20:37.09 bitrate=1083.2kbits/s dup=34 drop=0 speed=3.48x\n"
          ]
        },
        {
          "output_type": "stream",
          "name": "stderr",
          "text": [
            "\rProcessing video:  34%|███▍      | 1238.72/3600 [05:57<11:21,  3.47s/s]"
          ]
        },
        {
          "output_type": "stream",
          "name": "stdout",
          "text": [
            "frame=37149 fps=104 q=29.0 size=  163840kB time=00:20:38.72 bitrate=1083.5kbits/s dup=34 drop=0 speed=3.48x\n"
          ]
        },
        {
          "output_type": "stream",
          "name": "stderr",
          "text": [
            "\rProcessing video:  34%|███▍      | 1240.06/3600 [05:57<11:20,  3.47s/s]"
          ]
        },
        {
          "output_type": "stream",
          "name": "stdout",
          "text": [
            "frame=37189 fps=104 q=29.0 size=  164096kB time=00:20:40.06 bitrate=1084.0kbits/s dup=34 drop=0 speed=3.47x\n"
          ]
        },
        {
          "output_type": "stream",
          "name": "stderr",
          "text": [
            "\rProcessing video:  34%|███▍      | 1241.36/3600 [05:58<11:20,  3.46s/s]"
          ]
        },
        {
          "output_type": "stream",
          "name": "stdout",
          "text": [
            "frame=37228 fps=104 q=29.0 size=  164352kB time=00:20:41.36 bitrate=1084.6kbits/s dup=34 drop=0 speed=3.47x\n"
          ]
        },
        {
          "output_type": "stream",
          "name": "stderr",
          "text": [
            "\rProcessing video:  35%|███▍      | 1242.6/3600 [05:58<11:20,  3.46s/s] "
          ]
        },
        {
          "output_type": "stream",
          "name": "stdout",
          "text": [
            "frame=37265 fps=104 q=29.0 size=  164608kB time=00:20:42.60 bitrate=1085.2kbits/s dup=34 drop=0 speed=3.47x\n"
          ]
        },
        {
          "output_type": "stream",
          "name": "stderr",
          "text": [
            "\rProcessing video:  35%|███▍      | 1243.92/3600 [05:59<11:20,  3.46s/s]"
          ]
        },
        {
          "output_type": "stream",
          "name": "stdout",
          "text": [
            "frame=37305 fps=104 q=29.0 size=  164864kB time=00:20:43.92 bitrate=1085.7kbits/s dup=34 drop=0 speed=3.47x\n"
          ]
        },
        {
          "output_type": "stream",
          "name": "stderr",
          "text": [
            "\rProcessing video:  35%|███▍      | 1245.97/3600 [05:59<11:19,  3.46s/s]"
          ]
        },
        {
          "output_type": "stream",
          "name": "stdout",
          "text": [
            "frame=37366 fps=104 q=29.0 size=  165120kB time=00:20:45.97 bitrate=1085.6kbits/s dup=34 drop=0 speed=3.47x\n"
          ]
        },
        {
          "output_type": "stream",
          "name": "stderr",
          "text": [
            "\rProcessing video:  35%|███▍      | 1248.1/3600 [06:00<11:18,  3.46s/s] "
          ]
        },
        {
          "output_type": "stream",
          "name": "stdout",
          "text": [
            "frame=37430 fps=104 q=29.0 size=  165376kB time=00:20:48.10 bitrate=1085.5kbits/s dup=34 drop=0 speed=3.47x\n"
          ]
        },
        {
          "output_type": "stream",
          "name": "stderr",
          "text": [
            "\rProcessing video:  35%|███▍      | 1250.13/3600 [06:00<11:18,  3.46s/s]"
          ]
        },
        {
          "output_type": "stream",
          "name": "stdout",
          "text": [
            "frame=37491 fps=104 q=29.0 size=  165376kB time=00:20:50.13 bitrate=1083.7kbits/s dup=34 drop=0 speed=3.47x\n"
          ]
        },
        {
          "output_type": "stream",
          "name": "stderr",
          "text": [
            "\rProcessing video:  35%|███▍      | 1252.03/3600 [06:01<11:17,  3.47s/s]"
          ]
        },
        {
          "output_type": "stream",
          "name": "stdout",
          "text": [
            "frame=37548 fps=104 q=26.0 size=  165632kB time=00:20:52.03 bitrate=1083.7kbits/s dup=34 drop=0 speed=3.47x\n"
          ]
        },
        {
          "output_type": "stream",
          "name": "stderr",
          "text": [
            "\rProcessing video:  35%|███▍      | 1254.1/3600 [06:01<11:16,  3.47s/s] "
          ]
        },
        {
          "output_type": "stream",
          "name": "stdout",
          "text": [
            "frame=37610 fps=104 q=29.0 size=  165888kB time=00:20:54.10 bitrate=1083.6kbits/s dup=34 drop=0 speed=3.47x\n"
          ]
        },
        {
          "output_type": "stream",
          "name": "stderr",
          "text": [
            "\rProcessing video:  35%|███▍      | 1256.0/3600 [06:02<11:16,  3.47s/s]"
          ]
        },
        {
          "output_type": "stream",
          "name": "stdout",
          "text": [
            "frame=37667 fps=104 q=29.0 size=  166144kB time=00:20:56.00 bitrate=1083.6kbits/s dup=34 drop=0 speed=3.47x\n"
          ]
        },
        {
          "output_type": "stream",
          "name": "stderr",
          "text": [
            "\rProcessing video:  35%|███▍      | 1257.77/3600 [06:02<11:15,  3.47s/s]"
          ]
        },
        {
          "output_type": "stream",
          "name": "stdout",
          "text": [
            "frame=37720 fps=104 q=29.0 size=  166400kB time=00:20:57.77 bitrate=1083.8kbits/s dup=34 drop=0 speed=3.48x\n"
          ]
        },
        {
          "output_type": "stream",
          "name": "stderr",
          "text": [
            "\rProcessing video:  35%|███▍      | 1259.13/3600 [06:03<11:15,  3.47s/s]"
          ]
        },
        {
          "output_type": "stream",
          "name": "stdout",
          "text": [
            "frame=37761 fps=104 q=29.0 size=  166656kB time=00:20:59.13 bitrate=1084.3kbits/s dup=34 drop=0 speed=3.47x\n"
          ]
        },
        {
          "output_type": "stream",
          "name": "stderr",
          "text": [
            "\rProcessing video:  35%|███▌      | 1260.28/3600 [06:03<11:15,  3.46s/s]"
          ]
        },
        {
          "output_type": "stream",
          "name": "stdout",
          "text": [
            "frame=37796 fps=104 q=29.0 size=  166912kB time=00:21:00.28 bitrate=1084.9kbits/s dup=34 drop=0 speed=3.47x\n"
          ]
        },
        {
          "output_type": "stream",
          "name": "stderr",
          "text": [
            "\rProcessing video:  35%|███▌      | 1261.5/3600 [06:04<11:15,  3.46s/s] "
          ]
        },
        {
          "output_type": "stream",
          "name": "stdout",
          "text": [
            "frame=37832 fps=104 q=29.0 size=  167168kB time=00:21:01.50 bitrate=1085.6kbits/s dup=34 drop=0 speed=3.47x\n"
          ]
        },
        {
          "output_type": "stream",
          "name": "stderr",
          "text": [
            "\rProcessing video:  35%|███▌      | 1262.69/3600 [06:04<11:15,  3.46s/s]"
          ]
        },
        {
          "output_type": "stream",
          "name": "stdout",
          "text": [
            "frame=37868 fps=104 q=29.0 size=  167424kB time=00:21:02.69 bitrate=1086.2kbits/s dup=34 drop=0 speed=3.47x\n"
          ]
        },
        {
          "output_type": "stream",
          "name": "stderr",
          "text": [
            "\rProcessing video:  35%|███▌      | 1263.87/3600 [06:05<11:15,  3.46s/s]"
          ]
        },
        {
          "output_type": "stream",
          "name": "stdout",
          "text": [
            "frame=37903 fps=104 q=29.0 size=  167680kB time=00:21:03.87 bitrate=1086.8kbits/s dup=34 drop=0 speed=3.47x\n"
          ]
        },
        {
          "output_type": "stream",
          "name": "stderr",
          "text": [
            "\rProcessing video:  35%|███▌      | 1264.96/3600 [06:05<11:15,  3.46s/s]"
          ]
        },
        {
          "output_type": "stream",
          "name": "stdout",
          "text": [
            "frame=37936 fps=104 q=29.0 size=  168192kB time=00:21:04.96 bitrate=1089.2kbits/s dup=34 drop=0 speed=3.47x\n"
          ]
        },
        {
          "output_type": "stream",
          "name": "stderr",
          "text": [
            "\rProcessing video:  35%|███▌      | 1266.26/3600 [06:06<11:15,  3.46s/s]"
          ]
        },
        {
          "output_type": "stream",
          "name": "stdout",
          "text": [
            "frame=37975 fps=104 q=29.0 size=  168448kB time=00:21:06.26 bitrate=1089.8kbits/s dup=34 drop=0 speed=3.46x\n"
          ]
        },
        {
          "output_type": "stream",
          "name": "stderr",
          "text": [
            "\rProcessing video:  35%|███▌      | 1267.66/3600 [06:06<11:15,  3.46s/s]"
          ]
        },
        {
          "output_type": "stream",
          "name": "stdout",
          "text": [
            "frame=38017 fps=104 q=29.0 size=  168704kB time=00:21:07.66 bitrate=1090.2kbits/s dup=34 drop=0 speed=3.46x\n"
          ]
        },
        {
          "output_type": "stream",
          "name": "stderr",
          "text": [
            "\rProcessing video:  35%|███▌      | 1268.97/3600 [06:07<11:14,  3.45s/s]"
          ]
        },
        {
          "output_type": "stream",
          "name": "stdout",
          "text": [
            "frame=38056 fps=104 q=29.0 size=  168960kB time=00:21:08.97 bitrate=1090.7kbits/s dup=34 drop=0 speed=3.46x\n"
          ]
        },
        {
          "output_type": "stream",
          "name": "stderr",
          "text": [
            "\rProcessing video:  35%|███▌      | 1270.29/3600 [06:07<11:14,  3.45s/s]"
          ]
        },
        {
          "output_type": "stream",
          "name": "stdout",
          "text": [
            "frame=38096 fps=104 q=29.0 size=  168960kB time=00:21:10.29 bitrate=1089.6kbits/s dup=34 drop=0 speed=3.46x\n"
          ]
        },
        {
          "output_type": "stream",
          "name": "stderr",
          "text": [
            "\rProcessing video:  35%|███▌      | 1271.76/3600 [06:08<11:14,  3.45s/s]"
          ]
        },
        {
          "output_type": "stream",
          "name": "stdout",
          "text": [
            "frame=38140 fps=104 q=29.0 size=  169216kB time=00:21:11.76 bitrate=1090.0kbits/s dup=34 drop=0 speed=3.46x\n"
          ]
        },
        {
          "output_type": "stream",
          "name": "stderr",
          "text": [
            "\rProcessing video:  35%|███▌      | 1273.4/3600 [06:08<11:14,  3.45s/s] "
          ]
        },
        {
          "output_type": "stream",
          "name": "stdout",
          "text": [
            "frame=38189 fps=104 q=29.0 size=  169472kB time=00:21:13.40 bitrate=1090.2kbits/s dup=34 drop=0 speed=3.46x\n"
          ]
        },
        {
          "output_type": "stream",
          "name": "stderr",
          "text": [
            "\rProcessing video:  35%|███▌      | 1275.02/3600 [06:09<11:13,  3.45s/s]"
          ]
        },
        {
          "output_type": "stream",
          "name": "stdout",
          "text": [
            "frame=38238 fps=104 q=29.0 size=  169728kB time=00:21:15.02 bitrate=1090.5kbits/s dup=34 drop=0 speed=3.46x\n"
          ]
        },
        {
          "output_type": "stream",
          "name": "stderr",
          "text": [
            "\rProcessing video:  35%|███▌      | 1276.62/3600 [06:09<11:13,  3.45s/s]"
          ]
        },
        {
          "output_type": "stream",
          "name": "stdout",
          "text": [
            "frame=38286 fps=104 q=29.0 size=  169984kB time=00:21:16.62 bitrate=1090.8kbits/s dup=34 drop=0 speed=3.46x\n"
          ]
        },
        {
          "output_type": "stream",
          "name": "stderr",
          "text": [
            "\rProcessing video:  36%|███▌      | 1278.12/3600 [06:10<11:12,  3.45s/s]"
          ]
        },
        {
          "output_type": "stream",
          "name": "stdout",
          "text": [
            "frame=38331 fps=104 q=29.0 size=  170240kB time=00:21:18.12 bitrate=1091.1kbits/s dup=34 drop=0 speed=3.46x\n"
          ]
        },
        {
          "output_type": "stream",
          "name": "stderr",
          "text": [
            "\rProcessing video:  36%|███▌      | 1279.59/3600 [06:10<11:12,  3.45s/s]"
          ]
        },
        {
          "output_type": "stream",
          "name": "stdout",
          "text": [
            "frame=38375 fps=104 q=29.0 size=  170496kB time=00:21:19.59 bitrate=1091.5kbits/s dup=34 drop=0 speed=3.46x\n"
          ]
        },
        {
          "output_type": "stream",
          "name": "stderr",
          "text": [
            "\rProcessing video:  36%|███▌      | 1281.36/3600 [06:11<11:12,  3.45s/s]"
          ]
        },
        {
          "output_type": "stream",
          "name": "stdout",
          "text": [
            "frame=38428 fps=104 q=29.0 size=  170496kB time=00:21:21.36 bitrate=1090.0kbits/s dup=34 drop=0 speed=3.46x\n"
          ]
        },
        {
          "output_type": "stream",
          "name": "stderr",
          "text": [
            "\rProcessing video:  36%|███▌      | 1283.43/3600 [06:11<11:11,  3.45s/s]"
          ]
        },
        {
          "output_type": "stream",
          "name": "stdout",
          "text": [
            "frame=38490 fps=104 q=29.0 size=  170752kB time=00:21:23.43 bitrate=1089.9kbits/s dup=34 drop=0 speed=3.46x\n"
          ]
        },
        {
          "output_type": "stream",
          "name": "stderr",
          "text": [
            "\rProcessing video:  36%|███▌      | 1285.8/3600 [06:12<11:10,  3.45s/s] "
          ]
        },
        {
          "output_type": "stream",
          "name": "stdout",
          "text": [
            "frame=38561 fps=104 q=29.0 size=  171008kB time=00:21:25.80 bitrate=1089.5kbits/s dup=34 drop=0 speed=3.46x\n"
          ]
        },
        {
          "output_type": "stream",
          "name": "stderr",
          "text": [
            "\rProcessing video:  36%|███▌      | 1288.12/3600 [06:12<11:09,  3.45s/s]"
          ]
        },
        {
          "output_type": "stream",
          "name": "stdout",
          "text": [
            "frame=38631 fps=104 q=29.0 size=  171264kB time=00:21:28.12 bitrate=1089.2kbits/s dup=34 drop=0 speed=3.46x\n"
          ]
        },
        {
          "output_type": "stream",
          "name": "stderr",
          "text": [
            "\rProcessing video:  36%|███▌      | 1289.85/3600 [06:13<11:08,  3.45s/s]"
          ]
        },
        {
          "output_type": "stream",
          "name": "stdout",
          "text": [
            "frame=38683 fps=104 q=29.0 size=  171520kB time=00:21:29.85 bitrate=1089.3kbits/s dup=34 drop=0 speed=3.46x\n"
          ]
        },
        {
          "output_type": "stream",
          "name": "stderr",
          "text": [
            "\rProcessing video:  36%|███▌      | 1291.22/3600 [06:14<11:08,  3.45s/s]"
          ]
        },
        {
          "output_type": "stream",
          "name": "stdout",
          "text": [
            "frame=38724 fps=104 q=29.0 size=  171776kB time=00:21:31.22 bitrate=1089.8kbits/s dup=34 drop=0 speed=3.46x\n"
          ]
        },
        {
          "output_type": "stream",
          "name": "stderr",
          "text": [
            "\rProcessing video:  36%|███▌      | 1292.6/3600 [06:14<11:08,  3.45s/s] "
          ]
        },
        {
          "output_type": "stream",
          "name": "stdout",
          "text": [
            "frame=38765 fps=104 q=29.0 size=  171776kB time=00:21:32.60 bitrate=1088.6kbits/s dup=34 drop=0 speed=3.46x\n"
          ]
        },
        {
          "output_type": "stream",
          "name": "stderr",
          "text": [
            "\rProcessing video:  36%|███▌      | 1294.12/3600 [06:15<11:08,  3.45s/s]"
          ]
        },
        {
          "output_type": "stream",
          "name": "stdout",
          "text": [
            "frame=38811 fps=104 q=29.0 size=  172288kB time=00:21:34.12 bitrate=1090.6kbits/s dup=34 drop=0 speed=3.46x\n"
          ]
        },
        {
          "output_type": "stream",
          "name": "stderr",
          "text": [
            "\rProcessing video:  36%|███▌      | 1296.06/3600 [06:15<11:07,  3.45s/s]"
          ]
        },
        {
          "output_type": "stream",
          "name": "stdout",
          "text": [
            "frame=38869 fps=104 q=29.0 size=  172544kB time=00:21:36.06 bitrate=1090.6kbits/s dup=34 drop=0 speed=3.46x\n"
          ]
        },
        {
          "output_type": "stream",
          "name": "stderr",
          "text": [
            "\rProcessing video:  36%|███▌      | 1298.24/3600 [06:16<11:06,  3.45s/s]"
          ]
        },
        {
          "output_type": "stream",
          "name": "stdout",
          "text": [
            "frame=38934 fps=104 q=29.0 size=  172800kB time=00:21:38.24 bitrate=1090.4kbits/s dup=34 drop=0 speed=3.46x\n"
          ]
        },
        {
          "output_type": "stream",
          "name": "stderr",
          "text": [
            "\rProcessing video:  36%|███▌      | 1300.37/3600 [06:16<11:05,  3.45s/s]"
          ]
        },
        {
          "output_type": "stream",
          "name": "stdout",
          "text": [
            "frame=38998 fps=104 q=29.0 size=  172800kB time=00:21:40.37 bitrate=1088.6kbits/s dup=34 drop=0 speed=3.46x\n"
          ]
        },
        {
          "output_type": "stream",
          "name": "stderr",
          "text": [
            "\rProcessing video:  36%|███▌      | 1302.46/3600 [06:17<11:05,  3.45s/s]"
          ]
        },
        {
          "output_type": "stream",
          "name": "stdout",
          "text": [
            "frame=39061 fps=104 q=29.0 size=  173056kB time=00:21:42.46 bitrate=1088.5kbits/s dup=34 drop=0 speed=3.46x\n"
          ]
        },
        {
          "output_type": "stream",
          "name": "stderr",
          "text": [
            "\rProcessing video:  36%|███▌      | 1304.12/3600 [06:17<11:04,  3.45s/s]"
          ]
        },
        {
          "output_type": "stream",
          "name": "stdout",
          "text": [
            "frame=39111 fps=104 q=29.0 size=  173312kB time=00:21:44.12 bitrate=1088.7kbits/s dup=34 drop=0 speed=3.46x\n"
          ]
        },
        {
          "output_type": "stream",
          "name": "stderr",
          "text": [
            "\rProcessing video:  36%|███▋      | 1305.25/3600 [06:18<11:04,  3.45s/s]"
          ]
        },
        {
          "output_type": "stream",
          "name": "stdout",
          "text": [
            "frame=39145 fps=104 q=29.0 size=  173568kB time=00:21:45.25 bitrate=1089.3kbits/s dup=34 drop=0 speed=3.46x\n"
          ]
        },
        {
          "output_type": "stream",
          "name": "stderr",
          "text": [
            "\rProcessing video:  36%|███▋      | 1306.45/3600 [06:18<11:04,  3.45s/s]"
          ]
        },
        {
          "output_type": "stream",
          "name": "stdout",
          "text": [
            "frame=39181 fps=104 q=29.0 size=  173824kB time=00:21:46.45 bitrate=1089.9kbits/s dup=34 drop=0 speed=3.46x\n"
          ]
        },
        {
          "output_type": "stream",
          "name": "stderr",
          "text": [
            "\rProcessing video:  36%|███▋      | 1307.6/3600 [06:19<11:04,  3.45s/s] "
          ]
        },
        {
          "output_type": "stream",
          "name": "stdout",
          "text": [
            "frame=39215 fps=104 q=29.0 size=  174336kB time=00:21:47.60 bitrate=1092.2kbits/s dup=34 drop=0 speed=3.46x\n"
          ]
        },
        {
          "output_type": "stream",
          "name": "stderr",
          "text": [
            "\rProcessing video:  36%|███▋      | 1308.73/3600 [06:19<11:04,  3.45s/s]"
          ]
        },
        {
          "output_type": "stream",
          "name": "stdout",
          "text": [
            "frame=39249 fps=104 q=29.0 size=  174592kB time=00:21:48.73 bitrate=1092.9kbits/s dup=34 drop=0 speed=3.46x\n"
          ]
        },
        {
          "output_type": "stream",
          "name": "stderr",
          "text": [
            "\rProcessing video:  36%|███▋      | 1309.93/3600 [06:20<11:04,  3.45s/s]"
          ]
        },
        {
          "output_type": "stream",
          "name": "stdout",
          "text": [
            "frame=39285 fps=104 q=29.0 size=  174848kB time=00:21:49.93 bitrate=1093.5kbits/s dup=34 drop=0 speed=3.45x\n"
          ]
        },
        {
          "output_type": "stream",
          "name": "stderr",
          "text": [
            "\rProcessing video:  36%|███▋      | 1311.1/3600 [06:20<11:04,  3.44s/s] "
          ]
        },
        {
          "output_type": "stream",
          "name": "stdout",
          "text": [
            "frame=39320 fps=104 q=29.0 size=  175104kB time=00:21:51.10 bitrate=1094.1kbits/s dup=34 drop=0 speed=3.45x\n"
          ]
        },
        {
          "output_type": "stream",
          "name": "stderr",
          "text": [
            "\rProcessing video:  36%|███▋      | 1312.53/3600 [06:21<11:04,  3.44s/s]"
          ]
        },
        {
          "output_type": "stream",
          "name": "stdout",
          "text": [
            "frame=39363 fps=104 q=29.0 size=  175360kB time=00:21:52.53 bitrate=1094.5kbits/s dup=34 drop=0 speed=3.45x\n"
          ]
        },
        {
          "output_type": "stream",
          "name": "stderr",
          "text": [
            "\rProcessing video:  37%|███▋      | 1314.15/3600 [06:21<11:03,  3.44s/s]"
          ]
        },
        {
          "output_type": "stream",
          "name": "stdout",
          "text": [
            "frame=39412 fps=104 q=29.0 size=  175616kB time=00:21:54.15 bitrate=1094.7kbits/s dup=34 drop=0 speed=3.45x\n"
          ]
        },
        {
          "output_type": "stream",
          "name": "stderr",
          "text": [
            "\rProcessing video:  37%|███▋      | 1315.73/3600 [06:22<11:03,  3.44s/s]"
          ]
        },
        {
          "output_type": "stream",
          "name": "stdout",
          "text": [
            "frame=39459 fps=104 q=29.0 size=  175872kB time=00:21:55.73 bitrate=1095.0kbits/s dup=34 drop=0 speed=3.45x\n"
          ]
        },
        {
          "output_type": "stream",
          "name": "stderr",
          "text": [
            "\rProcessing video:  37%|███▋      | 1317.26/3600 [06:22<11:03,  3.44s/s]"
          ]
        },
        {
          "output_type": "stream",
          "name": "stdout",
          "text": [
            "frame=39505 fps=103 q=29.0 size=  176128kB time=00:21:57.26 bitrate=1095.3kbits/s dup=34 drop=0 speed=3.45x\n"
          ]
        },
        {
          "output_type": "stream",
          "name": "stderr",
          "text": [
            "\rProcessing video:  37%|███▋      | 1318.69/3600 [06:23<11:02,  3.44s/s]"
          ]
        },
        {
          "output_type": "stream",
          "name": "stdout",
          "text": [
            "frame=39548 fps=103 q=29.0 size=  176384kB time=00:21:58.69 bitrate=1095.7kbits/s dup=34 drop=0 speed=3.45x\n"
          ]
        },
        {
          "output_type": "stream",
          "name": "stderr",
          "text": [
            "\rProcessing video:  37%|███▋      | 1320.42/3600 [06:23<11:02,  3.44s/s]"
          ]
        },
        {
          "output_type": "stream",
          "name": "stdout",
          "text": [
            "frame=39600 fps=103 q=29.0 size=  176640kB time=00:22:00.42 bitrate=1095.9kbits/s dup=34 drop=0 speed=3.45x\n"
          ]
        },
        {
          "output_type": "stream",
          "name": "stderr",
          "text": [
            "\rProcessing video:  37%|███▋      | 1322.36/3600 [06:24<11:01,  3.44s/s]"
          ]
        },
        {
          "output_type": "stream",
          "name": "stdout",
          "text": [
            "frame=39658 fps=103 q=29.0 size=  176896kB time=00:22:02.36 bitrate=1095.9kbits/s dup=34 drop=0 speed=3.45x\n"
          ]
        },
        {
          "output_type": "stream",
          "name": "stderr",
          "text": [
            "\rProcessing video:  37%|███▋      | 1324.5/3600 [06:24<11:00,  3.44s/s] "
          ]
        },
        {
          "output_type": "stream",
          "name": "stdout",
          "text": [
            "frame=39722 fps=104 q=29.0 size=  176896kB time=00:22:04.50 bitrate=1094.1kbits/s dup=34 drop=0 speed=3.45x\n"
          ]
        },
        {
          "output_type": "stream",
          "name": "stderr",
          "text": [
            "\rProcessing video:  37%|███▋      | 1326.1/3600 [06:25<11:00,  3.44s/s]"
          ]
        },
        {
          "output_type": "stream",
          "name": "stdout",
          "text": [
            "frame=39770 fps=104 q=29.0 size=  177152kB time=00:22:06.10 bitrate=1094.4kbits/s dup=34 drop=0 speed=3.45x\n"
          ]
        },
        {
          "output_type": "stream",
          "name": "stderr",
          "text": [
            "\rProcessing video:  37%|███▋      | 1327.4/3600 [06:25<11:00,  3.44s/s]"
          ]
        },
        {
          "output_type": "stream",
          "name": "stdout",
          "text": [
            "frame=39809 fps=103 q=29.0 size=  177408kB time=00:22:07.40 bitrate=1094.9kbits/s dup=34 drop=0 speed=3.45x\n"
          ]
        },
        {
          "output_type": "stream",
          "name": "stderr",
          "text": [
            "\rProcessing video:  37%|███▋      | 1328.89/3600 [06:26<10:59,  3.44s/s]"
          ]
        },
        {
          "output_type": "stream",
          "name": "stdout",
          "text": [
            "frame=39854 fps=103 q=29.0 size=  177664kB time=00:22:08.89 bitrate=1095.2kbits/s dup=34 drop=0 speed=3.45x\n"
          ]
        },
        {
          "output_type": "stream",
          "name": "stderr",
          "text": [
            "\rProcessing video:  37%|███▋      | 1330.85/3600 [06:26<10:59,  3.44s/s]"
          ]
        },
        {
          "output_type": "stream",
          "name": "stdout",
          "text": [
            "frame=39913 fps=103 q=29.0 size=  177920kB time=00:22:10.85 bitrate=1095.2kbits/s dup=34 drop=0 speed=3.45x\n"
          ]
        },
        {
          "output_type": "stream",
          "name": "stderr",
          "text": [
            "\rProcessing video:  37%|███▋      | 1333.14/3600 [06:27<10:58,  3.44s/s]"
          ]
        },
        {
          "output_type": "stream",
          "name": "stdout",
          "text": [
            "frame=39981 fps=104 q=29.0 size=  178176kB time=00:22:13.14 bitrate=1094.9kbits/s dup=34 drop=0 speed=3.45x\n"
          ]
        },
        {
          "output_type": "stream",
          "name": "stderr",
          "text": [
            "\rProcessing video:  37%|███▋      | 1334.86/3600 [06:27<10:57,  3.44s/s]"
          ]
        },
        {
          "output_type": "stream",
          "name": "stdout",
          "text": [
            "frame=40033 fps=104 q=29.0 size=  178432kB time=00:22:14.86 bitrate=1095.0kbits/s dup=34 drop=0 speed=3.45x\n"
          ]
        },
        {
          "output_type": "stream",
          "name": "stderr",
          "text": [
            "\rProcessing video:  37%|███▋      | 1336.12/3600 [06:28<10:57,  3.44s/s]"
          ]
        },
        {
          "output_type": "stream",
          "name": "stdout",
          "text": [
            "frame=40071 fps=103 q=29.0 size=  178688kB time=00:22:16.12 bitrate=1095.6kbits/s dup=34 drop=0 speed=3.45x\n"
          ]
        },
        {
          "output_type": "stream",
          "name": "stderr",
          "text": [
            "\rProcessing video:  37%|███▋      | 1337.36/3600 [06:28<10:57,  3.44s/s]"
          ]
        },
        {
          "output_type": "stream",
          "name": "stdout",
          "text": [
            "frame=40108 fps=103 q=29.0 size=  178944kB time=00:22:17.36 bitrate=1096.1kbits/s dup=34 drop=0 speed=3.45x\n"
          ]
        },
        {
          "output_type": "stream",
          "name": "stderr",
          "text": [
            "\rProcessing video:  37%|███▋      | 1338.6/3600 [06:29<10:57,  3.44s/s] "
          ]
        },
        {
          "output_type": "stream",
          "name": "stdout",
          "text": [
            "frame=40145 fps=103 q=29.0 size=  179200kB time=00:22:18.60 bitrate=1096.7kbits/s dup=34 drop=0 speed=3.45x\n"
          ]
        },
        {
          "output_type": "stream",
          "name": "stderr",
          "text": [
            "\rProcessing video:  37%|███▋      | 1339.84/3600 [06:29<10:57,  3.44s/s]"
          ]
        },
        {
          "output_type": "stream",
          "name": "stdout",
          "text": [
            "frame=40182 fps=103 q=29.0 size=  179712kB time=00:22:19.84 bitrate=1098.8kbits/s dup=34 drop=0 speed=3.45x\n"
          ]
        },
        {
          "output_type": "stream",
          "name": "stderr",
          "text": [
            "\rProcessing video:  37%|███▋      | 1341.09/3600 [06:30<10:57,  3.44s/s]"
          ]
        },
        {
          "output_type": "stream",
          "name": "stdout",
          "text": [
            "frame=40220 fps=103 q=29.0 size=  179968kB time=00:22:21.09 bitrate=1099.3kbits/s dup=34 drop=0 speed=3.44x\n"
          ]
        },
        {
          "output_type": "stream",
          "name": "stderr",
          "text": [
            "\rProcessing video:  37%|███▋      | 1342.46/3600 [06:30<10:57,  3.44s/s]"
          ]
        },
        {
          "output_type": "stream",
          "name": "stdout",
          "text": [
            "frame=40261 fps=103 q=29.0 size=  180224kB time=00:22:22.46 bitrate=1099.8kbits/s dup=34 drop=0 speed=3.44x\n"
          ]
        },
        {
          "output_type": "stream",
          "name": "stderr",
          "text": [
            "\rProcessing video:  37%|███▋      | 1344.19/3600 [06:31<10:56,  3.44s/s]"
          ]
        },
        {
          "output_type": "stream",
          "name": "stdout",
          "text": [
            "frame=40313 fps=103 q=29.0 size=  180480kB time=00:22:24.19 bitrate=1099.9kbits/s dup=34 drop=0 speed=3.44x\n"
          ]
        },
        {
          "output_type": "stream",
          "name": "stderr",
          "text": [
            "\rProcessing video:  37%|███▋      | 1346.02/3600 [06:31<10:55,  3.44s/s]"
          ]
        },
        {
          "output_type": "stream",
          "name": "stdout",
          "text": [
            "frame=40368 fps=103 q=29.0 size=  180736kB time=00:22:26.02 bitrate=1100.0kbits/s dup=34 drop=0 speed=3.44x\n"
          ]
        },
        {
          "output_type": "stream",
          "name": "stderr",
          "text": [
            "\rProcessing video:  37%|███▋      | 1347.75/3600 [06:32<10:55,  3.44s/s]"
          ]
        },
        {
          "output_type": "stream",
          "name": "stdout",
          "text": [
            "frame=40420 fps=103 q=29.0 size=  180736kB time=00:22:27.75 bitrate=1098.6kbits/s dup=34 drop=0 speed=3.44x\n"
          ]
        },
        {
          "output_type": "stream",
          "name": "stderr",
          "text": [
            "\rProcessing video:  37%|███▋      | 1349.46/3600 [06:32<10:54,  3.44s/s]"
          ]
        },
        {
          "output_type": "stream",
          "name": "stdout",
          "text": [
            "frame=40471 fps=103 q=29.0 size=  180992kB time=00:22:29.46 bitrate=1098.7kbits/s dup=34 drop=0 speed=3.44x\n"
          ]
        },
        {
          "output_type": "stream",
          "name": "stderr",
          "text": [
            "\rProcessing video:  38%|███▊      | 1351.1/3600 [06:33<10:54,  3.44s/s] "
          ]
        },
        {
          "output_type": "stream",
          "name": "stdout",
          "text": [
            "frame=40520 fps=103 q=29.0 size=  181248kB time=00:22:31.10 bitrate=1098.9kbits/s dup=34 drop=0 speed=3.44x\n"
          ]
        },
        {
          "output_type": "stream",
          "name": "stderr",
          "text": [
            "\rProcessing video:  38%|███▊      | 1352.7/3600 [06:33<10:54,  3.44s/s]"
          ]
        },
        {
          "output_type": "stream",
          "name": "stdout",
          "text": [
            "frame=40568 fps=103 q=29.0 size=  181504kB time=00:22:32.70 bitrate=1099.2kbits/s dup=34 drop=0 speed=3.44x\n"
          ]
        },
        {
          "output_type": "stream",
          "name": "stderr",
          "text": [
            "\rProcessing video:  38%|███▊      | 1354.15/3600 [06:34<10:53,  3.44s/s]"
          ]
        },
        {
          "output_type": "stream",
          "name": "stdout",
          "text": [
            "frame=40612 fps=103 q=29.0 size=  181760kB time=00:22:34.15 bitrate=1099.6kbits/s dup=34 drop=0 speed=3.44x\n"
          ]
        },
        {
          "output_type": "stream",
          "name": "stderr",
          "text": [
            "\rProcessing video:  38%|███▊      | 1355.79/3600 [06:34<10:53,  3.43s/s]"
          ]
        },
        {
          "output_type": "stream",
          "name": "stdout",
          "text": [
            "frame=40661 fps=103 q=29.0 size=  182016kB time=00:22:35.79 bitrate=1099.8kbits/s dup=34 drop=0 speed=3.44x\n"
          ]
        },
        {
          "output_type": "stream",
          "name": "stderr",
          "text": [
            "\rProcessing video:  38%|███▊      | 1357.44/3600 [06:35<10:52,  3.43s/s]"
          ]
        },
        {
          "output_type": "stream",
          "name": "stdout",
          "text": [
            "frame=40710 fps=103 q=29.0 size=  182016kB time=00:22:37.44 bitrate=1098.4kbits/s dup=34 drop=0 speed=3.44x\n"
          ]
        },
        {
          "output_type": "stream",
          "name": "stderr",
          "text": [
            "\rProcessing video:  38%|███▊      | 1359.53/3600 [06:35<10:52,  3.44s/s]"
          ]
        },
        {
          "output_type": "stream",
          "name": "stdout",
          "text": [
            "frame=40773 fps=103 q=29.0 size=  182272kB time=00:22:39.53 bitrate=1098.3kbits/s dup=34 drop=0 speed=3.44x\n"
          ]
        },
        {
          "output_type": "stream",
          "name": "stderr",
          "text": [
            "\rProcessing video:  38%|███▊      | 1361.83/3600 [06:36<10:51,  3.44s/s]"
          ]
        },
        {
          "output_type": "stream",
          "name": "stdout",
          "text": [
            "frame=40842 fps=103 q=29.0 size=  182528kB time=00:22:41.83 bitrate=1098.0kbits/s dup=34 drop=0 speed=3.44x\n"
          ]
        },
        {
          "output_type": "stream",
          "name": "stderr",
          "text": [
            "\rProcessing video:  38%|███▊      | 1364.09/3600 [06:36<10:50,  3.44s/s]"
          ]
        },
        {
          "output_type": "stream",
          "name": "stdout",
          "text": [
            "frame=40910 fps=103 q=29.0 size=  182528kB time=00:22:44.09 bitrate=1096.2kbits/s dup=34 drop=0 speed=3.45x\n"
          ]
        },
        {
          "output_type": "stream",
          "name": "stderr",
          "text": [
            "\rProcessing video:  38%|███▊      | 1366.57/3600 [06:37<10:49,  3.44s/s]"
          ]
        },
        {
          "output_type": "stream",
          "name": "stdout",
          "text": [
            "frame=40984 fps=103 q=29.0 size=  182784kB time=00:22:46.57 bitrate=1095.7kbits/s dup=34 drop=0 speed=3.45x\n"
          ]
        },
        {
          "output_type": "stream",
          "name": "stderr",
          "text": [
            "\rProcessing video:  38%|███▊      | 1369.02/3600 [06:37<10:48,  3.44s/s]"
          ]
        },
        {
          "output_type": "stream",
          "name": "stdout",
          "text": [
            "frame=41058 fps=103 q=29.0 size=  183040kB time=00:22:49.02 bitrate=1095.3kbits/s dup=34 drop=0 speed=3.45x\n"
          ]
        },
        {
          "output_type": "stream",
          "name": "stderr",
          "text": [
            "\rProcessing video:  38%|███▊      | 1371.32/3600 [06:38<10:47,  3.44s/s]"
          ]
        },
        {
          "output_type": "stream",
          "name": "stdout",
          "text": [
            "frame=41127 fps=104 q=29.0 size=  183040kB time=00:22:51.32 bitrate=1093.4kbits/s dup=34 drop=0 speed=3.45x\n"
          ]
        },
        {
          "output_type": "stream",
          "name": "stderr",
          "text": [
            "\rProcessing video:  38%|███▊      | 1373.88/3600 [06:38<10:46,  3.45s/s]"
          ]
        },
        {
          "output_type": "stream",
          "name": "stdout",
          "text": [
            "frame=41204 fps=104 q=29.0 size=  183296kB time=00:22:53.88 bitrate=1092.9kbits/s dup=34 drop=0 speed=3.45x\n"
          ]
        },
        {
          "output_type": "stream",
          "name": "stderr",
          "text": [
            "\rProcessing video:  38%|███▊      | 1376.25/3600 [06:39<10:45,  3.45s/s]"
          ]
        },
        {
          "output_type": "stream",
          "name": "stdout",
          "text": [
            "frame=41275 fps=104 q=29.0 size=  183552kB time=00:22:56.25 bitrate=1092.6kbits/s dup=34 drop=0 speed=3.45x\n"
          ]
        },
        {
          "output_type": "stream",
          "name": "stderr",
          "text": [
            "\rProcessing video:  38%|███▊      | 1378.19/3600 [06:39<10:44,  3.45s/s]"
          ]
        },
        {
          "output_type": "stream",
          "name": "stdout",
          "text": [
            "frame=41333 fps=104 q=29.0 size=  183808kB time=00:22:58.19 bitrate=1092.6kbits/s dup=34 drop=0 speed=3.46x\n"
          ]
        },
        {
          "output_type": "stream",
          "name": "stderr",
          "text": [
            "\rProcessing video:  38%|███▊      | 1379.86/3600 [06:40<10:44,  3.45s/s]"
          ]
        },
        {
          "output_type": "stream",
          "name": "stdout",
          "text": [
            "frame=41383 fps=104 q=29.0 size=  184064kB time=00:22:59.86 bitrate=1092.8kbits/s dup=34 drop=0 speed=3.45x\n"
          ]
        },
        {
          "output_type": "stream",
          "name": "stderr",
          "text": [
            "\rProcessing video:  38%|███▊      | 1381.46/3600 [06:40<10:43,  3.45s/s]"
          ]
        },
        {
          "output_type": "stream",
          "name": "stdout",
          "text": [
            "frame=41431 fps=104 q=29.0 size=  184064kB time=00:23:01.46 bitrate=1091.5kbits/s dup=34 drop=0 speed=3.45x\n"
          ]
        },
        {
          "output_type": "stream",
          "name": "stderr",
          "text": [
            "\rProcessing video:  38%|███▊      | 1383.04/3600 [06:41<10:43,  3.45s/s]"
          ]
        },
        {
          "output_type": "stream",
          "name": "stdout",
          "text": [
            "frame=41478 fps=104 q=29.0 size=  184320kB time=00:23:03.04 bitrate=1091.8kbits/s dup=34 drop=0 speed=3.45x\n"
          ]
        },
        {
          "output_type": "stream",
          "name": "stderr",
          "text": [
            "\rProcessing video:  38%|███▊      | 1384.78/3600 [06:41<10:42,  3.45s/s]"
          ]
        },
        {
          "output_type": "stream",
          "name": "stdout",
          "text": [
            "frame=41531 fps=104 q=29.0 size=  184576kB time=00:23:04.78 bitrate=1091.9kbits/s dup=34 drop=0 speed=3.45x\n"
          ]
        },
        {
          "output_type": "stream",
          "name": "stderr",
          "text": [
            "\rProcessing video:  39%|███▊      | 1386.96/3600 [06:42<10:41,  3.45s/s]"
          ]
        },
        {
          "output_type": "stream",
          "name": "stdout",
          "text": [
            "frame=41596 fps=104 q=29.0 size=  184832kB time=00:23:06.96 bitrate=1091.7kbits/s dup=34 drop=0 speed=3.46x\n"
          ]
        },
        {
          "output_type": "stream",
          "name": "stderr",
          "text": [
            "\rProcessing video:  39%|███▊      | 1388.67/3600 [06:42<10:41,  3.45s/s]"
          ]
        },
        {
          "output_type": "stream",
          "name": "stdout",
          "text": [
            "frame=41647 fps=104 q=29.0 size=  185088kB time=00:23:08.67 bitrate=1091.9kbits/s dup=34 drop=0 speed=3.45x\n"
          ]
        },
        {
          "output_type": "stream",
          "name": "stderr",
          "text": [
            "\rProcessing video:  39%|███▊      | 1390.12/3600 [06:43<10:41,  3.45s/s]"
          ]
        },
        {
          "output_type": "stream",
          "name": "stdout",
          "text": [
            "frame=41691 fps=104 q=29.0 size=  185088kB time=00:23:10.12 bitrate=1090.7kbits/s dup=34 drop=0 speed=3.45x\n"
          ]
        },
        {
          "output_type": "stream",
          "name": "stderr",
          "text": [
            "\rProcessing video:  39%|███▊      | 1391.8/3600 [06:43<10:40,  3.45s/s] "
          ]
        },
        {
          "output_type": "stream",
          "name": "stdout",
          "text": [
            "frame=41741 fps=104 q=29.0 size=  185344kB time=00:23:11.80 bitrate=1090.9kbits/s dup=34 drop=0 speed=3.45x\n"
          ]
        },
        {
          "output_type": "stream",
          "name": "stderr",
          "text": [
            "\rProcessing video:  39%|███▊      | 1393.42/3600 [06:44<10:40,  3.45s/s]"
          ]
        },
        {
          "output_type": "stream",
          "name": "stdout",
          "text": [
            "frame=41790 fps=104 q=29.0 size=  185600kB time=00:23:13.42 bitrate=1091.1kbits/s dup=34 drop=0 speed=3.45x\n"
          ]
        },
        {
          "output_type": "stream",
          "name": "stderr",
          "text": [
            "\rProcessing video:  39%|███▊      | 1394.68/3600 [06:44<10:40,  3.45s/s]"
          ]
        },
        {
          "output_type": "stream",
          "name": "stdout",
          "text": [
            "frame=41828 fps=104 q=29.0 size=  185856kB time=00:23:14.68 bitrate=1091.7kbits/s dup=34 drop=0 speed=3.45x\n"
          ]
        },
        {
          "output_type": "stream",
          "name": "stderr",
          "text": [
            "\rProcessing video:  39%|███▉      | 1395.9/3600 [06:45<10:39,  3.44s/s] "
          ]
        },
        {
          "output_type": "stream",
          "name": "stdout",
          "text": [
            "frame=41865 fps=104 q=29.0 size=  186112kB time=00:23:15.90 bitrate=1092.2kbits/s dup=34 drop=0 speed=3.45x\n"
          ]
        },
        {
          "output_type": "stream",
          "name": "stderr",
          "text": [
            "\rProcessing video:  39%|███▉      | 1397.05/3600 [06:45<10:39,  3.44s/s]"
          ]
        },
        {
          "output_type": "stream",
          "name": "stdout",
          "text": [
            "frame=41899 fps=103 q=29.0 size=  186368kB time=00:23:17.05 bitrate=1092.8kbits/s dup=34 drop=0 speed=3.45x\n"
          ]
        },
        {
          "output_type": "stream",
          "name": "stderr",
          "text": [
            "\rProcessing video:  39%|███▉      | 1398.22/3600 [06:46<10:39,  3.44s/s]"
          ]
        },
        {
          "output_type": "stream",
          "name": "stdout",
          "text": [
            "frame=41934 fps=103 q=29.0 size=  186624kB time=00:23:18.22 bitrate=1093.4kbits/s dup=34 drop=0 speed=3.45x\n"
          ]
        },
        {
          "output_type": "stream",
          "name": "stderr",
          "text": [
            "\rProcessing video:  39%|███▉      | 1399.33/3600 [06:46<10:39,  3.44s/s]"
          ]
        },
        {
          "output_type": "stream",
          "name": "stdout",
          "text": [
            "frame=41967 fps=103 q=29.0 size=  186880kB time=00:23:19.33 bitrate=1094.0kbits/s dup=34 drop=0 speed=3.45x\n"
          ]
        },
        {
          "output_type": "stream",
          "name": "stderr",
          "text": [
            "\rProcessing video:  39%|███▉      | 1400.55/3600 [06:47<10:39,  3.44s/s]"
          ]
        },
        {
          "output_type": "stream",
          "name": "stdout",
          "text": [
            "frame=42004 fps=103 q=29.0 size=  187392kB time=00:23:20.55 bitrate=1096.1kbits/s dup=34 drop=0 speed=3.45x\n"
          ]
        },
        {
          "output_type": "stream",
          "name": "stderr",
          "text": [
            "\rProcessing video:  39%|███▉      | 1401.96/3600 [06:47<10:39,  3.44s/s]"
          ]
        },
        {
          "output_type": "stream",
          "name": "stdout",
          "text": [
            "frame=42046 fps=103 q=29.0 size=  187648kB time=00:23:21.96 bitrate=1096.5kbits/s dup=34 drop=0 speed=3.44x\n"
          ]
        },
        {
          "output_type": "stream",
          "name": "stderr",
          "text": [
            "\rProcessing video:  39%|███▉      | 1403.43/3600 [06:48<10:39,  3.44s/s]"
          ]
        },
        {
          "output_type": "stream",
          "name": "stdout",
          "text": [
            "frame=42090 fps=103 q=29.0 size=  187648kB time=00:23:23.43 bitrate=1095.3kbits/s dup=34 drop=0 speed=3.44x\n"
          ]
        },
        {
          "output_type": "stream",
          "name": "stderr",
          "text": [
            "\rProcessing video:  39%|███▉      | 1405.05/3600 [06:48<10:38,  3.44s/s]"
          ]
        },
        {
          "output_type": "stream",
          "name": "stdout",
          "text": [
            "frame=42139 fps=103 q=29.0 size=  188160kB time=00:23:25.05 bitrate=1097.0kbits/s dup=34 drop=0 speed=3.44x\n"
          ]
        },
        {
          "output_type": "stream",
          "name": "stderr",
          "text": [
            "\rProcessing video:  39%|███▉      | 1406.63/3600 [06:49<10:38,  3.44s/s]"
          ]
        },
        {
          "output_type": "stream",
          "name": "stdout",
          "text": [
            "frame=42186 fps=103 q=29.0 size=  188416kB time=00:23:26.63 bitrate=1097.3kbits/s dup=34 drop=0 speed=3.44x\n"
          ]
        },
        {
          "output_type": "stream",
          "name": "stderr",
          "text": [
            "\rProcessing video:  39%|███▉      | 1408.12/3600 [06:49<10:38,  3.44s/s]"
          ]
        },
        {
          "output_type": "stream",
          "name": "stdout",
          "text": [
            "frame=42231 fps=103 q=29.0 size=  188416kB time=00:23:28.12 bitrate=1096.1kbits/s dup=34 drop=0 speed=3.44x\n"
          ]
        },
        {
          "output_type": "stream",
          "name": "stderr",
          "text": [
            "\rProcessing video:  39%|███▉      | 1409.89/3600 [06:50<10:37,  3.44s/s]"
          ]
        },
        {
          "output_type": "stream",
          "name": "stdout",
          "text": [
            "frame=42284 fps=103 q=29.0 size=  188672kB time=00:23:29.89 bitrate=1096.3kbits/s dup=34 drop=0 speed=3.44x\n"
          ]
        },
        {
          "output_type": "stream",
          "name": "stderr",
          "text": [
            "\rProcessing video:  39%|███▉      | 1412.05/3600 [06:50<10:36,  3.44s/s]"
          ]
        },
        {
          "output_type": "stream",
          "name": "stdout",
          "text": [
            "frame=42349 fps=103 q=29.0 size=  188928kB time=00:23:32.05 bitrate=1096.1kbits/s dup=34 drop=0 speed=3.44x\n"
          ]
        },
        {
          "output_type": "stream",
          "name": "stderr",
          "text": [
            "\rProcessing video:  39%|███▉      | 1414.52/3600 [06:51<10:35,  3.44s/s]"
          ]
        },
        {
          "output_type": "stream",
          "name": "stdout",
          "text": [
            "frame=42423 fps=103 q=29.0 size=  189184kB time=00:23:34.52 bitrate=1095.6kbits/s dup=34 drop=0 speed=3.45x\n"
          ]
        },
        {
          "output_type": "stream",
          "name": "stderr",
          "text": [
            "\rProcessing video:  39%|███▉      | 1416.85/3600 [06:51<10:34,  3.44s/s]"
          ]
        },
        {
          "output_type": "stream",
          "name": "stdout",
          "text": [
            "frame=42493 fps=103 q=29.0 size=  189440kB time=00:23:36.85 bitrate=1095.3kbits/s dup=34 drop=0 speed=3.45x\n"
          ]
        },
        {
          "output_type": "stream",
          "name": "stderr",
          "text": [
            "\rProcessing video:  39%|███▉      | 1418.38/3600 [06:52<10:34,  3.44s/s]"
          ]
        },
        {
          "output_type": "stream",
          "name": "stdout",
          "text": [
            "frame=42539 fps=103 q=29.0 size=  189696kB time=00:23:38.38 bitrate=1095.6kbits/s dup=34 drop=0 speed=3.45x\n"
          ]
        },
        {
          "output_type": "stream",
          "name": "stderr",
          "text": [
            "\rProcessing video:  39%|███▉      | 1419.69/3600 [06:52<10:34,  3.44s/s]"
          ]
        },
        {
          "output_type": "stream",
          "name": "stdout",
          "text": [
            "frame=42578 fps=103 q=29.0 size=  189952kB time=00:23:39.69 bitrate=1096.1kbits/s dup=34 drop=0 speed=3.45x\n"
          ]
        },
        {
          "output_type": "stream",
          "name": "stderr",
          "text": [
            "\rProcessing video:  39%|███▉      | 1421.05/3600 [06:53<10:33,  3.44s/s]"
          ]
        },
        {
          "output_type": "stream",
          "name": "stdout",
          "text": [
            "frame=42619 fps=103 q=29.0 size=  190208kB time=00:23:41.05 bitrate=1096.5kbits/s dup=34 drop=0 speed=3.44x\n"
          ]
        },
        {
          "output_type": "stream",
          "name": "stderr",
          "text": [
            "\rProcessing video:  40%|███▉      | 1422.42/3600 [06:53<10:33,  3.44s/s]"
          ]
        },
        {
          "output_type": "stream",
          "name": "stdout",
          "text": [
            "frame=42660 fps=103 q=29.0 size=  190464kB time=00:23:42.42 bitrate=1096.9kbits/s dup=34 drop=0 speed=3.44x\n"
          ]
        },
        {
          "output_type": "stream",
          "name": "stderr",
          "text": [
            "\rProcessing video:  40%|███▉      | 1424.1/3600 [06:54<10:33,  3.44s/s] "
          ]
        },
        {
          "output_type": "stream",
          "name": "stdout",
          "text": [
            "frame=42710 fps=103 q=29.0 size=  190720kB time=00:23:44.10 bitrate=1097.1kbits/s dup=34 drop=0 speed=3.44x\n"
          ]
        },
        {
          "output_type": "stream",
          "name": "stderr",
          "text": [
            "\rProcessing video:  40%|███▉      | 1426.26/3600 [06:54<10:32,  3.44s/s]"
          ]
        },
        {
          "output_type": "stream",
          "name": "stdout",
          "text": [
            "frame=42775 fps=103 q=29.0 size=  190976kB time=00:23:46.26 bitrate=1096.9kbits/s dup=34 drop=0 speed=3.44x\n"
          ]
        },
        {
          "output_type": "stream",
          "name": "stderr",
          "text": [
            "\rProcessing video:  40%|███▉      | 1428.52/3600 [06:55<10:31,  3.44s/s]"
          ]
        },
        {
          "output_type": "stream",
          "name": "stdout",
          "text": [
            "frame=42843 fps=103 q=29.0 size=  191232kB time=00:23:48.52 bitrate=1096.6kbits/s dup=34 drop=0 speed=3.45x\n"
          ]
        },
        {
          "output_type": "stream",
          "name": "stderr",
          "text": [
            "\rProcessing video:  40%|███▉      | 1430.82/3600 [06:55<10:30,  3.44s/s]"
          ]
        },
        {
          "output_type": "stream",
          "name": "stdout",
          "text": [
            "frame=42912 fps=103 q=29.0 size=  191488kB time=00:23:50.82 bitrate=1096.3kbits/s dup=34 drop=0 speed=3.45x\n"
          ]
        },
        {
          "output_type": "stream",
          "name": "stderr",
          "text": [
            "\rProcessing video:  40%|███▉      | 1433.13/3600 [06:56<10:29,  3.44s/s]"
          ]
        },
        {
          "output_type": "stream",
          "name": "stdout",
          "text": [
            "frame=42981 fps=103 q=29.0 size=  191744kB time=00:23:53.13 bitrate=1096.0kbits/s dup=34 drop=0 speed=3.45x\n"
          ]
        },
        {
          "output_type": "stream",
          "name": "stderr",
          "text": [
            "\rProcessing video:  40%|███▉      | 1435.52/3600 [06:56<10:28,  3.44s/s]"
          ]
        },
        {
          "output_type": "stream",
          "name": "stdout",
          "text": [
            "frame=43053 fps=103 q=29.0 size=  191744kB time=00:23:55.52 bitrate=1094.2kbits/s dup=34 drop=0 speed=3.45x\n"
          ]
        },
        {
          "output_type": "stream",
          "name": "stderr",
          "text": [
            "\rProcessing video:  40%|███▉      | 1437.86/3600 [06:57<10:27,  3.44s/s]"
          ]
        },
        {
          "output_type": "stream",
          "name": "stdout",
          "text": [
            "frame=43123 fps=104 q=29.0 size=  192000kB time=00:23:57.86 bitrate=1093.9kbits/s dup=34 drop=0 speed=3.45x\n"
          ]
        },
        {
          "output_type": "stream",
          "name": "stderr",
          "text": [
            "\rProcessing video:  40%|████      | 1440.0/3600 [06:58<10:27,  3.44s/s] "
          ]
        },
        {
          "output_type": "stream",
          "name": "stdout",
          "text": [
            "frame=43187 fps=104 q=29.0 size=  192256kB time=00:24:00.00 bitrate=1093.7kbits/s dup=34 drop=0 speed=3.45x\n"
          ]
        },
        {
          "output_type": "stream",
          "name": "stderr",
          "text": [
            "\rProcessing video:  40%|████      | 1442.26/3600 [06:58<10:26,  3.45s/s]"
          ]
        },
        {
          "output_type": "stream",
          "name": "stdout",
          "text": [
            "frame=43255 fps=104 q=29.0 size=  192512kB time=00:24:02.26 bitrate=1093.5kbits/s dup=34 drop=0 speed=3.45x\n"
          ]
        },
        {
          "output_type": "stream",
          "name": "stderr",
          "text": [
            "\rProcessing video:  40%|████      | 1444.56/3600 [06:59<10:25,  3.45s/s]"
          ]
        },
        {
          "output_type": "stream",
          "name": "stdout",
          "text": [
            "frame=43324 fps=104 q=29.0 size=  192768kB time=00:24:04.56 bitrate=1093.2kbits/s dup=34 drop=0 speed=3.45x\n"
          ]
        },
        {
          "output_type": "stream",
          "name": "stderr",
          "text": [
            "\rProcessing video:  40%|████      | 1446.82/3600 [06:59<10:24,  3.45s/s]"
          ]
        },
        {
          "output_type": "stream",
          "name": "stdout",
          "text": [
            "frame=43392 fps=104 q=29.0 size=  193024kB time=00:24:06.82 bitrate=1092.9kbits/s dup=34 drop=0 speed=3.46x\n"
          ]
        },
        {
          "output_type": "stream",
          "name": "stderr",
          "text": [
            "\rProcessing video:  40%|████      | 1448.64/3600 [07:00<10:23,  3.45s/s]"
          ]
        },
        {
          "output_type": "stream",
          "name": "stdout",
          "text": [
            "frame=43446 fps=104 q=29.0 size=  193280kB time=00:24:08.64 bitrate=1093.0kbits/s dup=34 drop=0 speed=3.46x\n"
          ]
        },
        {
          "output_type": "stream",
          "name": "stderr",
          "text": [
            "\rProcessing video:  40%|████      | 1450.15/3600 [07:00<10:23,  3.45s/s]"
          ]
        },
        {
          "output_type": "stream",
          "name": "stdout",
          "text": [
            "frame=43492 fps=104 q=29.0 size=  193280kB time=00:24:10.15 bitrate=1091.8kbits/s dup=34 drop=0 speed=3.46x\n"
          ]
        },
        {
          "output_type": "stream",
          "name": "stderr",
          "text": [
            "\rProcessing video:  40%|████      | 1451.69/3600 [07:01<10:23,  3.45s/s]"
          ]
        },
        {
          "output_type": "stream",
          "name": "stdout",
          "text": [
            "frame=43538 fps=104 q=29.0 size=  193536kB time=00:24:11.69 bitrate=1092.1kbits/s dup=34 drop=0 speed=3.46x\n"
          ]
        },
        {
          "output_type": "stream",
          "name": "stderr",
          "text": [
            "\rProcessing video:  40%|████      | 1453.5/3600 [07:01<10:22,  3.45s/s] "
          ]
        },
        {
          "output_type": "stream",
          "name": "stdout",
          "text": [
            "frame=43592 fps=104 q=29.0 size=  193792kB time=00:24:13.50 bitrate=1092.2kbits/s dup=34 drop=0 speed=3.46x\n"
          ]
        },
        {
          "output_type": "stream",
          "name": "stderr",
          "text": [
            "\rProcessing video:  40%|████      | 1455.65/3600 [07:02<10:21,  3.45s/s]"
          ]
        },
        {
          "output_type": "stream",
          "name": "stdout",
          "text": [
            "frame=43657 fps=104 q=29.0 size=  194048kB time=00:24:15.65 bitrate=1092.0kbits/s dup=34 drop=0 speed=3.46x\n"
          ]
        },
        {
          "output_type": "stream",
          "name": "stderr",
          "text": [
            "\rProcessing video:  40%|████      | 1457.92/3600 [07:02<10:20,  3.45s/s]"
          ]
        },
        {
          "output_type": "stream",
          "name": "stdout",
          "text": [
            "frame=43725 fps=104 q=29.0 size=  194304kB time=00:24:17.92 bitrate=1091.8kbits/s dup=34 drop=0 speed=3.46x\n"
          ]
        },
        {
          "output_type": "stream",
          "name": "stderr",
          "text": [
            "\rProcessing video:  41%|████      | 1460.2/3600 [07:03<10:19,  3.45s/s] "
          ]
        },
        {
          "output_type": "stream",
          "name": "stdout",
          "text": [
            "frame=43793 fps=104 q=29.0 size=  194560kB time=00:24:20.20 bitrate=1091.5kbits/s dup=34 drop=0 speed=3.46x\n"
          ]
        },
        {
          "output_type": "stream",
          "name": "stderr",
          "text": [
            "\rProcessing video:  41%|████      | 1462.52/3600 [07:03<10:18,  3.45s/s]"
          ]
        },
        {
          "output_type": "stream",
          "name": "stdout",
          "text": [
            "frame=43863 fps=104 q=29.0 size=  194816kB time=00:24:22.52 bitrate=1091.2kbits/s dup=34 drop=0 speed=3.46x\n"
          ]
        },
        {
          "output_type": "stream",
          "name": "stderr",
          "text": [
            "\rProcessing video:  41%|████      | 1464.93/3600 [07:04<10:17,  3.45s/s]"
          ]
        },
        {
          "output_type": "stream",
          "name": "stdout",
          "text": [
            "frame=43935 fps=104 q=29.0 size=  194816kB time=00:24:24.93 bitrate=1089.4kbits/s dup=34 drop=0 speed=3.46x\n"
          ]
        },
        {
          "output_type": "stream",
          "name": "stderr",
          "text": [
            "\rProcessing video:  41%|████      | 1467.45/3600 [07:04<10:16,  3.46s/s]"
          ]
        },
        {
          "output_type": "stream",
          "name": "stdout",
          "text": [
            "frame=44011 fps=104 q=29.0 size=  195072kB time=00:24:27.45 bitrate=1089.0kbits/s dup=34 drop=0 speed=3.46x\n"
          ]
        },
        {
          "output_type": "stream",
          "name": "stderr",
          "text": [
            "\rProcessing video:  41%|████      | 1469.97/3600 [07:05<10:15,  3.46s/s]"
          ]
        },
        {
          "output_type": "stream",
          "name": "stdout",
          "text": [
            "frame=44086 fps=104 q=29.0 size=  195328kB time=00:24:29.97 bitrate=1088.5kbits/s dup=34 drop=0 speed=3.47x\n"
          ]
        },
        {
          "output_type": "stream",
          "name": "stderr",
          "text": [
            "\rProcessing video:  41%|████      | 1472.42/3600 [07:05<10:14,  3.46s/s]"
          ]
        },
        {
          "output_type": "stream",
          "name": "stdout",
          "text": [
            "frame=44160 fps=104 q=29.0 size=  195584kB time=00:24:32.42 bitrate=1088.2kbits/s dup=34 drop=0 speed=3.47x\n"
          ]
        },
        {
          "output_type": "stream",
          "name": "stderr",
          "text": [
            "\rProcessing video:  41%|████      | 1474.09/3600 [07:06<10:14,  3.46s/s]"
          ]
        },
        {
          "output_type": "stream",
          "name": "stdout",
          "text": [
            "frame=44210 fps=104 q=29.0 size=  195840kB time=00:24:34.09 bitrate=1088.3kbits/s dup=34 drop=0 speed=3.47x\n"
          ]
        },
        {
          "output_type": "stream",
          "name": "stderr",
          "text": [
            "\rProcessing video:  41%|████      | 1475.37/3600 [07:06<10:14,  3.46s/s]"
          ]
        },
        {
          "output_type": "stream",
          "name": "stdout",
          "text": [
            "frame=44248 fps=104 q=29.0 size=  196096kB time=00:24:35.37 bitrate=1088.8kbits/s dup=34 drop=0 speed=3.47x\n"
          ]
        },
        {
          "output_type": "stream",
          "name": "stderr",
          "text": [
            "\rProcessing video:  41%|████      | 1476.67/3600 [07:07<10:14,  3.46s/s]"
          ]
        },
        {
          "output_type": "stream",
          "name": "stdout",
          "text": [
            "frame=44287 fps=104 q=29.0 size=  196352kB time=00:24:36.67 bitrate=1089.3kbits/s dup=34 drop=0 speed=3.46x\n"
          ]
        },
        {
          "output_type": "stream",
          "name": "stderr",
          "text": [
            "\rProcessing video:  41%|████      | 1477.88/3600 [07:07<10:14,  3.46s/s]"
          ]
        },
        {
          "output_type": "stream",
          "name": "stdout",
          "text": [
            "frame=44324 fps=104 q=29.0 size=  196608kB time=00:24:37.88 bitrate=1089.8kbits/s dup=34 drop=0 speed=3.46x\n"
          ]
        },
        {
          "output_type": "stream",
          "name": "stderr",
          "text": [
            "\rProcessing video:  41%|████      | 1479.1/3600 [07:08<10:13,  3.45s/s] "
          ]
        },
        {
          "output_type": "stream",
          "name": "stdout",
          "text": [
            "frame=44360 fps=104 q=29.0 size=  196864kB time=00:24:39.10 bitrate=1090.3kbits/s dup=34 drop=0 speed=3.46x\n"
          ]
        },
        {
          "output_type": "stream",
          "name": "stderr",
          "text": [
            "\rProcessing video:  41%|████      | 1479.93/3600 [07:08<10:14,  3.45s/s]"
          ]
        },
        {
          "output_type": "stream",
          "name": "stdout",
          "text": [
            "frame=44385 fps=104 q=29.0 size=  197120kB time=00:24:39.93 bitrate=1091.1kbits/s dup=34 drop=0 speed=3.46x\n"
          ]
        },
        {
          "output_type": "stream",
          "name": "stderr",
          "text": [
            "\rProcessing video:  41%|████      | 1481.06/3600 [07:09<10:13,  3.45s/s]"
          ]
        },
        {
          "output_type": "stream",
          "name": "stdout",
          "text": [
            "frame=44419 fps=104 q=29.0 size=  197376kB time=00:24:41.06 bitrate=1091.7kbits/s dup=34 drop=0 speed=3.46x\n"
          ]
        },
        {
          "output_type": "stream",
          "name": "stderr",
          "text": [
            "\rProcessing video:  41%|████      | 1482.36/3600 [07:09<10:13,  3.45s/s]"
          ]
        },
        {
          "output_type": "stream",
          "name": "stdout",
          "text": [
            "frame=44458 fps=104 q=29.0 size=  197632kB time=00:24:42.36 bitrate=1092.2kbits/s dup=34 drop=0 speed=3.46x\n"
          ]
        },
        {
          "output_type": "stream",
          "name": "stderr",
          "text": [
            "\rProcessing video:  41%|████      | 1483.69/3600 [07:10<10:13,  3.45s/s]"
          ]
        },
        {
          "output_type": "stream",
          "name": "stdout",
          "text": [
            "frame=44498 fps=104 q=29.0 size=  197888kB time=00:24:43.69 bitrate=1092.6kbits/s dup=34 drop=0 speed=3.46x\n"
          ]
        },
        {
          "output_type": "stream",
          "name": "stderr",
          "text": [
            "\rProcessing video:  41%|████▏     | 1485.12/3600 [07:10<10:13,  3.45s/s]"
          ]
        },
        {
          "output_type": "stream",
          "name": "stdout",
          "text": [
            "frame=44541 fps=104 q=29.0 size=  198144kB time=00:24:45.12 bitrate=1093.0kbits/s dup=34 drop=0 speed=3.46x\n"
          ]
        },
        {
          "output_type": "stream",
          "name": "stderr",
          "text": [
            "\rProcessing video:  41%|████▏     | 1486.82/3600 [07:11<10:12,  3.45s/s]"
          ]
        },
        {
          "output_type": "stream",
          "name": "stdout",
          "text": [
            "frame=44592 fps=104 q=29.0 size=  198400kB time=00:24:46.82 bitrate=1093.1kbits/s dup=34 drop=0 speed=3.46x\n"
          ]
        },
        {
          "output_type": "stream",
          "name": "stderr",
          "text": [
            "\rProcessing video:  41%|████▏     | 1488.53/3600 [07:11<10:12,  3.45s/s]"
          ]
        },
        {
          "output_type": "stream",
          "name": "stdout",
          "text": [
            "frame=44643 fps=104 q=29.0 size=  198656kB time=00:24:48.53 bitrate=1093.3kbits/s dup=34 drop=0 speed=3.46x\n"
          ]
        },
        {
          "output_type": "stream",
          "name": "stderr",
          "text": [
            "\rProcessing video:  41%|████▏     | 1490.15/3600 [07:12<10:11,  3.45s/s]"
          ]
        },
        {
          "output_type": "stream",
          "name": "stdout",
          "text": [
            "frame=44692 fps=104 q=29.0 size=  198912kB time=00:24:50.15 bitrate=1093.5kbits/s dup=34 drop=0 speed=3.46x\n"
          ]
        },
        {
          "output_type": "stream",
          "name": "stderr",
          "text": [
            "\rProcessing video:  41%|████▏     | 1491.73/3600 [07:12<10:11,  3.45s/s]"
          ]
        },
        {
          "output_type": "stream",
          "name": "stdout",
          "text": [
            "frame=44739 fps=104 q=29.0 size=  199168kB time=00:24:51.73 bitrate=1093.8kbits/s dup=34 drop=0 speed=3.46x\n"
          ]
        },
        {
          "output_type": "stream",
          "name": "stderr",
          "text": [
            "\rProcessing video:  41%|████▏     | 1493.22/3600 [07:13<10:11,  3.45s/s]"
          ]
        },
        {
          "output_type": "stream",
          "name": "stdout",
          "text": [
            "frame=44784 fps=104 q=26.0 size=  199424kB time=00:24:53.22 bitrate=1094.1kbits/s dup=34 drop=0 speed=3.45x\n"
          ]
        },
        {
          "output_type": "stream",
          "name": "stderr",
          "text": [
            "\rProcessing video:  42%|████▏     | 1494.89/3600 [07:13<10:10,  3.45s/s]"
          ]
        },
        {
          "output_type": "stream",
          "name": "stdout",
          "text": [
            "frame=44834 fps=104 q=29.0 size=  199680kB time=00:24:54.89 bitrate=1094.2kbits/s dup=34 drop=0 speed=3.45x\n"
          ]
        },
        {
          "output_type": "stream",
          "name": "stderr",
          "text": [
            "\rProcessing video:  42%|████▏     | 1496.66/3600 [07:14<10:10,  3.45s/s]"
          ]
        },
        {
          "output_type": "stream",
          "name": "stdout",
          "text": [
            "frame=44887 fps=104 q=29.0 size=  199680kB time=00:24:56.66 bitrate=1093.0kbits/s dup=34 drop=0 speed=3.45x\n"
          ]
        },
        {
          "output_type": "stream",
          "name": "stderr",
          "text": [
            "\rProcessing video:  42%|████▏     | 1498.83/3600 [07:14<10:09,  3.45s/s]"
          ]
        },
        {
          "output_type": "stream",
          "name": "stdout",
          "text": [
            "frame=44952 fps=104 q=29.0 size=  199936kB time=00:24:58.83 bitrate=1092.8kbits/s dup=34 drop=0 speed=3.46x\n"
          ]
        },
        {
          "output_type": "stream",
          "name": "stderr",
          "text": [
            "\rProcessing video:  42%|████▏     | 1501.16/3600 [07:15<10:08,  3.45s/s]"
          ]
        },
        {
          "output_type": "stream",
          "name": "stdout",
          "text": [
            "frame=45022 fps=104 q=29.0 size=  200192kB time=00:25:01.16 bitrate=1092.5kbits/s dup=34 drop=0 speed=3.46x\n"
          ]
        },
        {
          "output_type": "stream",
          "name": "stderr",
          "text": [
            "\rProcessing video:  42%|████▏     | 1503.4/3600 [07:15<10:07,  3.45s/s] "
          ]
        },
        {
          "output_type": "stream",
          "name": "stdout",
          "text": [
            "frame=45089 fps=104 q=29.0 size=  200448kB time=00:25:03.40 bitrate=1092.2kbits/s dup=34 drop=0 speed=3.46x\n"
          ]
        },
        {
          "output_type": "stream",
          "name": "stderr",
          "text": [
            "\rProcessing video:  42%|████▏     | 1505.36/3600 [07:16<10:06,  3.45s/s]"
          ]
        },
        {
          "output_type": "stream",
          "name": "stdout",
          "text": [
            "frame=45148 fps=104 q=29.0 size=  200448kB time=00:25:05.36 bitrate=1090.8kbits/s dup=34 drop=0 speed=3.46x\n"
          ]
        },
        {
          "output_type": "stream",
          "name": "stderr",
          "text": [
            "\rProcessing video:  42%|████▏     | 1506.68/3600 [07:16<10:06,  3.45s/s]"
          ]
        },
        {
          "output_type": "stream",
          "name": "stdout",
          "text": [
            "frame=45188 fps=104 q=29.0 size=  200960kB time=00:25:06.68 bitrate=1092.6kbits/s dup=34 drop=0 speed=3.46x\n"
          ]
        },
        {
          "output_type": "stream",
          "name": "stderr",
          "text": [
            "\rProcessing video:  42%|████▏     | 1507.98/3600 [07:17<10:06,  3.45s/s]"
          ]
        },
        {
          "output_type": "stream",
          "name": "stdout",
          "text": [
            "frame=45227 fps=104 q=29.0 size=  201216kB time=00:25:07.98 bitrate=1093.1kbits/s dup=34 drop=0 speed=3.46x\n"
          ]
        },
        {
          "output_type": "stream",
          "name": "stderr",
          "text": [
            "\rProcessing video:  42%|████▏     | 1509.44/3600 [07:17<10:06,  3.45s/s]"
          ]
        },
        {
          "output_type": "stream",
          "name": "stdout",
          "text": [
            "frame=45270 fps=104 q=29.0 size=  201472kB time=00:25:09.44 bitrate=1093.4kbits/s dup=34 drop=0 speed=3.46x\n"
          ]
        },
        {
          "output_type": "stream",
          "name": "stderr",
          "text": [
            "\rProcessing video:  42%|████▏     | 1511.36/3600 [07:18<10:05,  3.45s/s]"
          ]
        },
        {
          "output_type": "stream",
          "name": "stdout",
          "text": [
            "frame=45328 fps=104 q=29.0 size=  201728kB time=00:25:11.36 bitrate=1093.4kbits/s dup=34 drop=0 speed=3.46x\n"
          ]
        },
        {
          "output_type": "stream",
          "name": "stderr",
          "text": [
            "\rProcessing video:  42%|████▏     | 1513.53/3600 [07:18<10:04,  3.45s/s]"
          ]
        },
        {
          "output_type": "stream",
          "name": "stdout",
          "text": [
            "frame=45393 fps=104 q=29.0 size=  201984kB time=00:25:13.53 bitrate=1093.2kbits/s dup=34 drop=0 speed=3.46x\n"
          ]
        },
        {
          "output_type": "stream",
          "name": "stderr",
          "text": [
            "\rProcessing video:  42%|████▏     | 1515.79/3600 [07:19<10:03,  3.45s/s]"
          ]
        },
        {
          "output_type": "stream",
          "name": "stdout",
          "text": [
            "frame=45461 fps=104 q=29.0 size=  202240kB time=00:25:15.79 bitrate=1093.0kbits/s dup=34 drop=0 speed=3.46x\n"
          ]
        },
        {
          "output_type": "stream",
          "name": "stderr",
          "text": [
            "\rProcessing video:  42%|████▏     | 1517.97/3600 [07:19<10:03,  3.45s/s]"
          ]
        },
        {
          "output_type": "stream",
          "name": "stdout",
          "text": [
            "frame=45526 fps=104 q=29.0 size=  202240kB time=00:25:17.97 bitrate=1091.4kbits/s dup=34 drop=0 speed=3.46x\n"
          ]
        },
        {
          "output_type": "stream",
          "name": "stderr",
          "text": [
            "\rProcessing video:  42%|████▏     | 1520.06/3600 [07:20<10:02,  3.45s/s]"
          ]
        },
        {
          "output_type": "stream",
          "name": "stdout",
          "text": [
            "frame=45589 fps=104 q=29.0 size=  202752kB time=00:25:20.06 bitrate=1092.7kbits/s dup=34 drop=0 speed=3.46x\n"
          ]
        },
        {
          "output_type": "stream",
          "name": "stderr",
          "text": [
            "\rProcessing video:  42%|████▏     | 1522.15/3600 [07:20<10:01,  3.45s/s]"
          ]
        },
        {
          "output_type": "stream",
          "name": "stdout",
          "text": [
            "frame=45652 fps=104 q=29.0 size=  202752kB time=00:25:22.15 bitrate=1091.2kbits/s dup=34 drop=0 speed=3.46x\n"
          ]
        },
        {
          "output_type": "stream",
          "name": "stderr",
          "text": [
            "\rProcessing video:  42%|████▏     | 1524.22/3600 [07:21<10:00,  3.45s/s]"
          ]
        },
        {
          "output_type": "stream",
          "name": "stdout",
          "text": [
            "frame=45714 fps=104 q=29.0 size=  203008kB time=00:25:24.22 bitrate=1091.1kbits/s dup=34 drop=0 speed=3.46x\n"
          ]
        },
        {
          "output_type": "stream",
          "name": "stderr",
          "text": [
            "\rProcessing video:  42%|████▏     | 1526.4/3600 [07:21<10:00,  3.46s/s] "
          ]
        },
        {
          "output_type": "stream",
          "name": "stdout",
          "text": [
            "frame=45779 fps=104 q=29.0 size=  203264kB time=00:25:26.40 bitrate=1090.9kbits/s dup=34 drop=0 speed=3.46x\n"
          ]
        },
        {
          "output_type": "stream",
          "name": "stderr",
          "text": [
            "\rProcessing video:  42%|████▏     | 1528.83/3600 [07:22<09:59,  3.46s/s]"
          ]
        },
        {
          "output_type": "stream",
          "name": "stdout",
          "text": [
            "frame=45852 fps=104 q=29.0 size=  203520kB time=00:25:28.83 bitrate=1090.5kbits/s dup=34 drop=0 speed=3.46x\n"
          ]
        },
        {
          "output_type": "stream",
          "name": "stderr",
          "text": [
            "\rProcessing video:  43%|████▎     | 1531.37/3600 [07:22<09:58,  3.46s/s]"
          ]
        },
        {
          "output_type": "stream",
          "name": "stdout",
          "text": [
            "frame=45928 fps=104 q=29.0 size=  203776kB time=00:25:31.37 bitrate=1090.1kbits/s dup=34 drop=0 speed=3.47x\n"
          ]
        },
        {
          "output_type": "stream",
          "name": "stderr",
          "text": [
            "\rProcessing video:  43%|████▎     | 1533.65/3600 [07:23<09:57,  3.46s/s]"
          ]
        },
        {
          "output_type": "stream",
          "name": "stdout",
          "text": [
            "frame=45997 fps=104 q=29.0 size=  203776kB time=00:25:33.65 bitrate=1088.5kbits/s dup=34 drop=0 speed=3.47x\n"
          ]
        },
        {
          "output_type": "stream",
          "name": "stderr",
          "text": [
            "\rProcessing video:  43%|████▎     | 1535.25/3600 [07:23<09:56,  3.46s/s]"
          ]
        },
        {
          "output_type": "stream",
          "name": "stdout",
          "text": [
            "frame=46045 fps=104 q=29.0 size=  204032kB time=00:25:35.25 bitrate=1088.7kbits/s dup=34 drop=0 speed=3.47x\n"
          ]
        },
        {
          "output_type": "stream",
          "name": "stderr",
          "text": [
            "\rProcessing video:  43%|████▎     | 1536.64/3600 [07:24<09:56,  3.46s/s]"
          ]
        },
        {
          "output_type": "stream",
          "name": "stdout",
          "text": [
            "frame=46086 fps=104 q=29.0 size=  204544kB time=00:25:36.64 bitrate=1090.4kbits/s dup=34 drop=0 speed=3.47x\n"
          ]
        },
        {
          "output_type": "stream",
          "name": "stderr",
          "text": [
            "\rProcessing video:  43%|████▎     | 1537.92/3600 [07:24<09:56,  3.46s/s]"
          ]
        },
        {
          "output_type": "stream",
          "name": "stdout",
          "text": [
            "frame=46125 fps=104 q=29.0 size=  204800kB time=00:25:37.92 bitrate=1090.9kbits/s dup=34 drop=0 speed=3.46x\n"
          ]
        },
        {
          "output_type": "stream",
          "name": "stderr",
          "text": [
            "\rProcessing video:  43%|████▎     | 1539.26/3600 [07:25<09:56,  3.46s/s]"
          ]
        },
        {
          "output_type": "stream",
          "name": "stdout",
          "text": [
            "frame=46165 fps=104 q=29.0 size=  205056kB time=00:25:39.26 bitrate=1091.3kbits/s dup=34 drop=0 speed=3.46x\n"
          ]
        },
        {
          "output_type": "stream",
          "name": "stderr",
          "text": [
            "\rProcessing video:  43%|████▎     | 1540.6/3600 [07:25<09:55,  3.46s/s] "
          ]
        },
        {
          "output_type": "stream",
          "name": "stdout",
          "text": [
            "frame=46205 fps=104 q=29.0 size=  205568kB time=00:25:40.60 bitrate=1093.1kbits/s dup=34 drop=0 speed=3.46x\n"
          ]
        },
        {
          "output_type": "stream",
          "name": "stderr",
          "text": [
            "\rProcessing video:  43%|████▎     | 1541.97/3600 [07:26<09:55,  3.45s/s]"
          ]
        },
        {
          "output_type": "stream",
          "name": "stdout",
          "text": [
            "frame=46246 fps=104 q=29.0 size=  205824kB time=00:25:41.97 bitrate=1093.5kbits/s dup=34 drop=0 speed=3.46x\n"
          ]
        },
        {
          "output_type": "stream",
          "name": "stderr",
          "text": [
            "\rProcessing video:  43%|████▎     | 1543.23/3600 [07:26<09:55,  3.45s/s]"
          ]
        },
        {
          "output_type": "stream",
          "name": "stdout",
          "text": [
            "frame=46284 fps=104 q=29.0 size=  206080kB time=00:25:43.23 bitrate=1093.9kbits/s dup=34 drop=0 speed=3.46x\n"
          ]
        },
        {
          "output_type": "stream",
          "name": "stderr",
          "text": [
            "\rProcessing video:  43%|████▎     | 1544.53/3600 [07:27<09:55,  3.45s/s]"
          ]
        },
        {
          "output_type": "stream",
          "name": "stdout",
          "text": [
            "frame=46323 fps=104 q=29.0 size=  206336kB time=00:25:44.53 bitrate=1094.4kbits/s dup=34 drop=0 speed=3.46x\n"
          ]
        },
        {
          "output_type": "stream",
          "name": "stderr",
          "text": [
            "\rProcessing video:  43%|████▎     | 1545.7/3600 [07:27<09:55,  3.45s/s] "
          ]
        },
        {
          "output_type": "stream",
          "name": "stdout",
          "text": [
            "frame=46358 fps=104 q=29.0 size=  206336kB time=00:25:45.70 bitrate=1093.5kbits/s dup=34 drop=0 speed=3.46x\n"
          ]
        },
        {
          "output_type": "stream",
          "name": "stderr",
          "text": [
            "\rProcessing video:  43%|████▎     | 1547.0/3600 [07:28<09:55,  3.45s/s]"
          ]
        },
        {
          "output_type": "stream",
          "name": "stdout",
          "text": [
            "frame=46397 fps=104 q=29.0 size=  206592kB time=00:25:47.00 bitrate=1094.0kbits/s dup=34 drop=0 speed=3.46x\n"
          ]
        },
        {
          "output_type": "stream",
          "name": "stderr",
          "text": [
            "\rProcessing video:  43%|████▎     | 1548.5/3600 [07:28<09:54,  3.45s/s]"
          ]
        },
        {
          "output_type": "stream",
          "name": "stdout",
          "text": [
            "frame=46442 fps=104 q=29.0 size=  206848kB time=00:25:48.50 bitrate=1094.3kbits/s dup=34 drop=0 speed=3.46x\n"
          ]
        },
        {
          "output_type": "stream",
          "name": "stderr",
          "text": [
            "\rProcessing video:  43%|████▎     | 1550.4/3600 [07:29<09:54,  3.45s/s]"
          ]
        },
        {
          "output_type": "stream",
          "name": "stdout",
          "text": [
            "frame=46499 fps=104 q=29.0 size=  207104kB time=00:25:50.40 bitrate=1094.3kbits/s dup=34 drop=0 speed=3.46x\n"
          ]
        },
        {
          "output_type": "stream",
          "name": "stderr",
          "text": [
            "\rProcessing video:  43%|████▎     | 1552.12/3600 [07:29<09:53,  3.45s/s]"
          ]
        },
        {
          "output_type": "stream",
          "name": "stdout",
          "text": [
            "frame=46551 fps=104 q=29.0 size=  207104kB time=00:25:52.12 bitrate=1093.1kbits/s dup=34 drop=0 speed=3.46x\n"
          ]
        },
        {
          "output_type": "stream",
          "name": "stderr",
          "text": [
            "\rProcessing video:  43%|████▎     | 1554.0/3600 [07:30<09:53,  3.45s/s] "
          ]
        },
        {
          "output_type": "stream",
          "name": "stdout",
          "text": [
            "frame=46607 fps=104 q=29.0 size=  207360kB time=00:25:54.00 bitrate=1093.1kbits/s dup=34 drop=0 speed=3.46x\n"
          ]
        },
        {
          "output_type": "stream",
          "name": "stderr",
          "text": [
            "\rProcessing video:  43%|████▎     | 1555.37/3600 [07:30<09:52,  3.45s/s]"
          ]
        },
        {
          "output_type": "stream",
          "name": "stdout",
          "text": [
            "frame=46648 fps=104 q=29.0 size=  207616kB time=00:25:55.37 bitrate=1093.5kbits/s dup=34 drop=0 speed=3.46x\n"
          ]
        },
        {
          "output_type": "stream",
          "name": "stderr",
          "text": [
            "\rProcessing video:  43%|████▎     | 1556.77/3600 [07:31<09:52,  3.45s/s]"
          ]
        },
        {
          "output_type": "stream",
          "name": "stdout",
          "text": [
            "frame=46690 fps=104 q=29.0 size=  207872kB time=00:25:56.77 bitrate=1093.9kbits/s dup=34 drop=0 speed=3.46x\n"
          ]
        },
        {
          "output_type": "stream",
          "name": "stderr",
          "text": [
            "\rProcessing video:  43%|████▎     | 1558.4/3600 [07:31<09:52,  3.45s/s] "
          ]
        },
        {
          "output_type": "stream",
          "name": "stdout",
          "text": [
            "frame=46739 fps=104 q=29.0 size=  208128kB time=00:25:58.40 bitrate=1094.1kbits/s dup=34 drop=0 speed=3.46x\n"
          ]
        },
        {
          "output_type": "stream",
          "name": "stderr",
          "text": [
            "\rProcessing video:  43%|████▎     | 1560.42/3600 [07:32<09:51,  3.45s/s]"
          ]
        },
        {
          "output_type": "stream",
          "name": "stdout",
          "text": [
            "frame=46800 fps=104 q=29.0 size=  208384kB time=00:26:00.42 bitrate=1094.0kbits/s dup=34 drop=0 speed=3.46x\n"
          ]
        },
        {
          "output_type": "stream",
          "name": "stderr",
          "text": [
            "\rProcessing video:  43%|████▎     | 1562.56/3600 [07:32<09:50,  3.45s/s]"
          ]
        },
        {
          "output_type": "stream",
          "name": "stdout",
          "text": [
            "frame=46864 fps=104 q=29.0 size=  208384kB time=00:26:02.56 bitrate=1092.5kbits/s dup=34 drop=0 speed=3.46x\n"
          ]
        },
        {
          "output_type": "stream",
          "name": "stderr",
          "text": [
            "\rProcessing video:  43%|████▎     | 1564.97/3600 [07:33<09:49,  3.45s/s]"
          ]
        },
        {
          "output_type": "stream",
          "name": "stdout",
          "text": [
            "frame=46936 fps=104 q=29.0 size=  208640kB time=00:26:04.97 bitrate=1092.1kbits/s dup=34 drop=0 speed=3.46x\n"
          ]
        },
        {
          "output_type": "stream",
          "name": "stderr",
          "text": [
            "\rProcessing video:  44%|████▎     | 1567.46/3600 [07:33<09:48,  3.45s/s]"
          ]
        },
        {
          "output_type": "stream",
          "name": "stdout",
          "text": [
            "frame=47011 fps=104 q=29.0 size=  208640kB time=00:26:07.46 bitrate=1090.4kbits/s dup=34 drop=0 speed=3.46x\n"
          ]
        },
        {
          "output_type": "stream",
          "name": "stderr",
          "text": [
            "\rProcessing video:  44%|████▎     | 1569.83/3600 [07:34<09:47,  3.45s/s]"
          ]
        },
        {
          "output_type": "stream",
          "name": "stdout",
          "text": [
            "frame=47082 fps=104 q=29.0 size=  208896kB time=00:26:09.83 bitrate=1090.1kbits/s dup=34 drop=0 speed=3.46x\n"
          ]
        },
        {
          "output_type": "stream",
          "name": "stderr",
          "text": [
            "\rProcessing video:  44%|████▎     | 1571.92/3600 [07:34<09:46,  3.46s/s]"
          ]
        },
        {
          "output_type": "stream",
          "name": "stdout",
          "text": [
            "frame=47145 fps=104 q=29.0 size=  208896kB time=00:26:11.92 bitrate=1088.6kbits/s dup=34 drop=0 speed=3.46x\n"
          ]
        },
        {
          "output_type": "stream",
          "name": "stderr",
          "text": [
            "\rProcessing video:  44%|████▎     | 1574.33/3600 [07:35<09:46,  3.46s/s]"
          ]
        },
        {
          "output_type": "stream",
          "name": "stdout",
          "text": [
            "frame=47217 fps=104 q=29.0 size=  209152kB time=00:26:14.33 bitrate=1088.3kbits/s dup=34 drop=0 speed=3.46x\n"
          ]
        },
        {
          "output_type": "stream",
          "name": "stderr",
          "text": [
            "\rProcessing video:  44%|████▍     | 1577.0/3600 [07:35<09:44,  3.46s/s] "
          ]
        },
        {
          "output_type": "stream",
          "name": "stdout",
          "text": [
            "frame=47297 fps=104 q=29.0 size=  209408kB time=00:26:17.00 bitrate=1087.8kbits/s dup=34 drop=0 speed=3.47x\n"
          ]
        },
        {
          "output_type": "stream",
          "name": "stderr",
          "text": [
            "\rProcessing video:  44%|████▍     | 1579.69/3600 [07:36<09:43,  3.46s/s]"
          ]
        },
        {
          "output_type": "stream",
          "name": "stdout",
          "text": [
            "frame=47378 fps=104 q=29.0 size=  209408kB time=00:26:19.69 bitrate=1086.0kbits/s dup=34 drop=0 speed=3.47x\n"
          ]
        },
        {
          "output_type": "stream",
          "name": "stderr",
          "text": [
            "\rProcessing video:  44%|████▍     | 1581.67/3600 [07:36<09:43,  3.46s/s]"
          ]
        },
        {
          "output_type": "stream",
          "name": "stdout",
          "text": [
            "frame=47437 fps=104 q=29.0 size=  209664kB time=00:26:21.67 bitrate=1085.9kbits/s dup=34 drop=0 speed=3.47x\n"
          ]
        },
        {
          "output_type": "stream",
          "name": "stderr",
          "text": [
            "\rProcessing video:  44%|████▍     | 1583.48/3600 [07:37<09:42,  3.46s/s]"
          ]
        },
        {
          "output_type": "stream",
          "name": "stdout",
          "text": [
            "frame=47492 fps=104 q=29.0 size=  209920kB time=00:26:23.48 bitrate=1086.0kbits/s dup=34 drop=0 speed=3.47x\n"
          ]
        },
        {
          "output_type": "stream",
          "name": "stderr",
          "text": [
            "\rProcessing video:  44%|████▍     | 1585.3/3600 [07:38<09:42,  3.46s/s] "
          ]
        },
        {
          "output_type": "stream",
          "name": "stdout",
          "text": [
            "frame=47546 fps=104 q=29.0 size=  210176kB time=00:26:25.30 bitrate=1086.1kbits/s dup=34 drop=0 speed=3.47x\n"
          ]
        },
        {
          "output_type": "stream",
          "name": "stderr",
          "text": [
            "\rProcessing video:  44%|████▍     | 1586.85/3600 [07:38<09:41,  3.46s/s]"
          ]
        },
        {
          "output_type": "stream",
          "name": "stdout",
          "text": [
            "frame=47593 fps=104 q=29.0 size=  210432kB time=00:26:26.85 bitrate=1086.3kbits/s dup=34 drop=0 speed=3.47x\n"
          ]
        },
        {
          "output_type": "stream",
          "name": "stderr",
          "text": [
            "\rProcessing video:  44%|████▍     | 1588.22/3600 [07:39<09:41,  3.46s/s]"
          ]
        },
        {
          "output_type": "stream",
          "name": "stdout",
          "text": [
            "frame=47634 fps=104 q=29.0 size=  210688kB time=00:26:28.22 bitrate=1086.7kbits/s dup=34 drop=0 speed=3.47x\n"
          ]
        },
        {
          "output_type": "stream",
          "name": "stderr",
          "text": [
            "\rProcessing video:  44%|████▍     | 1589.46/3600 [07:39<09:41,  3.46s/s]"
          ]
        },
        {
          "output_type": "stream",
          "name": "stdout",
          "text": [
            "frame=47671 fps=104 q=29.0 size=  210944kB time=00:26:29.46 bitrate=1087.2kbits/s dup=34 drop=0 speed=3.47x\n"
          ]
        },
        {
          "output_type": "stream",
          "name": "stderr",
          "text": [
            "\rProcessing video:  44%|████▍     | 1590.69/3600 [07:40<09:41,  3.46s/s]"
          ]
        },
        {
          "output_type": "stream",
          "name": "stdout",
          "text": [
            "frame=47708 fps=104 q=29.0 size=  211200kB time=00:26:30.69 bitrate=1087.7kbits/s dup=34 drop=0 speed=3.46x\n"
          ]
        },
        {
          "output_type": "stream",
          "name": "stderr",
          "text": [
            "\rProcessing video:  44%|████▍     | 1591.95/3600 [07:40<09:40,  3.46s/s]"
          ]
        },
        {
          "output_type": "stream",
          "name": "stdout",
          "text": [
            "frame=47746 fps=104 q=29.0 size=  211456kB time=00:26:31.95 bitrate=1088.1kbits/s dup=34 drop=0 speed=3.46x\n"
          ]
        },
        {
          "output_type": "stream",
          "name": "stderr",
          "text": [
            "\rProcessing video:  44%|████▍     | 1593.19/3600 [07:41<09:40,  3.46s/s]"
          ]
        },
        {
          "output_type": "stream",
          "name": "stdout",
          "text": [
            "frame=47783 fps=104 q=29.0 size=  211712kB time=00:26:33.19 bitrate=1088.6kbits/s dup=34 drop=0 speed=3.46x\n"
          ]
        },
        {
          "output_type": "stream",
          "name": "stderr",
          "text": [
            "\rProcessing video:  44%|████▍     | 1594.45/3600 [07:41<09:40,  3.45s/s]"
          ]
        },
        {
          "output_type": "stream",
          "name": "stdout",
          "text": [
            "frame=47821 fps=104 q=29.0 size=  211968kB time=00:26:34.45 bitrate=1089.1kbits/s dup=34 drop=0 speed=3.46x\n"
          ]
        },
        {
          "output_type": "stream",
          "name": "stderr",
          "text": [
            "\rProcessing video:  44%|████▍     | 1595.84/3600 [07:42<09:40,  3.45s/s]"
          ]
        },
        {
          "output_type": "stream",
          "name": "stdout",
          "text": [
            "frame=47862 fps=104 q=29.0 size=  212224kB time=00:26:35.84 bitrate=1089.4kbits/s dup=34 drop=0 speed=3.46x\n"
          ]
        },
        {
          "output_type": "stream",
          "name": "stderr",
          "text": [
            "\rProcessing video:  44%|████▍     | 1597.33/3600 [07:42<09:39,  3.45s/s]"
          ]
        },
        {
          "output_type": "stream",
          "name": "stdout",
          "text": [
            "frame=47907 fps=104 q=29.0 size=  212480kB time=00:26:37.33 bitrate=1089.7kbits/s dup=34 drop=0 speed=3.46x\n"
          ]
        },
        {
          "output_type": "stream",
          "name": "stderr",
          "text": [
            "\rProcessing video:  44%|████▍     | 1599.06/3600 [07:43<09:39,  3.45s/s]"
          ]
        },
        {
          "output_type": "stream",
          "name": "stdout",
          "text": [
            "frame=47959 fps=104 q=29.0 size=  212736kB time=00:26:39.06 bitrate=1089.8kbits/s dup=34 drop=0 speed=3.46x\n"
          ]
        },
        {
          "output_type": "stream",
          "name": "stderr",
          "text": [
            "\rProcessing video:  44%|████▍     | 1600.76/3600 [07:43<09:38,  3.45s/s]"
          ]
        },
        {
          "output_type": "stream",
          "name": "stdout",
          "text": [
            "frame=48010 fps=104 q=29.0 size=  212992kB time=00:26:40.76 bitrate=1090.0kbits/s dup=34 drop=0 speed=3.46x\n"
          ]
        },
        {
          "output_type": "stream",
          "name": "stderr",
          "text": [
            "\rProcessing video:  45%|████▍     | 1602.3/3600 [07:44<09:38,  3.45s/s] "
          ]
        },
        {
          "output_type": "stream",
          "name": "stdout",
          "text": [
            "frame=48056 fps=104 q=29.0 size=  213248kB time=00:26:42.30 bitrate=1090.3kbits/s dup=34 drop=0 speed=3.46x\n"
          ]
        },
        {
          "output_type": "stream",
          "name": "stderr",
          "text": [
            "\rProcessing video:  45%|████▍     | 1603.75/3600 [07:44<09:38,  3.45s/s]"
          ]
        },
        {
          "output_type": "stream",
          "name": "stdout",
          "text": [
            "frame=48100 fps=104 q=29.0 size=  213504kB time=00:26:43.75 bitrate=1090.6kbits/s dup=34 drop=0 speed=3.46x\n"
          ]
        },
        {
          "output_type": "stream",
          "name": "stderr",
          "text": [
            "\rProcessing video:  45%|████▍     | 1605.56/3600 [07:45<09:37,  3.45s/s]"
          ]
        },
        {
          "output_type": "stream",
          "name": "stdout",
          "text": [
            "frame=48154 fps=104 q=29.0 size=  213760kB time=00:26:45.56 bitrate=1090.7kbits/s dup=34 drop=0 speed=3.46x\n"
          ]
        },
        {
          "output_type": "stream",
          "name": "stderr",
          "text": [
            "\rProcessing video:  45%|████▍     | 1607.76/3600 [07:45<09:36,  3.45s/s]"
          ]
        },
        {
          "output_type": "stream",
          "name": "stdout",
          "text": [
            "frame=48220 fps=104 q=29.0 size=  214016kB time=00:26:47.76 bitrate=1090.5kbits/s dup=34 drop=0 speed=3.46x\n"
          ]
        },
        {
          "output_type": "stream",
          "name": "stderr",
          "text": [
            "\rProcessing video:  45%|████▍     | 1609.89/3600 [07:46<09:36,  3.45s/s]"
          ]
        },
        {
          "output_type": "stream",
          "name": "stdout",
          "text": [
            "frame=48284 fps=104 q=29.0 size=  214272kB time=00:26:49.89 bitrate=1090.3kbits/s dup=34 drop=0 speed=3.46x\n"
          ]
        },
        {
          "output_type": "stream",
          "name": "stderr",
          "text": [
            "\rProcessing video:  45%|████▍     | 1611.26/3600 [07:46<09:35,  3.45s/s]"
          ]
        },
        {
          "output_type": "stream",
          "name": "stdout",
          "text": [
            "frame=48325 fps=104 q=29.0 size=  214528kB time=00:26:51.26 bitrate=1090.7kbits/s dup=34 drop=0 speed=3.46x\n"
          ]
        },
        {
          "output_type": "stream",
          "name": "stderr",
          "text": [
            "\rProcessing video:  45%|████▍     | 1612.5/3600 [07:47<09:35,  3.45s/s] "
          ]
        },
        {
          "output_type": "stream",
          "name": "stdout",
          "text": [
            "frame=48362 fps=104 q=29.0 size=  214784kB time=00:26:52.50 bitrate=1091.2kbits/s dup=34 drop=0 speed=3.46x\n"
          ]
        },
        {
          "output_type": "stream",
          "name": "stderr",
          "text": [
            "\rProcessing video:  45%|████▍     | 1613.67/3600 [07:47<09:35,  3.45s/s]"
          ]
        },
        {
          "output_type": "stream",
          "name": "stdout",
          "text": [
            "frame=48397 fps=104 q=29.0 size=  215040kB time=00:26:53.67 bitrate=1091.7kbits/s dup=34 drop=0 speed=3.46x\n"
          ]
        },
        {
          "output_type": "stream",
          "name": "stderr",
          "text": [
            "\rProcessing video:  45%|████▍     | 1614.57/3600 [07:48<09:35,  3.45s/s]"
          ]
        },
        {
          "output_type": "stream",
          "name": "stdout",
          "text": [
            "frame=48424 fps=104 q=29.0 size=  215296kB time=00:26:54.57 bitrate=1092.4kbits/s dup=34 drop=0 speed=3.46x\n"
          ]
        },
        {
          "output_type": "stream",
          "name": "stderr",
          "text": [
            "\rProcessing video:  45%|████▍     | 1615.65/3600 [07:48<09:35,  3.45s/s]"
          ]
        },
        {
          "output_type": "stream",
          "name": "stdout",
          "text": [
            "frame=48457 fps=104 q=29.0 size=  215552kB time=00:26:55.65 bitrate=1092.9kbits/s dup=34 drop=0 speed=3.45x\n"
          ]
        },
        {
          "output_type": "stream",
          "name": "stderr",
          "text": [
            "\rProcessing video:  45%|████▍     | 1616.76/3600 [07:49<09:35,  3.45s/s]"
          ]
        },
        {
          "output_type": "stream",
          "name": "stdout",
          "text": [
            "frame=48490 fps=104 q=29.0 size=  215808kB time=00:26:56.76 bitrate=1093.5kbits/s dup=34 drop=0 speed=3.45x\n"
          ]
        },
        {
          "output_type": "stream",
          "name": "stderr",
          "text": [
            "\rProcessing video:  45%|████▍     | 1618.02/3600 [07:49<09:35,  3.45s/s]"
          ]
        },
        {
          "output_type": "stream",
          "name": "stdout",
          "text": [
            "frame=48528 fps=104 q=29.0 size=  216064kB time=00:26:58.02 bitrate=1093.9kbits/s dup=34 drop=0 speed=3.45x\n"
          ]
        },
        {
          "output_type": "stream",
          "name": "stderr",
          "text": [
            "\rProcessing video:  45%|████▍     | 1619.66/3600 [07:50<09:34,  3.45s/s]"
          ]
        },
        {
          "output_type": "stream",
          "name": "stdout",
          "text": [
            "frame=48577 fps=104 q=29.0 size=  216064kB time=00:26:59.66 bitrate=1092.8kbits/s dup=34 drop=0 speed=3.45x\n"
          ]
        },
        {
          "output_type": "stream",
          "name": "stderr",
          "text": [
            "\rProcessing video:  45%|████▌     | 1621.46/3600 [07:50<09:34,  3.45s/s]"
          ]
        },
        {
          "output_type": "stream",
          "name": "stdout",
          "text": [
            "frame=48631 fps=104 q=29.0 size=  216320kB time=00:27:01.46 bitrate=1092.9kbits/s dup=34 drop=0 speed=3.45x\n"
          ]
        },
        {
          "output_type": "stream",
          "name": "stderr",
          "text": [
            "\rProcessing video:  45%|████▌     | 1623.25/3600 [07:51<09:33,  3.45s/s]"
          ]
        },
        {
          "output_type": "stream",
          "name": "stdout",
          "text": [
            "frame=48685 fps=104 q=29.0 size=  216576kB time=00:27:03.25 bitrate=1093.0kbits/s dup=34 drop=0 speed=3.45x\n"
          ]
        },
        {
          "output_type": "stream",
          "name": "stderr",
          "text": [
            "\rProcessing video:  45%|████▌     | 1625.0/3600 [07:51<09:33,  3.45s/s] "
          ]
        },
        {
          "output_type": "stream",
          "name": "stdout",
          "text": [
            "frame=48737 fps=104 q=29.0 size=  216832kB time=00:27:05.00 bitrate=1093.1kbits/s dup=34 drop=0 speed=3.45x\n"
          ]
        },
        {
          "output_type": "stream",
          "name": "stderr",
          "text": [
            "\rProcessing video:  45%|████▌     | 1627.15/3600 [07:52<09:32,  3.45s/s]"
          ]
        },
        {
          "output_type": "stream",
          "name": "stdout",
          "text": [
            "frame=48802 fps=104 q=29.0 size=  217088kB time=00:27:07.15 bitrate=1092.9kbits/s dup=34 drop=0 speed=3.45x\n"
          ]
        },
        {
          "output_type": "stream",
          "name": "stderr",
          "text": [
            "\rProcessing video:  45%|████▌     | 1629.44/3600 [07:52<09:31,  3.45s/s]"
          ]
        },
        {
          "output_type": "stream",
          "name": "stdout",
          "text": [
            "frame=48870 fps=104 q=29.0 size=  217344kB time=00:27:09.44 bitrate=1092.7kbits/s dup=34 drop=0 speed=3.45x\n"
          ]
        },
        {
          "output_type": "stream",
          "name": "stderr",
          "text": [
            "\rProcessing video:  45%|████▌     | 1631.63/3600 [07:53<09:30,  3.45s/s]"
          ]
        },
        {
          "output_type": "stream",
          "name": "stdout",
          "text": [
            "frame=48936 fps=104 q=29.0 size=  217600kB time=00:27:11.63 bitrate=1092.5kbits/s dup=34 drop=0 speed=3.45x\n"
          ]
        },
        {
          "output_type": "stream",
          "name": "stderr",
          "text": [
            "\rProcessing video:  45%|████▌     | 1633.83/3600 [07:53<09:29,  3.45s/s]"
          ]
        },
        {
          "output_type": "stream",
          "name": "stdout",
          "text": [
            "frame=49002 fps=104 q=29.0 size=  217856kB time=00:27:13.83 bitrate=1092.3kbits/s dup=34 drop=0 speed=3.46x\n"
          ]
        },
        {
          "output_type": "stream",
          "name": "stderr",
          "text": [
            "\rProcessing video:  45%|████▌     | 1636.2/3600 [07:54<09:29,  3.45s/s] "
          ]
        },
        {
          "output_type": "stream",
          "name": "stdout",
          "text": [
            "frame=49073 fps=104 q=29.0 size=  218112kB time=00:27:16.20 bitrate=1092.0kbits/s dup=34 drop=0 speed=3.46x\n"
          ]
        },
        {
          "output_type": "stream",
          "name": "stderr",
          "text": [
            "\rProcessing video:  46%|████▌     | 1638.59/3600 [07:54<09:28,  3.45s/s]"
          ]
        },
        {
          "output_type": "stream",
          "name": "stdout",
          "text": [
            "frame=49145 fps=104 q=29.0 size=  218112kB time=00:27:18.59 bitrate=1090.4kbits/s dup=34 drop=0 speed=3.46x\n"
          ]
        },
        {
          "output_type": "stream",
          "name": "stderr",
          "text": [
            "\rProcessing video:  46%|████▌     | 1641.0/3600 [07:55<09:27,  3.45s/s] "
          ]
        },
        {
          "output_type": "stream",
          "name": "stdout",
          "text": [
            "frame=49217 fps=104 q=29.0 size=  218368kB time=00:27:21.00 bitrate=1090.1kbits/s dup=34 drop=0 speed=3.46x\n"
          ]
        },
        {
          "output_type": "stream",
          "name": "stderr",
          "text": [
            "\rProcessing video:  46%|████▌     | 1642.79/3600 [07:55<09:26,  3.45s/s]"
          ]
        },
        {
          "output_type": "stream",
          "name": "stdout",
          "text": [
            "frame=49271 fps=104 q=29.0 size=  218624kB time=00:27:22.79 bitrate=1090.2kbits/s dup=34 drop=0 speed=3.46x\n"
          ]
        },
        {
          "output_type": "stream",
          "name": "stderr",
          "text": [
            "\rProcessing video:  46%|████▌     | 1644.09/3600 [07:56<09:26,  3.45s/s]"
          ]
        },
        {
          "output_type": "stream",
          "name": "stdout",
          "text": [
            "frame=49310 fps=104 q=29.0 size=  218880kB time=00:27:24.09 bitrate=1090.6kbits/s dup=34 drop=0 speed=3.46x\n"
          ]
        },
        {
          "output_type": "stream",
          "name": "stderr",
          "text": [
            "\rProcessing video:  46%|████▌     | 1645.35/3600 [07:56<09:26,  3.45s/s]"
          ]
        },
        {
          "output_type": "stream",
          "name": "stdout",
          "text": [
            "frame=49348 fps=104 q=29.0 size=  219136kB time=00:27:25.35 bitrate=1091.0kbits/s dup=34 drop=0 speed=3.46x\n"
          ]
        },
        {
          "output_type": "stream",
          "name": "stderr",
          "text": [
            "\rProcessing video:  46%|████▌     | 1646.46/3600 [07:57<09:26,  3.45s/s]"
          ]
        },
        {
          "output_type": "stream",
          "name": "stdout",
          "text": [
            "frame=49381 fps=104 q=29.0 size=  219648kB time=00:27:26.46 bitrate=1092.9kbits/s dup=34 drop=0 speed=3.46x\n"
          ]
        },
        {
          "output_type": "stream",
          "name": "stderr",
          "text": [
            "\rProcessing video:  46%|████▌     | 1647.65/3600 [07:57<09:26,  3.45s/s]"
          ]
        },
        {
          "output_type": "stream",
          "name": "stdout",
          "text": [
            "frame=49417 fps=104 q=29.0 size=  219904kB time=00:27:27.65 bitrate=1093.3kbits/s dup=34 drop=0 speed=3.46x\n"
          ]
        },
        {
          "output_type": "stream",
          "name": "stderr",
          "text": [
            "\rProcessing video:  46%|████▌     | 1648.89/3600 [07:58<09:25,  3.45s/s]"
          ]
        },
        {
          "output_type": "stream",
          "name": "stdout",
          "text": [
            "frame=49454 fps=104 q=29.0 size=  220160kB time=00:27:28.89 bitrate=1093.8kbits/s dup=34 drop=0 speed=3.45x\n"
          ]
        },
        {
          "output_type": "stream",
          "name": "stderr",
          "text": [
            "\rProcessing video:  46%|████▌     | 1650.13/3600 [07:58<09:25,  3.45s/s]"
          ]
        },
        {
          "output_type": "stream",
          "name": "stdout",
          "text": [
            "frame=49491 fps=104 q=29.0 size=  220416kB time=00:27:30.13 bitrate=1094.2kbits/s dup=34 drop=0 speed=3.45x\n"
          ]
        },
        {
          "output_type": "stream",
          "name": "stderr",
          "text": [
            "\rProcessing video:  46%|████▌     | 1651.49/3600 [07:59<09:25,  3.45s/s]"
          ]
        },
        {
          "output_type": "stream",
          "name": "stdout",
          "text": [
            "frame=49532 fps=104 q=29.0 size=  220672kB time=00:27:31.49 bitrate=1094.6kbits/s dup=34 drop=0 speed=3.45x\n"
          ]
        },
        {
          "output_type": "stream",
          "name": "stderr",
          "text": [
            "\rProcessing video:  46%|████▌     | 1652.9/3600 [07:59<09:25,  3.45s/s] "
          ]
        },
        {
          "output_type": "stream",
          "name": "stdout",
          "text": [
            "frame=49574 fps=104 q=29.0 size=  220928kB time=00:27:32.90 bitrate=1094.9kbits/s dup=34 drop=0 speed=3.45x\n"
          ]
        },
        {
          "output_type": "stream",
          "name": "stderr",
          "text": [
            "\rProcessing video:  46%|████▌     | 1654.4/3600 [08:00<09:24,  3.45s/s]"
          ]
        },
        {
          "output_type": "stream",
          "name": "stdout",
          "text": [
            "frame=49619 fps=104 q=29.0 size=  221184kB time=00:27:34.40 bitrate=1095.2kbits/s dup=34 drop=0 speed=3.45x\n"
          ]
        },
        {
          "output_type": "stream",
          "name": "stderr",
          "text": [
            "\rProcessing video:  46%|████▌     | 1656.06/3600 [08:00<09:24,  3.44s/s]"
          ]
        },
        {
          "output_type": "stream",
          "name": "stdout",
          "text": [
            "frame=49669 fps=104 q=29.0 size=  221440kB time=00:27:36.06 bitrate=1095.4kbits/s dup=34 drop=0 speed=3.45x\n"
          ]
        },
        {
          "output_type": "stream",
          "name": "stderr",
          "text": [
            "\rProcessing video:  46%|████▌     | 1657.66/3600 [08:01<09:23,  3.44s/s]"
          ]
        },
        {
          "output_type": "stream",
          "name": "stdout",
          "text": [
            "frame=49717 fps=104 q=29.0 size=  221696kB time=00:27:37.66 bitrate=1095.6kbits/s dup=34 drop=0 speed=3.45x\n"
          ]
        },
        {
          "output_type": "stream",
          "name": "stderr",
          "text": [
            "\rProcessing video:  46%|████▌     | 1659.39/3600 [08:01<09:23,  3.44s/s]"
          ]
        },
        {
          "output_type": "stream",
          "name": "stdout",
          "text": [
            "frame=49769 fps=104 q=29.0 size=  221952kB time=00:27:39.39 bitrate=1095.7kbits/s dup=34 drop=0 speed=3.45x\n"
          ]
        },
        {
          "output_type": "stream",
          "name": "stderr",
          "text": [
            "\rProcessing video:  46%|████▌     | 1661.58/3600 [08:02<09:22,  3.45s/s]"
          ]
        },
        {
          "output_type": "stream",
          "name": "stdout",
          "text": [
            "frame=49835 fps=104 q=29.0 size=  222208kB time=00:27:41.58 bitrate=1095.5kbits/s dup=34 drop=0 speed=3.45x\n"
          ]
        },
        {
          "output_type": "stream",
          "name": "stderr",
          "text": [
            "\rProcessing video:  46%|████▌     | 1663.57/3600 [08:02<09:21,  3.45s/s]"
          ]
        },
        {
          "output_type": "stream",
          "name": "stdout",
          "text": [
            "frame=49894 fps=104 q=29.0 size=  222464kB time=00:27:43.57 bitrate=1095.5kbits/s dup=34 drop=0 speed=3.45x\n"
          ]
        },
        {
          "output_type": "stream",
          "name": "stderr",
          "text": [
            "\rProcessing video:  46%|████▋     | 1665.08/3600 [08:03<09:21,  3.45s/s]"
          ]
        },
        {
          "output_type": "stream",
          "name": "stdout",
          "text": [
            "frame=49940 fps=104 q=29.0 size=  222720kB time=00:27:45.08 bitrate=1095.8kbits/s dup=34 drop=0 speed=3.45x\n"
          ]
        },
        {
          "output_type": "stream",
          "name": "stderr",
          "text": [
            "\rProcessing video:  46%|████▋     | 1666.47/3600 [08:03<09:21,  3.44s/s]"
          ]
        },
        {
          "output_type": "stream",
          "name": "stdout",
          "text": [
            "frame=49981 fps=103 q=29.0 size=  222976kB time=00:27:46.47 bitrate=1096.1kbits/s dup=34 drop=0 speed=3.45x\n"
          ]
        },
        {
          "output_type": "stream",
          "name": "stderr",
          "text": [
            "\rProcessing video:  46%|████▋     | 1667.79/3600 [08:04<09:21,  3.44s/s]"
          ]
        },
        {
          "output_type": "stream",
          "name": "stdout",
          "text": [
            "frame=50021 fps=103 q=29.0 size=  223232kB time=00:27:47.79 bitrate=1096.5kbits/s dup=34 drop=0 speed=3.45x\n"
          ]
        },
        {
          "output_type": "stream",
          "name": "stderr",
          "text": [
            "\rProcessing video:  46%|████▋     | 1669.09/3600 [08:04<09:20,  3.44s/s]"
          ]
        },
        {
          "output_type": "stream",
          "name": "stdout",
          "text": [
            "frame=50060 fps=103 q=29.0 size=  223488kB time=00:27:49.09 bitrate=1096.9kbits/s dup=34 drop=0 speed=3.45x\n"
          ]
        },
        {
          "output_type": "stream",
          "name": "stderr",
          "text": [
            "\rProcessing video:  46%|████▋     | 1670.5/3600 [08:05<09:20,  3.44s/s] "
          ]
        },
        {
          "output_type": "stream",
          "name": "stdout",
          "text": [
            "frame=50102 fps=103 q=29.0 size=  224000kB time=00:27:50.50 bitrate=1098.5kbits/s dup=34 drop=0 speed=3.45x\n"
          ]
        },
        {
          "output_type": "stream",
          "name": "stderr",
          "text": [
            "\rProcessing video:  46%|████▋     | 1671.95/3600 [08:05<09:20,  3.44s/s]"
          ]
        },
        {
          "output_type": "stream",
          "name": "stdout",
          "text": [
            "frame=50146 fps=103 q=29.0 size=  224256kB time=00:27:51.95 bitrate=1098.8kbits/s dup=34 drop=0 speed=3.45x\n"
          ]
        },
        {
          "output_type": "stream",
          "name": "stderr",
          "text": [
            "\rProcessing video:  46%|████▋     | 1673.36/3600 [08:06<09:19,  3.44s/s]"
          ]
        },
        {
          "output_type": "stream",
          "name": "stdout",
          "text": [
            "frame=50188 fps=103 q=29.0 size=  224512kB time=00:27:53.36 bitrate=1099.1kbits/s dup=34 drop=0 speed=3.45x\n"
          ]
        },
        {
          "output_type": "stream",
          "name": "stderr",
          "text": [
            "\rProcessing video:  47%|████▋     | 1675.0/3600 [08:06<09:19,  3.44s/s] "
          ]
        },
        {
          "output_type": "stream",
          "name": "stdout",
          "text": [
            "frame=50237 fps=103 q=29.0 size=  224768kB time=00:27:55.00 bitrate=1099.3kbits/s dup=34 drop=0 speed=3.45x\n"
          ]
        },
        {
          "output_type": "stream",
          "name": "stderr",
          "text": [
            "\rProcessing video:  47%|████▋     | 1677.5/3600 [08:07<09:18,  3.44s/s]"
          ]
        },
        {
          "output_type": "stream",
          "name": "stdout",
          "text": [
            "frame=50312 fps=103 q=29.0 size=  225024kB time=00:27:57.50 bitrate=1098.9kbits/s dup=34 drop=0 speed=3.45x\n"
          ]
        },
        {
          "output_type": "stream",
          "name": "stderr",
          "text": [
            "\rProcessing video:  47%|████▋     | 1680.25/3600 [08:07<09:17,  3.44s/s]"
          ]
        },
        {
          "output_type": "stream",
          "name": "stdout",
          "text": [
            "frame=50395 fps=103 q=29.0 size=  225280kB time=00:28:00.25 bitrate=1098.3kbits/s dup=34 drop=0 speed=3.45x\n"
          ]
        },
        {
          "output_type": "stream",
          "name": "stderr",
          "text": [
            "\rProcessing video:  47%|████▋     | 1683.07/3600 [08:08<09:16,  3.45s/s]"
          ]
        },
        {
          "output_type": "stream",
          "name": "stdout",
          "text": [
            "frame=50479 fps=104 q=29.0 size=  225280kB time=00:28:03.07 bitrate=1096.5kbits/s dup=34 drop=0 speed=3.45x\n"
          ]
        },
        {
          "output_type": "stream",
          "name": "stderr",
          "text": [
            "\rProcessing video:  47%|████▋     | 1685.82/3600 [08:08<09:15,  3.45s/s]"
          ]
        },
        {
          "output_type": "stream",
          "name": "stdout",
          "text": [
            "frame=50562 fps=104 q=29.0 size=  225536kB time=00:28:05.82 bitrate=1096.0kbits/s dup=34 drop=0 speed=3.45x\n"
          ]
        },
        {
          "output_type": "stream",
          "name": "stderr",
          "text": [
            "\rProcessing video:  47%|████▋     | 1688.53/3600 [08:09<09:13,  3.45s/s]"
          ]
        },
        {
          "output_type": "stream",
          "name": "stdout",
          "text": [
            "frame=50643 fps=104 q=29.0 size=  225792kB time=00:28:08.53 bitrate=1095.4kbits/s dup=34 drop=0 speed=3.46x\n"
          ]
        },
        {
          "output_type": "stream",
          "name": "stderr",
          "text": [
            "\rProcessing video:  47%|████▋     | 1691.26/3600 [08:09<09:12,  3.45s/s]"
          ]
        },
        {
          "output_type": "stream",
          "name": "stdout",
          "text": [
            "frame=50725 fps=104 q=29.0 size=  225792kB time=00:28:11.26 bitrate=1093.7kbits/s dup=34 drop=0 speed=3.46x\n"
          ]
        },
        {
          "output_type": "stream",
          "name": "stderr",
          "text": [
            "\rProcessing video:  47%|████▋     | 1694.12/3600 [08:10<09:11,  3.46s/s]"
          ]
        },
        {
          "output_type": "stream",
          "name": "stdout",
          "text": [
            "frame=50811 fps=104 q=29.0 size=  226048kB time=00:28:14.12 bitrate=1093.1kbits/s dup=34 drop=0 speed=3.46x\n"
          ]
        },
        {
          "output_type": "stream",
          "name": "stderr",
          "text": [
            "\rProcessing video:  47%|████▋     | 1696.89/3600 [08:10<09:10,  3.46s/s]"
          ]
        },
        {
          "output_type": "stream",
          "name": "stdout",
          "text": [
            "frame=50894 fps=104 q=29.0 size=  226304kB time=00:28:16.89 bitrate=1092.5kbits/s dup=34 drop=0 speed=3.46x\n"
          ]
        },
        {
          "output_type": "stream",
          "name": "stderr",
          "text": [
            "\rProcessing video:  47%|████▋     | 1699.69/3600 [08:11<09:09,  3.46s/s]"
          ]
        },
        {
          "output_type": "stream",
          "name": "stdout",
          "text": [
            "frame=50978 fps=104 q=29.0 size=  226304kB time=00:28:19.69 bitrate=1090.7kbits/s dup=34 drop=0 speed=3.47x\n"
          ]
        },
        {
          "output_type": "stream",
          "name": "stderr",
          "text": [
            "\rProcessing video:  47%|████▋     | 1702.4/3600 [08:11<09:08,  3.46s/s] "
          ]
        },
        {
          "output_type": "stream",
          "name": "stdout",
          "text": [
            "frame=51059 fps=104 q=29.0 size=  226560kB time=00:28:22.40 bitrate=1090.2kbits/s dup=34 drop=0 speed=3.47x\n"
          ]
        },
        {
          "output_type": "stream",
          "name": "stderr",
          "text": [
            "\rProcessing video:  47%|████▋     | 1705.17/3600 [08:12<09:07,  3.46s/s]"
          ]
        },
        {
          "output_type": "stream",
          "name": "stdout",
          "text": [
            "frame=51142 fps=104 q=29.0 size=  226816kB time=00:28:25.17 bitrate=1089.7kbits/s dup=34 drop=0 speed=3.47x\n"
          ]
        },
        {
          "output_type": "stream",
          "name": "stderr",
          "text": [
            "\rProcessing video:  47%|████▋     | 1707.9/3600 [08:12<09:05,  3.47s/s] "
          ]
        },
        {
          "output_type": "stream",
          "name": "stdout",
          "text": [
            "frame=51224 fps=104 q=29.0 size=  226816kB time=00:28:27.90 bitrate=1087.9kbits/s dup=34 drop=0 speed=3.47x\n"
          ]
        },
        {
          "output_type": "stream",
          "name": "stderr",
          "text": [
            "\rProcessing video:  48%|████▊     | 1710.63/3600 [08:13<09:04,  3.47s/s]"
          ]
        },
        {
          "output_type": "stream",
          "name": "stdout",
          "text": [
            "frame=51306 fps=104 q=29.0 size=  227072kB time=00:28:30.63 bitrate=1087.4kbits/s dup=34 drop=0 speed=3.47x\n"
          ]
        },
        {
          "output_type": "stream",
          "name": "stderr",
          "text": [
            "\rProcessing video:  48%|████▊     | 1713.23/3600 [08:13<09:03,  3.47s/s]"
          ]
        },
        {
          "output_type": "stream",
          "name": "stdout",
          "text": [
            "frame=51384 fps=104 q=29.0 size=  227328kB time=00:28:33.23 bitrate=1087.0kbits/s dup=34 drop=0 speed=3.48x\n"
          ]
        },
        {
          "output_type": "stream",
          "name": "stderr",
          "text": [
            "\rProcessing video:  48%|████▊     | 1715.9/3600 [08:14<09:02,  3.47s/s] "
          ]
        },
        {
          "output_type": "stream",
          "name": "stdout",
          "text": [
            "frame=51464 fps=104 q=29.0 size=  227328kB time=00:28:35.90 bitrate=1085.3kbits/s dup=34 drop=0 speed=3.48x\n"
          ]
        },
        {
          "output_type": "stream",
          "name": "stderr",
          "text": [
            "\rProcessing video:  48%|████▊     | 1718.63/3600 [08:14<09:01,  3.47s/s]"
          ]
        },
        {
          "output_type": "stream",
          "name": "stdout",
          "text": [
            "frame=51546 fps=104 q=29.0 size=  227584kB time=00:28:38.63 bitrate=1084.8kbits/s dup=34 drop=0 speed=3.48x\n"
          ]
        },
        {
          "output_type": "stream",
          "name": "stderr",
          "text": [
            "\rProcessing video:  48%|████▊     | 1721.36/3600 [08:15<09:00,  3.47s/s]"
          ]
        },
        {
          "output_type": "stream",
          "name": "stdout",
          "text": [
            "frame=51628 fps=104 q=29.0 size=  227840kB time=00:28:41.36 bitrate=1084.3kbits/s dup=34 drop=0 speed=3.48x\n"
          ]
        },
        {
          "output_type": "stream",
          "name": "stderr",
          "text": [
            "\rProcessing video:  48%|████▊     | 1724.03/3600 [08:15<08:59,  3.48s/s]"
          ]
        },
        {
          "output_type": "stream",
          "name": "stdout",
          "text": [
            "frame=51708 fps=104 q=29.0 size=  227840kB time=00:28:44.03 bitrate=1082.6kbits/s dup=34 drop=0 speed=3.48x\n"
          ]
        },
        {
          "output_type": "stream",
          "name": "stderr",
          "text": [
            "\rProcessing video:  48%|████▊     | 1726.63/3600 [08:16<08:58,  3.48s/s]"
          ]
        },
        {
          "output_type": "stream",
          "name": "stdout",
          "text": [
            "frame=51786 fps=105 q=29.0 size=  228096kB time=00:28:46.63 bitrate=1082.2kbits/s dup=34 drop=0 speed=3.48x\n"
          ]
        },
        {
          "output_type": "stream",
          "name": "stderr",
          "text": [
            "\rProcessing video:  48%|████▊     | 1728.78/3600 [08:16<08:57,  3.48s/s]"
          ]
        },
        {
          "output_type": "stream",
          "name": "stdout",
          "text": [
            "frame=51851 fps=105 q=29.0 size=  228352kB time=00:28:48.78 bitrate=1082.1kbits/s dup=34 drop=0 speed=3.49x\n"
          ]
        },
        {
          "output_type": "stream",
          "name": "stderr",
          "text": [
            "\rProcessing video:  48%|████▊     | 1730.38/3600 [08:17<08:57,  3.48s/s]"
          ]
        },
        {
          "output_type": "stream",
          "name": "stdout",
          "text": [
            "frame=51899 fps=105 q=29.0 size=  228352kB time=00:28:50.38 bitrate=1081.1kbits/s dup=34 drop=0 speed=3.48x\n"
          ]
        },
        {
          "output_type": "stream",
          "name": "stderr",
          "text": [
            "\rProcessing video:  48%|████▊     | 1731.56/3600 [08:17<08:57,  3.48s/s]"
          ]
        },
        {
          "output_type": "stream",
          "name": "stdout",
          "text": [
            "frame=51934 fps=104 q=29.0 size=  228864kB time=00:28:51.56 bitrate=1082.8kbits/s dup=34 drop=0 speed=3.48x\n"
          ]
        },
        {
          "output_type": "stream",
          "name": "stderr",
          "text": [
            "\rProcessing video:  48%|████▊     | 1732.69/3600 [08:18<08:57,  3.48s/s]"
          ]
        },
        {
          "output_type": "stream",
          "name": "stdout",
          "text": [
            "frame=51968 fps=104 q=29.0 size=  229120kB time=00:28:52.69 bitrate=1083.3kbits/s dup=34 drop=0 speed=3.48x\n"
          ]
        },
        {
          "output_type": "stream",
          "name": "stderr",
          "text": [
            "\rProcessing video:  48%|████▊     | 1734.03/3600 [08:18<08:56,  3.48s/s]"
          ]
        },
        {
          "output_type": "stream",
          "name": "stdout",
          "text": [
            "frame=52008 fps=104 q=29.0 size=  229376kB time=00:28:54.03 bitrate=1083.6kbits/s dup=34 drop=0 speed=3.48x\n"
          ]
        },
        {
          "output_type": "stream",
          "name": "stderr",
          "text": [
            "\rProcessing video:  48%|████▊     | 1735.25/3600 [08:19<08:56,  3.47s/s]"
          ]
        },
        {
          "output_type": "stream",
          "name": "stdout",
          "text": [
            "frame=52045 fps=104 q=29.0 size=  229632kB time=00:28:55.25 bitrate=1084.1kbits/s dup=34 drop=0 speed=3.48x\n"
          ]
        },
        {
          "output_type": "stream",
          "name": "stderr",
          "text": [
            "\rProcessing video:  48%|████▊     | 1736.59/3600 [08:19<08:56,  3.47s/s]"
          ]
        },
        {
          "output_type": "stream",
          "name": "stdout",
          "text": [
            "frame=52085 fps=104 q=29.0 size=  229888kB time=00:28:56.59 bitrate=1084.4kbits/s dup=34 drop=0 speed=3.48x\n"
          ]
        },
        {
          "output_type": "stream",
          "name": "stderr",
          "text": [
            "\rProcessing video:  48%|████▊     | 1738.53/3600 [08:20<08:55,  3.47s/s]"
          ]
        },
        {
          "output_type": "stream",
          "name": "stdout",
          "text": [
            "frame=52143 fps=104 q=29.0 size=  230400kB time=00:28:58.53 bitrate=1085.6kbits/s dup=34 drop=0 speed=3.48x\n"
          ]
        },
        {
          "output_type": "stream",
          "name": "stderr",
          "text": [
            "\rProcessing video:  48%|████▊     | 1741.05/3600 [08:20<08:54,  3.48s/s]"
          ]
        },
        {
          "output_type": "stream",
          "name": "stdout",
          "text": [
            "frame=52219 fps=104 q=29.0 size=  230400kB time=00:29:01.05 bitrate=1084.1kbits/s dup=34 drop=0 speed=3.48x\n"
          ]
        },
        {
          "output_type": "stream",
          "name": "stderr",
          "text": [
            "\rProcessing video:  48%|████▊     | 1743.48/3600 [08:21<08:53,  3.48s/s]"
          ]
        },
        {
          "output_type": "stream",
          "name": "stdout",
          "text": [
            "frame=52292 fps=104 q=29.0 size=  230656kB time=00:29:03.48 bitrate=1083.8kbits/s dup=34 drop=0 speed=3.48x\n"
          ]
        },
        {
          "output_type": "stream",
          "name": "stderr",
          "text": [
            "\rProcessing video:  48%|████▊     | 1745.83/3600 [08:21<08:53,  3.48s/s]"
          ]
        },
        {
          "output_type": "stream",
          "name": "stdout",
          "text": [
            "frame=52362 fps=105 q=29.0 size=  230912kB time=00:29:05.83 bitrate=1083.5kbits/s dup=34 drop=0 speed=3.48x\n"
          ]
        },
        {
          "output_type": "stream",
          "name": "stderr",
          "text": [
            "\rProcessing video:  49%|████▊     | 1748.28/3600 [08:22<08:52,  3.48s/s]"
          ]
        },
        {
          "output_type": "stream",
          "name": "stdout",
          "text": [
            "frame=52436 fps=105 q=29.0 size=  231168kB time=00:29:08.28 bitrate=1083.2kbits/s dup=34 drop=0 speed=3.49x\n"
          ]
        },
        {
          "output_type": "stream",
          "name": "stderr",
          "text": [
            "\rProcessing video:  49%|████▊     | 1750.69/3600 [08:22<08:51,  3.48s/s]"
          ]
        },
        {
          "output_type": "stream",
          "name": "stdout",
          "text": [
            "frame=52508 fps=105 q=29.0 size=  231168kB time=00:29:10.69 bitrate=1081.7kbits/s dup=34 drop=0 speed=3.49x\n"
          ]
        },
        {
          "output_type": "stream",
          "name": "stderr",
          "text": [
            "\rProcessing video:  49%|████▊     | 1753.17/3600 [08:23<08:50,  3.48s/s]"
          ]
        },
        {
          "output_type": "stream",
          "name": "stdout",
          "text": [
            "frame=52582 fps=105 q=29.0 size=  231424kB time=00:29:13.17 bitrate=1081.4kbits/s dup=34 drop=0 speed=3.49x\n"
          ]
        },
        {
          "output_type": "stream",
          "name": "stderr",
          "text": [
            "\rProcessing video:  49%|████▉     | 1755.49/3600 [08:23<08:49,  3.48s/s]"
          ]
        },
        {
          "output_type": "stream",
          "name": "stdout",
          "text": [
            "frame=52652 fps=105 q=29.0 size=  231680kB time=00:29:15.49 bitrate=1081.1kbits/s dup=34 drop=0 speed=3.49x\n"
          ]
        },
        {
          "output_type": "stream",
          "name": "stderr",
          "text": [
            "\rProcessing video:  49%|████▉     | 1757.99/3600 [08:24<08:48,  3.49s/s]"
          ]
        },
        {
          "output_type": "stream",
          "name": "stdout",
          "text": [
            "frame=52727 fps=105 q=29.0 size=  231936kB time=00:29:17.99 bitrate=1080.8kbits/s dup=34 drop=0 speed=3.49x\n"
          ]
        },
        {
          "output_type": "stream",
          "name": "stderr",
          "text": [
            "\rProcessing video:  49%|████▉     | 1760.46/3600 [08:24<08:47,  3.49s/s]"
          ]
        },
        {
          "output_type": "stream",
          "name": "stdout",
          "text": [
            "frame=52801 fps=105 q=29.0 size=  231936kB time=00:29:20.46 bitrate=1079.3kbits/s dup=34 drop=0 speed=3.49x\n"
          ]
        },
        {
          "output_type": "stream",
          "name": "stderr",
          "text": [
            "\rProcessing video:  49%|████▉     | 1762.85/3600 [08:25<08:46,  3.49s/s]"
          ]
        },
        {
          "output_type": "stream",
          "name": "stdout",
          "text": [
            "frame=52873 fps=105 q=29.0 size=  232192kB time=00:29:22.85 bitrate=1079.0kbits/s dup=34 drop=0 speed=3.49x\n"
          ]
        },
        {
          "output_type": "stream",
          "name": "stderr",
          "text": [
            "\rProcessing video:  49%|████▉     | 1765.44/3600 [08:25<08:45,  3.49s/s]"
          ]
        },
        {
          "output_type": "stream",
          "name": "stdout",
          "text": [
            "frame=52950 fps=105 q=29.0 size=  232448kB time=00:29:25.44 bitrate=1078.6kbits/s dup=34 drop=0 speed= 3.5x\n"
          ]
        },
        {
          "output_type": "stream",
          "name": "stderr",
          "text": [
            "\rProcessing video:  49%|████▉     | 1767.93/3600 [08:26<08:44,  3.49s/s]"
          ]
        },
        {
          "output_type": "stream",
          "name": "stdout",
          "text": [
            "frame=53025 fps=105 q=29.0 size=  232704kB time=00:29:27.93 bitrate=1078.3kbits/s dup=34 drop=0 speed= 3.5x\n"
          ]
        },
        {
          "output_type": "stream",
          "name": "stderr",
          "text": [
            "\rProcessing video:  49%|████▉     | 1770.49/3600 [08:26<08:43,  3.49s/s]"
          ]
        },
        {
          "output_type": "stream",
          "name": "stdout",
          "text": [
            "frame=53102 fps=105 q=29.0 size=  232960kB time=00:29:30.49 bitrate=1077.9kbits/s dup=34 drop=0 speed= 3.5x\n"
          ]
        },
        {
          "output_type": "stream",
          "name": "stderr",
          "text": [
            "\rProcessing video:  49%|████▉     | 1772.86/3600 [08:27<08:43,  3.49s/s]"
          ]
        },
        {
          "output_type": "stream",
          "name": "stdout",
          "text": [
            "frame=53173 fps=105 q=29.0 size=  233216kB time=00:29:32.86 bitrate=1077.6kbits/s dup=34 drop=0 speed= 3.5x\n"
          ]
        },
        {
          "output_type": "stream",
          "name": "stderr",
          "text": [
            "\rProcessing video:  49%|████▉     | 1775.18/3600 [08:27<08:42,  3.49s/s]"
          ]
        },
        {
          "output_type": "stream",
          "name": "stdout",
          "text": [
            "frame=53243 fps=105 q=29.0 size=  233216kB time=00:29:35.18 bitrate=1076.2kbits/s dup=34 drop=0 speed= 3.5x\n"
          ]
        },
        {
          "output_type": "stream",
          "name": "stderr",
          "text": [
            "\rProcessing video:  49%|████▉     | 1777.6/3600 [08:28<08:41,  3.50s/s] "
          ]
        },
        {
          "output_type": "stream",
          "name": "stdout",
          "text": [
            "frame=53315 fps=105 q=29.0 size=  233472kB time=00:29:37.60 bitrate=1075.9kbits/s dup=34 drop=0 speed= 3.5x\n"
          ]
        },
        {
          "output_type": "stream",
          "name": "stderr",
          "text": [
            "\rProcessing video:  49%|████▉     | 1779.79/3600 [08:29<08:40,  3.50s/s]"
          ]
        },
        {
          "output_type": "stream",
          "name": "stdout",
          "text": [
            "frame=53381 fps=105 q=29.0 size=  233728kB time=00:29:39.79 bitrate=1075.8kbits/s dup=34 drop=0 speed= 3.5x\n"
          ]
        },
        {
          "output_type": "stream",
          "name": "stderr",
          "text": [
            "\rProcessing video:  49%|████▉     | 1781.39/3600 [08:29<08:40,  3.50s/s]"
          ]
        },
        {
          "output_type": "stream",
          "name": "stdout",
          "text": [
            "frame=53429 fps=105 q=29.0 size=  233984kB time=00:29:41.39 bitrate=1076.0kbits/s dup=34 drop=0 speed= 3.5x\n"
          ]
        },
        {
          "output_type": "stream",
          "name": "stderr",
          "text": [
            "\rProcessing video:  50%|████▉     | 1782.65/3600 [08:30<08:39,  3.50s/s]"
          ]
        },
        {
          "output_type": "stream",
          "name": "stdout",
          "text": [
            "frame=53467 fps=105 q=29.0 size=  234240kB time=00:29:42.65 bitrate=1076.4kbits/s dup=34 drop=0 speed= 3.5x\n"
          ]
        },
        {
          "output_type": "stream",
          "name": "stderr",
          "text": [
            "\rProcessing video:  50%|████▉     | 1783.93/3600 [08:30<08:39,  3.49s/s]"
          ]
        },
        {
          "output_type": "stream",
          "name": "stdout",
          "text": [
            "frame=53505 fps=105 q=29.0 size=  234496kB time=00:29:43.93 bitrate=1076.8kbits/s dup=34 drop=0 speed= 3.5x\n"
          ]
        },
        {
          "output_type": "stream",
          "name": "stderr",
          "text": [
            "\rProcessing video:  50%|████▉     | 1785.19/3600 [08:31<08:39,  3.49s/s]"
          ]
        },
        {
          "output_type": "stream",
          "name": "stdout",
          "text": [
            "frame=53543 fps=105 q=29.0 size=  234752kB time=00:29:45.19 bitrate=1077.2kbits/s dup=34 drop=0 speed= 3.5x\n"
          ]
        },
        {
          "output_type": "stream",
          "name": "stderr",
          "text": [
            "\rProcessing video:  50%|████▉     | 1786.47/3600 [08:31<08:39,  3.49s/s]"
          ]
        },
        {
          "output_type": "stream",
          "name": "stdout",
          "text": [
            "frame=53581 fps=105 q=29.0 size=  235008kB time=00:29:46.47 bitrate=1077.6kbits/s dup=34 drop=0 speed= 3.5x\n"
          ]
        },
        {
          "output_type": "stream",
          "name": "stderr",
          "text": [
            "\rProcessing video:  50%|████▉     | 1787.79/3600 [08:32<08:39,  3.49s/s]"
          ]
        },
        {
          "output_type": "stream",
          "name": "stdout",
          "text": [
            "frame=53621 fps=105 q=29.0 size=  235264kB time=00:29:47.79 bitrate=1078.0kbits/s dup=34 drop=0 speed= 3.5x\n"
          ]
        },
        {
          "output_type": "stream",
          "name": "stderr",
          "text": [
            "\rProcessing video:  50%|████▉     | 1789.12/3600 [08:32<08:38,  3.49s/s]"
          ]
        },
        {
          "output_type": "stream",
          "name": "stdout",
          "text": [
            "frame=53661 fps=105 q=29.0 size=  235776kB time=00:29:49.12 bitrate=1079.6kbits/s dup=34 drop=0 speed= 3.5x\n"
          ]
        },
        {
          "output_type": "stream",
          "name": "stderr",
          "text": [
            "\rProcessing video:  50%|████▉     | 1790.52/3600 [08:33<08:38,  3.49s/s]"
          ]
        },
        {
          "output_type": "stream",
          "name": "stdout",
          "text": [
            "frame=53703 fps=105 q=29.0 size=  236032kB time=00:29:50.52 bitrate=1079.9kbits/s dup=34 drop=0 speed= 3.5x\n"
          ]
        },
        {
          "output_type": "stream",
          "name": "stderr",
          "text": [
            "\rProcessing video:  50%|████▉     | 1792.1/3600 [08:33<08:38,  3.49s/s] "
          ]
        },
        {
          "output_type": "stream",
          "name": "stdout",
          "text": [
            "frame=53750 fps=105 q=29.0 size=  236288kB time=00:29:52.10 bitrate=1080.1kbits/s dup=34 drop=0 speed= 3.5x\n"
          ]
        },
        {
          "output_type": "stream",
          "name": "stderr",
          "text": [
            "\rProcessing video:  50%|████▉     | 1793.79/3600 [08:34<08:37,  3.49s/s]"
          ]
        },
        {
          "output_type": "stream",
          "name": "stdout",
          "text": [
            "frame=53801 fps=105 q=29.0 size=  236288kB time=00:29:53.79 bitrate=1079.1kbits/s dup=34 drop=0 speed= 3.5x\n"
          ]
        },
        {
          "output_type": "stream",
          "name": "stderr",
          "text": [
            "\rProcessing video:  50%|████▉     | 1795.32/3600 [08:34<08:37,  3.49s/s]"
          ]
        },
        {
          "output_type": "stream",
          "name": "stdout",
          "text": [
            "frame=53847 fps=105 q=29.0 size=  236544kB time=00:29:55.32 bitrate=1079.3kbits/s dup=34 drop=0 speed= 3.5x\n"
          ]
        },
        {
          "output_type": "stream",
          "name": "stderr",
          "text": [
            "\rProcessing video:  50%|████▉     | 1796.86/3600 [08:35<08:36,  3.49s/s]"
          ]
        },
        {
          "output_type": "stream",
          "name": "stdout",
          "text": [
            "frame=53893 fps=105 q=29.0 size=  236800kB time=00:29:56.86 bitrate=1079.6kbits/s dup=34 drop=0 speed=3.49x\n"
          ]
        },
        {
          "output_type": "stream",
          "name": "stderr",
          "text": [
            "\rProcessing video:  50%|████▉     | 1798.4/3600 [08:35<08:36,  3.49s/s] "
          ]
        },
        {
          "output_type": "stream",
          "name": "stdout",
          "text": [
            "frame=53939 fps=105 q=29.0 size=  237056kB time=00:29:58.40 bitrate=1079.8kbits/s dup=34 drop=0 speed=3.49x\n"
          ]
        },
        {
          "output_type": "stream",
          "name": "stderr",
          "text": [
            "\rProcessing video:  50%|█████     | 1800.36/3600 [08:36<08:35,  3.49s/s]"
          ]
        },
        {
          "output_type": "stream",
          "name": "stdout",
          "text": [
            "frame=53998 fps=105 q=29.0 size=  237312kB time=00:30:00.36 bitrate=1079.8kbits/s dup=34 drop=0 speed=3.49x\n"
          ]
        },
        {
          "output_type": "stream",
          "name": "stderr",
          "text": [
            "\rProcessing video:  50%|█████     | 1802.38/3600 [08:36<08:35,  3.49s/s]"
          ]
        },
        {
          "output_type": "stream",
          "name": "stdout",
          "text": [
            "frame=54059 fps=105 q=29.0 size=  237568kB time=00:30:02.38 bitrate=1079.8kbits/s dup=34 drop=0 speed=3.49x\n"
          ]
        },
        {
          "output_type": "stream",
          "name": "stderr",
          "text": [
            "\rProcessing video:  50%|█████     | 1804.33/3600 [08:37<08:34,  3.49s/s]"
          ]
        },
        {
          "output_type": "stream",
          "name": "stdout",
          "text": [
            "frame=54117 fps=105 q=29.0 size=  237568kB time=00:30:04.33 bitrate=1078.6kbits/s dup=34 drop=0 speed= 3.5x\n"
          ]
        },
        {
          "output_type": "stream",
          "name": "stderr",
          "text": [
            "\rProcessing video:  50%|█████     | 1805.69/3600 [08:37<08:34,  3.49s/s]"
          ]
        },
        {
          "output_type": "stream",
          "name": "stdout",
          "text": [
            "frame=54158 fps=105 q=29.0 size=  237824kB time=00:30:05.69 bitrate=1078.9kbits/s dup=34 drop=0 speed=3.49x\n"
          ]
        },
        {
          "output_type": "stream",
          "name": "stderr",
          "text": [
            "\rProcessing video:  50%|█████     | 1807.04/3600 [08:38<08:34,  3.49s/s]"
          ]
        },
        {
          "output_type": "stream",
          "name": "stdout",
          "text": [
            "frame=54198 fps=105 q=29.0 size=  238080kB time=00:30:07.04 bitrate=1079.3kbits/s dup=34 drop=0 speed=3.49x\n"
          ]
        },
        {
          "output_type": "stream",
          "name": "stderr",
          "text": [
            "\rProcessing video:  50%|█████     | 1808.42/3600 [08:38<08:33,  3.49s/s]"
          ]
        },
        {
          "output_type": "stream",
          "name": "stdout",
          "text": [
            "frame=54240 fps=105 q=29.0 size=  238336kB time=00:30:08.42 bitrate=1079.6kbits/s dup=34 drop=0 speed=3.49x\n"
          ]
        },
        {
          "output_type": "stream",
          "name": "stderr",
          "text": [
            "\rProcessing video:  50%|█████     | 1809.83/3600 [08:39<08:33,  3.49s/s]"
          ]
        },
        {
          "output_type": "stream",
          "name": "stdout",
          "text": [
            "frame=54282 fps=105 q=29.0 size=  238592kB time=00:30:09.83 bitrate=1080.0kbits/s dup=34 drop=0 speed=3.49x\n"
          ]
        },
        {
          "output_type": "stream",
          "name": "stderr",
          "text": [
            "\rProcessing video:  50%|█████     | 1811.2/3600 [08:39<08:33,  3.49s/s] "
          ]
        },
        {
          "output_type": "stream",
          "name": "stdout",
          "text": [
            "frame=54323 fps=105 q=29.0 size=  238848kB time=00:30:11.20 bitrate=1080.3kbits/s dup=34 drop=0 speed=3.49x\n"
          ]
        },
        {
          "output_type": "stream",
          "name": "stderr",
          "text": [
            "\rProcessing video:  50%|█████     | 1812.99/3600 [08:40<08:32,  3.49s/s]"
          ]
        },
        {
          "output_type": "stream",
          "name": "stdout",
          "text": [
            "frame=54377 fps=105 q=29.0 size=  239104kB time=00:30:12.99 bitrate=1080.4kbits/s dup=34 drop=0 speed=3.49x\n"
          ]
        },
        {
          "output_type": "stream",
          "name": "stderr",
          "text": [
            "\rProcessing video:  50%|█████     | 1815.25/3600 [08:40<08:31,  3.49s/s]"
          ]
        },
        {
          "output_type": "stream",
          "name": "stdout",
          "text": [
            "frame=54445 fps=105 q=29.0 size=  239360kB time=00:30:15.25 bitrate=1080.2kbits/s dup=34 drop=0 speed=3.49x\n"
          ]
        },
        {
          "output_type": "stream",
          "name": "stderr",
          "text": [
            "\rProcessing video:  50%|█████     | 1817.4/3600 [08:41<08:31,  3.49s/s] "
          ]
        },
        {
          "output_type": "stream",
          "name": "stdout",
          "text": [
            "frame=54509 fps=105 q=29.0 size=  239616kB time=00:30:17.40 bitrate=1080.1kbits/s dup=34 drop=0 speed=3.49x\n"
          ]
        },
        {
          "output_type": "stream",
          "name": "stderr",
          "text": [
            "\rProcessing video:  51%|█████     | 1819.73/3600 [08:41<08:30,  3.49s/s]"
          ]
        },
        {
          "output_type": "stream",
          "name": "stdout",
          "text": [
            "frame=54579 fps=105 q=29.0 size=  239872kB time=00:30:19.73 bitrate=1079.8kbits/s dup=34 drop=0 speed=3.49x\n"
          ]
        },
        {
          "output_type": "stream",
          "name": "stderr",
          "text": [
            "\rProcessing video:  51%|█████     | 1822.1/3600 [08:42<08:29,  3.49s/s] "
          ]
        },
        {
          "output_type": "stream",
          "name": "stdout",
          "text": [
            "frame=54650 fps=105 q=29.0 size=  240128kB time=00:30:22.10 bitrate=1079.6kbits/s dup=34 drop=0 speed= 3.5x\n"
          ]
        },
        {
          "output_type": "stream",
          "name": "stderr",
          "text": [
            "\rProcessing video:  51%|█████     | 1824.46/3600 [08:42<08:28,  3.49s/s]"
          ]
        },
        {
          "output_type": "stream",
          "name": "stdout",
          "text": [
            "frame=54721 fps=105 q=29.0 size=  240128kB time=00:30:24.46 bitrate=1078.2kbits/s dup=34 drop=0 speed= 3.5x\n"
          ]
        },
        {
          "output_type": "stream",
          "name": "stderr",
          "text": [
            "\rProcessing video:  51%|█████     | 1826.92/3600 [08:43<08:27,  3.49s/s]"
          ]
        },
        {
          "output_type": "stream",
          "name": "stdout",
          "text": [
            "frame=54795 fps=105 q=29.0 size=  240384kB time=00:30:26.92 bitrate=1077.9kbits/s dup=34 drop=0 speed= 3.5x\n"
          ]
        },
        {
          "output_type": "stream",
          "name": "stderr",
          "text": [
            "\rProcessing video:  51%|█████     | 1829.33/3600 [08:43<08:26,  3.49s/s]"
          ]
        },
        {
          "output_type": "stream",
          "name": "stdout",
          "text": [
            "frame=54867 fps=105 q=29.0 size=  240640kB time=00:30:29.33 bitrate=1077.6kbits/s dup=34 drop=0 speed= 3.5x\n"
          ]
        },
        {
          "output_type": "stream",
          "name": "stderr",
          "text": [
            "\rProcessing video:  51%|█████     | 1831.87/3600 [08:44<08:25,  3.50s/s]"
          ]
        },
        {
          "output_type": "stream",
          "name": "stdout",
          "text": [
            "frame=54943 fps=105 q=29.0 size=  240640kB time=00:30:31.87 bitrate=1076.1kbits/s dup=34 drop=0 speed= 3.5x\n"
          ]
        },
        {
          "output_type": "stream",
          "name": "stderr",
          "text": [
            "\rProcessing video:  51%|█████     | 1834.56/3600 [08:44<08:24,  3.50s/s]"
          ]
        },
        {
          "output_type": "stream",
          "name": "stdout",
          "text": [
            "frame=55024 fps=105 q=29.0 size=  240896kB time=00:30:34.56 bitrate=1075.7kbits/s dup=34 drop=0 speed= 3.5x\n"
          ]
        },
        {
          "output_type": "stream",
          "name": "stderr",
          "text": [
            "\rProcessing video:  51%|█████     | 1836.99/3600 [08:45<08:23,  3.50s/s]"
          ]
        },
        {
          "output_type": "stream",
          "name": "stdout",
          "text": [
            "frame=55097 fps=105 q=29.0 size=  241152kB time=00:30:36.99 bitrate=1075.4kbits/s dup=34 drop=0 speed= 3.5x\n"
          ]
        },
        {
          "output_type": "stream",
          "name": "stderr",
          "text": [
            "\rProcessing video:  51%|█████     | 1839.46/3600 [08:45<08:23,  3.50s/s]"
          ]
        },
        {
          "output_type": "stream",
          "name": "stdout",
          "text": [
            "frame=55171 fps=105 q=29.0 size=  241152kB time=00:30:39.46 bitrate=1074.0kbits/s dup=34 drop=0 speed=3.51x\n"
          ]
        },
        {
          "output_type": "stream",
          "name": "stderr",
          "text": [
            "\rProcessing video:  51%|█████     | 1841.4/3600 [08:46<08:22,  3.50s/s] "
          ]
        },
        {
          "output_type": "stream",
          "name": "stdout",
          "text": [
            "frame=55229 fps=105 q=29.0 size=  241408kB time=00:30:41.40 bitrate=1074.0kbits/s dup=34 drop=0 speed=3.51x\n"
          ]
        },
        {
          "output_type": "stream",
          "name": "stderr",
          "text": [
            "\rProcessing video:  51%|█████     | 1842.53/3600 [08:46<08:22,  3.50s/s]"
          ]
        },
        {
          "output_type": "stream",
          "name": "stdout",
          "text": [
            "frame=55263 fps=105 q=29.0 size=  241664kB time=00:30:42.53 bitrate=1074.4kbits/s dup=34 drop=0 speed= 3.5x\n"
          ]
        },
        {
          "output_type": "stream",
          "name": "stderr",
          "text": [
            "\rProcessing video:  51%|█████     | 1843.62/3600 [08:47<08:22,  3.50s/s]"
          ]
        },
        {
          "output_type": "stream",
          "name": "stdout",
          "text": [
            "frame=55296 fps=105 q=29.0 size=  241920kB time=00:30:43.62 bitrate=1075.0kbits/s dup=34 drop=0 speed= 3.5x\n"
          ]
        },
        {
          "output_type": "stream",
          "name": "stderr",
          "text": [
            "\rProcessing video:  51%|█████     | 1844.73/3600 [08:47<08:22,  3.50s/s]"
          ]
        },
        {
          "output_type": "stream",
          "name": "stdout",
          "text": [
            "frame=55329 fps=105 q=29.0 size=  242176kB time=00:30:44.73 bitrate=1075.4kbits/s dup=34 drop=0 speed= 3.5x\n"
          ]
        },
        {
          "output_type": "stream",
          "name": "stderr",
          "text": [
            "\rProcessing video:  51%|█████▏    | 1845.86/3600 [08:48<08:21,  3.49s/s]"
          ]
        },
        {
          "output_type": "stream",
          "name": "stdout",
          "text": [
            "frame=55363 fps=105 q=29.0 size=  242432kB time=00:30:45.86 bitrate=1075.9kbits/s dup=34 drop=0 speed= 3.5x\n"
          ]
        },
        {
          "output_type": "stream",
          "name": "stderr",
          "text": [
            "\rProcessing video:  51%|█████▏    | 1846.99/3600 [08:48<08:21,  3.49s/s]"
          ]
        },
        {
          "output_type": "stream",
          "name": "stdout",
          "text": [
            "frame=55397 fps=105 q=29.0 size=  242944kB time=00:30:46.99 bitrate=1077.5kbits/s dup=34 drop=0 speed= 3.5x\n"
          ]
        },
        {
          "output_type": "stream",
          "name": "stderr",
          "text": [
            "\rProcessing video:  51%|█████▏    | 1848.83/3600 [08:49<08:21,  3.49s/s]"
          ]
        },
        {
          "output_type": "stream",
          "name": "stdout",
          "text": [
            "frame=55452 fps=105 q=29.0 size=  242944kB time=00:30:48.83 bitrate=1076.5kbits/s dup=34 drop=0 speed= 3.5x\n"
          ]
        },
        {
          "output_type": "stream",
          "name": "stderr",
          "text": [
            "\rProcessing video:  51%|█████▏    | 1851.13/3600 [08:49<08:20,  3.49s/s]"
          ]
        },
        {
          "output_type": "stream",
          "name": "stdout",
          "text": [
            "frame=55521 fps=105 q=29.0 size=  243200kB time=00:30:51.13 bitrate=1076.3kbits/s dup=34 drop=0 speed= 3.5x\n"
          ]
        },
        {
          "output_type": "stream",
          "name": "stderr",
          "text": [
            "\rProcessing video:  51%|█████▏    | 1853.58/3600 [08:50<08:19,  3.50s/s]"
          ]
        },
        {
          "output_type": "stream",
          "name": "stdout",
          "text": [
            "frame=55595 fps=105 q=29.0 size=  243456kB time=00:30:53.58 bitrate=1076.0kbits/s dup=34 drop=0 speed= 3.5x\n"
          ]
        },
        {
          "output_type": "stream",
          "name": "stderr",
          "text": [
            "\rProcessing video:  52%|█████▏    | 1856.17/3600 [08:50<08:18,  3.50s/s]"
          ]
        },
        {
          "output_type": "stream",
          "name": "stdout",
          "text": [
            "frame=55672 fps=105 q=29.0 size=  243712kB time=00:30:56.17 bitrate=1075.6kbits/s dup=34 drop=0 speed= 3.5x\n"
          ]
        },
        {
          "output_type": "stream",
          "name": "stderr",
          "text": [
            "\rProcessing video:  52%|█████▏    | 1858.68/3600 [08:51<08:17,  3.50s/s]"
          ]
        },
        {
          "output_type": "stream",
          "name": "stdout",
          "text": [
            "frame=55748 fps=105 q=29.0 size=  243968kB time=00:30:58.68 bitrate=1075.3kbits/s dup=34 drop=0 speed= 3.5x\n"
          ]
        },
        {
          "output_type": "stream",
          "name": "stderr",
          "text": [
            "\rProcessing video:  52%|█████▏    | 1861.35/3600 [08:51<08:16,  3.50s/s]"
          ]
        },
        {
          "output_type": "stream",
          "name": "stdout",
          "text": [
            "frame=55828 fps=105 q=29.0 size=  243968kB time=00:31:01.35 bitrate=1073.7kbits/s dup=34 drop=0 speed=3.51x\n"
          ]
        },
        {
          "output_type": "stream",
          "name": "stderr",
          "text": [
            "\rProcessing video:  52%|█████▏    | 1863.89/3600 [08:52<08:15,  3.50s/s]"
          ]
        },
        {
          "output_type": "stream",
          "name": "stdout",
          "text": [
            "frame=55904 fps=105 q=29.0 size=  244224kB time=00:31:03.89 bitrate=1073.4kbits/s dup=34 drop=0 speed=3.51x\n"
          ]
        },
        {
          "output_type": "stream",
          "name": "stderr",
          "text": [
            "\rProcessing video:  52%|█████▏    | 1866.38/3600 [08:52<08:14,  3.50s/s]"
          ]
        },
        {
          "output_type": "stream",
          "name": "stdout",
          "text": [
            "frame=55979 fps=105 q=29.0 size=  244480kB time=00:31:06.38 bitrate=1073.1kbits/s dup=34 drop=0 speed=3.51x\n"
          ]
        },
        {
          "output_type": "stream",
          "name": "stderr",
          "text": [
            "\rProcessing video:  52%|█████▏    | 1868.86/3600 [08:53<08:13,  3.50s/s]"
          ]
        },
        {
          "output_type": "stream",
          "name": "stdout",
          "text": [
            "frame=56053 fps=105 q=29.0 size=  244736kB time=00:31:08.86 bitrate=1072.8kbits/s dup=34 drop=0 speed=3.51x\n"
          ]
        },
        {
          "output_type": "stream",
          "name": "stderr",
          "text": [
            "\rProcessing video:  52%|█████▏    | 1871.29/3600 [08:53<08:13,  3.51s/s]"
          ]
        },
        {
          "output_type": "stream",
          "name": "stdout",
          "text": [
            "frame=56126 fps=105 q=29.0 size=  244736kB time=00:31:11.29 bitrate=1071.4kbits/s dup=34 drop=0 speed=3.51x\n"
          ]
        },
        {
          "output_type": "stream",
          "name": "stderr",
          "text": [
            "\rProcessing video:  52%|█████▏    | 1873.17/3600 [08:54<08:12,  3.51s/s]"
          ]
        },
        {
          "output_type": "stream",
          "name": "stdout",
          "text": [
            "frame=56182 fps=105 q=29.0 size=  244992kB time=00:31:13.17 bitrate=1071.4kbits/s dup=34 drop=0 speed=3.51x\n"
          ]
        },
        {
          "output_type": "stream",
          "name": "stderr",
          "text": [
            "\rProcessing video:  52%|█████▏    | 1874.38/3600 [08:54<08:12,  3.50s/s]"
          ]
        },
        {
          "output_type": "stream",
          "name": "stdout",
          "text": [
            "frame=56219 fps=105 q=29.0 size=  245504kB time=00:31:14.38 bitrate=1073.0kbits/s dup=34 drop=0 speed=3.51x\n"
          ]
        },
        {
          "output_type": "stream",
          "name": "stderr",
          "text": [
            "\rProcessing video:  52%|█████▏    | 1875.62/3600 [08:55<08:12,  3.50s/s]"
          ]
        },
        {
          "output_type": "stream",
          "name": "stdout",
          "text": [
            "frame=56256 fps=105 q=29.0 size=  245760kB time=00:31:15.62 bitrate=1073.4kbits/s dup=34 drop=0 speed=3.51x\n"
          ]
        },
        {
          "output_type": "stream",
          "name": "stderr",
          "text": [
            "\rProcessing video:  52%|█████▏    | 1876.9/3600 [08:55<08:11,  3.50s/s] "
          ]
        },
        {
          "output_type": "stream",
          "name": "stdout",
          "text": [
            "frame=56294 fps=105 q=29.0 size=  246016kB time=00:31:16.90 bitrate=1073.8kbits/s dup=34 drop=0 speed=3.51x\n"
          ]
        },
        {
          "output_type": "stream",
          "name": "stderr",
          "text": [
            "\rProcessing video:  52%|█████▏    | 1878.03/3600 [08:56<08:11,  3.50s/s]"
          ]
        },
        {
          "output_type": "stream",
          "name": "stdout",
          "text": [
            "frame=56328 fps=105 q=29.0 size=  246272kB time=00:31:18.03 bitrate=1074.2kbits/s dup=34 drop=0 speed=3.51x\n"
          ]
        },
        {
          "output_type": "stream",
          "name": "stderr",
          "text": [
            "\rProcessing video:  52%|█████▏    | 1879.18/3600 [08:56<08:11,  3.50s/s]"
          ]
        },
        {
          "output_type": "stream",
          "name": "stdout",
          "text": [
            "frame=56363 fps=105 q=29.0 size=  246528kB time=00:31:19.18 bitrate=1074.7kbits/s dup=34 drop=0 speed=3.51x\n"
          ]
        },
        {
          "output_type": "stream",
          "name": "stderr",
          "text": [
            "\rProcessing video:  52%|█████▏    | 1880.12/3600 [08:57<08:11,  3.50s/s]"
          ]
        },
        {
          "output_type": "stream",
          "name": "stdout",
          "text": [
            "frame=56391 fps=105 q=29.0 size=  246784kB time=00:31:20.12 bitrate=1075.3kbits/s dup=34 drop=0 speed= 3.5x\n"
          ]
        },
        {
          "output_type": "stream",
          "name": "stderr",
          "text": [
            "\rProcessing video:  52%|█████▏    | 1881.02/3600 [08:57<08:11,  3.50s/s]"
          ]
        },
        {
          "output_type": "stream",
          "name": "stdout",
          "text": [
            "frame=56418 fps=105 q=29.0 size=  247040kB time=00:31:21.02 bitrate=1075.9kbits/s dup=34 drop=0 speed= 3.5x\n"
          ]
        },
        {
          "output_type": "stream",
          "name": "stderr",
          "text": [
            "\rProcessing video:  52%|█████▏    | 1882.24/3600 [08:58<08:11,  3.50s/s]"
          ]
        },
        {
          "output_type": "stream",
          "name": "stdout",
          "text": [
            "frame=56454 fps=105 q=29.0 size=  247296kB time=00:31:22.24 bitrate=1076.3kbits/s dup=34 drop=0 speed= 3.5x\n"
          ]
        },
        {
          "output_type": "stream",
          "name": "stderr",
          "text": [
            "\rProcessing video:  52%|█████▏    | 1883.62/3600 [08:58<08:10,  3.50s/s]"
          ]
        },
        {
          "output_type": "stream",
          "name": "stdout",
          "text": [
            "frame=56496 fps=105 q=29.0 size=  247552kB time=00:31:23.62 bitrate=1076.6kbits/s dup=34 drop=0 speed= 3.5x\n"
          ]
        },
        {
          "output_type": "stream",
          "name": "stderr",
          "text": [
            "\rProcessing video:  52%|█████▏    | 1885.16/3600 [08:59<08:10,  3.50s/s]"
          ]
        },
        {
          "output_type": "stream",
          "name": "stdout",
          "text": [
            "frame=56542 fps=105 q=29.0 size=  247808kB time=00:31:25.16 bitrate=1076.9kbits/s dup=34 drop=0 speed= 3.5x\n"
          ]
        },
        {
          "output_type": "stream",
          "name": "stderr",
          "text": [
            "\rProcessing video:  52%|█████▏    | 1886.86/3600 [08:59<08:10,  3.50s/s]"
          ]
        },
        {
          "output_type": "stream",
          "name": "stdout",
          "text": [
            "frame=56593 fps=105 q=29.0 size=  248064kB time=00:31:26.86 bitrate=1077.0kbits/s dup=34 drop=0 speed= 3.5x\n"
          ]
        },
        {
          "output_type": "stream",
          "name": "stderr",
          "text": [
            "\rProcessing video:  52%|█████▏    | 1888.55/3600 [09:00<08:09,  3.50s/s]"
          ]
        },
        {
          "output_type": "stream",
          "name": "stdout",
          "text": [
            "frame=56644 fps=105 q=29.0 size=  248320kB time=00:31:28.55 bitrate=1077.1kbits/s dup=34 drop=0 speed= 3.5x\n"
          ]
        },
        {
          "output_type": "stream",
          "name": "stderr",
          "text": [
            "\rProcessing video:  53%|█████▎    | 1890.06/3600 [09:00<08:09,  3.49s/s]"
          ]
        },
        {
          "output_type": "stream",
          "name": "stdout",
          "text": [
            "frame=56689 fps=105 q=29.0 size=  248320kB time=00:31:30.06 bitrate=1076.3kbits/s dup=34 drop=0 speed= 3.5x\n"
          ]
        },
        {
          "output_type": "stream",
          "name": "stderr",
          "text": [
            "\rProcessing video:  53%|█████▎    | 1891.66/3600 [09:01<08:08,  3.49s/s]"
          ]
        },
        {
          "output_type": "stream",
          "name": "stdout",
          "text": [
            "frame=56737 fps=105 q=29.0 size=  248576kB time=00:31:31.66 bitrate=1076.5kbits/s dup=34 drop=0 speed= 3.5x\n"
          ]
        },
        {
          "output_type": "stream",
          "name": "stderr",
          "text": [
            "\rProcessing video:  53%|█████▎    | 1893.2/3600 [09:01<08:08,  3.49s/s] "
          ]
        },
        {
          "output_type": "stream",
          "name": "stdout",
          "text": [
            "frame=56783 fps=105 q=29.0 size=  248832kB time=00:31:33.20 bitrate=1076.7kbits/s dup=34 drop=0 speed= 3.5x\n"
          ]
        },
        {
          "output_type": "stream",
          "name": "stderr",
          "text": [
            "\rProcessing video:  53%|█████▎    | 1894.86/3600 [09:02<08:08,  3.49s/s]"
          ]
        },
        {
          "output_type": "stream",
          "name": "stdout",
          "text": [
            "frame=56833 fps=105 q=29.0 size=  249088kB time=00:31:34.86 bitrate=1076.9kbits/s dup=34 drop=0 speed= 3.5x\n"
          ]
        },
        {
          "output_type": "stream",
          "name": "stderr",
          "text": [
            "\rProcessing video:  53%|█████▎    | 1896.87/3600 [09:02<08:07,  3.49s/s]"
          ]
        },
        {
          "output_type": "stream",
          "name": "stdout",
          "text": [
            "frame=56893 fps=105 q=29.0 size=  249344kB time=00:31:36.87 bitrate=1076.8kbits/s dup=34 drop=0 speed= 3.5x\n"
          ]
        },
        {
          "output_type": "stream",
          "name": "stderr",
          "text": [
            "\rProcessing video:  53%|█████▎    | 1899.07/3600 [09:03<08:06,  3.50s/s]"
          ]
        },
        {
          "output_type": "stream",
          "name": "stdout",
          "text": [
            "frame=56959 fps=105 q=29.0 size=  249600kB time=00:31:39.07 bitrate=1076.7kbits/s dup=34 drop=0 speed= 3.5x\n"
          ]
        },
        {
          "output_type": "stream",
          "name": "stderr",
          "text": [
            "\rProcessing video:  53%|█████▎    | 1901.26/3600 [09:03<08:05,  3.50s/s]"
          ]
        },
        {
          "output_type": "stream",
          "name": "stdout",
          "text": [
            "frame=57025 fps=105 q=29.0 size=  249600kB time=00:31:41.26 bitrate=1075.5kbits/s dup=34 drop=0 speed= 3.5x\n"
          ]
        },
        {
          "output_type": "stream",
          "name": "stderr",
          "text": [
            "\rProcessing video:  53%|█████▎    | 1903.48/3600 [09:04<08:05,  3.50s/s]"
          ]
        },
        {
          "output_type": "stream",
          "name": "stdout",
          "text": [
            "frame=57092 fps=105 q=29.0 size=  249856kB time=00:31:43.48 bitrate=1075.3kbits/s dup=34 drop=0 speed= 3.5x\n"
          ]
        },
        {
          "output_type": "stream",
          "name": "stderr",
          "text": [
            "\rProcessing video:  53%|█████▎    | 1905.19/3600 [09:04<08:04,  3.50s/s]"
          ]
        },
        {
          "output_type": "stream",
          "name": "stdout",
          "text": [
            "frame=57143 fps=105 q=29.0 size=  250112kB time=00:31:45.19 bitrate=1075.4kbits/s dup=34 drop=0 speed= 3.5x\n"
          ]
        },
        {
          "output_type": "stream",
          "name": "stderr",
          "text": [
            "\rProcessing video:  53%|█████▎    | 1906.38/3600 [09:05<08:04,  3.50s/s]"
          ]
        },
        {
          "output_type": "stream",
          "name": "stdout",
          "text": [
            "frame=57179 fps=105 q=29.0 size=  250368kB time=00:31:46.38 bitrate=1075.9kbits/s dup=34 drop=0 speed= 3.5x\n"
          ]
        },
        {
          "output_type": "stream",
          "name": "stderr",
          "text": [
            "\rProcessing video:  53%|█████▎    | 1907.32/3600 [09:05<08:04,  3.49s/s]"
          ]
        },
        {
          "output_type": "stream",
          "name": "stdout",
          "text": [
            "frame=57207 fps=105 q=29.0 size=  250624kB time=00:31:47.32 bitrate=1076.4kbits/s dup=34 drop=0 speed= 3.5x\n"
          ]
        },
        {
          "output_type": "stream",
          "name": "stderr",
          "text": [
            "\rProcessing video:  53%|█████▎    | 1908.39/3600 [09:06<08:04,  3.49s/s]"
          ]
        },
        {
          "output_type": "stream",
          "name": "stdout",
          "text": [
            "frame=57239 fps=105 q=29.0 size=  250880kB time=00:31:48.39 bitrate=1076.9kbits/s dup=34 drop=0 speed= 3.5x\n"
          ]
        },
        {
          "output_type": "stream",
          "name": "stderr",
          "text": [
            "\rProcessing video:  53%|█████▎    | 1909.82/3600 [09:06<08:04,  3.49s/s]"
          ]
        },
        {
          "output_type": "stream",
          "name": "stdout",
          "text": [
            "frame=57282 fps=105 q=29.0 size=  251136kB time=00:31:49.82 bitrate=1077.2kbits/s dup=34 drop=0 speed= 3.5x\n"
          ]
        },
        {
          "output_type": "stream",
          "name": "stderr",
          "text": [
            "\rProcessing video:  53%|█████▎    | 1911.87/3600 [09:07<08:03,  3.49s/s]"
          ]
        },
        {
          "output_type": "stream",
          "name": "stdout",
          "text": [
            "frame=57343 fps=105 q=29.0 size=  251392kB time=00:31:51.87 bitrate=1077.2kbits/s dup=34 drop=0 speed= 3.5x\n"
          ]
        },
        {
          "output_type": "stream",
          "name": "stderr",
          "text": [
            "\rProcessing video:  53%|█████▎    | 1914.02/3600 [09:07<08:02,  3.49s/s]"
          ]
        },
        {
          "output_type": "stream",
          "name": "stdout",
          "text": [
            "frame=57408 fps=105 q=29.0 size=  251648kB time=00:31:54.02 bitrate=1077.0kbits/s dup=34 drop=0 speed= 3.5x\n"
          ]
        },
        {
          "output_type": "stream",
          "name": "stderr",
          "text": [
            "\rProcessing video:  53%|█████▎    | 1916.39/3600 [09:08<08:01,  3.49s/s]"
          ]
        },
        {
          "output_type": "stream",
          "name": "stdout",
          "text": [
            "frame=57479 fps=105 q=29.0 size=  251904kB time=00:31:56.39 bitrate=1076.8kbits/s dup=34 drop=0 speed= 3.5x\n"
          ]
        },
        {
          "output_type": "stream",
          "name": "stderr",
          "text": [
            "\rProcessing video:  53%|█████▎    | 1919.18/3600 [09:08<08:00,  3.50s/s]"
          ]
        },
        {
          "output_type": "stream",
          "name": "stdout",
          "text": [
            "frame=57563 fps=105 q=29.0 size=  252160kB time=00:31:59.18 bitrate=1076.3kbits/s dup=34 drop=0 speed= 3.5x\n"
          ]
        },
        {
          "output_type": "stream",
          "name": "stderr",
          "text": [
            "\rProcessing video:  53%|█████▎    | 1921.79/3600 [09:09<07:59,  3.50s/s]"
          ]
        },
        {
          "output_type": "stream",
          "name": "stdout",
          "text": [
            "frame=57641 fps=105 q=29.0 size=  252160kB time=00:32:01.79 bitrate=1074.9kbits/s dup=34 drop=0 speed= 3.5x\n"
          ]
        },
        {
          "output_type": "stream",
          "name": "stderr",
          "text": [
            "\rProcessing video:  53%|█████▎    | 1924.22/3600 [09:09<07:58,  3.50s/s]"
          ]
        },
        {
          "output_type": "stream",
          "name": "stdout",
          "text": [
            "frame=57714 fps=105 q=29.0 size=  252416kB time=00:32:04.22 bitrate=1074.6kbits/s dup=34 drop=0 speed= 3.5x\n"
          ]
        },
        {
          "output_type": "stream",
          "name": "stderr",
          "text": [
            "\rProcessing video:  54%|█████▎    | 1926.72/3600 [09:10<07:58,  3.50s/s]"
          ]
        },
        {
          "output_type": "stream",
          "name": "stdout",
          "text": [
            "frame=57789 fps=105 q=29.0 size=  252672kB time=00:32:06.72 bitrate=1074.3kbits/s dup=34 drop=0 speed=3.51x\n"
          ]
        },
        {
          "output_type": "stream",
          "name": "stderr",
          "text": [
            "\rProcessing video:  54%|█████▎    | 1929.3/3600 [09:10<07:57,  3.50s/s] "
          ]
        },
        {
          "output_type": "stream",
          "name": "stdout",
          "text": [
            "frame=57866 fps=105 q=29.0 size=  252672kB time=00:32:09.30 bitrate=1072.9kbits/s dup=34 drop=0 speed=3.51x\n"
          ]
        },
        {
          "output_type": "stream",
          "name": "stderr",
          "text": [
            "\rProcessing video:  54%|█████▎    | 1931.9/3600 [09:11<07:56,  3.50s/s]"
          ]
        },
        {
          "output_type": "stream",
          "name": "stdout",
          "text": [
            "frame=57944 fps=105 q=29.0 size=  252928kB time=00:32:11.90 bitrate=1072.5kbits/s dup=34 drop=0 speed=3.51x\n"
          ]
        },
        {
          "output_type": "stream",
          "name": "stderr",
          "text": [
            "\rProcessing video:  54%|█████▎    | 1934.69/3600 [09:11<07:55,  3.51s/s]"
          ]
        },
        {
          "output_type": "stream",
          "name": "stdout",
          "text": [
            "frame=58028 fps=105 q=29.0 size=  253184kB time=00:32:14.69 bitrate=1072.0kbits/s dup=34 drop=0 speed=3.51x\n"
          ]
        },
        {
          "output_type": "stream",
          "name": "stderr",
          "text": [
            "\rProcessing video:  54%|█████▍    | 1937.47/3600 [09:12<07:54,  3.51s/s]"
          ]
        },
        {
          "output_type": "stream",
          "name": "stdout",
          "text": [
            "frame=58111 fps=105 q=29.0 size=  253184kB time=00:32:17.47 bitrate=1070.5kbits/s dup=34 drop=0 speed=3.51x\n"
          ]
        },
        {
          "output_type": "stream",
          "name": "stderr",
          "text": [
            "\rProcessing video:  54%|█████▍    | 1939.79/3600 [09:12<07:53,  3.51s/s]"
          ]
        },
        {
          "output_type": "stream",
          "name": "stdout",
          "text": [
            "frame=58181 fps=105 q=29.0 size=  253440kB time=00:32:19.79 bitrate=1070.3kbits/s dup=34 drop=0 speed=3.51x\n"
          ]
        },
        {
          "output_type": "stream",
          "name": "stderr",
          "text": [
            "\rProcessing video:  54%|█████▍    | 1942.27/3600 [09:13<07:52,  3.51s/s]"
          ]
        },
        {
          "output_type": "stream",
          "name": "stdout",
          "text": [
            "frame=58255 fps=105 q=29.0 size=  253696kB time=00:32:22.27 bitrate=1070.0kbits/s dup=34 drop=0 speed=3.51x\n"
          ]
        },
        {
          "output_type": "stream",
          "name": "stderr",
          "text": [
            "\rProcessing video:  54%|█████▍    | 1944.7/3600 [09:13<07:51,  3.51s/s] "
          ]
        },
        {
          "output_type": "stream",
          "name": "stdout",
          "text": [
            "frame=58328 fps=105 q=29.0 size=  253952kB time=00:32:24.70 bitrate=1069.8kbits/s dup=34 drop=0 speed=3.52x\n"
          ]
        },
        {
          "output_type": "stream",
          "name": "stderr",
          "text": [
            "\rProcessing video:  54%|█████▍    | 1947.15/3600 [09:14<07:50,  3.51s/s]"
          ]
        },
        {
          "output_type": "stream",
          "name": "stdout",
          "text": [
            "frame=58402 fps=105 q=29.0 size=  253952kB time=00:32:27.15 bitrate=1068.4kbits/s dup=34 drop=0 speed=3.52x\n"
          ]
        },
        {
          "output_type": "stream",
          "name": "stderr",
          "text": [
            "\rProcessing video:  54%|█████▍    | 1949.58/3600 [09:14<07:49,  3.51s/s]"
          ]
        },
        {
          "output_type": "stream",
          "name": "stdout",
          "text": [
            "frame=58475 fps=106 q=29.0 size=  254208kB time=00:32:29.58 bitrate=1068.2kbits/s dup=34 drop=0 speed=3.52x\n"
          ]
        },
        {
          "output_type": "stream",
          "name": "stderr",
          "text": [
            "\rProcessing video:  54%|█████▍    | 1952.02/3600 [09:15<07:48,  3.51s/s]"
          ]
        },
        {
          "output_type": "stream",
          "name": "stdout",
          "text": [
            "frame=58548 fps=106 q=29.0 size=  254464kB time=00:32:32.02 bitrate=1067.9kbits/s dup=34 drop=0 speed=3.52x\n"
          ]
        },
        {
          "output_type": "stream",
          "name": "stderr",
          "text": [
            "\rProcessing video:  54%|█████▍    | 1954.38/3600 [09:15<07:48,  3.52s/s]"
          ]
        },
        {
          "output_type": "stream",
          "name": "stdout",
          "text": [
            "frame=58619 fps=106 q=29.0 size=  254720kB time=00:32:34.38 bitrate=1067.7kbits/s dup=34 drop=0 speed=3.52x\n"
          ]
        },
        {
          "output_type": "stream",
          "name": "stderr",
          "text": [
            "\rProcessing video:  54%|█████▍    | 1957.05/3600 [09:16<07:47,  3.52s/s]"
          ]
        },
        {
          "output_type": "stream",
          "name": "stdout",
          "text": [
            "frame=58699 fps=106 q=29.0 size=  254720kB time=00:32:37.05 bitrate=1066.2kbits/s dup=34 drop=0 speed=3.52x\n"
          ]
        },
        {
          "output_type": "stream",
          "name": "stderr",
          "text": [
            "\rProcessing video:  54%|█████▍    | 1959.93/3600 [09:17<07:46,  3.52s/s]"
          ]
        },
        {
          "output_type": "stream",
          "name": "stdout",
          "text": [
            "frame=58785 fps=106 q=29.0 size=  254976kB time=00:32:39.93 bitrate=1065.7kbits/s dup=34 drop=0 speed=3.52x\n"
          ]
        },
        {
          "output_type": "stream",
          "name": "stderr",
          "text": [
            "\rProcessing video:  55%|█████▍    | 1962.83/3600 [09:17<07:45,  3.52s/s]"
          ]
        },
        {
          "output_type": "stream",
          "name": "stdout",
          "text": [
            "frame=58872 fps=106 q=29.0 size=  255232kB time=00:32:42.83 bitrate=1065.2kbits/s dup=34 drop=0 speed=3.53x\n"
          ]
        },
        {
          "output_type": "stream",
          "name": "stderr",
          "text": [
            "\rProcessing video:  55%|█████▍    | 1965.58/3600 [09:18<07:43,  3.52s/s]"
          ]
        },
        {
          "output_type": "stream",
          "name": "stdout",
          "text": [
            "frame=58955 fps=106 q=29.0 size=  255232kB time=00:32:45.58 bitrate=1063.7kbits/s dup=34 drop=0 speed=3.53x\n"
          ]
        },
        {
          "output_type": "stream",
          "name": "stderr",
          "text": [
            "\rProcessing video:  55%|█████▍    | 1967.4/3600 [09:18<07:43,  3.52s/s] "
          ]
        },
        {
          "output_type": "stream",
          "name": "stdout",
          "text": [
            "frame=59009 fps=106 q=29.0 size=  255488kB time=00:32:47.40 bitrate=1063.8kbits/s dup=34 drop=0 speed=3.53x\n"
          ]
        },
        {
          "output_type": "stream",
          "name": "stderr",
          "text": [
            "\rProcessing video:  55%|█████▍    | 1968.59/3600 [09:19<07:43,  3.52s/s]"
          ]
        },
        {
          "output_type": "stream",
          "name": "stdout",
          "text": [
            "frame=59045 fps=106 q=29.0 size=  255744kB time=00:32:48.59 bitrate=1064.2kbits/s dup=34 drop=0 speed=3.53x\n"
          ]
        },
        {
          "output_type": "stream",
          "name": "stderr",
          "text": [
            "\rProcessing video:  55%|█████▍    | 1969.79/3600 [09:19<07:43,  3.52s/s]"
          ]
        },
        {
          "output_type": "stream",
          "name": "stdout",
          "text": [
            "frame=59081 fps=106 q=29.0 size=  256000kB time=00:32:49.79 bitrate=1064.7kbits/s dup=34 drop=0 speed=3.53x\n"
          ]
        },
        {
          "output_type": "stream",
          "name": "stderr",
          "text": [
            "\rProcessing video:  55%|█████▍    | 1971.22/3600 [09:20<07:42,  3.52s/s]"
          ]
        },
        {
          "output_type": "stream",
          "name": "stdout",
          "text": [
            "frame=59124 fps=106 q=29.0 size=  256512kB time=00:32:51.22 bitrate=1066.0kbits/s dup=34 drop=0 speed=3.53x\n"
          ]
        },
        {
          "output_type": "stream",
          "name": "stderr",
          "text": [
            "\rProcessing video:  55%|█████▍    | 1973.46/3600 [09:20<07:41,  3.52s/s]"
          ]
        },
        {
          "output_type": "stream",
          "name": "stdout",
          "text": [
            "frame=59191 fps=106 q=29.0 size=  256768kB time=00:32:53.46 bitrate=1065.9kbits/s dup=34 drop=0 speed=3.53x\n"
          ]
        },
        {
          "output_type": "stream",
          "name": "stderr",
          "text": [
            "\rProcessing video:  55%|█████▍    | 1975.7/3600 [09:21<07:41,  3.52s/s] "
          ]
        },
        {
          "output_type": "stream",
          "name": "stdout",
          "text": [
            "frame=59258 fps=106 q=29.0 size=  256768kB time=00:32:55.70 bitrate=1064.7kbits/s dup=34 drop=0 speed=3.53x\n"
          ]
        },
        {
          "output_type": "stream",
          "name": "stderr",
          "text": [
            "\rProcessing video:  55%|█████▍    | 1977.96/3600 [09:21<07:40,  3.52s/s]"
          ]
        },
        {
          "output_type": "stream",
          "name": "stdout",
          "text": [
            "frame=59326 fps=106 q=29.0 size=  257024kB time=00:32:57.96 bitrate=1064.5kbits/s dup=34 drop=0 speed=3.53x\n"
          ]
        },
        {
          "output_type": "stream",
          "name": "stderr",
          "text": [
            "\rProcessing video:  55%|█████▌    | 1980.16/3600 [09:22<07:39,  3.52s/s]"
          ]
        },
        {
          "output_type": "stream",
          "name": "stdout",
          "text": [
            "frame=59392 fps=106 q=29.0 size=  257280kB time=00:33:00.16 bitrate=1064.4kbits/s dup=34 drop=0 speed=3.53x\n"
          ]
        },
        {
          "output_type": "stream",
          "name": "stderr",
          "text": [
            "\rProcessing video:  55%|█████▌    | 1982.35/3600 [09:22<07:39,  3.52s/s]"
          ]
        },
        {
          "output_type": "stream",
          "name": "stdout",
          "text": [
            "frame=59458 fps=106 q=29.0 size=  257536kB time=00:33:02.35 bitrate=1064.3kbits/s dup=34 drop=0 speed=3.53x\n"
          ]
        },
        {
          "output_type": "stream",
          "name": "stderr",
          "text": [
            "\rProcessing video:  55%|█████▌    | 1984.42/3600 [09:23<07:38,  3.52s/s]"
          ]
        },
        {
          "output_type": "stream",
          "name": "stdout",
          "text": [
            "frame=59520 fps=106 q=29.0 size=  257536kB time=00:33:04.42 bitrate=1063.1kbits/s dup=34 drop=0 speed=3.53x\n"
          ]
        },
        {
          "output_type": "stream",
          "name": "stderr",
          "text": [
            "\rProcessing video:  55%|█████▌    | 1986.13/3600 [09:23<07:37,  3.52s/s]"
          ]
        },
        {
          "output_type": "stream",
          "name": "stdout",
          "text": [
            "frame=59571 fps=106 q=29.0 size=  257792kB time=00:33:06.13 bitrate=1063.3kbits/s dup=34 drop=0 speed=3.53x\n"
          ]
        },
        {
          "output_type": "stream",
          "name": "stderr",
          "text": [
            "\rProcessing video:  55%|█████▌    | 1987.3/3600 [09:24<07:37,  3.52s/s] "
          ]
        },
        {
          "output_type": "stream",
          "name": "stdout",
          "text": [
            "frame=59606 fps=106 q=29.0 size=  258048kB time=00:33:07.30 bitrate=1063.7kbits/s dup=34 drop=0 speed=3.53x\n"
          ]
        },
        {
          "output_type": "stream",
          "name": "stderr",
          "text": [
            "\rProcessing video:  55%|█████▌    | 1988.43/3600 [09:24<07:37,  3.52s/s]"
          ]
        },
        {
          "output_type": "stream",
          "name": "stdout",
          "text": [
            "frame=59640 fps=106 q=29.0 size=  258304kB time=00:33:08.43 bitrate=1064.2kbits/s dup=34 drop=0 speed=3.53x\n"
          ]
        },
        {
          "output_type": "stream",
          "name": "stderr",
          "text": [
            "\rProcessing video:  55%|█████▌    | 1989.65/3600 [09:25<07:37,  3.52s/s]"
          ]
        },
        {
          "output_type": "stream",
          "name": "stdout",
          "text": [
            "frame=59677 fps=106 q=29.0 size=  258560kB time=00:33:09.65 bitrate=1064.6kbits/s dup=34 drop=0 speed=3.53x\n"
          ]
        },
        {
          "output_type": "stream",
          "name": "stderr",
          "text": [
            "\rProcessing video:  55%|█████▌    | 1990.86/3600 [09:25<07:37,  3.52s/s]"
          ]
        },
        {
          "output_type": "stream",
          "name": "stdout",
          "text": [
            "frame=59713 fps=106 q=29.0 size=  258816kB time=00:33:10.86 bitrate=1065.0kbits/s dup=34 drop=0 speed=3.53x\n"
          ]
        },
        {
          "output_type": "stream",
          "name": "stderr",
          "text": [
            "\rProcessing video:  55%|█████▌    | 1992.1/3600 [09:26<07:36,  3.52s/s] "
          ]
        },
        {
          "output_type": "stream",
          "name": "stdout",
          "text": [
            "frame=59750 fps=106 q=29.0 size=  259328kB time=00:33:12.10 bitrate=1066.4kbits/s dup=34 drop=0 speed=3.52x\n"
          ]
        },
        {
          "output_type": "stream",
          "name": "stderr",
          "text": [
            "\rProcessing video:  55%|█████▌    | 1993.6/3600 [09:26<07:36,  3.52s/s]"
          ]
        },
        {
          "output_type": "stream",
          "name": "stdout",
          "text": [
            "frame=59795 fps=106 q=29.0 size=  259584kB time=00:33:13.60 bitrate=1066.7kbits/s dup=34 drop=0 speed=3.52x\n"
          ]
        },
        {
          "output_type": "stream",
          "name": "stderr",
          "text": [
            "\rProcessing video:  55%|█████▌    | 1995.15/3600 [09:27<07:36,  3.52s/s]"
          ]
        },
        {
          "output_type": "stream",
          "name": "stdout",
          "text": [
            "frame=59842 fps=106 q=29.0 size=  259840kB time=00:33:15.15 bitrate=1066.9kbits/s dup=34 drop=0 speed=3.52x\n"
          ]
        },
        {
          "output_type": "stream",
          "name": "stderr",
          "text": [
            "\rProcessing video:  55%|█████▌    | 1996.52/3600 [09:27<07:35,  3.52s/s]"
          ]
        },
        {
          "output_type": "stream",
          "name": "stdout",
          "text": [
            "frame=59883 fps=106 q=29.0 size=  260096kB time=00:33:16.52 bitrate=1067.2kbits/s dup=34 drop=0 speed=3.52x\n"
          ]
        },
        {
          "output_type": "stream",
          "name": "stderr",
          "text": [
            "\rProcessing video:  56%|█████▌    | 1998.22/3600 [09:28<07:35,  3.52s/s]"
          ]
        },
        {
          "output_type": "stream",
          "name": "stdout",
          "text": [
            "frame=59934 fps=106 q=29.0 size=  260352kB time=00:33:18.22 bitrate=1067.3kbits/s dup=34 drop=0 speed=3.52x\n"
          ]
        },
        {
          "output_type": "stream",
          "name": "stderr",
          "text": [
            "\rProcessing video:  56%|█████▌    | 2000.49/3600 [09:28<07:34,  3.52s/s]"
          ]
        },
        {
          "output_type": "stream",
          "name": "stdout",
          "text": [
            "frame=60002 fps=106 q=29.0 size=  260608kB time=00:33:20.49 bitrate=1067.2kbits/s dup=34 drop=0 speed=3.52x\n"
          ]
        },
        {
          "output_type": "stream",
          "name": "stderr",
          "text": [
            "\rProcessing video:  56%|█████▌    | 2002.56/3600 [09:29<07:34,  3.52s/s]"
          ]
        },
        {
          "output_type": "stream",
          "name": "stdout",
          "text": [
            "frame=60064 fps=106 q=29.0 size=  260608kB time=00:33:22.56 bitrate=1066.1kbits/s dup=34 drop=0 speed=3.52x\n"
          ]
        },
        {
          "output_type": "stream",
          "name": "stderr",
          "text": [
            "\rProcessing video:  56%|█████▌    | 2003.92/3600 [09:29<07:33,  3.52s/s]"
          ]
        },
        {
          "output_type": "stream",
          "name": "stdout",
          "text": [
            "frame=60105 fps=106 q=29.0 size=  260864kB time=00:33:23.92 bitrate=1066.4kbits/s dup=34 drop=0 speed=3.52x\n"
          ]
        },
        {
          "output_type": "stream",
          "name": "stderr",
          "text": [
            "\rProcessing video:  56%|█████▌    | 2005.26/3600 [09:30<07:33,  3.52s/s]"
          ]
        },
        {
          "output_type": "stream",
          "name": "stdout",
          "text": [
            "frame=60145 fps=106 q=29.0 size=  261120kB time=00:33:25.26 bitrate=1066.7kbits/s dup=34 drop=0 speed=3.52x\n"
          ]
        },
        {
          "output_type": "stream",
          "name": "stderr",
          "text": [
            "\rProcessing video:  56%|█████▌    | 2006.46/3600 [09:30<07:33,  3.52s/s]"
          ]
        },
        {
          "output_type": "stream",
          "name": "stdout",
          "text": [
            "frame=60181 fps=106 q=29.0 size=  261376kB time=00:33:26.46 bitrate=1067.1kbits/s dup=34 drop=0 speed=3.52x\n"
          ]
        },
        {
          "output_type": "stream",
          "name": "stderr",
          "text": [
            "\rProcessing video:  56%|█████▌    | 2007.72/3600 [09:31<07:33,  3.51s/s]"
          ]
        },
        {
          "output_type": "stream",
          "name": "stdout",
          "text": [
            "frame=60219 fps=106 q=29.0 size=  261632kB time=00:33:27.72 bitrate=1067.5kbits/s dup=34 drop=0 speed=3.52x\n"
          ]
        },
        {
          "output_type": "stream",
          "name": "stderr",
          "text": [
            "\rProcessing video:  56%|█████▌    | 2009.0/3600 [09:31<07:32,  3.51s/s] "
          ]
        },
        {
          "output_type": "stream",
          "name": "stdout",
          "text": [
            "frame=60257 fps=106 q=29.0 size=  261888kB time=00:33:29.00 bitrate=1067.9kbits/s dup=34 drop=0 speed=3.52x\n"
          ]
        },
        {
          "output_type": "stream",
          "name": "stderr",
          "text": [
            "\rProcessing video:  56%|█████▌    | 2010.38/3600 [09:32<07:32,  3.51s/s]"
          ]
        },
        {
          "output_type": "stream",
          "name": "stdout",
          "text": [
            "frame=60299 fps=106 q=29.0 size=  262400kB time=00:33:30.38 bitrate=1069.2kbits/s dup=34 drop=0 speed=3.52x\n"
          ]
        },
        {
          "output_type": "stream",
          "name": "stderr",
          "text": [
            "\rProcessing video:  56%|█████▌    | 2011.84/3600 [09:32<07:32,  3.51s/s]"
          ]
        },
        {
          "output_type": "stream",
          "name": "stdout",
          "text": [
            "frame=60342 fps=106 q=29.0 size=  262656kB time=00:33:31.84 bitrate=1069.5kbits/s dup=34 drop=0 speed=3.52x\n"
          ]
        },
        {
          "output_type": "stream",
          "name": "stderr",
          "text": [
            "\rProcessing video:  56%|█████▌    | 2013.46/3600 [09:33<07:31,  3.51s/s]"
          ]
        },
        {
          "output_type": "stream",
          "name": "stdout",
          "text": [
            "frame=60391 fps=106 q=29.0 size=  262912kB time=00:33:33.46 bitrate=1069.7kbits/s dup=34 drop=0 speed=3.52x\n"
          ]
        },
        {
          "output_type": "stream",
          "name": "stderr",
          "text": [
            "\rProcessing video:  56%|█████▌    | 2015.46/3600 [09:33<07:31,  3.51s/s]"
          ]
        },
        {
          "output_type": "stream",
          "name": "stdout",
          "text": [
            "frame=60451 fps=106 q=29.0 size=  263168kB time=00:33:35.46 bitrate=1069.7kbits/s dup=34 drop=0 speed=3.52x\n"
          ]
        },
        {
          "output_type": "stream",
          "name": "stderr",
          "text": [
            "\rProcessing video:  56%|█████▌    | 2017.62/3600 [09:34<07:30,  3.51s/s]"
          ]
        },
        {
          "output_type": "stream",
          "name": "stdout",
          "text": [
            "frame=60516 fps=106 q=29.0 size=  263424kB time=00:33:37.62 bitrate=1069.6kbits/s dup=34 drop=0 speed=3.52x\n"
          ]
        },
        {
          "output_type": "stream",
          "name": "stderr",
          "text": [
            "\rProcessing video:  56%|█████▌    | 2019.86/3600 [09:34<07:29,  3.51s/s]"
          ]
        },
        {
          "output_type": "stream",
          "name": "stdout",
          "text": [
            "frame=60583 fps=106 q=29.0 size=  263680kB time=00:33:39.86 bitrate=1069.4kbits/s dup=34 drop=0 speed=3.52x\n"
          ]
        },
        {
          "output_type": "stream",
          "name": "stderr",
          "text": [
            "\rProcessing video:  56%|█████▌    | 2021.86/3600 [09:35<07:28,  3.51s/s]"
          ]
        },
        {
          "output_type": "stream",
          "name": "stdout",
          "text": [
            "frame=60643 fps=106 q=29.0 size=  263936kB time=00:33:41.86 bitrate=1069.4kbits/s dup=34 drop=0 speed=3.52x\n"
          ]
        },
        {
          "output_type": "stream",
          "name": "stderr",
          "text": [
            "\rProcessing video:  56%|█████▌    | 2024.49/3600 [09:35<07:28,  3.52s/s]"
          ]
        },
        {
          "output_type": "stream",
          "name": "stdout",
          "text": [
            "frame=60722 fps=106 q=29.0 size=  264192kB time=00:33:44.49 bitrate=1069.0kbits/s dup=34 drop=0 speed=3.52x\n"
          ]
        },
        {
          "output_type": "stream",
          "name": "stderr",
          "text": [
            "\rProcessing video:  56%|█████▋    | 2027.15/3600 [09:36<07:27,  3.52s/s]"
          ]
        },
        {
          "output_type": "stream",
          "name": "stdout",
          "text": [
            "frame=60802 fps=106 q=29.0 size=  264448kB time=00:33:47.15 bitrate=1068.7kbits/s dup=34 drop=0 speed=3.52x\n"
          ]
        },
        {
          "output_type": "stream",
          "name": "stderr",
          "text": [
            "\rProcessing video:  56%|█████▋    | 2029.73/3600 [09:36<07:26,  3.52s/s]"
          ]
        },
        {
          "output_type": "stream",
          "name": "stdout",
          "text": [
            "frame=60879 fps=106 q=29.0 size=  264448kB time=00:33:49.73 bitrate=1067.3kbits/s dup=34 drop=0 speed=3.52x\n"
          ]
        },
        {
          "output_type": "stream",
          "name": "stderr",
          "text": [
            "\rProcessing video:  56%|█████▋    | 2032.06/3600 [09:37<07:25,  3.52s/s]"
          ]
        },
        {
          "output_type": "stream",
          "name": "stdout",
          "text": [
            "frame=60949 fps=106 q=29.0 size=  264704kB time=00:33:52.06 bitrate=1067.1kbits/s dup=34 drop=0 speed=3.53x\n"
          ]
        },
        {
          "output_type": "stream",
          "name": "stderr",
          "text": [
            "\rProcessing video:  57%|█████▋    | 2034.43/3600 [09:37<07:24,  3.52s/s]"
          ]
        },
        {
          "output_type": "stream",
          "name": "stdout",
          "text": [
            "frame=61020 fps=106 q=29.0 size=  264960kB time=00:33:54.43 bitrate=1066.9kbits/s dup=34 drop=0 speed=3.53x\n"
          ]
        },
        {
          "output_type": "stream",
          "name": "stderr",
          "text": [
            "\rProcessing video:  57%|█████▋    | 2036.9/3600 [09:38<07:23,  3.52s/s] "
          ]
        },
        {
          "output_type": "stream",
          "name": "stdout",
          "text": [
            "frame=61094 fps=106 q=29.0 size=  265216kB time=00:33:56.90 bitrate=1066.6kbits/s dup=34 drop=0 speed=3.53x\n"
          ]
        },
        {
          "output_type": "stream",
          "name": "stderr",
          "text": [
            "\rProcessing video:  57%|█████▋    | 2039.36/3600 [09:38<07:22,  3.52s/s]"
          ]
        },
        {
          "output_type": "stream",
          "name": "stdout",
          "text": [
            "frame=61168 fps=106 q=29.0 size=  265472kB time=00:33:59.36 bitrate=1066.4kbits/s dup=34 drop=0 speed=3.53x\n"
          ]
        },
        {
          "output_type": "stream",
          "name": "stderr",
          "text": [
            "\rProcessing video:  57%|█████▋    | 2041.85/3600 [09:39<07:22,  3.53s/s]"
          ]
        },
        {
          "output_type": "stream",
          "name": "stdout",
          "text": [
            "frame=61243 fps=106 q=29.0 size=  265472kB time=00:34:01.85 bitrate=1065.1kbits/s dup=34 drop=0 speed=3.53x\n"
          ]
        },
        {
          "output_type": "stream",
          "name": "stderr",
          "text": [
            "\rProcessing video:  57%|█████▋    | 2044.33/3600 [09:39<07:21,  3.53s/s]"
          ]
        },
        {
          "output_type": "stream",
          "name": "stdout",
          "text": [
            "frame=61317 fps=106 q=29.0 size=  265728kB time=00:34:04.33 bitrate=1064.8kbits/s dup=34 drop=0 speed=3.53x\n"
          ]
        },
        {
          "output_type": "stream",
          "name": "stderr",
          "text": [
            "\rProcessing video:  57%|█████▋    | 2046.69/3600 [09:40<07:20,  3.53s/s]"
          ]
        },
        {
          "output_type": "stream",
          "name": "stdout",
          "text": [
            "frame=61388 fps=106 q=26.0 size=  265984kB time=00:34:06.69 bitrate=1064.6kbits/s dup=34 drop=0 speed=3.53x\n"
          ]
        },
        {
          "output_type": "stream",
          "name": "stderr",
          "text": [
            "\rProcessing video:  57%|█████▋    | 2049.19/3600 [09:40<07:19,  3.53s/s]"
          ]
        },
        {
          "output_type": "stream",
          "name": "stdout",
          "text": [
            "frame=61463 fps=106 q=29.0 size=  266240kB time=00:34:09.19 bitrate=1064.3kbits/s dup=34 drop=0 speed=3.53x\n"
          ]
        },
        {
          "output_type": "stream",
          "name": "stderr",
          "text": [
            "\rProcessing video:  57%|█████▋    | 2051.09/3600 [09:41<07:18,  3.53s/s]"
          ]
        },
        {
          "output_type": "stream",
          "name": "stdout",
          "text": [
            "frame=61520 fps=106 q=29.0 size=  266496kB time=00:34:11.09 bitrate=1064.4kbits/s dup=34 drop=0 speed=3.53x\n"
          ]
        },
        {
          "output_type": "stream",
          "name": "stderr",
          "text": [
            "\rProcessing video:  57%|█████▋    | 2052.56/3600 [09:41<07:18,  3.53s/s]"
          ]
        },
        {
          "output_type": "stream",
          "name": "stdout",
          "text": [
            "frame=61564 fps=106 q=29.0 size=  266496kB time=00:34:12.56 bitrate=1063.6kbits/s dup=34 drop=0 speed=3.53x\n"
          ]
        },
        {
          "output_type": "stream",
          "name": "stderr",
          "text": [
            "\rProcessing video:  57%|█████▋    | 2053.82/3600 [09:42<07:18,  3.53s/s]"
          ]
        },
        {
          "output_type": "stream",
          "name": "stdout",
          "text": [
            "frame=61602 fps=106 q=29.0 size=  267008kB time=00:34:13.82 bitrate=1065.0kbits/s dup=34 drop=0 speed=3.53x\n"
          ]
        },
        {
          "output_type": "stream",
          "name": "stderr",
          "text": [
            "\rProcessing video:  57%|█████▋    | 2055.12/3600 [09:42<07:18,  3.53s/s]"
          ]
        },
        {
          "output_type": "stream",
          "name": "stdout",
          "text": [
            "frame=61641 fps=106 q=29.0 size=  267264kB time=00:34:15.12 bitrate=1065.3kbits/s dup=34 drop=0 speed=3.53x\n"
          ]
        },
        {
          "output_type": "stream",
          "name": "stderr",
          "text": [
            "\rProcessing video:  57%|█████▋    | 2056.36/3600 [09:43<07:17,  3.52s/s]"
          ]
        },
        {
          "output_type": "stream",
          "name": "stdout",
          "text": [
            "frame=61678 fps=106 q=29.0 size=  267520kB time=00:34:16.36 bitrate=1065.7kbits/s dup=34 drop=0 speed=3.53x\n"
          ]
        },
        {
          "output_type": "stream",
          "name": "stderr",
          "text": [
            "\rProcessing video:  57%|█████▋    | 2057.49/3600 [09:43<07:17,  3.52s/s]"
          ]
        },
        {
          "output_type": "stream",
          "name": "stdout",
          "text": [
            "frame=61712 fps=106 q=29.0 size=  267776kB time=00:34:17.49 bitrate=1066.2kbits/s dup=34 drop=0 speed=3.53x\n"
          ]
        },
        {
          "output_type": "stream",
          "name": "stderr",
          "text": [
            "\rProcessing video:  57%|█████▋    | 2058.6/3600 [09:44<07:17,  3.52s/s] "
          ]
        },
        {
          "output_type": "stream",
          "name": "stdout",
          "text": [
            "frame=61745 fps=106 q=26.0 size=  268032kB time=00:34:18.60 bitrate=1066.6kbits/s dup=34 drop=0 speed=3.53x\n"
          ]
        },
        {
          "output_type": "stream",
          "name": "stderr",
          "text": [
            "\rProcessing video:  57%|█████▋    | 2060.03/3600 [09:45<07:17,  3.52s/s]"
          ]
        },
        {
          "output_type": "stream",
          "name": "stdout",
          "text": [
            "frame=61788 fps=106 q=29.0 size=  268288kB time=00:34:20.03 bitrate=1066.9kbits/s dup=34 drop=0 speed=3.53x\n"
          ]
        },
        {
          "output_type": "stream",
          "name": "stderr",
          "text": [
            "\rProcessing video:  57%|█████▋    | 2061.58/3600 [09:45<07:16,  3.52s/s]"
          ]
        },
        {
          "output_type": "stream",
          "name": "stdout",
          "text": [
            "frame=61835 fps=106 q=29.0 size=  268544kB time=00:34:21.58 bitrate=1067.1kbits/s dup=34 drop=0 speed=3.53x\n"
          ]
        },
        {
          "output_type": "stream",
          "name": "stderr",
          "text": [
            "\rProcessing video:  57%|█████▋    | 2063.16/3600 [09:46<07:16,  3.52s/s]"
          ]
        },
        {
          "output_type": "stream",
          "name": "stdout",
          "text": [
            "frame=61882 fps=106 q=26.0 size=  268800kB time=00:34:23.16 bitrate=1067.3kbits/s dup=34 drop=0 speed=3.53x\n"
          ]
        },
        {
          "output_type": "stream",
          "name": "stderr",
          "text": [
            "\rProcessing video:  57%|█████▋    | 2064.7/3600 [09:46<07:16,  3.52s/s] "
          ]
        },
        {
          "output_type": "stream",
          "name": "stdout",
          "text": [
            "frame=61928 fps=106 q=29.0 size=  269056kB time=00:34:24.70 bitrate=1067.5kbits/s dup=34 drop=0 speed=3.53x\n"
          ]
        },
        {
          "output_type": "stream",
          "name": "stderr",
          "text": [
            "\rProcessing video:  57%|█████▋    | 2066.15/3600 [09:47<07:15,  3.52s/s]"
          ]
        },
        {
          "output_type": "stream",
          "name": "stdout",
          "text": [
            "frame=61972 fps=106 q=29.0 size=  269312kB time=00:34:26.15 bitrate=1067.8kbits/s dup=34 drop=0 speed=3.52x\n"
          ]
        },
        {
          "output_type": "stream",
          "name": "stderr",
          "text": [
            "\rProcessing video:  57%|█████▋    | 2067.84/3600 [09:47<07:15,  3.52s/s]"
          ]
        },
        {
          "output_type": "stream",
          "name": "stdout",
          "text": [
            "frame=62022 fps=106 q=29.0 size=  269568kB time=00:34:27.84 bitrate=1067.9kbits/s dup=34 drop=0 speed=3.52x\n"
          ]
        },
        {
          "output_type": "stream",
          "name": "stderr",
          "text": [
            "\rProcessing video:  57%|█████▋    | 2069.88/3600 [09:48<07:14,  3.52s/s]"
          ]
        },
        {
          "output_type": "stream",
          "name": "stdout",
          "text": [
            "frame=62084 fps=106 q=29.0 size=  269824kB time=00:34:29.88 bitrate=1067.9kbits/s dup=34 drop=0 speed=3.53x\n"
          ]
        },
        {
          "output_type": "stream",
          "name": "stderr",
          "text": [
            "\rProcessing video:  58%|█████▊    | 2072.06/3600 [09:48<07:13,  3.52s/s]"
          ]
        },
        {
          "output_type": "stream",
          "name": "stdout",
          "text": [
            "frame=62149 fps=106 q=29.0 size=  270080kB time=00:34:32.06 bitrate=1067.8kbits/s dup=34 drop=0 speed=3.53x\n"
          ]
        },
        {
          "output_type": "stream",
          "name": "stderr",
          "text": [
            "\rProcessing video:  58%|█████▊    | 2073.7/3600 [09:49<07:13,  3.52s/s] "
          ]
        },
        {
          "output_type": "stream",
          "name": "stdout",
          "text": [
            "frame=62198 fps=106 q=29.0 size=  270336kB time=00:34:33.70 bitrate=1067.9kbits/s dup=34 drop=0 speed=3.53x\n"
          ]
        },
        {
          "output_type": "stream",
          "name": "stderr",
          "text": [
            "\rProcessing video:  58%|█████▊    | 2074.92/3600 [09:49<07:13,  3.52s/s]"
          ]
        },
        {
          "output_type": "stream",
          "name": "stdout",
          "text": [
            "frame=62235 fps=106 q=29.0 size=  270592kB time=00:34:34.92 bitrate=1068.3kbits/s dup=34 drop=0 speed=3.52x\n"
          ]
        },
        {
          "output_type": "stream",
          "name": "stderr",
          "text": [
            "\rProcessing video:  58%|█████▊    | 2076.13/3600 [09:50<07:13,  3.52s/s]"
          ]
        },
        {
          "output_type": "stream",
          "name": "stdout",
          "text": [
            "frame=62271 fps=106 q=29.0 size=  270848kB time=00:34:36.13 bitrate=1068.7kbits/s dup=34 drop=0 speed=3.52x\n"
          ]
        },
        {
          "output_type": "stream",
          "name": "stderr",
          "text": [
            "\rProcessing video:  58%|█████▊    | 2077.33/3600 [09:50<07:12,  3.52s/s]"
          ]
        },
        {
          "output_type": "stream",
          "name": "stdout",
          "text": [
            "frame=62307 fps=106 q=29.0 size=  271104kB time=00:34:37.33 bitrate=1069.1kbits/s dup=34 drop=0 speed=3.52x\n"
          ]
        },
        {
          "output_type": "stream",
          "name": "stderr",
          "text": [
            "\rProcessing video:  58%|█████▊    | 2078.5/3600 [09:51<07:12,  3.52s/s] "
          ]
        },
        {
          "output_type": "stream",
          "name": "stdout",
          "text": [
            "frame=62342 fps=106 q=29.0 size=  271360kB time=00:34:38.50 bitrate=1069.5kbits/s dup=34 drop=0 speed=3.52x\n"
          ]
        },
        {
          "output_type": "stream",
          "name": "stderr",
          "text": [
            "\rProcessing video:  58%|█████▊    | 2079.72/3600 [09:51<07:12,  3.52s/s]"
          ]
        },
        {
          "output_type": "stream",
          "name": "stdout",
          "text": [
            "frame=62379 fps=106 q=29.0 size=  271616kB time=00:34:39.72 bitrate=1069.9kbits/s dup=34 drop=0 speed=3.52x\n"
          ]
        },
        {
          "output_type": "stream",
          "name": "stderr",
          "text": [
            "\rProcessing video:  58%|█████▊    | 2080.93/3600 [09:52<07:12,  3.51s/s]"
          ]
        },
        {
          "output_type": "stream",
          "name": "stdout",
          "text": [
            "frame=62415 fps=106 q=26.0 size=  271872kB time=00:34:40.93 bitrate=1070.3kbits/s dup=34 drop=0 speed=3.52x\n"
          ]
        },
        {
          "output_type": "stream",
          "name": "stderr",
          "text": [
            "\rProcessing video:  58%|█████▊    | 2082.3/3600 [09:52<07:11,  3.51s/s] "
          ]
        },
        {
          "output_type": "stream",
          "name": "stdout",
          "text": [
            "frame=62456 fps=106 q=29.0 size=  272384kB time=00:34:42.30 bitrate=1071.6kbits/s dup=34 drop=0 speed=3.52x\n"
          ]
        },
        {
          "output_type": "stream",
          "name": "stderr",
          "text": [
            "\rProcessing video:  58%|█████▊    | 2083.84/3600 [09:53<07:11,  3.51s/s]"
          ]
        },
        {
          "output_type": "stream",
          "name": "stdout",
          "text": [
            "frame=62502 fps=106 q=29.0 size=  272640kB time=00:34:43.84 bitrate=1071.8kbits/s dup=34 drop=0 speed=3.52x\n"
          ]
        },
        {
          "output_type": "stream",
          "name": "stderr",
          "text": [
            "\rProcessing video:  58%|█████▊    | 2085.5/3600 [09:53<07:11,  3.51s/s] "
          ]
        },
        {
          "output_type": "stream",
          "name": "stdout",
          "text": [
            "frame=62552 fps=106 q=29.0 size=  272896kB time=00:34:45.50 bitrate=1072.0kbits/s dup=34 drop=0 speed=3.52x\n"
          ]
        },
        {
          "output_type": "stream",
          "name": "stderr",
          "text": [
            "\rProcessing video:  58%|█████▊    | 2087.57/3600 [09:54<07:10,  3.51s/s]"
          ]
        },
        {
          "output_type": "stream",
          "name": "stdout",
          "text": [
            "frame=62614 fps=106 q=29.0 size=  273152kB time=00:34:47.57 bitrate=1071.9kbits/s dup=34 drop=0 speed=3.52x\n"
          ]
        },
        {
          "output_type": "stream",
          "name": "stderr",
          "text": [
            "\rProcessing video:  58%|█████▊    | 2089.66/3600 [09:54<07:09,  3.51s/s]"
          ]
        },
        {
          "output_type": "stream",
          "name": "stdout",
          "text": [
            "frame=62677 fps=106 q=29.0 size=  273152kB time=00:34:49.66 bitrate=1070.8kbits/s dup=34 drop=0 speed=3.52x\n"
          ]
        },
        {
          "output_type": "stream",
          "name": "stderr",
          "text": [
            "\rProcessing video:  58%|█████▊    | 2091.26/3600 [09:55<07:09,  3.51s/s]"
          ]
        },
        {
          "output_type": "stream",
          "name": "stdout",
          "text": [
            "frame=62725 fps=106 q=29.0 size=  273664kB time=00:34:51.26 bitrate=1072.0kbits/s dup=34 drop=0 speed=3.52x\n"
          ]
        },
        {
          "output_type": "stream",
          "name": "stderr",
          "text": [
            "\rProcessing video:  58%|█████▊    | 2092.82/3600 [09:55<07:09,  3.51s/s]"
          ]
        },
        {
          "output_type": "stream",
          "name": "stdout",
          "text": [
            "frame=62772 fps=106 q=29.0 size=  273664kB time=00:34:52.82 bitrate=1071.2kbits/s dup=34 drop=0 speed=3.52x\n"
          ]
        },
        {
          "output_type": "stream",
          "name": "stderr",
          "text": [
            "\rProcessing video:  58%|█████▊    | 2094.29/3600 [09:56<07:08,  3.51s/s]"
          ]
        },
        {
          "output_type": "stream",
          "name": "stdout",
          "text": [
            "frame=62816 fps=106 q=29.0 size=  273920kB time=00:34:54.29 bitrate=1071.5kbits/s dup=34 drop=0 speed=3.52x\n"
          ]
        },
        {
          "output_type": "stream",
          "name": "stderr",
          "text": [
            "\rProcessing video:  58%|█████▊    | 2095.76/3600 [09:56<07:08,  3.51s/s]"
          ]
        },
        {
          "output_type": "stream",
          "name": "stdout",
          "text": [
            "frame=62860 fps=106 q=29.0 size=  274432kB time=00:34:55.76 bitrate=1072.7kbits/s dup=34 drop=0 speed=3.52x\n"
          ]
        },
        {
          "output_type": "stream",
          "name": "stderr",
          "text": [
            "\rProcessing video:  58%|█████▊    | 2097.32/3600 [09:57<07:07,  3.51s/s]"
          ]
        },
        {
          "output_type": "stream",
          "name": "stdout",
          "text": [
            "frame=62907 fps=105 q=29.0 size=  274688kB time=00:34:57.32 bitrate=1072.9kbits/s dup=34 drop=0 speed=3.52x\n"
          ]
        },
        {
          "output_type": "stream",
          "name": "stderr",
          "text": [
            "\rProcessing video:  58%|█████▊    | 2098.9/3600 [09:57<07:07,  3.51s/s] "
          ]
        },
        {
          "output_type": "stream",
          "name": "stdout",
          "text": [
            "frame=62954 fps=105 q=29.0 size=  274944kB time=00:34:58.90 bitrate=1073.1kbits/s dup=34 drop=0 speed=3.52x\n"
          ]
        },
        {
          "output_type": "stream",
          "name": "stderr",
          "text": [
            "\rProcessing video:  58%|█████▊    | 2100.39/3600 [09:58<07:07,  3.51s/s]"
          ]
        },
        {
          "output_type": "stream",
          "name": "stdout",
          "text": [
            "frame=62999 fps=105 q=29.0 size=  275200kB time=00:35:00.39 bitrate=1073.3kbits/s dup=34 drop=0 speed=3.52x\n"
          ]
        },
        {
          "output_type": "stream",
          "name": "stderr",
          "text": [
            "\rProcessing video:  58%|█████▊    | 2101.88/3600 [09:58<07:06,  3.51s/s]"
          ]
        },
        {
          "output_type": "stream",
          "name": "stdout",
          "text": [
            "frame=63044 fps=105 q=29.0 size=  275200kB time=00:35:01.88 bitrate=1072.6kbits/s dup=34 drop=0 speed=3.52x\n"
          ]
        },
        {
          "output_type": "stream",
          "name": "stderr",
          "text": [
            "\rProcessing video:  58%|█████▊    | 2103.4/3600 [09:59<07:06,  3.51s/s] "
          ]
        },
        {
          "output_type": "stream",
          "name": "stdout",
          "text": [
            "frame=63089 fps=105 q=29.0 size=  275456kB time=00:35:03.40 bitrate=1072.8kbits/s dup=34 drop=0 speed=3.52x\n"
          ]
        },
        {
          "output_type": "stream",
          "name": "stderr",
          "text": [
            "\rProcessing video:  58%|█████▊    | 2105.0/3600 [09:59<07:05,  3.51s/s]"
          ]
        },
        {
          "output_type": "stream",
          "name": "stdout",
          "text": [
            "frame=63137 fps=105 q=29.0 size=  275712kB time=00:35:05.00 bitrate=1073.0kbits/s dup=34 drop=0 speed=3.52x\n"
          ]
        },
        {
          "output_type": "stream",
          "name": "stderr",
          "text": [
            "\rProcessing video:  59%|█████▊    | 2106.92/3600 [10:00<07:05,  3.51s/s]"
          ]
        },
        {
          "output_type": "stream",
          "name": "stdout",
          "text": [
            "frame=63195 fps=105 q=29.0 size=  276224kB time=00:35:06.92 bitrate=1074.0kbits/s dup=34 drop=0 speed=3.52x\n"
          ]
        },
        {
          "output_type": "stream",
          "name": "stderr",
          "text": [
            "\rProcessing video:  59%|█████▊    | 2109.44/3600 [10:00<07:04,  3.51s/s]"
          ]
        },
        {
          "output_type": "stream",
          "name": "stdout",
          "text": [
            "frame=63270 fps=105 q=29.0 size=  276480kB time=00:35:09.44 bitrate=1073.7kbits/s dup=34 drop=0 speed=3.52x\n"
          ]
        },
        {
          "output_type": "stream",
          "name": "stderr",
          "text": [
            "\rProcessing video:  59%|█████▊    | 2111.7/3600 [10:01<07:03,  3.51s/s] "
          ]
        },
        {
          "output_type": "stream",
          "name": "stdout",
          "text": [
            "frame=63338 fps=106 q=29.0 size=  276480kB time=00:35:11.70 bitrate=1072.6kbits/s dup=34 drop=0 speed=3.52x\n"
          ]
        },
        {
          "output_type": "stream",
          "name": "stderr",
          "text": [
            "\rProcessing video:  59%|█████▊    | 2114.0/3600 [10:01<07:02,  3.51s/s]"
          ]
        },
        {
          "output_type": "stream",
          "name": "stdout",
          "text": [
            "frame=63407 fps=106 q=29.0 size=  276736kB time=00:35:14.00 bitrate=1072.4kbits/s dup=34 drop=0 speed=3.52x\n"
          ]
        },
        {
          "output_type": "stream",
          "name": "stderr",
          "text": [
            "\rProcessing video:  59%|█████▉    | 2116.56/3600 [10:02<07:02,  3.51s/s]"
          ]
        },
        {
          "output_type": "stream",
          "name": "stdout",
          "text": [
            "frame=63484 fps=106 q=29.0 size=  276992kB time=00:35:16.56 bitrate=1072.1kbits/s dup=34 drop=0 speed=3.52x\n"
          ]
        },
        {
          "output_type": "stream",
          "name": "stderr",
          "text": [
            "\rProcessing video:  59%|█████▉    | 2118.99/3600 [10:02<07:01,  3.52s/s]"
          ]
        },
        {
          "output_type": "stream",
          "name": "stdout",
          "text": [
            "frame=63557 fps=106 q=29.0 size=  277248kB time=00:35:18.99 bitrate=1071.8kbits/s dup=34 drop=0 speed=3.52x\n"
          ]
        },
        {
          "output_type": "stream",
          "name": "stderr",
          "text": [
            "\rProcessing video:  59%|█████▉    | 2121.3/3600 [10:03<07:00,  3.52s/s] "
          ]
        },
        {
          "output_type": "stream",
          "name": "stdout",
          "text": [
            "frame=63626 fps=106 q=29.0 size=  277504kB time=00:35:21.30 bitrate=1071.7kbits/s dup=34 drop=0 speed=3.52x\n"
          ]
        },
        {
          "output_type": "stream",
          "name": "stderr",
          "text": [
            "\rProcessing video:  59%|█████▉    | 2123.75/3600 [10:03<06:59,  3.52s/s]"
          ]
        },
        {
          "output_type": "stream",
          "name": "stdout",
          "text": [
            "frame=63700 fps=106 q=29.0 size=  277760kB time=00:35:23.75 bitrate=1071.4kbits/s dup=34 drop=0 speed=3.52x\n"
          ]
        },
        {
          "output_type": "stream",
          "name": "stderr",
          "text": [
            "\rProcessing video:  59%|█████▉    | 2126.2/3600 [10:04<06:58,  3.52s/s] "
          ]
        },
        {
          "output_type": "stream",
          "name": "stdout",
          "text": [
            "frame=63773 fps=106 q=29.0 size=  278016kB time=00:35:26.20 bitrate=1071.2kbits/s dup=34 drop=0 speed=3.52x\n"
          ]
        },
        {
          "output_type": "stream",
          "name": "stderr",
          "text": [
            "\rProcessing video:  59%|█████▉    | 2128.64/3600 [10:04<06:57,  3.52s/s]"
          ]
        },
        {
          "output_type": "stream",
          "name": "stdout",
          "text": [
            "frame=63846 fps=106 q=29.0 size=  278272kB time=00:35:28.64 bitrate=1070.9kbits/s dup=34 drop=0 speed=3.53x\n"
          ]
        },
        {
          "output_type": "stream",
          "name": "stderr",
          "text": [
            "\rProcessing video:  59%|█████▉    | 2131.07/3600 [10:05<06:57,  3.52s/s]"
          ]
        },
        {
          "output_type": "stream",
          "name": "stdout",
          "text": [
            "frame=63919 fps=106 q=29.0 size=  278528kB time=00:35:31.07 bitrate=1070.7kbits/s dup=34 drop=0 speed=3.53x\n"
          ]
        },
        {
          "output_type": "stream",
          "name": "stderr",
          "text": [
            "\rProcessing video:  59%|█████▉    | 2133.39/3600 [10:05<06:56,  3.52s/s]"
          ]
        },
        {
          "output_type": "stream",
          "name": "stdout",
          "text": [
            "frame=63989 fps=106 q=29.0 size=  278784kB time=00:35:33.39 bitrate=1070.5kbits/s dup=34 drop=0 speed=3.53x\n"
          ]
        },
        {
          "output_type": "stream",
          "name": "stderr",
          "text": [
            "\rProcessing video:  59%|█████▉    | 2135.72/3600 [10:06<06:55,  3.52s/s]"
          ]
        },
        {
          "output_type": "stream",
          "name": "stdout",
          "text": [
            "frame=64059 fps=106 q=29.0 size=  279040kB time=00:35:35.72 bitrate=1070.3kbits/s dup=34 drop=0 speed=3.53x\n"
          ]
        },
        {
          "output_type": "stream",
          "name": "stderr",
          "text": [
            "\rProcessing video:  59%|█████▉    | 2138.0/3600 [10:06<06:54,  3.52s/s] "
          ]
        },
        {
          "output_type": "stream",
          "name": "stdout",
          "text": [
            "frame=64127 fps=106 q=29.0 size=  279296kB time=00:35:38.00 bitrate=1070.2kbits/s dup=34 drop=0 speed=3.53x\n"
          ]
        },
        {
          "output_type": "stream",
          "name": "stderr",
          "text": [
            "\rProcessing video:  59%|█████▉    | 2140.28/3600 [10:07<06:54,  3.52s/s]"
          ]
        },
        {
          "output_type": "stream",
          "name": "stdout",
          "text": [
            "frame=64196 fps=106 q=29.0 size=  279552kB time=00:35:40.28 bitrate=1070.0kbits/s dup=34 drop=0 speed=3.53x\n"
          ]
        },
        {
          "output_type": "stream",
          "name": "stderr",
          "text": [
            "\rProcessing video:  60%|█████▉    | 2142.65/3600 [10:07<06:53,  3.53s/s]"
          ]
        },
        {
          "output_type": "stream",
          "name": "stdout",
          "text": [
            "frame=64267 fps=106 q=29.0 size=  279808kB time=00:35:42.65 bitrate=1069.8kbits/s dup=34 drop=0 speed=3.53x\n"
          ]
        },
        {
          "output_type": "stream",
          "name": "stderr",
          "text": [
            "\rProcessing video:  60%|█████▉    | 2144.89/3600 [10:08<06:52,  3.53s/s]"
          ]
        },
        {
          "output_type": "stream",
          "name": "stdout",
          "text": [
            "frame=64334 fps=106 q=29.0 size=  280064kB time=00:35:44.89 bitrate=1069.6kbits/s dup=34 drop=0 speed=3.53x\n"
          ]
        },
        {
          "output_type": "stream",
          "name": "stderr",
          "text": [
            "\rProcessing video:  60%|█████▉    | 2147.15/3600 [10:08<06:51,  3.53s/s]"
          ]
        },
        {
          "output_type": "stream",
          "name": "stdout",
          "text": [
            "frame=64402 fps=106 q=29.0 size=  280064kB time=00:35:47.15 bitrate=1068.5kbits/s dup=34 drop=0 speed=3.53x\n"
          ]
        },
        {
          "output_type": "stream",
          "name": "stderr",
          "text": [
            "\rProcessing video:  60%|█████▉    | 2148.82/3600 [10:09<06:51,  3.53s/s]"
          ]
        },
        {
          "output_type": "stream",
          "name": "stdout",
          "text": [
            "frame=64452 fps=106 q=29.0 size=  280576kB time=00:35:48.82 bitrate=1069.6kbits/s dup=34 drop=0 speed=3.53x\n"
          ]
        },
        {
          "output_type": "stream",
          "name": "stderr",
          "text": [
            "\rProcessing video:  60%|█████▉    | 2150.1/3600 [10:09<06:51,  3.53s/s] "
          ]
        },
        {
          "output_type": "stream",
          "name": "stdout",
          "text": [
            "frame=64490 fps=106 q=29.0 size=  280832kB time=00:35:50.10 bitrate=1070.0kbits/s dup=34 drop=0 speed=3.53x\n"
          ]
        },
        {
          "output_type": "stream",
          "name": "stderr",
          "text": [
            "\rProcessing video:  60%|█████▉    | 2151.4/3600 [10:10<06:50,  3.53s/s]"
          ]
        },
        {
          "output_type": "stream",
          "name": "stdout",
          "text": [
            "frame=64529 fps=106 q=29.0 size=  281088kB time=00:35:51.40 bitrate=1070.3kbits/s dup=34 drop=0 speed=3.53x\n"
          ]
        },
        {
          "output_type": "stream",
          "name": "stderr",
          "text": [
            "\rProcessing video:  60%|█████▉    | 2152.64/3600 [10:10<06:50,  3.52s/s]"
          ]
        },
        {
          "output_type": "stream",
          "name": "stdout",
          "text": [
            "frame=64566 fps=106 q=29.0 size=  281344kB time=00:35:52.64 bitrate=1070.7kbits/s dup=34 drop=0 speed=3.53x\n"
          ]
        },
        {
          "output_type": "stream",
          "name": "stderr",
          "text": [
            "\rProcessing video:  60%|█████▉    | 2153.92/3600 [10:11<06:50,  3.52s/s]"
          ]
        },
        {
          "output_type": "stream",
          "name": "stdout",
          "text": [
            "frame=64605 fps=106 q=29.0 size=  281600kB time=00:35:53.92 bitrate=1071.0kbits/s dup=34 drop=0 speed=3.53x\n"
          ]
        },
        {
          "output_type": "stream",
          "name": "stderr",
          "text": [
            "\rProcessing video:  60%|█████▉    | 2155.26/3600 [10:11<06:50,  3.52s/s]"
          ]
        },
        {
          "output_type": "stream",
          "name": "stdout",
          "text": [
            "frame=64645 fps=106 q=29.0 size=  281856kB time=00:35:55.26 bitrate=1071.3kbits/s dup=34 drop=0 speed=3.53x\n"
          ]
        },
        {
          "output_type": "stream",
          "name": "stderr",
          "text": [
            "\rProcessing video:  60%|█████▉    | 2156.9/3600 [10:12<06:49,  3.52s/s] "
          ]
        },
        {
          "output_type": "stream",
          "name": "stdout",
          "text": [
            "frame=64694 fps=106 q=29.0 size=  282368kB time=00:35:56.90 bitrate=1072.4kbits/s dup=34 drop=0 speed=3.53x\n"
          ]
        },
        {
          "output_type": "stream",
          "name": "stderr",
          "text": [
            "\rProcessing video:  60%|█████▉    | 2158.1/3600 [10:12<06:49,  3.52s/s]"
          ]
        },
        {
          "output_type": "stream",
          "name": "stdout",
          "text": [
            "frame=64730 fps=106 q=29.0 size=  282368kB time=00:35:58.10 bitrate=1071.8kbits/s dup=34 drop=0 speed=3.53x\n"
          ]
        },
        {
          "output_type": "stream",
          "name": "stderr",
          "text": [
            "\rProcessing video:  60%|█████▉    | 2159.7/3600 [10:13<06:49,  3.52s/s]"
          ]
        },
        {
          "output_type": "stream",
          "name": "stdout",
          "text": [
            "frame=64778 fps=106 q=29.0 size=  282880kB time=00:35:59.70 bitrate=1073.0kbits/s dup=34 drop=0 speed=3.53x\n"
          ]
        },
        {
          "output_type": "stream",
          "name": "stderr",
          "text": [
            "\rProcessing video:  60%|██████    | 2161.06/3600 [10:13<06:48,  3.52s/s]"
          ]
        },
        {
          "output_type": "stream",
          "name": "stdout",
          "text": [
            "frame=64819 fps=106 q=29.0 size=  282880kB time=00:36:01.06 bitrate=1072.3kbits/s dup=34 drop=0 speed=3.53x\n"
          ]
        },
        {
          "output_type": "stream",
          "name": "stderr",
          "text": [
            "\rProcessing video:  60%|██████    | 2162.53/3600 [10:14<06:48,  3.52s/s]"
          ]
        },
        {
          "output_type": "stream",
          "name": "stdout",
          "text": [
            "frame=64863 fps=106 q=29.0 size=  283136kB time=00:36:02.53 bitrate=1072.6kbits/s dup=34 drop=0 speed=3.52x\n"
          ]
        },
        {
          "output_type": "stream",
          "name": "stderr",
          "text": [
            "\rProcessing video:  60%|██████    | 2163.98/3600 [10:14<06:48,  3.52s/s]"
          ]
        },
        {
          "output_type": "stream",
          "name": "stdout",
          "text": [
            "frame=64907 fps=106 q=29.0 size=  283392kB time=00:36:03.98 bitrate=1072.8kbits/s dup=34 drop=0 speed=3.52x\n"
          ]
        },
        {
          "output_type": "stream",
          "name": "stderr",
          "text": [
            "\rProcessing video:  60%|██████    | 2165.44/3600 [10:15<06:47,  3.52s/s]"
          ]
        },
        {
          "output_type": "stream",
          "name": "stdout",
          "text": [
            "frame=64950 fps=106 q=29.0 size=  283648kB time=00:36:05.44 bitrate=1073.1kbits/s dup=34 drop=0 speed=3.52x\n"
          ]
        },
        {
          "output_type": "stream",
          "name": "stderr",
          "text": [
            "\rProcessing video:  60%|██████    | 2166.8/3600 [10:15<06:47,  3.52s/s] "
          ]
        },
        {
          "output_type": "stream",
          "name": "stdout",
          "text": [
            "frame=64991 fps=106 q=29.0 size=  283904kB time=00:36:06.80 bitrate=1073.4kbits/s dup=34 drop=0 speed=3.52x\n"
          ]
        },
        {
          "output_type": "stream",
          "name": "stderr",
          "text": [
            "\rProcessing video:  60%|██████    | 2168.29/3600 [10:16<06:47,  3.52s/s]"
          ]
        },
        {
          "output_type": "stream",
          "name": "stdout",
          "text": [
            "frame=65036 fps=106 q=29.0 size=  284160kB time=00:36:08.29 bitrate=1073.6kbits/s dup=34 drop=0 speed=3.52x\n"
          ]
        },
        {
          "output_type": "stream",
          "name": "stderr",
          "text": [
            "\rProcessing video:  60%|██████    | 2169.89/3600 [10:16<06:46,  3.52s/s]"
          ]
        },
        {
          "output_type": "stream",
          "name": "stdout",
          "text": [
            "frame=65084 fps=106 q=29.0 size=  284416kB time=00:36:09.89 bitrate=1073.8kbits/s dup=34 drop=0 speed=3.52x\n"
          ]
        },
        {
          "output_type": "stream",
          "name": "stderr",
          "text": [
            "\rProcessing video:  60%|██████    | 2171.62/3600 [10:17<06:46,  3.52s/s]"
          ]
        },
        {
          "output_type": "stream",
          "name": "stdout",
          "text": [
            "frame=65136 fps=106 q=29.0 size=  284416kB time=00:36:11.62 bitrate=1072.9kbits/s dup=34 drop=0 speed=3.52x\n"
          ]
        },
        {
          "output_type": "stream",
          "name": "stderr",
          "text": [
            "\rProcessing video:  60%|██████    | 2173.63/3600 [10:17<06:45,  3.52s/s]"
          ]
        },
        {
          "output_type": "stream",
          "name": "stdout",
          "text": [
            "frame=65196 fps=106 q=29.0 size=  284672kB time=00:36:13.63 bitrate=1072.9kbits/s dup=34 drop=0 speed=3.52x\n"
          ]
        },
        {
          "output_type": "stream",
          "name": "stderr",
          "text": [
            "\rProcessing video:  60%|██████    | 2175.59/3600 [10:18<06:44,  3.52s/s]"
          ]
        },
        {
          "output_type": "stream",
          "name": "stdout",
          "text": [
            "frame=65255 fps=106 q=29.0 size=  284928kB time=00:36:15.59 bitrate=1072.9kbits/s dup=34 drop=0 speed=3.52x\n"
          ]
        },
        {
          "output_type": "stream",
          "name": "stderr",
          "text": [
            "\rProcessing video:  60%|██████    | 2177.55/3600 [10:18<06:44,  3.52s/s]"
          ]
        },
        {
          "output_type": "stream",
          "name": "stdout",
          "text": [
            "frame=65314 fps=106 q=29.0 size=  285184kB time=00:36:17.55 bitrate=1072.9kbits/s dup=34 drop=0 speed=3.52x\n"
          ]
        },
        {
          "output_type": "stream",
          "name": "stderr",
          "text": [
            "\rProcessing video:  61%|██████    | 2179.49/3600 [10:19<06:43,  3.52s/s]"
          ]
        },
        {
          "output_type": "stream",
          "name": "stdout",
          "text": [
            "frame=65372 fps=106 q=29.0 size=  285440kB time=00:36:19.49 bitrate=1072.9kbits/s dup=34 drop=0 speed=3.52x\n"
          ]
        },
        {
          "output_type": "stream",
          "name": "stderr",
          "text": [
            "\rProcessing video:  61%|██████    | 2181.56/3600 [10:19<06:43,  3.52s/s]"
          ]
        },
        {
          "output_type": "stream",
          "name": "stdout",
          "text": [
            "frame=65434 fps=106 q=29.0 size=  285696kB time=00:36:21.56 bitrate=1072.8kbits/s dup=34 drop=0 speed=3.52x\n"
          ]
        },
        {
          "output_type": "stream",
          "name": "stderr",
          "text": [
            "\rProcessing video:  61%|██████    | 2183.7/3600 [10:20<06:42,  3.52s/s] "
          ]
        },
        {
          "output_type": "stream",
          "name": "stdout",
          "text": [
            "frame=65498 fps=106 q=29.0 size=  285952kB time=00:36:23.70 bitrate=1072.7kbits/s dup=34 drop=0 speed=3.52x\n"
          ]
        },
        {
          "output_type": "stream",
          "name": "stderr",
          "text": [
            "\rProcessing video:  61%|██████    | 2185.6/3600 [10:20<06:41,  3.52s/s]"
          ]
        },
        {
          "output_type": "stream",
          "name": "stdout",
          "text": [
            "frame=65555 fps=106 q=29.0 size=  285952kB time=00:36:25.60 bitrate=1071.8kbits/s dup=34 drop=0 speed=3.52x\n"
          ]
        },
        {
          "output_type": "stream",
          "name": "stderr",
          "text": [
            "\rProcessing video:  61%|██████    | 2186.85/3600 [10:21<06:41,  3.52s/s]"
          ]
        },
        {
          "output_type": "stream",
          "name": "stdout",
          "text": [
            "frame=65593 fps=106 q=29.0 size=  286208kB time=00:36:26.85 bitrate=1072.1kbits/s dup=34 drop=0 speed=3.52x\n"
          ]
        },
        {
          "output_type": "stream",
          "name": "stderr",
          "text": [
            "\rProcessing video:  61%|██████    | 2188.03/3600 [10:21<06:41,  3.52s/s]"
          ]
        },
        {
          "output_type": "stream",
          "name": "stdout",
          "text": [
            "frame=65628 fps=106 q=29.0 size=  286464kB time=00:36:28.03 bitrate=1072.5kbits/s dup=34 drop=0 speed=3.52x\n"
          ]
        },
        {
          "output_type": "stream",
          "name": "stderr",
          "text": [
            "\rProcessing video:  61%|██████    | 2189.26/3600 [10:22<06:41,  3.52s/s]"
          ]
        },
        {
          "output_type": "stream",
          "name": "stdout",
          "text": [
            "frame=65665 fps=106 q=29.0 size=  286976kB time=00:36:29.26 bitrate=1073.8kbits/s dup=34 drop=0 speed=3.52x\n"
          ]
        },
        {
          "output_type": "stream",
          "name": "stderr",
          "text": [
            "\rProcessing video:  61%|██████    | 2190.42/3600 [10:22<06:40,  3.52s/s]"
          ]
        },
        {
          "output_type": "stream",
          "name": "stdout",
          "text": [
            "frame=65700 fps=106 q=29.0 size=  287232kB time=00:36:30.42 bitrate=1074.2kbits/s dup=34 drop=0 speed=3.52x\n"
          ]
        },
        {
          "output_type": "stream",
          "name": "stderr",
          "text": [
            "\rProcessing video:  61%|██████    | 2191.7/3600 [10:23<06:40,  3.52s/s] "
          ]
        },
        {
          "output_type": "stream",
          "name": "stdout",
          "text": [
            "frame=65738 fps=106 q=29.0 size=  287488kB time=00:36:31.70 bitrate=1074.6kbits/s dup=34 drop=0 speed=3.52x\n"
          ]
        },
        {
          "output_type": "stream",
          "name": "stderr",
          "text": [
            "\rProcessing video:  61%|██████    | 2193.06/3600 [10:24<06:40,  3.51s/s]"
          ]
        },
        {
          "output_type": "stream",
          "name": "stdout",
          "text": [
            "frame=65779 fps=106 q=29.0 size=  287744kB time=00:36:33.06 bitrate=1074.8kbits/s dup=34 drop=0 speed=3.52x\n"
          ]
        },
        {
          "output_type": "stream",
          "name": "stderr",
          "text": [
            "\rProcessing video:  61%|██████    | 2194.38/3600 [10:24<06:40,  3.51s/s]"
          ]
        },
        {
          "output_type": "stream",
          "name": "stdout",
          "text": [
            "frame=65819 fps=106 q=29.0 size=  288000kB time=00:36:34.38 bitrate=1075.1kbits/s dup=34 drop=0 speed=3.52x\n"
          ]
        },
        {
          "output_type": "stream",
          "name": "stderr",
          "text": [
            "\rProcessing video:  61%|██████    | 2195.86/3600 [10:25<06:39,  3.51s/s]"
          ]
        },
        {
          "output_type": "stream",
          "name": "stdout",
          "text": [
            "frame=65863 fps=106 q=29.0 size=  288256kB time=00:36:35.86 bitrate=1075.4kbits/s dup=34 drop=0 speed=3.52x\n"
          ]
        },
        {
          "output_type": "stream",
          "name": "stderr",
          "text": [
            "\rProcessing video:  61%|██████    | 2197.58/3600 [10:25<06:39,  3.51s/s]"
          ]
        },
        {
          "output_type": "stream",
          "name": "stdout",
          "text": [
            "frame=65915 fps=106 q=29.0 size=  288512kB time=00:36:37.58 bitrate=1075.5kbits/s dup=34 drop=0 speed=3.52x\n"
          ]
        },
        {
          "output_type": "stream",
          "name": "stderr",
          "text": [
            "\rProcessing video:  61%|██████    | 2199.48/3600 [10:26<06:38,  3.51s/s]"
          ]
        },
        {
          "output_type": "stream",
          "name": "stdout",
          "text": [
            "frame=65972 fps=106 q=29.0 size=  288768kB time=00:36:39.48 bitrate=1075.5kbits/s dup=34 drop=0 speed=3.52x\n"
          ]
        },
        {
          "output_type": "stream",
          "name": "stderr",
          "text": [
            "\rProcessing video:  61%|██████    | 2201.42/3600 [10:26<06:38,  3.51s/s]"
          ]
        },
        {
          "output_type": "stream",
          "name": "stdout",
          "text": [
            "frame=66030 fps=106 q=29.0 size=  289024kB time=00:36:41.42 bitrate=1075.5kbits/s dup=34 drop=0 speed=3.52x\n"
          ]
        },
        {
          "output_type": "stream",
          "name": "stderr",
          "text": [
            "\rProcessing video:  61%|██████    | 2203.26/3600 [10:27<06:37,  3.51s/s]"
          ]
        },
        {
          "output_type": "stream",
          "name": "stdout",
          "text": [
            "frame=66085 fps=106 q=29.0 size=  289280kB time=00:36:43.26 bitrate=1075.6kbits/s dup=34 drop=0 speed=3.52x\n"
          ]
        },
        {
          "output_type": "stream",
          "name": "stderr",
          "text": [
            "\rProcessing video:  61%|██████    | 2204.92/3600 [10:27<06:37,  3.51s/s]"
          ]
        },
        {
          "output_type": "stream",
          "name": "stdout",
          "text": [
            "frame=66135 fps=106 q=29.0 size=  289536kB time=00:36:44.92 bitrate=1075.7kbits/s dup=34 drop=0 speed=3.52x\n"
          ]
        },
        {
          "output_type": "stream",
          "name": "stderr",
          "text": [
            "\rProcessing video:  61%|██████▏   | 2206.52/3600 [10:28<06:36,  3.51s/s]"
          ]
        },
        {
          "output_type": "stream",
          "name": "stdout",
          "text": [
            "frame=66183 fps=106 q=29.0 size=  289536kB time=00:36:46.52 bitrate=1074.9kbits/s dup=34 drop=0 speed=3.52x\n"
          ]
        },
        {
          "output_type": "stream",
          "name": "stderr",
          "text": [
            "\rProcessing video:  61%|██████▏   | 2208.1/3600 [10:28<06:36,  3.51s/s] "
          ]
        },
        {
          "output_type": "stream",
          "name": "stdout",
          "text": [
            "frame=66230 fps=106 q=29.0 size=  289792kB time=00:36:48.10 bitrate=1075.1kbits/s dup=34 drop=0 speed=3.52x\n"
          ]
        },
        {
          "output_type": "stream",
          "name": "stderr",
          "text": [
            "\rProcessing video:  61%|██████▏   | 2209.89/3600 [10:29<06:35,  3.51s/s]"
          ]
        },
        {
          "output_type": "stream",
          "name": "stdout",
          "text": [
            "frame=66284 fps=106 q=29.0 size=  290048kB time=00:36:49.89 bitrate=1075.2kbits/s dup=34 drop=0 speed=3.52x\n"
          ]
        },
        {
          "output_type": "stream",
          "name": "stderr",
          "text": [
            "\rProcessing video:  61%|██████▏   | 2211.92/3600 [10:29<06:35,  3.51s/s]"
          ]
        },
        {
          "output_type": "stream",
          "name": "stdout",
          "text": [
            "frame=66345 fps=106 q=29.0 size=  290304kB time=00:36:51.92 bitrate=1075.2kbits/s dup=34 drop=0 speed=3.52x\n"
          ]
        },
        {
          "output_type": "stream",
          "name": "stderr",
          "text": [
            "\rProcessing video:  62%|██████▏   | 2214.2/3600 [10:30<06:34,  3.51s/s] "
          ]
        },
        {
          "output_type": "stream",
          "name": "stdout",
          "text": [
            "frame=66413 fps=106 q=29.0 size=  290560kB time=00:36:54.20 bitrate=1075.0kbits/s dup=34 drop=0 speed=3.52x\n"
          ]
        },
        {
          "output_type": "stream",
          "name": "stderr",
          "text": [
            "\rProcessing video:  62%|██████▏   | 2217.0/3600 [10:30<06:33,  3.52s/s]"
          ]
        },
        {
          "output_type": "stream",
          "name": "stdout",
          "text": [
            "frame=66497 fps=106 q=29.0 size=  290560kB time=00:36:57.00 bitrate=1073.6kbits/s dup=34 drop=0 speed=3.52x\n"
          ]
        },
        {
          "output_type": "stream",
          "name": "stderr",
          "text": [
            "\rProcessing video:  62%|██████▏   | 2219.56/3600 [10:31<06:32,  3.52s/s]"
          ]
        },
        {
          "output_type": "stream",
          "name": "stdout",
          "text": [
            "frame=66574 fps=106 q=29.0 size=  290816kB time=00:36:59.56 bitrate=1073.3kbits/s dup=34 drop=0 speed=3.52x\n"
          ]
        },
        {
          "output_type": "stream",
          "name": "stderr",
          "text": [
            "\rProcessing video:  62%|██████▏   | 2221.5/3600 [10:31<06:31,  3.52s/s] "
          ]
        },
        {
          "output_type": "stream",
          "name": "stdout",
          "text": [
            "frame=66632 fps=106 q=29.0 size=  291072kB time=00:37:01.50 bitrate=1073.4kbits/s dup=34 drop=0 speed=3.52x\n"
          ]
        },
        {
          "output_type": "stream",
          "name": "stderr",
          "text": [
            "\rProcessing video:  62%|██████▏   | 2222.82/3600 [10:32<06:31,  3.52s/s]"
          ]
        },
        {
          "output_type": "stream",
          "name": "stdout",
          "text": [
            "frame=66672 fps=106 q=29.0 size=  291328kB time=00:37:02.82 bitrate=1073.7kbits/s dup=34 drop=0 speed=3.52x\n"
          ]
        },
        {
          "output_type": "stream",
          "name": "stderr",
          "text": [
            "\rProcessing video:  62%|██████▏   | 2224.12/3600 [10:32<06:31,  3.52s/s]"
          ]
        },
        {
          "output_type": "stream",
          "name": "stdout",
          "text": [
            "frame=66711 fps=106 q=29.0 size=  291584kB time=00:37:04.12 bitrate=1074.0kbits/s dup=34 drop=0 speed=3.52x\n"
          ]
        },
        {
          "output_type": "stream",
          "name": "stderr",
          "text": [
            "\rProcessing video:  62%|██████▏   | 2225.4/3600 [10:33<06:31,  3.52s/s] "
          ]
        },
        {
          "output_type": "stream",
          "name": "stdout",
          "text": [
            "frame=66749 fps=106 q=29.0 size=  291840kB time=00:37:05.40 bitrate=1074.3kbits/s dup=34 drop=0 speed=3.52x\n"
          ]
        },
        {
          "output_type": "stream",
          "name": "stderr",
          "text": [
            "\rProcessing video:  62%|██████▏   | 2226.77/3600 [10:33<06:30,  3.51s/s]"
          ]
        },
        {
          "output_type": "stream",
          "name": "stdout",
          "text": [
            "frame=66790 fps=106 q=29.0 size=  292096kB time=00:37:06.77 bitrate=1074.6kbits/s dup=34 drop=0 speed=3.52x\n"
          ]
        },
        {
          "output_type": "stream",
          "name": "stderr",
          "text": [
            "\rProcessing video:  62%|██████▏   | 2227.98/3600 [10:34<06:30,  3.51s/s]"
          ]
        },
        {
          "output_type": "stream",
          "name": "stdout",
          "text": [
            "frame=66827 fps=106 q=29.0 size=  292608kB time=00:37:07.98 bitrate=1075.9kbits/s dup=34 drop=0 speed=3.52x\n"
          ]
        },
        {
          "output_type": "stream",
          "name": "stderr",
          "text": [
            "\rProcessing video:  62%|██████▏   | 2229.26/3600 [10:34<06:30,  3.51s/s]"
          ]
        },
        {
          "output_type": "stream",
          "name": "stdout",
          "text": [
            "frame=66865 fps=106 q=29.0 size=  292864kB time=00:37:09.26 bitrate=1076.2kbits/s dup=34 drop=0 speed=3.52x\n"
          ]
        },
        {
          "output_type": "stream",
          "name": "stderr",
          "text": [
            "\rProcessing video:  62%|██████▏   | 2230.59/3600 [10:35<06:29,  3.51s/s]"
          ]
        },
        {
          "output_type": "stream",
          "name": "stdout",
          "text": [
            "frame=66905 fps=105 q=29.0 size=  293120kB time=00:37:10.59 bitrate=1076.5kbits/s dup=34 drop=0 speed=3.52x\n"
          ]
        },
        {
          "output_type": "stream",
          "name": "stderr",
          "text": [
            "\rProcessing video:  62%|██████▏   | 2231.82/3600 [10:35<06:29,  3.51s/s]"
          ]
        },
        {
          "output_type": "stream",
          "name": "stdout",
          "text": [
            "frame=66942 fps=105 q=29.0 size=  293376kB time=00:37:11.82 bitrate=1076.8kbits/s dup=34 drop=0 speed=3.52x\n"
          ]
        },
        {
          "output_type": "stream",
          "name": "stderr",
          "text": [
            "\rProcessing video:  62%|██████▏   | 2233.25/3600 [10:36<06:29,  3.51s/s]"
          ]
        },
        {
          "output_type": "stream",
          "name": "stdout",
          "text": [
            "frame=66985 fps=105 q=29.0 size=  293632kB time=00:37:13.25 bitrate=1077.1kbits/s dup=34 drop=0 speed=3.52x\n"
          ]
        },
        {
          "output_type": "stream",
          "name": "stderr",
          "text": [
            "\rProcessing video:  62%|██████▏   | 2234.79/3600 [10:36<06:28,  3.51s/s]"
          ]
        },
        {
          "output_type": "stream",
          "name": "stdout",
          "text": [
            "frame=67031 fps=105 q=29.0 size=  293888kB time=00:37:14.79 bitrate=1077.3kbits/s dup=34 drop=0 speed=3.52x\n"
          ]
        },
        {
          "output_type": "stream",
          "name": "stderr",
          "text": [
            "\rProcessing video:  62%|██████▏   | 2236.28/3600 [10:37<06:28,  3.51s/s]"
          ]
        },
        {
          "output_type": "stream",
          "name": "stdout",
          "text": [
            "frame=67076 fps=105 q=29.0 size=  293888kB time=00:37:16.28 bitrate=1076.6kbits/s dup=34 drop=0 speed=3.51x\n"
          ]
        },
        {
          "output_type": "stream",
          "name": "stderr",
          "text": [
            "\rProcessing video:  62%|██████▏   | 2238.22/3600 [10:37<06:27,  3.51s/s]"
          ]
        },
        {
          "output_type": "stream",
          "name": "stdout",
          "text": [
            "frame=67134 fps=105 q=29.0 size=  294144kB time=00:37:18.22 bitrate=1076.6kbits/s dup=34 drop=0 speed=3.52x\n"
          ]
        },
        {
          "output_type": "stream",
          "name": "stderr",
          "text": [
            "\rProcessing video:  62%|██████▏   | 2239.89/3600 [10:38<06:27,  3.51s/s]"
          ]
        },
        {
          "output_type": "stream",
          "name": "stdout",
          "text": [
            "frame=67184 fps=105 q=29.0 size=  294400kB time=00:37:19.89 bitrate=1076.7kbits/s dup=34 drop=0 speed=3.51x\n"
          ]
        },
        {
          "output_type": "stream",
          "name": "stderr",
          "text": [
            "\rProcessing video:  62%|██████▏   | 2241.49/3600 [10:38<06:27,  3.51s/s]"
          ]
        },
        {
          "output_type": "stream",
          "name": "stdout",
          "text": [
            "frame=67232 fps=105 q=29.0 size=  294656kB time=00:37:21.49 bitrate=1076.9kbits/s dup=34 drop=0 speed=3.51x\n"
          ]
        },
        {
          "output_type": "stream",
          "name": "stderr",
          "text": [
            "\rProcessing video:  62%|██████▏   | 2243.07/3600 [10:39<06:26,  3.51s/s]"
          ]
        },
        {
          "output_type": "stream",
          "name": "stdout",
          "text": [
            "frame=67279 fps=105 q=29.0 size=  294912kB time=00:37:23.07 bitrate=1077.1kbits/s dup=34 drop=0 speed=3.51x\n"
          ]
        },
        {
          "output_type": "stream",
          "name": "stderr",
          "text": [
            "\rProcessing video:  62%|██████▏   | 2244.6/3600 [10:39<06:26,  3.51s/s] "
          ]
        },
        {
          "output_type": "stream",
          "name": "stdout",
          "text": [
            "frame=67325 fps=105 q=29.0 size=  294912kB time=00:37:24.60 bitrate=1076.3kbits/s dup=34 drop=0 speed=3.51x\n"
          ]
        },
        {
          "output_type": "stream",
          "name": "stderr",
          "text": [
            "\rProcessing video:  62%|██████▏   | 2246.12/3600 [10:40<06:25,  3.51s/s]"
          ]
        },
        {
          "output_type": "stream",
          "name": "stdout",
          "text": [
            "frame=67371 fps=105 q=29.0 size=  295168kB time=00:37:26.12 bitrate=1076.5kbits/s dup=34 drop=0 speed=3.51x\n"
          ]
        },
        {
          "output_type": "stream",
          "name": "stderr",
          "text": [
            "\rProcessing video:  62%|██████▏   | 2247.87/3600 [10:40<06:25,  3.51s/s]"
          ]
        },
        {
          "output_type": "stream",
          "name": "stdout",
          "text": [
            "frame=67423 fps=105 q=29.0 size=  295424kB time=00:37:27.87 bitrate=1076.6kbits/s dup=34 drop=0 speed=3.51x\n"
          ]
        },
        {
          "output_type": "stream",
          "name": "stderr",
          "text": [
            "\rProcessing video:  63%|██████▎   | 2250.06/3600 [10:41<06:24,  3.51s/s]"
          ]
        },
        {
          "output_type": "stream",
          "name": "stdout",
          "text": [
            "frame=67489 fps=105 q=29.0 size=  295680kB time=00:37:30.06 bitrate=1076.5kbits/s dup=34 drop=0 speed=3.51x\n"
          ]
        },
        {
          "output_type": "stream",
          "name": "stderr",
          "text": [
            "\rProcessing video:  63%|██████▎   | 2252.09/3600 [10:41<06:24,  3.51s/s]"
          ]
        },
        {
          "output_type": "stream",
          "name": "stdout",
          "text": [
            "frame=67550 fps=105 q=29.0 size=  295936kB time=00:37:32.09 bitrate=1076.5kbits/s dup=34 drop=0 speed=3.51x\n"
          ]
        },
        {
          "output_type": "stream",
          "name": "stderr",
          "text": [
            "\rProcessing video:  63%|██████▎   | 2253.58/3600 [10:42<06:23,  3.51s/s]"
          ]
        },
        {
          "output_type": "stream",
          "name": "stdout",
          "text": [
            "frame=67595 fps=105 q=29.0 size=  296192kB time=00:37:33.58 bitrate=1076.7kbits/s dup=34 drop=0 speed=3.51x\n"
          ]
        },
        {
          "output_type": "stream",
          "name": "stderr",
          "text": [
            "\rProcessing video:  63%|██████▎   | 2255.29/3600 [10:42<06:23,  3.51s/s]"
          ]
        },
        {
          "output_type": "stream",
          "name": "stdout",
          "text": [
            "frame=67646 fps=105 q=29.0 size=  296448kB time=00:37:35.29 bitrate=1076.8kbits/s dup=34 drop=0 speed=3.51x\n"
          ]
        },
        {
          "output_type": "stream",
          "name": "stderr",
          "text": [
            "\rProcessing video:  63%|██████▎   | 2257.77/3600 [10:43<06:22,  3.51s/s]"
          ]
        },
        {
          "output_type": "stream",
          "name": "stdout",
          "text": [
            "frame=67720 fps=105 q=29.0 size=  296704kB time=00:37:37.77 bitrate=1076.5kbits/s dup=34 drop=0 speed=3.51x\n"
          ]
        },
        {
          "output_type": "stream",
          "name": "stderr",
          "text": [
            "\rProcessing video:  63%|██████▎   | 2260.43/3600 [10:43<06:21,  3.51s/s]"
          ]
        },
        {
          "output_type": "stream",
          "name": "stdout",
          "text": [
            "frame=67800 fps=105 q=29.0 size=  296704kB time=00:37:40.43 bitrate=1075.3kbits/s dup=34 drop=0 speed=3.52x\n"
          ]
        },
        {
          "output_type": "stream",
          "name": "stderr",
          "text": [
            "\rProcessing video:  63%|██████▎   | 2262.03/3600 [10:44<06:21,  3.51s/s]"
          ]
        },
        {
          "output_type": "stream",
          "name": "stdout",
          "text": [
            "frame=67848 fps=105 q=29.0 size=  296960kB time=00:37:42.03 bitrate=1075.4kbits/s dup=34 drop=0 speed=3.52x\n"
          ]
        },
        {
          "output_type": "stream",
          "name": "stderr",
          "text": [
            "\rProcessing video:  63%|██████▎   | 2264.76/3600 [10:44<06:20,  3.51s/s]"
          ]
        },
        {
          "output_type": "stream",
          "name": "stdout",
          "text": [
            "frame=67930 fps=106 q=29.0 size=  296960kB time=00:37:44.76 bitrate=1074.1kbits/s dup=34 drop=0 speed=3.52x\n"
          ]
        },
        {
          "output_type": "stream",
          "name": "stderr",
          "text": [
            "\rProcessing video:  63%|██████▎   | 2267.6/3600 [10:45<06:19,  3.51s/s] "
          ]
        },
        {
          "output_type": "stream",
          "name": "stdout",
          "text": [
            "frame=68015 fps=106 q=29.0 size=  297216kB time=00:37:47.60 bitrate=1073.7kbits/s dup=34 drop=0 speed=3.52x\n"
          ]
        },
        {
          "output_type": "stream",
          "name": "stderr",
          "text": [
            "\rProcessing video:  63%|██████▎   | 2269.73/3600 [10:45<06:18,  3.52s/s]"
          ]
        },
        {
          "output_type": "stream",
          "name": "stdout",
          "text": [
            "frame=68079 fps=106 q=29.0 size=  297472kB time=00:37:49.73 bitrate=1073.6kbits/s dup=34 drop=0 speed=3.52x\n"
          ]
        },
        {
          "output_type": "stream",
          "name": "stderr",
          "text": [
            "\rProcessing video:  63%|██████▎   | 2271.04/3600 [10:46<06:18,  3.51s/s]"
          ]
        },
        {
          "output_type": "stream",
          "name": "stdout",
          "text": [
            "frame=68118 fps=106 q=29.0 size=  297728kB time=00:37:51.04 bitrate=1074.0kbits/s dup=34 drop=0 speed=3.52x\n"
          ]
        },
        {
          "output_type": "stream",
          "name": "stderr",
          "text": [
            "\rProcessing video:  63%|██████▎   | 2272.29/3600 [10:46<06:17,  3.51s/s]"
          ]
        },
        {
          "output_type": "stream",
          "name": "stdout",
          "text": [
            "frame=68156 fps=106 q=29.0 size=  297984kB time=00:37:52.29 bitrate=1074.3kbits/s dup=34 drop=0 speed=3.52x\n"
          ]
        },
        {
          "output_type": "stream",
          "name": "stderr",
          "text": [
            "\rProcessing video:  63%|██████▎   | 2273.6/3600 [10:47<06:17,  3.51s/s] "
          ]
        },
        {
          "output_type": "stream",
          "name": "stdout",
          "text": [
            "frame=68195 fps=106 q=29.0 size=  298240kB time=00:37:53.60 bitrate=1074.6kbits/s dup=34 drop=0 speed=3.52x\n"
          ]
        },
        {
          "output_type": "stream",
          "name": "stderr",
          "text": [
            "\rProcessing video:  63%|██████▎   | 2274.9/3600 [10:47<06:17,  3.51s/s]"
          ]
        },
        {
          "output_type": "stream",
          "name": "stdout",
          "text": [
            "frame=68234 fps=105 q=29.0 size=  298496kB time=00:37:54.90 bitrate=1074.9kbits/s dup=34 drop=0 speed=3.52x\n"
          ]
        },
        {
          "output_type": "stream",
          "name": "stderr",
          "text": [
            "\rProcessing video:  63%|██████▎   | 2276.09/3600 [10:48<06:17,  3.51s/s]"
          ]
        },
        {
          "output_type": "stream",
          "name": "stdout",
          "text": [
            "frame=68270 fps=105 q=29.0 size=  298752kB time=00:37:56.09 bitrate=1075.3kbits/s dup=34 drop=0 speed=3.52x\n"
          ]
        },
        {
          "output_type": "stream",
          "name": "stderr",
          "text": [
            "\rProcessing video:  63%|██████▎   | 2277.39/3600 [10:48<06:16,  3.51s/s]"
          ]
        },
        {
          "output_type": "stream",
          "name": "stdout",
          "text": [
            "frame=68309 fps=105 q=29.0 size=  299008kB time=00:37:57.39 bitrate=1075.6kbits/s dup=34 drop=0 speed=3.51x\n"
          ]
        },
        {
          "output_type": "stream",
          "name": "stderr",
          "text": [
            "\rProcessing video:  63%|██████▎   | 2278.76/3600 [10:49<06:16,  3.51s/s]"
          ]
        },
        {
          "output_type": "stream",
          "name": "stdout",
          "text": [
            "frame=68350 fps=105 q=29.0 size=  299264kB time=00:37:58.76 bitrate=1075.8kbits/s dup=34 drop=0 speed=3.51x\n"
          ]
        },
        {
          "output_type": "stream",
          "name": "stderr",
          "text": [
            "\rProcessing video:  63%|██████▎   | 2280.49/3600 [10:49<06:15,  3.51s/s]"
          ]
        },
        {
          "output_type": "stream",
          "name": "stdout",
          "text": [
            "frame=68402 fps=105 q=29.0 size=  299520kB time=00:38:00.49 bitrate=1075.9kbits/s dup=34 drop=0 speed=3.51x\n"
          ]
        },
        {
          "output_type": "stream",
          "name": "stderr",
          "text": [
            "\rProcessing video:  63%|██████▎   | 2282.32/3600 [10:50<06:15,  3.51s/s]"
          ]
        },
        {
          "output_type": "stream",
          "name": "stdout",
          "text": [
            "frame=68457 fps=105 q=29.0 size=  299776kB time=00:38:02.32 bitrate=1076.0kbits/s dup=34 drop=0 speed=3.51x\n"
          ]
        },
        {
          "output_type": "stream",
          "name": "stderr",
          "text": [
            "\rProcessing video:  63%|██████▎   | 2284.09/3600 [10:50<06:14,  3.51s/s]"
          ]
        },
        {
          "output_type": "stream",
          "name": "stdout",
          "text": [
            "frame=68510 fps=105 q=29.0 size=  300032kB time=00:38:04.09 bitrate=1076.1kbits/s dup=34 drop=0 speed=3.51x\n"
          ]
        },
        {
          "output_type": "stream",
          "name": "stderr",
          "text": [
            "\rProcessing video:  64%|██████▎   | 2286.05/3600 [10:51<06:14,  3.51s/s]"
          ]
        },
        {
          "output_type": "stream",
          "name": "stdout",
          "text": [
            "frame=68569 fps=105 q=29.0 size=  300288kB time=00:38:06.05 bitrate=1076.1kbits/s dup=34 drop=0 speed=3.51x\n"
          ]
        },
        {
          "output_type": "stream",
          "name": "stderr",
          "text": [
            "\rProcessing video:  64%|██████▎   | 2287.72/3600 [10:51<06:13,  3.51s/s]"
          ]
        },
        {
          "output_type": "stream",
          "name": "stdout",
          "text": [
            "frame=68619 fps=105 q=29.0 size=  300288kB time=00:38:07.72 bitrate=1075.3kbits/s dup=34 drop=0 speed=3.51x\n"
          ]
        },
        {
          "output_type": "stream",
          "name": "stderr",
          "text": [
            "\rProcessing video:  64%|██████▎   | 2289.32/3600 [10:52<06:13,  3.51s/s]"
          ]
        },
        {
          "output_type": "stream",
          "name": "stdout",
          "text": [
            "frame=68667 fps=105 q=29.0 size=  300544kB time=00:38:09.32 bitrate=1075.5kbits/s dup=34 drop=0 speed=3.51x\n"
          ]
        },
        {
          "output_type": "stream",
          "name": "stderr",
          "text": [
            "\rProcessing video:  64%|██████▎   | 2290.85/3600 [10:52<06:13,  3.51s/s]"
          ]
        },
        {
          "output_type": "stream",
          "name": "stdout",
          "text": [
            "frame=68713 fps=105 q=29.0 size=  300800kB time=00:38:10.85 bitrate=1075.6kbits/s dup=34 drop=0 speed=3.51x\n"
          ]
        },
        {
          "output_type": "stream",
          "name": "stderr",
          "text": [
            "\rProcessing video:  64%|██████▎   | 2292.5/3600 [10:53<06:12,  3.51s/s] "
          ]
        },
        {
          "output_type": "stream",
          "name": "stdout",
          "text": [
            "frame=68762 fps=105 q=29.0 size=  301056kB time=00:38:12.50 bitrate=1075.8kbits/s dup=34 drop=0 speed=3.51x\n"
          ]
        },
        {
          "output_type": "stream",
          "name": "stderr",
          "text": [
            "\rProcessing video:  64%|██████▎   | 2294.16/3600 [10:53<06:12,  3.51s/s]"
          ]
        },
        {
          "output_type": "stream",
          "name": "stdout",
          "text": [
            "frame=68812 fps=105 q=29.0 size=  301312kB time=00:38:14.16 bitrate=1075.9kbits/s dup=34 drop=0 speed=3.51x\n"
          ]
        },
        {
          "output_type": "stream",
          "name": "stderr",
          "text": [
            "\rProcessing video:  64%|██████▍   | 2296.42/3600 [10:54<06:11,  3.51s/s]"
          ]
        },
        {
          "output_type": "stream",
          "name": "stdout",
          "text": [
            "frame=68880 fps=105 q=29.0 size=  301312kB time=00:38:16.42 bitrate=1074.9kbits/s dup=34 drop=0 speed=3.51x\n"
          ]
        },
        {
          "output_type": "stream",
          "name": "stderr",
          "text": [
            "\rProcessing video:  64%|██████▍   | 2298.77/3600 [10:54<06:10,  3.51s/s]"
          ]
        },
        {
          "output_type": "stream",
          "name": "stdout",
          "text": [
            "frame=68950 fps=105 q=29.0 size=  301568kB time=00:38:18.77 bitrate=1074.7kbits/s dup=34 drop=0 speed=3.52x\n"
          ]
        },
        {
          "output_type": "stream",
          "name": "stderr",
          "text": [
            "\rProcessing video:  64%|██████▍   | 2301.03/3600 [10:55<06:09,  3.51s/s]"
          ]
        },
        {
          "output_type": "stream",
          "name": "stdout",
          "text": [
            "frame=69018 fps=105 q=29.0 size=  301824kB time=00:38:21.03 bitrate=1074.5kbits/s dup=34 drop=0 speed=3.52x\n"
          ]
        },
        {
          "output_type": "stream",
          "name": "stderr",
          "text": [
            "\rProcessing video:  64%|██████▍   | 2303.16/3600 [10:55<06:09,  3.51s/s]"
          ]
        },
        {
          "output_type": "stream",
          "name": "stdout",
          "text": [
            "frame=69082 fps=105 q=29.0 size=  302080kB time=00:38:23.16 bitrate=1074.5kbits/s dup=34 drop=0 speed=3.52x\n"
          ]
        },
        {
          "output_type": "stream",
          "name": "stderr",
          "text": [
            "\rProcessing video:  64%|██████▍   | 2304.46/3600 [10:56<06:08,  3.51s/s]"
          ]
        },
        {
          "output_type": "stream",
          "name": "stdout",
          "text": [
            "frame=69121 fps=105 q=29.0 size=  302336kB time=00:38:24.46 bitrate=1074.8kbits/s dup=34 drop=0 speed=3.52x\n"
          ]
        },
        {
          "output_type": "stream",
          "name": "stderr",
          "text": [
            "\rProcessing video:  64%|██████▍   | 2306.0/3600 [10:56<06:08,  3.51s/s] "
          ]
        },
        {
          "output_type": "stream",
          "name": "stdout",
          "text": [
            "frame=69167 fps=105 q=29.0 size=  302592kB time=00:38:26.00 bitrate=1074.9kbits/s dup=34 drop=0 speed=3.52x\n"
          ]
        },
        {
          "output_type": "stream",
          "name": "stderr",
          "text": [
            "\rProcessing video:  64%|██████▍   | 2307.92/3600 [10:57<06:08,  3.51s/s]"
          ]
        },
        {
          "output_type": "stream",
          "name": "stdout",
          "text": [
            "frame=69225 fps=105 q=29.0 size=  302848kB time=00:38:27.92 bitrate=1075.0kbits/s dup=34 drop=0 speed=3.52x\n"
          ]
        },
        {
          "output_type": "stream",
          "name": "stderr",
          "text": [
            "\rProcessing video:  64%|██████▍   | 2310.27/3600 [10:57<06:07,  3.51s/s]"
          ]
        },
        {
          "output_type": "stream",
          "name": "stdout",
          "text": [
            "frame=69295 fps=105 q=29.0 size=  302848kB time=00:38:30.27 bitrate=1073.9kbits/s dup=34 drop=0 speed=3.52x\n"
          ]
        },
        {
          "output_type": "stream",
          "name": "stderr",
          "text": [
            "\rProcessing video:  64%|██████▍   | 2312.83/3600 [10:58<06:06,  3.51s/s]"
          ]
        },
        {
          "output_type": "stream",
          "name": "stdout",
          "text": [
            "frame=69372 fps=106 q=29.0 size=  303104kB time=00:38:32.83 bitrate=1073.6kbits/s dup=34 drop=0 speed=3.52x\n"
          ]
        },
        {
          "output_type": "stream",
          "name": "stderr",
          "text": [
            "\rProcessing video:  64%|██████▍   | 2314.77/3600 [10:58<06:05,  3.51s/s]"
          ]
        },
        {
          "output_type": "stream",
          "name": "stdout",
          "text": [
            "frame=69430 fps=106 q=29.0 size=  303360kB time=00:38:34.77 bitrate=1073.6kbits/s dup=34 drop=0 speed=3.52x\n"
          ]
        },
        {
          "output_type": "stream",
          "name": "stderr",
          "text": [
            "\rProcessing video:  64%|██████▍   | 2316.22/3600 [10:59<06:05,  3.51s/s]"
          ]
        },
        {
          "output_type": "stream",
          "name": "stdout",
          "text": [
            "frame=69474 fps=105 q=29.0 size=  303616kB time=00:38:36.22 bitrate=1073.8kbits/s dup=34 drop=0 speed=3.52x\n"
          ]
        },
        {
          "output_type": "stream",
          "name": "stderr",
          "text": [
            "\rProcessing video:  64%|██████▍   | 2317.46/3600 [10:59<06:05,  3.51s/s]"
          ]
        },
        {
          "output_type": "stream",
          "name": "stdout",
          "text": [
            "frame=69511 fps=105 q=29.0 size=  303872kB time=00:38:37.46 bitrate=1074.2kbits/s dup=34 drop=0 speed=3.52x\n"
          ]
        },
        {
          "output_type": "stream",
          "name": "stderr",
          "text": [
            "\rProcessing video:  64%|██████▍   | 2318.63/3600 [11:00<06:04,  3.51s/s]"
          ]
        },
        {
          "output_type": "stream",
          "name": "stdout",
          "text": [
            "frame=69546 fps=105 q=29.0 size=  304128kB time=00:38:38.63 bitrate=1074.5kbits/s dup=34 drop=0 speed=3.52x\n"
          ]
        },
        {
          "output_type": "stream",
          "name": "stderr",
          "text": [
            "\rProcessing video:  64%|██████▍   | 2319.93/3600 [11:00<06:04,  3.51s/s]"
          ]
        },
        {
          "output_type": "stream",
          "name": "stdout",
          "text": [
            "frame=69585 fps=105 q=29.0 size=  304384kB time=00:38:39.93 bitrate=1074.8kbits/s dup=34 drop=0 speed=3.51x\n"
          ]
        },
        {
          "output_type": "stream",
          "name": "stderr",
          "text": [
            "\rProcessing video:  64%|██████▍   | 2321.23/3600 [11:01<06:04,  3.51s/s]"
          ]
        },
        {
          "output_type": "stream",
          "name": "stdout",
          "text": [
            "frame=69624 fps=105 q=29.0 size=  304640kB time=00:38:41.23 bitrate=1075.1kbits/s dup=34 drop=0 speed=3.51x\n"
          ]
        },
        {
          "output_type": "stream",
          "name": "stderr",
          "text": [
            "\rProcessing video:  65%|██████▍   | 2322.43/3600 [11:01<06:04,  3.51s/s]"
          ]
        },
        {
          "output_type": "stream",
          "name": "stdout",
          "text": [
            "frame=69660 fps=105 q=29.0 size=  304896kB time=00:38:42.43 bitrate=1075.5kbits/s dup=34 drop=0 speed=3.51x\n"
          ]
        },
        {
          "output_type": "stream",
          "name": "stderr",
          "text": [
            "\rProcessing video:  65%|██████▍   | 2323.75/3600 [11:02<06:03,  3.51s/s]"
          ]
        },
        {
          "output_type": "stream",
          "name": "stdout",
          "text": [
            "frame=69700 fps=105 q=29.0 size=  305152kB time=00:38:43.75 bitrate=1075.8kbits/s dup=34 drop=0 speed=3.51x\n"
          ]
        },
        {
          "output_type": "stream",
          "name": "stderr",
          "text": [
            "\rProcessing video:  65%|██████▍   | 2325.03/3600 [11:02<06:03,  3.51s/s]"
          ]
        },
        {
          "output_type": "stream",
          "name": "stdout",
          "text": [
            "frame=69738 fps=105 q=29.0 size=  305408kB time=00:38:45.03 bitrate=1076.1kbits/s dup=34 drop=0 speed=3.51x\n"
          ]
        },
        {
          "output_type": "stream",
          "name": "stderr",
          "text": [
            "\rProcessing video:  65%|██████▍   | 2326.33/3600 [11:03<06:03,  3.51s/s]"
          ]
        },
        {
          "output_type": "stream",
          "name": "stdout",
          "text": [
            "frame=69777 fps=105 q=29.0 size=  305664kB time=00:38:46.33 bitrate=1076.4kbits/s dup=34 drop=0 speed=3.51x\n"
          ]
        },
        {
          "output_type": "stream",
          "name": "stderr",
          "text": [
            "\rProcessing video:  65%|██████▍   | 2328.06/3600 [11:03<06:02,  3.51s/s]"
          ]
        },
        {
          "output_type": "stream",
          "name": "stdout",
          "text": [
            "frame=69829 fps=105 q=29.0 size=  305920kB time=00:38:48.06 bitrate=1076.5kbits/s dup=34 drop=0 speed=3.51x\n"
          ]
        },
        {
          "output_type": "stream",
          "name": "stderr",
          "text": [
            "\rProcessing video:  65%|██████▍   | 2330.0/3600 [11:04<06:02,  3.51s/s] "
          ]
        },
        {
          "output_type": "stream",
          "name": "stdout",
          "text": [
            "frame=69887 fps=105 q=29.0 size=  306176kB time=00:38:50.00 bitrate=1076.5kbits/s dup=34 drop=0 speed=3.51x\n"
          ]
        },
        {
          "output_type": "stream",
          "name": "stderr",
          "text": [
            "\rProcessing video:  65%|██████▍   | 2331.66/3600 [11:04<06:01,  3.51s/s]"
          ]
        },
        {
          "output_type": "stream",
          "name": "stdout",
          "text": [
            "frame=69937 fps=105 q=29.0 size=  306432kB time=00:38:51.66 bitrate=1076.6kbits/s dup=34 drop=0 speed=3.51x\n"
          ]
        },
        {
          "output_type": "stream",
          "name": "stderr",
          "text": [
            "\rProcessing video:  65%|██████▍   | 2333.5/3600 [11:05<06:01,  3.51s/s] "
          ]
        },
        {
          "output_type": "stream",
          "name": "stdout",
          "text": [
            "frame=69992 fps=105 q=29.0 size=  306688kB time=00:38:53.50 bitrate=1076.7kbits/s dup=34 drop=0 speed=3.51x\n"
          ]
        },
        {
          "output_type": "stream",
          "name": "stderr",
          "text": [
            "\rProcessing video:  65%|██████▍   | 2335.29/3600 [11:05<06:00,  3.51s/s]"
          ]
        },
        {
          "output_type": "stream",
          "name": "stdout",
          "text": [
            "frame=70046 fps=105 q=29.0 size=  306944kB time=00:38:55.29 bitrate=1076.7kbits/s dup=34 drop=0 speed=3.51x\n"
          ]
        },
        {
          "output_type": "stream",
          "name": "stderr",
          "text": [
            "\rProcessing video:  65%|██████▍   | 2336.96/3600 [11:06<06:00,  3.51s/s]"
          ]
        },
        {
          "output_type": "stream",
          "name": "stdout",
          "text": [
            "frame=70096 fps=105 q=29.0 size=  306944kB time=00:38:56.96 bitrate=1076.0kbits/s dup=34 drop=0 speed=3.51x\n"
          ]
        },
        {
          "output_type": "stream",
          "name": "stderr",
          "text": [
            "\rProcessing video:  65%|██████▍   | 2338.62/3600 [11:06<05:59,  3.51s/s]"
          ]
        },
        {
          "output_type": "stream",
          "name": "stdout",
          "text": [
            "frame=70146 fps=105 q=29.0 size=  307200kB time=00:38:58.62 bitrate=1076.1kbits/s dup=34 drop=0 speed=3.51x\n"
          ]
        },
        {
          "output_type": "stream",
          "name": "stderr",
          "text": [
            "\rProcessing video:  65%|██████▌   | 2340.22/3600 [11:07<05:59,  3.51s/s]"
          ]
        },
        {
          "output_type": "stream",
          "name": "stdout",
          "text": [
            "frame=70194 fps=105 q=29.0 size=  307456kB time=00:39:00.22 bitrate=1076.3kbits/s dup=34 drop=0 speed=3.51x\n"
          ]
        },
        {
          "output_type": "stream",
          "name": "stderr",
          "text": [
            "\rProcessing video:  65%|██████▌   | 2341.88/3600 [11:07<05:58,  3.51s/s]"
          ]
        },
        {
          "output_type": "stream",
          "name": "stdout",
          "text": [
            "frame=70244 fps=105 q=29.0 size=  307712kB time=00:39:01.88 bitrate=1076.4kbits/s dup=34 drop=0 speed=3.51x\n"
          ]
        },
        {
          "output_type": "stream",
          "name": "stderr",
          "text": [
            "\rProcessing video:  65%|██████▌   | 2343.87/3600 [11:08<05:58,  3.51s/s]"
          ]
        },
        {
          "output_type": "stream",
          "name": "stdout",
          "text": [
            "frame=70303 fps=105 q=29.0 size=  307968kB time=00:39:03.87 bitrate=1076.4kbits/s dup=34 drop=0 speed=3.51x\n"
          ]
        },
        {
          "output_type": "stream",
          "name": "stderr",
          "text": [
            "\rProcessing video:  65%|██████▌   | 2346.0/3600 [11:08<05:57,  3.51s/s] "
          ]
        },
        {
          "output_type": "stream",
          "name": "stdout",
          "text": [
            "frame=70367 fps=105 q=29.0 size=  307968kB time=00:39:06.00 bitrate=1075.4kbits/s dup=34 drop=0 speed=3.51x\n"
          ]
        },
        {
          "output_type": "stream",
          "name": "stderr",
          "text": [
            "\rProcessing video:  65%|██████▌   | 2347.56/3600 [11:09<05:57,  3.51s/s]"
          ]
        },
        {
          "output_type": "stream",
          "name": "stdout",
          "text": [
            "frame=70414 fps=105 q=29.0 size=  308224kB time=00:39:07.56 bitrate=1075.6kbits/s dup=34 drop=0 speed=3.51x\n"
          ]
        },
        {
          "output_type": "stream",
          "name": "stderr",
          "text": [
            "\rProcessing video:  65%|██████▌   | 2348.99/3600 [11:09<05:56,  3.51s/s]"
          ]
        },
        {
          "output_type": "stream",
          "name": "stdout",
          "text": [
            "frame=70457 fps=105 q=29.0 size=  308736kB time=00:39:08.99 bitrate=1076.7kbits/s dup=34 drop=0 speed=3.51x\n"
          ]
        },
        {
          "output_type": "stream",
          "name": "stderr",
          "text": [
            "\rProcessing video:  65%|██████▌   | 2350.99/3600 [11:10<05:56,  3.51s/s]"
          ]
        },
        {
          "output_type": "stream",
          "name": "stdout",
          "text": [
            "frame=70517 fps=105 q=29.0 size=  308992kB time=00:39:10.99 bitrate=1076.7kbits/s dup=34 drop=0 speed=3.51x\n"
          ]
        },
        {
          "output_type": "stream",
          "name": "stderr",
          "text": [
            "\rProcessing video:  65%|██████▌   | 2353.4/3600 [11:11<05:55,  3.51s/s] "
          ]
        },
        {
          "output_type": "stream",
          "name": "stdout",
          "text": [
            "frame=70589 fps=105 q=29.0 size=  308992kB time=00:39:13.40 bitrate=1075.6kbits/s dup=34 drop=0 speed=3.51x\n"
          ]
        },
        {
          "output_type": "stream",
          "name": "stderr",
          "text": [
            "\rProcessing video:  65%|██████▌   | 2355.9/3600 [11:11<05:54,  3.51s/s]"
          ]
        },
        {
          "output_type": "stream",
          "name": "stdout",
          "text": [
            "frame=70664 fps=105 q=29.0 size=  309248kB time=00:39:15.90 bitrate=1075.3kbits/s dup=34 drop=0 speed=3.51x\n"
          ]
        },
        {
          "output_type": "stream",
          "name": "stderr",
          "text": [
            "\rProcessing video:  66%|██████▌   | 2358.33/3600 [11:12<05:53,  3.51s/s]"
          ]
        },
        {
          "output_type": "stream",
          "name": "stdout",
          "text": [
            "frame=70737 fps=105 q=29.0 size=  309504kB time=00:39:18.33 bitrate=1075.1kbits/s dup=34 drop=0 speed=3.51x\n"
          ]
        },
        {
          "output_type": "stream",
          "name": "stderr",
          "text": [
            "\rProcessing video:  66%|██████▌   | 2360.4/3600 [11:12<05:53,  3.51s/s] "
          ]
        },
        {
          "output_type": "stream",
          "name": "stdout",
          "text": [
            "frame=70799 fps=105 q=29.0 size=  309760kB time=00:39:20.40 bitrate=1075.1kbits/s dup=34 drop=0 speed=3.51x\n"
          ]
        },
        {
          "output_type": "stream",
          "name": "stderr",
          "text": [
            "\rProcessing video:  66%|██████▌   | 2362.26/3600 [11:13<05:52,  3.51s/s]"
          ]
        },
        {
          "output_type": "stream",
          "name": "stdout",
          "text": [
            "frame=70855 fps=105 q=29.0 size=  310016kB time=00:39:22.26 bitrate=1075.1kbits/s dup=34 drop=0 speed=3.51x\n"
          ]
        },
        {
          "output_type": "stream",
          "name": "stderr",
          "text": [
            "\rProcessing video:  66%|██████▌   | 2363.86/3600 [11:13<05:52,  3.51s/s]"
          ]
        },
        {
          "output_type": "stream",
          "name": "stdout",
          "text": [
            "frame=70903 fps=105 q=29.0 size=  310272kB time=00:39:23.86 bitrate=1075.3kbits/s dup=34 drop=0 speed=3.51x\n"
          ]
        },
        {
          "output_type": "stream",
          "name": "stderr",
          "text": [
            "\rProcessing video:  66%|██████▌   | 2365.76/3600 [11:14<05:51,  3.51s/s]"
          ]
        },
        {
          "output_type": "stream",
          "name": "stdout",
          "text": [
            "frame=70960 fps=105 q=29.0 size=  310528kB time=00:39:25.76 bitrate=1075.3kbits/s dup=34 drop=0 speed=3.51x\n"
          ]
        },
        {
          "output_type": "stream",
          "name": "stderr",
          "text": [
            "\rProcessing video:  66%|██████▌   | 2368.23/3600 [11:14<05:50,  3.51s/s]"
          ]
        },
        {
          "output_type": "stream",
          "name": "stdout",
          "text": [
            "frame=71034 fps=105 q=29.0 size=  310528kB time=00:39:28.23 bitrate=1074.2kbits/s dup=34 drop=0 speed=3.52x\n"
          ]
        },
        {
          "output_type": "stream",
          "name": "stderr",
          "text": [
            "\rProcessing video:  66%|██████▌   | 2370.77/3600 [11:15<05:49,  3.51s/s]"
          ]
        },
        {
          "output_type": "stream",
          "name": "stdout",
          "text": [
            "frame=71110 fps=105 q=29.0 size=  310784kB time=00:39:30.77 bitrate=1073.9kbits/s dup=34 drop=0 speed=3.52x\n"
          ]
        },
        {
          "output_type": "stream",
          "name": "stderr",
          "text": [
            "\rProcessing video:  66%|██████▌   | 2372.97/3600 [11:15<05:49,  3.51s/s]"
          ]
        },
        {
          "output_type": "stream",
          "name": "stdout",
          "text": [
            "frame=71176 fps=106 q=29.0 size=  311040kB time=00:39:32.97 bitrate=1073.8kbits/s dup=34 drop=0 speed=3.52x\n"
          ]
        },
        {
          "output_type": "stream",
          "name": "stderr",
          "text": [
            "\rProcessing video:  66%|██████▌   | 2374.52/3600 [11:16<05:48,  3.51s/s]"
          ]
        },
        {
          "output_type": "stream",
          "name": "stdout",
          "text": [
            "frame=71223 fps=105 q=29.0 size=  311296kB time=00:39:34.52 bitrate=1074.0kbits/s dup=34 drop=0 speed=3.52x\n"
          ]
        },
        {
          "output_type": "stream",
          "name": "stderr",
          "text": [
            "\rProcessing video:  66%|██████▌   | 2375.8/3600 [11:16<05:48,  3.51s/s] "
          ]
        },
        {
          "output_type": "stream",
          "name": "stdout",
          "text": [
            "frame=71261 fps=105 q=29.0 size=  311552kB time=00:39:35.80 bitrate=1074.3kbits/s dup=34 drop=0 speed=3.52x\n"
          ]
        },
        {
          "output_type": "stream",
          "name": "stderr",
          "text": [
            "\rProcessing video:  66%|██████▌   | 2377.13/3600 [11:17<05:48,  3.51s/s]"
          ]
        },
        {
          "output_type": "stream",
          "name": "stdout",
          "text": [
            "frame=71301 fps=105 q=29.0 size=  311808kB time=00:39:37.13 bitrate=1074.5kbits/s dup=34 drop=0 speed=3.52x\n"
          ]
        },
        {
          "output_type": "stream",
          "name": "stderr",
          "text": [
            "\rProcessing video:  66%|██████▌   | 2378.36/3600 [11:17<05:48,  3.51s/s]"
          ]
        },
        {
          "output_type": "stream",
          "name": "stdout",
          "text": [
            "frame=71338 fps=105 q=29.0 size=  312064kB time=00:39:38.36 bitrate=1074.9kbits/s dup=34 drop=0 speed=3.51x\n"
          ]
        },
        {
          "output_type": "stream",
          "name": "stderr",
          "text": [
            "\rProcessing video:  66%|██████▌   | 2379.52/3600 [11:18<05:47,  3.51s/s]"
          ]
        },
        {
          "output_type": "stream",
          "name": "stdout",
          "text": [
            "frame=71373 fps=105 q=29.0 size=  312320kB time=00:39:39.52 bitrate=1075.2kbits/s dup=34 drop=0 speed=3.51x\n"
          ]
        },
        {
          "output_type": "stream",
          "name": "stderr",
          "text": [
            "\rProcessing video:  66%|██████▌   | 2380.73/3600 [11:18<05:47,  3.51s/s]"
          ]
        },
        {
          "output_type": "stream",
          "name": "stdout",
          "text": [
            "frame=71409 fps=105 q=29.0 size=  312576kB time=00:39:40.73 bitrate=1075.6kbits/s dup=34 drop=0 speed=3.51x\n"
          ]
        },
        {
          "output_type": "stream",
          "name": "stderr",
          "text": [
            "\rProcessing video:  66%|██████▌   | 2382.1/3600 [11:19<05:47,  3.51s/s] "
          ]
        },
        {
          "output_type": "stream",
          "name": "stdout",
          "text": [
            "frame=71450 fps=105 q=29.0 size=  312832kB time=00:39:42.10 bitrate=1075.8kbits/s dup=34 drop=0 speed=3.51x\n"
          ]
        },
        {
          "output_type": "stream",
          "name": "stderr",
          "text": [
            "\rProcessing video:  66%|██████▌   | 2383.48/3600 [11:19<05:46,  3.51s/s]"
          ]
        },
        {
          "output_type": "stream",
          "name": "stdout",
          "text": [
            "frame=71492 fps=105 q=29.0 size=  313088kB time=00:39:43.48 bitrate=1076.1kbits/s dup=34 drop=0 speed=3.51x\n"
          ]
        },
        {
          "output_type": "stream",
          "name": "stderr",
          "text": [
            "\rProcessing video:  66%|██████▋   | 2385.13/3600 [11:20<05:46,  3.51s/s]"
          ]
        },
        {
          "output_type": "stream",
          "name": "stdout",
          "text": [
            "frame=71541 fps=105 q=29.0 size=  313088kB time=00:39:45.13 bitrate=1075.3kbits/s dup=34 drop=0 speed=3.51x\n"
          ]
        },
        {
          "output_type": "stream",
          "name": "stderr",
          "text": [
            "\rProcessing video:  66%|██████▋   | 2386.79/3600 [11:20<05:45,  3.51s/s]"
          ]
        },
        {
          "output_type": "stream",
          "name": "stdout",
          "text": [
            "frame=71591 fps=105 q=29.0 size=  313344kB time=00:39:46.79 bitrate=1075.5kbits/s dup=34 drop=0 speed=3.51x\n"
          ]
        },
        {
          "output_type": "stream",
          "name": "stderr",
          "text": [
            "\rProcessing video:  66%|██████▋   | 2388.62/3600 [11:21<05:45,  3.51s/s]"
          ]
        },
        {
          "output_type": "stream",
          "name": "stdout",
          "text": [
            "frame=71646 fps=105 q=29.0 size=  313600kB time=00:39:48.62 bitrate=1075.5kbits/s dup=34 drop=0 speed=3.51x\n"
          ]
        },
        {
          "output_type": "stream",
          "name": "stderr",
          "text": [
            "\rProcessing video:  66%|██████▋   | 2390.4/3600 [11:21<05:44,  3.51s/s] "
          ]
        },
        {
          "output_type": "stream",
          "name": "stdout",
          "text": [
            "frame=71699 fps=105 q=29.0 size=  313856kB time=00:39:50.40 bitrate=1075.6kbits/s dup=34 drop=0 speed=3.51x\n"
          ]
        },
        {
          "output_type": "stream",
          "name": "stderr",
          "text": [
            "\rProcessing video:  66%|██████▋   | 2392.06/3600 [11:22<05:44,  3.51s/s]"
          ]
        },
        {
          "output_type": "stream",
          "name": "stdout",
          "text": [
            "frame=71749 fps=105 q=29.0 size=  314112kB time=00:39:52.06 bitrate=1075.7kbits/s dup=34 drop=0 speed=3.51x\n"
          ]
        },
        {
          "output_type": "stream",
          "name": "stderr",
          "text": [
            "\rProcessing video:  66%|██████▋   | 2393.6/3600 [11:22<05:44,  3.51s/s] "
          ]
        },
        {
          "output_type": "stream",
          "name": "stdout",
          "text": [
            "frame=71795 fps=105 q=29.0 size=  314368kB time=00:39:53.60 bitrate=1075.9kbits/s dup=34 drop=0 speed=3.51x\n"
          ]
        },
        {
          "output_type": "stream",
          "name": "stderr",
          "text": [
            "\rProcessing video:  67%|██████▋   | 2395.15/3600 [11:23<05:43,  3.51s/s]"
          ]
        },
        {
          "output_type": "stream",
          "name": "stdout",
          "text": [
            "frame=71842 fps=105 q=29.0 size=  314624kB time=00:39:55.15 bitrate=1076.1kbits/s dup=34 drop=0 speed=3.51x\n"
          ]
        },
        {
          "output_type": "stream",
          "name": "stderr",
          "text": [
            "\rProcessing video:  67%|██████▋   | 2396.9/3600 [11:23<05:43,  3.51s/s] "
          ]
        },
        {
          "output_type": "stream",
          "name": "stdout",
          "text": [
            "frame=71894 fps=105 q=29.0 size=  314624kB time=00:39:56.90 bitrate=1075.3kbits/s dup=34 drop=0 speed=3.51x\n"
          ]
        },
        {
          "output_type": "stream",
          "name": "stderr",
          "text": [
            "\rProcessing video:  67%|██████▋   | 2399.04/3600 [11:24<05:42,  3.51s/s]"
          ]
        },
        {
          "output_type": "stream",
          "name": "stdout",
          "text": [
            "frame=71958 fps=105 q=29.0 size=  314880kB time=00:39:59.04 bitrate=1075.2kbits/s dup=34 drop=0 speed=3.51x\n"
          ]
        },
        {
          "output_type": "stream",
          "name": "stderr",
          "text": [
            "\rProcessing video:  67%|██████▋   | 2400.89/3600 [11:24<05:41,  3.51s/s]"
          ]
        },
        {
          "output_type": "stream",
          "name": "stdout",
          "text": [
            "frame=72014 fps=105 q=29.0 size=  315136kB time=00:40:00.89 bitrate=1075.3kbits/s dup=34 drop=0 speed=3.51x\n"
          ]
        },
        {
          "output_type": "stream",
          "name": "stderr",
          "text": [
            "\rProcessing video:  67%|██████▋   | 2402.3/3600 [11:25<05:41,  3.51s/s] "
          ]
        },
        {
          "output_type": "stream",
          "name": "stdout",
          "text": [
            "frame=72056 fps=105 q=29.0 size=  315392kB time=00:40:02.30 bitrate=1075.5kbits/s dup=34 drop=0 speed=3.51x\n"
          ]
        },
        {
          "output_type": "stream",
          "name": "stderr",
          "text": [
            "\rProcessing video:  67%|██████▋   | 2403.75/3600 [11:25<05:41,  3.51s/s]"
          ]
        },
        {
          "output_type": "stream",
          "name": "stdout",
          "text": [
            "frame=72100 fps=105 q=29.0 size=  315648kB time=00:40:03.75 bitrate=1075.7kbits/s dup=34 drop=0 speed=3.51x\n"
          ]
        },
        {
          "output_type": "stream",
          "name": "stderr",
          "text": [
            "\rProcessing video:  67%|██████▋   | 2405.2/3600 [11:26<05:40,  3.51s/s] "
          ]
        },
        {
          "output_type": "stream",
          "name": "stdout",
          "text": [
            "frame=72143 fps=105 q=29.0 size=  315904kB time=00:40:05.20 bitrate=1076.0kbits/s dup=34 drop=0 speed=3.51x\n"
          ]
        },
        {
          "output_type": "stream",
          "name": "stderr",
          "text": [
            "\rProcessing video:  67%|██████▋   | 2407.06/3600 [11:26<05:40,  3.51s/s]"
          ]
        },
        {
          "output_type": "stream",
          "name": "stdout",
          "text": [
            "frame=72199 fps=105 q=29.0 size=  316160kB time=00:40:07.06 bitrate=1076.0kbits/s dup=34 drop=0 speed=3.51x\n"
          ]
        },
        {
          "output_type": "stream",
          "name": "stderr",
          "text": [
            "\rProcessing video:  67%|██████▋   | 2409.25/3600 [11:27<05:39,  3.51s/s]"
          ]
        },
        {
          "output_type": "stream",
          "name": "stdout",
          "text": [
            "frame=72265 fps=105 q=29.0 size=  316416kB time=00:40:09.25 bitrate=1075.9kbits/s dup=34 drop=0 speed=3.51x\n"
          ]
        },
        {
          "output_type": "stream",
          "name": "stderr",
          "text": [
            "\rProcessing video:  67%|██████▋   | 2411.62/3600 [11:27<05:38,  3.51s/s]"
          ]
        },
        {
          "output_type": "stream",
          "name": "stdout",
          "text": [
            "frame=72336 fps=105 q=29.0 size=  316672kB time=00:40:11.62 bitrate=1075.7kbits/s dup=34 drop=0 speed=3.51x\n"
          ]
        },
        {
          "output_type": "stream",
          "name": "stderr",
          "text": [
            "\rProcessing video:  67%|██████▋   | 2413.99/3600 [11:28<05:38,  3.51s/s]"
          ]
        },
        {
          "output_type": "stream",
          "name": "stdout",
          "text": [
            "frame=72407 fps=105 q=29.0 size=  316672kB time=00:40:13.99 bitrate=1074.6kbits/s dup=34 drop=0 speed=3.51x\n"
          ]
        },
        {
          "output_type": "stream",
          "name": "stderr",
          "text": [
            "\rProcessing video:  67%|██████▋   | 2416.4/3600 [11:28<05:37,  3.51s/s] "
          ]
        },
        {
          "output_type": "stream",
          "name": "stdout",
          "text": [
            "frame=72480 fps=105 q=29.0 size=  316928kB time=00:40:16.40 bitrate=1074.4kbits/s dup=34 drop=0 speed=3.51x\n"
          ]
        },
        {
          "output_type": "stream",
          "name": "stderr",
          "text": [
            "\rProcessing video:  67%|██████▋   | 2418.56/3600 [11:29<05:36,  3.51s/s]"
          ]
        },
        {
          "output_type": "stream",
          "name": "stdout",
          "text": [
            "frame=72544 fps=105 q=29.0 size=  317184kB time=00:40:18.56 bitrate=1074.3kbits/s dup=34 drop=0 speed=3.51x\n"
          ]
        },
        {
          "output_type": "stream",
          "name": "stderr",
          "text": [
            "\rProcessing video:  67%|██████▋   | 2419.98/3600 [11:29<05:36,  3.51s/s]"
          ]
        },
        {
          "output_type": "stream",
          "name": "stdout",
          "text": [
            "frame=72587 fps=105 q=29.0 size=  317440kB time=00:40:19.98 bitrate=1074.6kbits/s dup=34 drop=0 speed=3.51x\n"
          ]
        },
        {
          "output_type": "stream",
          "name": "stderr",
          "text": [
            "\rProcessing video:  67%|██████▋   | 2421.58/3600 [11:30<05:35,  3.51s/s]"
          ]
        },
        {
          "output_type": "stream",
          "name": "stdout",
          "text": [
            "frame=72635 fps=105 q=29.0 size=  317696kB time=00:40:21.58 bitrate=1074.7kbits/s dup=34 drop=0 speed=3.51x\n"
          ]
        },
        {
          "output_type": "stream",
          "name": "stderr",
          "text": [
            "\rProcessing video:  67%|██████▋   | 2423.33/3600 [11:30<05:35,  3.51s/s]"
          ]
        },
        {
          "output_type": "stream",
          "name": "stdout",
          "text": [
            "frame=72687 fps=105 q=29.0 size=  317952kB time=00:40:23.33 bitrate=1074.8kbits/s dup=34 drop=0 speed=3.51x\n"
          ]
        },
        {
          "output_type": "stream",
          "name": "stderr",
          "text": [
            "\rProcessing video:  67%|██████▋   | 2426.02/3600 [11:31<05:34,  3.51s/s]"
          ]
        },
        {
          "output_type": "stream",
          "name": "stdout",
          "text": [
            "frame=72768 fps=105 q=29.0 size=  318208kB time=00:40:26.02 bitrate=1074.5kbits/s dup=34 drop=0 speed=3.51x\n"
          ]
        },
        {
          "output_type": "stream",
          "name": "stderr",
          "text": [
            "\rProcessing video:  67%|██████▋   | 2428.6/3600 [11:31<05:33,  3.51s/s] "
          ]
        },
        {
          "output_type": "stream",
          "name": "stdout",
          "text": [
            "frame=72845 fps=105 q=29.0 size=  318208kB time=00:40:28.60 bitrate=1073.4kbits/s dup=34 drop=0 speed=3.52x\n"
          ]
        },
        {
          "output_type": "stream",
          "name": "stderr",
          "text": [
            "\rProcessing video:  68%|██████▊   | 2430.89/3600 [11:32<05:32,  3.51s/s]"
          ]
        },
        {
          "output_type": "stream",
          "name": "stdout",
          "text": [
            "frame=72914 fps=105 q=29.0 size=  318464kB time=00:40:30.89 bitrate=1073.2kbits/s dup=34 drop=0 speed=3.52x\n"
          ]
        },
        {
          "output_type": "stream",
          "name": "stderr",
          "text": [
            "\rProcessing video:  68%|██████▊   | 2433.32/3600 [11:32<05:32,  3.51s/s]"
          ]
        },
        {
          "output_type": "stream",
          "name": "stdout",
          "text": [
            "frame=72987 fps=105 q=29.0 size=  318720kB time=00:40:33.32 bitrate=1073.0kbits/s dup=34 drop=0 speed=3.52x\n"
          ]
        },
        {
          "output_type": "stream",
          "name": "stderr",
          "text": [
            "\rProcessing video:  68%|██████▊   | 2435.6/3600 [11:33<05:31,  3.51s/s] "
          ]
        },
        {
          "output_type": "stream",
          "name": "stdout",
          "text": [
            "frame=73055 fps=106 q=29.0 size=  318976kB time=00:40:35.60 bitrate=1072.9kbits/s dup=34 drop=0 speed=3.52x\n"
          ]
        },
        {
          "output_type": "stream",
          "name": "stderr",
          "text": [
            "\rProcessing video:  68%|██████▊   | 2437.03/3600 [11:33<05:31,  3.51s/s]"
          ]
        },
        {
          "output_type": "stream",
          "name": "stdout",
          "text": [
            "frame=73098 fps=105 q=29.0 size=  319232kB time=00:40:37.03 bitrate=1073.1kbits/s dup=34 drop=0 speed=3.52x\n"
          ]
        },
        {
          "output_type": "stream",
          "name": "stderr",
          "text": [
            "\rProcessing video:  68%|██████▊   | 2438.27/3600 [11:34<05:30,  3.51s/s]"
          ]
        },
        {
          "output_type": "stream",
          "name": "stdout",
          "text": [
            "frame=73135 fps=105 q=29.0 size=  319488kB time=00:40:38.27 bitrate=1073.4kbits/s dup=34 drop=0 speed=3.52x\n"
          ]
        },
        {
          "output_type": "stream",
          "name": "stderr",
          "text": [
            "\rProcessing video:  68%|██████▊   | 2439.48/3600 [11:34<05:30,  3.51s/s]"
          ]
        },
        {
          "output_type": "stream",
          "name": "stdout",
          "text": [
            "frame=73172 fps=105 q=29.0 size=  319744kB time=00:40:39.48 bitrate=1073.7kbits/s dup=34 drop=0 speed=3.52x\n"
          ]
        },
        {
          "output_type": "stream",
          "name": "stderr",
          "text": [
            "\rProcessing video:  68%|██████▊   | 2440.66/3600 [11:35<05:30,  3.51s/s]"
          ]
        },
        {
          "output_type": "stream",
          "name": "stdout",
          "text": [
            "frame=73207 fps=105 q=29.0 size=  320000kB time=00:40:40.66 bitrate=1074.1kbits/s dup=34 drop=0 speed=3.51x\n"
          ]
        },
        {
          "output_type": "stream",
          "name": "stderr",
          "text": [
            "\rProcessing video:  68%|██████▊   | 2441.92/3600 [11:35<05:29,  3.51s/s]"
          ]
        },
        {
          "output_type": "stream",
          "name": "stdout",
          "text": [
            "frame=73245 fps=105 q=29.0 size=  320256kB time=00:40:41.92 bitrate=1074.4kbits/s dup=34 drop=0 speed=3.51x\n"
          ]
        },
        {
          "output_type": "stream",
          "name": "stderr",
          "text": [
            "\rProcessing video:  68%|██████▊   | 2443.09/3600 [11:36<05:29,  3.51s/s]"
          ]
        },
        {
          "output_type": "stream",
          "name": "stdout",
          "text": [
            "frame=73280 fps=105 q=29.0 size=  320512kB time=00:40:43.09 bitrate=1074.7kbits/s dup=34 drop=0 speed=3.51x\n"
          ]
        },
        {
          "output_type": "stream",
          "name": "stderr",
          "text": [
            "\rProcessing video:  68%|██████▊   | 2444.28/3600 [11:36<05:29,  3.51s/s]"
          ]
        },
        {
          "output_type": "stream",
          "name": "stdout",
          "text": [
            "frame=73316 fps=105 q=29.0 size=  320768kB time=00:40:44.28 bitrate=1075.1kbits/s dup=34 drop=0 speed=3.51x\n"
          ]
        },
        {
          "output_type": "stream",
          "name": "stderr",
          "text": [
            "\rProcessing video:  68%|██████▊   | 2445.52/3600 [11:37<05:29,  3.51s/s]"
          ]
        },
        {
          "output_type": "stream",
          "name": "stdout",
          "text": [
            "frame=73353 fps=105 q=29.0 size=  321024kB time=00:40:45.52 bitrate=1075.4kbits/s dup=34 drop=0 speed=3.51x\n"
          ]
        },
        {
          "output_type": "stream",
          "name": "stderr",
          "text": [
            "\rProcessing video:  68%|██████▊   | 2446.72/3600 [11:37<05:28,  3.51s/s]"
          ]
        },
        {
          "output_type": "stream",
          "name": "stdout",
          "text": [
            "frame=73389 fps=105 q=29.0 size=  321280kB time=00:40:46.72 bitrate=1075.7kbits/s dup=34 drop=0 speed=3.51x\n"
          ]
        },
        {
          "output_type": "stream",
          "name": "stderr",
          "text": [
            "\rProcessing video:  68%|██████▊   | 2448.02/3600 [11:38<05:28,  3.51s/s]"
          ]
        },
        {
          "output_type": "stream",
          "name": "stdout",
          "text": [
            "frame=73428 fps=105 q=29.0 size=  321536kB time=00:40:48.02 bitrate=1076.0kbits/s dup=34 drop=0 speed=3.51x\n"
          ]
        },
        {
          "output_type": "stream",
          "name": "stderr",
          "text": [
            "\rProcessing video:  68%|██████▊   | 2449.36/3600 [11:38<05:28,  3.51s/s]"
          ]
        },
        {
          "output_type": "stream",
          "name": "stdout",
          "text": [
            "frame=73468 fps=105 q=29.0 size=  321792kB time=00:40:49.36 bitrate=1076.2kbits/s dup=34 drop=0 speed=3.51x\n"
          ]
        },
        {
          "output_type": "stream",
          "name": "stderr",
          "text": [
            "\rProcessing video:  68%|██████▊   | 2451.02/3600 [11:39<05:27,  3.50s/s]"
          ]
        },
        {
          "output_type": "stream",
          "name": "stdout",
          "text": [
            "frame=73518 fps=105 q=29.0 size=  322048kB time=00:40:51.02 bitrate=1076.4kbits/s dup=34 drop=0 speed=3.51x\n"
          ]
        },
        {
          "output_type": "stream",
          "name": "stderr",
          "text": [
            "\rProcessing video:  68%|██████▊   | 2452.92/3600 [11:39<05:27,  3.51s/s]"
          ]
        },
        {
          "output_type": "stream",
          "name": "stdout",
          "text": [
            "frame=73575 fps=105 q=29.0 size=  322304kB time=00:40:52.92 bitrate=1076.4kbits/s dup=34 drop=0 speed=3.51x\n"
          ]
        },
        {
          "output_type": "stream",
          "name": "stderr",
          "text": [
            "\rProcessing video:  68%|██████▊   | 2454.74/3600 [11:40<05:26,  3.51s/s]"
          ]
        },
        {
          "output_type": "stream",
          "name": "stdout",
          "text": [
            "frame=73629 fps=105 q=29.0 size=  322560kB time=00:40:54.74 bitrate=1076.5kbits/s dup=34 drop=0 speed=3.51x\n"
          ]
        },
        {
          "output_type": "stream",
          "name": "stderr",
          "text": [
            "\rProcessing video:  68%|██████▊   | 2456.36/3600 [11:40<05:26,  3.50s/s]"
          ]
        },
        {
          "output_type": "stream",
          "name": "stdout",
          "text": [
            "frame=73678 fps=105 q=29.0 size=  322816kB time=00:40:56.36 bitrate=1076.6kbits/s dup=34 drop=0 speed=3.51x\n"
          ]
        },
        {
          "output_type": "stream",
          "name": "stderr",
          "text": [
            "\rProcessing video:  68%|██████▊   | 2458.02/3600 [11:41<05:25,  3.50s/s]"
          ]
        },
        {
          "output_type": "stream",
          "name": "stdout",
          "text": [
            "frame=73728 fps=105 q=29.0 size=  322816kB time=00:40:58.02 bitrate=1075.9kbits/s dup=34 drop=0 speed=3.51x\n"
          ]
        },
        {
          "output_type": "stream",
          "name": "stderr",
          "text": [
            "\rProcessing video:  68%|██████▊   | 2459.66/3600 [11:41<05:25,  3.50s/s]"
          ]
        },
        {
          "output_type": "stream",
          "name": "stdout",
          "text": [
            "frame=73777 fps=105 q=29.0 size=  323072kB time=00:40:59.66 bitrate=1076.0kbits/s dup=34 drop=0 speed=3.51x\n"
          ]
        },
        {
          "output_type": "stream",
          "name": "stderr",
          "text": [
            "\rProcessing video:  68%|██████▊   | 2461.69/3600 [11:42<05:24,  3.51s/s]"
          ]
        },
        {
          "output_type": "stream",
          "name": "stdout",
          "text": [
            "frame=73838 fps=105 q=29.0 size=  323328kB time=00:41:01.69 bitrate=1076.0kbits/s dup=34 drop=0 speed=3.51x\n"
          ]
        },
        {
          "output_type": "stream",
          "name": "stderr",
          "text": [
            "\rProcessing video:  68%|██████▊   | 2463.82/3600 [11:42<05:24,  3.51s/s]"
          ]
        },
        {
          "output_type": "stream",
          "name": "stdout",
          "text": [
            "frame=73902 fps=105 q=29.0 size=  323584kB time=00:41:03.82 bitrate=1075.9kbits/s dup=34 drop=0 speed=3.51x\n"
          ]
        },
        {
          "output_type": "stream",
          "name": "stderr",
          "text": [
            "\rProcessing video:  68%|██████▊   | 2465.6/3600 [11:43<05:23,  3.51s/s] "
          ]
        },
        {
          "output_type": "stream",
          "name": "stdout",
          "text": [
            "frame=73955 fps=105 q=29.0 size=  323840kB time=00:41:05.60 bitrate=1076.0kbits/s dup=34 drop=0 speed=3.51x\n"
          ]
        },
        {
          "output_type": "stream",
          "name": "stderr",
          "text": [
            "\rProcessing video:  69%|██████▊   | 2466.96/3600 [11:43<05:23,  3.50s/s]"
          ]
        },
        {
          "output_type": "stream",
          "name": "stdout",
          "text": [
            "frame=73996 fps=105 q=29.0 size=  324096kB time=00:41:06.96 bitrate=1076.2kbits/s dup=34 drop=0 speed=3.51x\n"
          ]
        },
        {
          "output_type": "stream",
          "name": "stderr",
          "text": [
            "\rProcessing video:  69%|██████▊   | 2468.28/3600 [11:44<05:22,  3.50s/s]"
          ]
        },
        {
          "output_type": "stream",
          "name": "stdout",
          "text": [
            "frame=74036 fps=105 q=29.0 size=  324352kB time=00:41:08.28 bitrate=1076.5kbits/s dup=34 drop=0 speed=3.51x\n"
          ]
        },
        {
          "output_type": "stream",
          "name": "stderr",
          "text": [
            "\rProcessing video:  69%|██████▊   | 2469.52/3600 [11:44<05:22,  3.50s/s]"
          ]
        },
        {
          "output_type": "stream",
          "name": "stdout",
          "text": [
            "frame=74073 fps=105 q=29.0 size=  324608kB time=00:41:09.52 bitrate=1076.8kbits/s dup=34 drop=0 speed=3.51x\n"
          ]
        },
        {
          "output_type": "stream",
          "name": "stderr",
          "text": [
            "\rProcessing video:  69%|██████▊   | 2470.86/3600 [11:45<05:22,  3.50s/s]"
          ]
        },
        {
          "output_type": "stream",
          "name": "stdout",
          "text": [
            "frame=74113 fps=105 q=29.0 size=  324864kB time=00:41:10.86 bitrate=1077.1kbits/s dup=34 drop=0 speed=3.51x\n"
          ]
        },
        {
          "output_type": "stream",
          "name": "stderr",
          "text": [
            "\rProcessing video:  69%|██████▊   | 2472.42/3600 [11:45<05:21,  3.50s/s]"
          ]
        },
        {
          "output_type": "stream",
          "name": "stdout",
          "text": [
            "frame=74160 fps=105 q=29.0 size=  325120kB time=00:41:12.42 bitrate=1077.2kbits/s dup=34 drop=0 speed=3.51x\n"
          ]
        },
        {
          "output_type": "stream",
          "name": "stderr",
          "text": [
            "\rProcessing video:  69%|██████▊   | 2474.49/3600 [11:46<05:21,  3.50s/s]"
          ]
        },
        {
          "output_type": "stream",
          "name": "stdout",
          "text": [
            "frame=74222 fps=105 q=29.0 size=  325376kB time=00:41:14.49 bitrate=1077.2kbits/s dup=34 drop=0 speed=3.51x\n"
          ]
        },
        {
          "output_type": "stream",
          "name": "stderr",
          "text": [
            "\rProcessing video:  69%|██████▉   | 2476.69/3600 [11:46<05:20,  3.50s/s]"
          ]
        },
        {
          "output_type": "stream",
          "name": "stdout",
          "text": [
            "frame=74288 fps=105 q=29.0 size=  325632kB time=00:41:16.69 bitrate=1077.1kbits/s dup=34 drop=0 speed=3.51x\n"
          ]
        },
        {
          "output_type": "stream",
          "name": "stderr",
          "text": [
            "\rProcessing video:  69%|██████▉   | 2479.1/3600 [11:47<05:19,  3.50s/s] "
          ]
        },
        {
          "output_type": "stream",
          "name": "stdout",
          "text": [
            "frame=74360 fps=105 q=29.0 size=  325888kB time=00:41:19.10 bitrate=1076.9kbits/s dup=34 drop=0 speed=3.51x\n"
          ]
        },
        {
          "output_type": "stream",
          "name": "stderr",
          "text": [
            "\rProcessing video:  69%|██████▉   | 2480.87/3600 [11:47<05:19,  3.50s/s]"
          ]
        },
        {
          "output_type": "stream",
          "name": "stdout",
          "text": [
            "frame=74413 fps=105 q=29.0 size=  326144kB time=00:41:20.87 bitrate=1076.9kbits/s dup=34 drop=0 speed=3.51x\n"
          ]
        },
        {
          "output_type": "stream",
          "name": "stderr",
          "text": [
            "\rProcessing video:  69%|██████▉   | 2482.19/3600 [11:48<05:19,  3.50s/s]"
          ]
        },
        {
          "output_type": "stream",
          "name": "stdout",
          "text": [
            "frame=74453 fps=105 q=29.0 size=  326400kB time=00:41:22.19 bitrate=1077.2kbits/s dup=34 drop=0 speed=3.51x\n"
          ]
        },
        {
          "output_type": "stream",
          "name": "stderr",
          "text": [
            "\rProcessing video:  69%|██████▉   | 2483.39/3600 [11:48<05:18,  3.50s/s]"
          ]
        },
        {
          "output_type": "stream",
          "name": "stdout",
          "text": [
            "frame=74489 fps=105 q=29.0 size=  326656kB time=00:41:23.39 bitrate=1077.5kbits/s dup=34 drop=0 speed=3.51x\n"
          ]
        },
        {
          "output_type": "stream",
          "name": "stderr",
          "text": [
            "\rProcessing video:  69%|██████▉   | 2484.73/3600 [11:49<05:18,  3.50s/s]"
          ]
        },
        {
          "output_type": "stream",
          "name": "stdout",
          "text": [
            "frame=74529 fps=105 q=29.0 size=  326912kB time=00:41:24.73 bitrate=1077.8kbits/s dup=34 drop=0 speed=3.51x\n"
          ]
        },
        {
          "output_type": "stream",
          "name": "stderr",
          "text": [
            "\rProcessing video:  69%|██████▉   | 2486.05/3600 [11:49<05:18,  3.50s/s]"
          ]
        },
        {
          "output_type": "stream",
          "name": "stdout",
          "text": [
            "frame=74569 fps=105 q=29.0 size=  327168kB time=00:41:26.05 bitrate=1078.1kbits/s dup=34 drop=0 speed=3.51x\n"
          ]
        },
        {
          "output_type": "stream",
          "name": "stderr",
          "text": [
            "\rProcessing video:  69%|██████▉   | 2487.42/3600 [11:50<05:17,  3.50s/s]"
          ]
        },
        {
          "output_type": "stream",
          "name": "stdout",
          "text": [
            "frame=74610 fps=105 q=29.0 size=  327680kB time=00:41:27.42 bitrate=1079.2kbits/s dup=34 drop=0 speed=3.51x\n"
          ]
        },
        {
          "output_type": "stream",
          "name": "stderr",
          "text": [
            "\rProcessing video:  69%|██████▉   | 2489.23/3600 [11:50<05:17,  3.50s/s]"
          ]
        },
        {
          "output_type": "stream",
          "name": "stdout",
          "text": [
            "frame=74664 fps=105 q=29.0 size=  327936kB time=00:41:29.23 bitrate=1079.2kbits/s dup=34 drop=0 speed=3.51x\n"
          ]
        },
        {
          "output_type": "stream",
          "name": "stderr",
          "text": [
            "\rProcessing video:  69%|██████▉   | 2490.92/3600 [11:51<05:16,  3.50s/s]"
          ]
        },
        {
          "output_type": "stream",
          "name": "stdout",
          "text": [
            "frame=74715 fps=105 q=29.0 size=  328192kB time=00:41:30.92 bitrate=1079.3kbits/s dup=34 drop=0 speed=3.51x\n"
          ]
        },
        {
          "output_type": "stream",
          "name": "stderr",
          "text": [
            "\rProcessing video:  69%|██████▉   | 2492.5/3600 [11:52<05:16,  3.50s/s] "
          ]
        },
        {
          "output_type": "stream",
          "name": "stdout",
          "text": [
            "frame=74762 fps=105 q=29.0 size=  328192kB time=00:41:32.50 bitrate=1078.7kbits/s dup=34 drop=0 speed= 3.5x\n"
          ]
        },
        {
          "output_type": "stream",
          "name": "stderr",
          "text": [
            "\rProcessing video:  69%|██████▉   | 2494.2/3600 [11:52<05:15,  3.50s/s]"
          ]
        },
        {
          "output_type": "stream",
          "name": "stdout",
          "text": [
            "frame=74813 fps=105 q=29.0 size=  328448kB time=00:41:34.20 bitrate=1078.8kbits/s dup=34 drop=0 speed= 3.5x\n"
          ]
        },
        {
          "output_type": "stream",
          "name": "stderr",
          "text": [
            "\rProcessing video:  69%|██████▉   | 2496.53/3600 [11:53<05:15,  3.50s/s]"
          ]
        },
        {
          "output_type": "stream",
          "name": "stdout",
          "text": [
            "frame=74883 fps=105 q=29.0 size=  328704kB time=00:41:36.53 bitrate=1078.6kbits/s dup=34 drop=0 speed=3.51x\n"
          ]
        },
        {
          "output_type": "stream",
          "name": "stderr",
          "text": [
            "\rProcessing video:  69%|██████▉   | 2498.49/3600 [11:53<05:14,  3.50s/s]"
          ]
        },
        {
          "output_type": "stream",
          "name": "stdout",
          "text": [
            "frame=74942 fps=105 q=29.0 size=  328960kB time=00:41:38.49 bitrate=1078.6kbits/s dup=34 drop=0 speed=3.51x\n"
          ]
        },
        {
          "output_type": "stream",
          "name": "stderr",
          "text": [
            "\rProcessing video:  69%|██████▉   | 2499.86/3600 [11:54<05:14,  3.50s/s]"
          ]
        },
        {
          "output_type": "stream",
          "name": "stdout",
          "text": [
            "frame=74983 fps=105 q=29.0 size=  329216kB time=00:41:39.86 bitrate=1078.8kbits/s dup=34 drop=0 speed=3.51x\n"
          ]
        },
        {
          "output_type": "stream",
          "name": "stderr",
          "text": [
            "\rProcessing video:  69%|██████▉   | 2500.8/3600 [11:54<05:14,  3.50s/s] "
          ]
        },
        {
          "output_type": "stream",
          "name": "stdout",
          "text": [
            "frame=75011 fps=105 q=29.0 size=  329216kB time=00:41:40.80 bitrate=1078.4kbits/s dup=34 drop=0 speed= 3.5x\n"
          ]
        },
        {
          "output_type": "stream",
          "name": "stderr",
          "text": [
            "\rProcessing video:  69%|██████▉   | 2501.93/3600 [11:55<05:13,  3.50s/s]"
          ]
        },
        {
          "output_type": "stream",
          "name": "stdout",
          "text": [
            "frame=75045 fps=105 q=29.0 size=  329472kB time=00:41:41.93 bitrate=1078.8kbits/s dup=34 drop=0 speed= 3.5x\n"
          ]
        },
        {
          "output_type": "stream",
          "name": "stderr",
          "text": [
            "\rProcessing video:  70%|██████▉   | 2503.29/3600 [11:55<05:13,  3.50s/s]"
          ]
        },
        {
          "output_type": "stream",
          "name": "stdout",
          "text": [
            "frame=75086 fps=105 q=29.0 size=  329728kB time=00:41:43.29 bitrate=1079.0kbits/s dup=34 drop=0 speed= 3.5x\n"
          ]
        },
        {
          "output_type": "stream",
          "name": "stderr",
          "text": [
            "\rProcessing video:  70%|██████▉   | 2504.59/3600 [11:56<05:13,  3.50s/s]"
          ]
        },
        {
          "output_type": "stream",
          "name": "stdout",
          "text": [
            "frame=75125 fps=105 q=29.0 size=  329984kB time=00:41:44.59 bitrate=1079.3kbits/s dup=34 drop=0 speed= 3.5x\n"
          ]
        },
        {
          "output_type": "stream",
          "name": "stderr",
          "text": [
            "\rProcessing video:  70%|██████▉   | 2505.96/3600 [11:56<05:12,  3.50s/s]"
          ]
        },
        {
          "output_type": "stream",
          "name": "stdout",
          "text": [
            "frame=75166 fps=105 q=29.0 size=  330240kB time=00:41:45.96 bitrate=1079.6kbits/s dup=34 drop=0 speed= 3.5x\n"
          ]
        },
        {
          "output_type": "stream",
          "name": "stderr",
          "text": [
            "\rProcessing video:  70%|██████▉   | 2507.45/3600 [11:57<05:12,  3.50s/s]"
          ]
        },
        {
          "output_type": "stream",
          "name": "stdout",
          "text": [
            "frame=75211 fps=105 q=29.0 size=  330496kB time=00:41:47.45 bitrate=1079.7kbits/s dup=34 drop=0 speed= 3.5x\n"
          ]
        },
        {
          "output_type": "stream",
          "name": "stderr",
          "text": [
            "\rProcessing video:  70%|██████▉   | 2508.97/3600 [11:57<05:12,  3.50s/s]"
          ]
        },
        {
          "output_type": "stream",
          "name": "stdout",
          "text": [
            "frame=75256 fps=105 q=29.0 size=  330752kB time=00:41:48.97 bitrate=1079.9kbits/s dup=34 drop=0 speed= 3.5x\n"
          ]
        },
        {
          "output_type": "stream",
          "name": "stderr",
          "text": [
            "\rProcessing video:  70%|██████▉   | 2510.46/3600 [11:58<05:11,  3.50s/s]"
          ]
        },
        {
          "output_type": "stream",
          "name": "stdout",
          "text": [
            "frame=75301 fps=105 q=29.0 size=  331264kB time=00:41:50.46 bitrate=1081.0kbits/s dup=34 drop=0 speed= 3.5x\n"
          ]
        },
        {
          "output_type": "stream",
          "name": "stderr",
          "text": [
            "\rProcessing video:  70%|██████▉   | 2512.53/3600 [11:58<05:11,  3.50s/s]"
          ]
        },
        {
          "output_type": "stream",
          "name": "stdout",
          "text": [
            "frame=75363 fps=105 q=29.0 size=  331520kB time=00:41:52.53 bitrate=1080.9kbits/s dup=34 drop=0 speed= 3.5x\n"
          ]
        },
        {
          "output_type": "stream",
          "name": "stderr",
          "text": [
            "\rProcessing video:  70%|██████▉   | 2514.73/3600 [11:59<05:10,  3.50s/s]"
          ]
        },
        {
          "output_type": "stream",
          "name": "stdout",
          "text": [
            "frame=75429 fps=105 q=29.0 size=  331776kB time=00:41:54.73 bitrate=1080.8kbits/s dup=34 drop=0 speed= 3.5x\n"
          ]
        },
        {
          "output_type": "stream",
          "name": "stderr",
          "text": [
            "\rProcessing video:  70%|██████▉   | 2516.9/3600 [11:59<05:09,  3.50s/s] "
          ]
        },
        {
          "output_type": "stream",
          "name": "stdout",
          "text": [
            "frame=75494 fps=105 q=29.0 size=  332032kB time=00:41:56.90 bitrate=1080.7kbits/s dup=34 drop=0 speed= 3.5x\n"
          ]
        },
        {
          "output_type": "stream",
          "name": "stderr",
          "text": [
            "\rProcessing video:  70%|██████▉   | 2519.16/3600 [12:00<05:08,  3.50s/s]"
          ]
        },
        {
          "output_type": "stream",
          "name": "stdout",
          "text": [
            "frame=75562 fps=105 q=29.0 size=  332288kB time=00:41:59.16 bitrate=1080.6kbits/s dup=34 drop=0 speed= 3.5x\n"
          ]
        },
        {
          "output_type": "stream",
          "name": "stderr",
          "text": [
            "\rProcessing video:  70%|███████   | 2521.23/3600 [12:00<05:08,  3.50s/s]"
          ]
        },
        {
          "output_type": "stream",
          "name": "stdout",
          "text": [
            "frame=75624 fps=105 q=29.0 size=  332544kB time=00:42:01.23 bitrate=1080.5kbits/s dup=34 drop=0 speed= 3.5x\n"
          ]
        },
        {
          "output_type": "stream",
          "name": "stderr",
          "text": [
            "\rProcessing video:  70%|███████   | 2522.92/3600 [12:01<05:07,  3.50s/s]"
          ]
        },
        {
          "output_type": "stream",
          "name": "stdout",
          "text": [
            "frame=75675 fps=105 q=29.0 size=  332800kB time=00:42:02.92 bitrate=1080.6kbits/s dup=34 drop=0 speed= 3.5x\n"
          ]
        },
        {
          "output_type": "stream",
          "name": "stderr",
          "text": [
            "\rProcessing video:  70%|███████   | 2524.69/3600 [12:01<05:07,  3.50s/s]"
          ]
        },
        {
          "output_type": "stream",
          "name": "stdout",
          "text": [
            "frame=75728 fps=105 q=29.0 size=  333056kB time=00:42:04.69 bitrate=1080.7kbits/s dup=34 drop=0 speed= 3.5x\n"
          ]
        },
        {
          "output_type": "stream",
          "name": "stderr",
          "text": [
            "\rProcessing video:  70%|███████   | 2526.4/3600 [12:02<05:06,  3.50s/s] "
          ]
        },
        {
          "output_type": "stream",
          "name": "stdout",
          "text": [
            "frame=75779 fps=105 q=29.0 size=  333312kB time=00:42:06.40 bitrate=1080.8kbits/s dup=34 drop=0 speed= 3.5x\n"
          ]
        },
        {
          "output_type": "stream",
          "name": "stderr",
          "text": [
            "\rProcessing video:  70%|███████   | 2528.0/3600 [12:02<05:06,  3.50s/s]"
          ]
        },
        {
          "output_type": "stream",
          "name": "stdout",
          "text": [
            "frame=75827 fps=105 q=29.0 size=  333568kB time=00:42:08.00 bitrate=1080.9kbits/s dup=34 drop=0 speed= 3.5x\n"
          ]
        },
        {
          "output_type": "stream",
          "name": "stderr",
          "text": [
            "\rProcessing video:  70%|███████   | 2529.49/3600 [12:03<05:06,  3.50s/s]"
          ]
        },
        {
          "output_type": "stream",
          "name": "stdout",
          "text": [
            "frame=75872 fps=105 q=29.0 size=  333824kB time=00:42:09.49 bitrate=1081.1kbits/s dup=34 drop=0 speed= 3.5x\n"
          ]
        },
        {
          "output_type": "stream",
          "name": "stderr",
          "text": [
            "\rProcessing video:  70%|███████   | 2530.92/3600 [12:03<05:05,  3.50s/s]"
          ]
        },
        {
          "output_type": "stream",
          "name": "stdout",
          "text": [
            "frame=75915 fps=105 q=29.0 size=  334080kB time=00:42:10.92 bitrate=1081.3kbits/s dup=34 drop=0 speed= 3.5x\n"
          ]
        },
        {
          "output_type": "stream",
          "name": "stderr",
          "text": [
            "\rProcessing video:  70%|███████   | 2532.22/3600 [12:04<05:05,  3.50s/s]"
          ]
        },
        {
          "output_type": "stream",
          "name": "stdout",
          "text": [
            "frame=75954 fps=105 q=29.0 size=  334336kB time=00:42:12.22 bitrate=1081.6kbits/s dup=34 drop=0 speed= 3.5x\n"
          ]
        },
        {
          "output_type": "stream",
          "name": "stderr",
          "text": [
            "\rProcessing video:  70%|███████   | 2533.58/3600 [12:04<05:05,  3.50s/s]"
          ]
        },
        {
          "output_type": "stream",
          "name": "stdout",
          "text": [
            "frame=75995 fps=105 q=29.0 size=  334592kB time=00:42:13.58 bitrate=1081.9kbits/s dup=34 drop=0 speed= 3.5x\n"
          ]
        },
        {
          "output_type": "stream",
          "name": "stderr",
          "text": [
            "\rProcessing video:  70%|███████   | 2534.86/3600 [12:05<05:04,  3.50s/s]"
          ]
        },
        {
          "output_type": "stream",
          "name": "stdout",
          "text": [
            "frame=76033 fps=105 q=29.0 size=  334848kB time=00:42:14.86 bitrate=1082.1kbits/s dup=34 drop=0 speed= 3.5x\n"
          ]
        },
        {
          "output_type": "stream",
          "name": "stderr",
          "text": [
            "\rProcessing video:  70%|███████   | 2536.1/3600 [12:05<05:04,  3.49s/s] "
          ]
        },
        {
          "output_type": "stream",
          "name": "stdout",
          "text": [
            "frame=76070 fps=105 q=29.0 size=  335360kB time=00:42:16.10 bitrate=1083.3kbits/s dup=34 drop=0 speed= 3.5x\n"
          ]
        },
        {
          "output_type": "stream",
          "name": "stderr",
          "text": [
            "\rProcessing video:  70%|███████   | 2537.55/3600 [12:06<05:04,  3.49s/s]"
          ]
        },
        {
          "output_type": "stream",
          "name": "stdout",
          "text": [
            "frame=76114 fps=105 q=29.0 size=  335616kB time=00:42:17.55 bitrate=1083.5kbits/s dup=34 drop=0 speed= 3.5x\n"
          ]
        },
        {
          "output_type": "stream",
          "name": "stderr",
          "text": [
            "\rProcessing video:  71%|███████   | 2538.92/3600 [12:06<05:03,  3.49s/s]"
          ]
        },
        {
          "output_type": "stream",
          "name": "stdout",
          "text": [
            "frame=76155 fps=105 q=29.0 size=  335872kB time=00:42:18.92 bitrate=1083.7kbits/s dup=34 drop=0 speed= 3.5x\n"
          ]
        },
        {
          "output_type": "stream",
          "name": "stderr",
          "text": [
            "\rProcessing video:  71%|███████   | 2540.22/3600 [12:07<05:03,  3.49s/s]"
          ]
        },
        {
          "output_type": "stream",
          "name": "stdout",
          "text": [
            "frame=76194 fps=105 q=29.0 size=  336128kB time=00:42:20.22 bitrate=1084.0kbits/s dup=34 drop=0 speed= 3.5x\n"
          ]
        },
        {
          "output_type": "stream",
          "name": "stderr",
          "text": [
            "\rProcessing video:  71%|███████   | 2541.41/3600 [12:07<05:03,  3.49s/s]"
          ]
        },
        {
          "output_type": "stream",
          "name": "stdout",
          "text": [
            "frame=76229 fps=105 q=29.0 size=  336384kB time=00:42:21.41 bitrate=1084.3kbits/s dup=34 drop=0 speed= 3.5x\n"
          ]
        },
        {
          "output_type": "stream",
          "name": "stderr",
          "text": [
            "\rProcessing video:  71%|███████   | 2542.89/3600 [12:08<05:02,  3.49s/s]"
          ]
        },
        {
          "output_type": "stream",
          "name": "stdout",
          "text": [
            "frame=76274 fps=105 q=29.0 size=  336640kB time=00:42:22.89 bitrate=1084.5kbits/s dup=34 drop=0 speed= 3.5x\n"
          ]
        },
        {
          "output_type": "stream",
          "name": "stderr",
          "text": [
            "\rProcessing video:  71%|███████   | 2544.36/3600 [12:08<05:02,  3.49s/s]"
          ]
        },
        {
          "output_type": "stream",
          "name": "stdout",
          "text": [
            "frame=76318 fps=105 q=29.0 size=  336896kB time=00:42:24.36 bitrate=1084.7kbits/s dup=34 drop=0 speed= 3.5x\n"
          ]
        },
        {
          "output_type": "stream",
          "name": "stderr",
          "text": [
            "\rProcessing video:  71%|███████   | 2546.13/3600 [12:09<05:01,  3.49s/s]"
          ]
        },
        {
          "output_type": "stream",
          "name": "stdout",
          "text": [
            "frame=76371 fps=105 q=29.0 size=  337152kB time=00:42:26.13 bitrate=1084.8kbits/s dup=34 drop=0 speed= 3.5x\n"
          ]
        },
        {
          "output_type": "stream",
          "name": "stderr",
          "text": [
            "\rProcessing video:  71%|███████   | 2547.79/3600 [12:09<05:01,  3.49s/s]"
          ]
        },
        {
          "output_type": "stream",
          "name": "stdout",
          "text": [
            "frame=76421 fps=105 q=29.0 size=  337408kB time=00:42:27.79 bitrate=1084.9kbits/s dup=34 drop=0 speed= 3.5x\n"
          ]
        },
        {
          "output_type": "stream",
          "name": "stderr",
          "text": [
            "\rProcessing video:  71%|███████   | 2549.44/3600 [12:10<05:00,  3.49s/s]"
          ]
        },
        {
          "output_type": "stream",
          "name": "stdout",
          "text": [
            "frame=76470 fps=105 q=29.0 size=  337664kB time=00:42:29.44 bitrate=1085.0kbits/s dup=34 drop=0 speed= 3.5x\n"
          ]
        },
        {
          "output_type": "stream",
          "name": "stderr",
          "text": [
            "\rProcessing video:  71%|███████   | 2550.93/3600 [12:10<05:00,  3.49s/s]"
          ]
        },
        {
          "output_type": "stream",
          "name": "stdout",
          "text": [
            "frame=76515 fps=105 q=29.0 size=  337920kB time=00:42:30.93 bitrate=1085.2kbits/s dup=34 drop=0 speed= 3.5x\n"
          ]
        },
        {
          "output_type": "stream",
          "name": "stderr",
          "text": [
            "\rProcessing video:  71%|███████   | 2552.25/3600 [12:11<05:00,  3.49s/s]"
          ]
        },
        {
          "output_type": "stream",
          "name": "stdout",
          "text": [
            "frame=76555 fps=105 q=29.0 size=  337920kB time=00:42:32.25 bitrate=1084.6kbits/s dup=34 drop=0 speed=3.49x\n"
          ]
        },
        {
          "output_type": "stream",
          "name": "stderr",
          "text": [
            "\rProcessing video:  71%|███████   | 2553.96/3600 [12:11<04:59,  3.49s/s]"
          ]
        },
        {
          "output_type": "stream",
          "name": "stdout",
          "text": [
            "frame=76606 fps=105 q=29.0 size=  338176kB time=00:42:33.96 bitrate=1084.7kbits/s dup=34 drop=0 speed=3.49x\n"
          ]
        },
        {
          "output_type": "stream",
          "name": "stderr",
          "text": [
            "\rProcessing video:  71%|███████   | 2555.75/3600 [12:12<04:59,  3.49s/s]"
          ]
        },
        {
          "output_type": "stream",
          "name": "stdout",
          "text": [
            "frame=76660 fps=105 q=29.0 size=  338432kB time=00:42:35.75 bitrate=1084.8kbits/s dup=34 drop=0 speed=3.49x\n"
          ]
        },
        {
          "output_type": "stream",
          "name": "stderr",
          "text": [
            "\rProcessing video:  71%|███████   | 2558.03/3600 [12:12<04:58,  3.49s/s]"
          ]
        },
        {
          "output_type": "stream",
          "name": "stdout",
          "text": [
            "frame=76728 fps=105 q=29.0 size=  338432kB time=00:42:38.03 bitrate=1083.8kbits/s dup=34 drop=0 speed= 3.5x\n"
          ]
        },
        {
          "output_type": "stream",
          "name": "stderr",
          "text": [
            "\rProcessing video:  71%|███████   | 2560.46/3600 [12:13<04:57,  3.49s/s]"
          ]
        },
        {
          "output_type": "stream",
          "name": "stdout",
          "text": [
            "frame=76801 fps=105 q=29.0 size=  338688kB time=00:42:40.46 bitrate=1083.6kbits/s dup=34 drop=0 speed= 3.5x\n"
          ]
        },
        {
          "output_type": "stream",
          "name": "stderr",
          "text": [
            "\rProcessing video:  71%|███████   | 2562.73/3600 [12:13<04:56,  3.49s/s]"
          ]
        },
        {
          "output_type": "stream",
          "name": "stdout",
          "text": [
            "frame=76869 fps=105 q=29.0 size=  338944kB time=00:42:42.73 bitrate=1083.5kbits/s dup=34 drop=0 speed= 3.5x\n"
          ]
        },
        {
          "output_type": "stream",
          "name": "stderr",
          "text": [
            "\rProcessing video:  71%|███████   | 2564.82/3600 [12:14<04:56,  3.49s/s]"
          ]
        },
        {
          "output_type": "stream",
          "name": "stdout",
          "text": [
            "frame=76932 fps=105 q=29.0 size=  339200kB time=00:42:44.82 bitrate=1083.4kbits/s dup=34 drop=0 speed= 3.5x\n"
          ]
        },
        {
          "output_type": "stream",
          "name": "stderr",
          "text": [
            "\rProcessing video:  71%|███████▏  | 2566.99/3600 [12:14<04:55,  3.49s/s]"
          ]
        },
        {
          "output_type": "stream",
          "name": "stdout",
          "text": [
            "frame=76997 fps=105 q=29.0 size=  339456kB time=00:42:46.99 bitrate=1083.3kbits/s dup=34 drop=0 speed= 3.5x\n"
          ]
        },
        {
          "output_type": "stream",
          "name": "stderr",
          "text": [
            "\rProcessing video:  71%|███████▏  | 2569.17/3600 [12:15<04:55,  3.49s/s]"
          ]
        },
        {
          "output_type": "stream",
          "name": "stdout",
          "text": [
            "frame=77062 fps=105 q=29.0 size=  339712kB time=00:42:49.17 bitrate=1083.2kbits/s dup=34 drop=0 speed= 3.5x\n"
          ]
        },
        {
          "output_type": "stream",
          "name": "stderr",
          "text": [
            "\rProcessing video:  71%|███████▏  | 2571.2/3600 [12:15<04:54,  3.49s/s] "
          ]
        },
        {
          "output_type": "stream",
          "name": "stdout",
          "text": [
            "frame=77123 fps=105 q=29.0 size=  340224kB time=00:42:51.20 bitrate=1084.0kbits/s dup=34 drop=0 speed= 3.5x\n"
          ]
        },
        {
          "output_type": "stream",
          "name": "stderr",
          "text": [
            "\rProcessing video:  71%|███████▏  | 2573.69/3600 [12:16<04:53,  3.50s/s]"
          ]
        },
        {
          "output_type": "stream",
          "name": "stdout",
          "text": [
            "frame=77198 fps=105 q=29.0 size=  340480kB time=00:42:53.69 bitrate=1083.7kbits/s dup=34 drop=0 speed= 3.5x\n"
          ]
        },
        {
          "output_type": "stream",
          "name": "stderr",
          "text": [
            "\rProcessing video:  72%|███████▏  | 2576.32/3600 [12:16<04:52,  3.50s/s]"
          ]
        },
        {
          "output_type": "stream",
          "name": "stdout",
          "text": [
            "frame=77277 fps=105 q=29.0 size=  340480kB time=00:42:56.32 bitrate=1082.6kbits/s dup=34 drop=0 speed= 3.5x\n"
          ]
        },
        {
          "output_type": "stream",
          "name": "stderr",
          "text": [
            "\rProcessing video:  72%|███████▏  | 2579.09/3600 [12:17<04:51,  3.50s/s]"
          ]
        },
        {
          "output_type": "stream",
          "name": "stdout",
          "text": [
            "frame=77360 fps=105 q=29.0 size=  340992kB time=00:42:59.09 bitrate=1083.1kbits/s dup=34 drop=0 speed= 3.5x\n"
          ]
        },
        {
          "output_type": "stream",
          "name": "stderr",
          "text": [
            "\rProcessing video:  72%|███████▏  | 2581.88/3600 [12:17<04:50,  3.50s/s]"
          ]
        },
        {
          "output_type": "stream",
          "name": "stdout",
          "text": [
            "frame=77444 fps=105 q=29.0 size=  340992kB time=00:43:01.88 bitrate=1081.9kbits/s dup=34 drop=0 speed= 3.5x\n"
          ]
        },
        {
          "output_type": "stream",
          "name": "stderr",
          "text": [
            "\rProcessing video:  72%|███████▏  | 2584.7/3600 [12:18<04:50,  3.50s/s] "
          ]
        },
        {
          "output_type": "stream",
          "name": "stdout",
          "text": [
            "frame=77528 fps=105 q=29.0 size=  341248kB time=00:43:04.70 bitrate=1081.6kbits/s dup=34 drop=0 speed= 3.5x\n"
          ]
        },
        {
          "output_type": "stream",
          "name": "stderr",
          "text": [
            "\rProcessing video:  72%|███████▏  | 2586.9/3600 [12:18<04:49,  3.50s/s]"
          ]
        },
        {
          "output_type": "stream",
          "name": "stdout",
          "text": [
            "frame=77594 fps=105 q=29.0 size=  341504kB time=00:43:06.90 bitrate=1081.4kbits/s dup=34 drop=0 speed=3.51x\n"
          ]
        },
        {
          "output_type": "stream",
          "name": "stderr",
          "text": [
            "\rProcessing video:  72%|███████▏  | 2588.37/3600 [12:19<04:48,  3.50s/s]"
          ]
        },
        {
          "output_type": "stream",
          "name": "stdout",
          "text": [
            "frame=77638 fps=105 q=29.0 size=  341760kB time=00:43:08.37 bitrate=1081.6kbits/s dup=34 drop=0 speed=3.51x\n"
          ]
        },
        {
          "output_type": "stream",
          "name": "stderr",
          "text": [
            "\rProcessing video:  72%|███████▏  | 2589.63/3600 [12:19<04:48,  3.50s/s]"
          ]
        },
        {
          "output_type": "stream",
          "name": "stdout",
          "text": [
            "frame=77676 fps=105 q=29.0 size=  342016kB time=00:43:09.63 bitrate=1081.9kbits/s dup=34 drop=0 speed= 3.5x\n"
          ]
        },
        {
          "output_type": "stream",
          "name": "stderr",
          "text": [
            "\rProcessing video:  72%|███████▏  | 2590.82/3600 [12:20<04:48,  3.50s/s]"
          ]
        },
        {
          "output_type": "stream",
          "name": "stdout",
          "text": [
            "frame=77712 fps=105 q=29.0 size=  342272kB time=00:43:10.82 bitrate=1082.2kbits/s dup=34 drop=0 speed= 3.5x\n"
          ]
        },
        {
          "output_type": "stream",
          "name": "stderr",
          "text": [
            "\rProcessing video:  72%|███████▏  | 2592.06/3600 [12:20<04:48,  3.50s/s]"
          ]
        },
        {
          "output_type": "stream",
          "name": "stdout",
          "text": [
            "frame=77749 fps=105 q=29.0 size=  342528kB time=00:43:12.06 bitrate=1082.5kbits/s dup=34 drop=0 speed= 3.5x\n"
          ]
        },
        {
          "output_type": "stream",
          "name": "stderr",
          "text": [
            "\rProcessing video:  72%|███████▏  | 2593.3/3600 [12:21<04:47,  3.50s/s] "
          ]
        },
        {
          "output_type": "stream",
          "name": "stdout",
          "text": [
            "frame=77786 fps=105 q=29.0 size=  342784kB time=00:43:13.30 bitrate=1082.8kbits/s dup=34 drop=0 speed= 3.5x\n"
          ]
        },
        {
          "output_type": "stream",
          "name": "stderr",
          "text": [
            "\rProcessing video:  72%|███████▏  | 2594.73/3600 [12:21<04:47,  3.50s/s]"
          ]
        },
        {
          "output_type": "stream",
          "name": "stdout",
          "text": [
            "frame=77829 fps=105 q=29.0 size=  343296kB time=00:43:14.73 bitrate=1083.8kbits/s dup=34 drop=0 speed= 3.5x\n"
          ]
        },
        {
          "output_type": "stream",
          "name": "stderr",
          "text": [
            "\rProcessing video:  72%|███████▏  | 2596.45/3600 [12:22<04:46,  3.50s/s]"
          ]
        },
        {
          "output_type": "stream",
          "name": "stdout",
          "text": [
            "frame=77881 fps=105 q=29.0 size=  343296kB time=00:43:16.45 bitrate=1083.1kbits/s dup=34 drop=0 speed= 3.5x\n"
          ]
        },
        {
          "output_type": "stream",
          "name": "stderr",
          "text": [
            "\rProcessing video:  72%|███████▏  | 2598.2/3600 [12:22<04:46,  3.50s/s] "
          ]
        },
        {
          "output_type": "stream",
          "name": "stdout",
          "text": [
            "frame=77933 fps=105 q=29.0 size=  343552kB time=00:43:18.20 bitrate=1083.2kbits/s dup=34 drop=0 speed= 3.5x\n"
          ]
        },
        {
          "output_type": "stream",
          "name": "stderr",
          "text": [
            "\rProcessing video:  72%|███████▏  | 2599.93/3600 [12:23<04:45,  3.50s/s]"
          ]
        },
        {
          "output_type": "stream",
          "name": "stdout",
          "text": [
            "frame=77985 fps=105 q=29.0 size=  343808kB time=00:43:19.93 bitrate=1083.3kbits/s dup=34 drop=0 speed= 3.5x\n"
          ]
        },
        {
          "output_type": "stream",
          "name": "stderr",
          "text": [
            "\rProcessing video:  72%|███████▏  | 2601.6/3600 [12:23<04:45,  3.50s/s] "
          ]
        },
        {
          "output_type": "stream",
          "name": "stdout",
          "text": [
            "frame=78035 fps=105 q=29.0 size=  344064kB time=00:43:21.60 bitrate=1083.4kbits/s dup=34 drop=0 speed= 3.5x\n"
          ]
        },
        {
          "output_type": "stream",
          "name": "stderr",
          "text": [
            "\rProcessing video:  72%|███████▏  | 2603.26/3600 [12:24<04:45,  3.50s/s]"
          ]
        },
        {
          "output_type": "stream",
          "name": "stdout",
          "text": [
            "frame=78085 fps=105 q=29.0 size=  344320kB time=00:43:23.26 bitrate=1083.5kbits/s dup=34 drop=0 speed= 3.5x\n"
          ]
        },
        {
          "output_type": "stream",
          "name": "stderr",
          "text": [
            "\rProcessing video:  72%|███████▏  | 2604.9/3600 [12:24<04:44,  3.50s/s] "
          ]
        },
        {
          "output_type": "stream",
          "name": "stdout",
          "text": [
            "frame=78134 fps=105 q=29.0 size=  344320kB time=00:43:24.90 bitrate=1082.8kbits/s dup=34 drop=0 speed= 3.5x\n"
          ]
        },
        {
          "output_type": "stream",
          "name": "stderr",
          "text": [
            "\rProcessing video:  72%|███████▏  | 2606.5/3600 [12:25<04:44,  3.50s/s]"
          ]
        },
        {
          "output_type": "stream",
          "name": "stdout",
          "text": [
            "frame=78182 fps=105 q=29.0 size=  344576kB time=00:43:26.50 bitrate=1083.0kbits/s dup=34 drop=0 speed= 3.5x\n"
          ]
        },
        {
          "output_type": "stream",
          "name": "stderr",
          "text": [
            "\rProcessing video:  72%|███████▏  | 2608.4/3600 [12:25<04:43,  3.50s/s]"
          ]
        },
        {
          "output_type": "stream",
          "name": "stdout",
          "text": [
            "frame=78239 fps=105 q=29.0 size=  344832kB time=00:43:28.40 bitrate=1083.0kbits/s dup=34 drop=0 speed= 3.5x\n"
          ]
        },
        {
          "output_type": "stream",
          "name": "stderr",
          "text": [
            "\rProcessing video:  73%|███████▎  | 2610.38/3600 [12:26<04:42,  3.50s/s]"
          ]
        },
        {
          "output_type": "stream",
          "name": "stdout",
          "text": [
            "frame=78299 fps=105 q=29.0 size=  345088kB time=00:43:30.38 bitrate=1083.0kbits/s dup=34 drop=0 speed= 3.5x\n"
          ]
        },
        {
          "output_type": "stream",
          "name": "stderr",
          "text": [
            "\rProcessing video:  73%|███████▎  | 2612.28/3600 [12:26<04:42,  3.50s/s]"
          ]
        },
        {
          "output_type": "stream",
          "name": "stdout",
          "text": [
            "frame=78356 fps=105 q=29.0 size=  345344kB time=00:43:32.28 bitrate=1083.0kbits/s dup=34 drop=0 speed= 3.5x\n"
          ]
        },
        {
          "output_type": "stream",
          "name": "stderr",
          "text": [
            "\rProcessing video:  73%|███████▎  | 2614.22/3600 [12:27<04:41,  3.50s/s]"
          ]
        },
        {
          "output_type": "stream",
          "name": "stdout",
          "text": [
            "frame=78414 fps=105 q=29.0 size=  345344kB time=00:43:34.22 bitrate=1082.2kbits/s dup=34 drop=0 speed= 3.5x\n"
          ]
        },
        {
          "output_type": "stream",
          "name": "stderr",
          "text": [
            "\rProcessing video:  73%|███████▎  | 2616.12/3600 [12:27<04:41,  3.50s/s]"
          ]
        },
        {
          "output_type": "stream",
          "name": "stdout",
          "text": [
            "frame=78471 fps=105 q=29.0 size=  345600kB time=00:43:36.12 bitrate=1082.2kbits/s dup=34 drop=0 speed= 3.5x\n"
          ]
        },
        {
          "output_type": "stream",
          "name": "stderr",
          "text": [
            "\rProcessing video:  73%|███████▎  | 2617.85/3600 [12:28<04:40,  3.50s/s]"
          ]
        },
        {
          "output_type": "stream",
          "name": "stdout",
          "text": [
            "frame=78523 fps=105 q=29.0 size=  345856kB time=00:43:37.85 bitrate=1082.3kbits/s dup=34 drop=0 speed= 3.5x\n"
          ]
        },
        {
          "output_type": "stream",
          "name": "stderr",
          "text": [
            "\rProcessing video:  73%|███████▎  | 2618.92/3600 [12:28<04:40,  3.50s/s]"
          ]
        },
        {
          "output_type": "stream",
          "name": "stdout",
          "text": [
            "frame=78555 fps=105 q=29.0 size=  346112kB time=00:43:38.92 bitrate=1082.6kbits/s dup=34 drop=0 speed= 3.5x\n"
          ]
        },
        {
          "output_type": "stream",
          "name": "stderr",
          "text": [
            "\rProcessing video:  73%|███████▎  | 2620.26/3600 [12:29<04:40,  3.50s/s]"
          ]
        },
        {
          "output_type": "stream",
          "name": "stdout",
          "text": [
            "frame=78595 fps=105 q=29.0 size=  346368kB time=00:43:40.26 bitrate=1082.9kbits/s dup=34 drop=0 speed= 3.5x\n"
          ]
        },
        {
          "output_type": "stream",
          "name": "stderr",
          "text": [
            "\rProcessing video:  73%|███████▎  | 2621.63/3600 [12:29<04:39,  3.50s/s]"
          ]
        },
        {
          "output_type": "stream",
          "name": "stdout",
          "text": [
            "frame=78636 fps=105 q=29.0 size=  346624kB time=00:43:41.63 bitrate=1083.1kbits/s dup=34 drop=0 speed= 3.5x\n"
          ]
        },
        {
          "output_type": "stream",
          "name": "stderr",
          "text": [
            "\rProcessing video:  73%|███████▎  | 2623.82/3600 [12:30<04:39,  3.50s/s]"
          ]
        },
        {
          "output_type": "stream",
          "name": "stdout",
          "text": [
            "frame=78702 fps=105 q=29.0 size=  346880kB time=00:43:43.82 bitrate=1083.0kbits/s dup=34 drop=0 speed= 3.5x\n"
          ]
        },
        {
          "output_type": "stream",
          "name": "stderr",
          "text": [
            "\rProcessing video:  73%|███████▎  | 2626.38/3600 [12:30<04:38,  3.50s/s]"
          ]
        },
        {
          "output_type": "stream",
          "name": "stdout",
          "text": [
            "frame=78779 fps=105 q=29.0 size=  346880kB time=00:43:46.38 bitrate=1082.0kbits/s dup=34 drop=0 speed= 3.5x\n"
          ]
        },
        {
          "output_type": "stream",
          "name": "stderr",
          "text": [
            "\rProcessing video:  73%|███████▎  | 2628.92/3600 [12:31<04:37,  3.50s/s]"
          ]
        },
        {
          "output_type": "stream",
          "name": "stdout",
          "text": [
            "frame=78855 fps=105 q=29.0 size=  347136kB time=00:43:48.92 bitrate=1081.7kbits/s dup=34 drop=0 speed= 3.5x\n"
          ]
        },
        {
          "output_type": "stream",
          "name": "stderr",
          "text": [
            "\rProcessing video:  73%|███████▎  | 2631.27/3600 [12:31<04:36,  3.50s/s]"
          ]
        },
        {
          "output_type": "stream",
          "name": "stdout",
          "text": [
            "frame=78925 fps=105 q=29.0 size=  347392kB time=00:43:51.27 bitrate=1081.5kbits/s dup=34 drop=0 speed= 3.5x\n"
          ]
        },
        {
          "output_type": "stream",
          "name": "stderr",
          "text": [
            "\rProcessing video:  73%|███████▎  | 2633.23/3600 [12:32<04:36,  3.50s/s]"
          ]
        },
        {
          "output_type": "stream",
          "name": "stdout",
          "text": [
            "frame=78984 fps=105 q=29.0 size=  347648kB time=00:43:53.23 bitrate=1081.5kbits/s dup=34 drop=0 speed= 3.5x\n"
          ]
        },
        {
          "output_type": "stream",
          "name": "stderr",
          "text": [
            "\rProcessing video:  73%|███████▎  | 2634.49/3600 [12:32<04:35,  3.50s/s]"
          ]
        },
        {
          "output_type": "stream",
          "name": "stdout",
          "text": [
            "frame=79022 fps=105 q=29.0 size=  347904kB time=00:43:54.49 bitrate=1081.8kbits/s dup=34 drop=0 speed= 3.5x\n"
          ]
        },
        {
          "output_type": "stream",
          "name": "stderr",
          "text": [
            "\rProcessing video:  73%|███████▎  | 2635.75/3600 [12:33<04:35,  3.50s/s]"
          ]
        },
        {
          "output_type": "stream",
          "name": "stdout",
          "text": [
            "frame=79060 fps=105 q=29.0 size=  348160kB time=00:43:55.75 bitrate=1082.1kbits/s dup=34 drop=0 speed= 3.5x\n"
          ]
        },
        {
          "output_type": "stream",
          "name": "stderr",
          "text": [
            "\rProcessing video:  73%|███████▎  | 2637.05/3600 [12:33<04:35,  3.50s/s]"
          ]
        },
        {
          "output_type": "stream",
          "name": "stdout",
          "text": [
            "frame=79099 fps=105 q=29.0 size=  348416kB time=00:43:57.05 bitrate=1082.4kbits/s dup=34 drop=0 speed= 3.5x\n"
          ]
        },
        {
          "output_type": "stream",
          "name": "stderr",
          "text": [
            "\rProcessing video:  73%|███████▎  | 2638.35/3600 [12:34<04:35,  3.50s/s]"
          ]
        },
        {
          "output_type": "stream",
          "name": "stdout",
          "text": [
            "frame=79138 fps=105 q=29.0 size=  348672kB time=00:43:58.35 bitrate=1082.6kbits/s dup=34 drop=0 speed= 3.5x\n"
          ]
        },
        {
          "output_type": "stream",
          "name": "stderr",
          "text": [
            "\rProcessing video:  73%|███████▎  | 2639.63/3600 [12:35<04:34,  3.50s/s]"
          ]
        },
        {
          "output_type": "stream",
          "name": "stdout",
          "text": [
            "frame=79176 fps=105 q=29.0 size=  348928kB time=00:43:59.63 bitrate=1082.9kbits/s dup=34 drop=0 speed= 3.5x\n"
          ]
        },
        {
          "output_type": "stream",
          "name": "stderr",
          "text": [
            "\rProcessing video:  73%|███████▎  | 2640.96/3600 [12:35<04:34,  3.50s/s]"
          ]
        },
        {
          "output_type": "stream",
          "name": "stdout",
          "text": [
            "frame=79216 fps=105 q=26.0 size=  349184kB time=00:44:00.96 bitrate=1083.1kbits/s dup=34 drop=0 speed= 3.5x\n"
          ]
        },
        {
          "output_type": "stream",
          "name": "stderr",
          "text": [
            "\rProcessing video:  73%|███████▎  | 2642.53/3600 [12:36<04:33,  3.50s/s]"
          ]
        },
        {
          "output_type": "stream",
          "name": "stdout",
          "text": [
            "frame=79263 fps=105 q=29.0 size=  349440kB time=00:44:02.53 bitrate=1083.3kbits/s dup=34 drop=0 speed= 3.5x\n"
          ]
        },
        {
          "output_type": "stream",
          "name": "stderr",
          "text": [
            "\rProcessing video:  73%|███████▎  | 2644.16/3600 [12:36<04:33,  3.50s/s]"
          ]
        },
        {
          "output_type": "stream",
          "name": "stdout",
          "text": [
            "frame=79312 fps=105 q=29.0 size=  349696kB time=00:44:04.16 bitrate=1083.4kbits/s dup=34 drop=0 speed= 3.5x\n"
          ]
        },
        {
          "output_type": "stream",
          "name": "stderr",
          "text": [
            "\rProcessing video:  73%|███████▎  | 2645.76/3600 [12:37<04:33,  3.50s/s]"
          ]
        },
        {
          "output_type": "stream",
          "name": "stdout",
          "text": [
            "frame=79360 fps=105 q=29.0 size=  349952kB time=00:44:05.76 bitrate=1083.5kbits/s dup=34 drop=0 speed= 3.5x\n"
          ]
        },
        {
          "output_type": "stream",
          "name": "stderr",
          "text": [
            "\rProcessing video:  74%|███████▎  | 2647.57/3600 [12:37<04:32,  3.50s/s]"
          ]
        },
        {
          "output_type": "stream",
          "name": "stdout",
          "text": [
            "frame=79414 fps=105 q=29.0 size=  350208kB time=00:44:07.57 bitrate=1083.6kbits/s dup=34 drop=0 speed= 3.5x\n"
          ]
        },
        {
          "output_type": "stream",
          "name": "stderr",
          "text": [
            "\rProcessing video:  74%|███████▎  | 2648.89/3600 [12:38<04:32,  3.49s/s]"
          ]
        },
        {
          "output_type": "stream",
          "name": "stdout",
          "text": [
            "frame=79454 fps=105 q=29.0 size=  350464kB time=00:44:08.89 bitrate=1083.8kbits/s dup=34 drop=0 speed= 3.5x\n"
          ]
        },
        {
          "output_type": "stream",
          "name": "stderr",
          "text": [
            "\rProcessing video:  74%|███████▎  | 2650.56/3600 [12:38<04:31,  3.49s/s]"
          ]
        },
        {
          "output_type": "stream",
          "name": "stdout",
          "text": [
            "frame=79504 fps=105 q=29.0 size=  350720kB time=00:44:10.56 bitrate=1084.0kbits/s dup=34 drop=0 speed= 3.5x\n"
          ]
        },
        {
          "output_type": "stream",
          "name": "stderr",
          "text": [
            "\rProcessing video:  74%|███████▎  | 2652.22/3600 [12:39<04:31,  3.49s/s]"
          ]
        },
        {
          "output_type": "stream",
          "name": "stdout",
          "text": [
            "frame=79554 fps=105 q=29.0 size=  350976kB time=00:44:12.22 bitrate=1084.1kbits/s dup=34 drop=0 speed= 3.5x\n"
          ]
        },
        {
          "output_type": "stream",
          "name": "stderr",
          "text": [
            "\rProcessing video:  74%|███████▎  | 2653.88/3600 [12:39<04:30,  3.49s/s]"
          ]
        },
        {
          "output_type": "stream",
          "name": "stdout",
          "text": [
            "frame=79604 fps=105 q=29.0 size=  350976kB time=00:44:13.88 bitrate=1083.4kbits/s dup=34 drop=0 speed= 3.5x\n"
          ]
        },
        {
          "output_type": "stream",
          "name": "stderr",
          "text": [
            "\rProcessing video:  74%|███████▍  | 2655.76/3600 [12:40<04:30,  3.49s/s]"
          ]
        },
        {
          "output_type": "stream",
          "name": "stdout",
          "text": [
            "frame=79660 fps=105 q=29.0 size=  351232kB time=00:44:15.76 bitrate=1083.4kbits/s dup=34 drop=0 speed= 3.5x\n"
          ]
        },
        {
          "output_type": "stream",
          "name": "stderr",
          "text": [
            "\rProcessing video:  74%|███████▍  | 2658.0/3600 [12:40<04:29,  3.49s/s] "
          ]
        },
        {
          "output_type": "stream",
          "name": "stdout",
          "text": [
            "frame=79727 fps=105 q=29.0 size=  351488kB time=00:44:18.00 bitrate=1083.3kbits/s dup=34 drop=0 speed= 3.5x\n"
          ]
        },
        {
          "output_type": "stream",
          "name": "stderr",
          "text": [
            "\rProcessing video:  74%|███████▍  | 2660.39/3600 [12:41<04:28,  3.50s/s]"
          ]
        },
        {
          "output_type": "stream",
          "name": "stdout",
          "text": [
            "frame=79799 fps=105 q=29.0 size=  351744kB time=00:44:20.39 bitrate=1083.1kbits/s dup=34 drop=0 speed= 3.5x\n"
          ]
        },
        {
          "output_type": "stream",
          "name": "stderr",
          "text": [
            "\rProcessing video:  74%|███████▍  | 2662.93/3600 [12:41<04:27,  3.50s/s]"
          ]
        },
        {
          "output_type": "stream",
          "name": "stdout",
          "text": [
            "frame=79875 fps=105 q=29.0 size=  352000kB time=00:44:22.93 bitrate=1082.9kbits/s dup=34 drop=0 speed= 3.5x\n"
          ]
        },
        {
          "output_type": "stream",
          "name": "stderr",
          "text": [
            "\rProcessing video:  74%|███████▍  | 2665.0/3600 [12:42<04:27,  3.50s/s] "
          ]
        },
        {
          "output_type": "stream",
          "name": "stdout",
          "text": [
            "frame=79937 fps=105 q=29.0 size=  352256kB time=00:44:25.00 bitrate=1082.8kbits/s dup=34 drop=0 speed= 3.5x\n"
          ]
        },
        {
          "output_type": "stream",
          "name": "stderr",
          "text": [
            "\rProcessing video:  74%|███████▍  | 2666.38/3600 [12:42<04:27,  3.50s/s]"
          ]
        },
        {
          "output_type": "stream",
          "name": "stdout",
          "text": [
            "frame=79979 fps=105 q=29.0 size=  352512kB time=00:44:26.38 bitrate=1083.0kbits/s dup=34 drop=0 speed= 3.5x\n"
          ]
        },
        {
          "output_type": "stream",
          "name": "stderr",
          "text": [
            "\rProcessing video:  74%|███████▍  | 2667.75/3600 [12:43<04:26,  3.50s/s]"
          ]
        },
        {
          "output_type": "stream",
          "name": "stdout",
          "text": [
            "frame=80020 fps=105 q=29.0 size=  352768kB time=00:44:27.75 bitrate=1083.3kbits/s dup=34 drop=0 speed= 3.5x\n"
          ]
        },
        {
          "output_type": "stream",
          "name": "stderr",
          "text": [
            "\rProcessing video:  74%|███████▍  | 2669.22/3600 [12:43<04:26,  3.50s/s]"
          ]
        },
        {
          "output_type": "stream",
          "name": "stdout",
          "text": [
            "frame=80064 fps=105 q=29.0 size=  353024kB time=00:44:29.22 bitrate=1083.4kbits/s dup=34 drop=0 speed= 3.5x\n"
          ]
        },
        {
          "output_type": "stream",
          "name": "stderr",
          "text": [
            "\rProcessing video:  74%|███████▍  | 2671.25/3600 [12:44<04:25,  3.50s/s]"
          ]
        },
        {
          "output_type": "stream",
          "name": "stdout",
          "text": [
            "frame=80125 fps=105 q=29.0 size=  353280kB time=00:44:31.25 bitrate=1083.4kbits/s dup=34 drop=0 speed= 3.5x\n"
          ]
        },
        {
          "output_type": "stream",
          "name": "stderr",
          "text": [
            "\rProcessing video:  74%|███████▍  | 2673.4/3600 [12:44<04:25,  3.50s/s] "
          ]
        },
        {
          "output_type": "stream",
          "name": "stdout",
          "text": [
            "frame=80189 fps=105 q=29.0 size=  353536kB time=00:44:33.40 bitrate=1083.3kbits/s dup=34 drop=0 speed= 3.5x\n"
          ]
        },
        {
          "output_type": "stream",
          "name": "stderr",
          "text": [
            "\rProcessing video:  74%|███████▍  | 2675.56/3600 [12:45<04:24,  3.50s/s]"
          ]
        },
        {
          "output_type": "stream",
          "name": "stdout",
          "text": [
            "frame=80254 fps=105 q=29.0 size=  353792kB time=00:44:35.56 bitrate=1083.2kbits/s dup=34 drop=0 speed= 3.5x\n"
          ]
        },
        {
          "output_type": "stream",
          "name": "stderr",
          "text": [
            "\rProcessing video:  74%|███████▍  | 2677.8/3600 [12:45<04:23,  3.50s/s] "
          ]
        },
        {
          "output_type": "stream",
          "name": "stdout",
          "text": [
            "frame=80321 fps=105 q=29.0 size=  353792kB time=00:44:37.80 bitrate=1082.3kbits/s dup=34 drop=0 speed= 3.5x\n"
          ]
        },
        {
          "output_type": "stream",
          "name": "stderr",
          "text": [
            "\rProcessing video:  74%|███████▍  | 2680.1/3600 [12:46<04:22,  3.50s/s]"
          ]
        },
        {
          "output_type": "stream",
          "name": "stdout",
          "text": [
            "frame=80390 fps=105 q=29.0 size=  354048kB time=00:44:40.10 bitrate=1082.2kbits/s dup=34 drop=0 speed= 3.5x\n"
          ]
        },
        {
          "output_type": "stream",
          "name": "stderr",
          "text": [
            "\rProcessing video:  75%|███████▍  | 2682.53/3600 [12:46<04:22,  3.50s/s]"
          ]
        },
        {
          "output_type": "stream",
          "name": "stdout",
          "text": [
            "frame=80463 fps=105 q=29.0 size=  354304kB time=00:44:42.53 bitrate=1082.0kbits/s dup=34 drop=0 speed= 3.5x\n"
          ]
        },
        {
          "output_type": "stream",
          "name": "stderr",
          "text": [
            "\rProcessing video:  75%|███████▍  | 2684.99/3600 [12:47<04:21,  3.50s/s]"
          ]
        },
        {
          "output_type": "stream",
          "name": "stdout",
          "text": [
            "frame=80537 fps=105 q=29.0 size=  354560kB time=00:44:44.99 bitrate=1081.8kbits/s dup=34 drop=0 speed= 3.5x\n"
          ]
        },
        {
          "output_type": "stream",
          "name": "stderr",
          "text": [
            "\rProcessing video:  75%|███████▍  | 2687.48/3600 [12:47<04:20,  3.50s/s]"
          ]
        },
        {
          "output_type": "stream",
          "name": "stdout",
          "text": [
            "frame=80612 fps=105 q=29.0 size=  354816kB time=00:44:47.48 bitrate=1081.6kbits/s dup=34 drop=0 speed=3.51x\n"
          ]
        },
        {
          "output_type": "stream",
          "name": "stderr",
          "text": [
            "\rProcessing video:  75%|███████▍  | 2689.92/3600 [12:48<04:19,  3.50s/s]"
          ]
        },
        {
          "output_type": "stream",
          "name": "stdout",
          "text": [
            "frame=80685 fps=105 q=29.0 size=  355072kB time=00:44:49.92 bitrate=1081.4kbits/s dup=34 drop=0 speed=3.51x\n"
          ]
        },
        {
          "output_type": "stream",
          "name": "stderr",
          "text": [
            "\rProcessing video:  75%|███████▍  | 2691.66/3600 [12:48<04:19,  3.50s/s]"
          ]
        },
        {
          "output_type": "stream",
          "name": "stdout",
          "text": [
            "frame=80737 fps=105 q=29.0 size=  355328kB time=00:44:51.66 bitrate=1081.4kbits/s dup=34 drop=0 speed=3.51x\n"
          ]
        },
        {
          "output_type": "stream",
          "name": "stderr",
          "text": [
            "\rProcessing video:  75%|███████▍  | 2693.39/3600 [12:49<04:18,  3.50s/s]"
          ]
        },
        {
          "output_type": "stream",
          "name": "stdout",
          "text": [
            "frame=80789 fps=105 q=29.0 size=  355584kB time=00:44:53.39 bitrate=1081.5kbits/s dup=34 drop=0 speed=3.51x\n"
          ]
        },
        {
          "output_type": "stream",
          "name": "stderr",
          "text": [
            "\rProcessing video:  75%|███████▍  | 2695.29/3600 [12:49<04:18,  3.50s/s]"
          ]
        },
        {
          "output_type": "stream",
          "name": "stdout",
          "text": [
            "frame=80846 fps=105 q=29.0 size=  355584kB time=00:44:55.29 bitrate=1080.8kbits/s dup=34 drop=0 speed=3.51x\n"
          ]
        },
        {
          "output_type": "stream",
          "name": "stderr",
          "text": [
            "\rProcessing video:  75%|███████▍  | 2697.94/3600 [12:50<04:17,  3.50s/s]"
          ]
        },
        {
          "output_type": "stream",
          "name": "stdout",
          "text": [
            "frame=80925 fps=105 q=29.0 size=  355840kB time=00:44:57.94 bitrate=1080.5kbits/s dup=34 drop=0 speed=3.51x\n"
          ]
        },
        {
          "output_type": "stream",
          "name": "stderr",
          "text": [
            "\rProcessing video:  75%|███████▌  | 2700.67/3600 [12:50<04:16,  3.50s/s]"
          ]
        },
        {
          "output_type": "stream",
          "name": "stdout",
          "text": [
            "frame=81007 fps=105 q=29.0 size=  356096kB time=00:45:00.67 bitrate=1080.2kbits/s dup=34 drop=0 speed=3.51x\n"
          ]
        },
        {
          "output_type": "stream",
          "name": "stderr",
          "text": [
            "\rProcessing video:  75%|███████▌  | 2703.36/3600 [12:51<04:15,  3.51s/s]"
          ]
        },
        {
          "output_type": "stream",
          "name": "stdout",
          "text": [
            "frame=81088 fps=105 q=26.0 size=  356352kB time=00:45:03.36 bitrate=1079.9kbits/s dup=34 drop=0 speed=3.51x\n"
          ]
        },
        {
          "output_type": "stream",
          "name": "stderr",
          "text": [
            "\rProcessing video:  75%|███████▌  | 2706.19/3600 [12:51<04:14,  3.51s/s]"
          ]
        },
        {
          "output_type": "stream",
          "name": "stdout",
          "text": [
            "frame=81173 fps=105 q=29.0 size=  356352kB time=00:45:06.19 bitrate=1078.7kbits/s dup=34 drop=0 speed=3.51x\n"
          ]
        },
        {
          "output_type": "stream",
          "name": "stderr",
          "text": [
            "\rProcessing video:  75%|███████▌  | 2708.82/3600 [12:52<04:14,  3.51s/s]"
          ]
        },
        {
          "output_type": "stream",
          "name": "stdout",
          "text": [
            "frame=81252 fps=105 q=29.0 size=  356608kB time=00:45:08.82 bitrate=1078.5kbits/s dup=34 drop=0 speed=3.51x\n"
          ]
        },
        {
          "output_type": "stream",
          "name": "stderr",
          "text": [
            "\rProcessing video:  75%|███████▌  | 2710.95/3600 [12:52<04:13,  3.51s/s]"
          ]
        },
        {
          "output_type": "stream",
          "name": "stdout",
          "text": [
            "frame=81316 fps=105 q=29.0 size=  356864kB time=00:45:10.95 bitrate=1078.4kbits/s dup=34 drop=0 speed=3.51x\n"
          ]
        },
        {
          "output_type": "stream",
          "name": "stderr",
          "text": [
            "\rProcessing video:  75%|███████▌  | 2712.46/3600 [12:53<04:12,  3.51s/s]"
          ]
        },
        {
          "output_type": "stream",
          "name": "stdout",
          "text": [
            "frame=81361 fps=105 q=29.0 size=  357120kB time=00:45:12.46 bitrate=1078.5kbits/s dup=34 drop=0 speed=3.51x\n"
          ]
        },
        {
          "output_type": "stream",
          "name": "stderr",
          "text": [
            "\rProcessing video:  75%|███████▌  | 2713.85/3600 [12:53<04:12,  3.51s/s]"
          ]
        },
        {
          "output_type": "stream",
          "name": "stdout",
          "text": [
            "frame=81403 fps=105 q=29.0 size=  357376kB time=00:45:13.85 bitrate=1078.8kbits/s dup=34 drop=0 speed=3.51x\n"
          ]
        },
        {
          "output_type": "stream",
          "name": "stderr",
          "text": [
            "\rProcessing video:  75%|███████▌  | 2715.26/3600 [12:54<04:12,  3.51s/s]"
          ]
        },
        {
          "output_type": "stream",
          "name": "stdout",
          "text": [
            "frame=81445 fps=105 q=29.0 size=  357632kB time=00:45:15.26 bitrate=1079.0kbits/s dup=34 drop=0 speed=3.51x\n"
          ]
        },
        {
          "output_type": "stream",
          "name": "stderr",
          "text": [
            "\rProcessing video:  75%|███████▌  | 2716.62/3600 [12:54<04:11,  3.51s/s]"
          ]
        },
        {
          "output_type": "stream",
          "name": "stdout",
          "text": [
            "frame=81486 fps=105 q=29.0 size=  357888kB time=00:45:16.62 bitrate=1079.2kbits/s dup=34 drop=0 speed=3.51x\n"
          ]
        },
        {
          "output_type": "stream",
          "name": "stderr",
          "text": [
            "\rProcessing video:  75%|███████▌  | 2717.8/3600 [12:55<04:11,  3.51s/s] "
          ]
        },
        {
          "output_type": "stream",
          "name": "stdout",
          "text": [
            "frame=81521 fps=105 q=29.0 size=  358144kB time=00:45:17.80 bitrate=1079.5kbits/s dup=34 drop=0 speed=3.51x\n"
          ]
        },
        {
          "output_type": "stream",
          "name": "stderr",
          "text": [
            "\rProcessing video:  76%|███████▌  | 2718.93/3600 [12:55<04:11,  3.50s/s]"
          ]
        },
        {
          "output_type": "stream",
          "name": "stdout",
          "text": [
            "frame=81555 fps=105 q=26.0 size=  358400kB time=00:45:18.93 bitrate=1079.8kbits/s dup=34 drop=0 speed=3.51x\n"
          ]
        },
        {
          "output_type": "stream",
          "name": "stderr",
          "text": [
            "\rProcessing video:  76%|███████▌  | 2720.53/3600 [12:56<04:10,  3.50s/s]"
          ]
        },
        {
          "output_type": "stream",
          "name": "stdout",
          "text": [
            "frame=81603 fps=105 q=29.0 size=  358912kB time=00:45:20.53 bitrate=1080.7kbits/s dup=34 drop=0 speed=3.51x\n"
          ]
        },
        {
          "output_type": "stream",
          "name": "stderr",
          "text": [
            "\rProcessing video:  76%|███████▌  | 2722.32/3600 [12:56<04:10,  3.50s/s]"
          ]
        },
        {
          "output_type": "stream",
          "name": "stdout",
          "text": [
            "frame=81657 fps=105 q=29.0 size=  359168kB time=00:45:22.32 bitrate=1080.8kbits/s dup=34 drop=0 speed=3.51x\n"
          ]
        },
        {
          "output_type": "stream",
          "name": "stderr",
          "text": [
            "\rProcessing video:  76%|███████▌  | 2724.2/3600 [12:57<04:09,  3.50s/s] "
          ]
        },
        {
          "output_type": "stream",
          "name": "stdout",
          "text": [
            "frame=81713 fps=105 q=29.0 size=  359424kB time=00:45:24.20 bitrate=1080.8kbits/s dup=34 drop=0 speed=3.51x\n"
          ]
        },
        {
          "output_type": "stream",
          "name": "stderr",
          "text": [
            "\rProcessing video:  76%|███████▌  | 2726.05/3600 [12:57<04:09,  3.50s/s]"
          ]
        },
        {
          "output_type": "stream",
          "name": "stdout",
          "text": [
            "frame=81769 fps=105 q=29.0 size=  359424kB time=00:45:26.05 bitrate=1080.1kbits/s dup=34 drop=0 speed=3.51x\n"
          ]
        },
        {
          "output_type": "stream",
          "name": "stderr",
          "text": [
            "\rProcessing video:  76%|███████▌  | 2727.8/3600 [12:58<04:08,  3.50s/s] "
          ]
        },
        {
          "output_type": "stream",
          "name": "stdout",
          "text": [
            "frame=81821 fps=105 q=29.0 size=  359680kB time=00:45:27.80 bitrate=1080.2kbits/s dup=34 drop=0 speed=3.51x\n"
          ]
        },
        {
          "output_type": "stream",
          "name": "stderr",
          "text": [
            "\rProcessing video:  76%|███████▌  | 2729.42/3600 [12:58<04:08,  3.50s/s]"
          ]
        },
        {
          "output_type": "stream",
          "name": "stdout",
          "text": [
            "frame=81870 fps=105 q=29.0 size=  359936kB time=00:45:29.42 bitrate=1080.3kbits/s dup=34 drop=0 speed=3.51x\n"
          ]
        },
        {
          "output_type": "stream",
          "name": "stderr",
          "text": [
            "\rProcessing video:  76%|███████▌  | 2730.96/3600 [12:59<04:07,  3.50s/s]"
          ]
        },
        {
          "output_type": "stream",
          "name": "stdout",
          "text": [
            "frame=81916 fps=105 q=29.0 size=  360192kB time=00:45:30.96 bitrate=1080.5kbits/s dup=34 drop=0 speed=3.51x\n"
          ]
        },
        {
          "output_type": "stream",
          "name": "stderr",
          "text": [
            "\rProcessing video:  76%|███████▌  | 2732.52/3600 [12:59<04:07,  3.50s/s]"
          ]
        },
        {
          "output_type": "stream",
          "name": "stdout",
          "text": [
            "frame=81963 fps=105 q=29.0 size=  360448kB time=00:45:32.52 bitrate=1080.6kbits/s dup=34 drop=0 speed=3.51x\n"
          ]
        },
        {
          "output_type": "stream",
          "name": "stderr",
          "text": [
            "\rProcessing video:  76%|███████▌  | 2734.16/3600 [13:00<04:07,  3.50s/s]"
          ]
        },
        {
          "output_type": "stream",
          "name": "stdout",
          "text": [
            "frame=82012 fps=105 q=29.0 size=  360704kB time=00:45:34.16 bitrate=1080.7kbits/s dup=34 drop=0 speed=3.51x\n"
          ]
        },
        {
          "output_type": "stream",
          "name": "stderr",
          "text": [
            "\rProcessing video:  76%|███████▌  | 2735.76/3600 [13:00<04:06,  3.50s/s]"
          ]
        },
        {
          "output_type": "stream",
          "name": "stdout",
          "text": [
            "frame=82060 fps=105 q=29.0 size=  360704kB time=00:45:35.76 bitrate=1080.1kbits/s dup=34 drop=0 speed=3.51x\n"
          ]
        },
        {
          "output_type": "stream",
          "name": "stderr",
          "text": [
            "\rProcessing video:  76%|███████▌  | 2737.49/3600 [13:01<04:06,  3.50s/s]"
          ]
        },
        {
          "output_type": "stream",
          "name": "stdout",
          "text": [
            "frame=82112 fps=105 q=29.0 size=  360960kB time=00:45:37.49 bitrate=1080.2kbits/s dup=34 drop=0 speed=3.51x\n"
          ]
        },
        {
          "output_type": "stream",
          "name": "stderr",
          "text": [
            "\rProcessing video:  76%|███████▌  | 2739.37/3600 [13:01<04:05,  3.50s/s]"
          ]
        },
        {
          "output_type": "stream",
          "name": "stdout",
          "text": [
            "frame=82168 fps=105 q=29.0 size=  361216kB time=00:45:39.37 bitrate=1080.2kbits/s dup=34 drop=0 speed=3.51x\n"
          ]
        },
        {
          "output_type": "stream",
          "name": "stderr",
          "text": [
            "\rProcessing video:  76%|███████▌  | 2741.52/3600 [13:02<04:04,  3.50s/s]"
          ]
        },
        {
          "output_type": "stream",
          "name": "stdout",
          "text": [
            "frame=82233 fps=105 q=29.0 size=  361472kB time=00:45:41.52 bitrate=1080.1kbits/s dup=34 drop=0 speed=3.51x\n"
          ]
        },
        {
          "output_type": "stream",
          "name": "stderr",
          "text": [
            "\rProcessing video:  76%|███████▌  | 2743.57/3600 [13:02<04:04,  3.50s/s]"
          ]
        },
        {
          "output_type": "stream",
          "name": "stdout",
          "text": [
            "frame=82294 fps=105 q=29.0 size=  361728kB time=00:45:43.57 bitrate=1080.1kbits/s dup=34 drop=0 speed=3.51x\n"
          ]
        },
        {
          "output_type": "stream",
          "name": "stderr",
          "text": [
            "\rProcessing video:  76%|███████▋  | 2745.3/3600 [13:03<04:03,  3.50s/s] "
          ]
        },
        {
          "output_type": "stream",
          "name": "stdout",
          "text": [
            "frame=82346 fps=105 q=29.0 size=  361984kB time=00:45:45.30 bitrate=1080.2kbits/s dup=34 drop=0 speed=3.51x\n"
          ]
        },
        {
          "output_type": "stream",
          "name": "stderr",
          "text": [
            "\rProcessing video:  76%|███████▋  | 2746.6/3600 [13:03<04:03,  3.50s/s]"
          ]
        },
        {
          "output_type": "stream",
          "name": "stdout",
          "text": [
            "frame=82385 fps=105 q=29.0 size=  362240kB time=00:45:46.60 bitrate=1080.4kbits/s dup=34 drop=0 speed=3.51x\n"
          ]
        },
        {
          "output_type": "stream",
          "name": "stderr",
          "text": [
            "\rProcessing video:  76%|███████▋  | 2747.9/3600 [13:04<04:03,  3.50s/s]"
          ]
        },
        {
          "output_type": "stream",
          "name": "stdout",
          "text": [
            "frame=82424 fps=105 q=29.0 size=  362496kB time=00:45:47.90 bitrate=1080.7kbits/s dup=34 drop=0 speed=3.51x\n"
          ]
        },
        {
          "output_type": "stream",
          "name": "stderr",
          "text": [
            "\rProcessing video:  76%|███████▋  | 2749.22/3600 [13:04<04:02,  3.50s/s]"
          ]
        },
        {
          "output_type": "stream",
          "name": "stdout",
          "text": [
            "frame=82464 fps=105 q=29.0 size=  362752kB time=00:45:49.22 bitrate=1080.9kbits/s dup=34 drop=0 speed=3.51x\n"
          ]
        },
        {
          "output_type": "stream",
          "name": "stderr",
          "text": [
            "\rProcessing video:  76%|███████▋  | 2751.46/3600 [13:05<04:02,  3.50s/s]"
          ]
        },
        {
          "output_type": "stream",
          "name": "stdout",
          "text": [
            "frame=82531 fps=105 q=29.0 size=  363008kB time=00:45:51.46 bitrate=1080.8kbits/s dup=34 drop=0 speed=3.51x\n"
          ]
        },
        {
          "output_type": "stream",
          "name": "stderr",
          "text": [
            "\rProcessing video:  77%|███████▋  | 2754.02/3600 [13:05<04:01,  3.50s/s]"
          ]
        },
        {
          "output_type": "stream",
          "name": "stdout",
          "text": [
            "frame=82608 fps=105 q=29.0 size=  363264kB time=00:45:54.02 bitrate=1080.5kbits/s dup=34 drop=0 speed=3.51x\n"
          ]
        },
        {
          "output_type": "stream",
          "name": "stderr",
          "text": [
            "\rProcessing video:  77%|███████▋  | 2756.6/3600 [13:06<04:00,  3.51s/s] "
          ]
        },
        {
          "output_type": "stream",
          "name": "stdout",
          "text": [
            "frame=82685 fps=105 q=29.0 size=  363520kB time=00:45:56.60 bitrate=1080.3kbits/s dup=34 drop=0 speed=3.51x\n"
          ]
        },
        {
          "output_type": "stream",
          "name": "stderr",
          "text": [
            "\rProcessing video:  77%|███████▋  | 2759.04/3600 [13:06<03:59,  3.51s/s]"
          ]
        },
        {
          "output_type": "stream",
          "name": "stdout",
          "text": [
            "frame=82758 fps=105 q=29.0 size=  363776kB time=00:45:59.04 bitrate=1080.1kbits/s dup=34 drop=0 speed=3.51x\n"
          ]
        },
        {
          "output_type": "stream",
          "name": "stderr",
          "text": [
            "\rProcessing video:  77%|███████▋  | 2761.42/3600 [13:07<03:59,  3.51s/s]"
          ]
        },
        {
          "output_type": "stream",
          "name": "stdout",
          "text": [
            "frame=82830 fps=105 q=29.0 size=  363776kB time=00:46:01.42 bitrate=1079.2kbits/s dup=34 drop=0 speed=3.51x\n"
          ]
        },
        {
          "output_type": "stream",
          "name": "stderr",
          "text": [
            "\rProcessing video:  77%|███████▋  | 2763.98/3600 [13:07<03:58,  3.51s/s]"
          ]
        },
        {
          "output_type": "stream",
          "name": "stdout",
          "text": [
            "frame=82907 fps=105 q=29.0 size=  364032kB time=00:46:03.98 bitrate=1078.9kbits/s dup=34 drop=0 speed=3.51x\n"
          ]
        },
        {
          "output_type": "stream",
          "name": "stderr",
          "text": [
            "\rProcessing video:  77%|███████▋  | 2766.69/3600 [13:08<03:57,  3.51s/s]"
          ]
        },
        {
          "output_type": "stream",
          "name": "stdout",
          "text": [
            "frame=82988 fps=105 q=29.0 size=  364288kB time=00:46:06.69 bitrate=1078.6kbits/s dup=34 drop=0 speed=3.51x\n"
          ]
        },
        {
          "output_type": "stream",
          "name": "stderr",
          "text": [
            "\rProcessing video:  77%|███████▋  | 2769.3/3600 [13:08<03:56,  3.51s/s] "
          ]
        },
        {
          "output_type": "stream",
          "name": "stdout",
          "text": [
            "frame=83066 fps=105 q=29.0 size=  364288kB time=00:46:09.30 bitrate=1077.6kbits/s dup=34 drop=0 speed=3.51x\n"
          ]
        },
        {
          "output_type": "stream",
          "name": "stderr",
          "text": [
            "\rProcessing video:  77%|███████▋  | 2771.86/3600 [13:09<03:55,  3.51s/s]"
          ]
        },
        {
          "output_type": "stream",
          "name": "stdout",
          "text": [
            "frame=83143 fps=105 q=29.0 size=  364544kB time=00:46:11.86 bitrate=1077.4kbits/s dup=34 drop=0 speed=3.52x\n"
          ]
        },
        {
          "output_type": "stream",
          "name": "stderr",
          "text": [
            "\rProcessing video:  77%|███████▋  | 2774.35/3600 [13:09<03:55,  3.51s/s]"
          ]
        },
        {
          "output_type": "stream",
          "name": "stdout",
          "text": [
            "frame=83218 fps=105 q=29.0 size=  364800kB time=00:46:14.35 bitrate=1077.2kbits/s dup=34 drop=0 speed=3.52x\n"
          ]
        },
        {
          "output_type": "stream",
          "name": "stderr",
          "text": [
            "\rProcessing video:  77%|███████▋  | 2776.49/3600 [13:10<03:54,  3.51s/s]"
          ]
        },
        {
          "output_type": "stream",
          "name": "stdout",
          "text": [
            "frame=83282 fps=105 q=29.0 size=  365056kB time=00:46:16.49 bitrate=1077.1kbits/s dup=34 drop=0 speed=3.52x\n"
          ]
        },
        {
          "output_type": "stream",
          "name": "stderr",
          "text": [
            "\rProcessing video:  77%|███████▋  | 2778.0/3600 [13:10<03:54,  3.51s/s] "
          ]
        },
        {
          "output_type": "stream",
          "name": "stdout",
          "text": [
            "frame=83327 fps=105 q=29.0 size=  365312kB time=00:46:18.00 bitrate=1077.3kbits/s dup=34 drop=0 speed=3.52x\n"
          ]
        },
        {
          "output_type": "stream",
          "name": "stderr",
          "text": [
            "\rProcessing video:  77%|███████▋  | 2779.62/3600 [13:11<03:53,  3.51s/s]"
          ]
        },
        {
          "output_type": "stream",
          "name": "stdout",
          "text": [
            "frame=83376 fps=105 q=29.0 size=  365312kB time=00:46:19.62 bitrate=1076.6kbits/s dup=34 drop=0 speed=3.52x\n"
          ]
        },
        {
          "output_type": "stream",
          "name": "stderr",
          "text": [
            "\rProcessing video:  77%|███████▋  | 2781.5/3600 [13:11<03:53,  3.51s/s] "
          ]
        },
        {
          "output_type": "stream",
          "name": "stdout",
          "text": [
            "frame=83432 fps=105 q=29.0 size=  365568kB time=00:46:21.50 bitrate=1076.7kbits/s dup=34 drop=0 speed=3.52x\n"
          ]
        },
        {
          "output_type": "stream",
          "name": "stderr",
          "text": [
            "\rProcessing video:  77%|███████▋  | 2783.82/3600 [13:12<03:52,  3.51s/s]"
          ]
        },
        {
          "output_type": "stream",
          "name": "stdout",
          "text": [
            "frame=83502 fps=105 q=29.0 size=  365824kB time=00:46:23.82 bitrate=1076.5kbits/s dup=34 drop=0 speed=3.52x\n"
          ]
        },
        {
          "output_type": "stream",
          "name": "stderr",
          "text": [
            "\rProcessing video:  77%|███████▋  | 2786.38/3600 [13:13<03:51,  3.51s/s]"
          ]
        },
        {
          "output_type": "stream",
          "name": "stdout",
          "text": [
            "frame=83579 fps=106 q=29.0 size=  366080kB time=00:46:26.38 bitrate=1076.3kbits/s dup=34 drop=0 speed=3.52x\n"
          ]
        },
        {
          "output_type": "stream",
          "name": "stderr",
          "text": [
            "\rProcessing video:  77%|███████▋  | 2788.69/3600 [13:13<03:50,  3.51s/s]"
          ]
        },
        {
          "output_type": "stream",
          "name": "stdout",
          "text": [
            "frame=83648 fps=106 q=29.0 size=  366336kB time=00:46:28.69 bitrate=1076.1kbits/s dup=34 drop=0 speed=3.52x\n"
          ]
        },
        {
          "output_type": "stream",
          "name": "stderr",
          "text": [
            "\rProcessing video:  78%|███████▊  | 2791.04/3600 [13:14<03:50,  3.52s/s]"
          ]
        },
        {
          "output_type": "stream",
          "name": "stdout",
          "text": [
            "frame=83718 fps=106 q=29.0 size=  366336kB time=00:46:31.04 bitrate=1075.2kbits/s dup=34 drop=0 speed=3.52x\n"
          ]
        },
        {
          "output_type": "stream",
          "name": "stderr",
          "text": [
            "\rProcessing video:  78%|███████▊  | 2793.19/3600 [13:14<03:49,  3.52s/s]"
          ]
        },
        {
          "output_type": "stream",
          "name": "stdout",
          "text": [
            "frame=83783 fps=106 q=29.0 size=  366592kB time=00:46:33.19 bitrate=1075.2kbits/s dup=34 drop=0 speed=3.52x\n"
          ]
        },
        {
          "output_type": "stream",
          "name": "stderr",
          "text": [
            "\rProcessing video:  78%|███████▊  | 2794.66/3600 [13:15<03:49,  3.52s/s]"
          ]
        },
        {
          "output_type": "stream",
          "name": "stdout",
          "text": [
            "frame=83827 fps=106 q=29.0 size=  366848kB time=00:46:34.66 bitrate=1075.3kbits/s dup=34 drop=0 speed=3.52x\n"
          ]
        },
        {
          "output_type": "stream",
          "name": "stderr",
          "text": [
            "\rProcessing video:  78%|███████▊  | 2795.9/3600 [13:15<03:48,  3.51s/s] "
          ]
        },
        {
          "output_type": "stream",
          "name": "stdout",
          "text": [
            "frame=83864 fps=106 q=29.0 size=  367104kB time=00:46:35.90 bitrate=1075.6kbits/s dup=34 drop=0 speed=3.52x\n"
          ]
        },
        {
          "output_type": "stream",
          "name": "stderr",
          "text": [
            "\rProcessing video:  78%|███████▊  | 2797.22/3600 [13:16<03:48,  3.51s/s]"
          ]
        },
        {
          "output_type": "stream",
          "name": "stdout",
          "text": [
            "frame=83904 fps=106 q=29.0 size=  367360kB time=00:46:37.22 bitrate=1075.9kbits/s dup=34 drop=0 speed=3.52x\n"
          ]
        },
        {
          "output_type": "stream",
          "name": "stderr",
          "text": [
            "\rProcessing video:  78%|███████▊  | 2799.23/3600 [13:16<03:47,  3.51s/s]"
          ]
        },
        {
          "output_type": "stream",
          "name": "stdout",
          "text": [
            "frame=83964 fps=106 q=29.0 size=  367872kB time=00:46:39.23 bitrate=1076.6kbits/s dup=34 drop=0 speed=3.52x\n"
          ]
        },
        {
          "output_type": "stream",
          "name": "stderr",
          "text": [
            "\rProcessing video:  78%|███████▊  | 2801.89/3600 [13:17<03:47,  3.52s/s]"
          ]
        },
        {
          "output_type": "stream",
          "name": "stdout",
          "text": [
            "frame=84044 fps=106 q=29.0 size=  367872kB time=00:46:41.89 bitrate=1075.6kbits/s dup=34 drop=0 speed=3.52x\n"
          ]
        },
        {
          "output_type": "stream",
          "name": "stderr",
          "text": [
            "\rProcessing video:  78%|███████▊  | 2804.56/3600 [13:17<03:46,  3.52s/s]"
          ]
        },
        {
          "output_type": "stream",
          "name": "stdout",
          "text": [
            "frame=84124 fps=106 q=29.0 size=  368128kB time=00:46:44.56 bitrate=1075.3kbits/s dup=34 drop=0 speed=3.52x\n"
          ]
        },
        {
          "output_type": "stream",
          "name": "stderr",
          "text": [
            "\rProcessing video:  78%|███████▊  | 2807.16/3600 [13:18<03:45,  3.52s/s]"
          ]
        },
        {
          "output_type": "stream",
          "name": "stdout",
          "text": [
            "frame=84202 fps=106 q=29.0 size=  368384kB time=00:46:47.16 bitrate=1075.0kbits/s dup=34 drop=0 speed=3.52x\n"
          ]
        },
        {
          "output_type": "stream",
          "name": "stderr",
          "text": [
            "\rProcessing video:  78%|███████▊  | 2809.89/3600 [13:18<03:44,  3.52s/s]"
          ]
        },
        {
          "output_type": "stream",
          "name": "stdout",
          "text": [
            "frame=84284 fps=106 q=29.0 size=  368640kB time=00:46:49.89 bitrate=1074.7kbits/s dup=34 drop=0 speed=3.52x\n"
          ]
        },
        {
          "output_type": "stream",
          "name": "stderr",
          "text": [
            "\rProcessing video:  78%|███████▊  | 2812.52/3600 [13:19<03:43,  3.52s/s]"
          ]
        },
        {
          "output_type": "stream",
          "name": "stdout",
          "text": [
            "frame=84363 fps=106 q=29.0 size=  368640kB time=00:46:52.52 bitrate=1073.7kbits/s dup=34 drop=0 speed=3.52x\n"
          ]
        },
        {
          "output_type": "stream",
          "name": "stderr",
          "text": [
            "\rProcessing video:  78%|███████▊  | 2815.18/3600 [13:19<03:42,  3.52s/s]"
          ]
        },
        {
          "output_type": "stream",
          "name": "stdout",
          "text": [
            "frame=84443 fps=106 q=29.0 size=  368896kB time=00:46:55.18 bitrate=1073.5kbits/s dup=34 drop=0 speed=3.52x\n"
          ]
        },
        {
          "output_type": "stream",
          "name": "stderr",
          "text": [
            "\rProcessing video:  78%|███████▊  | 2817.79/3600 [13:20<03:42,  3.52s/s]"
          ]
        },
        {
          "output_type": "stream",
          "name": "stdout",
          "text": [
            "frame=84521 fps=106 q=29.0 size=  369152kB time=00:46:57.79 bitrate=1073.2kbits/s dup=34 drop=0 speed=3.53x\n"
          ]
        },
        {
          "output_type": "stream",
          "name": "stderr",
          "text": [
            "\rProcessing video:  78%|███████▊  | 2820.45/3600 [13:20<03:41,  3.52s/s]"
          ]
        },
        {
          "output_type": "stream",
          "name": "stdout",
          "text": [
            "frame=84601 fps=106 q=29.0 size=  369408kB time=00:47:00.45 bitrate=1072.9kbits/s dup=34 drop=0 speed=3.53x\n"
          ]
        },
        {
          "output_type": "stream",
          "name": "stderr",
          "text": [
            "\rProcessing video:  78%|███████▊  | 2823.1/3600 [13:21<03:40,  3.52s/s] "
          ]
        },
        {
          "output_type": "stream",
          "name": "stdout",
          "text": [
            "frame=84680 fps=106 q=29.0 size=  369408kB time=00:47:03.10 bitrate=1071.9kbits/s dup=34 drop=0 speed=3.53x\n"
          ]
        },
        {
          "output_type": "stream",
          "name": "stderr",
          "text": [
            "\rProcessing video:  78%|███████▊  | 2825.49/3600 [13:21<03:39,  3.52s/s]"
          ]
        },
        {
          "output_type": "stream",
          "name": "stdout",
          "text": [
            "frame=84752 fps=106 q=29.0 size=  369664kB time=00:47:05.49 bitrate=1071.8kbits/s dup=34 drop=0 speed=3.53x\n"
          ]
        },
        {
          "output_type": "stream",
          "name": "stderr",
          "text": [
            "\rProcessing video:  79%|███████▊  | 2827.39/3600 [13:22<03:39,  3.52s/s]"
          ]
        },
        {
          "output_type": "stream",
          "name": "stdout",
          "text": [
            "frame=84809 fps=106 q=29.0 size=  369920kB time=00:47:07.39 bitrate=1071.8kbits/s dup=34 drop=0 speed=3.53x\n"
          ]
        },
        {
          "output_type": "stream",
          "name": "stderr",
          "text": [
            "\rProcessing video:  79%|███████▊  | 2829.29/3600 [13:22<03:38,  3.53s/s]"
          ]
        },
        {
          "output_type": "stream",
          "name": "stdout",
          "text": [
            "frame=84866 fps=106 q=29.0 size=  370176kB time=00:47:09.29 bitrate=1071.8kbits/s dup=34 drop=0 speed=3.53x\n"
          ]
        },
        {
          "output_type": "stream",
          "name": "stderr",
          "text": [
            "\rProcessing video:  79%|███████▊  | 2831.36/3600 [13:23<03:38,  3.53s/s]"
          ]
        },
        {
          "output_type": "stream",
          "name": "stdout",
          "text": [
            "frame=84928 fps=106 q=29.0 size=  370432kB time=00:47:11.36 bitrate=1071.8kbits/s dup=34 drop=0 speed=3.53x\n"
          ]
        },
        {
          "output_type": "stream",
          "name": "stderr",
          "text": [
            "\rProcessing video:  79%|███████▊  | 2833.89/3600 [13:23<03:37,  3.53s/s]"
          ]
        },
        {
          "output_type": "stream",
          "name": "stdout",
          "text": [
            "frame=85004 fps=106 q=29.0 size=  370688kB time=00:47:13.89 bitrate=1071.6kbits/s dup=34 drop=0 speed=3.53x\n"
          ]
        },
        {
          "output_type": "stream",
          "name": "stderr",
          "text": [
            "\rProcessing video:  79%|███████▉  | 2836.56/3600 [13:24<03:36,  3.53s/s]"
          ]
        },
        {
          "output_type": "stream",
          "name": "stdout",
          "text": [
            "frame=85084 fps=106 q=29.0 size=  370944kB time=00:47:16.56 bitrate=1071.3kbits/s dup=34 drop=0 speed=3.53x\n"
          ]
        },
        {
          "output_type": "stream",
          "name": "stderr",
          "text": [
            "\rProcessing video:  79%|███████▉  | 2839.18/3600 [13:24<03:35,  3.53s/s]"
          ]
        },
        {
          "output_type": "stream",
          "name": "stdout",
          "text": [
            "frame=85163 fps=106 q=29.0 size=  370944kB time=00:47:19.18 bitrate=1070.3kbits/s dup=34 drop=0 speed=3.53x\n"
          ]
        },
        {
          "output_type": "stream",
          "name": "stderr",
          "text": [
            "\rProcessing video:  79%|███████▉  | 2841.83/3600 [13:25<03:34,  3.53s/s]"
          ]
        },
        {
          "output_type": "stream",
          "name": "stdout",
          "text": [
            "frame=85242 fps=106 q=29.0 size=  371200kB time=00:47:21.83 bitrate=1070.0kbits/s dup=34 drop=0 speed=3.53x\n"
          ]
        },
        {
          "output_type": "stream",
          "name": "stderr",
          "text": [
            "\rProcessing video:  79%|███████▉  | 2844.26/3600 [13:25<03:34,  3.53s/s]"
          ]
        },
        {
          "output_type": "stream",
          "name": "stdout",
          "text": [
            "frame=85315 fps=106 q=29.0 size=  371456kB time=00:47:24.26 bitrate=1069.9kbits/s dup=34 drop=0 speed=3.53x\n"
          ]
        },
        {
          "output_type": "stream",
          "name": "stderr",
          "text": [
            "\rProcessing video:  79%|███████▉  | 2846.69/3600 [13:26<03:33,  3.53s/s]"
          ]
        },
        {
          "output_type": "stream",
          "name": "stdout",
          "text": [
            "frame=85388 fps=106 q=29.0 size=  371456kB time=00:47:26.69 bitrate=1068.9kbits/s dup=34 drop=0 speed=3.54x\n"
          ]
        },
        {
          "output_type": "stream",
          "name": "stderr",
          "text": [
            "\rProcessing video:  79%|███████▉  | 2849.19/3600 [13:26<03:32,  3.53s/s]"
          ]
        },
        {
          "output_type": "stream",
          "name": "stdout",
          "text": [
            "frame=85463 fps=106 q=29.0 size=  371712kB time=00:47:29.19 bitrate=1068.7kbits/s dup=34 drop=0 speed=3.54x\n"
          ]
        },
        {
          "output_type": "stream",
          "name": "stderr",
          "text": [
            "\rProcessing video:  79%|███████▉  | 2851.79/3600 [13:27<03:31,  3.53s/s]"
          ]
        },
        {
          "output_type": "stream",
          "name": "stdout",
          "text": [
            "frame=85541 fps=106 q=29.0 size=  371968kB time=00:47:31.79 bitrate=1068.5kbits/s dup=34 drop=0 speed=3.54x\n"
          ]
        },
        {
          "output_type": "stream",
          "name": "stderr",
          "text": [
            "\rProcessing video:  79%|███████▉  | 2854.52/3600 [13:27<03:30,  3.53s/s]"
          ]
        },
        {
          "output_type": "stream",
          "name": "stdout",
          "text": [
            "frame=85623 fps=106 q=29.0 size=  372224kB time=00:47:34.52 bitrate=1068.2kbits/s dup=34 drop=0 speed=3.54x\n"
          ]
        },
        {
          "output_type": "stream",
          "name": "stderr",
          "text": [
            "\rProcessing video:  79%|███████▉  | 2857.36/3600 [13:28<03:30,  3.54s/s]"
          ]
        },
        {
          "output_type": "stream",
          "name": "stdout",
          "text": [
            "frame=85708 fps=106 q=29.0 size=  372480kB time=00:47:37.36 bitrate=1067.9kbits/s dup=34 drop=0 speed=3.54x\n"
          ]
        },
        {
          "output_type": "stream",
          "name": "stderr",
          "text": [
            "\rProcessing video:  79%|███████▉  | 2860.09/3600 [13:28<03:29,  3.54s/s]"
          ]
        },
        {
          "output_type": "stream",
          "name": "stdout",
          "text": [
            "frame=85790 fps=106 q=29.0 size=  372480kB time=00:47:40.09 bitrate=1066.9kbits/s dup=34 drop=0 speed=3.54x\n"
          ]
        },
        {
          "output_type": "stream",
          "name": "stderr",
          "text": [
            "\rProcessing video:  80%|███████▉  | 2862.46/3600 [13:29<03:28,  3.54s/s]"
          ]
        },
        {
          "output_type": "stream",
          "name": "stdout",
          "text": [
            "frame=85861 fps=106 q=29.0 size=  372736kB time=00:47:42.46 bitrate=1066.7kbits/s dup=34 drop=0 speed=3.54x\n"
          ]
        },
        {
          "output_type": "stream",
          "name": "stderr",
          "text": [
            "\rProcessing video:  80%|███████▉  | 2864.23/3600 [13:29<03:27,  3.54s/s]"
          ]
        },
        {
          "output_type": "stream",
          "name": "stdout",
          "text": [
            "frame=85914 fps=106 q=29.0 size=  372992kB time=00:47:44.23 bitrate=1066.8kbits/s dup=34 drop=0 speed=3.54x\n"
          ]
        },
        {
          "output_type": "stream",
          "name": "stderr",
          "text": [
            "\rProcessing video:  80%|███████▉  | 2865.53/3600 [13:30<03:27,  3.54s/s]"
          ]
        },
        {
          "output_type": "stream",
          "name": "stdout",
          "text": [
            "frame=85953 fps=106 q=29.0 size=  373248kB time=00:47:45.53 bitrate=1067.0kbits/s dup=34 drop=0 speed=3.54x\n"
          ]
        },
        {
          "output_type": "stream",
          "name": "stderr",
          "text": [
            "\rProcessing video:  80%|███████▉  | 2866.77/3600 [13:30<03:27,  3.54s/s]"
          ]
        },
        {
          "output_type": "stream",
          "name": "stdout",
          "text": [
            "frame=85990 fps=106 q=29.0 size=  373504kB time=00:47:46.77 bitrate=1067.3kbits/s dup=34 drop=0 speed=3.54x\n"
          ]
        },
        {
          "output_type": "stream",
          "name": "stderr",
          "text": [
            "\rProcessing video:  80%|███████▉  | 2867.98/3600 [13:31<03:27,  3.54s/s]"
          ]
        },
        {
          "output_type": "stream",
          "name": "stdout",
          "text": [
            "frame=86027 fps=106 q=29.0 size=  373760kB time=00:47:47.98 bitrate=1067.6kbits/s dup=34 drop=0 speed=3.54x\n"
          ]
        },
        {
          "output_type": "stream",
          "name": "stderr",
          "text": [
            "\rProcessing video:  80%|███████▉  | 2869.2/3600 [13:31<03:26,  3.53s/s] "
          ]
        },
        {
          "output_type": "stream",
          "name": "stdout",
          "text": [
            "frame=86063 fps=106 q=29.0 size=  374016kB time=00:47:49.20 bitrate=1067.9kbits/s dup=34 drop=0 speed=3.54x\n"
          ]
        },
        {
          "output_type": "stream",
          "name": "stderr",
          "text": [
            "\rProcessing video:  80%|███████▉  | 2870.4/3600 [13:32<03:26,  3.53s/s]"
          ]
        },
        {
          "output_type": "stream",
          "name": "stdout",
          "text": [
            "frame=86099 fps=106 q=29.0 size=  374272kB time=00:47:50.40 bitrate=1068.2kbits/s dup=34 drop=0 speed=3.54x\n"
          ]
        },
        {
          "output_type": "stream",
          "name": "stderr",
          "text": [
            "\rProcessing video:  80%|███████▉  | 2871.53/3600 [13:32<03:26,  3.53s/s]"
          ]
        },
        {
          "output_type": "stream",
          "name": "stdout",
          "text": [
            "frame=86133 fps=106 q=29.0 size=  374528kB time=00:47:51.53 bitrate=1068.5kbits/s dup=34 drop=0 speed=3.54x\n"
          ]
        },
        {
          "output_type": "stream",
          "name": "stderr",
          "text": [
            "\rProcessing video:  80%|███████▉  | 2872.96/3600 [13:33<03:25,  3.53s/s]"
          ]
        },
        {
          "output_type": "stream",
          "name": "stdout",
          "text": [
            "frame=86176 fps=106 q=29.0 size=  374784kB time=00:47:52.96 bitrate=1068.7kbits/s dup=34 drop=0 speed=3.54x\n"
          ]
        },
        {
          "output_type": "stream",
          "name": "stderr",
          "text": [
            "\rProcessing video:  80%|███████▉  | 2874.24/3600 [13:33<03:25,  3.53s/s]"
          ]
        },
        {
          "output_type": "stream",
          "name": "stdout",
          "text": [
            "frame=86214 fps=106 q=29.0 size=  375040kB time=00:47:54.24 bitrate=1068.9kbits/s dup=34 drop=0 speed=3.54x\n"
          ]
        },
        {
          "output_type": "stream",
          "name": "stderr",
          "text": [
            "\rProcessing video:  80%|███████▉  | 2875.39/3600 [13:34<03:25,  3.53s/s]"
          ]
        },
        {
          "output_type": "stream",
          "name": "stdout",
          "text": [
            "frame=86249 fps=106 q=29.0 size=  375296kB time=00:47:55.39 bitrate=1069.2kbits/s dup=34 drop=0 speed=3.53x\n"
          ]
        },
        {
          "output_type": "stream",
          "name": "stderr",
          "text": [
            "\rProcessing video:  80%|███████▉  | 2876.75/3600 [13:34<03:24,  3.53s/s]"
          ]
        },
        {
          "output_type": "stream",
          "name": "stdout",
          "text": [
            "frame=86290 fps=106 q=29.0 size=  375552kB time=00:47:56.75 bitrate=1069.4kbits/s dup=34 drop=0 speed=3.53x\n"
          ]
        },
        {
          "output_type": "stream",
          "name": "stderr",
          "text": [
            "\rProcessing video:  80%|███████▉  | 2878.2/3600 [13:35<03:24,  3.53s/s] "
          ]
        },
        {
          "output_type": "stream",
          "name": "stdout",
          "text": [
            "frame=86333 fps=106 q=29.0 size=  376064kB time=00:47:58.20 bitrate=1070.4kbits/s dup=34 drop=0 speed=3.53x\n"
          ]
        },
        {
          "output_type": "stream",
          "name": "stderr",
          "text": [
            "\rProcessing video:  80%|███████▉  | 2879.93/3600 [13:35<03:23,  3.53s/s]"
          ]
        },
        {
          "output_type": "stream",
          "name": "stdout",
          "text": [
            "frame=86385 fps=106 q=29.0 size=  376320kB time=00:47:59.93 bitrate=1070.4kbits/s dup=34 drop=0 speed=3.53x\n"
          ]
        },
        {
          "output_type": "stream",
          "name": "stderr",
          "text": [
            "\rProcessing video:  80%|████████  | 2881.72/3600 [13:36<03:23,  3.53s/s]"
          ]
        },
        {
          "output_type": "stream",
          "name": "stdout",
          "text": [
            "frame=86439 fps=106 q=29.0 size=  376320kB time=00:48:01.72 bitrate=1069.8kbits/s dup=34 drop=0 speed=3.53x\n"
          ]
        },
        {
          "output_type": "stream",
          "name": "stderr",
          "text": [
            "\rProcessing video:  80%|████████  | 2883.39/3600 [13:36<03:23,  3.53s/s]"
          ]
        },
        {
          "output_type": "stream",
          "name": "stdout",
          "text": [
            "frame=86489 fps=106 q=29.0 size=  376576kB time=00:48:03.39 bitrate=1069.9kbits/s dup=34 drop=0 speed=3.53x\n"
          ]
        },
        {
          "output_type": "stream",
          "name": "stderr",
          "text": [
            "\rProcessing video:  80%|████████  | 2884.92/3600 [13:37<03:22,  3.53s/s]"
          ]
        },
        {
          "output_type": "stream",
          "name": "stdout",
          "text": [
            "frame=86535 fps=106 q=29.0 size=  376832kB time=00:48:04.92 bitrate=1070.0kbits/s dup=34 drop=0 speed=3.53x\n"
          ]
        },
        {
          "output_type": "stream",
          "name": "stderr",
          "text": [
            "\rProcessing video:  80%|████████  | 2886.59/3600 [13:37<03:22,  3.53s/s]"
          ]
        },
        {
          "output_type": "stream",
          "name": "stdout",
          "text": [
            "frame=86585 fps=106 q=29.0 size=  377088kB time=00:48:06.59 bitrate=1070.2kbits/s dup=34 drop=0 speed=3.53x\n"
          ]
        },
        {
          "output_type": "stream",
          "name": "stderr",
          "text": [
            "\rProcessing video:  80%|████████  | 2888.49/3600 [13:38<03:21,  3.53s/s]"
          ]
        },
        {
          "output_type": "stream",
          "name": "stdout",
          "text": [
            "frame=86642 fps=106 q=29.0 size=  377344kB time=00:48:08.49 bitrate=1070.2kbits/s dup=34 drop=0 speed=3.53x\n"
          ]
        },
        {
          "output_type": "stream",
          "name": "stderr",
          "text": [
            "\rProcessing video:  80%|████████  | 2890.36/3600 [13:38<03:21,  3.53s/s]"
          ]
        },
        {
          "output_type": "stream",
          "name": "stdout",
          "text": [
            "frame=86698 fps=106 q=29.0 size=  377600kB time=00:48:10.36 bitrate=1070.2kbits/s dup=34 drop=0 speed=3.53x\n"
          ]
        },
        {
          "output_type": "stream",
          "name": "stderr",
          "text": [
            "\rProcessing video:  80%|████████  | 2892.6/3600 [13:39<03:20,  3.53s/s] "
          ]
        },
        {
          "output_type": "stream",
          "name": "stdout",
          "text": [
            "frame=86765 fps=106 q=29.0 size=  377856kB time=00:48:12.60 bitrate=1070.1kbits/s dup=34 drop=0 speed=3.53x\n"
          ]
        },
        {
          "output_type": "stream",
          "name": "stderr",
          "text": [
            "\rProcessing video:  80%|████████  | 2894.76/3600 [13:39<03:19,  3.53s/s]"
          ]
        },
        {
          "output_type": "stream",
          "name": "stdout",
          "text": [
            "frame=86830 fps=106 q=29.0 size=  377856kB time=00:48:14.76 bitrate=1069.3kbits/s dup=34 drop=0 speed=3.53x\n"
          ]
        },
        {
          "output_type": "stream",
          "name": "stderr",
          "text": [
            "\rProcessing video:  80%|████████  | 2896.93/3600 [13:40<03:19,  3.53s/s]"
          ]
        },
        {
          "output_type": "stream",
          "name": "stdout",
          "text": [
            "frame=86895 fps=106 q=29.0 size=  378112kB time=00:48:16.93 bitrate=1069.2kbits/s dup=34 drop=0 speed=3.53x\n"
          ]
        },
        {
          "output_type": "stream",
          "name": "stderr",
          "text": [
            "\rProcessing video:  81%|████████  | 2899.02/3600 [13:40<03:18,  3.53s/s]"
          ]
        },
        {
          "output_type": "stream",
          "name": "stdout",
          "text": [
            "frame=86958 fps=106 q=29.0 size=  378624kB time=00:48:19.02 bitrate=1069.9kbits/s dup=34 drop=0 speed=3.54x\n"
          ]
        },
        {
          "output_type": "stream",
          "name": "stderr",
          "text": [
            "\rProcessing video:  81%|████████  | 2901.2/3600 [13:41<03:17,  3.53s/s] "
          ]
        },
        {
          "output_type": "stream",
          "name": "stdout",
          "text": [
            "frame=87023 fps=106 q=29.0 size=  378624kB time=00:48:21.20 bitrate=1069.1kbits/s dup=34 drop=0 speed=3.54x\n"
          ]
        },
        {
          "output_type": "stream",
          "name": "stderr",
          "text": [
            "\rProcessing video:  81%|████████  | 2903.42/3600 [13:41<03:17,  3.53s/s]"
          ]
        },
        {
          "output_type": "stream",
          "name": "stdout",
          "text": [
            "frame=87090 fps=106 q=29.0 size=  378880kB time=00:48:23.42 bitrate=1069.0kbits/s dup=34 drop=0 speed=3.54x\n"
          ]
        },
        {
          "output_type": "stream",
          "name": "stderr",
          "text": [
            "\rProcessing video:  81%|████████  | 2905.53/3600 [13:42<03:16,  3.53s/s]"
          ]
        },
        {
          "output_type": "stream",
          "name": "stdout",
          "text": [
            "frame=87153 fps=106 q=29.0 size=  379136kB time=00:48:25.53 bitrate=1069.0kbits/s dup=34 drop=0 speed=3.54x\n"
          ]
        },
        {
          "output_type": "stream",
          "name": "stderr",
          "text": [
            "\rProcessing video:  81%|████████  | 2907.6/3600 [13:42<03:15,  3.53s/s] "
          ]
        },
        {
          "output_type": "stream",
          "name": "stdout",
          "text": [
            "frame=87215 fps=106 q=29.0 size=  379392kB time=00:48:27.60 bitrate=1068.9kbits/s dup=34 drop=0 speed=3.54x\n"
          ]
        },
        {
          "output_type": "stream",
          "name": "stderr",
          "text": [
            "\rProcessing video:  81%|████████  | 2909.69/3600 [13:43<03:15,  3.53s/s]"
          ]
        },
        {
          "output_type": "stream",
          "name": "stdout",
          "text": [
            "frame=87278 fps=106 q=29.0 size=  379648kB time=00:48:29.69 bitrate=1068.9kbits/s dup=34 drop=0 speed=3.54x\n"
          ]
        },
        {
          "output_type": "stream",
          "name": "stderr",
          "text": [
            "\rProcessing video:  81%|████████  | 2911.82/3600 [13:43<03:14,  3.53s/s]"
          ]
        },
        {
          "output_type": "stream",
          "name": "stdout",
          "text": [
            "frame=87342 fps=106 q=29.0 size=  379904kB time=00:48:31.82 bitrate=1068.8kbits/s dup=34 drop=0 speed=3.54x\n"
          ]
        },
        {
          "output_type": "stream",
          "name": "stderr",
          "text": [
            "\rProcessing video:  81%|████████  | 2914.19/3600 [13:44<03:14,  3.53s/s]"
          ]
        },
        {
          "output_type": "stream",
          "name": "stdout",
          "text": [
            "frame=87413 fps=106 q=29.0 size=  380160kB time=00:48:34.19 bitrate=1068.7kbits/s dup=34 drop=0 speed=3.54x\n"
          ]
        },
        {
          "output_type": "stream",
          "name": "stderr",
          "text": [
            "\rProcessing video:  81%|████████  | 2916.67/3600 [13:44<03:13,  3.54s/s]"
          ]
        },
        {
          "output_type": "stream",
          "name": "stdout",
          "text": [
            "frame=87487 fps=106 q=29.0 size=  380416kB time=00:48:36.67 bitrate=1068.5kbits/s dup=34 drop=0 speed=3.54x\n"
          ]
        },
        {
          "output_type": "stream",
          "name": "stderr",
          "text": [
            "\rProcessing video:  81%|████████  | 2918.95/3600 [13:45<03:12,  3.54s/s]"
          ]
        },
        {
          "output_type": "stream",
          "name": "stdout",
          "text": [
            "frame=87556 fps=106 q=29.0 size=  380672kB time=00:48:38.95 bitrate=1068.4kbits/s dup=34 drop=0 speed=3.54x\n"
          ]
        },
        {
          "output_type": "stream",
          "name": "stderr",
          "text": [
            "\rProcessing video:  81%|████████  | 2921.06/3600 [13:46<03:11,  3.54s/s]"
          ]
        },
        {
          "output_type": "stream",
          "name": "stdout",
          "text": [
            "frame=87619 fps=106 q=29.0 size=  380928kB time=00:48:41.06 bitrate=1068.3kbits/s dup=34 drop=0 speed=3.54x\n"
          ]
        },
        {
          "output_type": "stream",
          "name": "stderr",
          "text": [
            "\rProcessing video:  81%|████████  | 2923.32/3600 [13:46<03:11,  3.54s/s]"
          ]
        },
        {
          "output_type": "stream",
          "name": "stdout",
          "text": [
            "frame=87687 fps=106 q=29.0 size=  380928kB time=00:48:43.32 bitrate=1067.5kbits/s dup=34 drop=0 speed=3.54x\n"
          ]
        },
        {
          "output_type": "stream",
          "name": "stderr",
          "text": [
            "\rProcessing video:  81%|████████▏ | 2925.86/3600 [13:47<03:10,  3.54s/s]"
          ]
        },
        {
          "output_type": "stream",
          "name": "stdout",
          "text": [
            "frame=87763 fps=106 q=29.0 size=  381184kB time=00:48:45.86 bitrate=1067.3kbits/s dup=34 drop=0 speed=3.54x\n"
          ]
        },
        {
          "output_type": "stream",
          "name": "stderr",
          "text": [
            "\rProcessing video:  81%|████████▏ | 2928.4/3600 [13:47<03:09,  3.54s/s] "
          ]
        },
        {
          "output_type": "stream",
          "name": "stdout",
          "text": [
            "frame=87839 fps=106 q=29.0 size=  381440kB time=00:48:48.40 bitrate=1067.1kbits/s dup=34 drop=0 speed=3.54x\n"
          ]
        },
        {
          "output_type": "stream",
          "name": "stderr",
          "text": [
            "\rProcessing video:  81%|████████▏ | 2930.32/3600 [13:48<03:09,  3.54s/s]"
          ]
        },
        {
          "output_type": "stream",
          "name": "stdout",
          "text": [
            "frame=87897 fps=106 q=29.0 size=  381696kB time=00:48:50.32 bitrate=1067.1kbits/s dup=34 drop=0 speed=3.54x\n"
          ]
        },
        {
          "output_type": "stream",
          "name": "stderr",
          "text": [
            "\rProcessing video:  81%|████████▏ | 2931.73/3600 [13:48<03:08,  3.54s/s]"
          ]
        },
        {
          "output_type": "stream",
          "name": "stdout",
          "text": [
            "frame=87939 fps=106 q=29.0 size=  381952kB time=00:48:51.73 bitrate=1067.3kbits/s dup=34 drop=0 speed=3.54x\n"
          ]
        },
        {
          "output_type": "stream",
          "name": "stderr",
          "text": [
            "\rProcessing video:  81%|████████▏ | 2933.33/3600 [13:49<03:08,  3.54s/s]"
          ]
        },
        {
          "output_type": "stream",
          "name": "stdout",
          "text": [
            "frame=87987 fps=106 q=29.0 size=  381952kB time=00:48:53.33 bitrate=1066.7kbits/s dup=34 drop=0 speed=3.54x\n"
          ]
        },
        {
          "output_type": "stream",
          "name": "stderr",
          "text": [
            "\rProcessing video:  82%|████████▏ | 2934.89/3600 [13:49<03:07,  3.54s/s]"
          ]
        },
        {
          "output_type": "stream",
          "name": "stdout",
          "text": [
            "frame=88034 fps=106 q=29.0 size=  382208kB time=00:48:54.89 bitrate=1066.8kbits/s dup=34 drop=0 speed=3.54x\n"
          ]
        },
        {
          "output_type": "stream",
          "name": "stderr",
          "text": [
            "\rProcessing video:  82%|████████▏ | 2936.55/3600 [13:50<03:07,  3.54s/s]"
          ]
        },
        {
          "output_type": "stream",
          "name": "stdout",
          "text": [
            "frame=88084 fps=106 q=29.0 size=  382464kB time=00:48:56.55 bitrate=1066.9kbits/s dup=34 drop=0 speed=3.54x\n"
          ]
        },
        {
          "output_type": "stream",
          "name": "stderr",
          "text": [
            "\rProcessing video:  82%|████████▏ | 2939.07/3600 [13:50<03:06,  3.54s/s]"
          ]
        },
        {
          "output_type": "stream",
          "name": "stdout",
          "text": [
            "frame=88159 fps=106 q=29.0 size=  382720kB time=00:48:59.07 bitrate=1066.7kbits/s dup=34 drop=0 speed=3.54x\n"
          ]
        },
        {
          "output_type": "stream",
          "name": "stderr",
          "text": [
            "\rProcessing video:  82%|████████▏ | 2941.56/3600 [13:51<03:06,  3.54s/s]"
          ]
        },
        {
          "output_type": "stream",
          "name": "stdout",
          "text": [
            "frame=88234 fps=106 q=29.0 size=  382976kB time=00:49:01.56 bitrate=1066.6kbits/s dup=34 drop=0 speed=3.54x\n"
          ]
        },
        {
          "output_type": "stream",
          "name": "stderr",
          "text": [
            "\rProcessing video:  82%|████████▏ | 2943.89/3600 [13:51<03:05,  3.54s/s]"
          ]
        },
        {
          "output_type": "stream",
          "name": "stdout",
          "text": [
            "frame=88304 fps=106 q=29.0 size=  382976kB time=00:49:03.89 bitrate=1065.7kbits/s dup=34 drop=0 speed=3.54x\n"
          ]
        },
        {
          "output_type": "stream",
          "name": "stderr",
          "text": [
            "\rProcessing video:  82%|████████▏ | 2946.24/3600 [13:52<03:04,  3.54s/s]"
          ]
        },
        {
          "output_type": "stream",
          "name": "stdout",
          "text": [
            "frame=88374 fps=106 q=29.0 size=  383232kB time=00:49:06.24 bitrate=1065.6kbits/s dup=34 drop=0 speed=3.54x\n"
          ]
        },
        {
          "output_type": "stream",
          "name": "stderr",
          "text": [
            "\rProcessing video:  82%|████████▏ | 2948.8/3600 [13:52<03:03,  3.54s/s] "
          ]
        },
        {
          "output_type": "stream",
          "name": "stdout",
          "text": [
            "frame=88451 fps=106 q=29.0 size=  383488kB time=00:49:08.80 bitrate=1065.4kbits/s dup=34 drop=0 speed=3.55x\n"
          ]
        },
        {
          "output_type": "stream",
          "name": "stderr",
          "text": [
            "\rProcessing video:  82%|████████▏ | 2951.4/3600 [13:53<03:03,  3.54s/s]"
          ]
        },
        {
          "output_type": "stream",
          "name": "stdout",
          "text": [
            "frame=88529 fps=106 q=29.0 size=  383488kB time=00:49:11.40 bitrate=1064.4kbits/s dup=34 drop=0 speed=3.55x\n"
          ]
        },
        {
          "output_type": "stream",
          "name": "stderr",
          "text": [
            "\rProcessing video:  82%|████████▏ | 2953.79/3600 [13:53<03:02,  3.54s/s]"
          ]
        },
        {
          "output_type": "stream",
          "name": "stdout",
          "text": [
            "frame=88601 fps=106 q=29.0 size=  383744kB time=00:49:13.79 bitrate=1064.3kbits/s dup=34 drop=0 speed=3.55x\n"
          ]
        },
        {
          "output_type": "stream",
          "name": "stderr",
          "text": [
            "\rProcessing video:  82%|████████▏ | 2956.2/3600 [13:54<03:01,  3.54s/s] "
          ]
        },
        {
          "output_type": "stream",
          "name": "stdout",
          "text": [
            "frame=88673 fps=106 q=29.0 size=  384000kB time=00:49:16.20 bitrate=1064.1kbits/s dup=34 drop=0 speed=3.55x\n"
          ]
        },
        {
          "output_type": "stream",
          "name": "stderr",
          "text": [
            "\rProcessing video:  82%|████████▏ | 2958.69/3600 [13:54<03:00,  3.55s/s]"
          ]
        },
        {
          "output_type": "stream",
          "name": "stdout",
          "text": [
            "frame=88748 fps=106 q=29.0 size=  384256kB time=00:49:18.69 bitrate=1063.9kbits/s dup=34 drop=0 speed=3.55x\n"
          ]
        },
        {
          "output_type": "stream",
          "name": "stderr",
          "text": [
            "\rProcessing video:  82%|████████▏ | 2961.32/3600 [13:55<03:00,  3.55s/s]"
          ]
        },
        {
          "output_type": "stream",
          "name": "stdout",
          "text": [
            "frame=88827 fps=106 q=29.0 size=  384256kB time=00:49:21.32 bitrate=1063.0kbits/s dup=34 drop=0 speed=3.55x\n"
          ]
        },
        {
          "output_type": "stream",
          "name": "stderr",
          "text": [
            "\rProcessing video:  82%|████████▏ | 2963.98/3600 [13:55<02:59,  3.55s/s]"
          ]
        },
        {
          "output_type": "stream",
          "name": "stdout",
          "text": [
            "frame=88907 fps=107 q=29.0 size=  384512kB time=00:49:23.98 bitrate=1062.7kbits/s dup=34 drop=0 speed=3.55x\n"
          ]
        },
        {
          "output_type": "stream",
          "name": "stderr",
          "text": [
            "\rProcessing video:  82%|████████▏ | 2966.65/3600 [13:56<02:58,  3.55s/s]"
          ]
        },
        {
          "output_type": "stream",
          "name": "stdout",
          "text": [
            "frame=88987 fps=107 q=29.0 size=  384768kB time=00:49:26.65 bitrate=1062.5kbits/s dup=34 drop=0 speed=3.55x\n"
          ]
        },
        {
          "output_type": "stream",
          "name": "stderr",
          "text": [
            "\rProcessing video:  82%|████████▏ | 2969.3/3600 [13:56<02:57,  3.55s/s] "
          ]
        },
        {
          "output_type": "stream",
          "name": "stdout",
          "text": [
            "frame=89066 fps=107 q=29.0 size=  384768kB time=00:49:29.30 bitrate=1061.5kbits/s dup=34 drop=0 speed=3.55x\n"
          ]
        },
        {
          "output_type": "stream",
          "name": "stderr",
          "text": [
            "\rProcessing video:  83%|████████▎ | 2971.86/3600 [13:57<02:56,  3.55s/s]"
          ]
        },
        {
          "output_type": "stream",
          "name": "stdout",
          "text": [
            "frame=89143 fps=107 q=29.0 size=  385024kB time=00:49:31.86 bitrate=1061.3kbits/s dup=34 drop=0 speed=3.55x\n"
          ]
        },
        {
          "output_type": "stream",
          "name": "stderr",
          "text": [
            "\rProcessing video:  83%|████████▎ | 2974.46/3600 [13:57<02:56,  3.55s/s]"
          ]
        },
        {
          "output_type": "stream",
          "name": "stdout",
          "text": [
            "frame=89221 fps=107 q=29.0 size=  385280kB time=00:49:34.46 bitrate=1061.1kbits/s dup=34 drop=0 speed=3.56x\n"
          ]
        },
        {
          "output_type": "stream",
          "name": "stderr",
          "text": [
            "\rProcessing video:  83%|████████▎ | 2977.06/3600 [13:58<02:55,  3.55s/s]"
          ]
        },
        {
          "output_type": "stream",
          "name": "stdout",
          "text": [
            "frame=89299 fps=107 q=29.0 size=  385280kB time=00:49:37.06 bitrate=1060.2kbits/s dup=34 drop=0 speed=3.56x\n"
          ]
        },
        {
          "output_type": "stream",
          "name": "stderr",
          "text": [
            "\rProcessing video:  83%|████████▎ | 2979.45/3600 [13:58<02:54,  3.55s/s]"
          ]
        },
        {
          "output_type": "stream",
          "name": "stdout",
          "text": [
            "frame=89371 fps=107 q=29.0 size=  385536kB time=00:49:39.45 bitrate=1060.0kbits/s dup=34 drop=0 speed=3.56x\n"
          ]
        },
        {
          "output_type": "stream",
          "name": "stderr",
          "text": [
            "\rProcessing video:  83%|████████▎ | 2981.88/3600 [13:59<02:53,  3.55s/s]"
          ]
        },
        {
          "output_type": "stream",
          "name": "stdout",
          "text": [
            "frame=89444 fps=107 q=29.0 size=  385792kB time=00:49:41.88 bitrate=1059.9kbits/s dup=34 drop=0 speed=3.56x\n"
          ]
        },
        {
          "output_type": "stream",
          "name": "stderr",
          "text": [
            "\rProcessing video:  83%|████████▎ | 2984.42/3600 [13:59<02:53,  3.55s/s]"
          ]
        },
        {
          "output_type": "stream",
          "name": "stdout",
          "text": [
            "frame=89520 fps=107 q=29.0 size=  385792kB time=00:49:44.42 bitrate=1059.0kbits/s dup=34 drop=0 speed=3.56x\n"
          ]
        },
        {
          "output_type": "stream",
          "name": "stderr",
          "text": [
            "\rProcessing video:  83%|████████▎ | 2987.02/3600 [14:00<02:52,  3.56s/s]"
          ]
        },
        {
          "output_type": "stream",
          "name": "stdout",
          "text": [
            "frame=89598 fps=107 q=29.0 size=  386048kB time=00:49:47.02 bitrate=1058.7kbits/s dup=34 drop=0 speed=3.56x\n"
          ]
        },
        {
          "output_type": "stream",
          "name": "stderr",
          "text": [
            "\rProcessing video:  83%|████████▎ | 2989.65/3600 [14:00<02:51,  3.56s/s]"
          ]
        },
        {
          "output_type": "stream",
          "name": "stdout",
          "text": [
            "frame=89677 fps=107 q=29.0 size=  386304kB time=00:49:49.65 bitrate=1058.5kbits/s dup=34 drop=0 speed=3.56x\n"
          ]
        },
        {
          "output_type": "stream",
          "name": "stderr",
          "text": [
            "\rProcessing video:  83%|████████▎ | 2992.23/3600 [14:01<02:50,  3.56s/s]"
          ]
        },
        {
          "output_type": "stream",
          "name": "stdout",
          "text": [
            "frame=89754 fps=107 q=29.0 size=  386304kB time=00:49:52.23 bitrate=1057.6kbits/s dup=34 drop=0 speed=3.56x\n"
          ]
        },
        {
          "output_type": "stream",
          "name": "stderr",
          "text": [
            "\rProcessing video:  83%|████████▎ | 2994.68/3600 [14:01<02:50,  3.56s/s]"
          ]
        },
        {
          "output_type": "stream",
          "name": "stdout",
          "text": [
            "frame=89828 fps=107 q=29.0 size=  386560kB time=00:49:54.68 bitrate=1057.4kbits/s dup=34 drop=0 speed=3.56x\n"
          ]
        },
        {
          "output_type": "stream",
          "name": "stderr",
          "text": [
            "\rProcessing video:  83%|████████▎ | 2997.35/3600 [14:02<02:49,  3.56s/s]"
          ]
        },
        {
          "output_type": "stream",
          "name": "stdout",
          "text": [
            "frame=89908 fps=107 q=29.0 size=  386816kB time=00:49:57.35 bitrate=1057.2kbits/s dup=34 drop=0 speed=3.56x\n"
          ]
        },
        {
          "output_type": "stream",
          "name": "stderr",
          "text": [
            "\rProcessing video:  83%|████████▎ | 2999.82/3600 [14:02<02:48,  3.56s/s]"
          ]
        },
        {
          "output_type": "stream",
          "name": "stdout",
          "text": [
            "frame=89982 fps=107 q=29.0 size=  386816kB time=00:49:59.82 bitrate=1056.3kbits/s dup=34 drop=0 speed=3.56x\n"
          ]
        },
        {
          "output_type": "stream",
          "name": "stderr",
          "text": [
            "\rProcessing video:  83%|████████▎ | 3002.43/3600 [14:03<02:47,  3.56s/s]"
          ]
        },
        {
          "output_type": "stream",
          "name": "stdout",
          "text": [
            "frame=90060 fps=107 q=29.0 size=  387072kB time=00:50:02.43 bitrate=1056.1kbits/s dup=34 drop=0 speed=3.56x\n"
          ]
        },
        {
          "output_type": "stream",
          "name": "stderr",
          "text": [
            "\rProcessing video:  83%|████████▎ | 3005.03/3600 [14:03<02:47,  3.56s/s]"
          ]
        },
        {
          "output_type": "stream",
          "name": "stdout",
          "text": [
            "frame=90138 fps=107 q=29.0 size=  387328kB time=00:50:05.03 bitrate=1055.9kbits/s dup=34 drop=0 speed=3.57x\n"
          ]
        },
        {
          "output_type": "stream",
          "name": "stderr",
          "text": [
            "\rProcessing video:  84%|████████▎ | 3007.59/3600 [14:04<02:46,  3.56s/s]"
          ]
        },
        {
          "output_type": "stream",
          "name": "stdout",
          "text": [
            "frame=90215 fps=107 q=29.0 size=  387584kB time=00:50:07.59 bitrate=1055.7kbits/s dup=34 drop=0 speed=3.57x\n"
          ]
        },
        {
          "output_type": "stream",
          "name": "stderr",
          "text": [
            "\rProcessing video:  84%|████████▎ | 3010.13/3600 [14:04<02:45,  3.56s/s]"
          ]
        },
        {
          "output_type": "stream",
          "name": "stdout",
          "text": [
            "frame=90291 fps=107 q=29.0 size=  387584kB time=00:50:10.13 bitrate=1054.8kbits/s dup=34 drop=0 speed=3.57x\n"
          ]
        },
        {
          "output_type": "stream",
          "name": "stderr",
          "text": [
            "\rProcessing video:  84%|████████▎ | 3012.9/3600 [14:05<02:44,  3.57s/s] "
          ]
        },
        {
          "output_type": "stream",
          "name": "stdout",
          "text": [
            "frame=90374 fps=107 q=29.0 size=  387840kB time=00:50:12.90 bitrate=1054.5kbits/s dup=34 drop=0 speed=3.57x\n"
          ]
        },
        {
          "output_type": "stream",
          "name": "stderr",
          "text": [
            "\rProcessing video:  84%|████████▎ | 3014.93/3600 [14:05<02:44,  3.57s/s]"
          ]
        },
        {
          "output_type": "stream",
          "name": "stdout",
          "text": [
            "frame=90435 fps=107 q=29.0 size=  388096kB time=00:50:14.93 bitrate=1054.5kbits/s dup=34 drop=0 speed=3.57x\n"
          ]
        },
        {
          "output_type": "stream",
          "name": "stderr",
          "text": [
            "\rProcessing video:  84%|████████▍ | 3016.0/3600 [14:06<02:43,  3.56s/s] "
          ]
        },
        {
          "output_type": "stream",
          "name": "stdout",
          "text": [
            "frame=90467 fps=107 q=29.0 size=  388352kB time=00:50:16.00 bitrate=1054.8kbits/s dup=34 drop=0 speed=3.57x\n"
          ]
        },
        {
          "output_type": "stream",
          "name": "stderr",
          "text": [
            "\rProcessing video:  84%|████████▍ | 3017.19/3600 [14:06<02:43,  3.56s/s]"
          ]
        },
        {
          "output_type": "stream",
          "name": "stdout",
          "text": [
            "frame=90503 fps=107 q=29.0 size=  388608kB time=00:50:17.19 bitrate=1055.1kbits/s dup=34 drop=0 speed=3.57x\n"
          ]
        },
        {
          "output_type": "stream",
          "name": "stderr",
          "text": [
            "\rProcessing video:  84%|████████▍ | 3018.26/3600 [14:07<02:43,  3.56s/s]"
          ]
        },
        {
          "output_type": "stream",
          "name": "stdout",
          "text": [
            "frame=90535 fps=107 q=29.0 size=  388864kB time=00:50:18.26 bitrate=1055.4kbits/s dup=34 drop=0 speed=3.57x\n"
          ]
        },
        {
          "output_type": "stream",
          "name": "stderr",
          "text": [
            "\rProcessing video:  84%|████████▍ | 3019.56/3600 [14:07<02:42,  3.56s/s]"
          ]
        },
        {
          "output_type": "stream",
          "name": "stdout",
          "text": [
            "frame=90574 fps=107 q=29.0 size=  389120kB time=00:50:19.56 bitrate=1055.7kbits/s dup=34 drop=0 speed=3.57x\n"
          ]
        },
        {
          "output_type": "stream",
          "name": "stderr",
          "text": [
            "\rProcessing video:  84%|████████▍ | 3021.33/3600 [14:08<02:42,  3.56s/s]"
          ]
        },
        {
          "output_type": "stream",
          "name": "stdout",
          "text": [
            "frame=90627 fps=107 q=29.0 size=  389376kB time=00:50:21.33 bitrate=1055.7kbits/s dup=34 drop=0 speed=3.57x\n"
          ]
        },
        {
          "output_type": "stream",
          "name": "stderr",
          "text": [
            "\rProcessing video:  84%|████████▍ | 3023.59/3600 [14:08<02:41,  3.56s/s]"
          ]
        },
        {
          "output_type": "stream",
          "name": "stdout",
          "text": [
            "frame=90695 fps=107 q=29.0 size=  389632kB time=00:50:23.59 bitrate=1055.7kbits/s dup=34 drop=0 speed=3.57x\n"
          ]
        },
        {
          "output_type": "stream",
          "name": "stderr",
          "text": [
            "\rProcessing video:  84%|████████▍ | 3025.83/3600 [14:09<02:41,  3.56s/s]"
          ]
        },
        {
          "output_type": "stream",
          "name": "stdout",
          "text": [
            "frame=90762 fps=107 q=29.0 size=  389888kB time=00:50:25.83 bitrate=1055.6kbits/s dup=34 drop=0 speed=3.57x\n"
          ]
        },
        {
          "output_type": "stream",
          "name": "stderr",
          "text": [
            "\rProcessing video:  84%|████████▍ | 3027.96/3600 [14:09<02:40,  3.56s/s]"
          ]
        },
        {
          "output_type": "stream",
          "name": "stdout",
          "text": [
            "frame=90826 fps=107 q=29.0 size=  390144kB time=00:50:27.96 bitrate=1055.5kbits/s dup=34 drop=0 speed=3.57x\n"
          ]
        },
        {
          "output_type": "stream",
          "name": "stderr",
          "text": [
            "\rProcessing video:  84%|████████▍ | 3029.99/3600 [14:10<02:39,  3.56s/s]"
          ]
        },
        {
          "output_type": "stream",
          "name": "stdout",
          "text": [
            "frame=90887 fps=107 q=29.0 size=  390400kB time=00:50:29.99 bitrate=1055.5kbits/s dup=34 drop=0 speed=3.57x\n"
          ]
        },
        {
          "output_type": "stream",
          "name": "stderr",
          "text": [
            "\rProcessing video:  84%|████████▍ | 3032.0/3600 [14:10<02:39,  3.56s/s] "
          ]
        },
        {
          "output_type": "stream",
          "name": "stdout",
          "text": [
            "frame=90947 fps=107 q=29.0 size=  390656kB time=00:50:32.00 bitrate=1055.5kbits/s dup=34 drop=0 speed=3.57x\n"
          ]
        },
        {
          "output_type": "stream",
          "name": "stderr",
          "text": [
            "\rProcessing video:  84%|████████▍ | 3034.02/3600 [14:11<02:38,  3.56s/s]"
          ]
        },
        {
          "output_type": "stream",
          "name": "stdout",
          "text": [
            "frame=91008 fps=107 q=29.0 size=  390912kB time=00:50:34.02 bitrate=1055.5kbits/s dup=34 drop=0 speed=3.57x\n"
          ]
        },
        {
          "output_type": "stream",
          "name": "stderr",
          "text": [
            "\rProcessing video:  84%|████████▍ | 3036.13/3600 [14:11<02:38,  3.56s/s]"
          ]
        },
        {
          "output_type": "stream",
          "name": "stdout",
          "text": [
            "frame=91071 fps=107 q=29.0 size=  390912kB time=00:50:36.13 bitrate=1054.7kbits/s dup=34 drop=0 speed=3.57x\n"
          ]
        },
        {
          "output_type": "stream",
          "name": "stderr",
          "text": [
            "\rProcessing video:  84%|████████▍ | 3038.27/3600 [14:12<02:37,  3.57s/s]"
          ]
        },
        {
          "output_type": "stream",
          "name": "stdout",
          "text": [
            "frame=91135 fps=107 q=29.0 size=  391424kB time=00:50:38.27 bitrate=1055.4kbits/s dup=34 drop=0 speed=3.57x\n"
          ]
        },
        {
          "output_type": "stream",
          "name": "stderr",
          "text": [
            "\rProcessing video:  84%|████████▍ | 3040.64/3600 [14:12<02:36,  3.57s/s]"
          ]
        },
        {
          "output_type": "stream",
          "name": "stdout",
          "text": [
            "frame=91206 fps=107 q=29.0 size=  391424kB time=00:50:40.64 bitrate=1054.6kbits/s dup=34 drop=0 speed=3.57x\n"
          ]
        },
        {
          "output_type": "stream",
          "name": "stderr",
          "text": [
            "\rProcessing video:  85%|████████▍ | 3042.68/3600 [14:13<02:36,  3.57s/s]"
          ]
        },
        {
          "output_type": "stream",
          "name": "stdout",
          "text": [
            "frame=91268 fps=107 q=29.0 size=  391680kB time=00:50:42.68 bitrate=1054.5kbits/s dup=34 drop=0 speed=3.57x\n"
          ]
        },
        {
          "output_type": "stream",
          "name": "stderr",
          "text": [
            "\rProcessing video:  85%|████████▍ | 3044.09/3600 [14:13<02:35,  3.57s/s]"
          ]
        },
        {
          "output_type": "stream",
          "name": "stdout",
          "text": [
            "frame=91310 fps=107 q=29.0 size=  391936kB time=00:50:44.09 bitrate=1054.7kbits/s dup=34 drop=0 speed=3.57x\n"
          ]
        },
        {
          "output_type": "stream",
          "name": "stderr",
          "text": [
            "\rProcessing video:  85%|████████▍ | 3045.35/3600 [14:14<02:35,  3.57s/s]"
          ]
        },
        {
          "output_type": "stream",
          "name": "stdout",
          "text": [
            "frame=91348 fps=107 q=29.0 size=  392192kB time=00:50:45.35 bitrate=1055.0kbits/s dup=34 drop=0 speed=3.57x\n"
          ]
        },
        {
          "output_type": "stream",
          "name": "stderr",
          "text": [
            "\rProcessing video:  85%|████████▍ | 3046.63/3600 [14:14<02:35,  3.56s/s]"
          ]
        },
        {
          "output_type": "stream",
          "name": "stdout",
          "text": [
            "frame=91386 fps=107 q=29.0 size=  392448kB time=00:50:46.63 bitrate=1055.2kbits/s dup=34 drop=0 speed=3.57x\n"
          ]
        },
        {
          "output_type": "stream",
          "name": "stderr",
          "text": [
            "\rProcessing video:  85%|████████▍ | 3047.76/3600 [14:15<02:34,  3.56s/s]"
          ]
        },
        {
          "output_type": "stream",
          "name": "stdout",
          "text": [
            "frame=91420 fps=107 q=29.0 size=  392704kB time=00:50:47.76 bitrate=1055.5kbits/s dup=34 drop=0 speed=3.57x\n"
          ]
        },
        {
          "output_type": "stream",
          "name": "stderr",
          "text": [
            "\rProcessing video:  85%|████████▍ | 3049.0/3600 [14:15<02:34,  3.56s/s] "
          ]
        },
        {
          "output_type": "stream",
          "name": "stdout",
          "text": [
            "frame=91457 fps=107 q=29.0 size=  393216kB time=00:50:49.00 bitrate=1056.5kbits/s dup=34 drop=0 speed=3.57x\n"
          ]
        },
        {
          "output_type": "stream",
          "name": "stderr",
          "text": [
            "\rProcessing video:  85%|████████▍ | 3050.36/3600 [14:16<02:34,  3.56s/s]"
          ]
        },
        {
          "output_type": "stream",
          "name": "stdout",
          "text": [
            "frame=91498 fps=107 q=29.0 size=  393472kB time=00:50:50.36 bitrate=1056.7kbits/s dup=34 drop=0 speed=3.57x\n"
          ]
        },
        {
          "output_type": "stream",
          "name": "stderr",
          "text": [
            "\rProcessing video:  85%|████████▍ | 3052.33/3600 [14:16<02:33,  3.56s/s]"
          ]
        },
        {
          "output_type": "stream",
          "name": "stdout",
          "text": [
            "frame=91557 fps=107 q=29.0 size=  393728kB time=00:50:52.33 bitrate=1056.7kbits/s dup=34 drop=0 speed=3.57x\n"
          ]
        },
        {
          "output_type": "stream",
          "name": "stderr",
          "text": [
            "\rProcessing video:  85%|████████▍ | 3054.35/3600 [14:17<02:33,  3.56s/s]"
          ]
        },
        {
          "output_type": "stream",
          "name": "stdout",
          "text": [
            "frame=91618 fps=107 q=29.0 size=  393984kB time=00:50:54.35 bitrate=1056.7kbits/s dup=34 drop=0 speed=3.57x\n"
          ]
        },
        {
          "output_type": "stream",
          "name": "stderr",
          "text": [
            "\rProcessing video:  85%|████████▍ | 3056.17/3600 [14:17<02:32,  3.56s/s]"
          ]
        },
        {
          "output_type": "stream",
          "name": "stdout",
          "text": [
            "frame=91672 fps=107 q=29.0 size=  393984kB time=00:50:56.17 bitrate=1056.1kbits/s dup=34 drop=0 speed=3.57x\n"
          ]
        },
        {
          "output_type": "stream",
          "name": "stderr",
          "text": [
            "\rProcessing video:  85%|████████▍ | 3057.79/3600 [14:18<02:32,  3.56s/s]"
          ]
        },
        {
          "output_type": "stream",
          "name": "stdout",
          "text": [
            "frame=91721 fps=107 q=29.0 size=  394240kB time=00:50:57.79 bitrate=1056.2kbits/s dup=34 drop=0 speed=3.57x\n"
          ]
        },
        {
          "output_type": "stream",
          "name": "stderr",
          "text": [
            "\rProcessing video:  85%|████████▍ | 3059.39/3600 [14:18<02:31,  3.56s/s]"
          ]
        },
        {
          "output_type": "stream",
          "name": "stdout",
          "text": [
            "frame=91769 fps=107 q=29.0 size=  394496kB time=00:50:59.39 bitrate=1056.3kbits/s dup=34 drop=0 speed=3.57x\n"
          ]
        },
        {
          "output_type": "stream",
          "name": "stderr",
          "text": [
            "\rProcessing video:  85%|████████▌ | 3060.97/3600 [14:19<02:31,  3.56s/s]"
          ]
        },
        {
          "output_type": "stream",
          "name": "stdout",
          "text": [
            "frame=91816 fps=107 q=29.0 size=  394752kB time=00:51:00.97 bitrate=1056.5kbits/s dup=34 drop=0 speed=3.57x\n"
          ]
        },
        {
          "output_type": "stream",
          "name": "stderr",
          "text": [
            "\rProcessing video:  85%|████████▌ | 3062.63/3600 [14:19<02:30,  3.56s/s]"
          ]
        },
        {
          "output_type": "stream",
          "name": "stdout",
          "text": [
            "frame=91866 fps=107 q=29.0 size=  395008kB time=00:51:02.63 bitrate=1056.6kbits/s dup=34 drop=0 speed=3.57x\n"
          ]
        },
        {
          "output_type": "stream",
          "name": "stderr",
          "text": [
            "\rProcessing video:  85%|████████▌ | 3064.53/3600 [14:20<02:30,  3.56s/s]"
          ]
        },
        {
          "output_type": "stream",
          "name": "stdout",
          "text": [
            "frame=91923 fps=107 q=29.0 size=  395264kB time=00:51:04.53 bitrate=1056.6kbits/s dup=34 drop=0 speed=3.57x\n"
          ]
        },
        {
          "output_type": "stream",
          "name": "stderr",
          "text": [
            "\rProcessing video:  85%|████████▌ | 3066.62/3600 [14:20<02:29,  3.56s/s]"
          ]
        },
        {
          "output_type": "stream",
          "name": "stdout",
          "text": [
            "frame=91986 fps=107 q=29.0 size=  395520kB time=00:51:06.62 bitrate=1056.6kbits/s dup=34 drop=0 speed=3.57x\n"
          ]
        },
        {
          "output_type": "stream",
          "name": "stderr",
          "text": [
            "\rProcessing video:  85%|████████▌ | 3068.43/3600 [14:21<02:29,  3.56s/s]"
          ]
        },
        {
          "output_type": "stream",
          "name": "stdout",
          "text": [
            "frame=92040 fps=107 q=29.0 size=  395520kB time=00:51:08.43 bitrate=1055.9kbits/s dup=34 drop=0 speed=3.57x\n"
          ]
        },
        {
          "output_type": "stream",
          "name": "stderr",
          "text": [
            "\rProcessing video:  85%|████████▌ | 3069.73/3600 [14:21<02:28,  3.56s/s]"
          ]
        },
        {
          "output_type": "stream",
          "name": "stdout",
          "text": [
            "frame=92079 fps=107 q=29.0 size=  395776kB time=00:51:09.73 bitrate=1056.2kbits/s dup=34 drop=0 speed=3.57x\n"
          ]
        },
        {
          "output_type": "stream",
          "name": "stderr",
          "text": [
            "\rProcessing video:  85%|████████▌ | 3070.95/3600 [14:22<02:28,  3.56s/s]"
          ]
        },
        {
          "output_type": "stream",
          "name": "stdout",
          "text": [
            "frame=92116 fps=107 q=29.0 size=  396032kB time=00:51:10.95 bitrate=1056.4kbits/s dup=34 drop=0 speed=3.56x\n"
          ]
        },
        {
          "output_type": "stream",
          "name": "stderr",
          "text": [
            "\rProcessing video:  85%|████████▌ | 3072.46/3600 [14:22<02:28,  3.56s/s]"
          ]
        },
        {
          "output_type": "stream",
          "name": "stdout",
          "text": [
            "frame=92161 fps=107 q=29.0 size=  396544kB time=00:51:12.46 bitrate=1057.3kbits/s dup=34 drop=0 speed=3.56x\n"
          ]
        },
        {
          "output_type": "stream",
          "name": "stderr",
          "text": [
            "\rProcessing video:  85%|████████▌ | 3074.66/3600 [14:23<02:27,  3.56s/s]"
          ]
        },
        {
          "output_type": "stream",
          "name": "stdout",
          "text": [
            "frame=92227 fps=107 q=29.0 size=  396544kB time=00:51:14.66 bitrate=1056.5kbits/s dup=34 drop=0 speed=3.57x\n"
          ]
        },
        {
          "output_type": "stream",
          "name": "stderr",
          "text": [
            "\rProcessing video:  85%|████████▌ | 3076.9/3600 [14:23<02:26,  3.56s/s] "
          ]
        },
        {
          "output_type": "stream",
          "name": "stdout",
          "text": [
            "frame=92294 fps=107 q=29.0 size=  396800kB time=00:51:16.90 bitrate=1056.4kbits/s dup=34 drop=0 speed=3.57x\n"
          ]
        },
        {
          "output_type": "stream",
          "name": "stderr",
          "text": [
            "\rProcessing video:  86%|████████▌ | 3079.12/3600 [14:24<02:26,  3.56s/s]"
          ]
        },
        {
          "output_type": "stream",
          "name": "stdout",
          "text": [
            "frame=92361 fps=107 q=29.0 size=  397056kB time=00:51:19.12 bitrate=1056.4kbits/s dup=34 drop=0 speed=3.57x\n"
          ]
        },
        {
          "output_type": "stream",
          "name": "stderr",
          "text": [
            "\rProcessing video:  86%|████████▌ | 3081.6/3600 [14:24<02:25,  3.56s/s] "
          ]
        },
        {
          "output_type": "stream",
          "name": "stdout",
          "text": [
            "frame=92435 fps=107 q=29.0 size=  397312kB time=00:51:21.60 bitrate=1056.2kbits/s dup=34 drop=0 speed=3.57x\n"
          ]
        },
        {
          "output_type": "stream",
          "name": "stderr",
          "text": [
            "\rProcessing video:  86%|████████▌ | 3084.26/3600 [14:25<02:24,  3.56s/s]"
          ]
        },
        {
          "output_type": "stream",
          "name": "stdout",
          "text": [
            "frame=92515 fps=107 q=29.0 size=  397312kB time=00:51:24.26 bitrate=1055.3kbits/s dup=34 drop=0 speed=3.57x\n"
          ]
        },
        {
          "output_type": "stream",
          "name": "stderr",
          "text": [
            "\rProcessing video:  86%|████████▌ | 3086.86/3600 [14:25<02:23,  3.57s/s]"
          ]
        },
        {
          "output_type": "stream",
          "name": "stdout",
          "text": [
            "frame=92593 fps=107 q=29.0 size=  397568kB time=00:51:26.86 bitrate=1055.1kbits/s dup=34 drop=0 speed=3.57x\n"
          ]
        },
        {
          "output_type": "stream",
          "name": "stderr",
          "text": [
            "\rProcessing video:  86%|████████▌ | 3089.47/3600 [14:26<02:23,  3.57s/s]"
          ]
        },
        {
          "output_type": "stream",
          "name": "stdout",
          "text": [
            "frame=92671 fps=107 q=29.0 size=  397824kB time=00:51:29.47 bitrate=1054.9kbits/s dup=34 drop=0 speed=3.57x\n"
          ]
        },
        {
          "output_type": "stream",
          "name": "stderr",
          "text": [
            "\rProcessing video:  86%|████████▌ | 3092.09/3600 [14:26<02:22,  3.57s/s]"
          ]
        },
        {
          "output_type": "stream",
          "name": "stdout",
          "text": [
            "frame=92750 fps=107 q=29.0 size=  397824kB time=00:51:32.09 bitrate=1054.0kbits/s dup=34 drop=0 speed=3.57x\n"
          ]
        },
        {
          "output_type": "stream",
          "name": "stderr",
          "text": [
            "\rProcessing video:  86%|████████▌ | 3094.63/3600 [14:27<02:21,  3.57s/s]"
          ]
        },
        {
          "output_type": "stream",
          "name": "stdout",
          "text": [
            "frame=92826 fps=107 q=29.0 size=  398080kB time=00:51:34.63 bitrate=1053.8kbits/s dup=34 drop=0 speed=3.57x\n"
          ]
        },
        {
          "output_type": "stream",
          "name": "stderr",
          "text": [
            "\rProcessing video:  86%|████████▌ | 3097.25/3600 [14:27<02:20,  3.57s/s]"
          ]
        },
        {
          "output_type": "stream",
          "name": "stdout",
          "text": [
            "frame=92905 fps=107 q=29.0 size=  398336kB time=00:51:37.25 bitrate=1053.6kbits/s dup=34 drop=0 speed=3.57x\n"
          ]
        },
        {
          "output_type": "stream",
          "name": "stderr",
          "text": [
            "\rProcessing video:  86%|████████▌ | 3099.86/3600 [14:28<02:20,  3.57s/s]"
          ]
        },
        {
          "output_type": "stream",
          "name": "stdout",
          "text": [
            "frame=92983 fps=107 q=29.0 size=  398592kB time=00:51:39.86 bitrate=1053.4kbits/s dup=34 drop=0 speed=3.57x\n"
          ]
        },
        {
          "output_type": "stream",
          "name": "stderr",
          "text": [
            "\rProcessing video:  86%|████████▌ | 3102.4/3600 [14:28<02:19,  3.57s/s] "
          ]
        },
        {
          "output_type": "stream",
          "name": "stdout",
          "text": [
            "frame=93059 fps=107 q=29.0 size=  398592kB time=00:51:42.40 bitrate=1052.5kbits/s dup=34 drop=0 speed=3.57x\n"
          ]
        },
        {
          "output_type": "stream",
          "name": "stderr",
          "text": [
            "\rProcessing video:  86%|████████▋ | 3105.02/3600 [14:29<02:18,  3.57s/s]"
          ]
        },
        {
          "output_type": "stream",
          "name": "stdout",
          "text": [
            "frame=93138 fps=107 q=29.0 size=  398848kB time=00:51:45.02 bitrate=1052.3kbits/s dup=34 drop=0 speed=3.58x\n"
          ]
        },
        {
          "output_type": "stream",
          "name": "stderr",
          "text": [
            "\rProcessing video:  86%|████████▋ | 3107.66/3600 [14:29<02:17,  3.57s/s]"
          ]
        },
        {
          "output_type": "stream",
          "name": "stdout",
          "text": [
            "frame=93217 fps=107 q=29.0 size=  399104kB time=00:51:47.66 bitrate=1052.1kbits/s dup=34 drop=0 speed=3.58x\n"
          ]
        },
        {
          "output_type": "stream",
          "name": "stderr",
          "text": [
            "\rProcessing video:  86%|████████▋ | 3110.29/3600 [14:30<02:17,  3.57s/s]"
          ]
        },
        {
          "output_type": "stream",
          "name": "stdout",
          "text": [
            "frame=93296 fps=107 q=29.0 size=  399104kB time=00:51:50.29 bitrate=1051.2kbits/s dup=34 drop=0 speed=3.58x\n"
          ]
        },
        {
          "output_type": "stream",
          "name": "stderr",
          "text": [
            "\rProcessing video:  86%|████████▋ | 3112.76/3600 [14:30<02:16,  3.57s/s]"
          ]
        },
        {
          "output_type": "stream",
          "name": "stdout",
          "text": [
            "frame=93370 fps=107 q=29.0 size=  399360kB time=00:51:52.76 bitrate=1051.0kbits/s dup=34 drop=0 speed=3.58x\n"
          ]
        },
        {
          "output_type": "stream",
          "name": "stderr",
          "text": [
            "\rProcessing video:  87%|████████▋ | 3115.39/3600 [14:31<02:15,  3.58s/s]"
          ]
        },
        {
          "output_type": "stream",
          "name": "stdout",
          "text": [
            "frame=93449 fps=107 q=29.0 size=  399616kB time=00:51:55.39 bitrate=1050.8kbits/s dup=34 drop=0 speed=3.58x\n"
          ]
        },
        {
          "output_type": "stream",
          "name": "stderr",
          "text": [
            "\rProcessing video:  87%|████████▋ | 3118.12/3600 [14:31<02:14,  3.58s/s]"
          ]
        },
        {
          "output_type": "stream",
          "name": "stdout",
          "text": [
            "frame=93531 fps=107 q=29.0 size=  399616kB time=00:51:58.12 bitrate=1049.9kbits/s dup=34 drop=0 speed=3.58x\n"
          ]
        },
        {
          "output_type": "stream",
          "name": "stderr",
          "text": [
            "\rProcessing video:  87%|████████▋ | 3120.66/3600 [14:32<02:13,  3.58s/s]"
          ]
        },
        {
          "output_type": "stream",
          "name": "stdout",
          "text": [
            "frame=93607 fps=107 q=29.0 size=  399872kB time=00:52:00.66 bitrate=1049.7kbits/s dup=34 drop=0 speed=3.58x\n"
          ]
        },
        {
          "output_type": "stream",
          "name": "stderr",
          "text": [
            "\rProcessing video:  87%|████████▋ | 3122.68/3600 [14:32<02:13,  3.58s/s]"
          ]
        },
        {
          "output_type": "stream",
          "name": "stdout",
          "text": [
            "frame=93668 fps=107 q=29.0 size=  400128kB time=00:52:02.68 bitrate=1049.7kbits/s dup=34 drop=0 speed=3.58x\n"
          ]
        },
        {
          "output_type": "stream",
          "name": "stderr",
          "text": [
            "\rProcessing video:  87%|████████▋ | 3124.33/3600 [14:33<02:12,  3.58s/s]"
          ]
        },
        {
          "output_type": "stream",
          "name": "stdout",
          "text": [
            "frame=93717 fps=107 q=29.0 size=  400384kB time=00:52:04.33 bitrate=1049.8kbits/s dup=34 drop=0 speed=3.58x\n"
          ]
        },
        {
          "output_type": "stream",
          "name": "stderr",
          "text": [
            "\rProcessing video:  87%|████████▋ | 3125.63/3600 [14:33<02:12,  3.58s/s]"
          ]
        },
        {
          "output_type": "stream",
          "name": "stdout",
          "text": [
            "frame=93756 fps=107 q=29.0 size=  400640kB time=00:52:05.63 bitrate=1050.0kbits/s dup=34 drop=0 speed=3.58x\n"
          ]
        },
        {
          "output_type": "stream",
          "name": "stderr",
          "text": [
            "\rProcessing video:  87%|████████▋ | 3127.06/3600 [14:34<02:12,  3.58s/s]"
          ]
        },
        {
          "output_type": "stream",
          "name": "stdout",
          "text": [
            "frame=93799 fps=107 q=29.0 size=  400896kB time=00:52:07.06 bitrate=1050.2kbits/s dup=34 drop=0 speed=3.58x\n"
          ]
        },
        {
          "output_type": "stream",
          "name": "stderr",
          "text": [
            "\rProcessing video:  87%|████████▋ | 3128.42/3600 [14:34<02:11,  3.58s/s]"
          ]
        },
        {
          "output_type": "stream",
          "name": "stdout",
          "text": [
            "frame=93840 fps=107 q=29.0 size=  401152kB time=00:52:08.42 bitrate=1050.4kbits/s dup=34 drop=0 speed=3.58x\n"
          ]
        },
        {
          "output_type": "stream",
          "name": "stderr",
          "text": [
            "\rProcessing video:  87%|████████▋ | 3129.6/3600 [14:35<02:11,  3.57s/s] "
          ]
        },
        {
          "output_type": "stream",
          "name": "stdout",
          "text": [
            "frame=93875 fps=107 q=29.0 size=  401408kB time=00:52:09.60 bitrate=1050.7kbits/s dup=34 drop=0 speed=3.58x\n"
          ]
        },
        {
          "output_type": "stream",
          "name": "stderr",
          "text": [
            "\rProcessing video:  87%|████████▋ | 3130.73/3600 [14:35<02:11,  3.57s/s]"
          ]
        },
        {
          "output_type": "stream",
          "name": "stdout",
          "text": [
            "frame=93909 fps=107 q=29.0 size=  401664kB time=00:52:10.73 bitrate=1051.0kbits/s dup=34 drop=0 speed=3.58x\n"
          ]
        },
        {
          "output_type": "stream",
          "name": "stderr",
          "text": [
            "\rProcessing video:  87%|████████▋ | 3132.16/3600 [14:36<02:10,  3.57s/s]"
          ]
        },
        {
          "output_type": "stream",
          "name": "stdout",
          "text": [
            "frame=93952 fps=107 q=29.0 size=  401920kB time=00:52:12.16 bitrate=1051.2kbits/s dup=34 drop=0 speed=3.58x\n"
          ]
        },
        {
          "output_type": "stream",
          "name": "stderr",
          "text": [
            "\rProcessing video:  87%|████████▋ | 3133.33/3600 [14:37<02:10,  3.57s/s]"
          ]
        },
        {
          "output_type": "stream",
          "name": "stdout",
          "text": [
            "frame=93987 fps=107 q=29.0 size=  402176kB time=00:52:13.33 bitrate=1051.5kbits/s dup=34 drop=0 speed=3.58x\n"
          ]
        },
        {
          "output_type": "stream",
          "name": "stderr",
          "text": [
            "\rProcessing video:  87%|████████▋ | 3134.8/3600 [14:37<02:10,  3.57s/s] "
          ]
        },
        {
          "output_type": "stream",
          "name": "stdout",
          "text": [
            "frame=94031 fps=107 q=29.0 size=  402688kB time=00:52:14.80 bitrate=1052.3kbits/s dup=34 drop=0 speed=3.58x\n"
          ]
        },
        {
          "output_type": "stream",
          "name": "stderr",
          "text": [
            "\rProcessing video:  87%|████████▋ | 3136.96/3600 [14:38<02:09,  3.57s/s]"
          ]
        },
        {
          "output_type": "stream",
          "name": "stdout",
          "text": [
            "frame=94096 fps=107 q=29.0 size=  402688kB time=00:52:16.96 bitrate=1051.6kbits/s dup=34 drop=0 speed=3.58x\n"
          ]
        },
        {
          "output_type": "stream",
          "name": "stderr",
          "text": [
            "\rProcessing video:  87%|████████▋ | 3139.09/3600 [14:38<02:08,  3.57s/s]"
          ]
        },
        {
          "output_type": "stream",
          "name": "stdout",
          "text": [
            "frame=94160 fps=107 q=29.0 size=  402944kB time=00:52:19.09 bitrate=1051.6kbits/s dup=34 drop=0 speed=3.58x\n"
          ]
        },
        {
          "output_type": "stream",
          "name": "stderr",
          "text": [
            "\rProcessing video:  87%|████████▋ | 3141.33/3600 [14:39<02:08,  3.57s/s]"
          ]
        },
        {
          "output_type": "stream",
          "name": "stdout",
          "text": [
            "frame=94227 fps=107 q=29.0 size=  403200kB time=00:52:21.33 bitrate=1051.5kbits/s dup=34 drop=0 speed=3.58x\n"
          ]
        },
        {
          "output_type": "stream",
          "name": "stderr",
          "text": [
            "\rProcessing video:  87%|████████▋ | 3143.48/3600 [14:39<02:07,  3.57s/s]"
          ]
        },
        {
          "output_type": "stream",
          "name": "stdout",
          "text": [
            "frame=94292 fps=107 q=29.0 size=  403456kB time=00:52:23.48 bitrate=1051.4kbits/s dup=34 drop=0 speed=3.58x\n"
          ]
        },
        {
          "output_type": "stream",
          "name": "stderr",
          "text": [
            "\rProcessing video:  87%|████████▋ | 3145.66/3600 [14:40<02:07,  3.57s/s]"
          ]
        },
        {
          "output_type": "stream",
          "name": "stdout",
          "text": [
            "frame=94357 fps=107 q=29.0 size=  403712kB time=00:52:25.66 bitrate=1051.4kbits/s dup=34 drop=0 speed=3.58x\n"
          ]
        },
        {
          "output_type": "stream",
          "name": "stderr",
          "text": [
            "\rProcessing video:  87%|████████▋ | 3148.16/3600 [14:40<02:06,  3.58s/s]"
          ]
        },
        {
          "output_type": "stream",
          "name": "stdout",
          "text": [
            "frame=94432 fps=107 q=29.0 size=  403968kB time=00:52:28.16 bitrate=1051.2kbits/s dup=34 drop=0 speed=3.58x\n"
          ]
        },
        {
          "output_type": "stream",
          "name": "stderr",
          "text": [
            "\rProcessing video:  88%|████████▊ | 3150.65/3600 [14:41<02:05,  3.58s/s]"
          ]
        },
        {
          "output_type": "stream",
          "name": "stdout",
          "text": [
            "frame=94507 fps=107 q=29.0 size=  404224kB time=00:52:30.65 bitrate=1051.0kbits/s dup=34 drop=0 speed=3.58x\n"
          ]
        },
        {
          "output_type": "stream",
          "name": "stderr",
          "text": [
            "\rProcessing video:  88%|████████▊ | 3153.3/3600 [14:41<02:04,  3.58s/s] "
          ]
        },
        {
          "output_type": "stream",
          "name": "stdout",
          "text": [
            "frame=94586 fps=107 q=29.0 size=  404224kB time=00:52:33.30 bitrate=1050.1kbits/s dup=34 drop=0 speed=3.58x\n"
          ]
        },
        {
          "output_type": "stream",
          "name": "stderr",
          "text": [
            "\rProcessing video:  88%|████████▊ | 3156.05/3600 [14:42<02:04,  3.58s/s]"
          ]
        },
        {
          "output_type": "stream",
          "name": "stdout",
          "text": [
            "frame=94668 fps=107 q=29.0 size=  404480kB time=00:52:36.05 bitrate=1049.9kbits/s dup=34 drop=0 speed=3.58x\n"
          ]
        },
        {
          "output_type": "stream",
          "name": "stderr",
          "text": [
            "\rProcessing video:  88%|████████▊ | 3158.8/3600 [14:42<02:03,  3.58s/s] "
          ]
        },
        {
          "output_type": "stream",
          "name": "stdout",
          "text": [
            "frame=94751 fps=107 q=29.0 size=  404736kB time=00:52:38.80 bitrate=1049.6kbits/s dup=34 drop=0 speed=3.58x\n"
          ]
        },
        {
          "output_type": "stream",
          "name": "stderr",
          "text": [
            "\rProcessing video:  88%|████████▊ | 3161.6/3600 [14:43<02:02,  3.58s/s]"
          ]
        },
        {
          "output_type": "stream",
          "name": "stdout",
          "text": [
            "frame=94835 fps=108 q=29.0 size=  404736kB time=00:52:41.60 bitrate=1048.7kbits/s dup=34 drop=0 speed=3.58x\n"
          ]
        },
        {
          "output_type": "stream",
          "name": "stderr",
          "text": [
            "\rProcessing video:  88%|████████▊ | 3164.2/3600 [14:43<02:01,  3.58s/s]"
          ]
        },
        {
          "output_type": "stream",
          "name": "stdout",
          "text": [
            "frame=94913 fps=108 q=29.0 size=  404992kB time=00:52:44.20 bitrate=1048.5kbits/s dup=34 drop=0 speed=3.58x\n"
          ]
        },
        {
          "output_type": "stream",
          "name": "stderr",
          "text": [
            "\rProcessing video:  88%|████████▊ | 3165.99/3600 [14:44<02:01,  3.58s/s]"
          ]
        },
        {
          "output_type": "stream",
          "name": "stdout",
          "text": [
            "frame=94967 fps=108 q=29.0 size=  405248kB time=00:52:45.99 bitrate=1048.6kbits/s dup=34 drop=0 speed=3.58x\n"
          ]
        },
        {
          "output_type": "stream",
          "name": "stderr",
          "text": [
            "\rProcessing video:  88%|████████▊ | 3167.33/3600 [14:44<02:00,  3.58s/s]"
          ]
        },
        {
          "output_type": "stream",
          "name": "stdout",
          "text": [
            "frame=95007 fps=108 q=29.0 size=  405504kB time=00:52:47.33 bitrate=1048.8kbits/s dup=34 drop=0 speed=3.58x\n"
          ]
        },
        {
          "output_type": "stream",
          "name": "stderr",
          "text": [
            "\rProcessing video:  88%|████████▊ | 3168.64/3600 [14:45<02:00,  3.58s/s]"
          ]
        },
        {
          "output_type": "stream",
          "name": "stdout",
          "text": [
            "frame=95046 fps=107 q=29.0 size=  405760kB time=00:52:48.64 bitrate=1049.0kbits/s dup=34 drop=0 speed=3.58x\n"
          ]
        },
        {
          "output_type": "stream",
          "name": "stderr",
          "text": [
            "\rProcessing video:  88%|████████▊ | 3169.89/3600 [14:45<02:00,  3.58s/s]"
          ]
        },
        {
          "output_type": "stream",
          "name": "stdout",
          "text": [
            "frame=95084 fps=107 q=29.0 size=  406016kB time=00:52:49.89 bitrate=1049.3kbits/s dup=34 drop=0 speed=3.58x\n"
          ]
        },
        {
          "output_type": "stream",
          "name": "stderr",
          "text": [
            "\rProcessing video:  88%|████████▊ | 3171.13/3600 [14:46<01:59,  3.58s/s]"
          ]
        },
        {
          "output_type": "stream",
          "name": "stdout",
          "text": [
            "frame=95121 fps=107 q=29.0 size=  406272kB time=00:52:51.13 bitrate=1049.5kbits/s dup=34 drop=0 speed=3.58x\n"
          ]
        },
        {
          "output_type": "stream",
          "name": "stderr",
          "text": [
            "\rProcessing video:  88%|████████▊ | 3172.43/3600 [14:46<01:59,  3.58s/s]"
          ]
        },
        {
          "output_type": "stream",
          "name": "stdout",
          "text": [
            "frame=95160 fps=107 q=29.0 size=  406528kB time=00:52:52.43 bitrate=1049.8kbits/s dup=34 drop=0 speed=3.58x\n"
          ]
        },
        {
          "output_type": "stream",
          "name": "stderr",
          "text": [
            "\rProcessing video:  88%|████████▊ | 3173.56/3600 [14:47<01:59,  3.58s/s]"
          ]
        },
        {
          "output_type": "stream",
          "name": "stdout",
          "text": [
            "frame=95194 fps=107 q=29.0 size=  407040kB time=00:52:53.56 bitrate=1050.7kbits/s dup=34 drop=0 speed=3.58x\n"
          ]
        },
        {
          "output_type": "stream",
          "name": "stderr",
          "text": [
            "\rProcessing video:  88%|████████▊ | 3174.82/3600 [14:47<01:58,  3.58s/s]"
          ]
        },
        {
          "output_type": "stream",
          "name": "stdout",
          "text": [
            "frame=95232 fps=107 q=29.0 size=  407296kB time=00:52:54.82 bitrate=1050.9kbits/s dup=34 drop=0 speed=3.58x\n"
          ]
        },
        {
          "output_type": "stream",
          "name": "stderr",
          "text": [
            "\rProcessing video:  88%|████████▊ | 3176.1/3600 [14:48<01:58,  3.58s/s] "
          ]
        },
        {
          "output_type": "stream",
          "name": "stdout",
          "text": [
            "frame=95270 fps=107 q=29.0 size=  407552kB time=00:52:56.10 bitrate=1051.2kbits/s dup=34 drop=0 speed=3.58x\n"
          ]
        },
        {
          "output_type": "stream",
          "name": "stderr",
          "text": [
            "\rProcessing video:  88%|████████▊ | 3177.3/3600 [14:48<01:58,  3.58s/s]"
          ]
        },
        {
          "output_type": "stream",
          "name": "stdout",
          "text": [
            "frame=95306 fps=107 q=29.0 size=  407808kB time=00:52:57.30 bitrate=1051.4kbits/s dup=34 drop=0 speed=3.58x\n"
          ]
        },
        {
          "output_type": "stream",
          "name": "stderr",
          "text": [
            "\rProcessing video:  88%|████████▊ | 3178.66/3600 [14:49<01:57,  3.58s/s]"
          ]
        },
        {
          "output_type": "stream",
          "name": "stdout",
          "text": [
            "frame=95347 fps=107 q=29.0 size=  407808kB time=00:52:58.66 bitrate=1051.0kbits/s dup=34 drop=0 speed=3.58x\n"
          ]
        },
        {
          "output_type": "stream",
          "name": "stderr",
          "text": [
            "\rProcessing video:  88%|████████▊ | 3180.37/3600 [14:49<01:57,  3.57s/s]"
          ]
        },
        {
          "output_type": "stream",
          "name": "stdout",
          "text": [
            "frame=95398 fps=107 q=29.0 size=  408064kB time=00:53:00.37 bitrate=1051.1kbits/s dup=34 drop=0 speed=3.58x\n"
          ]
        },
        {
          "output_type": "stream",
          "name": "stderr",
          "text": [
            "\rProcessing video:  88%|████████▊ | 3182.12/3600 [14:50<01:56,  3.57s/s]"
          ]
        },
        {
          "output_type": "stream",
          "name": "stdout",
          "text": [
            "frame=95451 fps=107 q=29.0 size=  408320kB time=00:53:02.12 bitrate=1051.2kbits/s dup=34 drop=0 speed=3.58x\n"
          ]
        },
        {
          "output_type": "stream",
          "name": "stderr",
          "text": [
            "\rProcessing video:  88%|████████▊ | 3183.93/3600 [14:50<01:56,  3.57s/s]"
          ]
        },
        {
          "output_type": "stream",
          "name": "stdout",
          "text": [
            "frame=95505 fps=107 q=29.0 size=  408576kB time=00:53:03.93 bitrate=1051.2kbits/s dup=34 drop=0 speed=3.58x\n"
          ]
        },
        {
          "output_type": "stream",
          "name": "stderr",
          "text": [
            "\rProcessing video:  88%|████████▊ | 3185.53/3600 [14:51<01:55,  3.57s/s]"
          ]
        },
        {
          "output_type": "stream",
          "name": "stdout",
          "text": [
            "frame=95553 fps=107 q=29.0 size=  408832kB time=00:53:05.53 bitrate=1051.4kbits/s dup=34 drop=0 speed=3.58x\n"
          ]
        },
        {
          "output_type": "stream",
          "name": "stderr",
          "text": [
            "\rProcessing video:  89%|████████▊ | 3187.09/3600 [14:51<01:55,  3.57s/s]"
          ]
        },
        {
          "output_type": "stream",
          "name": "stdout",
          "text": [
            "frame=95600 fps=107 q=29.0 size=  409088kB time=00:53:07.09 bitrate=1051.5kbits/s dup=34 drop=0 speed=3.58x\n"
          ]
        },
        {
          "output_type": "stream",
          "name": "stderr",
          "text": [
            "\rProcessing video:  89%|████████▊ | 3188.56/3600 [14:52<01:55,  3.57s/s]"
          ]
        },
        {
          "output_type": "stream",
          "name": "stdout",
          "text": [
            "frame=95644 fps=107 q=29.0 size=  409344kB time=00:53:08.56 bitrate=1051.7kbits/s dup=34 drop=0 speed=3.58x\n"
          ]
        },
        {
          "output_type": "stream",
          "name": "stderr",
          "text": [
            "\rProcessing video:  89%|████████▊ | 3190.2/3600 [14:52<01:54,  3.57s/s] "
          ]
        },
        {
          "output_type": "stream",
          "name": "stdout",
          "text": [
            "frame=95693 fps=107 q=29.0 size=  409600kB time=00:53:10.20 bitrate=1051.8kbits/s dup=34 drop=0 speed=3.58x\n"
          ]
        },
        {
          "output_type": "stream",
          "name": "stderr",
          "text": [
            "\rProcessing video:  89%|████████▊ | 3191.87/3600 [14:53<01:54,  3.57s/s]"
          ]
        },
        {
          "output_type": "stream",
          "name": "stdout",
          "text": [
            "frame=95743 fps=107 q=29.0 size=  409600kB time=00:53:11.87 bitrate=1051.2kbits/s dup=34 drop=0 speed=3.58x\n"
          ]
        },
        {
          "output_type": "stream",
          "name": "stderr",
          "text": [
            "\rProcessing video:  89%|████████▊ | 3193.55/3600 [14:53<01:53,  3.57s/s]"
          ]
        },
        {
          "output_type": "stream",
          "name": "stdout",
          "text": [
            "frame=95794 fps=107 q=29.0 size=  409856kB time=00:53:13.55 bitrate=1051.3kbits/s dup=34 drop=0 speed=3.58x\n"
          ]
        },
        {
          "output_type": "stream",
          "name": "stderr",
          "text": [
            "\rProcessing video:  89%|████████▉ | 3195.45/3600 [14:54<01:53,  3.57s/s]"
          ]
        },
        {
          "output_type": "stream",
          "name": "stdout",
          "text": [
            "frame=95851 fps=107 q=29.0 size=  410112kB time=00:53:15.45 bitrate=1051.4kbits/s dup=34 drop=0 speed=3.58x\n"
          ]
        },
        {
          "output_type": "stream",
          "name": "stderr",
          "text": [
            "\rProcessing video:  89%|████████▉ | 3197.52/3600 [14:54<01:52,  3.57s/s]"
          ]
        },
        {
          "output_type": "stream",
          "name": "stdout",
          "text": [
            "frame=95913 fps=107 q=26.0 size=  410112kB time=00:53:17.52 bitrate=1050.7kbits/s dup=34 drop=0 speed=3.58x\n"
          ]
        },
        {
          "output_type": "stream",
          "name": "stderr",
          "text": [
            "\rProcessing video:  89%|████████▉ | 3199.36/3600 [14:55<01:52,  3.57s/s]"
          ]
        },
        {
          "output_type": "stream",
          "name": "stdout",
          "text": [
            "frame=95968 fps=107 q=29.0 size=  410624kB time=00:53:19.36 bitrate=1051.4kbits/s dup=34 drop=0 speed=3.58x\n"
          ]
        },
        {
          "output_type": "stream",
          "name": "stderr",
          "text": [
            "\rProcessing video:  89%|████████▉ | 3200.66/3600 [14:55<01:51,  3.57s/s]"
          ]
        },
        {
          "output_type": "stream",
          "name": "stdout",
          "text": [
            "frame=96007 fps=107 q=29.0 size=  410880kB time=00:53:20.66 bitrate=1051.6kbits/s dup=34 drop=0 speed=3.58x\n"
          ]
        },
        {
          "output_type": "stream",
          "name": "stderr",
          "text": [
            "\rProcessing video:  89%|████████▉ | 3201.83/3600 [14:56<01:51,  3.57s/s]"
          ]
        },
        {
          "output_type": "stream",
          "name": "stdout",
          "text": [
            "frame=96042 fps=107 q=29.0 size=  411136kB time=00:53:21.83 bitrate=1051.9kbits/s dup=34 drop=0 speed=3.58x\n"
          ]
        },
        {
          "output_type": "stream",
          "name": "stderr",
          "text": [
            "\rProcessing video:  89%|████████▉ | 3203.13/3600 [14:56<01:51,  3.57s/s]"
          ]
        },
        {
          "output_type": "stream",
          "name": "stdout",
          "text": [
            "frame=96081 fps=107 q=29.0 size=  411392kB time=00:53:23.13 bitrate=1052.1kbits/s dup=34 drop=0 speed=3.58x\n"
          ]
        },
        {
          "output_type": "stream",
          "name": "stderr",
          "text": [
            "\rProcessing video:  89%|████████▉ | 3204.56/3600 [14:57<01:50,  3.57s/s]"
          ]
        },
        {
          "output_type": "stream",
          "name": "stdout",
          "text": [
            "frame=96124 fps=107 q=29.0 size=  411648kB time=00:53:24.56 bitrate=1052.3kbits/s dup=34 drop=0 speed=3.57x\n"
          ]
        },
        {
          "output_type": "stream",
          "name": "stderr",
          "text": [
            "\rProcessing video:  89%|████████▉ | 3206.72/3600 [14:57<01:50,  3.57s/s]"
          ]
        },
        {
          "output_type": "stream",
          "name": "stdout",
          "text": [
            "frame=96189 fps=107 q=29.0 size=  411904kB time=00:53:26.72 bitrate=1052.3kbits/s dup=34 drop=0 speed=3.58x\n"
          ]
        },
        {
          "output_type": "stream",
          "name": "stderr",
          "text": [
            "\rProcessing video:  89%|████████▉ | 3209.25/3600 [14:58<01:49,  3.57s/s]"
          ]
        },
        {
          "output_type": "stream",
          "name": "stdout",
          "text": [
            "frame=96265 fps=107 q=29.0 size=  411904kB time=00:53:29.25 bitrate=1051.4kbits/s dup=34 drop=0 speed=3.58x\n"
          ]
        },
        {
          "output_type": "stream",
          "name": "stderr",
          "text": [
            "\rProcessing video:  89%|████████▉ | 3211.73/3600 [14:58<01:48,  3.57s/s]"
          ]
        },
        {
          "output_type": "stream",
          "name": "stdout",
          "text": [
            "frame=96339 fps=107 q=29.0 size=  412160kB time=00:53:31.73 bitrate=1051.3kbits/s dup=34 drop=0 speed=3.58x\n"
          ]
        },
        {
          "output_type": "stream",
          "name": "stderr",
          "text": [
            "\rProcessing video:  89%|████████▉ | 3214.27/3600 [14:59<01:47,  3.57s/s]"
          ]
        },
        {
          "output_type": "stream",
          "name": "stdout",
          "text": [
            "frame=96415 fps=107 q=29.0 size=  412416kB time=00:53:34.27 bitrate=1051.1kbits/s dup=34 drop=0 speed=3.58x\n"
          ]
        },
        {
          "output_type": "stream",
          "name": "stderr",
          "text": [
            "\rProcessing video:  89%|████████▉ | 3216.59/3600 [14:59<01:47,  3.57s/s]"
          ]
        },
        {
          "output_type": "stream",
          "name": "stdout",
          "text": [
            "frame=96485 fps=107 q=29.0 size=  412416kB time=00:53:36.59 bitrate=1050.3kbits/s dup=34 drop=0 speed=3.58x\n"
          ]
        },
        {
          "output_type": "stream",
          "name": "stderr",
          "text": [
            "\rProcessing video:  89%|████████▉ | 3218.92/3600 [15:00<01:46,  3.58s/s]"
          ]
        },
        {
          "output_type": "stream",
          "name": "stdout",
          "text": [
            "frame=96555 fps=107 q=29.0 size=  412672kB time=00:53:38.92 bitrate=1050.2kbits/s dup=34 drop=0 speed=3.58x\n"
          ]
        },
        {
          "output_type": "stream",
          "name": "stderr",
          "text": [
            "\rProcessing video:  89%|████████▉ | 3221.26/3600 [15:00<01:45,  3.58s/s]"
          ]
        },
        {
          "output_type": "stream",
          "name": "stdout",
          "text": [
            "frame=96625 fps=107 q=29.0 size=  412928kB time=00:53:41.26 bitrate=1050.1kbits/s dup=34 drop=0 speed=3.58x\n"
          ]
        },
        {
          "output_type": "stream",
          "name": "stderr",
          "text": [
            "\rProcessing video:  90%|████████▉ | 3223.72/3600 [15:01<01:45,  3.58s/s]"
          ]
        },
        {
          "output_type": "stream",
          "name": "stdout",
          "text": [
            "frame=96699 fps=107 q=29.0 size=  413184kB time=00:53:43.72 bitrate=1050.0kbits/s dup=34 drop=0 speed=3.58x\n"
          ]
        },
        {
          "output_type": "stream",
          "name": "stderr",
          "text": [
            "\rProcessing video:  90%|████████▉ | 3226.0/3600 [15:01<01:44,  3.58s/s] "
          ]
        },
        {
          "output_type": "stream",
          "name": "stdout",
          "text": [
            "frame=96767 fps=107 q=29.0 size=  413184kB time=00:53:46.00 bitrate=1049.2kbits/s dup=34 drop=0 speed=3.58x\n"
          ]
        },
        {
          "output_type": "stream",
          "name": "stderr",
          "text": [
            "\rProcessing video:  90%|████████▉ | 3227.6/3600 [15:02<01:44,  3.58s/s]"
          ]
        },
        {
          "output_type": "stream",
          "name": "stdout",
          "text": [
            "frame=96815 fps=107 q=29.0 size=  413440kB time=00:53:47.60 bitrate=1049.4kbits/s dup=34 drop=0 speed=3.58x\n"
          ]
        },
        {
          "output_type": "stream",
          "name": "stderr",
          "text": [
            "\rProcessing video:  90%|████████▉ | 3229.16/3600 [15:02<01:43,  3.58s/s]"
          ]
        },
        {
          "output_type": "stream",
          "name": "stdout",
          "text": [
            "frame=96862 fps=107 q=29.0 size=  413696kB time=00:53:49.16 bitrate=1049.5kbits/s dup=34 drop=0 speed=3.58x\n"
          ]
        },
        {
          "output_type": "stream",
          "name": "stderr",
          "text": [
            "\rProcessing video:  90%|████████▉ | 3230.76/3600 [15:03<01:43,  3.58s/s]"
          ]
        },
        {
          "output_type": "stream",
          "name": "stdout",
          "text": [
            "frame=96910 fps=107 q=29.0 size=  413952kB time=00:53:50.76 bitrate=1049.6kbits/s dup=34 drop=0 speed=3.58x\n"
          ]
        },
        {
          "output_type": "stream",
          "name": "stderr",
          "text": [
            "\rProcessing video:  90%|████████▉ | 3232.25/3600 [15:03<01:42,  3.58s/s]"
          ]
        },
        {
          "output_type": "stream",
          "name": "stdout",
          "text": [
            "frame=96955 fps=107 q=29.0 size=  414208kB time=00:53:52.25 bitrate=1049.8kbits/s dup=34 drop=0 speed=3.58x\n"
          ]
        },
        {
          "output_type": "stream",
          "name": "stderr",
          "text": [
            "\rProcessing video:  90%|████████▉ | 3233.79/3600 [15:04<01:42,  3.58s/s]"
          ]
        },
        {
          "output_type": "stream",
          "name": "stdout",
          "text": [
            "frame=97001 fps=107 q=29.0 size=  414464kB time=00:53:53.79 bitrate=1049.9kbits/s dup=34 drop=0 speed=3.58x\n"
          ]
        },
        {
          "output_type": "stream",
          "name": "stderr",
          "text": [
            "\rProcessing video:  90%|████████▉ | 3235.39/3600 [15:04<01:41,  3.58s/s]"
          ]
        },
        {
          "output_type": "stream",
          "name": "stdout",
          "text": [
            "frame=97049 fps=107 q=29.0 size=  414720kB time=00:53:55.39 bitrate=1050.1kbits/s dup=34 drop=0 speed=3.58x\n"
          ]
        },
        {
          "output_type": "stream",
          "name": "stderr",
          "text": [
            "\rProcessing video:  90%|████████▉ | 3237.76/3600 [15:05<01:41,  3.58s/s]"
          ]
        },
        {
          "output_type": "stream",
          "name": "stdout",
          "text": [
            "frame=97120 fps=107 q=29.0 size=  414976kB time=00:53:57.76 bitrate=1049.9kbits/s dup=34 drop=0 speed=3.58x\n"
          ]
        },
        {
          "output_type": "stream",
          "name": "stderr",
          "text": [
            "\rProcessing video:  90%|█████████ | 3240.23/3600 [15:05<01:40,  3.58s/s]"
          ]
        },
        {
          "output_type": "stream",
          "name": "stdout",
          "text": [
            "frame=97194 fps=107 q=29.0 size=  414976kB time=00:54:00.23 bitrate=1049.1kbits/s dup=34 drop=0 speed=3.58x\n"
          ]
        },
        {
          "output_type": "stream",
          "name": "stderr",
          "text": [
            "\rProcessing video:  90%|█████████ | 3242.77/3600 [15:06<01:39,  3.58s/s]"
          ]
        },
        {
          "output_type": "stream",
          "name": "stdout",
          "text": [
            "frame=97270 fps=107 q=29.0 size=  415232kB time=00:54:02.77 bitrate=1049.0kbits/s dup=34 drop=0 speed=3.58x\n"
          ]
        },
        {
          "output_type": "stream",
          "name": "stderr",
          "text": [
            "\rProcessing video:  90%|█████████ | 3245.29/3600 [15:06<01:39,  3.58s/s]"
          ]
        },
        {
          "output_type": "stream",
          "name": "stdout",
          "text": [
            "frame=97346 fps=107 q=29.0 size=  415488kB time=00:54:05.29 bitrate=1048.8kbits/s dup=34 drop=0 speed=3.58x\n"
          ]
        },
        {
          "output_type": "stream",
          "name": "stderr",
          "text": [
            "\rProcessing video:  90%|█████████ | 3248.0/3600 [15:07<01:38,  3.58s/s] "
          ]
        },
        {
          "output_type": "stream",
          "name": "stdout",
          "text": [
            "frame=97427 fps=107 q=29.0 size=  415488kB time=00:54:08.00 bitrate=1047.9kbits/s dup=34 drop=0 speed=3.58x\n"
          ]
        },
        {
          "output_type": "stream",
          "name": "stderr",
          "text": [
            "\rProcessing video:  90%|█████████ | 3250.77/3600 [15:07<01:37,  3.58s/s]"
          ]
        },
        {
          "output_type": "stream",
          "name": "stdout",
          "text": [
            "frame=97510 fps=108 q=29.0 size=  415744kB time=00:54:10.77 bitrate=1047.7kbits/s dup=34 drop=0 speed=3.58x\n"
          ]
        },
        {
          "output_type": "stream",
          "name": "stderr",
          "text": [
            "\rProcessing video:  90%|█████████ | 3253.56/3600 [15:08<01:36,  3.58s/s]"
          ]
        },
        {
          "output_type": "stream",
          "name": "stdout",
          "text": [
            "frame=97594 fps=108 q=29.0 size=  416000kB time=00:54:13.56 bitrate=1047.4kbits/s dup=34 drop=0 speed=3.59x\n"
          ]
        },
        {
          "output_type": "stream",
          "name": "stderr",
          "text": [
            "\rProcessing video:  90%|█████████ | 3256.29/3600 [15:08<01:35,  3.58s/s]"
          ]
        },
        {
          "output_type": "stream",
          "name": "stdout",
          "text": [
            "frame=97676 fps=108 q=29.0 size=  416000kB time=00:54:16.29 bitrate=1046.5kbits/s dup=34 drop=0 speed=3.59x\n"
          ]
        },
        {
          "output_type": "stream",
          "name": "stderr",
          "text": [
            "\rProcessing video:  91%|█████████ | 3259.02/3600 [15:09<01:35,  3.58s/s]"
          ]
        },
        {
          "output_type": "stream",
          "name": "stdout",
          "text": [
            "frame=97758 fps=108 q=29.0 size=  416256kB time=00:54:19.02 bitrate=1046.3kbits/s dup=34 drop=0 speed=3.59x\n"
          ]
        },
        {
          "output_type": "stream",
          "name": "stderr",
          "text": [
            "\rProcessing video:  91%|█████████ | 3261.82/3600 [15:09<01:34,  3.58s/s]"
          ]
        },
        {
          "output_type": "stream",
          "name": "stdout",
          "text": [
            "frame=97842 fps=108 q=29.0 size=  416512kB time=00:54:21.82 bitrate=1046.1kbits/s dup=34 drop=0 speed=3.59x\n"
          ]
        },
        {
          "output_type": "stream",
          "name": "stderr",
          "text": [
            "\rProcessing video:  91%|█████████ | 3263.82/3600 [15:10<01:33,  3.58s/s]"
          ]
        },
        {
          "output_type": "stream",
          "name": "stdout",
          "text": [
            "frame=97902 fps=108 q=29.0 size=  416512kB time=00:54:23.82 bitrate=1045.4kbits/s dup=34 drop=0 speed=3.59x\n"
          ]
        },
        {
          "output_type": "stream",
          "name": "stderr",
          "text": [
            "\rProcessing video:  91%|█████████ | 3265.08/3600 [15:10<01:33,  3.58s/s]"
          ]
        },
        {
          "output_type": "stream",
          "name": "stdout",
          "text": [
            "frame=97940 fps=108 q=29.0 size=  416768kB time=00:54:25.08 bitrate=1045.7kbits/s dup=34 drop=0 speed=3.59x\n"
          ]
        },
        {
          "output_type": "stream",
          "name": "stderr",
          "text": [
            "\rProcessing video:  91%|█████████ | 3266.32/3600 [15:11<01:33,  3.58s/s]"
          ]
        },
        {
          "output_type": "stream",
          "name": "stdout",
          "text": [
            "frame=97977 fps=108 q=29.0 size=  417024kB time=00:54:26.32 bitrate=1045.9kbits/s dup=34 drop=0 speed=3.59x\n"
          ]
        },
        {
          "output_type": "stream",
          "name": "stderr",
          "text": [
            "\rProcessing video:  91%|█████████ | 3267.45/3600 [15:12<01:32,  3.58s/s]"
          ]
        },
        {
          "output_type": "stream",
          "name": "stdout",
          "text": [
            "frame=98011 fps=108 q=29.0 size=  417280kB time=00:54:27.45 bitrate=1046.2kbits/s dup=34 drop=0 speed=3.59x\n"
          ]
        },
        {
          "output_type": "stream",
          "name": "stderr",
          "text": [
            "\rProcessing video:  91%|█████████ | 3268.73/3600 [15:12<01:32,  3.58s/s]"
          ]
        },
        {
          "output_type": "stream",
          "name": "stdout",
          "text": [
            "frame=98049 fps=108 q=29.0 size=  417536kB time=00:54:28.73 bitrate=1046.4kbits/s dup=34 drop=0 speed=3.59x\n"
          ]
        },
        {
          "output_type": "stream",
          "name": "stderr",
          "text": [
            "\rProcessing video:  91%|█████████ | 3269.88/3600 [15:13<01:32,  3.58s/s]"
          ]
        },
        {
          "output_type": "stream",
          "name": "stdout",
          "text": [
            "frame=98084 fps=108 q=29.0 size=  417792kB time=00:54:29.88 bitrate=1046.7kbits/s dup=34 drop=0 speed=3.58x\n"
          ]
        },
        {
          "output_type": "stream",
          "name": "stderr",
          "text": [
            "\rProcessing video:  91%|█████████ | 3271.1/3600 [15:13<01:31,  3.58s/s] "
          ]
        },
        {
          "output_type": "stream",
          "name": "stdout",
          "text": [
            "frame=98120 fps=108 q=29.0 size=  418304kB time=00:54:31.10 bitrate=1047.6kbits/s dup=34 drop=0 speed=3.58x\n"
          ]
        },
        {
          "output_type": "stream",
          "name": "stderr",
          "text": [
            "\rProcessing video:  91%|█████████ | 3272.78/3600 [15:14<01:31,  3.58s/s]"
          ]
        },
        {
          "output_type": "stream",
          "name": "stdout",
          "text": [
            "frame=98171 fps=108 q=29.0 size=  418304kB time=00:54:32.78 bitrate=1047.0kbits/s dup=34 drop=0 speed=3.58x\n"
          ]
        },
        {
          "output_type": "stream",
          "name": "stderr",
          "text": [
            "\rProcessing video:  91%|█████████ | 3274.77/3600 [15:14<01:30,  3.58s/s]"
          ]
        },
        {
          "output_type": "stream",
          "name": "stdout",
          "text": [
            "frame=98230 fps=108 q=29.0 size=  418560kB time=00:54:34.77 bitrate=1047.0kbits/s dup=34 drop=0 speed=3.58x\n"
          ]
        },
        {
          "output_type": "stream",
          "name": "stderr",
          "text": [
            "\rProcessing video:  91%|█████████ | 3276.56/3600 [15:15<01:30,  3.58s/s]"
          ]
        },
        {
          "output_type": "stream",
          "name": "stdout",
          "text": [
            "frame=98284 fps=108 q=29.0 size=  418816kB time=00:54:36.56 bitrate=1047.1kbits/s dup=34 drop=0 speed=3.58x\n"
          ]
        },
        {
          "output_type": "stream",
          "name": "stderr",
          "text": [
            "\rProcessing video:  91%|█████████ | 3278.33/3600 [15:15<01:29,  3.58s/s]"
          ]
        },
        {
          "output_type": "stream",
          "name": "stdout",
          "text": [
            "frame=98337 fps=108 q=29.0 size=  419072kB time=00:54:38.33 bitrate=1047.2kbits/s dup=34 drop=0 speed=3.58x\n"
          ]
        },
        {
          "output_type": "stream",
          "name": "stderr",
          "text": [
            "\rProcessing video:  91%|█████████ | 3280.19/3600 [15:16<01:29,  3.58s/s]"
          ]
        },
        {
          "output_type": "stream",
          "name": "stdout",
          "text": [
            "frame=98393 fps=108 q=29.0 size=  419072kB time=00:54:40.19 bitrate=1046.6kbits/s dup=34 drop=0 speed=3.58x\n"
          ]
        },
        {
          "output_type": "stream",
          "name": "stderr",
          "text": [
            "\rProcessing video:  91%|█████████ | 3282.09/3600 [15:16<01:28,  3.58s/s]"
          ]
        },
        {
          "output_type": "stream",
          "name": "stdout",
          "text": [
            "frame=98450 fps=108 q=29.0 size=  419328kB time=00:54:42.09 bitrate=1046.6kbits/s dup=34 drop=0 speed=3.58x\n"
          ]
        },
        {
          "output_type": "stream",
          "name": "stderr",
          "text": [
            "\rProcessing video:  91%|█████████ | 3283.98/3600 [15:17<01:28,  3.58s/s]"
          ]
        },
        {
          "output_type": "stream",
          "name": "stdout",
          "text": [
            "frame=98507 fps=108 q=29.0 size=  419584kB time=00:54:43.98 bitrate=1046.7kbits/s dup=34 drop=0 speed=3.58x\n"
          ]
        },
        {
          "output_type": "stream",
          "name": "stderr",
          "text": [
            "\rProcessing video:  91%|█████████▏| 3286.03/3600 [15:17<01:27,  3.58s/s]"
          ]
        },
        {
          "output_type": "stream",
          "name": "stdout",
          "text": [
            "frame=98568 fps=108 q=29.0 size=  419840kB time=00:54:46.03 bitrate=1046.6kbits/s dup=34 drop=0 speed=3.58x\n"
          ]
        },
        {
          "output_type": "stream",
          "name": "stderr",
          "text": [
            "\rProcessing video:  91%|█████████▏| 3287.89/3600 [15:18<01:27,  3.58s/s]"
          ]
        },
        {
          "output_type": "stream",
          "name": "stdout",
          "text": [
            "frame=98624 fps=108 q=29.0 size=  420096kB time=00:54:47.89 bitrate=1046.7kbits/s dup=34 drop=0 speed=3.58x\n"
          ]
        },
        {
          "output_type": "stream",
          "name": "stderr",
          "text": [
            "\rProcessing video:  91%|█████████▏| 3289.6/3600 [15:18<01:26,  3.58s/s] "
          ]
        },
        {
          "output_type": "stream",
          "name": "stdout",
          "text": [
            "frame=98675 fps=108 q=29.0 size=  420352kB time=00:54:49.60 bitrate=1046.8kbits/s dup=34 drop=0 speed=3.58x\n"
          ]
        },
        {
          "output_type": "stream",
          "name": "stderr",
          "text": [
            "\rProcessing video:  91%|█████████▏| 3291.3/3600 [15:19<01:26,  3.58s/s]"
          ]
        },
        {
          "output_type": "stream",
          "name": "stdout",
          "text": [
            "frame=98726 fps=108 q=29.0 size=  420608kB time=00:54:51.30 bitrate=1046.9kbits/s dup=34 drop=0 speed=3.58x\n"
          ]
        },
        {
          "output_type": "stream",
          "name": "stderr",
          "text": [
            "\rProcessing video:  91%|█████████▏| 3293.46/3600 [15:19<01:25,  3.58s/s]"
          ]
        },
        {
          "output_type": "stream",
          "name": "stdout",
          "text": [
            "frame=98791 fps=108 q=29.0 size=  420864kB time=00:54:53.46 bitrate=1046.8kbits/s dup=34 drop=0 speed=3.59x\n"
          ]
        },
        {
          "output_type": "stream",
          "name": "stderr",
          "text": [
            "\rProcessing video:  92%|█████████▏| 3296.17/3600 [15:20<01:24,  3.58s/s]"
          ]
        },
        {
          "output_type": "stream",
          "name": "stdout",
          "text": [
            "frame=98872 fps=108 q=29.0 size=  420864kB time=00:54:56.17 bitrate=1046.0kbits/s dup=34 drop=0 speed=3.59x\n"
          ]
        },
        {
          "output_type": "stream",
          "name": "stderr",
          "text": [
            "\rProcessing video:  92%|█████████▏| 3298.9/3600 [15:20<01:24,  3.58s/s] "
          ]
        },
        {
          "output_type": "stream",
          "name": "stdout",
          "text": [
            "frame=98954 fps=108 q=29.0 size=  421120kB time=00:54:58.90 bitrate=1045.7kbits/s dup=34 drop=0 speed=3.59x\n"
          ]
        },
        {
          "output_type": "stream",
          "name": "stderr",
          "text": [
            "\rProcessing video:  92%|█████████▏| 3301.16/3600 [15:21<01:23,  3.58s/s]"
          ]
        },
        {
          "output_type": "stream",
          "name": "stdout",
          "text": [
            "frame=99022 fps=108 q=29.0 size=  421120kB time=00:55:01.16 bitrate=1045.0kbits/s dup=34 drop=0 speed=3.59x\n"
          ]
        },
        {
          "output_type": "stream",
          "name": "stderr",
          "text": [
            "\rProcessing video:  92%|█████████▏| 3302.57/3600 [15:21<01:22,  3.58s/s]"
          ]
        },
        {
          "output_type": "stream",
          "name": "stdout",
          "text": [
            "frame=99064 fps=108 q=29.0 size=  421376kB time=00:55:02.57 bitrate=1045.2kbits/s dup=34 drop=0 speed=3.59x\n"
          ]
        },
        {
          "output_type": "stream",
          "name": "stderr",
          "text": [
            "\rProcessing video:  92%|█████████▏| 3303.72/3600 [15:22<01:22,  3.58s/s]"
          ]
        },
        {
          "output_type": "stream",
          "name": "stdout",
          "text": [
            "frame=99099 fps=108 q=29.0 size=  421632kB time=00:55:03.72 bitrate=1045.5kbits/s dup=34 drop=0 speed=3.59x\n"
          ]
        },
        {
          "output_type": "stream",
          "name": "stderr",
          "text": [
            "\rProcessing video:  92%|█████████▏| 3304.96/3600 [15:22<01:22,  3.58s/s]"
          ]
        },
        {
          "output_type": "stream",
          "name": "stdout",
          "text": [
            "frame=99136 fps=108 q=29.0 size=  422144kB time=00:55:04.96 bitrate=1046.4kbits/s dup=34 drop=0 speed=3.59x\n"
          ]
        },
        {
          "output_type": "stream",
          "name": "stderr",
          "text": [
            "\rProcessing video:  92%|█████████▏| 3306.15/3600 [15:23<01:22,  3.58s/s]"
          ]
        },
        {
          "output_type": "stream",
          "name": "stdout",
          "text": [
            "frame=99172 fps=108 q=29.0 size=  422400kB time=00:55:06.15 bitrate=1046.6kbits/s dup=34 drop=0 speed=3.58x\n"
          ]
        },
        {
          "output_type": "stream",
          "name": "stderr",
          "text": [
            "\rProcessing video:  92%|█████████▏| 3307.39/3600 [15:23<01:21,  3.58s/s]"
          ]
        },
        {
          "output_type": "stream",
          "name": "stdout",
          "text": [
            "frame=99209 fps=108 q=29.0 size=  422656kB time=00:55:07.39 bitrate=1046.9kbits/s dup=34 drop=0 speed=3.58x\n"
          ]
        },
        {
          "output_type": "stream",
          "name": "stderr",
          "text": [
            "\rProcessing video:  92%|█████████▏| 3308.62/3600 [15:24<01:21,  3.58s/s]"
          ]
        },
        {
          "output_type": "stream",
          "name": "stdout",
          "text": [
            "frame=99246 fps=107 q=29.0 size=  422912kB time=00:55:08.62 bitrate=1047.1kbits/s dup=34 drop=0 speed=3.58x\n"
          ]
        },
        {
          "output_type": "stream",
          "name": "stderr",
          "text": [
            "\rProcessing video:  92%|█████████▏| 3310.16/3600 [15:24<01:20,  3.58s/s]"
          ]
        },
        {
          "output_type": "stream",
          "name": "stdout",
          "text": [
            "frame=99292 fps=107 q=29.0 size=  423168kB time=00:55:10.16 bitrate=1047.3kbits/s dup=34 drop=0 speed=3.58x\n"
          ]
        },
        {
          "output_type": "stream",
          "name": "stderr",
          "text": [
            "\rProcessing video:  92%|█████████▏| 3311.7/3600 [15:25<01:20,  3.58s/s] "
          ]
        },
        {
          "output_type": "stream",
          "name": "stdout",
          "text": [
            "frame=99338 fps=107 q=29.0 size=  423424kB time=00:55:11.70 bitrate=1047.4kbits/s dup=34 drop=0 speed=3.58x\n"
          ]
        },
        {
          "output_type": "stream",
          "name": "stderr",
          "text": [
            "\rProcessing video:  92%|█████████▏| 3313.32/3600 [15:25<01:20,  3.58s/s]"
          ]
        },
        {
          "output_type": "stream",
          "name": "stdout",
          "text": [
            "frame=99387 fps=107 q=29.0 size=  423680kB time=00:55:13.32 bitrate=1047.5kbits/s dup=34 drop=0 speed=3.58x\n"
          ]
        },
        {
          "output_type": "stream",
          "name": "stderr",
          "text": [
            "\rProcessing video:  92%|█████████▏| 3314.83/3600 [15:26<01:19,  3.58s/s]"
          ]
        },
        {
          "output_type": "stream",
          "name": "stdout",
          "text": [
            "frame=99432 fps=107 q=29.0 size=  423936kB time=00:55:14.83 bitrate=1047.7kbits/s dup=34 drop=0 speed=3.58x\n"
          ]
        },
        {
          "output_type": "stream",
          "name": "stderr",
          "text": [
            "\rProcessing video:  92%|█████████▏| 3316.28/3600 [15:26<01:19,  3.58s/s]"
          ]
        },
        {
          "output_type": "stream",
          "name": "stdout",
          "text": [
            "frame=99476 fps=107 q=29.0 size=  424192kB time=00:55:16.28 bitrate=1047.9kbits/s dup=34 drop=0 speed=3.58x\n"
          ]
        },
        {
          "output_type": "stream",
          "name": "stderr",
          "text": [
            "\rProcessing video:  92%|█████████▏| 3317.82/3600 [15:27<01:18,  3.58s/s]"
          ]
        },
        {
          "output_type": "stream",
          "name": "stdout",
          "text": [
            "frame=99522 fps=107 q=29.0 size=  424192kB time=00:55:17.82 bitrate=1047.4kbits/s dup=34 drop=0 speed=3.58x\n"
          ]
        },
        {
          "output_type": "stream",
          "name": "stderr",
          "text": [
            "\rProcessing video:  92%|█████████▏| 3319.48/3600 [15:27<01:18,  3.58s/s]"
          ]
        },
        {
          "output_type": "stream",
          "name": "stdout",
          "text": [
            "frame=99572 fps=107 q=29.0 size=  424448kB time=00:55:19.48 bitrate=1047.5kbits/s dup=34 drop=0 speed=3.58x\n"
          ]
        },
        {
          "output_type": "stream",
          "name": "stderr",
          "text": [
            "\rProcessing video:  92%|█████████▏| 3321.13/3600 [15:28<01:17,  3.58s/s]"
          ]
        },
        {
          "output_type": "stream",
          "name": "stdout",
          "text": [
            "frame=99621 fps=107 q=29.0 size=  424704kB time=00:55:21.13 bitrate=1047.6kbits/s dup=34 drop=0 speed=3.58x\n"
          ]
        },
        {
          "output_type": "stream",
          "name": "stderr",
          "text": [
            "\rProcessing video:  92%|█████████▏| 3322.73/3600 [15:28<01:17,  3.58s/s]"
          ]
        },
        {
          "output_type": "stream",
          "name": "stdout",
          "text": [
            "frame=99669 fps=107 q=29.0 size=  424960kB time=00:55:22.73 bitrate=1047.7kbits/s dup=34 drop=0 speed=3.58x\n"
          ]
        },
        {
          "output_type": "stream",
          "name": "stderr",
          "text": [
            "\rProcessing video:  92%|█████████▏| 3324.33/3600 [15:29<01:17,  3.58s/s]"
          ]
        },
        {
          "output_type": "stream",
          "name": "stdout",
          "text": [
            "frame=99717 fps=107 q=29.0 size=  425216kB time=00:55:24.33 bitrate=1047.8kbits/s dup=34 drop=0 speed=3.58x\n"
          ]
        },
        {
          "output_type": "stream",
          "name": "stderr",
          "text": [
            "\rProcessing video:  92%|█████████▏| 3325.82/3600 [15:29<01:16,  3.58s/s]"
          ]
        },
        {
          "output_type": "stream",
          "name": "stdout",
          "text": [
            "frame=99762 fps=107 q=29.0 size=  425472kB time=00:55:25.82 bitrate=1048.0kbits/s dup=34 drop=0 speed=3.58x\n"
          ]
        },
        {
          "output_type": "stream",
          "name": "stderr",
          "text": [
            "\rProcessing video:  92%|█████████▏| 3327.36/3600 [15:30<01:16,  3.58s/s]"
          ]
        },
        {
          "output_type": "stream",
          "name": "stdout",
          "text": [
            "frame=99808 fps=107 q=29.0 size=  425472kB time=00:55:27.36 bitrate=1047.5kbits/s dup=34 drop=0 speed=3.58x\n"
          ]
        },
        {
          "output_type": "stream",
          "name": "stderr",
          "text": [
            "\rProcessing video:  92%|█████████▏| 3328.83/3600 [15:30<01:15,  3.58s/s]"
          ]
        },
        {
          "output_type": "stream",
          "name": "stdout",
          "text": [
            "frame=99852 fps=107 q=29.0 size=  425728kB time=00:55:28.83 bitrate=1047.7kbits/s dup=34 drop=0 speed=3.58x\n"
          ]
        },
        {
          "output_type": "stream",
          "name": "stderr",
          "text": [
            "\rProcessing video:  93%|█████████▎| 3330.19/3600 [15:31<01:15,  3.58s/s]"
          ]
        },
        {
          "output_type": "stream",
          "name": "stdout",
          "text": [
            "frame=99893 fps=107 q=29.0 size=  425984kB time=00:55:30.19 bitrate=1047.9kbits/s dup=34 drop=0 speed=3.58x\n"
          ]
        },
        {
          "output_type": "stream",
          "name": "stderr",
          "text": [
            "\rProcessing video:  93%|█████████▎| 3331.43/3600 [15:31<01:15,  3.58s/s]"
          ]
        },
        {
          "output_type": "stream",
          "name": "stdout",
          "text": [
            "frame=99930 fps=107 q=29.0 size=  426496kB time=00:55:31.43 bitrate=1048.8kbits/s dup=34 drop=0 speed=3.58x\n"
          ]
        },
        {
          "output_type": "stream",
          "name": "stderr",
          "text": [
            "\rProcessing video:  93%|█████████▎| 3332.6/3600 [15:32<01:14,  3.57s/s] "
          ]
        },
        {
          "output_type": "stream",
          "name": "stdout",
          "text": [
            "frame=99965 fps=107 q=29.0 size=  426752kB time=00:55:32.60 bitrate=1049.0kbits/s dup=34 drop=0 speed=3.58x\n"
          ]
        },
        {
          "output_type": "stream",
          "name": "stderr",
          "text": [
            "\rProcessing video:  93%|█████████▎| 3333.82/3600 [15:32<01:14,  3.57s/s]"
          ]
        },
        {
          "output_type": "stream",
          "name": "stdout",
          "text": [
            "frame=100002 fps=107 q=29.0 size=  427008kB time=00:55:33.82 bitrate=1049.3kbits/s dup=34 drop=0 speed=3.58x\n"
          ]
        },
        {
          "output_type": "stream",
          "name": "stderr",
          "text": [
            "\rProcessing video:  93%|█████████▎| 3335.16/3600 [15:33<01:14,  3.57s/s]"
          ]
        },
        {
          "output_type": "stream",
          "name": "stdout",
          "text": [
            "frame=100042 fps=107 q=29.0 size=  427264kB time=00:55:35.16 bitrate=1049.5kbits/s dup=34 drop=0 speed=3.58x\n"
          ]
        },
        {
          "output_type": "stream",
          "name": "stderr",
          "text": [
            "\rProcessing video:  93%|█████████▎| 3336.36/3600 [15:33<01:13,  3.57s/s]"
          ]
        },
        {
          "output_type": "stream",
          "name": "stdout",
          "text": [
            "frame=100078 fps=107 q=29.0 size=  427520kB time=00:55:36.36 bitrate=1049.7kbits/s dup=34 drop=0 speed=3.58x\n"
          ]
        },
        {
          "output_type": "stream",
          "name": "stderr",
          "text": [
            "\rProcessing video:  93%|█████████▎| 3337.6/3600 [15:34<01:13,  3.57s/s] "
          ]
        },
        {
          "output_type": "stream",
          "name": "stdout",
          "text": [
            "frame=100115 fps=107 q=29.0 size=  428032kB time=00:55:37.60 bitrate=1050.6kbits/s dup=34 drop=0 speed=3.58x\n"
          ]
        },
        {
          "output_type": "stream",
          "name": "stderr",
          "text": [
            "\rProcessing video:  93%|█████████▎| 3338.85/3600 [15:34<01:13,  3.57s/s]"
          ]
        },
        {
          "output_type": "stream",
          "name": "stdout",
          "text": [
            "frame=100153 fps=107 q=29.0 size=  428288kB time=00:55:38.85 bitrate=1050.8kbits/s dup=34 drop=0 speed=3.58x\n"
          ]
        },
        {
          "output_type": "stream",
          "name": "stderr",
          "text": [
            "\rProcessing video:  93%|█████████▎| 3340.2/3600 [15:35<01:12,  3.57s/s] "
          ]
        },
        {
          "output_type": "stream",
          "name": "stdout",
          "text": [
            "frame=100193 fps=107 q=29.0 size=  428544kB time=00:55:40.20 bitrate=1051.0kbits/s dup=34 drop=0 speed=3.57x\n"
          ]
        },
        {
          "output_type": "stream",
          "name": "stderr",
          "text": [
            "\rProcessing video:  93%|█████████▎| 3341.56/3600 [15:35<01:12,  3.57s/s]"
          ]
        },
        {
          "output_type": "stream",
          "name": "stdout",
          "text": [
            "frame=100234 fps=107 q=29.0 size=  428800kB time=00:55:41.56 bitrate=1051.2kbits/s dup=34 drop=0 speed=3.57x\n"
          ]
        },
        {
          "output_type": "stream",
          "name": "stderr",
          "text": [
            "\rProcessing video:  93%|█████████▎| 3342.86/3600 [15:36<01:12,  3.57s/s]"
          ]
        },
        {
          "output_type": "stream",
          "name": "stdout",
          "text": [
            "frame=100273 fps=107 q=29.0 size=  429312kB time=00:55:42.86 bitrate=1052.1kbits/s dup=34 drop=0 speed=3.57x\n"
          ]
        },
        {
          "output_type": "stream",
          "name": "stderr",
          "text": [
            "\rProcessing video:  93%|█████████▎| 3344.06/3600 [15:36<01:11,  3.57s/s]"
          ]
        },
        {
          "output_type": "stream",
          "name": "stdout",
          "text": [
            "frame=100309 fps=107 q=29.0 size=  429568kB time=00:55:44.06 bitrate=1052.3kbits/s dup=34 drop=0 speed=3.57x\n"
          ]
        },
        {
          "output_type": "stream",
          "name": "stderr",
          "text": [
            "\rProcessing video:  93%|█████████▎| 3345.3/3600 [15:37<01:11,  3.57s/s] "
          ]
        },
        {
          "output_type": "stream",
          "name": "stdout",
          "text": [
            "frame=100346 fps=107 q=29.0 size=  429824kB time=00:55:45.30 bitrate=1052.6kbits/s dup=34 drop=0 speed=3.57x\n"
          ]
        },
        {
          "output_type": "stream",
          "name": "stderr",
          "text": [
            "\rProcessing video:  93%|█████████▎| 3346.68/3600 [15:37<01:10,  3.57s/s]"
          ]
        },
        {
          "output_type": "stream",
          "name": "stdout",
          "text": [
            "frame=100388 fps=107 q=29.0 size=  430080kB time=00:55:46.68 bitrate=1052.7kbits/s dup=34 drop=0 speed=3.57x\n"
          ]
        },
        {
          "output_type": "stream",
          "name": "stderr",
          "text": [
            "\rProcessing video:  93%|█████████▎| 3347.84/3600 [15:38<01:10,  3.57s/s]"
          ]
        },
        {
          "output_type": "stream",
          "name": "stdout",
          "text": [
            "frame=100422 fps=107 q=29.0 size=  430336kB time=00:55:47.84 bitrate=1053.0kbits/s dup=34 drop=0 speed=3.57x\n"
          ]
        },
        {
          "output_type": "stream",
          "name": "stderr",
          "text": [
            "\rProcessing video:  93%|█████████▎| 3349.09/3600 [15:38<01:10,  3.57s/s]"
          ]
        },
        {
          "output_type": "stream",
          "name": "stdout",
          "text": [
            "frame=100460 fps=107 q=29.0 size=  430592kB time=00:55:49.09 bitrate=1053.2kbits/s dup=34 drop=0 speed=3.57x\n"
          ]
        },
        {
          "output_type": "stream",
          "name": "stderr",
          "text": [
            "\rProcessing video:  93%|█████████▎| 3350.29/3600 [15:39<01:10,  3.57s/s]"
          ]
        },
        {
          "output_type": "stream",
          "name": "stdout",
          "text": [
            "frame=100496 fps=107 q=29.0 size=  430848kB time=00:55:50.29 bitrate=1053.5kbits/s dup=34 drop=0 speed=3.57x\n"
          ]
        },
        {
          "output_type": "stream",
          "name": "stderr",
          "text": [
            "\rProcessing video:  93%|█████████▎| 3351.65/3600 [15:39<01:09,  3.57s/s]"
          ]
        },
        {
          "output_type": "stream",
          "name": "stdout",
          "text": [
            "frame=100537 fps=107 q=29.0 size=  431360kB time=00:55:51.65 bitrate=1054.3kbits/s dup=34 drop=0 speed=3.57x\n"
          ]
        },
        {
          "output_type": "stream",
          "name": "stderr",
          "text": [
            "\rProcessing video:  93%|█████████▎| 3352.96/3600 [15:40<01:09,  3.57s/s]"
          ]
        },
        {
          "output_type": "stream",
          "name": "stdout",
          "text": [
            "frame=100576 fps=107 q=29.0 size=  431616kB time=00:55:52.96 bitrate=1054.5kbits/s dup=34 drop=0 speed=3.57x\n"
          ]
        },
        {
          "output_type": "stream",
          "name": "stderr",
          "text": [
            "\rProcessing video:  93%|█████████▎| 3354.24/3600 [15:40<01:08,  3.56s/s]"
          ]
        },
        {
          "output_type": "stream",
          "name": "stdout",
          "text": [
            "frame=100614 fps=107 q=29.0 size=  431872kB time=00:55:54.24 bitrate=1054.8kbits/s dup=34 drop=0 speed=3.57x\n"
          ]
        },
        {
          "output_type": "stream",
          "name": "stderr",
          "text": [
            "\rProcessing video:  93%|█████████▎| 3355.52/3600 [15:41<01:08,  3.56s/s]"
          ]
        },
        {
          "output_type": "stream",
          "name": "stdout",
          "text": [
            "frame=100653 fps=107 q=29.0 size=  432128kB time=00:55:55.52 bitrate=1055.0kbits/s dup=34 drop=0 speed=3.57x\n"
          ]
        },
        {
          "output_type": "stream",
          "name": "stderr",
          "text": [
            "\rProcessing video:  93%|█████████▎| 3356.82/3600 [15:42<01:08,  3.56s/s]"
          ]
        },
        {
          "output_type": "stream",
          "name": "stdout",
          "text": [
            "frame=100692 fps=107 q=29.0 size=  432640kB time=00:55:56.82 bitrate=1055.8kbits/s dup=34 drop=0 speed=3.57x\n"
          ]
        },
        {
          "output_type": "stream",
          "name": "stderr",
          "text": [
            "\rProcessing video:  93%|█████████▎| 3358.2/3600 [15:42<01:07,  3.56s/s] "
          ]
        },
        {
          "output_type": "stream",
          "name": "stdout",
          "text": [
            "frame=100733 fps=107 q=29.0 size=  432896kB time=00:55:58.20 bitrate=1056.0kbits/s dup=34 drop=0 speed=3.57x\n"
          ]
        },
        {
          "output_type": "stream",
          "name": "stderr",
          "text": [
            "\rProcessing video:  93%|█████████▎| 3359.57/3600 [15:43<01:07,  3.56s/s]"
          ]
        },
        {
          "output_type": "stream",
          "name": "stdout",
          "text": [
            "frame=100774 fps=107 q=29.0 size=  433152kB time=00:55:59.57 bitrate=1056.2kbits/s dup=34 drop=0 speed=3.57x\n"
          ]
        },
        {
          "output_type": "stream",
          "name": "stderr",
          "text": [
            "\rProcessing video:  93%|█████████▎| 3361.96/3600 [15:43<01:06,  3.56s/s]"
          ]
        },
        {
          "output_type": "stream",
          "name": "stdout",
          "text": [
            "frame=100846 fps=107 q=29.0 size=  433408kB time=00:56:01.96 bitrate=1056.1kbits/s dup=34 drop=0 speed=3.57x\n"
          ]
        },
        {
          "output_type": "stream",
          "name": "stderr",
          "text": [
            "\rProcessing video:  93%|█████████▎| 3364.67/3600 [15:44<01:06,  3.56s/s]"
          ]
        },
        {
          "output_type": "stream",
          "name": "stdout",
          "text": [
            "frame=100927 fps=107 q=29.0 size=  433664kB time=00:56:04.67 bitrate=1055.8kbits/s dup=34 drop=0 speed=3.57x\n"
          ]
        },
        {
          "output_type": "stream",
          "name": "stderr",
          "text": [
            "\rProcessing video:  94%|█████████▎| 3367.33/3600 [15:44<01:05,  3.57s/s]"
          ]
        },
        {
          "output_type": "stream",
          "name": "stdout",
          "text": [
            "frame=101007 fps=107 q=29.0 size=  433920kB time=00:56:07.33 bitrate=1055.6kbits/s dup=34 drop=0 speed=3.57x\n"
          ]
        },
        {
          "output_type": "stream",
          "name": "stderr",
          "text": [
            "\rProcessing video:  94%|█████████▎| 3369.89/3600 [15:45<01:04,  3.57s/s]"
          ]
        },
        {
          "output_type": "stream",
          "name": "stdout",
          "text": [
            "frame=101084 fps=107 q=29.0 size=  434176kB time=00:56:09.89 bitrate=1055.5kbits/s dup=34 drop=0 speed=3.57x\n"
          ]
        },
        {
          "output_type": "stream",
          "name": "stderr",
          "text": [
            "\rProcessing video:  94%|█████████▎| 3372.43/3600 [15:45<01:03,  3.57s/s]"
          ]
        },
        {
          "output_type": "stream",
          "name": "stdout",
          "text": [
            "frame=101160 fps=107 q=29.0 size=  434432kB time=00:56:12.43 bitrate=1055.3kbits/s dup=34 drop=0 speed=3.57x\n"
          ]
        },
        {
          "output_type": "stream",
          "name": "stderr",
          "text": [
            "\rProcessing video:  94%|█████████▎| 3374.82/3600 [15:46<01:03,  3.57s/s]"
          ]
        },
        {
          "output_type": "stream",
          "name": "stdout",
          "text": [
            "frame=101232 fps=107 q=29.0 size=  434688kB time=00:56:14.82 bitrate=1055.2kbits/s dup=34 drop=0 speed=3.57x\n"
          ]
        },
        {
          "output_type": "stream",
          "name": "stderr",
          "text": [
            "\rProcessing video:  94%|█████████▍| 3377.0/3600 [15:46<01:02,  3.57s/s] "
          ]
        },
        {
          "output_type": "stream",
          "name": "stdout",
          "text": [
            "frame=101297 fps=107 q=29.0 size=  434944kB time=00:56:17.00 bitrate=1055.1kbits/s dup=34 drop=0 speed=3.57x\n"
          ]
        },
        {
          "output_type": "stream",
          "name": "stderr",
          "text": [
            "\rProcessing video:  94%|█████████▍| 3379.2/3600 [15:47<01:01,  3.57s/s]"
          ]
        },
        {
          "output_type": "stream",
          "name": "stdout",
          "text": [
            "frame=101363 fps=107 q=29.0 size=  435200kB time=00:56:19.20 bitrate=1055.0kbits/s dup=34 drop=0 speed=3.57x\n"
          ]
        },
        {
          "output_type": "stream",
          "name": "stderr",
          "text": [
            "\rProcessing video:  94%|█████████▍| 3381.5/3600 [15:47<01:01,  3.57s/s]"
          ]
        },
        {
          "output_type": "stream",
          "name": "stdout",
          "text": [
            "frame=101432 fps=107 q=29.0 size=  435200kB time=00:56:21.50 bitrate=1054.3kbits/s dup=34 drop=0 speed=3.57x\n"
          ]
        },
        {
          "output_type": "stream",
          "name": "stderr",
          "text": [
            "\rProcessing video:  94%|█████████▍| 3383.95/3600 [15:48<01:00,  3.57s/s]"
          ]
        },
        {
          "output_type": "stream",
          "name": "stdout",
          "text": [
            "frame=101506 fps=107 q=29.0 size=  435456kB time=00:56:23.95 bitrate=1054.2kbits/s dup=34 drop=0 speed=3.57x\n"
          ]
        },
        {
          "output_type": "stream",
          "name": "stderr",
          "text": [
            "\rProcessing video:  94%|█████████▍| 3386.15/3600 [15:48<00:59,  3.57s/s]"
          ]
        },
        {
          "output_type": "stream",
          "name": "stdout",
          "text": [
            "frame=101572 fps=107 q=29.0 size=  435712kB time=00:56:26.15 bitrate=1054.1kbits/s dup=34 drop=0 speed=3.57x\n"
          ]
        },
        {
          "output_type": "stream",
          "name": "stderr",
          "text": [
            "\rProcessing video:  94%|█████████▍| 3388.37/3600 [15:49<00:59,  3.57s/s]"
          ]
        },
        {
          "output_type": "stream",
          "name": "stdout",
          "text": [
            "frame=101638 fps=107 q=29.0 size=  435968kB time=00:56:28.37 bitrate=1054.0kbits/s dup=34 drop=0 speed=3.57x\n"
          ]
        },
        {
          "output_type": "stream",
          "name": "stderr",
          "text": [
            "\rProcessing video:  94%|█████████▍| 3390.69/3600 [15:49<00:58,  3.57s/s]"
          ]
        },
        {
          "output_type": "stream",
          "name": "stdout",
          "text": [
            "frame=101708 fps=107 q=29.0 size=  436224kB time=00:56:30.69 bitrate=1053.9kbits/s dup=34 drop=0 speed=3.57x\n"
          ]
        },
        {
          "output_type": "stream",
          "name": "stderr",
          "text": [
            "\rProcessing video:  94%|█████████▍| 3393.19/3600 [15:50<00:57,  3.57s/s]"
          ]
        },
        {
          "output_type": "stream",
          "name": "stdout",
          "text": [
            "frame=101783 fps=107 q=29.0 size=  436480kB time=00:56:33.19 bitrate=1053.8kbits/s dup=34 drop=0 speed=3.57x\n"
          ]
        },
        {
          "output_type": "stream",
          "name": "stderr",
          "text": [
            "\rProcessing video:  94%|█████████▍| 3395.75/3600 [15:50<00:57,  3.57s/s]"
          ]
        },
        {
          "output_type": "stream",
          "name": "stdout",
          "text": [
            "frame=101860 fps=107 q=29.0 size=  436736kB time=00:56:35.75 bitrate=1053.6kbits/s dup=34 drop=0 speed=3.58x\n"
          ]
        },
        {
          "output_type": "stream",
          "name": "stderr",
          "text": [
            "\rProcessing video:  94%|█████████▍| 3398.33/3600 [15:51<00:56,  3.57s/s]"
          ]
        },
        {
          "output_type": "stream",
          "name": "stdout",
          "text": [
            "frame=101937 fps=107 q=29.0 size=  436736kB time=00:56:38.33 bitrate=1052.8kbits/s dup=34 drop=0 speed=3.58x\n"
          ]
        },
        {
          "output_type": "stream",
          "name": "stderr",
          "text": [
            "\rProcessing video:  94%|█████████▍| 3400.93/3600 [15:51<00:55,  3.57s/s]"
          ]
        },
        {
          "output_type": "stream",
          "name": "stdout",
          "text": [
            "frame=102015 fps=107 q=29.0 size=  436992kB time=00:56:40.93 bitrate=1052.6kbits/s dup=34 drop=0 speed=3.58x\n"
          ]
        },
        {
          "output_type": "stream",
          "name": "stderr",
          "text": [
            "\rProcessing video:  95%|█████████▍| 3403.43/3600 [15:52<00:54,  3.57s/s]"
          ]
        },
        {
          "output_type": "stream",
          "name": "stdout",
          "text": [
            "frame=102090 fps=107 q=29.0 size=  437248kB time=00:56:43.43 bitrate=1052.4kbits/s dup=34 drop=0 speed=3.58x\n"
          ]
        },
        {
          "output_type": "stream",
          "name": "stderr",
          "text": [
            "\rProcessing video:  95%|█████████▍| 3405.82/3600 [15:52<00:54,  3.58s/s]"
          ]
        },
        {
          "output_type": "stream",
          "name": "stdout",
          "text": [
            "frame=102162 fps=107 q=29.0 size=  437504kB time=00:56:45.82 bitrate=1052.3kbits/s dup=34 drop=0 speed=3.58x\n"
          ]
        },
        {
          "output_type": "stream",
          "name": "stderr",
          "text": [
            "\rProcessing video:  95%|█████████▍| 3408.19/3600 [15:53<00:53,  3.58s/s]"
          ]
        },
        {
          "output_type": "stream",
          "name": "stdout",
          "text": [
            "frame=102233 fps=107 q=29.0 size=  437760kB time=00:56:48.19 bitrate=1052.2kbits/s dup=34 drop=0 speed=3.58x\n"
          ]
        },
        {
          "output_type": "stream",
          "name": "stderr",
          "text": [
            "\rProcessing video:  95%|█████████▍| 3410.62/3600 [15:53<00:52,  3.58s/s]"
          ]
        },
        {
          "output_type": "stream",
          "name": "stdout",
          "text": [
            "frame=102306 fps=107 q=29.0 size=  438016kB time=00:56:50.62 bitrate=1052.1kbits/s dup=34 drop=0 speed=3.58x\n"
          ]
        },
        {
          "output_type": "stream",
          "name": "stderr",
          "text": [
            "\rProcessing video:  95%|█████████▍| 3413.09/3600 [15:54<00:52,  3.58s/s]"
          ]
        },
        {
          "output_type": "stream",
          "name": "stdout",
          "text": [
            "frame=102380 fps=107 q=29.0 size=  438272kB time=00:56:53.09 bitrate=1051.9kbits/s dup=34 drop=0 speed=3.58x\n"
          ]
        },
        {
          "output_type": "stream",
          "name": "stderr",
          "text": [
            "\rProcessing video:  95%|█████████▍| 3415.72/3600 [15:54<00:51,  3.58s/s]"
          ]
        },
        {
          "output_type": "stream",
          "name": "stdout",
          "text": [
            "frame=102459 fps=107 q=29.0 size=  438272kB time=00:56:55.72 bitrate=1051.1kbits/s dup=34 drop=0 speed=3.58x\n"
          ]
        },
        {
          "output_type": "stream",
          "name": "stderr",
          "text": [
            "\rProcessing video:  95%|█████████▍| 3418.32/3600 [15:55<00:50,  3.58s/s]"
          ]
        },
        {
          "output_type": "stream",
          "name": "stdout",
          "text": [
            "frame=102537 fps=107 q=29.0 size=  438528kB time=00:56:58.32 bitrate=1050.9kbits/s dup=34 drop=0 speed=3.58x\n"
          ]
        },
        {
          "output_type": "stream",
          "name": "stderr",
          "text": [
            "\rProcessing video:  95%|█████████▌| 3420.73/3600 [15:55<00:50,  3.58s/s]"
          ]
        },
        {
          "output_type": "stream",
          "name": "stdout",
          "text": [
            "frame=102609 fps=107 q=29.0 size=  438784kB time=00:57:00.73 bitrate=1050.8kbits/s dup=34 drop=0 speed=3.58x\n"
          ]
        },
        {
          "output_type": "stream",
          "name": "stderr",
          "text": [
            "\rProcessing video:  95%|█████████▌| 3423.27/3600 [15:56<00:49,  3.58s/s]"
          ]
        },
        {
          "output_type": "stream",
          "name": "stdout",
          "text": [
            "frame=102685 fps=107 q=29.0 size=  439040kB time=00:57:03.27 bitrate=1050.6kbits/s dup=34 drop=0 speed=3.58x\n"
          ]
        },
        {
          "output_type": "stream",
          "name": "stderr",
          "text": [
            "\rProcessing video:  95%|█████████▌| 3425.72/3600 [15:56<00:48,  3.58s/s]"
          ]
        },
        {
          "output_type": "stream",
          "name": "stdout",
          "text": [
            "frame=102759 fps=108 q=29.0 size=  439296kB time=00:57:05.72 bitrate=1050.5kbits/s dup=34 drop=0 speed=3.58x\n"
          ]
        },
        {
          "output_type": "stream",
          "name": "stderr",
          "text": [
            "\rProcessing video:  95%|█████████▌| 3428.09/3600 [15:57<00:47,  3.58s/s]"
          ]
        },
        {
          "output_type": "stream",
          "name": "stdout",
          "text": [
            "frame=102830 fps=108 q=29.0 size=  439552kB time=00:57:08.09 bitrate=1050.4kbits/s dup=34 drop=0 speed=3.58x\n"
          ]
        },
        {
          "output_type": "stream",
          "name": "stderr",
          "text": [
            "\rProcessing video:  95%|█████████▌| 3430.57/3600 [15:57<00:47,  3.58s/s]"
          ]
        },
        {
          "output_type": "stream",
          "name": "stdout",
          "text": [
            "frame=102904 fps=108 q=29.0 size=  439808kB time=00:57:10.57 bitrate=1050.2kbits/s dup=34 drop=0 speed=3.59x\n"
          ]
        },
        {
          "output_type": "stream",
          "name": "stderr",
          "text": [
            "\rProcessing video:  95%|█████████▌| 3432.93/3600 [15:58<00:46,  3.58s/s]"
          ]
        },
        {
          "output_type": "stream",
          "name": "stdout",
          "text": [
            "frame=102975 fps=108 q=29.0 size=  440064kB time=00:57:12.93 bitrate=1050.1kbits/s dup=34 drop=0 speed=3.59x\n"
          ]
        },
        {
          "output_type": "stream",
          "name": "stderr",
          "text": [
            "\rProcessing video:  95%|█████████▌| 3435.32/3600 [15:58<00:45,  3.58s/s]"
          ]
        },
        {
          "output_type": "stream",
          "name": "stdout",
          "text": [
            "frame=103047 fps=108 q=29.0 size=  440320kB time=00:57:15.32 bitrate=1050.0kbits/s dup=34 drop=0 speed=3.59x\n"
          ]
        },
        {
          "output_type": "stream",
          "name": "stderr",
          "text": [
            "\rProcessing video:  95%|█████████▌| 3437.82/3600 [15:59<00:45,  3.58s/s]"
          ]
        },
        {
          "output_type": "stream",
          "name": "stdout",
          "text": [
            "frame=103122 fps=108 q=29.0 size=  440576kB time=00:57:17.82 bitrate=1049.8kbits/s dup=34 drop=0 speed=3.59x\n"
          ]
        },
        {
          "output_type": "stream",
          "name": "stderr",
          "text": [
            "\rProcessing video:  96%|█████████▌| 3440.4/3600 [15:59<00:44,  3.59s/s] "
          ]
        },
        {
          "output_type": "stream",
          "name": "stdout",
          "text": [
            "frame=103199 fps=108 q=29.0 size=  440832kB time=00:57:20.40 bitrate=1049.7kbits/s dup=34 drop=0 speed=3.59x\n"
          ]
        },
        {
          "output_type": "stream",
          "name": "stderr",
          "text": [
            "\rProcessing video:  96%|█████████▌| 3442.92/3600 [16:00<00:43,  3.59s/s]"
          ]
        },
        {
          "output_type": "stream",
          "name": "stdout",
          "text": [
            "frame=103275 fps=108 q=29.0 size=  440832kB time=00:57:22.92 bitrate=1048.9kbits/s dup=34 drop=0 speed=3.59x\n"
          ]
        },
        {
          "output_type": "stream",
          "name": "stderr",
          "text": [
            "\rProcessing video:  96%|█████████▌| 3445.44/3600 [16:00<00:43,  3.59s/s]"
          ]
        },
        {
          "output_type": "stream",
          "name": "stdout",
          "text": [
            "frame=103350 fps=108 q=29.0 size=  441088kB time=00:57:25.44 bitrate=1048.7kbits/s dup=34 drop=0 speed=3.59x\n"
          ]
        },
        {
          "output_type": "stream",
          "name": "stderr",
          "text": [
            "\rProcessing video:  96%|█████████▌| 3447.95/3600 [16:01<00:42,  3.59s/s]"
          ]
        },
        {
          "output_type": "stream",
          "name": "stdout",
          "text": [
            "frame=103426 fps=108 q=29.0 size=  441344kB time=00:57:27.95 bitrate=1048.6kbits/s dup=34 drop=0 speed=3.59x\n"
          ]
        },
        {
          "output_type": "stream",
          "name": "stderr",
          "text": [
            "\rProcessing video:  96%|█████████▌| 3450.49/3600 [16:01<00:41,  3.59s/s]"
          ]
        },
        {
          "output_type": "stream",
          "name": "stdout",
          "text": [
            "frame=103502 fps=108 q=29.0 size=  441600kB time=00:57:30.49 bitrate=1048.4kbits/s dup=34 drop=0 speed=3.59x\n"
          ]
        },
        {
          "output_type": "stream",
          "name": "stderr",
          "text": [
            "\rProcessing video:  96%|█████████▌| 3452.92/3600 [16:02<00:40,  3.59s/s]"
          ]
        },
        {
          "output_type": "stream",
          "name": "stdout",
          "text": [
            "frame=103575 fps=108 q=29.0 size=  441856kB time=00:57:32.92 bitrate=1048.3kbits/s dup=34 drop=0 speed=3.59x\n"
          ]
        },
        {
          "output_type": "stream",
          "name": "stderr",
          "text": [
            "\rProcessing video:  96%|█████████▌| 3455.36/3600 [16:02<00:40,  3.59s/s]"
          ]
        },
        {
          "output_type": "stream",
          "name": "stdout",
          "text": [
            "frame=103648 fps=108 q=29.0 size=  442112kB time=00:57:35.36 bitrate=1048.2kbits/s dup=34 drop=0 speed=3.59x\n"
          ]
        },
        {
          "output_type": "stream",
          "name": "stderr",
          "text": [
            "\rProcessing video:  96%|█████████▌| 3457.96/3600 [16:03<00:39,  3.59s/s]"
          ]
        },
        {
          "output_type": "stream",
          "name": "stdout",
          "text": [
            "frame=103726 fps=108 q=29.0 size=  442368kB time=00:57:37.96 bitrate=1048.0kbits/s dup=34 drop=0 speed=3.59x\n"
          ]
        },
        {
          "output_type": "stream",
          "name": "stderr",
          "text": [
            "\rProcessing video:  96%|█████████▌| 3460.62/3600 [16:03<00:38,  3.59s/s]"
          ]
        },
        {
          "output_type": "stream",
          "name": "stdout",
          "text": [
            "frame=103806 fps=108 q=29.0 size=  442624kB time=00:57:40.62 bitrate=1047.8kbits/s dup=34 drop=0 speed=3.59x\n"
          ]
        },
        {
          "output_type": "stream",
          "name": "stderr",
          "text": [
            "\rProcessing video:  96%|█████████▌| 3463.29/3600 [16:04<00:38,  3.59s/s]"
          ]
        },
        {
          "output_type": "stream",
          "name": "stdout",
          "text": [
            "frame=103886 fps=108 q=29.0 size=  442880kB time=00:57:43.29 bitrate=1047.6kbits/s dup=34 drop=0 speed= 3.6x\n"
          ]
        },
        {
          "output_type": "stream",
          "name": "stderr",
          "text": [
            "\rProcessing video:  96%|█████████▋| 3466.02/3600 [16:04<00:37,  3.59s/s]"
          ]
        },
        {
          "output_type": "stream",
          "name": "stdout",
          "text": [
            "frame=103968 fps=108 q=29.0 size=  442880kB time=00:57:46.02 bitrate=1046.8kbits/s dup=34 drop=0 speed= 3.6x\n"
          ]
        },
        {
          "output_type": "stream",
          "name": "stderr",
          "text": [
            "\rProcessing video:  96%|█████████▋| 3468.67/3600 [16:05<00:36,  3.59s/s]"
          ]
        },
        {
          "output_type": "stream",
          "name": "stdout",
          "text": [
            "frame=104047 fps=108 q=29.0 size=  443136kB time=00:57:48.67 bitrate=1046.6kbits/s dup=34 drop=0 speed= 3.6x\n"
          ]
        },
        {
          "output_type": "stream",
          "name": "stderr",
          "text": [
            "\rProcessing video:  96%|█████████▋| 3471.1/3600 [16:05<00:35,  3.59s/s] "
          ]
        },
        {
          "output_type": "stream",
          "name": "stdout",
          "text": [
            "frame=104120 fps=108 q=29.0 size=  443392kB time=00:57:51.10 bitrate=1046.4kbits/s dup=34 drop=0 speed= 3.6x\n"
          ]
        },
        {
          "output_type": "stream",
          "name": "stderr",
          "text": [
            "\rProcessing video:  96%|█████████▋| 3472.59/3600 [16:06<00:35,  3.59s/s]"
          ]
        },
        {
          "output_type": "stream",
          "name": "stdout",
          "text": [
            "frame=104165 fps=108 q=29.0 size=  443392kB time=00:57:52.59 bitrate=1046.0kbits/s dup=34 drop=0 speed= 3.6x\n"
          ]
        },
        {
          "output_type": "stream",
          "name": "stderr",
          "text": [
            "\rProcessing video:  97%|█████████▋| 3474.85/3600 [16:06<00:34,  3.59s/s]"
          ]
        },
        {
          "output_type": "stream",
          "name": "stdout",
          "text": [
            "frame=104233 fps=108 q=29.0 size=  443648kB time=00:57:54.85 bitrate=1045.9kbits/s dup=34 drop=0 speed= 3.6x\n"
          ]
        },
        {
          "output_type": "stream",
          "name": "stderr",
          "text": [
            "\rProcessing video:  97%|█████████▋| 3477.35/3600 [16:07<00:34,  3.60s/s]"
          ]
        },
        {
          "output_type": "stream",
          "name": "stdout",
          "text": [
            "frame=104308 fps=108 q=29.0 size=  443904kB time=00:57:57.35 bitrate=1045.8kbits/s dup=34 drop=0 speed= 3.6x\n"
          ]
        },
        {
          "output_type": "stream",
          "name": "stderr",
          "text": [
            "\rProcessing video:  97%|█████████▋| 3479.82/3600 [16:07<00:33,  3.60s/s]"
          ]
        },
        {
          "output_type": "stream",
          "name": "stdout",
          "text": [
            "frame=104382 fps=108 q=29.0 size=  444160kB time=00:57:59.82 bitrate=1045.6kbits/s dup=34 drop=0 speed= 3.6x\n"
          ]
        },
        {
          "output_type": "stream",
          "name": "stderr",
          "text": [
            "\rProcessing video:  97%|█████████▋| 3482.43/3600 [16:08<00:32,  3.60s/s]"
          ]
        },
        {
          "output_type": "stream",
          "name": "stdout",
          "text": [
            "frame=104460 fps=108 q=29.0 size=  444416kB time=00:58:02.43 bitrate=1045.4kbits/s dup=34 drop=0 speed= 3.6x\n"
          ]
        },
        {
          "output_type": "stream",
          "name": "stderr",
          "text": [
            "\rProcessing video:  97%|█████████▋| 3484.92/3600 [16:08<00:31,  3.60s/s]"
          ]
        },
        {
          "output_type": "stream",
          "name": "stdout",
          "text": [
            "frame=104535 fps=108 q=29.0 size=  444672kB time=00:58:04.92 bitrate=1045.3kbits/s dup=34 drop=0 speed= 3.6x\n"
          ]
        },
        {
          "output_type": "stream",
          "name": "stderr",
          "text": [
            "\rProcessing video:  97%|█████████▋| 3487.53/3600 [16:09<00:31,  3.60s/s]"
          ]
        },
        {
          "output_type": "stream",
          "name": "stdout",
          "text": [
            "frame=104613 fps=108 q=29.0 size=  444928kB time=00:58:07.53 bitrate=1045.1kbits/s dup=34 drop=0 speed= 3.6x\n"
          ]
        },
        {
          "output_type": "stream",
          "name": "stderr",
          "text": [
            "\rProcessing video:  97%|█████████▋| 3489.66/3600 [16:09<00:30,  3.60s/s]"
          ]
        },
        {
          "output_type": "stream",
          "name": "stdout",
          "text": [
            "frame=104677 fps=108 q=29.0 size=  444928kB time=00:58:09.66 bitrate=1044.5kbits/s dup=34 drop=0 speed= 3.6x\n"
          ]
        },
        {
          "output_type": "stream",
          "name": "stderr",
          "text": [
            "\rProcessing video:  97%|█████████▋| 3492.2/3600 [16:10<00:29,  3.60s/s] "
          ]
        },
        {
          "output_type": "stream",
          "name": "stdout",
          "text": [
            "frame=104753 fps=108 q=29.0 size=  445184kB time=00:58:12.20 bitrate=1044.3kbits/s dup=34 drop=0 speed= 3.6x\n"
          ]
        },
        {
          "output_type": "stream",
          "name": "stderr",
          "text": [
            "\rProcessing video:  97%|█████████▋| 3494.8/3600 [16:10<00:29,  3.60s/s]"
          ]
        },
        {
          "output_type": "stream",
          "name": "stdout",
          "text": [
            "frame=104831 fps=108 q=29.0 size=  445440kB time=00:58:14.80 bitrate=1044.1kbits/s dup=34 drop=0 speed= 3.6x\n"
          ]
        },
        {
          "output_type": "stream",
          "name": "stderr",
          "text": [
            "\rProcessing video:  97%|█████████▋| 3497.23/3600 [16:11<00:28,  3.60s/s]"
          ]
        },
        {
          "output_type": "stream",
          "name": "stdout",
          "text": [
            "frame=104904 fps=108 q=29.0 size=  445696kB time=00:58:17.23 bitrate=1044.0kbits/s dup=34 drop=0 speed= 3.6x\n"
          ]
        },
        {
          "output_type": "stream",
          "name": "stderr",
          "text": [
            "\rProcessing video:  97%|█████████▋| 3499.69/3600 [16:11<00:27,  3.60s/s]"
          ]
        },
        {
          "output_type": "stream",
          "name": "stdout",
          "text": [
            "frame=104978 fps=108 q=29.0 size=  445952kB time=00:58:19.69 bitrate=1043.9kbits/s dup=34 drop=0 speed= 3.6x\n"
          ]
        },
        {
          "output_type": "stream",
          "name": "stderr",
          "text": [
            "\rProcessing video:  97%|█████████▋| 3502.27/3600 [16:12<00:27,  3.60s/s]"
          ]
        },
        {
          "output_type": "stream",
          "name": "stdout",
          "text": [
            "frame=105055 fps=108 q=29.0 size=  446208kB time=00:58:22.27 bitrate=1043.7kbits/s dup=34 drop=0 speed=3.61x\n"
          ]
        },
        {
          "output_type": "stream",
          "name": "stderr",
          "text": [
            "\rProcessing video:  97%|█████████▋| 3504.59/3600 [16:12<00:26,  3.60s/s]"
          ]
        },
        {
          "output_type": "stream",
          "name": "stdout",
          "text": [
            "frame=105125 fps=108 q=29.0 size=  446464kB time=00:58:24.59 bitrate=1043.6kbits/s dup=34 drop=0 speed=3.61x\n"
          ]
        },
        {
          "output_type": "stream",
          "name": "stderr",
          "text": [
            "\rProcessing video:  97%|█████████▋| 3506.96/3600 [16:13<00:25,  3.60s/s]"
          ]
        },
        {
          "output_type": "stream",
          "name": "stdout",
          "text": [
            "frame=105196 fps=108 q=29.0 size=  446720kB time=00:58:26.96 bitrate=1043.5kbits/s dup=34 drop=0 speed=3.61x\n"
          ]
        },
        {
          "output_type": "stream",
          "name": "stderr",
          "text": [
            "\rProcessing video:  97%|█████████▋| 3509.33/3600 [16:13<00:25,  3.60s/s]"
          ]
        },
        {
          "output_type": "stream",
          "name": "stdout",
          "text": [
            "frame=105267 fps=108 q=29.0 size=  446720kB time=00:58:29.33 bitrate=1042.8kbits/s dup=34 drop=0 speed=3.61x\n"
          ]
        },
        {
          "output_type": "stream",
          "name": "stderr",
          "text": [
            "\rProcessing video:  98%|█████████▊| 3511.7/3600 [16:14<00:24,  3.60s/s] "
          ]
        },
        {
          "output_type": "stream",
          "name": "stdout",
          "text": [
            "frame=105338 fps=108 q=29.0 size=  446976kB time=00:58:31.70 bitrate=1042.7kbits/s dup=34 drop=0 speed=3.61x\n"
          ]
        },
        {
          "output_type": "stream",
          "name": "stderr",
          "text": [
            "\rProcessing video:  98%|█████████▊| 3514.3/3600 [16:14<00:23,  3.61s/s]"
          ]
        },
        {
          "output_type": "stream",
          "name": "stdout",
          "text": [
            "frame=105416 fps=108 q=29.0 size=  447232kB time=00:58:34.30 bitrate=1042.5kbits/s dup=34 drop=0 speed=3.61x\n"
          ]
        },
        {
          "output_type": "stream",
          "name": "stderr",
          "text": [
            "\rProcessing video:  98%|█████████▊| 3516.92/3600 [16:15<00:23,  3.61s/s]"
          ]
        },
        {
          "output_type": "stream",
          "name": "stdout",
          "text": [
            "frame=105495 fps=108 q=29.0 size=  447488kB time=00:58:36.92 bitrate=1042.3kbits/s dup=34 drop=0 speed=3.61x\n"
          ]
        },
        {
          "output_type": "stream",
          "name": "stderr",
          "text": [
            "\rProcessing video:  98%|█████████▊| 3519.48/3600 [16:15<00:22,  3.61s/s]"
          ]
        },
        {
          "output_type": "stream",
          "name": "stdout",
          "text": [
            "frame=105572 fps=108 q=29.0 size=  447744kB time=00:58:39.48 bitrate=1042.2kbits/s dup=34 drop=0 speed=3.61x\n"
          ]
        },
        {
          "output_type": "stream",
          "name": "stderr",
          "text": [
            "\rProcessing video:  98%|█████████▊| 3522.13/3600 [16:16<00:21,  3.61s/s]"
          ]
        },
        {
          "output_type": "stream",
          "name": "stdout",
          "text": [
            "frame=105651 fps=108 q=29.0 size=  448000kB time=00:58:42.13 bitrate=1042.0kbits/s dup=34 drop=0 speed=3.61x\n"
          ]
        },
        {
          "output_type": "stream",
          "name": "stderr",
          "text": [
            "\rProcessing video:  98%|█████████▊| 3524.8/3600 [16:16<00:20,  3.61s/s] "
          ]
        },
        {
          "output_type": "stream",
          "name": "stdout",
          "text": [
            "frame=105731 fps=108 q=29.0 size=  448256kB time=00:58:44.80 bitrate=1041.8kbits/s dup=34 drop=0 speed=3.61x\n"
          ]
        },
        {
          "output_type": "stream",
          "name": "stderr",
          "text": [
            "\rProcessing video:  98%|█████████▊| 3527.53/3600 [16:17<00:20,  3.61s/s]"
          ]
        },
        {
          "output_type": "stream",
          "name": "stdout",
          "text": [
            "frame=105813 fps=108 q=29.0 size=  448256kB time=00:58:47.53 bitrate=1041.0kbits/s dup=34 drop=0 speed=3.61x\n"
          ]
        },
        {
          "output_type": "stream",
          "name": "stderr",
          "text": [
            "\rProcessing video:  98%|█████████▊| 3530.38/3600 [16:17<00:19,  3.61s/s]"
          ]
        },
        {
          "output_type": "stream",
          "name": "stdout",
          "text": [
            "frame=105899 fps=108 q=29.0 size=  448512kB time=00:58:50.38 bitrate=1040.7kbits/s dup=34 drop=0 speed=3.61x\n"
          ]
        },
        {
          "output_type": "stream",
          "name": "stderr",
          "text": [
            "\rProcessing video:  98%|█████████▊| 3533.22/3600 [16:18<00:18,  3.61s/s]"
          ]
        },
        {
          "output_type": "stream",
          "name": "stdout",
          "text": [
            "frame=105984 fps=108 q=29.0 size=  448768kB time=00:58:53.22 bitrate=1040.5kbits/s dup=34 drop=0 speed=3.62x\n"
          ]
        },
        {
          "output_type": "stream",
          "name": "stderr",
          "text": [
            "\rProcessing video:  98%|█████████▊| 3536.06/3600 [16:18<00:17,  3.61s/s]"
          ]
        },
        {
          "output_type": "stream",
          "name": "stdout",
          "text": [
            "frame=106069 fps=108 q=29.0 size=  449024kB time=00:58:56.06 bitrate=1040.3kbits/s dup=34 drop=0 speed=3.62x\n"
          ]
        },
        {
          "output_type": "stream",
          "name": "stderr",
          "text": [
            "\rProcessing video:  98%|█████████▊| 3538.83/3600 [16:19<00:16,  3.61s/s]"
          ]
        },
        {
          "output_type": "stream",
          "name": "stdout",
          "text": [
            "frame=106152 fps=108 q=29.0 size=  449280kB time=00:58:58.83 bitrate=1040.0kbits/s dup=34 drop=0 speed=3.62x\n"
          ]
        },
        {
          "output_type": "stream",
          "name": "stderr",
          "text": [
            "\rProcessing video:  98%|█████████▊| 3541.63/3600 [16:19<00:16,  3.61s/s]"
          ]
        },
        {
          "output_type": "stream",
          "name": "stdout",
          "text": [
            "frame=106236 fps=109 q=29.0 size=  449536kB time=00:59:01.63 bitrate=1039.8kbits/s dup=34 drop=0 speed=3.62x\n"
          ]
        },
        {
          "output_type": "stream",
          "name": "stderr",
          "text": [
            "\rProcessing video:  98%|█████████▊| 3544.49/3600 [16:20<00:15,  3.62s/s]"
          ]
        },
        {
          "output_type": "stream",
          "name": "stdout",
          "text": [
            "frame=106322 fps=109 q=29.0 size=  449536kB time=00:59:04.49 bitrate=1039.0kbits/s dup=34 drop=0 speed=3.62x\n"
          ]
        },
        {
          "output_type": "stream",
          "name": "stderr",
          "text": [
            "\rProcessing video:  99%|█████████▊| 3547.26/3600 [16:20<00:14,  3.62s/s]"
          ]
        },
        {
          "output_type": "stream",
          "name": "stdout",
          "text": [
            "frame=106405 fps=109 q=29.0 size=  449792kB time=00:59:07.26 bitrate=1038.7kbits/s dup=34 drop=0 speed=3.62x\n"
          ]
        },
        {
          "output_type": "stream",
          "name": "stderr",
          "text": [
            "\rProcessing video:  99%|█████████▊| 3550.16/3600 [16:21<00:13,  3.62s/s]"
          ]
        },
        {
          "output_type": "stream",
          "name": "stdout",
          "text": [
            "frame=106492 fps=109 q=29.0 size=  450048kB time=00:59:10.16 bitrate=1038.5kbits/s dup=34 drop=0 speed=3.62x\n"
          ]
        },
        {
          "output_type": "stream",
          "name": "stderr",
          "text": [
            "\rProcessing video:  99%|█████████▊| 3552.93/3600 [16:21<00:13,  3.62s/s]"
          ]
        },
        {
          "output_type": "stream",
          "name": "stdout",
          "text": [
            "frame=106575 fps=109 q=29.0 size=  450304kB time=00:59:12.93 bitrate=1038.3kbits/s dup=34 drop=0 speed=3.62x\n"
          ]
        },
        {
          "output_type": "stream",
          "name": "stderr",
          "text": [
            "\rProcessing video:  99%|█████████▉| 3555.56/3600 [16:22<00:12,  3.62s/s]"
          ]
        },
        {
          "output_type": "stream",
          "name": "stdout",
          "text": [
            "frame=106654 fps=109 q=29.0 size=  450560kB time=00:59:15.56 bitrate=1038.1kbits/s dup=34 drop=0 speed=3.62x\n"
          ]
        },
        {
          "output_type": "stream",
          "name": "stderr",
          "text": [
            "\rProcessing video:  99%|█████████▉| 3558.16/3600 [16:22<00:11,  3.62s/s]"
          ]
        },
        {
          "output_type": "stream",
          "name": "stdout",
          "text": [
            "frame=106732 fps=109 q=29.0 size=  450816kB time=00:59:18.16 bitrate=1037.9kbits/s dup=34 drop=0 speed=3.62x\n"
          ]
        },
        {
          "output_type": "stream",
          "name": "stderr",
          "text": [
            "\rProcessing video:  99%|█████████▉| 3560.78/3600 [16:23<00:10,  3.62s/s]"
          ]
        },
        {
          "output_type": "stream",
          "name": "stdout",
          "text": [
            "frame=106811 fps=109 q=29.0 size=  451072kB time=00:59:20.78 bitrate=1037.7kbits/s dup=34 drop=0 speed=3.62x\n"
          ]
        },
        {
          "output_type": "stream",
          "name": "stderr",
          "text": [
            "\rProcessing video:  99%|█████████▉| 3563.43/3600 [16:23<00:10,  3.62s/s]"
          ]
        },
        {
          "output_type": "stream",
          "name": "stdout",
          "text": [
            "frame=106890 fps=109 q=29.0 size=  451328kB time=00:59:23.43 bitrate=1037.6kbits/s dup=34 drop=0 speed=3.63x\n"
          ]
        },
        {
          "output_type": "stream",
          "name": "stderr",
          "text": [
            "\rProcessing video:  99%|█████████▉| 3566.05/3600 [16:24<00:09,  3.62s/s]"
          ]
        },
        {
          "output_type": "stream",
          "name": "stdout",
          "text": [
            "frame=106969 fps=109 q=29.0 size=  451328kB time=00:59:26.05 bitrate=1036.8kbits/s dup=34 drop=0 speed=3.63x\n"
          ]
        },
        {
          "output_type": "stream",
          "name": "stderr",
          "text": [
            "\rProcessing video:  99%|█████████▉| 3568.72/3600 [16:24<00:08,  3.62s/s]"
          ]
        },
        {
          "output_type": "stream",
          "name": "stdout",
          "text": [
            "frame=107049 fps=109 q=29.0 size=  451584kB time=00:59:28.72 bitrate=1036.6kbits/s dup=34 drop=0 speed=3.63x\n"
          ]
        },
        {
          "output_type": "stream",
          "name": "stderr",
          "text": [
            "\rProcessing video:  99%|█████████▉| 3571.52/3600 [16:25<00:07,  3.62s/s]"
          ]
        },
        {
          "output_type": "stream",
          "name": "stdout",
          "text": [
            "frame=107133 fps=109 q=29.0 size=  451840kB time=00:59:31.52 bitrate=1036.4kbits/s dup=34 drop=0 speed=3.63x\n"
          ]
        },
        {
          "output_type": "stream",
          "name": "stderr",
          "text": [
            "\rProcessing video:  99%|█████████▉| 3574.22/3600 [16:25<00:07,  3.63s/s]"
          ]
        },
        {
          "output_type": "stream",
          "name": "stdout",
          "text": [
            "frame=107214 fps=109 q=29.0 size=  452096kB time=00:59:34.22 bitrate=1036.2kbits/s dup=34 drop=0 speed=3.63x\n"
          ]
        },
        {
          "output_type": "stream",
          "name": "stderr",
          "text": [
            "\rProcessing video:  99%|█████████▉| 3576.85/3600 [16:26<00:06,  3.63s/s]"
          ]
        },
        {
          "output_type": "stream",
          "name": "stdout",
          "text": [
            "frame=107293 fps=109 q=29.0 size=  452352kB time=00:59:36.85 bitrate=1036.0kbits/s dup=34 drop=0 speed=3.63x\n"
          ]
        },
        {
          "output_type": "stream",
          "name": "stderr",
          "text": [
            "\rProcessing video:  99%|█████████▉| 3579.39/3600 [16:26<00:05,  3.63s/s]"
          ]
        },
        {
          "output_type": "stream",
          "name": "stdout",
          "text": [
            "frame=107369 fps=109 q=29.0 size=  452608kB time=00:59:39.39 bitrate=1035.9kbits/s dup=34 drop=0 speed=3.63x\n"
          ]
        },
        {
          "output_type": "stream",
          "name": "stderr",
          "text": [
            "\rProcessing video: 100%|█████████▉| 3582.03/3600 [16:27<00:04,  3.63s/s]"
          ]
        },
        {
          "output_type": "stream",
          "name": "stdout",
          "text": [
            "frame=107448 fps=109 q=29.0 size=  452608kB time=00:59:42.03 bitrate=1035.1kbits/s dup=34 drop=0 speed=3.63x\n"
          ]
        },
        {
          "output_type": "stream",
          "name": "stderr",
          "text": [
            "\rProcessing video: 100%|█████████▉| 3584.53/3600 [16:27<00:04,  3.63s/s]"
          ]
        },
        {
          "output_type": "stream",
          "name": "stdout",
          "text": [
            "frame=107523 fps=109 q=29.0 size=  452864kB time=00:59:44.53 bitrate=1035.0kbits/s dup=34 drop=0 speed=3.63x\n"
          ]
        },
        {
          "output_type": "stream",
          "name": "stderr",
          "text": [
            "\rProcessing video: 100%|█████████▉| 3586.85/3600 [16:28<00:03,  3.63s/s]"
          ]
        },
        {
          "output_type": "stream",
          "name": "stdout",
          "text": [
            "frame=107593 fps=109 q=29.0 size=  453120kB time=00:59:46.85 bitrate=1034.9kbits/s dup=34 drop=0 speed=3.63x\n"
          ]
        },
        {
          "output_type": "stream",
          "name": "stderr",
          "text": [
            "\rProcessing video: 100%|█████████▉| 3589.22/3600 [16:28<00:02,  3.63s/s]"
          ]
        },
        {
          "output_type": "stream",
          "name": "stdout",
          "text": [
            "frame=107664 fps=109 q=29.0 size=  453376kB time=00:59:49.22 bitrate=1034.8kbits/s dup=34 drop=0 speed=3.63x\n"
          ]
        },
        {
          "output_type": "stream",
          "name": "stderr",
          "text": [
            "\rProcessing video: 100%|█████████▉| 3591.93/3600 [16:29<00:02,  3.63s/s]"
          ]
        },
        {
          "output_type": "stream",
          "name": "stdout",
          "text": [
            "frame=107745 fps=109 q=29.0 size=  453632kB time=00:59:51.93 bitrate=1034.6kbits/s dup=34 drop=0 speed=3.63x\n"
          ]
        },
        {
          "output_type": "stream",
          "name": "stderr",
          "text": [
            "\rProcessing video: 100%|█████████▉| 3594.56/3600 [16:29<00:01,  3.63s/s]"
          ]
        },
        {
          "output_type": "stream",
          "name": "stdout",
          "text": [
            "frame=107824 fps=109 q=29.0 size=  453888kB time=00:59:54.56 bitrate=1034.4kbits/s dup=34 drop=0 speed=3.63x\n"
          ]
        },
        {
          "output_type": "stream",
          "name": "stderr",
          "text": [
            "Processing video: 100%|█████████▉| 3599.89/3600 [16:30<00:00,  3.63s/s]"
          ]
        },
        {
          "output_type": "stream",
          "name": "stdout",
          "text": [
            "frame=107903 fps=109 q=29.0 size=  454144kB time=00:59:57.20 bitrate=1034.2kbits/s dup=34 drop=0 speed=3.64x\n",
            "frame=107984 fps=109 q=29.0 size=  454400kB time=00:59:59.89 bitrate=1034.0kbits/s dup=34 drop=0 speed=3.64x\n",
            "No more output streams to write to, finishing.\n"
          ]
        },
        {
          "output_type": "stream",
          "name": "stderr",
          "text": [
            "Processing video: 100%|█████████▉| 3599.97/3600 [16:30<00:00,  3.63s/s]\n"
          ]
        },
        {
          "output_type": "stream",
          "name": "stdout",
          "text": [
            "frame=108002 fps=109 q=-1.0 Lsize=  459802kB time=00:59:59.97 bitrate=1046.3kbits/s dup=34 drop=0 speed=3.64x\n",
            "video:339442kB audio:115200kB subtitle:0kB other streams:0kB global headers:0kB muxing overhead: 1.135091%\n",
            "Input file #0 (/content/drive/MyDrive/CV_SBER/temp_cut_video.mp4):\n",
            "Input stream #0:0 (video): 107968 packets read (2245650728 bytes); 107968 frames decoded;\n",
            "Input stream #0:1 (audio): 168750 packets read (117964800 bytes);\n",
            "Total: 276718 packets (2363615528 bytes) demuxed\n",
            "Output file #0 (/content/drive/MyDrive/CV_SBER/Участок_с_полного_матча.mp4):\n",
            "Output stream #0:0 (video): 108002 frames encoded; 108002 packets muxed (347588439 bytes);\n",
            "Output stream #0:1 (audio): 168750 packets muxed (117964800 bytes);\n",
            "Total: 276752 packets (465553239 bytes) muxed\n",
            "[AVIOContext @ 0x59bb38781580] Statistics: 32 seeks, 1817 writeouts\n",
            "[libx264 @ 0x59bb38633d40] frame I:519   Avg QP:19.29  size: 50382\n",
            "[libx264 @ 0x59bb38633d40] frame P:32548 Avg QP:21.90  size:  6620\n",
            "[libx264 @ 0x59bb38633d40] frame B:74935 Avg QP:23.12  size:  1414\n",
            "[libx264 @ 0x59bb38633d40] consecutive B-frames:  3.0%  9.7% 11.0% 76.3%\n",
            "[libx264 @ 0x59bb38633d40] mb I  I16..4: 31.6%  0.0% 68.4%\n",
            "[libx264 @ 0x59bb38633d40] mb P  I16..4:  4.3%  0.0%  3.0%  P16..4: 28.1%  9.9%  5.8%  0.0%  0.0%    skip:48.8%\n",
            "[libx264 @ 0x59bb38633d40] mb B  I16..4:  1.3%  0.0%  0.2%  B16..8: 12.3%  3.2%  0.2%  direct: 5.0%  skip:77.7%  L0:41.6% L1:51.8% BI: 6.6%\n",
            "[libx264 @ 0x59bb38633d40] coded y,uvDC,uvAC intra: 31.0% 60.0% 23.8% inter: 3.8% 11.4% 0.5%\n",
            "[libx264 @ 0x59bb38633d40] i16 v,h,dc,p: 47% 32% 11%  9%\n",
            "[libx264 @ 0x59bb38633d40] i4 v,h,dc,ddl,ddr,vr,hd,vl,hu: 29% 27% 15%  4%  5%  6%  5%  5%  4%\n",
            "[libx264 @ 0x59bb38633d40] i8c dc,h,v,p: 51% 24% 21%  5%\n",
            "[libx264 @ 0x59bb38633d40] Weighted P-Frames: Y:0.1% UV:0.1%\n",
            "[libx264 @ 0x59bb38633d40] ref P L0: 74.5% 25.5%\n",
            "[libx264 @ 0x59bb38633d40] ref B L0: 87.6% 12.4%\n",
            "[libx264 @ 0x59bb38633d40] ref B L1: 96.9%  3.1%\n",
            "[libx264 @ 0x59bb38633d40] kb/s:772.40\n",
            "[AVIOContext @ 0x59bb386364c0] Statistics: 2369613731 bytes read, 2 seeks\n",
            "Обработка завершена успешно!\n",
            "Выходное разрешение: 1094x540\n"
          ]
        },
        {
          "output_type": "display_data",
          "data": {
            "text/plain": [
              "<IPython.core.display.Javascript object>"
            ],
            "application/javascript": [
              "\n",
              "    async function download(id, filename, size) {\n",
              "      if (!google.colab.kernel.accessAllowed) {\n",
              "        return;\n",
              "      }\n",
              "      const div = document.createElement('div');\n",
              "      const label = document.createElement('label');\n",
              "      label.textContent = `Downloading \"${filename}\": `;\n",
              "      div.appendChild(label);\n",
              "      const progress = document.createElement('progress');\n",
              "      progress.max = size;\n",
              "      div.appendChild(progress);\n",
              "      document.body.appendChild(div);\n",
              "\n",
              "      const buffers = [];\n",
              "      let downloaded = 0;\n",
              "\n",
              "      const channel = await google.colab.kernel.comms.open(id);\n",
              "      // Send a message to notify the kernel that we're ready.\n",
              "      channel.send({})\n",
              "\n",
              "      for await (const message of channel.messages) {\n",
              "        // Send a message to notify the kernel that we're ready.\n",
              "        channel.send({})\n",
              "        if (message.buffers) {\n",
              "          for (const buffer of message.buffers) {\n",
              "            buffers.push(buffer);\n",
              "            downloaded += buffer.byteLength;\n",
              "            progress.value = downloaded;\n",
              "          }\n",
              "        }\n",
              "      }\n",
              "      const blob = new Blob(buffers, {type: 'application/binary'});\n",
              "      const a = document.createElement('a');\n",
              "      a.href = window.URL.createObjectURL(blob);\n",
              "      a.download = filename;\n",
              "      div.appendChild(a);\n",
              "      a.click();\n",
              "      div.remove();\n",
              "    }\n",
              "  "
            ]
          },
          "metadata": {}
        },
        {
          "output_type": "display_data",
          "data": {
            "text/plain": [
              "<IPython.core.display.Javascript object>"
            ],
            "application/javascript": [
              "download(\"download_2af9abcd-7061-4a75-99e2-1e70643c453e\", \"\\u0423\\u0447\\u0430\\u0441\\u0442\\u043e\\u043a_\\u0441_\\u043f\\u043e\\u043b\\u043d\\u043e\\u0433\\u043e_\\u043c\\u0430\\u0442\\u0447\\u0430.mp4\", 470837692)"
            ]
          },
          "metadata": {}
        },
        {
          "output_type": "stream",
          "name": "stdout",
          "text": [
            "\n",
            "Проверка ресурсов:\n",
            "Filesystem      Size  Used Avail Use% Mounted on\n",
            "drive            15G   12G  3.8G  75% /content/drive\n",
            "               total        used        free      shared  buff/cache   available\n",
            "Mem:           334Gi       2.5Gi       302Gi       4.0Mi        29Gi       329Gi\n",
            "Swap:             0B          0B          0B\n"
          ]
        }
      ]
    },
    {
      "cell_type": "code",
      "source": [
        "# Вывод информации о видео\n",
        "!ffprobe -v error -show_streams /content/drive/MyDrive/CV_SBER/Участок_с_полного_матча.mp4"
      ],
      "metadata": {
        "colab": {
          "base_uri": "https://localhost:8080/"
        },
        "outputId": "978a5a5d-829e-4315-ae26-4bbf6efbf95e",
        "collapsed": true,
        "id": "1e6e89vZ6uoV"
      },
      "execution_count": null,
      "outputs": [
        {
          "output_type": "stream",
          "name": "stdout",
          "text": [
            "[STREAM]\n",
            "index=0\n",
            "codec_name=h264\n",
            "codec_long_name=H.264 / AVC / MPEG-4 AVC / MPEG-4 part 10\n",
            "profile=Main\n",
            "codec_type=video\n",
            "codec_tag_string=avc1\n",
            "codec_tag=0x31637661\n",
            "width=1094\n",
            "height=540\n",
            "coded_width=1094\n",
            "coded_height=540\n",
            "closed_captions=0\n",
            "has_b_frames=2\n",
            "sample_aspect_ratio=25920:25921\n",
            "display_aspect_ratio=52512:25921\n",
            "pix_fmt=yuv420p\n",
            "level=31\n",
            "color_range=tv\n",
            "color_space=bt709\n",
            "color_transfer=bt709\n",
            "color_primaries=bt709\n",
            "chroma_location=left\n",
            "field_order=unknown\n",
            "refs=1\n",
            "is_avc=true\n",
            "nal_length_size=4\n",
            "id=N/A\n",
            "r_frame_rate=30/1\n",
            "avg_frame_rate=30/1\n",
            "time_base=1/15360\n",
            "start_pts=0\n",
            "start_time=0.000000\n",
            "duration_ts=55297024\n",
            "duration=3600.066667\n",
            "bit_rate=772404\n",
            "max_bit_rate=N/A\n",
            "bits_per_raw_sample=8\n",
            "nb_frames=108002\n",
            "nb_read_frames=N/A\n",
            "nb_read_packets=N/A\n",
            "DISPOSITION:default=1\n",
            "DISPOSITION:dub=0\n",
            "DISPOSITION:original=0\n",
            "DISPOSITION:comment=0\n",
            "DISPOSITION:lyrics=0\n",
            "DISPOSITION:karaoke=0\n",
            "DISPOSITION:forced=0\n",
            "DISPOSITION:hearing_impaired=0\n",
            "DISPOSITION:visual_impaired=0\n",
            "DISPOSITION:clean_effects=0\n",
            "DISPOSITION:attached_pic=0\n",
            "DISPOSITION:timed_thumbnails=0\n",
            "TAG:language=und\n",
            "TAG:handler_name=VideoHandler\n",
            "TAG:vendor_id=[0][0][0][0]\n",
            "[/STREAM]\n",
            "[STREAM]\n",
            "index=1\n",
            "codec_name=aac\n",
            "codec_long_name=AAC (Advanced Audio Coding)\n",
            "profile=LC\n",
            "codec_type=audio\n",
            "codec_tag_string=mp4a\n",
            "codec_tag=0x6134706d\n",
            "sample_fmt=fltp\n",
            "sample_rate=48000\n",
            "channels=2\n",
            "channel_layout=stereo\n",
            "bits_per_sample=0\n",
            "id=N/A\n",
            "r_frame_rate=0/0\n",
            "avg_frame_rate=0/0\n",
            "time_base=1/48000\n",
            "start_pts=0\n",
            "start_time=0.000000\n",
            "duration_ts=172798992\n",
            "duration=3599.979000\n",
            "bit_rate=262145\n",
            "max_bit_rate=N/A\n",
            "bits_per_raw_sample=N/A\n",
            "nb_frames=168750\n",
            "nb_read_frames=N/A\n",
            "nb_read_packets=N/A\n",
            "DISPOSITION:default=1\n",
            "DISPOSITION:dub=0\n",
            "DISPOSITION:original=0\n",
            "DISPOSITION:comment=0\n",
            "DISPOSITION:lyrics=0\n",
            "DISPOSITION:karaoke=0\n",
            "DISPOSITION:forced=0\n",
            "DISPOSITION:hearing_impaired=0\n",
            "DISPOSITION:visual_impaired=0\n",
            "DISPOSITION:clean_effects=0\n",
            "DISPOSITION:attached_pic=0\n",
            "DISPOSITION:timed_thumbnails=0\n",
            "TAG:language=und\n",
            "TAG:handler_name=SoundHandler\n",
            "TAG:vendor_id=[0][0][0][0]\n",
            "[/STREAM]\n"
          ]
        }
      ]
    },
    {
      "cell_type": "code",
      "source": [
        "# Функция вычисления разницы между кадрами\n",
        "def calculate_frame_difference(frame1, frame2):\n",
        "    return np.mean((frame1 - frame2) ** 2)\n",
        "\n",
        "# Выбор представительного кадра из сегмента\n",
        "def get_segment_representative(frames):\n",
        "    return frames[len(frames) // 2]\n",
        "\n",
        "# Функция для вычисления MSE\n",
        "def calculate_mse(img1, img2):\n",
        "    return np.mean((img1 - img2) ** 2)\n",
        "\n",
        "# Функция классификации по метрикам SSIM и MSE\n",
        "def classify_segment(rep_frame, ref_frames, threshold):\n",
        "\n",
        "    \"\"\"\n",
        "\n",
        "    rep_frame - кадр, проходящий отбор (классификацию)\n",
        "    ref_frames - 2 эталонных кадра (должно быть 2 пути)\n",
        "    threshold - пороговое знаяение метрики для классификации\n",
        "\n",
        "    \"\"\"\n",
        "\n",
        "    # Конвертируем тестовый кадр в градации серого\n",
        "    rep_frame_gray = cv2.cvtColor(rep_frame, cv2.COLOR_BGR2GRAY)\n",
        "\n",
        "\n",
        "    similarities = []\n",
        "    mse_values = []\n",
        "\n",
        "    for i, ref in enumerate(ref_frames):\n",
        "        # Конвертируем эталонный кадр в градации серого\n",
        "        ref_gray = cv2.cvtColor(ref, cv2.COLOR_BGR2GRAY)\n",
        "\n",
        "        # Вычисляем SSIM\n",
        "        ssim_score = ssim(rep_frame_gray, ref_gray)\n",
        "        similarities.append(ssim_score)\n",
        "\n",
        "        # Вычисляем MSE\n",
        "        mse_score = calculate_mse(rep_frame_gray, ref_gray)\n",
        "        mse_values.append(mse_score)\n",
        "\n",
        "\n",
        "    # Определяем максимальное сходство по SSIM\n",
        "    max_similarity = max(similarities)\n",
        "\n",
        "    # Классификация (на основе SSIM, как в исходной функции)\n",
        "    if max_similarity > threshold:\n",
        "        angle_index = np.argmax(similarities)\n",
        "        return angle_index\n",
        "    elif max_similarity > 0.5 and mse_score < 80:\n",
        "        angle_index = np.argmax(similarities)\n",
        "        return angle_index\n",
        "    else:\n",
        "        return -1\n",
        "\n",
        "# Основная функция отбора кадров\n",
        "def select_frames(video_path, ref_frame_paths, output_dir, diff_threshold=40, ssim_threshold=0.6, frame_skip=1):\n",
        "\n",
        "    \"\"\"\n",
        "    video_path - путь к видео\n",
        "    ref_frame_paths - 2 эталонных кадра (должно быть 2 пути)\n",
        "    output_dir - папка сохранения отобранных кадров\n",
        "    diff_threshold - размер сегмента, проходящего отбор (при diff_threshold=50 из видео берётся 50 последовательных кадров\n",
        "                     и один из кадров проходит процесс отбор и в случае успеха все 50 кадров сохраняются в папке для отобранных кадров)\n",
        "    ssim_threshold - пороговое знаяение метрики для классификации\n",
        "    frame_skip - через сколько кадров вытаскивать (при frame_skip=1 для отбора будет вытаскиваться каждый кадр)\n",
        "\n",
        "    \"\"\"\n",
        "\n",
        "    # Загрузка эталонных кадров\n",
        "    ref_frames = [cv2.imread(path) for path in ref_frame_paths]\n",
        "    if any(ref is None for ref in ref_frames):\n",
        "        raise ValueError(\"Ошибка загрузки эталонных кадров\")\n",
        "\n",
        "    # Создание папки для сохранения кадров\n",
        "    os.makedirs(output_dir, exist_ok=True)\n",
        "\n",
        "    # Открытие видео\n",
        "    cap = cv2.VideoCapture(video_path)\n",
        "    if not cap.isOpened():\n",
        "        raise ValueError(\"Ошибка открытия видео\")\n",
        "\n",
        "    prev_frame = None\n",
        "    segments = []\n",
        "    current_segment = []\n",
        "    frame_count = 0\n",
        "\n",
        "    # Разделение видео на сегменты\n",
        "    while True:\n",
        "        ret, frame = cap.read()\n",
        "        if not ret:\n",
        "            break\n",
        "\n",
        "        # Пропуск кадров\n",
        "        if frame_count % frame_skip != 0:\n",
        "            frame_count += 1\n",
        "            continue\n",
        "\n",
        "        gray_frame = cv2.cvtColor(frame, cv2.COLOR_BGR2GRAY)\n",
        "\n",
        "        if prev_frame is not None:\n",
        "            diff = calculate_frame_difference(gray_frame, prev_frame)\n",
        "            if diff > diff_threshold:\n",
        "                if current_segment:\n",
        "                    segments.append(current_segment)\n",
        "                current_segment = []\n",
        "            current_segment.append((frame_count, frame))\n",
        "\n",
        "        prev_frame = gray_frame\n",
        "        frame_count += 1\n",
        "\n",
        "    if current_segment:\n",
        "        segments.append(current_segment)\n",
        "\n",
        "    # Классификация и сохранение кадров\n",
        "    selected_frames = []\n",
        "    for segment in segments:\n",
        "        rep_frame = get_segment_representative([frame for _, frame in segment])\n",
        "        angle_index = classify_segment(rep_frame, ref_frames, ssim_threshold)\n",
        "        if angle_index != -1:\n",
        "            for frame_num, frame in segment:\n",
        "                output_path = os.path.join(output_dir, f\"angle_{angle_index}_frame_{frame_num}.jpg\")\n",
        "                cv2.imwrite(output_path, frame)\n",
        "                selected_frames.append((frame_num, frame, angle_index))\n",
        "\n",
        "    cap.release()\n",
        "    return selected_frames"
      ],
      "metadata": {
        "id": "2VIz9wlhNV_g"
      },
      "execution_count": null,
      "outputs": []
    },
    {
      "cell_type": "code",
      "source": [
        "# Параметры\n",
        "ref_frame1 = \"/content/drive/MyDrive/CV_SBER/Эталонные_углы_обзора/Эталон_1.jpg\"\n",
        "ref_frame2 = \"/content/drive/MyDrive/CV_SBER/Эталонные_углы_обзора/Эталон_2.jpg\"\n",
        "video_path = \"/content/drive/MyDrive/CV_SBER/Участок_с_полного_матча.mp4\"\n",
        "output_dir = \"/content/drive/MyDrive/CV_SBER/Отобранные_по_2_ум_углам_кадры/\"\n",
        "\n",
        "# Выполнение отбора кадров\n",
        "try:\n",
        "    selected_frames = select_frames(video_path, [ref_frame1, ref_frame2], output_dir)\n",
        "    print(f\"Отобрано {len(selected_frames)} кадров\")\n",
        "    angle_1 = 0\n",
        "    angle_2 = 0\n",
        "    for frame_num, _, angle_index in selected_frames:\n",
        "        if angle_index + 1 == 1:\n",
        "          angle_1 += 1\n",
        "        elif angle_index + 1 == 2:\n",
        "          angle_2 += 1\n",
        "    print(f\"Для 1-ого угла обзора: {angle_1}\")\n",
        "    print(f\"Для 2-ого угла обзора: {angle_2}\")\n",
        "except Exception as e:\n",
        "    print(f\"Ошибка: {e}\")\n"
      ],
      "metadata": {
        "colab": {
          "base_uri": "https://localhost:8080/"
        },
        "id": "esvDOa4SkHND",
        "outputId": "da28f1b2-f2c0-42fe-c99a-899a238c6589"
      },
      "execution_count": null,
      "outputs": [
        {
          "output_type": "stream",
          "name": "stdout",
          "text": [
            "Отобрано 42236 кадров\n",
            "Для 1-ого угла обзора: 1514\n",
            "Для 2-ого угла обзора: 40722\n"
          ]
        }
      ]
    },
    {
      "cell_type": "code",
      "execution_count": null,
      "metadata": {
        "id": "7c7mlKk6HMHa"
      },
      "outputs": [],
      "source": [
        "import cv2\n",
        "import numpy as np\n",
        "from google.colab.patches import cv2_imshow\n",
        "import os\n",
        "import glob\n",
        "import gc\n",
        "import torch"
      ]
    },
    {
      "cell_type": "markdown",
      "source": [
        "МАСКА ИСКЛЮЧЕНИЯ ИЗ ВНИМАНИЯ БАННЕРОВ"
      ],
      "metadata": {
        "id": "hnIyZiUYQBQY"
      }
    },
    {
      "cell_type": "code",
      "source": [
        "def create_text_mask_by_location(image):\n",
        "    h, w = image.shape[:2]\n",
        "    # Создаем пустую маску (255 - область интереса, 0 - текст/баннеры)\n",
        "    text_mask = np.ones((h, w), dtype=np.uint8) * 255\n",
        "\n",
        "    # Координаты баннеров (исправленные на основе предположений)\n",
        "    # Первый баннер: [45, 474] (x1, y1) и [334, 524] (x2, y2)\n",
        "    x1, y1 = min(45, 334), min(474, 524)  # Верхний левый угол\n",
        "    x2, y2 = max(45, 334), max(474, 524)  # Нижний правый угол\n",
        "    text_mask[y1:y2, x1:x2] = 0\n",
        "\n",
        "    # Второй баннер: [879, 2] (x1, y1) и [1072, 50] (x2, y2)\n",
        "    x1, y1 = min(879, 1072), min(2, 50)  # Верхний левый угол\n",
        "    x2, y2 = max(879, 1072), max(2, 50)  # Нижний правый угол\n",
        "    text_mask[y1:y2, x1:x2] = 0\n",
        "\n",
        "\n",
        "    # Преобразование исходного изображения в HSV для создания маски фона\n",
        "    hsv = cv2.cvtColor(image, cv2.COLOR_BGR2HSV)\n",
        "\n",
        "    # Диапазоны для синего фона (настройте под ваш кадр)\n",
        "    lower_blue = np.array([100, 200, 150])  # Уточненный диапазон для синего\n",
        "    upper_blue = np.array([130, 255, 255])\n",
        "    mask_blue = cv2.inRange(hsv, lower_blue, upper_blue)\n",
        "\n",
        "    # Инвертируем маску фона (0 - синий фон, 255 - остальное)\n",
        "    mask_blue = cv2.bitwise_not(mask_blue)\n",
        "\n",
        "    # Объединяем маску баннеров и маску фона\n",
        "    final_mask = cv2.bitwise_and(text_mask, mask_blue)\n",
        "\n",
        "    return final_mask\n",
        "\n"
      ],
      "metadata": {
        "id": "CySKw4VgQHMc"
      },
      "execution_count": null,
      "outputs": []
    },
    {
      "cell_type": "markdown",
      "source": [
        "МАСКА ДЛЯ \"ДОМА\""
      ],
      "metadata": {
        "id": "qdLUrHNM7C0m"
      }
    },
    {
      "cell_type": "code",
      "source": [
        "# Новая функция для создания маски \"дома\"\n",
        "def create_house_mask(image, text_mask):\n",
        "    hsv = cv2.cvtColor(image, cv2.COLOR_BGR2HSV)\n",
        "\n",
        "    # Диапазон для \"дома\"\n",
        "    lower_house = np.array([105, 25, 75])\n",
        "    upper_house = np.array([125, 178, 130])\n",
        "\n",
        "    mask_house = cv2.inRange(hsv, lower_house, upper_house)\n",
        "\n",
        "    # Применяем маску баннеров, чтобы исключить текст\n",
        "    mask_house = cv2.bitwise_and(mask_house, mask_house, mask=text_mask)\n",
        "\n",
        "    # Морфологические операции для улучшения маски\n",
        "    kernel = np.ones((5, 5), np.uint8)\n",
        "    mask_house = cv2.morphologyEx(mask_house, cv2.MORPH_OPEN, kernel)  # Удаление шума\n",
        "    mask_house = cv2.morphologyEx(mask_house, cv2.MORPH_CLOSE, kernel)  # Заполнение разрывов\n",
        "\n",
        "\n",
        "    # Поиск контуров \"дома\"\n",
        "    contours_house, _ = cv2.findContours(mask_house, cv2.RETR_EXTERNAL, cv2.CHAIN_APPROX_SIMPLE)\n",
        "    # Фильтрация контуров по площади\n",
        "    filtered_contours_house = [cnt for cnt in contours_house if cv2.contourArea(cnt) > 16000]\n",
        "\n",
        "    return mask_house, filtered_contours_house"
      ],
      "metadata": {
        "id": "870uVSAz2rBo"
      },
      "execution_count": null,
      "outputs": []
    },
    {
      "cell_type": "markdown",
      "source": [
        "МАСКА ДЛЯ КАМНЕЙ (ЖЁЛТЫХ И КРАСНЫХ)"
      ],
      "metadata": {
        "id": "6GY6Lzo27Jw-"
      }
    },
    {
      "cell_type": "code",
      "source": [
        "def find_contours_of_cards(image, text_mask):\n",
        "    # Применяем маску текста, чтобы исключить баннеры\n",
        "    image_masked = cv2.bitwise_and(image, image, mask=text_mask)\n",
        "\n",
        "    # Преобразование в HSV для камней\n",
        "    hsv = cv2.cvtColor(image_masked, cv2.COLOR_BGR2HSV)\n",
        "\n",
        "    # Диапазоны для желтых камней\n",
        "    lower_yellow = np.array([20, 50, 130])\n",
        "    upper_yellow = np.array([30, 255, 255])\n",
        "    mask_yellow = cv2.inRange(hsv, lower_yellow, upper_yellow)\n",
        "\n",
        "    # Диапазоны для красных камней (два диапазона, так как красный цвет в HSV делится на два участка)\n",
        "    lower_red1 = np.array([0, 50, 50])\n",
        "    upper_red1 = np.array([10, 230, 230])\n",
        "    lower_red2 = np.array([160, 50, 50])\n",
        "    upper_red2 = np.array([180, 230, 230])\n",
        "    mask_red1 = cv2.inRange(hsv, lower_red1, upper_red1)\n",
        "    mask_red2 = cv2.inRange(hsv, lower_red2, upper_red2)\n",
        "    mask_red = cv2.bitwise_or(mask_red1, mask_red2)\n",
        "\n",
        "    # Диапазон для серого (для учета серой части камней)\n",
        "    lower_gray = np.array([0, 0, 60])\n",
        "    upper_gray = np.array([50, 100, 180])\n",
        "    mask_gray = cv2.inRange(hsv, lower_gray, upper_gray)\n",
        "\n",
        "    # Объединяем маски для желтых и серых частей камней\n",
        "    mask_yellow_combined = cv2.bitwise_or(mask_yellow, mask_gray)\n",
        "    # Объединяем маски для красных и серых частей камней\n",
        "    mask_red_combined = cv2.bitwise_or(mask_red, mask_gray)\n",
        "\n",
        "    ## Применяем маску текста к каждой цветной маске\n",
        "    mask_yellow_combined = cv2.bitwise_and(mask_yellow_combined, mask_yellow_combined, mask=text_mask)\n",
        "    mask_red_combined = cv2.bitwise_and(mask_red_combined, mask_red_combined, mask=text_mask)\n",
        "\n",
        "    # Морфологические операции для очистки масок\n",
        "    kernel = np.ones((5, 5), np.uint8)\n",
        "    mask_yellow_combined = cv2.morphologyEx(mask_yellow_combined, cv2.MORPH_OPEN, kernel)\n",
        "    mask_yellow_combined = cv2.morphologyEx(mask_yellow_combined, cv2.MORPH_CLOSE, kernel)\n",
        "    mask_red_combined = cv2.morphologyEx(mask_red_combined, cv2.MORPH_OPEN, kernel)\n",
        "    mask_red_combined = cv2.morphologyEx(mask_red_combined, cv2.MORPH_CLOSE, kernel)\n",
        "\n",
        "    # Поиск контуров для желтых камней\n",
        "    contours_yellow, _ = cv2.findContours(mask_yellow_combined, cv2.RETR_EXTERNAL, cv2.CHAIN_APPROX_SIMPLE)\n",
        "    filtered_contours_yellow = [cnt for cnt in contours_yellow if 400 < cv2.contourArea(cnt) < 1500]\n",
        "\n",
        "    # Поиск контуров для красных камней\n",
        "    contours_red, _ = cv2.findContours(mask_red_combined, cv2.RETR_EXTERNAL, cv2.CHAIN_APPROX_SIMPLE)\n",
        "    filtered_contours_red = [cnt for cnt in contours_red if 400 < cv2.contourArea(cnt) < 1500]\n",
        "\n",
        "    def filter_ellipses(contours, mask_color, mask_gray):\n",
        "        confirmed_contours = []\n",
        "        for cnt in contours:\n",
        "            # Проверяем, достаточно ли точек для аппроксимации эллипса (не менее 5)\n",
        "            if len(cnt) >= 5:\n",
        "                x, y, w, h = cv2.boundingRect(cnt)\n",
        "                # Проверяем, что ROI не пустой\n",
        "                if w > 0 and h > 0:\n",
        "                    try:\n",
        "                        # Аппроксимация эллипса\n",
        "                        ellipse = cv2.fitEllipse(cnt)\n",
        "                        (center_x, center_y), (major_axis, minor_axis), angle = ellipse\n",
        "\n",
        "\n",
        "                        # Проверяем, соответствует ли эллипс размерам контура\n",
        "                        axis_ratio = min(major_axis, minor_axis) / max(major_axis, minor_axis)\n",
        "\n",
        "                        if 0.7 < axis_ratio < 1.3:  # Допустимое соотношение осей\n",
        "                            if abs(major_axis - w) < 15 and abs(minor_axis - h) < 15:\n",
        "                                # Проверяем наличие цветной части (желтой или красной) в ROI\n",
        "                                roi_color = mask_color[y:y+h, x:x+w]\n",
        "                                roi_gray = mask_gray[y:y+h, x:x+w]\n",
        "                                color_pixels = cv2.countNonZero(roi_color)\n",
        "                                gray_pixels = cv2.countNonZero(roi_gray)\n",
        "                                total_pixels = roi_color.size\n",
        "                                if total_pixels > 0:\n",
        "                                    color_ratio = color_pixels / total_pixels\n",
        "                                    gray_ratio = gray_pixels / total_pixels\n",
        "                                    # Убедимся, что есть цветная часть (желтая/красная) и серая\n",
        "                                    if (color_ratio > 0.1 and gray_ratio > 0.1) or (color_ratio > 0.1 and gray_ratio > 0.01):\n",
        "                                        confirmed_contours.append(cnt)\n",
        "                    except cv2.error:\n",
        "                        # Пропускаем контуры, для которых не удалось аппроксимировать эллипс\n",
        "                        continue\n",
        "        return confirmed_contours\n",
        "\n",
        "    # Фильтруем контуры с помощью эллипсов\n",
        "    confirmed_yellow = filter_ellipses(filtered_contours_yellow, mask_yellow, mask_gray)\n",
        "    confirmed_red = filter_ellipses(filtered_contours_red, mask_red, mask_gray)\n",
        "\n",
        "    return confirmed_yellow, confirmed_red, mask_yellow_combined, mask_red_combined"
      ],
      "metadata": {
        "id": "ikQY243R7AVC"
      },
      "execution_count": null,
      "outputs": []
    },
    {
      "cell_type": "markdown",
      "source": [
        "СОЗДАНИЕ АННОТАЦИИ"
      ],
      "metadata": {
        "id": "2A_z5gAm7m29"
      }
    },
    {
      "cell_type": "code",
      "source": [
        "# Функция создания аннотации\n",
        "def create_yolo_annotations(contours_yellow, contours_red, contours_house, frame_number, image_shape, output_dir):\n",
        "    img_height, img_width = image_shape[:2]\n",
        "    annotations_yolo = []\n",
        "    class_map = {\"yellow\": 0, \"red\": 1, \"house\": 2}  # Добавляем класс для \"дома\"\n",
        "\n",
        "    for cnt in contours_yellow:\n",
        "        x, y, w, h = cv2.boundingRect(cnt)\n",
        "        center_x = x + w // 2\n",
        "        center_y = y + h // 2\n",
        "        norm_center_x = center_x / img_width\n",
        "        norm_center_y = center_y / img_height\n",
        "        norm_width = w / img_width\n",
        "        norm_height = h / img_height\n",
        "        annotations_yolo.append(f\"{class_map['yellow']} {norm_center_x:.6f} {norm_center_y:.6f} {norm_width:.6f} {norm_height:.6f}\")\n",
        "\n",
        "    for cnt in contours_red:\n",
        "        x, y, w, h = cv2.boundingRect(cnt)\n",
        "        center_x = x + w // 2\n",
        "        center_y = y + h // 2\n",
        "        norm_center_x = center_x / img_width\n",
        "        norm_center_y = center_y / img_height\n",
        "        norm_width = w / img_width\n",
        "        norm_height = h / img_height\n",
        "        annotations_yolo.append(f\"{class_map['red']} {norm_center_x:.6f} {norm_center_y:.6f} {norm_width:.6f} {norm_height:.6f}\")\n",
        "\n",
        "\n",
        "    for cnt in contours_house:\n",
        "        x, y, w, h = cv2.boundingRect(cnt)\n",
        "        center_x = x + w // 2\n",
        "        center_y = y + h // 2\n",
        "        norm_center_x = center_x / img_width\n",
        "        norm_center_y = center_y / img_height\n",
        "        norm_width = w / img_width\n",
        "        norm_height = h / img_height\n",
        "        annotations_yolo.append(f\"{class_map['house']} {norm_center_x:.6f} {norm_center_y:.6f} {norm_width:.6f} {norm_height:.6f}\")\n",
        "\n",
        "    if not os.path.exists(output_dir):\n",
        "        os.makedirs(output_dir)\n",
        "\n",
        "    txt_output_path = os.path.join(output_dir, f\"frame_{frame_number}.txt\")\n",
        "    with open(txt_output_path, 'w', encoding='utf-8') as f:\n",
        "        f.write('\\n'.join(annotations_yolo))\n"
      ],
      "metadata": {
        "id": "q8sOOZQUvITY"
      },
      "execution_count": null,
      "outputs": []
    },
    {
      "cell_type": "code",
      "source": [
        "# Основная функция создания аннотаций к отобранными кадрам\n",
        "def create_annotation(selected_frames_dir_path, selected_frames_output_dir, output_annotation_dir):\n",
        "\n",
        "    number_of_selected_frames = 0\n",
        "    number_of_created_annotations = 0\n",
        "\n",
        "    # Получаем список всех .jpg файлов в папке\n",
        "    frame_paths = glob.glob(os.path.join(selected_frames_dir_path, \"*.jpg\"))\n",
        "    # Сортировка по имени файла (опционально, для порядка)\n",
        "    frame_paths.sort()\n",
        "\n",
        "      # Загрузка кадров\n",
        "    selected_frames = [cv2.imread(path) for path in frame_paths]\n",
        "    if any(ref is None for ref in selected_frames):\n",
        "        raise ValueError(\"Ошибка загрузки отобранных кадров\")\n",
        "\n",
        "    # Создание папки для сохранения аннотаций\n",
        "    os.makedirs(output_annotation_dir, exist_ok=True)\n",
        "\n",
        "    # Создание папки для сохранения кадров\n",
        "    os.makedirs(selected_frames_output_dir, exist_ok=True)\n",
        "\n",
        "    # Создание аннотаций\n",
        "    for selected_frame, frame_path in zip(selected_frames, frame_paths):\n",
        "\n",
        "        frame_number = ''\n",
        "\n",
        "        # Создание масок для кадра\n",
        "        text_mask = create_text_mask_by_location(selected_frame)\n",
        "        mask_house, contours_house = create_house_mask(selected_frame, text_mask)\n",
        "\n",
        "        contours_yellow, contours_red, mask_yellow, mask_red = find_contours_of_cards(selected_frame, text_mask)\n",
        "\n",
        "        # Проверка на пустую аннотацию\n",
        "        is_annotation_empty = (len(contours_yellow) == 0 and len(contours_red) == 0 and len(contours_house) == 0)\n",
        "\n",
        "        if is_annotation_empty:\n",
        "            continue\n",
        "\n",
        "        # Номер кадра\n",
        "        frame_filename = os.path.basename(frame_path)  # Получаем имя файла из пути\n",
        "\n",
        "        if \"angle_0_frame_\" in frame_filename:\n",
        "            frame_number = frame_filename.replace('angle_0_frame_', '').replace('.jpg', '')\n",
        "\n",
        "        elif \"angle_1_frame_\" in frame_filename:\n",
        "            frame_number = frame_filename.replace('angle_1_frame_', '').replace('.jpg', '')\n",
        "\n",
        "\n",
        "        # Создание и сохранение YOLO аннотации (сохранение включено в create_yolo_annotations)\n",
        "        create_yolo_annotations(contours_yellow, contours_red, contours_house, frame_number, selected_frame.shape, output_dir=output_annotation_dir)\n",
        "        number_of_created_annotations += 1\n",
        "\n",
        "        # Сохранение кадра\n",
        "        output_path = os.path.join(selected_frames_output_dir, f\"frame_{frame_number}.jpg\")\n",
        "        cv2.imwrite(output_path, selected_frame)\n",
        "        number_of_selected_frames += 1\n",
        "\n",
        "    print(f\"Кадры сохранены в: {selected_frames_output_dir}\\n Сохранено кадров: {number_of_selected_frames}\")\n",
        "    print(f\"Аннотации сохранены в: {output_annotation_dir}\\n Сохранено аннотаций: {number_of_created_annotations}\")\n",
        "\n",
        "\n"
      ],
      "metadata": {
        "id": "7OEOTQC6A-pf"
      },
      "execution_count": null,
      "outputs": []
    },
    {
      "cell_type": "code",
      "source": [
        "# Запуск автоматического создания аннотаций к отобранными кадрам\n",
        "selected_frames_dir_path = \"/content/drive/MyDrive/CV_SBER/Отобранные_по_2_ум_углам_кадры/\"\n",
        "selected_frames_output_dir = \"/content/drive/MyDrive/CV_SBER/1_Полный_матч_images\"\n",
        "output_annotation_dir = \"/content/drive/MyDrive/CV_SBER/1_Полный_матч_labels\"\n",
        "\n",
        "\n",
        "create_annotation(selected_frames_dir_path, selected_frames_output_dir, output_annotation_dir)"
      ],
      "metadata": {
        "colab": {
          "base_uri": "https://localhost:8080/"
        },
        "id": "gK1AqufJ_8L9",
        "outputId": "279fa2c2-3e6f-460f-ad4e-25a0eaec7d11"
      },
      "execution_count": null,
      "outputs": [
        {
          "output_type": "stream",
          "name": "stdout",
          "text": [
            "Кадры сохранены в: /content/drive/MyDrive/CV_SBER/1_Полный_матч_images\n",
            " Сохранено кадров: 38398\n",
            "Аннотации сохранены в: /content/drive/MyDrive/CV_SBER/1_Полный_матч_labels\n",
            " Сохранено аннотаций: 38398\n"
          ]
        }
      ]
    },
    {
      "cell_type": "code",
      "source": [
        "!pip install tensorflow -q"
      ],
      "metadata": {
        "colab": {
          "base_uri": "https://localhost:8080/"
        },
        "id": "tHFsqAtRH8Ry",
        "outputId": "cae0180b-f0e1-4d22-c8d2-05f8c8a493f7"
      },
      "execution_count": null,
      "outputs": [
        {
          "output_type": "stream",
          "name": "stdout",
          "text": [
            "\u001b[2K   \u001b[90m━━━━━━━━━━━━━━━━━━━━━━━━━━━━━━━━━━━━━━━━\u001b[0m \u001b[32m644.9/644.9 MB\u001b[0m \u001b[31m1.3 MB/s\u001b[0m eta \u001b[36m0:00:00\u001b[0m\n",
            "\u001b[2K   \u001b[90m━━━━━━━━━━━━━━━━━━━━━━━━━━━━━━━━━━━━━━━━\u001b[0m \u001b[32m57.5/57.5 kB\u001b[0m \u001b[31m4.2 MB/s\u001b[0m eta \u001b[36m0:00:00\u001b[0m\n",
            "\u001b[2K   \u001b[90m━━━━━━━━━━━━━━━━━━━━━━━━━━━━━━━━━━━━━━━━\u001b[0m \u001b[32m24.5/24.5 MB\u001b[0m \u001b[31m66.4 MB/s\u001b[0m eta \u001b[36m0:00:00\u001b[0m\n",
            "\u001b[2K   \u001b[90m━━━━━━━━━━━━━━━━━━━━━━━━━━━━━━━━━━━━━━━━\u001b[0m \u001b[32m5.5/5.5 MB\u001b[0m \u001b[31m114.1 MB/s\u001b[0m eta \u001b[36m0:00:00\u001b[0m\n",
            "\u001b[2K   \u001b[90m━━━━━━━━━━━━━━━━━━━━━━━━━━━━━━━━━━━━━━━━\u001b[0m \u001b[32m5.1/5.1 MB\u001b[0m \u001b[31m108.3 MB/s\u001b[0m eta \u001b[36m0:00:00\u001b[0m\n",
            "\u001b[2K   \u001b[90m━━━━━━━━━━━━━━━━━━━━━━━━━━━━━━━━━━━━━━━━\u001b[0m \u001b[32m6.6/6.6 MB\u001b[0m \u001b[31m69.1 MB/s\u001b[0m eta \u001b[36m0:00:00\u001b[0m\n",
            "\u001b[2K   \u001b[90m━━━━━━━━━━━━━━━━━━━━━━━━━━━━━━━━━━━━━━━━\u001b[0m \u001b[32m224.5/224.5 kB\u001b[0m \u001b[31m15.8 MB/s\u001b[0m eta \u001b[36m0:00:00\u001b[0m\n",
            "\u001b[2K   \u001b[90m━━━━━━━━━━━━━━━━━━━━━━━━━━━━━━━━━━━━━━━━\u001b[0m \u001b[32m72.5/72.5 kB\u001b[0m \u001b[31m5.3 MB/s\u001b[0m eta \u001b[36m0:00:00\u001b[0m\n",
            "\u001b[?25h"
          ]
        }
      ]
    },
    {
      "cell_type": "code",
      "source": [
        "from google.colab import drive\n",
        "drive.mount('/content/drive')"
      ],
      "metadata": {
        "colab": {
          "base_uri": "https://localhost:8080/"
        },
        "id": "fUj7Wl8VBIHL",
        "outputId": "0a4ab6d3-c65a-429a-9d05-b189edd1e7da"
      },
      "execution_count": null,
      "outputs": [
        {
          "output_type": "stream",
          "name": "stdout",
          "text": [
            "Mounted at /content/drive\n"
          ]
        }
      ]
    },
    {
      "cell_type": "code",
      "source": [
        "import os\n",
        "import shutil\n",
        "import random\n",
        "from sklearn.model_selection import train_test_split"
      ],
      "metadata": {
        "id": "oMknbFukH9uZ"
      },
      "execution_count": null,
      "outputs": []
    },
    {
      "cell_type": "code",
      "source": [
        "# Папки с исходными данными\n",
        "images_dir = \"/content/drive/MyDrive/CV_SBER/1_Полный_матч_images\"\n",
        "labels_dir = \"/content/drive/MyDrive/CV_SBER/1_Полный_матч_labels\"\n",
        "\n",
        "# Целевая папка для датасета\n",
        "dataset_dir = \"/content/drive/MyDrive/CV_SBER/dataset\"\n",
        "images_train_dir = os.path.join(dataset_dir, \"images\", \"train\")\n",
        "images_val_dir = os.path.join(dataset_dir, \"images\", \"val\")\n",
        "images_test_dir = os.path.join(dataset_dir, \"images\", \"test\")\n",
        "labels_train_dir = os.path.join(dataset_dir, \"labels\", \"train\")\n",
        "labels_val_dir = os.path.join(dataset_dir, \"labels\", \"val\")\n",
        "labels_test_dir = os.path.join(dataset_dir, \"labels\", \"test\")\n",
        "\n",
        "# Создание директорий\n",
        "os.makedirs(images_train_dir, exist_ok=True)\n",
        "os.makedirs(images_val_dir, exist_ok=True)\n",
        "os.makedirs(images_test_dir, exist_ok=True)\n",
        "os.makedirs(labels_train_dir, exist_ok=True)\n",
        "os.makedirs(labels_val_dir, exist_ok=True)\n",
        "os.makedirs(labels_test_dir, exist_ok=True)\n",
        "\n",
        "# Получение списка изображений\n",
        "image_files = [f for f in os.listdir(images_dir) if f.endswith(('.jpg', '.png'))]\n",
        "image_files.sort()  # Сортировка для соответствия с аннотациями\n",
        "\n",
        "# Проверка наличия аннотаций для каждого изображения\n",
        "valid_images = []\n",
        "for img in image_files:\n",
        "    label_file = os.path.splitext(img)[0] + '.txt'\n",
        "    if os.path.exists(os.path.join(labels_dir, label_file)):\n",
        "        valid_images.append(img)\n",
        "    else:\n",
        "        print(f\"Аннотация для {img} не найдена, пропускается.\")\n",
        "\n",
        "# Берем только первые 6000 пар\n",
        "valid_images = valid_images[:6000]\n",
        "print(f\"Выбрано {len(valid_images)} изображений с аннотациями\")\n",
        "\n",
        "# Разделение на train, val, test\n",
        "train_images, temp_images = train_test_split(valid_images, train_size=0.70, random_state=42)\n",
        "val_images, test_images = train_test_split(temp_images, train_size=0.50, random_state=42)  # 50% от оставшихся 30% = 15%\n",
        "\n",
        "# Функция для копирования файлов\n",
        "def copy_files(file_list, src_img_dir, src_label_dir, dst_img_dir, dst_label_dir):\n",
        "    for img in file_list:\n",
        "        label = os.path.splitext(img)[0] + '.txt'\n",
        "        # Копирование изображения\n",
        "        shutil.copy(os.path.join(src_img_dir, img), os.path.join(dst_img_dir, img))\n",
        "        # Копирование аннотации\n",
        "        shutil.copy(os.path.join(src_label_dir, label), os.path.join(dst_label_dir, label))\n",
        "\n",
        "# Копирование файлов в соответствующие папки\n",
        "copy_files(train_images, images_dir, labels_dir, images_train_dir, labels_train_dir)\n",
        "copy_files(val_images, images_dir, labels_dir, images_val_dir, labels_val_dir)\n",
        "copy_files(test_images, images_dir, labels_dir, images_test_dir, labels_test_dir)\n",
        "\n",
        "# Проверка количества файлов\n",
        "print(f\"Train: {len(train_images)} изображений\")\n",
        "print(f\"Val: {len(val_images)} изображений\")\n",
        "print(f\"Test: {len(test_images)} изображений\")\n",
        "\n",
        "# Создание data.yaml\n",
        "data_yaml = f\"\"\"\n",
        "train: {images_train_dir}\n",
        "val: {images_val_dir}\n",
        "test: {images_test_dir}\n",
        "nc: 3\n",
        "names: ['yellow', 'red', 'house']\n",
        "\"\"\"\n",
        "\n",
        "with open(os.path.join(dataset_dir, \"data.yaml\"), 'w', encoding='utf-8') as f:\n",
        "    f.write(data_yaml)\n",
        "\n",
        "print(f\"data.yaml сохранён в {dataset_dir}\")"
      ],
      "metadata": {
        "colab": {
          "base_uri": "https://localhost:8080/"
        },
        "id": "E0XpAQl--nBM",
        "outputId": "f8af4fdf-8edf-40c0-edde-f80a57203443"
      },
      "execution_count": null,
      "outputs": [
        {
          "output_type": "stream",
          "name": "stdout",
          "text": [
            "Выбрано 6000 изображений с аннотациями\n",
            "Train: 4200 изображений\n",
            "Val: 900 изображений\n",
            "Test: 900 изображений\n",
            "data.yaml сохранён в /content/drive/MyDrive/CV_SBER/dataset\n"
          ]
        }
      ]
    },
    {
      "cell_type": "code",
      "source": [],
      "metadata": {
        "id": "3XFn-siTI9c2"
      },
      "execution_count": null,
      "outputs": []
    }
  ]
}