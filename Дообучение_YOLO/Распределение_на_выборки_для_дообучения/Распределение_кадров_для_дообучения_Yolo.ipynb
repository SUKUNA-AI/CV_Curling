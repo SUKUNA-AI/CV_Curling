{
  "nbformat": 4,
  "nbformat_minor": 0,
  "metadata": {
    "colab": {
      "provenance": []
    },
    "kernelspec": {
      "name": "python3",
      "display_name": "Python 3"
    },
    "language_info": {
      "name": "python"
    }
  },
  "cells": [
    {
      "cell_type": "code",
      "source": [
        "!pip install tensorflow -q"
      ],
      "metadata": {
        "id": "d0U245i9-K6O"
      },
      "execution_count": null,
      "outputs": []
    },
    {
      "cell_type": "code",
      "source": [
        "from google.colab import drive\n",
        "drive.mount('/content/drive')"
      ],
      "metadata": {
        "colab": {
          "base_uri": "https://localhost:8080/"
        },
        "id": "PioAiGaU_VZJ",
        "outputId": "ee71b589-fbeb-49c4-a994-bf9f9f957b0d"
      },
      "execution_count": null,
      "outputs": [
        {
          "output_type": "stream",
          "name": "stdout",
          "text": [
            "Mounted at /content/drive\n"
          ]
        }
      ]
    },
    {
      "cell_type": "code",
      "execution_count": null,
      "metadata": {
        "id": "U4EIFUtI-IJx"
      },
      "outputs": [],
      "source": [
        "import os\n",
        "import shutil\n",
        "import random\n",
        "from sklearn.model_selection import train_test_split"
      ]
    },
    {
      "cell_type": "code",
      "source": [
        "# Папки с исходными данными\n",
        "images_dir = \"/content/drive/MyDrive/Sber_Test/1_Энд_выборка_images\"\n",
        "labels_dir = \"/content/drive/MyDrive/Sber_Test/1_Энд_выборка_labels\"\n",
        "\n",
        "# Целевая папка для датасета\n",
        "dataset_dir = \"/content/drive/MyDrive/Sber_Test/dataset\"\n",
        "images_train_dir = os.path.join(dataset_dir, \"images\", \"train\")\n",
        "images_val_dir = os.path.join(dataset_dir, \"images\", \"val\")\n",
        "images_test_dir = os.path.join(dataset_dir, \"images\", \"test\")\n",
        "labels_train_dir = os.path.join(dataset_dir, \"labels\", \"train\")\n",
        "labels_val_dir = os.path.join(dataset_dir, \"labels\", \"val\")\n",
        "labels_test_dir = os.path.join(dataset_dir, \"labels\", \"test\")\n",
        "\n",
        "# Создание директорий\n",
        "os.makedirs(images_train_dir, exist_ok=True)\n",
        "os.makedirs(images_val_dir, exist_ok=True)\n",
        "os.makedirs(images_test_dir, exist_ok=True)\n",
        "os.makedirs(labels_train_dir, exist_ok=True)\n",
        "os.makedirs(labels_val_dir, exist_ok=True)\n",
        "os.makedirs(labels_test_dir, exist_ok=True)\n",
        "\n",
        "# Получение списка изображений\n",
        "image_files = [f for f in os.listdir(images_dir) if f.endswith(('.jpg', '.png'))]\n",
        "image_files.sort()  # Сортировка для соответствия с аннотациями\n",
        "\n",
        "# Проверка наличия аннотаций для каждого изображения\n",
        "valid_images = []\n",
        "for img in image_files:\n",
        "    label_file = os.path.splitext(img)[0] + '.txt'\n",
        "    if os.path.exists(os.path.join(labels_dir, label_file)):\n",
        "        valid_images.append(img)\n",
        "    else:\n",
        "        print(f\"Аннотация для {img} не найдена, пропускается.\")\n",
        "\n",
        "# Разделение на train, val, test\n",
        "train_images, temp_images = train_test_split(valid_images, train_size=0.70, random_state=42)\n",
        "val_images, test_images = train_test_split(temp_images, train_size=0.50, random_state=42)  # 50% от оставшихся 30% = 15%\n",
        "\n",
        "# Функция для копирования файлов\n",
        "def copy_files(file_list, src_img_dir, src_label_dir, dst_img_dir, dst_label_dir):\n",
        "    for img in file_list:\n",
        "        label = os.path.splitext(img)[0] + '.txt'\n",
        "        # Копирование изображения\n",
        "        shutil.copy(os.path.join(src_img_dir, img), os.path.join(dst_img_dir, img))\n",
        "        # Копирование аннотации\n",
        "        shutil.copy(os.path.join(src_label_dir, label), os.path.join(dst_label_dir, label))\n",
        "\n",
        "# Копирование файлов в соответствующие папки\n",
        "copy_files(train_images, images_dir, labels_dir, images_train_dir, labels_train_dir)\n",
        "copy_files(val_images, images_dir, labels_dir, images_val_dir, labels_val_dir)\n",
        "copy_files(test_images, images_dir, labels_dir, images_test_dir, labels_test_dir)\n",
        "\n",
        "# Проверка количества файлов\n",
        "print(f\"Train: {len(train_images)} изображений\")\n",
        "print(f\"Val: {len(val_images)} изображений\")\n",
        "print(f\"Test: {len(test_images)} изображений\")\n",
        "\n",
        "# Создание data.yaml\n",
        "data_yaml = f\"\"\"\n",
        "train: {images_train_dir}\n",
        "val: {images_val_dir}\n",
        "test: {images_test_dir}\n",
        "nc: 3\n",
        "names: ['yellow', 'red', 'house']\n",
        "\"\"\"\n",
        "\n",
        "with open(os.path.join(dataset_dir, \"data.yaml\"), 'w', encoding='utf-8') as f:\n",
        "    f.write(data_yaml)\n",
        "\n",
        "print(f\"data.yaml сохранён в {dataset_dir}\")"
      ],
      "metadata": {
        "colab": {
          "base_uri": "https://localhost:8080/"
        },
        "id": "E0XpAQl--nBM",
        "outputId": "eb6201c3-11f5-4b5b-c28b-0711fe42661c"
      },
      "execution_count": null,
      "outputs": [
        {
          "output_type": "stream",
          "name": "stdout",
          "text": [
            "Train: 968 изображений\n",
            "Val: 208 изображений\n",
            "Test: 208 изображений\n",
            "data.yaml сохранён в /content/drive/MyDrive/Sber_Test/dataset\n"
          ]
        }
      ]
    }
  ]
}